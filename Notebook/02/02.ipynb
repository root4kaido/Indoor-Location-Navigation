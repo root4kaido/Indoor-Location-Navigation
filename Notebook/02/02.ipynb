{
 "cells": [
  {
   "cell_type": "markdown",
   "id": "australian-enough",
   "metadata": {},
   "source": [
    "# mlflow"
   ]
  },
  {
   "cell_type": "code",
   "execution_count": 29,
   "id": "excited-innocent",
   "metadata": {},
   "outputs": [],
   "source": [
    "import mlflow\n",
    "import mlflow.lightgbm\n",
    "import contextlib\n",
    "import ipykernel\n",
    "from notebook import notebookapp\n",
    "import urllib\n",
    "import json"
   ]
  },
  {
   "cell_type": "code",
   "execution_count": 2,
   "id": "collectible-judge",
   "metadata": {},
   "outputs": [],
   "source": [
    "def get_notebook_path():\n",
    "    '''\n",
    "    mlflow に notebook をそのまま保存する際に notebook のパスを取得するのに使います。\n",
    "    単純にファイル名が取れないためかなりややこしいことになっています。\n",
    "    使用するには jupyterlab が token ありで起動していないといけません。\n",
    "    '''\n",
    "    connection_file = os.path.basename(ipykernel.get_connection_file())\n",
    "    kernel_id = connection_file.split('-', 1)[1].split('.')[0]\n",
    "\n",
    "    for server in notebookapp.list_running_servers():\n",
    "        try:\n",
    "            if server['token'] == '' and not server['password']:  # No token and no password, ahem...\n",
    "                req = urllib.request.urlopen(server['url'] + 'api/sessions')\n",
    "            elif server['token'] != '':\n",
    "                req = urllib.request.urlopen(server['url'] + 'api/sessions?token=' + server['token'])\n",
    "            else:\n",
    "                continue\n",
    "            sessions = json.load(req)\n",
    "            for sess in sessions:\n",
    "                if sess['kernel']['id'] == kernel_id:\n",
    "                    return os.path.join(server['notebook_dir'], sess['notebook']['path'])\n",
    "        except Exception:\n",
    "            raise\n",
    "    raise EnvironmentError('JupyterLab の token を指定するか、パスワードを無効化してください。')"
   ]
  },
  {
   "cell_type": "code",
   "execution_count": 3,
   "id": "second-fault",
   "metadata": {},
   "outputs": [],
   "source": [
    "class MLLogger:\n",
    "    ...\n",
    "\n",
    "    @contextlib.contextmanager\n",
    "    def start(self, experiment_name: str, run_name: str) -> None:\n",
    "        mlflow.set_experiment(experiment_name)\n",
    "        with mlflow.start_run(run_name=run_name):\n",
    "#             self.log_running()\n",
    "#             self.log_user(self._user)\n",
    "#             self.log_notebook()  # <- ここで notebook をアップロード\n",
    "            try:\n",
    "                yield\n",
    "                self.log_notebook()  # <- ここで notebook をアップロード\n",
    "#                 mlflow.log_success()\n",
    "            except (Exception, KeyboardInterrupt):\n",
    "#                 mlflow.log_failure()\n",
    "                raise\n",
    "    ...\n"
   ]
  },
  {
   "cell_type": "code",
   "execution_count": 4,
   "id": "environmental-trauma",
   "metadata": {},
   "outputs": [],
   "source": [
    "def log_notebook():\n",
    "    '''\n",
    "    notebook を mlflow に保存します。\n",
    "    '''\n",
    "    notebook = get_notebook_path()  # notebook のパスを取得\n",
    "    mlflow.log_artifact(notebook)  # mlflow.log_artifact(file) を呼んでるだけ"
   ]
  },
  {
   "cell_type": "markdown",
   "id": "digital-cricket",
   "metadata": {},
   "source": [
    "# Import"
   ]
  },
  {
   "cell_type": "code",
   "execution_count": 30,
   "id": "decent-frame",
   "metadata": {},
   "outputs": [],
   "source": [
    "# ------------------------------------------------------------------------------\n",
    "# Import libraries\n",
    "# ------------------------------------------------------------------------------\n",
    "import numpy as np\n",
    "import pandas as pd\n",
    "import scipy.stats as stats\n",
    "from pathlib import Path\n",
    "import glob\n",
    "\n",
    "from sklearn.model_selection import KFold\n",
    "import lightgbm as lgb\n",
    "\n",
    "import psutil\n",
    "import random\n",
    "import os\n",
    "import time\n",
    "import sys\n",
    "import math\n",
    "from contextlib import contextmanager\n",
    "import glob\n"
   ]
  },
  {
   "cell_type": "markdown",
   "id": "powered-expert",
   "metadata": {},
   "source": [
    "# Setting"
   ]
  },
  {
   "cell_type": "code",
   "execution_count": 31,
   "id": "greek-london",
   "metadata": {},
   "outputs": [],
   "source": [
    "# ------------------------------------------------------------------------------\n",
    "# File path definition\n",
    "# ------------------------------------------------------------------------------\n",
    "DATA_DIR = Path(\"/home/knikaido/work/Indoor-Location-Navigation/data/\")\n",
    "WIFI_DIR = DATA_DIR / 'indoor-navigation-and-location-wifi-features'\n",
    "MLFLOW_DIR = DATA_DIR / 'mlflow/mlruns'\n",
    "OUTPUT_DIR = Path('./output/')\n",
    "\n",
    "LOG_PATH = OUTPUT_DIR / \"log\"\n",
    "LOG_PATH.mkdir(parents=True, exist_ok=True)"
   ]
  },
  {
   "cell_type": "code",
   "execution_count": 7,
   "id": "patient-wheel",
   "metadata": {},
   "outputs": [],
   "source": [
    "floor_dict = {'B1':-1, 'F1':0, 'F2':1 , 'F3':2, 'F4':3, 'F5':4, 'F6':5, 'F7':6, 'B2':-2, '1F':0, '2F':1,\n",
    "       '3F':2, '4F':3, '5F':4, '6F':5, '7F':6, '8F':7, '9F':8, 'F8':7}"
   ]
  },
  {
   "cell_type": "code",
   "execution_count": 8,
   "id": "adverse-wrong",
   "metadata": {},
   "outputs": [],
   "source": [
    "# ------------------------------------------------------------------------------\n",
    "# Fixed values\n",
    "# ------------------------------------------------------------------------------\n",
    "N_SPLITS = 5\n",
    "SEED = 777\n",
    "EXP_NUM = 2\n",
    "IS_SAVE = True"
   ]
  },
  {
   "cell_type": "code",
   "execution_count": 9,
   "id": "freelance-beginning",
   "metadata": {},
   "outputs": [],
   "source": [
    "# ------------------------------------------------------------------------------\n",
    "# Define parameters for models\n",
    "# ------------------------------------------------------------------------------\n",
    "lgb_params = {'objective': 'root_mean_squared_error',\n",
    "              'boosting_type': 'gbdt',\n",
    "              'n_estimators': 50000,\n",
    "              'learning_rate': 0.05,\n",
    "              'num_leaves': 90,\n",
    "              'colsample_bytree': 0.4,\n",
    "              'subsample': 0.6,\n",
    "              'subsample_freq': 2,\n",
    "              'bagging_seed': SEED,\n",
    "              'reg_alpha': 8,\n",
    "              'reg_lambda': 2,\n",
    "              'random_state': SEED,\n",
    "              'n_jobs': -1\n",
    "              }\n",
    "\n",
    "lgb_f_params = {'objective': 'multiclass',\n",
    "                'boosting_type': 'gbdt',\n",
    "                'n_estimators': 50000,\n",
    "                'learning_rate': 0.1,\n",
    "                'num_leaves': 90,\n",
    "                'colsample_bytree': 0.4,\n",
    "                'subsample': 0.6,\n",
    "                'subsample_freq': 2,\n",
    "                'bagging_seed': SEED,\n",
    "                'reg_alpha': 10,\n",
    "                'reg_lambda': 2,\n",
    "                'random_state': SEED,\n",
    "                'n_jobs': -1\n",
    "                }\n"
   ]
  },
  {
   "cell_type": "code",
   "execution_count": 10,
   "id": "informal-rachel",
   "metadata": {},
   "outputs": [],
   "source": [
    "# ------------------------------------------------------------------------------\n",
    "# Utilities\n",
    "# ------------------------------------------------------------------------------\n",
    "@contextmanager\n",
    "def timer(name: str):\n",
    "    t0 = time.time()\n",
    "    p = psutil.Process(os.getpid())\n",
    "    m0 = p.memory_info()[0] / 2. ** 30\n",
    "    try:\n",
    "        yield\n",
    "    finally:\n",
    "        m1 = p.memory_info()[0] / 2. ** 30\n",
    "        delta = m1 - m0\n",
    "        sign = '+' if delta >= 0 else '-'\n",
    "        delta = math.fabs(delta)\n",
    "        print(f\"[{m1:.1f}GB({sign}{delta:.1f}GB): {time.time() - t0:.3f}sec] {name}\", file=sys.stderr)\n",
    "\n",
    "\n",
    "def set_seed(seed=42):\n",
    "    random.seed(seed)\n",
    "    os.environ[\"PYTHONHASHSEED\"] = str(seed)\n",
    "    np.random.seed(seed)\n",
    "\n",
    "    \n",
    "def comp_metric(xhat, yhat, fhat, x, y, f):\n",
    "    pos_loss = np.sum(np.sqrt(np.power(xhat-x, 2) + np.power(yhat-y, 2)) / xhat.shape[0])\n",
    "    floor_loss = np.sum(15 * np.abs(fhat-f) / xhat.shape[0])\n",
    "    print(f'pos_loss = {pos_loss}, floor_loss = {floor_loss}')\n",
    "    intermediate = pos_loss + floor_loss\n",
    "    return intermediate\n",
    "\n",
    "\n",
    "def score_log(df: pd.DataFrame, num_files: int, nam_file: str, data_shape: tuple, n_fold: int, seed: int, mpe: float):\n",
    "    score_dict = {'n_files': num_files, 'file_name': nam_file, 'shape': data_shape, 'fold': n_fold, 'seed': seed, 'score': mpe}\n",
    "    # noinspection PyTypeChecker\n",
    "    df = pd.concat([df, pd.DataFrame.from_dict([score_dict])])\n",
    "    df.to_csv(LOG_PATH / f\"log_score.csv\", index=False)\n",
    "    return df\n"
   ]
  },
  {
   "cell_type": "code",
   "execution_count": 11,
   "id": "mysterious-power",
   "metadata": {},
   "outputs": [],
   "source": [
    "# wandb.init(project='Indoor_Location_Navigation', entity='sqrt4kaido', name=str(f'exp{EXP_NUM}'))\n",
    "# wandb.config.pos_param = lgb_params\n",
    "# wandb.config.f_param = lgb_f_params\n",
    "set_seed(SEED)\n",
    "\n",
    "# ------------------------------------------------------------------------------\n",
    "# Read data\n",
    "# ------------------------------------------------------------------------------\n",
    "# feature_dir = \"../input/indoor-navigation-and-location-wifi-features\"\n",
    "train_files = sorted(glob.glob(str(WIFI_DIR / '*_train.csv')))\n",
    "test_files = sorted(glob.glob(str(WIFI_DIR / '*_test.csv')))\n",
    "subm = pd.read_csv(str(DATA_DIR / 'indoor-location-navigation/sample_submission.csv'), index_col=0)"
   ]
  },
  {
   "cell_type": "code",
   "execution_count": 12,
   "id": "alleged-catalyst",
   "metadata": {},
   "outputs": [],
   "source": [
    "# oof_floor = pd.read_csv('../01/oof_preds.csv')\n",
    "# oof_floor[\"path\"] = oof_floor[\"path\"].str.replace(\".txt\", \"\")\n",
    "# oof_floor"
   ]
  },
  {
   "cell_type": "code",
   "execution_count": 13,
   "id": "inappropriate-annual",
   "metadata": {},
   "outputs": [],
   "source": [
    "# sub_floor = pd.read_csv('../01/sub1.csv')\n",
    "# sub_floor"
   ]
  },
  {
   "cell_type": "code",
   "execution_count": 14,
   "id": "indirect-interim",
   "metadata": {},
   "outputs": [
    {
     "name": "stderr",
     "output_type": "stream",
     "text": [
      "2021/03/24 18:29:52 WARNING mlflow.tracking.context.git_context: Failed to import Git (the Git executable is probably not on your PATH), so Git SHA is not available. Error: Failed to initialize: Bad git executable.\n",
      "The git executable must be specified in one of the following ways:\n",
      "    - be included in your $PATH\n",
      "    - be set via $GIT_PYTHON_GIT_EXECUTABLE\n",
      "    - explicitly set via git.refresh()\n",
      "\n",
      "All git commands will error until this is rectified.\n",
      "\n",
      "This initial warning can be silenced or aggravated in the future by setting the\n",
      "$GIT_PYTHON_REFRESH environment variable. Use one of the following values:\n",
      "    - quiet|q|silence|s|none|n|0: for no warning or exception\n",
      "    - warn|w|warning|1: for a printed warning\n",
      "    - error|e|raise|r|2: for a raised exception\n",
      "\n",
      "Example:\n",
      "    export GIT_PYTHON_REFRESH=quiet\n",
      "\n"
     ]
    }
   ],
   "source": [
    "if IS_SAVE == True:\n",
    "\n",
    "    mlflow.set_tracking_uri(str(MLFLOW_DIR))\n",
    "    mlflow.start_run(run_name=str(f'exp{EXP_NUM}'))\n",
    "    log_notebook()\n",
    "\n",
    "    for k,v in lgb_params.items():\n",
    "        mlflow.log_param('pos_'+k,v)\n",
    "\n",
    "    for k,v in lgb_f_params.items():\n",
    "        mlflow.log_param('floor_'+k,v)\n",
    "    mlflow.lightgbm.autolog()"
   ]
  },
  {
   "cell_type": "markdown",
   "id": "professional-blair",
   "metadata": {},
   "source": [
    "# Train"
   ]
  },
  {
   "cell_type": "code",
   "execution_count": 15,
   "id": "announced-garden",
   "metadata": {
    "collapsed": true,
    "jupyter": {
     "outputs_hidden": true
    }
   },
   "outputs": [
    {
     "name": "stderr",
     "output_type": "stream",
     "text": [
      "[1.2GB(+0.1GB): 46.793sec] fit X\n"
     ]
    },
    {
     "name": "stdout",
     "output_type": "stream",
     "text": [
      "Training until validation scores don't improve for 200 rounds\n",
      "[200]\ttraining's rmse: 1.5765\tvalid_1's rmse: 2.91335\n",
      "[400]\ttraining's rmse: 1.05278\tvalid_1's rmse: 2.7442\n",
      "[600]\ttraining's rmse: 0.808293\tvalid_1's rmse: 2.69625\n",
      "[800]\ttraining's rmse: 0.662952\tvalid_1's rmse: 2.67239\n",
      "[1000]\ttraining's rmse: 0.567005\tvalid_1's rmse: 2.65954\n",
      "[1200]\ttraining's rmse: 0.499882\tvalid_1's rmse: 2.65336\n",
      "[1400]\ttraining's rmse: 0.449858\tvalid_1's rmse: 2.64967\n",
      "[1600]\ttraining's rmse: 0.41228\tvalid_1's rmse: 2.64533\n",
      "[1800]\ttraining's rmse: 0.380713\tvalid_1's rmse: 2.64361\n",
      "[2000]\ttraining's rmse: 0.355352\tvalid_1's rmse: 2.64223\n",
      "[2200]\ttraining's rmse: 0.333896\tvalid_1's rmse: 2.63965\n",
      "[2400]\ttraining's rmse: 0.315989\tvalid_1's rmse: 2.6395\n",
      "Early stopping, best iteration is:\n",
      "[2214]\ttraining's rmse: 0.332202\tvalid_1's rmse: 2.63923\n"
     ]
    },
    {
     "name": "stderr",
     "output_type": "stream",
     "text": [
      "[1.2GB(+0.0GB): 27.190sec] fit Y\n"
     ]
    },
    {
     "name": "stdout",
     "output_type": "stream",
     "text": [
      "Training until validation scores don't improve for 20 rounds\n",
      "[200]\ttraining's multi_logloss: 0.0291855\tvalid_1's multi_logloss: 0.0344891\n",
      "[400]\ttraining's multi_logloss: 0.028468\tvalid_1's multi_logloss: 0.0336646\n",
      "[600]\ttraining's multi_logloss: 0.0282795\tvalid_1's multi_logloss: 0.0334365\n",
      "Early stopping, best iteration is:\n",
      "[670]\ttraining's multi_logloss: 0.0282124\tvalid_1's multi_logloss: 0.0333784\n"
     ]
    },
    {
     "name": "stderr",
     "output_type": "stream",
     "text": [
      "[1.2GB(+0.0GB): 12.340sec] fit F\n"
     ]
    },
    {
     "name": "stdout",
     "output_type": "stream",
     "text": [
      "pos_loss = 3.561924512329458, floor_loss = 0.03225806451612903\n",
      "fold 0: mean position error 3.594182576845587\n"
     ]
    },
    {
     "name": "stderr",
     "output_type": "stream",
     "text": [
      "[1.2GB(-0.0GB): 42.512sec] fit X\n"
     ]
    },
    {
     "name": "stdout",
     "output_type": "stream",
     "text": [
      "Training until validation scores don't improve for 200 rounds\n",
      "[200]\ttraining's rmse: 1.57638\tvalid_1's rmse: 2.72441\n",
      "[400]\ttraining's rmse: 1.04472\tvalid_1's rmse: 2.57218\n",
      "[600]\ttraining's rmse: 0.795451\tvalid_1's rmse: 2.53018\n",
      "[800]\ttraining's rmse: 0.649833\tvalid_1's rmse: 2.5111\n",
      "[1000]\ttraining's rmse: 0.554653\tvalid_1's rmse: 2.49946\n",
      "[1200]\ttraining's rmse: 0.490628\tvalid_1's rmse: 2.49341\n",
      "[1400]\ttraining's rmse: 0.442134\tvalid_1's rmse: 2.48971\n",
      "[1600]\ttraining's rmse: 0.404746\tvalid_1's rmse: 2.48656\n",
      "[1800]\ttraining's rmse: 0.375064\tvalid_1's rmse: 2.48462\n",
      "[2000]\ttraining's rmse: 0.351444\tvalid_1's rmse: 2.48272\n",
      "[2200]\ttraining's rmse: 0.330288\tvalid_1's rmse: 2.48176\n",
      "[2400]\ttraining's rmse: 0.312466\tvalid_1's rmse: 2.4806\n",
      "[2600]\ttraining's rmse: 0.298301\tvalid_1's rmse: 2.47967\n",
      "Early stopping, best iteration is:\n",
      "[2567]\ttraining's rmse: 0.300214\tvalid_1's rmse: 2.47921\n"
     ]
    },
    {
     "name": "stderr",
     "output_type": "stream",
     "text": [
      "[1.2GB(+0.0GB): 33.702sec] fit Y\n"
     ]
    },
    {
     "name": "stdout",
     "output_type": "stream",
     "text": [
      "Training until validation scores don't improve for 20 rounds\n",
      "[200]\ttraining's multi_logloss: 0.029125\tvalid_1's multi_logloss: 0.0318374\n",
      "[400]\ttraining's multi_logloss: 0.0286232\tvalid_1's multi_logloss: 0.0312888\n",
      "Early stopping, best iteration is:\n",
      "[489]\ttraining's multi_logloss: 0.0283815\tvalid_1's multi_logloss: 0.0310239\n"
     ]
    },
    {
     "name": "stderr",
     "output_type": "stream",
     "text": [
      "[1.2GB(-0.0GB): 10.043sec] fit F\n"
     ]
    },
    {
     "name": "stdout",
     "output_type": "stream",
     "text": [
      "pos_loss = 3.3933373091601657, floor_loss = 0.008068854222700376\n",
      "fold 1: mean position error 3.401406163382866\n"
     ]
    },
    {
     "name": "stderr",
     "output_type": "stream",
     "text": [
      "[1.3GB(+0.0GB): 52.401sec] fit X\n"
     ]
    },
    {
     "name": "stdout",
     "output_type": "stream",
     "text": [
      "Training until validation scores don't improve for 200 rounds\n",
      "[200]\ttraining's rmse: 1.61203\tvalid_1's rmse: 3.04374\n",
      "[400]\ttraining's rmse: 1.07696\tvalid_1's rmse: 2.86046\n",
      "[600]\ttraining's rmse: 0.824226\tvalid_1's rmse: 2.79533\n",
      "[800]\ttraining's rmse: 0.672414\tvalid_1's rmse: 2.76786\n",
      "[1000]\ttraining's rmse: 0.576035\tvalid_1's rmse: 2.7516\n",
      "[1200]\ttraining's rmse: 0.507491\tvalid_1's rmse: 2.74124\n",
      "[1400]\ttraining's rmse: 0.456794\tvalid_1's rmse: 2.73454\n",
      "[1600]\ttraining's rmse: 0.420185\tvalid_1's rmse: 2.72943\n",
      "[1800]\ttraining's rmse: 0.388199\tvalid_1's rmse: 2.7268\n",
      "[2000]\ttraining's rmse: 0.363991\tvalid_1's rmse: 2.72478\n",
      "[2200]\ttraining's rmse: 0.341901\tvalid_1's rmse: 2.72261\n",
      "[2400]\ttraining's rmse: 0.323733\tvalid_1's rmse: 2.72079\n",
      "[2600]\ttraining's rmse: 0.307267\tvalid_1's rmse: 2.71884\n",
      "[2800]\ttraining's rmse: 0.294777\tvalid_1's rmse: 2.71703\n",
      "[3000]\ttraining's rmse: 0.282939\tvalid_1's rmse: 2.71547\n",
      "[3200]\ttraining's rmse: 0.272726\tvalid_1's rmse: 2.714\n",
      "Early stopping, best iteration is:\n",
      "[3198]\ttraining's rmse: 0.272818\tvalid_1's rmse: 2.7139\n"
     ]
    },
    {
     "name": "stderr",
     "output_type": "stream",
     "text": [
      "[1.3GB(-0.0GB): 36.883sec] fit Y\n"
     ]
    },
    {
     "name": "stdout",
     "output_type": "stream",
     "text": [
      "Training until validation scores don't improve for 20 rounds\n",
      "[200]\ttraining's multi_logloss: 0.0289016\tvalid_1's multi_logloss: 0.0323309\n",
      "[400]\ttraining's multi_logloss: 0.0285947\tvalid_1's multi_logloss: 0.0320011\n",
      "[600]\ttraining's multi_logloss: 0.0283212\tvalid_1's multi_logloss: 0.0317006\n",
      "Early stopping, best iteration is:\n",
      "[683]\ttraining's multi_logloss: 0.0282457\tvalid_1's multi_logloss: 0.0316233\n"
     ]
    },
    {
     "name": "stderr",
     "output_type": "stream",
     "text": [
      "[1.3GB(+0.0GB): 13.262sec] fit F\n"
     ]
    },
    {
     "name": "stdout",
     "output_type": "stream",
     "text": [
      "pos_loss = 3.4694001913708696, floor_loss = 0.01613770844540075\n",
      "fold 2: mean position error 3.4855378998162703\n"
     ]
    },
    {
     "name": "stderr",
     "output_type": "stream",
     "text": [
      "[1.2GB(-0.0GB): 33.081sec] fit X\n"
     ]
    },
    {
     "name": "stdout",
     "output_type": "stream",
     "text": [
      "Training until validation scores don't improve for 200 rounds\n",
      "[200]\ttraining's rmse: 1.62288\tvalid_1's rmse: 2.87166\n",
      "[400]\ttraining's rmse: 1.09276\tvalid_1's rmse: 2.69403\n",
      "[600]\ttraining's rmse: 0.841191\tvalid_1's rmse: 2.64432\n",
      "[800]\ttraining's rmse: 0.68749\tvalid_1's rmse: 2.62347\n",
      "[1000]\ttraining's rmse: 0.586804\tvalid_1's rmse: 2.61226\n",
      "[1200]\ttraining's rmse: 0.515671\tvalid_1's rmse: 2.60834\n",
      "[1400]\ttraining's rmse: 0.462345\tvalid_1's rmse: 2.60537\n",
      "[1600]\ttraining's rmse: 0.421576\tvalid_1's rmse: 2.60265\n",
      "[1800]\ttraining's rmse: 0.389024\tvalid_1's rmse: 2.60119\n",
      "[2000]\ttraining's rmse: 0.362823\tvalid_1's rmse: 2.60038\n",
      "[2200]\ttraining's rmse: 0.341515\tvalid_1's rmse: 2.599\n",
      "[2400]\ttraining's rmse: 0.322753\tvalid_1's rmse: 2.59746\n",
      "[2600]\ttraining's rmse: 0.307305\tvalid_1's rmse: 2.59781\n",
      "[2800]\ttraining's rmse: 0.293545\tvalid_1's rmse: 2.59651\n",
      "[3000]\ttraining's rmse: 0.281892\tvalid_1's rmse: 2.59677\n",
      "Early stopping, best iteration is:\n",
      "[2822]\ttraining's rmse: 0.292089\tvalid_1's rmse: 2.59632\n"
     ]
    },
    {
     "name": "stderr",
     "output_type": "stream",
     "text": [
      "[1.2GB(-0.0GB): 32.684sec] fit Y\n"
     ]
    },
    {
     "name": "stdout",
     "output_type": "stream",
     "text": [
      "Training until validation scores don't improve for 20 rounds\n",
      "[200]\ttraining's multi_logloss: 0.029374\tvalid_1's multi_logloss: 0.0334755\n",
      "[400]\ttraining's multi_logloss: 0.029038\tvalid_1's multi_logloss: 0.0331202\n",
      "[600]\ttraining's multi_logloss: 0.0286616\tvalid_1's multi_logloss: 0.0327627\n",
      "Early stopping, best iteration is:\n",
      "[739]\ttraining's multi_logloss: 0.0284868\tvalid_1's multi_logloss: 0.0325636\n"
     ]
    },
    {
     "name": "stderr",
     "output_type": "stream",
     "text": [
      "[1.2GB(-0.0GB): 15.589sec] fit F\n"
     ]
    },
    {
     "name": "stdout",
     "output_type": "stream",
     "text": [
      "pos_loss = 3.403869206123212, floor_loss = 0.02420656266810113\n",
      "fold 3: mean position error 3.428075768791313\n"
     ]
    },
    {
     "name": "stderr",
     "output_type": "stream",
     "text": [
      "[1.3GB(+0.0GB): 37.342sec] fit X\n"
     ]
    },
    {
     "name": "stdout",
     "output_type": "stream",
     "text": [
      "Training until validation scores don't improve for 200 rounds\n",
      "[200]\ttraining's rmse: 1.59462\tvalid_1's rmse: 2.86236\n",
      "[400]\ttraining's rmse: 1.06915\tvalid_1's rmse: 2.68323\n",
      "[600]\ttraining's rmse: 0.827446\tvalid_1's rmse: 2.62739\n",
      "[800]\ttraining's rmse: 0.682554\tvalid_1's rmse: 2.59825\n",
      "[1000]\ttraining's rmse: 0.588236\tvalid_1's rmse: 2.58012\n",
      "[1200]\ttraining's rmse: 0.521472\tvalid_1's rmse: 2.57114\n",
      "[1400]\ttraining's rmse: 0.471788\tvalid_1's rmse: 2.56141\n",
      "[1600]\ttraining's rmse: 0.432046\tvalid_1's rmse: 2.55529\n",
      "[1800]\ttraining's rmse: 0.40062\tvalid_1's rmse: 2.55014\n",
      "[2000]\ttraining's rmse: 0.375891\tvalid_1's rmse: 2.54677\n",
      "[2200]\ttraining's rmse: 0.355299\tvalid_1's rmse: 2.54382\n",
      "[2400]\ttraining's rmse: 0.335779\tvalid_1's rmse: 2.54173\n",
      "[2600]\ttraining's rmse: 0.320099\tvalid_1's rmse: 2.53895\n",
      "[2800]\ttraining's rmse: 0.30629\tvalid_1's rmse: 2.53762\n",
      "[3000]\ttraining's rmse: 0.294448\tvalid_1's rmse: 2.53715\n",
      "[3200]\ttraining's rmse: 0.283075\tvalid_1's rmse: 2.5354\n",
      "[3400]\ttraining's rmse: 0.272857\tvalid_1's rmse: 2.5343\n",
      "[3600]\ttraining's rmse: 0.264158\tvalid_1's rmse: 2.53308\n",
      "[3800]\ttraining's rmse: 0.255824\tvalid_1's rmse: 2.53207\n",
      "[4000]\ttraining's rmse: 0.249218\tvalid_1's rmse: 2.53131\n",
      "[4200]\ttraining's rmse: 0.242955\tvalid_1's rmse: 2.5305\n",
      "[4400]\ttraining's rmse: 0.23659\tvalid_1's rmse: 2.52992\n",
      "[4600]\ttraining's rmse: 0.230682\tvalid_1's rmse: 2.5292\n",
      "[4800]\ttraining's rmse: 0.225676\tvalid_1's rmse: 2.52795\n",
      "[5000]\ttraining's rmse: 0.22096\tvalid_1's rmse: 2.52783\n",
      "Early stopping, best iteration is:\n",
      "[4907]\ttraining's rmse: 0.223114\tvalid_1's rmse: 2.52752\n"
     ]
    },
    {
     "name": "stderr",
     "output_type": "stream",
     "text": [
      "[1.3GB(+0.0GB): 46.350sec] fit Y\n"
     ]
    },
    {
     "name": "stdout",
     "output_type": "stream",
     "text": [
      "Training until validation scores don't improve for 20 rounds\n",
      "[200]\ttraining's multi_logloss: 0.0293795\tvalid_1's multi_logloss: 0.0316815\n",
      "Early stopping, best iteration is:\n",
      "[253]\ttraining's multi_logloss: 0.0292807\tvalid_1's multi_logloss: 0.0315749\n"
     ]
    },
    {
     "name": "stderr",
     "output_type": "stream",
     "text": [
      "[1.3GB(-0.0GB): 5.831sec] fit F\n"
     ]
    },
    {
     "name": "stdout",
     "output_type": "stream",
     "text": [
      "pos_loss = 3.253032426088165, floor_loss = 0.02420656266810113\n",
      "fold 4: mean position error 3.277238988756266\n",
      "*+*+*+*+*+*+*+*+*+*+*+*+*+*+*+*+*+*+*+*+*+*+*+*+*+*+*+*+*+*+*+*+*+*+*+*+*+*+*+*+\n",
      "file #0, shape=(9296, 3401), name=5a0546857ecc773753327266_train.csv\n",
      "pos_loss = 3.4163283929325443, floor_loss = 0.020976764199655766\n",
      "mean position error 3.4373051571322\n",
      "*+*+*+*+*+*+*+*+*+*+*+*+*+*+*+*+*+*+*+*+*+*+*+*+*+*+*+*+*+*+*+*+*+*+*+*+*+*+*+*+\n"
     ]
    },
    {
     "name": "stderr",
     "output_type": "stream",
     "text": [
      "[1.2GB(+0.0GB): 23.407sec] fit X\n"
     ]
    },
    {
     "name": "stdout",
     "output_type": "stream",
     "text": [
      "Training until validation scores don't improve for 200 rounds\n",
      "[200]\ttraining's rmse: 2.08431\tvalid_1's rmse: 3.98449\n",
      "[400]\ttraining's rmse: 1.35497\tvalid_1's rmse: 3.77705\n",
      "[600]\ttraining's rmse: 1.01718\tvalid_1's rmse: 3.72218\n",
      "[800]\ttraining's rmse: 0.815952\tvalid_1's rmse: 3.69506\n",
      "[1000]\ttraining's rmse: 0.681596\tvalid_1's rmse: 3.68548\n",
      "[1200]\ttraining's rmse: 0.589113\tvalid_1's rmse: 3.67987\n",
      "[1400]\ttraining's rmse: 0.522361\tvalid_1's rmse: 3.67451\n",
      "[1600]\ttraining's rmse: 0.470169\tvalid_1's rmse: 3.67194\n",
      "[1800]\ttraining's rmse: 0.431265\tvalid_1's rmse: 3.67262\n",
      "Early stopping, best iteration is:\n",
      "[1684]\ttraining's rmse: 0.453089\tvalid_1's rmse: 3.67097\n"
     ]
    },
    {
     "name": "stderr",
     "output_type": "stream",
     "text": [
      "[1.2GB(+0.0GB): 22.307sec] fit Y\n"
     ]
    },
    {
     "name": "stdout",
     "output_type": "stream",
     "text": [
      "Training until validation scores don't improve for 20 rounds\n",
      "Early stopping, best iteration is:\n",
      "[156]\ttraining's multi_logloss: 0.0376985\tvalid_1's multi_logloss: 0.0427155\n"
     ]
    },
    {
     "name": "stderr",
     "output_type": "stream",
     "text": [
      "[1.2GB(-0.0GB): 5.122sec] fit F\n"
     ]
    },
    {
     "name": "stdout",
     "output_type": "stream",
     "text": [
      "pos_loss = 4.410802735724599, floor_loss = 0.0\n",
      "fold 0: mean position error 4.410802735724599\n"
     ]
    },
    {
     "name": "stderr",
     "output_type": "stream",
     "text": [
      "[1.2GB(+0.0GB): 25.385sec] fit X\n"
     ]
    },
    {
     "name": "stdout",
     "output_type": "stream",
     "text": [
      "Training until validation scores don't improve for 200 rounds\n",
      "[200]\ttraining's rmse: 2.10966\tvalid_1's rmse: 4.02007\n",
      "[400]\ttraining's rmse: 1.36159\tvalid_1's rmse: 3.73992\n",
      "[600]\ttraining's rmse: 1.02173\tvalid_1's rmse: 3.66292\n",
      "[800]\ttraining's rmse: 0.818106\tvalid_1's rmse: 3.64028\n",
      "[1000]\ttraining's rmse: 0.68549\tvalid_1's rmse: 3.62994\n",
      "[1200]\ttraining's rmse: 0.592883\tvalid_1's rmse: 3.61969\n",
      "[1400]\ttraining's rmse: 0.525931\tvalid_1's rmse: 3.6152\n",
      "[1600]\ttraining's rmse: 0.476258\tvalid_1's rmse: 3.61216\n",
      "[1800]\ttraining's rmse: 0.438046\tvalid_1's rmse: 3.60961\n",
      "[2000]\ttraining's rmse: 0.407795\tvalid_1's rmse: 3.60786\n",
      "[2200]\ttraining's rmse: 0.381636\tvalid_1's rmse: 3.60584\n",
      "Early stopping, best iteration is:\n",
      "[2159]\ttraining's rmse: 0.386288\tvalid_1's rmse: 3.60501\n"
     ]
    },
    {
     "name": "stderr",
     "output_type": "stream",
     "text": [
      "[1.2GB(+0.0GB): 24.443sec] fit Y\n"
     ]
    },
    {
     "name": "stdout",
     "output_type": "stream",
     "text": [
      "Training until validation scores don't improve for 20 rounds\n",
      "[200]\ttraining's multi_logloss: 0.0374323\tvalid_1's multi_logloss: 0.0443076\n",
      "[400]\ttraining's multi_logloss: 0.0365931\tvalid_1's multi_logloss: 0.0434422\n",
      "[600]\ttraining's multi_logloss: 0.036338\tvalid_1's multi_logloss: 0.0431622\n",
      "Early stopping, best iteration is:\n",
      "[720]\ttraining's multi_logloss: 0.0362666\tvalid_1's multi_logloss: 0.0431048\n"
     ]
    },
    {
     "name": "stderr",
     "output_type": "stream",
     "text": [
      "[1.2GB(-0.0GB): 14.164sec] fit F\n"
     ]
    },
    {
     "name": "stdout",
     "output_type": "stream",
     "text": [
      "pos_loss = 4.200181878134789, floor_loss = 0.0\n",
      "fold 1: mean position error 4.200181878134789\n"
     ]
    },
    {
     "name": "stderr",
     "output_type": "stream",
     "text": [
      "[1.2GB(+0.0GB): 28.629sec] fit X\n"
     ]
    },
    {
     "name": "stdout",
     "output_type": "stream",
     "text": [
      "Training until validation scores don't improve for 200 rounds\n",
      "[200]\ttraining's rmse: 2.08067\tvalid_1's rmse: 3.92974\n",
      "[400]\ttraining's rmse: 1.35897\tvalid_1's rmse: 3.71884\n",
      "[600]\ttraining's rmse: 1.02154\tvalid_1's rmse: 3.65421\n",
      "[800]\ttraining's rmse: 0.820541\tvalid_1's rmse: 3.62772\n",
      "[1000]\ttraining's rmse: 0.688895\tvalid_1's rmse: 3.6119\n",
      "[1200]\ttraining's rmse: 0.598312\tvalid_1's rmse: 3.60276\n",
      "[1400]\ttraining's rmse: 0.531552\tvalid_1's rmse: 3.59666\n",
      "[1600]\ttraining's rmse: 0.482544\tvalid_1's rmse: 3.59581\n",
      "[1800]\ttraining's rmse: 0.443158\tvalid_1's rmse: 3.59266\n",
      "[2000]\ttraining's rmse: 0.412524\tvalid_1's rmse: 3.59135\n",
      "[2200]\ttraining's rmse: 0.387343\tvalid_1's rmse: 3.59101\n",
      "[2400]\ttraining's rmse: 0.365934\tvalid_1's rmse: 3.58924\n",
      "[2600]\ttraining's rmse: 0.347544\tvalid_1's rmse: 3.58911\n",
      "Early stopping, best iteration is:\n",
      "[2523]\ttraining's rmse: 0.354139\tvalid_1's rmse: 3.58761\n"
     ]
    },
    {
     "name": "stderr",
     "output_type": "stream",
     "text": [
      "[1.2GB(-0.0GB): 26.708sec] fit Y\n"
     ]
    },
    {
     "name": "stdout",
     "output_type": "stream",
     "text": [
      "Training until validation scores don't improve for 20 rounds\n",
      "[200]\ttraining's multi_logloss: 0.0376197\tvalid_1's multi_logloss: 0.0424991\n",
      "[400]\ttraining's multi_logloss: 0.0371207\tvalid_1's multi_logloss: 0.0419696\n",
      "[600]\ttraining's multi_logloss: 0.0366877\tvalid_1's multi_logloss: 0.0414528\n",
      "[800]\ttraining's multi_logloss: 0.0363728\tvalid_1's multi_logloss: 0.0411114\n",
      "[1000]\ttraining's multi_logloss: 0.0361959\tvalid_1's multi_logloss: 0.0408975\n",
      "Early stopping, best iteration is:\n",
      "[994]\ttraining's multi_logloss: 0.0361959\tvalid_1's multi_logloss: 0.0408975\n"
     ]
    },
    {
     "name": "stderr",
     "output_type": "stream",
     "text": [
      "[1.2GB(+0.0GB): 17.306sec] fit F\n"
     ]
    },
    {
     "name": "stdout",
     "output_type": "stream",
     "text": [
      "pos_loss = 4.2724930177940355, floor_loss = 0.007704160246533128\n",
      "fold 2: mean position error 4.280197178040568\n"
     ]
    },
    {
     "name": "stderr",
     "output_type": "stream",
     "text": [
      "[1.2GB(-0.0GB): 28.120sec] fit X\n"
     ]
    },
    {
     "name": "stdout",
     "output_type": "stream",
     "text": [
      "Training until validation scores don't improve for 200 rounds\n",
      "[200]\ttraining's rmse: 2.13646\tvalid_1's rmse: 3.85815\n",
      "[400]\ttraining's rmse: 1.40073\tvalid_1's rmse: 3.60045\n",
      "[600]\ttraining's rmse: 1.05129\tvalid_1's rmse: 3.52528\n",
      "[800]\ttraining's rmse: 0.845086\tvalid_1's rmse: 3.49753\n",
      "[1000]\ttraining's rmse: 0.709872\tvalid_1's rmse: 3.48483\n",
      "[1200]\ttraining's rmse: 0.616091\tvalid_1's rmse: 3.47715\n",
      "[1400]\ttraining's rmse: 0.547118\tvalid_1's rmse: 3.46895\n",
      "[1600]\ttraining's rmse: 0.496633\tvalid_1's rmse: 3.46519\n",
      "[1800]\ttraining's rmse: 0.456808\tvalid_1's rmse: 3.46485\n",
      "[2000]\ttraining's rmse: 0.425238\tvalid_1's rmse: 3.46321\n",
      "[2200]\ttraining's rmse: 0.399038\tvalid_1's rmse: 3.46198\n",
      "[2400]\ttraining's rmse: 0.377375\tvalid_1's rmse: 3.4594\n",
      "[2600]\ttraining's rmse: 0.356885\tvalid_1's rmse: 3.45933\n",
      "[2800]\ttraining's rmse: 0.340313\tvalid_1's rmse: 3.45736\n",
      "[3000]\ttraining's rmse: 0.326124\tvalid_1's rmse: 3.45698\n",
      "[3200]\ttraining's rmse: 0.313254\tvalid_1's rmse: 3.45742\n",
      "Early stopping, best iteration is:\n",
      "[3085]\ttraining's rmse: 0.3206\tvalid_1's rmse: 3.45636\n"
     ]
    },
    {
     "name": "stderr",
     "output_type": "stream",
     "text": [
      "[1.2GB(+0.0GB): 31.121sec] fit Y\n"
     ]
    },
    {
     "name": "stdout",
     "output_type": "stream",
     "text": [
      "Training until validation scores don't improve for 20 rounds\n",
      "[200]\ttraining's multi_logloss: 0.0378395\tvalid_1's multi_logloss: 0.0407329\n",
      "[400]\ttraining's multi_logloss: 0.0370942\tvalid_1's multi_logloss: 0.0399328\n",
      "[600]\ttraining's multi_logloss: 0.0368222\tvalid_1's multi_logloss: 0.0396549\n",
      "[800]\ttraining's multi_logloss: 0.0365197\tvalid_1's multi_logloss: 0.0393242\n",
      "Early stopping, best iteration is:\n",
      "[838]\ttraining's multi_logloss: 0.0364505\tvalid_1's multi_logloss: 0.039272\n"
     ]
    },
    {
     "name": "stderr",
     "output_type": "stream",
     "text": [
      "[1.2GB(+0.0GB): 17.124sec] fit F\n"
     ]
    },
    {
     "name": "stdout",
     "output_type": "stream",
     "text": [
      "pos_loss = 4.152518647917244, floor_loss = 0.0\n",
      "fold 3: mean position error 4.152518647917244\n"
     ]
    },
    {
     "name": "stderr",
     "output_type": "stream",
     "text": [
      "[1.2GB(-0.0GB): 24.639sec] fit X\n"
     ]
    },
    {
     "name": "stdout",
     "output_type": "stream",
     "text": [
      "Training until validation scores don't improve for 200 rounds\n",
      "[200]\ttraining's rmse: 2.10333\tvalid_1's rmse: 3.8087\n",
      "[400]\ttraining's rmse: 1.36879\tvalid_1's rmse: 3.59176\n",
      "[600]\ttraining's rmse: 1.03031\tvalid_1's rmse: 3.52683\n",
      "[800]\ttraining's rmse: 0.829143\tvalid_1's rmse: 3.49714\n",
      "[1000]\ttraining's rmse: 0.69512\tvalid_1's rmse: 3.48327\n",
      "[1200]\ttraining's rmse: 0.601057\tvalid_1's rmse: 3.47468\n",
      "[1400]\ttraining's rmse: 0.534744\tvalid_1's rmse: 3.47036\n",
      "[1600]\ttraining's rmse: 0.486232\tvalid_1's rmse: 3.46536\n",
      "[1800]\ttraining's rmse: 0.447486\tvalid_1's rmse: 3.46464\n",
      "[2000]\ttraining's rmse: 0.416116\tvalid_1's rmse: 3.46241\n",
      "Early stopping, best iteration is:\n",
      "[1996]\ttraining's rmse: 0.416682\tvalid_1's rmse: 3.46213\n"
     ]
    },
    {
     "name": "stderr",
     "output_type": "stream",
     "text": [
      "[1.2GB(+0.0GB): 25.046sec] fit Y\n"
     ]
    },
    {
     "name": "stdout",
     "output_type": "stream",
     "text": [
      "Training until validation scores don't improve for 20 rounds\n",
      "[200]\ttraining's multi_logloss: 0.0372876\tvalid_1's multi_logloss: 0.0418282\n",
      "[400]\ttraining's multi_logloss: 0.0368448\tvalid_1's multi_logloss: 0.0413512\n",
      "[600]\ttraining's multi_logloss: 0.0365497\tvalid_1's multi_logloss: 0.0410129\n",
      "Early stopping, best iteration is:\n",
      "[764]\ttraining's multi_logloss: 0.0363594\tvalid_1's multi_logloss: 0.0408215\n"
     ]
    },
    {
     "name": "stderr",
     "output_type": "stream",
     "text": [
      "[1.2GB(+0.0GB): 17.281sec] fit F\n"
     ]
    },
    {
     "name": "stdout",
     "output_type": "stream",
     "text": [
      "pos_loss = 4.188648104847964, floor_loss = 0.015408320493066256\n",
      "fold 4: mean position error 4.20405642534103\n",
      "*+*+*+*+*+*+*+*+*+*+*+*+*+*+*+*+*+*+*+*+*+*+*+*+*+*+*+*+*+*+*+*+*+*+*+*+*+*+*+*+\n",
      "file #1, shape=(9737, 3067), name=5c3c44b80379370013e0fd2b_train.csv\n",
      "pos_loss = 4.244941316737901, floor_loss = 0.004621546677621444\n",
      "mean position error 4.249562863415522\n",
      "*+*+*+*+*+*+*+*+*+*+*+*+*+*+*+*+*+*+*+*+*+*+*+*+*+*+*+*+*+*+*+*+*+*+*+*+*+*+*+*+\n"
     ]
    },
    {
     "name": "stderr",
     "output_type": "stream",
     "text": [
      "[5.2GB(+0.0GB): 424.136sec] fit X\n"
     ]
    },
    {
     "name": "stdout",
     "output_type": "stream",
     "text": [
      "Training until validation scores don't improve for 200 rounds\n",
      "[200]\ttraining's rmse: 2.62525\tvalid_1's rmse: 3.52066\n",
      "[400]\ttraining's rmse: 1.92318\tvalid_1's rmse: 3.11594\n",
      "[600]\ttraining's rmse: 1.58884\tvalid_1's rmse: 2.97685\n",
      "[800]\ttraining's rmse: 1.37686\tvalid_1's rmse: 2.90697\n",
      "[1000]\ttraining's rmse: 1.22623\tvalid_1's rmse: 2.86738\n",
      "[1200]\ttraining's rmse: 1.11136\tvalid_1's rmse: 2.84214\n",
      "[1400]\ttraining's rmse: 1.01866\tvalid_1's rmse: 2.82267\n",
      "[1600]\ttraining's rmse: 0.942614\tvalid_1's rmse: 2.80827\n",
      "[1800]\ttraining's rmse: 0.878249\tvalid_1's rmse: 2.80158\n",
      "[2000]\ttraining's rmse: 0.822898\tvalid_1's rmse: 2.79254\n",
      "[2200]\ttraining's rmse: 0.773318\tvalid_1's rmse: 2.78703\n",
      "[2400]\ttraining's rmse: 0.730804\tvalid_1's rmse: 2.78243\n",
      "[2600]\ttraining's rmse: 0.692219\tvalid_1's rmse: 2.77921\n",
      "[2800]\ttraining's rmse: 0.65743\tvalid_1's rmse: 2.77552\n",
      "[3000]\ttraining's rmse: 0.625972\tvalid_1's rmse: 2.77429\n",
      "[3200]\ttraining's rmse: 0.597569\tvalid_1's rmse: 2.77195\n",
      "[3400]\ttraining's rmse: 0.57137\tvalid_1's rmse: 2.77036\n",
      "[3600]\ttraining's rmse: 0.547686\tvalid_1's rmse: 2.76953\n",
      "Early stopping, best iteration is:\n",
      "[3539]\ttraining's rmse: 0.554698\tvalid_1's rmse: 2.76872\n"
     ]
    },
    {
     "name": "stderr",
     "output_type": "stream",
     "text": [
      "[5.2GB(+0.0GB): 257.318sec] fit Y\n"
     ]
    },
    {
     "name": "stdout",
     "output_type": "stream",
     "text": [
      "Training until validation scores don't improve for 20 rounds\n",
      "[200]\ttraining's multi_logloss: 0.0289092\tvalid_1's multi_logloss: 0.0326262\n",
      "Early stopping, best iteration is:\n",
      "[366]\ttraining's multi_logloss: 0.028159\tvalid_1's multi_logloss: 0.0318191\n"
     ]
    },
    {
     "name": "stderr",
     "output_type": "stream",
     "text": [
      "[5.2GB(+0.0GB): 44.810sec] fit F\n"
     ]
    },
    {
     "name": "stdout",
     "output_type": "stream",
     "text": [
      "pos_loss = 3.532867310052537, floor_loss = 0.0031685678073510772\n",
      "fold 0: mean position error 3.536035877859888\n"
     ]
    },
    {
     "name": "stderr",
     "output_type": "stream",
     "text": [
      "[5.5GB(+0.0GB): 289.140sec] fit X\n"
     ]
    },
    {
     "name": "stdout",
     "output_type": "stream",
     "text": [
      "Training until validation scores don't improve for 200 rounds\n",
      "[200]\ttraining's rmse: 2.63001\tvalid_1's rmse: 3.54981\n",
      "[400]\ttraining's rmse: 1.92941\tvalid_1's rmse: 3.1592\n",
      "[600]\ttraining's rmse: 1.5954\tvalid_1's rmse: 3.01807\n",
      "[800]\ttraining's rmse: 1.3849\tvalid_1's rmse: 2.94389\n",
      "[1000]\ttraining's rmse: 1.23322\tvalid_1's rmse: 2.90115\n",
      "[1200]\ttraining's rmse: 1.11769\tvalid_1's rmse: 2.87564\n",
      "[1400]\ttraining's rmse: 1.02562\tvalid_1's rmse: 2.85561\n",
      "[1600]\ttraining's rmse: 0.94841\tvalid_1's rmse: 2.84116\n",
      "[1800]\ttraining's rmse: 0.883776\tvalid_1's rmse: 2.83374\n",
      "[2000]\ttraining's rmse: 0.827699\tvalid_1's rmse: 2.82523\n",
      "[2200]\ttraining's rmse: 0.779107\tvalid_1's rmse: 2.82025\n",
      "[2400]\ttraining's rmse: 0.736396\tvalid_1's rmse: 2.81647\n",
      "[2600]\ttraining's rmse: 0.697786\tvalid_1's rmse: 2.8129\n",
      "[2800]\ttraining's rmse: 0.66351\tvalid_1's rmse: 2.80829\n",
      "[3000]\ttraining's rmse: 0.632528\tvalid_1's rmse: 2.80639\n",
      "[3200]\ttraining's rmse: 0.603541\tvalid_1's rmse: 2.8041\n",
      "[3400]\ttraining's rmse: 0.577401\tvalid_1's rmse: 2.80356\n",
      "[3600]\ttraining's rmse: 0.55282\tvalid_1's rmse: 2.80261\n",
      "[3800]\ttraining's rmse: 0.530333\tvalid_1's rmse: 2.80166\n",
      "[4000]\ttraining's rmse: 0.509544\tvalid_1's rmse: 2.80089\n",
      "[4200]\ttraining's rmse: 0.490235\tvalid_1's rmse: 2.80138\n",
      "Early stopping, best iteration is:\n",
      "[4008]\ttraining's rmse: 0.508778\tvalid_1's rmse: 2.80054\n"
     ]
    },
    {
     "name": "stderr",
     "output_type": "stream",
     "text": [
      "[5.5GB(+0.0GB): 288.245sec] fit Y\n"
     ]
    },
    {
     "name": "stdout",
     "output_type": "stream",
     "text": [
      "Training until validation scores don't improve for 20 rounds\n",
      "Early stopping, best iteration is:\n",
      "[131]\ttraining's multi_logloss: 0.0290025\tvalid_1's multi_logloss: 0.0345311\n"
     ]
    },
    {
     "name": "stderr",
     "output_type": "stream",
     "text": [
      "[5.5GB(-0.0GB): 21.429sec] fit F\n"
     ]
    },
    {
     "name": "stdout",
     "output_type": "stream",
     "text": [
      "pos_loss = 3.492981626468004, floor_loss = 0.003169237270230298\n",
      "fold 1: mean position error 3.4961508637382344\n"
     ]
    },
    {
     "name": "stderr",
     "output_type": "stream",
     "text": [
      "[5.2GB(-0.0GB): 329.496sec] fit X\n"
     ]
    },
    {
     "name": "stdout",
     "output_type": "stream",
     "text": [
      "Training until validation scores don't improve for 200 rounds\n",
      "[200]\ttraining's rmse: 2.64742\tvalid_1's rmse: 3.59807\n",
      "[400]\ttraining's rmse: 1.93701\tvalid_1's rmse: 3.18854\n",
      "[600]\ttraining's rmse: 1.60141\tvalid_1's rmse: 3.04094\n",
      "[800]\ttraining's rmse: 1.38695\tvalid_1's rmse: 2.96161\n",
      "[1000]\ttraining's rmse: 1.23476\tvalid_1's rmse: 2.91526\n",
      "[1200]\ttraining's rmse: 1.11872\tvalid_1's rmse: 2.88512\n",
      "[1400]\ttraining's rmse: 1.02611\tvalid_1's rmse: 2.86529\n",
      "[1600]\ttraining's rmse: 0.950231\tvalid_1's rmse: 2.84912\n",
      "[1800]\ttraining's rmse: 0.885403\tvalid_1's rmse: 2.83767\n",
      "[2000]\ttraining's rmse: 0.83001\tvalid_1's rmse: 2.82712\n",
      "[2200]\ttraining's rmse: 0.780763\tvalid_1's rmse: 2.82269\n",
      "[2400]\ttraining's rmse: 0.737608\tvalid_1's rmse: 2.81751\n",
      "[2600]\ttraining's rmse: 0.699097\tvalid_1's rmse: 2.81244\n",
      "[2800]\ttraining's rmse: 0.66434\tvalid_1's rmse: 2.80924\n",
      "[3000]\ttraining's rmse: 0.63252\tvalid_1's rmse: 2.80684\n",
      "[3200]\ttraining's rmse: 0.603291\tvalid_1's rmse: 2.80452\n",
      "[3400]\ttraining's rmse: 0.576726\tvalid_1's rmse: 2.80277\n",
      "[3600]\ttraining's rmse: 0.552405\tvalid_1's rmse: 2.80162\n",
      "[3800]\ttraining's rmse: 0.529972\tvalid_1's rmse: 2.8007\n",
      "[4000]\ttraining's rmse: 0.508974\tvalid_1's rmse: 2.799\n",
      "[4200]\ttraining's rmse: 0.489722\tvalid_1's rmse: 2.7979\n",
      "[4400]\ttraining's rmse: 0.47173\tvalid_1's rmse: 2.79644\n",
      "[4600]\ttraining's rmse: 0.454821\tvalid_1's rmse: 2.7957\n",
      "[4800]\ttraining's rmse: 0.438672\tvalid_1's rmse: 2.79506\n",
      "[5000]\ttraining's rmse: 0.423478\tvalid_1's rmse: 2.79388\n",
      "[5200]\ttraining's rmse: 0.409665\tvalid_1's rmse: 2.7936\n",
      "[5400]\ttraining's rmse: 0.396638\tvalid_1's rmse: 2.79272\n",
      "[5600]\ttraining's rmse: 0.384484\tvalid_1's rmse: 2.79255\n",
      "[5800]\ttraining's rmse: 0.373348\tvalid_1's rmse: 2.79227\n",
      "[6000]\ttraining's rmse: 0.362632\tvalid_1's rmse: 2.79196\n",
      "[6200]\ttraining's rmse: 0.352099\tvalid_1's rmse: 2.79082\n",
      "[6400]\ttraining's rmse: 0.34263\tvalid_1's rmse: 2.79056\n",
      "[6600]\ttraining's rmse: 0.333611\tvalid_1's rmse: 2.79013\n",
      "[6800]\ttraining's rmse: 0.32497\tvalid_1's rmse: 2.78984\n",
      "Early stopping, best iteration is:\n",
      "[6686]\ttraining's rmse: 0.329784\tvalid_1's rmse: 2.78947\n"
     ]
    },
    {
     "name": "stderr",
     "output_type": "stream",
     "text": [
      "[5.2GB(+0.0GB): 466.413sec] fit Y\n"
     ]
    },
    {
     "name": "stdout",
     "output_type": "stream",
     "text": [
      "Training until validation scores don't improve for 20 rounds\n",
      "[200]\ttraining's multi_logloss: 0.0284967\tvalid_1's multi_logloss: 0.0324092\n",
      "[400]\ttraining's multi_logloss: 0.0279101\tvalid_1's multi_logloss: 0.0317966\n",
      "Early stopping, best iteration is:\n",
      "[428]\ttraining's multi_logloss: 0.0278514\tvalid_1's multi_logloss: 0.0317245\n"
     ]
    },
    {
     "name": "stderr",
     "output_type": "stream",
     "text": [
      "[5.2GB(+0.0GB): 53.244sec] fit F\n"
     ]
    },
    {
     "name": "stdout",
     "output_type": "stream",
     "text": [
      "pos_loss = 3.5079970888725462, floor_loss = 0.006338474540460596\n",
      "fold 2: mean position error 3.514335563413007\n"
     ]
    },
    {
     "name": "stderr",
     "output_type": "stream",
     "text": [
      "[5.5GB(+0.0GB): 240.733sec] fit X\n"
     ]
    },
    {
     "name": "stdout",
     "output_type": "stream",
     "text": [
      "Training until validation scores don't improve for 200 rounds\n",
      "[200]\ttraining's rmse: 2.64984\tvalid_1's rmse: 3.60845\n",
      "[400]\ttraining's rmse: 1.94341\tvalid_1's rmse: 3.1743\n",
      "[600]\ttraining's rmse: 1.60537\tvalid_1's rmse: 3.00691\n",
      "[800]\ttraining's rmse: 1.39087\tvalid_1's rmse: 2.92745\n",
      "[1000]\ttraining's rmse: 1.23892\tvalid_1's rmse: 2.88229\n",
      "[1200]\ttraining's rmse: 1.123\tvalid_1's rmse: 2.85252\n",
      "[1400]\ttraining's rmse: 1.03249\tvalid_1's rmse: 2.8367\n",
      "[1600]\ttraining's rmse: 0.956028\tvalid_1's rmse: 2.82143\n",
      "[1800]\ttraining's rmse: 0.890474\tvalid_1's rmse: 2.80933\n",
      "[2000]\ttraining's rmse: 0.83422\tvalid_1's rmse: 2.80079\n",
      "[2200]\ttraining's rmse: 0.7852\tvalid_1's rmse: 2.79389\n",
      "[2400]\ttraining's rmse: 0.742217\tvalid_1's rmse: 2.78846\n",
      "[2600]\ttraining's rmse: 0.704182\tvalid_1's rmse: 2.78511\n",
      "[2800]\ttraining's rmse: 0.669109\tvalid_1's rmse: 2.78331\n",
      "[3000]\ttraining's rmse: 0.637465\tvalid_1's rmse: 2.78055\n",
      "[3200]\ttraining's rmse: 0.608703\tvalid_1's rmse: 2.78068\n",
      "[3400]\ttraining's rmse: 0.582336\tvalid_1's rmse: 2.77926\n",
      "[3600]\ttraining's rmse: 0.557918\tvalid_1's rmse: 2.77708\n",
      "[3800]\ttraining's rmse: 0.535122\tvalid_1's rmse: 2.77581\n",
      "[4000]\ttraining's rmse: 0.514133\tvalid_1's rmse: 2.7747\n",
      "[4200]\ttraining's rmse: 0.494654\tvalid_1's rmse: 2.77385\n",
      "[4400]\ttraining's rmse: 0.47649\tvalid_1's rmse: 2.77374\n",
      "Early stopping, best iteration is:\n",
      "[4308]\ttraining's rmse: 0.484766\tvalid_1's rmse: 2.77321\n"
     ]
    },
    {
     "name": "stderr",
     "output_type": "stream",
     "text": [
      "[5.5GB(-0.0GB): 308.918sec] fit Y\n"
     ]
    },
    {
     "name": "stdout",
     "output_type": "stream",
     "text": [
      "Training until validation scores don't improve for 20 rounds\n",
      "[200]\ttraining's multi_logloss: 0.0287033\tvalid_1's multi_logloss: 0.0315368\n",
      "Early stopping, best iteration is:\n",
      "[299]\ttraining's multi_logloss: 0.0281523\tvalid_1's multi_logloss: 0.0309631\n"
     ]
    },
    {
     "name": "stderr",
     "output_type": "stream",
     "text": [
      "[5.5GB(-0.0GB): 38.377sec] fit F\n"
     ]
    },
    {
     "name": "stdout",
     "output_type": "stream",
     "text": [
      "pos_loss = 3.483111911938929, floor_loss = 0.003169237270230298\n",
      "fold 3: mean position error 3.486281149209159\n"
     ]
    },
    {
     "name": "stderr",
     "output_type": "stream",
     "text": [
      "[5.3GB(+0.0GB): 373.220sec] fit X\n"
     ]
    },
    {
     "name": "stdout",
     "output_type": "stream",
     "text": [
      "Training until validation scores don't improve for 200 rounds\n",
      "[200]\ttraining's rmse: 2.64349\tvalid_1's rmse: 3.64926\n",
      "[400]\ttraining's rmse: 1.9392\tvalid_1's rmse: 3.24227\n",
      "[600]\ttraining's rmse: 1.59849\tvalid_1's rmse: 3.09704\n",
      "[800]\ttraining's rmse: 1.38558\tvalid_1's rmse: 3.02373\n",
      "[1000]\ttraining's rmse: 1.23441\tvalid_1's rmse: 2.98213\n",
      "[1200]\ttraining's rmse: 1.11937\tvalid_1's rmse: 2.95437\n",
      "[1400]\ttraining's rmse: 1.02833\tvalid_1's rmse: 2.93695\n",
      "[1600]\ttraining's rmse: 0.95304\tvalid_1's rmse: 2.92204\n",
      "[1800]\ttraining's rmse: 0.889382\tvalid_1's rmse: 2.91253\n",
      "[2000]\ttraining's rmse: 0.833485\tvalid_1's rmse: 2.90637\n",
      "[2200]\ttraining's rmse: 0.785314\tvalid_1's rmse: 2.90021\n",
      "[2400]\ttraining's rmse: 0.742813\tvalid_1's rmse: 2.89581\n",
      "[2600]\ttraining's rmse: 0.70473\tvalid_1's rmse: 2.89416\n",
      "[2800]\ttraining's rmse: 0.670262\tvalid_1's rmse: 2.89056\n",
      "[3000]\ttraining's rmse: 0.638953\tvalid_1's rmse: 2.88827\n",
      "[3200]\ttraining's rmse: 0.610639\tvalid_1's rmse: 2.88646\n",
      "[3400]\ttraining's rmse: 0.584143\tvalid_1's rmse: 2.8834\n",
      "[3600]\ttraining's rmse: 0.559666\tvalid_1's rmse: 2.88242\n",
      "[3800]\ttraining's rmse: 0.537618\tvalid_1's rmse: 2.88075\n",
      "[4000]\ttraining's rmse: 0.517233\tvalid_1's rmse: 2.88008\n",
      "[4200]\ttraining's rmse: 0.497766\tvalid_1's rmse: 2.87939\n",
      "[4400]\ttraining's rmse: 0.480006\tvalid_1's rmse: 2.87846\n",
      "[4600]\ttraining's rmse: 0.463361\tvalid_1's rmse: 2.87786\n",
      "[4800]\ttraining's rmse: 0.447745\tvalid_1's rmse: 2.87705\n",
      "[5000]\ttraining's rmse: 0.433084\tvalid_1's rmse: 2.87678\n",
      "[5200]\ttraining's rmse: 0.419052\tvalid_1's rmse: 2.87607\n",
      "[5400]\ttraining's rmse: 0.406184\tvalid_1's rmse: 2.87569\n",
      "[5600]\ttraining's rmse: 0.393457\tvalid_1's rmse: 2.8754\n",
      "[5800]\ttraining's rmse: 0.381468\tvalid_1's rmse: 2.87517\n",
      "[6000]\ttraining's rmse: 0.370842\tvalid_1's rmse: 2.87519\n",
      "[6200]\ttraining's rmse: 0.360578\tvalid_1's rmse: 2.87491\n",
      "Early stopping, best iteration is:\n",
      "[6052]\ttraining's rmse: 0.367986\tvalid_1's rmse: 2.87465\n"
     ]
    },
    {
     "name": "stderr",
     "output_type": "stream",
     "text": [
      "[5.2GB(-0.0GB): 425.261sec] fit Y\n"
     ]
    },
    {
     "name": "stdout",
     "output_type": "stream",
     "text": [
      "Training until validation scores don't improve for 20 rounds\n",
      "[200]\ttraining's multi_logloss: 0.0286979\tvalid_1's multi_logloss: 0.0316637\n",
      "Early stopping, best iteration is:\n",
      "[359]\ttraining's multi_logloss: 0.0282377\tvalid_1's multi_logloss: 0.0311678\n"
     ]
    },
    {
     "name": "stderr",
     "output_type": "stream",
     "text": [
      "[5.2GB(-0.0GB): 44.605sec] fit F\n"
     ]
    },
    {
     "name": "stdout",
     "output_type": "stream",
     "text": [
      "pos_loss = 3.4897812477639114, floor_loss = 0.009507711810690893\n",
      "fold 4: mean position error 3.4992889595746024\n",
      "*+*+*+*+*+*+*+*+*+*+*+*+*+*+*+*+*+*+*+*+*+*+*+*+*+*+*+*+*+*+*+*+*+*+*+*+*+*+*+*+\n",
      "file #2, shape=(23666, 7033), name=5d27075f03f801723c2e360f_train.csv\n",
      "pos_loss = 3.5013491688654224, floor_loss = 0.005070565368038536\n",
      "mean position error 3.506419734233461\n",
      "*+*+*+*+*+*+*+*+*+*+*+*+*+*+*+*+*+*+*+*+*+*+*+*+*+*+*+*+*+*+*+*+*+*+*+*+*+*+*+*+\n"
     ]
    },
    {
     "name": "stderr",
     "output_type": "stream",
     "text": [
      "[2.7GB(+0.0GB): 19.038sec] fit X\n"
     ]
    },
    {
     "name": "stdout",
     "output_type": "stream",
     "text": [
      "Training until validation scores don't improve for 200 rounds\n",
      "[200]\ttraining's rmse: 1.47767\tvalid_1's rmse: 2.36744\n",
      "[400]\ttraining's rmse: 1.07554\tvalid_1's rmse: 2.23352\n",
      "[600]\ttraining's rmse: 0.883003\tvalid_1's rmse: 2.182\n",
      "[800]\ttraining's rmse: 0.764783\tvalid_1's rmse: 2.16688\n",
      "[1000]\ttraining's rmse: 0.683152\tvalid_1's rmse: 2.15432\n",
      "[1200]\ttraining's rmse: 0.62364\tvalid_1's rmse: 2.14707\n",
      "[1400]\ttraining's rmse: 0.57711\tvalid_1's rmse: 2.14117\n",
      "[1600]\ttraining's rmse: 0.539856\tvalid_1's rmse: 2.13735\n",
      "[1800]\ttraining's rmse: 0.508587\tvalid_1's rmse: 2.13354\n",
      "[2000]\ttraining's rmse: 0.482513\tvalid_1's rmse: 2.13132\n",
      "[2200]\ttraining's rmse: 0.460781\tvalid_1's rmse: 2.13024\n",
      "[2400]\ttraining's rmse: 0.441666\tvalid_1's rmse: 2.12732\n",
      "[2600]\ttraining's rmse: 0.424788\tvalid_1's rmse: 2.12573\n",
      "[2800]\ttraining's rmse: 0.409116\tvalid_1's rmse: 2.12413\n",
      "[3000]\ttraining's rmse: 0.394643\tvalid_1's rmse: 2.12238\n",
      "[3200]\ttraining's rmse: 0.382571\tvalid_1's rmse: 2.122\n",
      "Early stopping, best iteration is:\n",
      "[3189]\ttraining's rmse: 0.383291\tvalid_1's rmse: 2.12171\n"
     ]
    },
    {
     "name": "stderr",
     "output_type": "stream",
     "text": [
      "[2.7GB(+0.0GB): 29.043sec] fit Y\n"
     ]
    },
    {
     "name": "stdout",
     "output_type": "stream",
     "text": [
      "Training until validation scores don't improve for 20 rounds\n",
      "[200]\ttraining's multi_logloss: 0.0263736\tvalid_1's multi_logloss: 0.0274044\n",
      "[400]\ttraining's multi_logloss: 0.0260968\tvalid_1's multi_logloss: 0.0271139\n",
      "Early stopping, best iteration is:\n",
      "[514]\ttraining's multi_logloss: 0.0260522\tvalid_1's multi_logloss: 0.0270688\n"
     ]
    },
    {
     "name": "stderr",
     "output_type": "stream",
     "text": [
      "[2.7GB(+0.0GB): 7.790sec] fit F\n"
     ]
    },
    {
     "name": "stdout",
     "output_type": "stream",
     "text": [
      "pos_loss = 2.3648573552616656, floor_loss = 0.0\n",
      "fold 0: mean position error 2.3648573552616656\n"
     ]
    },
    {
     "name": "stderr",
     "output_type": "stream",
     "text": [
      "[2.5GB(+0.0GB): 31.701sec] fit X\n"
     ]
    },
    {
     "name": "stdout",
     "output_type": "stream",
     "text": [
      "Training until validation scores don't improve for 200 rounds\n",
      "[200]\ttraining's rmse: 1.48011\tvalid_1's rmse: 2.43695\n",
      "[400]\ttraining's rmse: 1.07533\tvalid_1's rmse: 2.27499\n",
      "[600]\ttraining's rmse: 0.882413\tvalid_1's rmse: 2.2144\n",
      "[800]\ttraining's rmse: 0.763458\tvalid_1's rmse: 2.19041\n",
      "[1000]\ttraining's rmse: 0.682767\tvalid_1's rmse: 2.17411\n",
      "[1200]\ttraining's rmse: 0.623719\tvalid_1's rmse: 2.16157\n",
      "[1400]\ttraining's rmse: 0.578964\tvalid_1's rmse: 2.1585\n",
      "[1600]\ttraining's rmse: 0.541848\tvalid_1's rmse: 2.15384\n",
      "[1800]\ttraining's rmse: 0.511653\tvalid_1's rmse: 2.14929\n",
      "[2000]\ttraining's rmse: 0.486053\tvalid_1's rmse: 2.14657\n",
      "[2200]\ttraining's rmse: 0.463464\tvalid_1's rmse: 2.14297\n",
      "[2400]\ttraining's rmse: 0.444148\tvalid_1's rmse: 2.14003\n",
      "[2600]\ttraining's rmse: 0.427097\tvalid_1's rmse: 2.13708\n",
      "[2800]\ttraining's rmse: 0.41207\tvalid_1's rmse: 2.13563\n",
      "[3000]\ttraining's rmse: 0.398471\tvalid_1's rmse: 2.13347\n",
      "[3200]\ttraining's rmse: 0.385757\tvalid_1's rmse: 2.134\n",
      "Early stopping, best iteration is:\n",
      "[3000]\ttraining's rmse: 0.398471\tvalid_1's rmse: 2.13347\n"
     ]
    },
    {
     "name": "stderr",
     "output_type": "stream",
     "text": [
      "[2.5GB(+0.0GB): 27.149sec] fit Y\n"
     ]
    },
    {
     "name": "stdout",
     "output_type": "stream",
     "text": [
      "Training until validation scores don't improve for 20 rounds\n",
      "Early stopping, best iteration is:\n",
      "[165]\ttraining's multi_logloss: 0.0265664\tvalid_1's multi_logloss: 0.0289562\n"
     ]
    },
    {
     "name": "stderr",
     "output_type": "stream",
     "text": [
      "[2.5GB(+0.0GB): 3.135sec] fit F\n"
     ]
    },
    {
     "name": "stdout",
     "output_type": "stream",
     "text": [
      "pos_loss = 2.3816877550560904, floor_loss = 0.0\n",
      "fold 1: mean position error 2.3816877550560904\n"
     ]
    },
    {
     "name": "stderr",
     "output_type": "stream",
     "text": [
      "[2.5GB(+0.0GB): 26.219sec] fit X\n"
     ]
    },
    {
     "name": "stdout",
     "output_type": "stream",
     "text": [
      "Training until validation scores don't improve for 200 rounds\n",
      "[200]\ttraining's rmse: 1.51803\tvalid_1's rmse: 2.42572\n",
      "[400]\ttraining's rmse: 1.10857\tvalid_1's rmse: 2.24171\n",
      "[600]\ttraining's rmse: 0.909026\tvalid_1's rmse: 2.18448\n",
      "[800]\ttraining's rmse: 0.784938\tvalid_1's rmse: 2.14725\n",
      "[1000]\ttraining's rmse: 0.69828\tvalid_1's rmse: 2.12873\n",
      "[1200]\ttraining's rmse: 0.636313\tvalid_1's rmse: 2.11303\n",
      "[1400]\ttraining's rmse: 0.588319\tvalid_1's rmse: 2.10411\n",
      "[1600]\ttraining's rmse: 0.549857\tvalid_1's rmse: 2.10051\n",
      "[1800]\ttraining's rmse: 0.51797\tvalid_1's rmse: 2.09427\n",
      "[2000]\ttraining's rmse: 0.491318\tvalid_1's rmse: 2.08995\n",
      "[2200]\ttraining's rmse: 0.467943\tvalid_1's rmse: 2.08537\n",
      "[2400]\ttraining's rmse: 0.448049\tvalid_1's rmse: 2.08398\n",
      "[2600]\ttraining's rmse: 0.429968\tvalid_1's rmse: 2.08154\n",
      "[2800]\ttraining's rmse: 0.413675\tvalid_1's rmse: 2.08009\n",
      "[3000]\ttraining's rmse: 0.399046\tvalid_1's rmse: 2.07839\n",
      "[3200]\ttraining's rmse: 0.386612\tvalid_1's rmse: 2.07788\n",
      "[3400]\ttraining's rmse: 0.374356\tvalid_1's rmse: 2.07702\n",
      "[3600]\ttraining's rmse: 0.363423\tvalid_1's rmse: 2.07506\n",
      "[3800]\ttraining's rmse: 0.35398\tvalid_1's rmse: 2.07408\n",
      "[4000]\ttraining's rmse: 0.344697\tvalid_1's rmse: 2.07403\n",
      "[4200]\ttraining's rmse: 0.336159\tvalid_1's rmse: 2.07379\n",
      "Early stopping, best iteration is:\n",
      "[4122]\ttraining's rmse: 0.339612\tvalid_1's rmse: 2.07318\n"
     ]
    },
    {
     "name": "stderr",
     "output_type": "stream",
     "text": [
      "[2.5GB(+0.0GB): 35.227sec] fit Y\n"
     ]
    },
    {
     "name": "stdout",
     "output_type": "stream",
     "text": [
      "Training until validation scores don't improve for 20 rounds\n",
      "Early stopping, best iteration is:\n",
      "[144]\ttraining's multi_logloss: 0.0268492\tvalid_1's multi_logloss: 0.0294347\n"
     ]
    },
    {
     "name": "stderr",
     "output_type": "stream",
     "text": [
      "[2.5GB(+0.0GB): 2.646sec] fit F\n"
     ]
    },
    {
     "name": "stdout",
     "output_type": "stream",
     "text": [
      "pos_loss = 2.309804847031324, floor_loss = 0.0\n",
      "fold 2: mean position error 2.309804847031324\n"
     ]
    },
    {
     "name": "stderr",
     "output_type": "stream",
     "text": [
      "[2.7GB(+0.0GB): 38.816sec] fit X\n"
     ]
    },
    {
     "name": "stdout",
     "output_type": "stream",
     "text": [
      "Training until validation scores don't improve for 200 rounds\n",
      "[200]\ttraining's rmse: 1.4739\tvalid_1's rmse: 2.37604\n",
      "[400]\ttraining's rmse: 1.08254\tvalid_1's rmse: 2.22359\n",
      "[600]\ttraining's rmse: 0.891229\tvalid_1's rmse: 2.16426\n",
      "[800]\ttraining's rmse: 0.770624\tvalid_1's rmse: 2.13374\n",
      "[1000]\ttraining's rmse: 0.687564\tvalid_1's rmse: 2.11746\n",
      "[1200]\ttraining's rmse: 0.627637\tvalid_1's rmse: 2.10617\n",
      "[1400]\ttraining's rmse: 0.581558\tvalid_1's rmse: 2.09696\n",
      "[1600]\ttraining's rmse: 0.543349\tvalid_1's rmse: 2.09233\n",
      "[1800]\ttraining's rmse: 0.512291\tvalid_1's rmse: 2.08819\n",
      "[2000]\ttraining's rmse: 0.484322\tvalid_1's rmse: 2.08538\n",
      "[2200]\ttraining's rmse: 0.46169\tvalid_1's rmse: 2.08219\n",
      "[2400]\ttraining's rmse: 0.442074\tvalid_1's rmse: 2.0804\n",
      "[2600]\ttraining's rmse: 0.424338\tvalid_1's rmse: 2.07697\n",
      "[2800]\ttraining's rmse: 0.409423\tvalid_1's rmse: 2.07457\n",
      "[3000]\ttraining's rmse: 0.395027\tvalid_1's rmse: 2.07351\n",
      "[3200]\ttraining's rmse: 0.382842\tvalid_1's rmse: 2.07214\n",
      "[3400]\ttraining's rmse: 0.370944\tvalid_1's rmse: 2.07067\n",
      "[3600]\ttraining's rmse: 0.360228\tvalid_1's rmse: 2.06961\n",
      "[3800]\ttraining's rmse: 0.350305\tvalid_1's rmse: 2.06904\n",
      "[4000]\ttraining's rmse: 0.341649\tvalid_1's rmse: 2.06818\n",
      "[4200]\ttraining's rmse: 0.333148\tvalid_1's rmse: 2.06804\n",
      "Early stopping, best iteration is:\n",
      "[4095]\ttraining's rmse: 0.337658\tvalid_1's rmse: 2.06733\n"
     ]
    },
    {
     "name": "stderr",
     "output_type": "stream",
     "text": [
      "[2.7GB(+0.0GB): 34.890sec] fit Y\n"
     ]
    },
    {
     "name": "stdout",
     "output_type": "stream",
     "text": [
      "Training until validation scores don't improve for 20 rounds\n",
      "[200]\ttraining's multi_logloss: 0.0266314\tvalid_1's multi_logloss: 0.0278985\n",
      "Early stopping, best iteration is:\n",
      "[194]\ttraining's multi_logloss: 0.0266314\tvalid_1's multi_logloss: 0.0278985\n"
     ]
    },
    {
     "name": "stderr",
     "output_type": "stream",
     "text": [
      "[2.7GB(+0.0GB): 3.221sec] fit F\n"
     ]
    },
    {
     "name": "stdout",
     "output_type": "stream",
     "text": [
      "pos_loss = 2.297215346638915, floor_loss = 0.0\n",
      "fold 3: mean position error 2.297215346638915\n"
     ]
    },
    {
     "name": "stderr",
     "output_type": "stream",
     "text": [
      "[2.5GB(+0.0GB): 21.912sec] fit X\n"
     ]
    },
    {
     "name": "stdout",
     "output_type": "stream",
     "text": [
      "Training until validation scores don't improve for 200 rounds\n",
      "[200]\ttraining's rmse: 1.48249\tvalid_1's rmse: 2.42412\n",
      "[400]\ttraining's rmse: 1.08442\tvalid_1's rmse: 2.29227\n",
      "[600]\ttraining's rmse: 0.892717\tvalid_1's rmse: 2.24218\n",
      "[800]\ttraining's rmse: 0.771114\tvalid_1's rmse: 2.21581\n",
      "[1000]\ttraining's rmse: 0.689932\tvalid_1's rmse: 2.20026\n",
      "[1200]\ttraining's rmse: 0.629617\tvalid_1's rmse: 2.18996\n",
      "[1400]\ttraining's rmse: 0.582511\tvalid_1's rmse: 2.1853\n",
      "[1600]\ttraining's rmse: 0.544578\tvalid_1's rmse: 2.18063\n",
      "[1800]\ttraining's rmse: 0.513394\tvalid_1's rmse: 2.17671\n",
      "[2000]\ttraining's rmse: 0.485884\tvalid_1's rmse: 2.17559\n",
      "[2200]\ttraining's rmse: 0.46228\tvalid_1's rmse: 2.17411\n",
      "[2400]\ttraining's rmse: 0.441762\tvalid_1's rmse: 2.17157\n",
      "[2600]\ttraining's rmse: 0.424305\tvalid_1's rmse: 2.17047\n",
      "[2800]\ttraining's rmse: 0.408521\tvalid_1's rmse: 2.1701\n",
      "[3000]\ttraining's rmse: 0.394333\tvalid_1's rmse: 2.16953\n",
      "[3200]\ttraining's rmse: 0.381459\tvalid_1's rmse: 2.16871\n",
      "[3400]\ttraining's rmse: 0.369486\tvalid_1's rmse: 2.16801\n",
      "[3600]\ttraining's rmse: 0.358478\tvalid_1's rmse: 2.16654\n",
      "Early stopping, best iteration is:\n",
      "[3566]\ttraining's rmse: 0.360633\tvalid_1's rmse: 2.16594\n"
     ]
    },
    {
     "name": "stderr",
     "output_type": "stream",
     "text": [
      "[2.5GB(+0.0GB): 31.335sec] fit Y\n"
     ]
    },
    {
     "name": "stdout",
     "output_type": "stream",
     "text": [
      "Training until validation scores don't improve for 20 rounds\n",
      "[200]\ttraining's multi_logloss: 0.0261464\tvalid_1's multi_logloss: 0.0293311\n",
      "[400]\ttraining's multi_logloss: 0.025782\tvalid_1's multi_logloss: 0.028957\n",
      "Early stopping, best iteration is:\n",
      "[414]\ttraining's multi_logloss: 0.0257768\tvalid_1's multi_logloss: 0.0289521\n"
     ]
    },
    {
     "name": "stderr",
     "output_type": "stream",
     "text": [
      "[2.5GB(+0.0GB): 6.509sec] fit F\n"
     ]
    },
    {
     "name": "stdout",
     "output_type": "stream",
     "text": [
      "pos_loss = 2.427902181959155, floor_loss = 0.0\n",
      "fold 4: mean position error 2.427902181959155\n",
      "*+*+*+*+*+*+*+*+*+*+*+*+*+*+*+*+*+*+*+*+*+*+*+*+*+*+*+*+*+*+*+*+*+*+*+*+*+*+*+*+\n",
      "file #3, shape=(9100, 4968), name=5d27096c03f801723c31e5e0_train.csv\n",
      "pos_loss = 2.3562934971894296, floor_loss = 0.0\n",
      "mean position error 2.3562934971894296\n",
      "*+*+*+*+*+*+*+*+*+*+*+*+*+*+*+*+*+*+*+*+*+*+*+*+*+*+*+*+*+*+*+*+*+*+*+*+*+*+*+*+\n"
     ]
    },
    {
     "name": "stderr",
     "output_type": "stream",
     "text": [
      "[1.9GB(+0.0GB): 62.268sec] fit X\n"
     ]
    },
    {
     "name": "stdout",
     "output_type": "stream",
     "text": [
      "Training until validation scores don't improve for 200 rounds\n",
      "[200]\ttraining's rmse: 4.36348\tvalid_1's rmse: 5.66448\n",
      "[400]\ttraining's rmse: 3.16482\tvalid_1's rmse: 4.98186\n",
      "[600]\ttraining's rmse: 2.64011\tvalid_1's rmse: 4.73231\n",
      "[800]\ttraining's rmse: 2.32307\tvalid_1's rmse: 4.60376\n",
      "[1000]\ttraining's rmse: 2.10754\tvalid_1's rmse: 4.54564\n",
      "[1200]\ttraining's rmse: 1.94997\tvalid_1's rmse: 4.48917\n",
      "[1400]\ttraining's rmse: 1.83012\tvalid_1's rmse: 4.46686\n",
      "[1600]\ttraining's rmse: 1.73145\tvalid_1's rmse: 4.43735\n",
      "[1800]\ttraining's rmse: 1.65326\tvalid_1's rmse: 4.41703\n",
      "[2000]\ttraining's rmse: 1.5836\tvalid_1's rmse: 4.41322\n",
      "[2200]\ttraining's rmse: 1.52805\tvalid_1's rmse: 4.40325\n",
      "[2400]\ttraining's rmse: 1.47891\tvalid_1's rmse: 4.39854\n",
      "[2600]\ttraining's rmse: 1.43586\tvalid_1's rmse: 4.39454\n",
      "[2800]\ttraining's rmse: 1.39398\tvalid_1's rmse: 4.38483\n",
      "[3000]\ttraining's rmse: 1.36118\tvalid_1's rmse: 4.38293\n",
      "[3200]\ttraining's rmse: 1.33029\tvalid_1's rmse: 4.38004\n",
      "[3400]\ttraining's rmse: 1.30415\tvalid_1's rmse: 4.37687\n",
      "[3600]\ttraining's rmse: 1.28084\tvalid_1's rmse: 4.37459\n",
      "[3800]\ttraining's rmse: 1.25829\tvalid_1's rmse: 4.37025\n",
      "[4000]\ttraining's rmse: 1.23851\tvalid_1's rmse: 4.36851\n",
      "[4200]\ttraining's rmse: 1.21934\tvalid_1's rmse: 4.36407\n",
      "[4400]\ttraining's rmse: 1.20226\tvalid_1's rmse: 4.36356\n",
      "[4600]\ttraining's rmse: 1.18658\tvalid_1's rmse: 4.36135\n",
      "[4800]\ttraining's rmse: 1.17107\tvalid_1's rmse: 4.36276\n",
      "Early stopping, best iteration is:\n",
      "[4600]\ttraining's rmse: 1.18658\tvalid_1's rmse: 4.36135\n"
     ]
    },
    {
     "name": "stderr",
     "output_type": "stream",
     "text": [
      "[1.9GB(+0.0GB): 74.757sec] fit Y\n"
     ]
    },
    {
     "name": "stdout",
     "output_type": "stream",
     "text": [
      "Training until validation scores don't improve for 20 rounds\n",
      "[200]\ttraining's multi_logloss: 0.04247\tvalid_1's multi_logloss: 0.0449269\n",
      "Early stopping, best iteration is:\n",
      "[362]\ttraining's multi_logloss: 0.041334\tvalid_1's multi_logloss: 0.0437767\n"
     ]
    },
    {
     "name": "stderr",
     "output_type": "stream",
     "text": [
      "[1.9GB(+0.0GB): 8.902sec] fit F\n"
     ]
    },
    {
     "name": "stdout",
     "output_type": "stream",
     "text": [
      "pos_loss = 4.2750000450203185, floor_loss = 0.0428163653663178\n",
      "fold 0: mean position error 4.317816410386636\n"
     ]
    },
    {
     "name": "stderr",
     "output_type": "stream",
     "text": [
      "[1.8GB(+0.0GB): 49.889sec] fit X\n"
     ]
    },
    {
     "name": "stdout",
     "output_type": "stream",
     "text": [
      "Training until validation scores don't improve for 200 rounds\n",
      "[200]\ttraining's rmse: 4.36825\tvalid_1's rmse: 6.25972\n",
      "[400]\ttraining's rmse: 3.24444\tvalid_1's rmse: 5.34677\n",
      "[600]\ttraining's rmse: 2.70329\tvalid_1's rmse: 5.01069\n",
      "[800]\ttraining's rmse: 2.37957\tvalid_1's rmse: 4.82625\n",
      "[1000]\ttraining's rmse: 2.1526\tvalid_1's rmse: 4.72403\n",
      "[1200]\ttraining's rmse: 1.9823\tvalid_1's rmse: 4.66387\n",
      "[1400]\ttraining's rmse: 1.84565\tvalid_1's rmse: 4.62141\n",
      "[1600]\ttraining's rmse: 1.73937\tvalid_1's rmse: 4.58601\n",
      "[1800]\ttraining's rmse: 1.65393\tvalid_1's rmse: 4.56575\n",
      "[2000]\ttraining's rmse: 1.58035\tvalid_1's rmse: 4.55328\n",
      "[2200]\ttraining's rmse: 1.51845\tvalid_1's rmse: 4.53669\n",
      "[2400]\ttraining's rmse: 1.46536\tvalid_1's rmse: 4.52754\n",
      "[2600]\ttraining's rmse: 1.42106\tvalid_1's rmse: 4.52666\n",
      "[2800]\ttraining's rmse: 1.37945\tvalid_1's rmse: 4.52076\n",
      "[3000]\ttraining's rmse: 1.34281\tvalid_1's rmse: 4.51548\n",
      "[3200]\ttraining's rmse: 1.31228\tvalid_1's rmse: 4.51547\n",
      "Early stopping, best iteration is:\n",
      "[3188]\ttraining's rmse: 1.31406\tvalid_1's rmse: 4.51199\n"
     ]
    },
    {
     "name": "stderr",
     "output_type": "stream",
     "text": [
      "[1.8GB(+0.0GB): 54.010sec] fit Y\n"
     ]
    },
    {
     "name": "stdout",
     "output_type": "stream",
     "text": [
      "Training until validation scores don't improve for 20 rounds\n",
      "[200]\ttraining's multi_logloss: 0.0421443\tvalid_1's multi_logloss: 0.0477234\n",
      "[400]\ttraining's multi_logloss: 0.0412174\tvalid_1's multi_logloss: 0.0466954\n",
      "Early stopping, best iteration is:\n",
      "[405]\ttraining's multi_logloss: 0.0411158\tvalid_1's multi_logloss: 0.0465783\n"
     ]
    },
    {
     "name": "stderr",
     "output_type": "stream",
     "text": [
      "[1.8GB(+0.0GB): 9.960sec] fit F\n"
     ]
    },
    {
     "name": "stdout",
     "output_type": "stream",
     "text": [
      "pos_loss = 4.479396239371853, floor_loss = 0.05708848715509039\n",
      "fold 1: mean position error 4.536484726526944\n"
     ]
    },
    {
     "name": "stderr",
     "output_type": "stream",
     "text": [
      "[1.8GB(+0.0GB): 67.185sec] fit X\n"
     ]
    },
    {
     "name": "stdout",
     "output_type": "stream",
     "text": [
      "Training until validation scores don't improve for 200 rounds\n",
      "[200]\ttraining's rmse: 4.4452\tvalid_1's rmse: 5.88994\n",
      "[400]\ttraining's rmse: 3.23412\tvalid_1's rmse: 5.14222\n",
      "[600]\ttraining's rmse: 2.68895\tvalid_1's rmse: 4.92113\n",
      "[800]\ttraining's rmse: 2.37217\tvalid_1's rmse: 4.82444\n",
      "[1000]\ttraining's rmse: 2.15665\tvalid_1's rmse: 4.75067\n",
      "[1200]\ttraining's rmse: 1.99993\tvalid_1's rmse: 4.72082\n",
      "[1400]\ttraining's rmse: 1.87737\tvalid_1's rmse: 4.70047\n",
      "[1600]\ttraining's rmse: 1.778\tvalid_1's rmse: 4.67698\n",
      "[1800]\ttraining's rmse: 1.697\tvalid_1's rmse: 4.6669\n",
      "[2000]\ttraining's rmse: 1.62716\tvalid_1's rmse: 4.65706\n",
      "[2200]\ttraining's rmse: 1.56663\tvalid_1's rmse: 4.64753\n",
      "[2400]\ttraining's rmse: 1.51271\tvalid_1's rmse: 4.64172\n",
      "[2600]\ttraining's rmse: 1.46605\tvalid_1's rmse: 4.63774\n",
      "[2800]\ttraining's rmse: 1.42632\tvalid_1's rmse: 4.64093\n",
      "Early stopping, best iteration is:\n",
      "[2706]\ttraining's rmse: 1.44526\tvalid_1's rmse: 4.63262\n"
     ]
    },
    {
     "name": "stderr",
     "output_type": "stream",
     "text": [
      "[1.8GB(+0.0GB): 46.471sec] fit Y\n"
     ]
    },
    {
     "name": "stdout",
     "output_type": "stream",
     "text": [
      "Training until validation scores don't improve for 20 rounds\n",
      "[200]\ttraining's multi_logloss: 0.0422141\tvalid_1's multi_logloss: 0.0458012\n",
      "Early stopping, best iteration is:\n",
      "[298]\ttraining's multi_logloss: 0.0416921\tvalid_1's multi_logloss: 0.0452071\n"
     ]
    },
    {
     "name": "stderr",
     "output_type": "stream",
     "text": [
      "[1.8GB(+0.0GB): 8.038sec] fit F\n"
     ]
    },
    {
     "name": "stdout",
     "output_type": "stream",
     "text": [
      "pos_loss = 4.374720124156529, floor_loss = 0.007139457401237506\n",
      "fold 2: mean position error 4.381859581557767\n"
     ]
    },
    {
     "name": "stderr",
     "output_type": "stream",
     "text": [
      "[1.8GB(+0.0GB): 66.689sec] fit X\n"
     ]
    },
    {
     "name": "stdout",
     "output_type": "stream",
     "text": [
      "Training until validation scores don't improve for 200 rounds\n",
      "[200]\ttraining's rmse: 4.35194\tvalid_1's rmse: 5.49816\n",
      "[400]\ttraining's rmse: 3.20813\tvalid_1's rmse: 4.79769\n",
      "[600]\ttraining's rmse: 2.68552\tvalid_1's rmse: 4.52903\n",
      "[800]\ttraining's rmse: 2.37435\tvalid_1's rmse: 4.3947\n",
      "[1000]\ttraining's rmse: 2.16254\tvalid_1's rmse: 4.32615\n",
      "[1200]\ttraining's rmse: 2.00294\tvalid_1's rmse: 4.27249\n",
      "[1400]\ttraining's rmse: 1.88022\tvalid_1's rmse: 4.24741\n",
      "[1600]\ttraining's rmse: 1.77907\tvalid_1's rmse: 4.21798\n",
      "[1800]\ttraining's rmse: 1.69655\tvalid_1's rmse: 4.19349\n",
      "[2000]\ttraining's rmse: 1.62797\tvalid_1's rmse: 4.18134\n",
      "[2200]\ttraining's rmse: 1.56964\tvalid_1's rmse: 4.17093\n",
      "[2400]\ttraining's rmse: 1.5171\tvalid_1's rmse: 4.15955\n",
      "[2600]\ttraining's rmse: 1.47082\tvalid_1's rmse: 4.15819\n",
      "Early stopping, best iteration is:\n",
      "[2412]\ttraining's rmse: 1.51355\tvalid_1's rmse: 4.15703\n"
     ]
    },
    {
     "name": "stderr",
     "output_type": "stream",
     "text": [
      "[1.8GB(+0.0GB): 42.022sec] fit Y\n"
     ]
    },
    {
     "name": "stdout",
     "output_type": "stream",
     "text": [
      "Training until validation scores don't improve for 20 rounds\n",
      "[200]\ttraining's multi_logloss: 0.0420096\tvalid_1's multi_logloss: 0.0440644\n",
      "Early stopping, best iteration is:\n",
      "[191]\ttraining's multi_logloss: 0.0420096\tvalid_1's multi_logloss: 0.0440644\n"
     ]
    },
    {
     "name": "stderr",
     "output_type": "stream",
     "text": [
      "[1.8GB(+0.0GB): 5.545sec] fit F\n"
     ]
    },
    {
     "name": "stdout",
     "output_type": "stream",
     "text": [
      "pos_loss = 4.181735790229544, floor_loss = 0.0\n",
      "fold 3: mean position error 4.181735790229544\n"
     ]
    },
    {
     "name": "stderr",
     "output_type": "stream",
     "text": [
      "[1.8GB(+0.0GB): 55.584sec] fit X\n"
     ]
    },
    {
     "name": "stdout",
     "output_type": "stream",
     "text": [
      "Training until validation scores don't improve for 200 rounds\n",
      "[200]\ttraining's rmse: 4.2246\tvalid_1's rmse: 6.24135\n",
      "[400]\ttraining's rmse: 3.06443\tvalid_1's rmse: 5.49979\n",
      "[600]\ttraining's rmse: 2.55447\tvalid_1's rmse: 5.27523\n",
      "[800]\ttraining's rmse: 2.25116\tvalid_1's rmse: 5.15909\n",
      "[1000]\ttraining's rmse: 2.04529\tvalid_1's rmse: 5.08545\n",
      "[1200]\ttraining's rmse: 1.89907\tvalid_1's rmse: 5.0434\n",
      "[1400]\ttraining's rmse: 1.78193\tvalid_1's rmse: 5.01292\n",
      "[1600]\ttraining's rmse: 1.6849\tvalid_1's rmse: 4.99054\n",
      "[1800]\ttraining's rmse: 1.60667\tvalid_1's rmse: 4.97679\n",
      "[2000]\ttraining's rmse: 1.5404\tvalid_1's rmse: 4.96213\n",
      "[2200]\ttraining's rmse: 1.48226\tvalid_1's rmse: 4.95406\n",
      "[2400]\ttraining's rmse: 1.43164\tvalid_1's rmse: 4.94797\n",
      "[2600]\ttraining's rmse: 1.3879\tvalid_1's rmse: 4.94219\n",
      "[2800]\ttraining's rmse: 1.34975\tvalid_1's rmse: 4.93807\n",
      "[3000]\ttraining's rmse: 1.31566\tvalid_1's rmse: 4.93226\n",
      "[3200]\ttraining's rmse: 1.28534\tvalid_1's rmse: 4.92971\n",
      "[3400]\ttraining's rmse: 1.25847\tvalid_1's rmse: 4.92598\n",
      "Early stopping, best iteration is:\n",
      "[3386]\ttraining's rmse: 1.25999\tvalid_1's rmse: 4.92403\n"
     ]
    },
    {
     "name": "stderr",
     "output_type": "stream",
     "text": [
      "[1.8GB(+0.0GB): 57.087sec] fit Y\n"
     ]
    },
    {
     "name": "stdout",
     "output_type": "stream",
     "text": [
      "Training until validation scores don't improve for 20 rounds\n",
      "[200]\ttraining's multi_logloss: 0.0417883\tvalid_1's multi_logloss: 0.0462221\n",
      "[400]\ttraining's multi_logloss: 0.0410209\tvalid_1's multi_logloss: 0.0453188\n",
      "Early stopping, best iteration is:\n",
      "[388]\ttraining's multi_logloss: 0.0410239\tvalid_1's multi_logloss: 0.0453182\n"
     ]
    },
    {
     "name": "stderr",
     "output_type": "stream",
     "text": [
      "[1.8GB(+0.0GB): 10.660sec] fit F\n"
     ]
    },
    {
     "name": "stdout",
     "output_type": "stream",
     "text": [
      "pos_loss = 4.420189945613725, floor_loss = 0.06425511661113756\n",
      "fold 4: mean position error 4.484445062224863\n",
      "*+*+*+*+*+*+*+*+*+*+*+*+*+*+*+*+*+*+*+*+*+*+*+*+*+*+*+*+*+*+*+*+*+*+*+*+*+*+*+*+\n",
      "file #4, shape=(10507, 2494), name=5d27097f03f801723c320d97_train.csv\n",
      "pos_loss = 4.346214327748351, floor_loss = 0.03426287237080042\n",
      "mean position error 4.380477200119151\n",
      "*+*+*+*+*+*+*+*+*+*+*+*+*+*+*+*+*+*+*+*+*+*+*+*+*+*+*+*+*+*+*+*+*+*+*+*+*+*+*+*+\n"
     ]
    },
    {
     "name": "stderr",
     "output_type": "stream",
     "text": [
      "[1.7GB(+0.0GB): 5.131sec] fit X\n"
     ]
    },
    {
     "name": "stdout",
     "output_type": "stream",
     "text": [
      "Training until validation scores don't improve for 200 rounds\n",
      "[200]\ttraining's rmse: 1.70339\tvalid_1's rmse: 3.01669\n",
      "[400]\ttraining's rmse: 1.15263\tvalid_1's rmse: 2.87484\n",
      "[600]\ttraining's rmse: 0.908847\tvalid_1's rmse: 2.83377\n",
      "[800]\ttraining's rmse: 0.772016\tvalid_1's rmse: 2.80809\n",
      "[1000]\ttraining's rmse: 0.685514\tvalid_1's rmse: 2.79838\n",
      "[1200]\ttraining's rmse: 0.622584\tvalid_1's rmse: 2.7896\n",
      "[1400]\ttraining's rmse: 0.574073\tvalid_1's rmse: 2.78361\n",
      "[1600]\ttraining's rmse: 0.534613\tvalid_1's rmse: 2.77868\n",
      "[1800]\ttraining's rmse: 0.504337\tvalid_1's rmse: 2.77384\n",
      "[2000]\ttraining's rmse: 0.478632\tvalid_1's rmse: 2.77246\n",
      "Early stopping, best iteration is:\n",
      "[1975]\ttraining's rmse: 0.481435\tvalid_1's rmse: 2.77183\n"
     ]
    },
    {
     "name": "stderr",
     "output_type": "stream",
     "text": [
      "[1.7GB(+0.0GB): 4.960sec] fit Y\n"
     ]
    },
    {
     "name": "stdout",
     "output_type": "stream",
     "text": [
      "Training until validation scores don't improve for 20 rounds\n",
      "[200]\ttraining's multi_logloss: 0.0277385\tvalid_1's multi_logloss: 0.0296376\n",
      "[400]\ttraining's multi_logloss: 0.0274622\tvalid_1's multi_logloss: 0.0293598\n",
      "[600]\ttraining's multi_logloss: 0.0271992\tvalid_1's multi_logloss: 0.0291071\n",
      "Early stopping, best iteration is:\n",
      "[591]\ttraining's multi_logloss: 0.0271992\tvalid_1's multi_logloss: 0.0291071\n",
      "pos_loss = 2.5711711399160064, floor_loss = 0.0\n",
      "fold 0: mean position error 2.5711711399160064\n"
     ]
    },
    {
     "name": "stderr",
     "output_type": "stream",
     "text": [
      "[1.7GB(+0.0GB): 2.565sec] fit F\n",
      "[1.7GB(+0.0GB): 4.233sec] fit X\n"
     ]
    },
    {
     "name": "stdout",
     "output_type": "stream",
     "text": [
      "Training until validation scores don't improve for 200 rounds\n",
      "[200]\ttraining's rmse: 1.66582\tvalid_1's rmse: 2.86588\n",
      "[400]\ttraining's rmse: 1.13324\tvalid_1's rmse: 2.68793\n",
      "[600]\ttraining's rmse: 0.900139\tvalid_1's rmse: 2.64185\n",
      "[800]\ttraining's rmse: 0.765593\tvalid_1's rmse: 2.6243\n",
      "[1000]\ttraining's rmse: 0.676317\tvalid_1's rmse: 2.61303\n",
      "[1200]\ttraining's rmse: 0.614411\tvalid_1's rmse: 2.60804\n",
      "[1400]\ttraining's rmse: 0.566541\tvalid_1's rmse: 2.60732\n",
      "[1600]\ttraining's rmse: 0.530114\tvalid_1's rmse: 2.60732\n",
      "Early stopping, best iteration is:\n",
      "[1534]\ttraining's rmse: 0.541268\tvalid_1's rmse: 2.60567\n"
     ]
    },
    {
     "name": "stderr",
     "output_type": "stream",
     "text": [
      "[1.7GB(+0.0GB): 4.261sec] fit Y\n"
     ]
    },
    {
     "name": "stdout",
     "output_type": "stream",
     "text": [
      "Training until validation scores don't improve for 20 rounds\n",
      "[200]\ttraining's multi_logloss: 0.0278469\tvalid_1's multi_logloss: 0.0291313\n",
      "[400]\ttraining's multi_logloss: 0.027535\tvalid_1's multi_logloss: 0.0288214\n",
      "Early stopping, best iteration is:\n",
      "[478]\ttraining's multi_logloss: 0.0275064\tvalid_1's multi_logloss: 0.0287904\n",
      "pos_loss = 2.371526351648982, floor_loss = 0.0\n",
      "fold 1: mean position error 2.371526351648982\n"
     ]
    },
    {
     "name": "stderr",
     "output_type": "stream",
     "text": [
      "[1.7GB(+0.0GB): 2.111sec] fit F\n",
      "[1.7GB(+0.0GB): 5.902sec] fit X\n"
     ]
    },
    {
     "name": "stdout",
     "output_type": "stream",
     "text": [
      "Training until validation scores don't improve for 200 rounds\n",
      "[200]\ttraining's rmse: 1.69147\tvalid_1's rmse: 3.06652\n",
      "[400]\ttraining's rmse: 1.14573\tvalid_1's rmse: 2.87579\n",
      "[600]\ttraining's rmse: 0.90781\tvalid_1's rmse: 2.82261\n",
      "[800]\ttraining's rmse: 0.771009\tvalid_1's rmse: 2.80056\n",
      "[1000]\ttraining's rmse: 0.681268\tvalid_1's rmse: 2.79156\n",
      "[1200]\ttraining's rmse: 0.619352\tvalid_1's rmse: 2.78369\n",
      "[1400]\ttraining's rmse: 0.572048\tvalid_1's rmse: 2.78019\n",
      "[1600]\ttraining's rmse: 0.533685\tvalid_1's rmse: 2.77929\n",
      "Early stopping, best iteration is:\n",
      "[1456]\ttraining's rmse: 0.560466\tvalid_1's rmse: 2.77792\n"
     ]
    },
    {
     "name": "stderr",
     "output_type": "stream",
     "text": [
      "[1.7GB(+0.0GB): 3.993sec] fit Y\n"
     ]
    },
    {
     "name": "stdout",
     "output_type": "stream",
     "text": [
      "Training until validation scores don't improve for 20 rounds\n",
      "[200]\ttraining's multi_logloss: 0.0279954\tvalid_1's multi_logloss: 0.0300677\n",
      "[400]\ttraining's multi_logloss: 0.0276169\tvalid_1's multi_logloss: 0.0296086\n",
      "Early stopping, best iteration is:\n",
      "[396]\ttraining's multi_logloss: 0.0276169\tvalid_1's multi_logloss: 0.0296086\n",
      "pos_loss = 2.6232112754160037, floor_loss = 0.0\n",
      "fold 2: mean position error 2.6232112754160037\n"
     ]
    },
    {
     "name": "stderr",
     "output_type": "stream",
     "text": [
      "[1.7GB(+0.0GB): 1.803sec] fit F\n",
      "[1.7GB(+0.0GB): 3.677sec] fit X\n"
     ]
    },
    {
     "name": "stdout",
     "output_type": "stream",
     "text": [
      "Training until validation scores don't improve for 200 rounds\n",
      "[200]\ttraining's rmse: 1.76037\tvalid_1's rmse: 3.43979\n",
      "[400]\ttraining's rmse: 1.20276\tvalid_1's rmse: 3.20198\n",
      "[600]\ttraining's rmse: 0.948003\tvalid_1's rmse: 3.1011\n",
      "[800]\ttraining's rmse: 0.792099\tvalid_1's rmse: 3.04718\n",
      "[1000]\ttraining's rmse: 0.691419\tvalid_1's rmse: 3.00908\n",
      "[1200]\ttraining's rmse: 0.622724\tvalid_1's rmse: 2.98535\n",
      "[1400]\ttraining's rmse: 0.573137\tvalid_1's rmse: 2.97336\n",
      "[1600]\ttraining's rmse: 0.53521\tvalid_1's rmse: 2.96394\n",
      "[1800]\ttraining's rmse: 0.504806\tvalid_1's rmse: 2.96001\n",
      "[2000]\ttraining's rmse: 0.477813\tvalid_1's rmse: 2.95791\n",
      "[2200]\ttraining's rmse: 0.454195\tvalid_1's rmse: 2.95587\n",
      "[2400]\ttraining's rmse: 0.436431\tvalid_1's rmse: 2.9543\n",
      "[2600]\ttraining's rmse: 0.419066\tvalid_1's rmse: 2.95255\n",
      "[2800]\ttraining's rmse: 0.404031\tvalid_1's rmse: 2.95208\n",
      "Early stopping, best iteration is:\n",
      "[2773]\ttraining's rmse: 0.406243\tvalid_1's rmse: 2.95178\n"
     ]
    },
    {
     "name": "stderr",
     "output_type": "stream",
     "text": [
      "[1.7GB(+0.0GB): 6.268sec] fit Y\n"
     ]
    },
    {
     "name": "stdout",
     "output_type": "stream",
     "text": [
      "Training until validation scores don't improve for 20 rounds\n",
      "[200]\ttraining's multi_logloss: 0.0277795\tvalid_1's multi_logloss: 0.0279463\n",
      "[400]\ttraining's multi_logloss: 0.0275133\tvalid_1's multi_logloss: 0.0276884\n",
      "Early stopping, best iteration is:\n",
      "[515]\ttraining's multi_logloss: 0.0273015\tvalid_1's multi_logloss: 0.0274897\n",
      "pos_loss = 2.64491052303924, floor_loss = 0.0\n",
      "fold 3: mean position error 2.64491052303924\n"
     ]
    },
    {
     "name": "stderr",
     "output_type": "stream",
     "text": [
      "[1.7GB(+0.0GB): 2.251sec] fit F\n",
      "[1.7GB(+0.0GB): 6.498sec] fit X\n"
     ]
    },
    {
     "name": "stdout",
     "output_type": "stream",
     "text": [
      "Training until validation scores don't improve for 200 rounds\n",
      "[200]\ttraining's rmse: 1.67189\tvalid_1's rmse: 2.79665\n",
      "[400]\ttraining's rmse: 1.1381\tvalid_1's rmse: 2.69193\n",
      "[600]\ttraining's rmse: 0.900581\tvalid_1's rmse: 2.66634\n",
      "[800]\ttraining's rmse: 0.768261\tvalid_1's rmse: 2.65603\n",
      "[1000]\ttraining's rmse: 0.679592\tvalid_1's rmse: 2.64788\n",
      "[1200]\ttraining's rmse: 0.616335\tvalid_1's rmse: 2.64273\n",
      "[1400]\ttraining's rmse: 0.568171\tvalid_1's rmse: 2.64226\n",
      "Early stopping, best iteration is:\n",
      "[1384]\ttraining's rmse: 0.571746\tvalid_1's rmse: 2.64133\n"
     ]
    },
    {
     "name": "stderr",
     "output_type": "stream",
     "text": [
      "[1.7GB(+0.0GB): 3.861sec] fit Y\n"
     ]
    },
    {
     "name": "stdout",
     "output_type": "stream",
     "text": [
      "Training until validation scores don't improve for 20 rounds\n",
      "[200]\ttraining's multi_logloss: 0.0276604\tvalid_1's multi_logloss: 0.0283748\n",
      "[400]\ttraining's multi_logloss: 0.0274114\tvalid_1's multi_logloss: 0.0281186\n",
      "[600]\ttraining's multi_logloss: 0.0271896\tvalid_1's multi_logloss: 0.0278882\n",
      "Early stopping, best iteration is:\n",
      "[592]\ttraining's multi_logloss: 0.0271896\tvalid_1's multi_logloss: 0.0278882\n",
      "pos_loss = 2.5434663774151183, floor_loss = 0.0\n",
      "fold 4: mean position error 2.5434663774151183\n",
      "*+*+*+*+*+*+*+*+*+*+*+*+*+*+*+*+*+*+*+*+*+*+*+*+*+*+*+*+*+*+*+*+*+*+*+*+*+*+*+*+\n",
      "file #5, shape=(4251, 929), name=5d27099f03f801723c32511d_train.csv\n",
      "pos_loss = 2.5508619121289025, floor_loss = 0.0\n",
      "mean position error 2.5508619121289025\n",
      "*+*+*+*+*+*+*+*+*+*+*+*+*+*+*+*+*+*+*+*+*+*+*+*+*+*+*+*+*+*+*+*+*+*+*+*+*+*+*+*+\n"
     ]
    },
    {
     "name": "stderr",
     "output_type": "stream",
     "text": [
      "[1.7GB(+0.0GB): 2.579sec] fit F\n",
      "[1.7GB(+0.0GB): 15.657sec] fit X\n"
     ]
    },
    {
     "name": "stdout",
     "output_type": "stream",
     "text": [
      "Training until validation scores don't improve for 200 rounds\n",
      "[200]\ttraining's rmse: 1.47193\tvalid_1's rmse: 2.53903\n",
      "[400]\ttraining's rmse: 1.06544\tvalid_1's rmse: 2.42568\n",
      "[600]\ttraining's rmse: 0.890435\tvalid_1's rmse: 2.4029\n",
      "[800]\ttraining's rmse: 0.783486\tvalid_1's rmse: 2.39511\n",
      "[1000]\ttraining's rmse: 0.710229\tvalid_1's rmse: 2.3913\n",
      "[1200]\ttraining's rmse: 0.656902\tvalid_1's rmse: 2.38753\n",
      "[1400]\ttraining's rmse: 0.615316\tvalid_1's rmse: 2.38597\n",
      "[1600]\ttraining's rmse: 0.579237\tvalid_1's rmse: 2.38557\n",
      "[1800]\ttraining's rmse: 0.549359\tvalid_1's rmse: 2.38207\n",
      "[2000]\ttraining's rmse: 0.524402\tvalid_1's rmse: 2.38381\n",
      "Early stopping, best iteration is:\n",
      "[1880]\ttraining's rmse: 0.53967\tvalid_1's rmse: 2.38158\n"
     ]
    },
    {
     "name": "stderr",
     "output_type": "stream",
     "text": [
      "[1.7GB(+0.0GB): 11.468sec] fit Y\n"
     ]
    },
    {
     "name": "stdout",
     "output_type": "stream",
     "text": [
      "Training until validation scores don't improve for 20 rounds\n",
      "[200]\ttraining's multi_logloss: 0.0372354\tvalid_1's multi_logloss: 0.0406079\n",
      "[400]\ttraining's multi_logloss: 0.036712\tvalid_1's multi_logloss: 0.0400613\n",
      "Early stopping, best iteration is:\n",
      "[543]\ttraining's multi_logloss: 0.0364919\tvalid_1's multi_logloss: 0.0398376\n",
      "pos_loss = 2.738764437514911, floor_loss = 0.0\n",
      "fold 0: mean position error 2.738764437514911\n"
     ]
    },
    {
     "name": "stderr",
     "output_type": "stream",
     "text": [
      "[1.7GB(+0.0GB): 5.191sec] fit F\n",
      "[1.7GB(+0.0GB): 15.834sec] fit X\n"
     ]
    },
    {
     "name": "stdout",
     "output_type": "stream",
     "text": [
      "Training until validation scores don't improve for 200 rounds\n",
      "[200]\ttraining's rmse: 1.52452\tvalid_1's rmse: 2.57161\n",
      "[400]\ttraining's rmse: 1.08951\tvalid_1's rmse: 2.4159\n",
      "[600]\ttraining's rmse: 0.899396\tvalid_1's rmse: 2.36493\n",
      "[800]\ttraining's rmse: 0.785412\tvalid_1's rmse: 2.349\n",
      "[1000]\ttraining's rmse: 0.710528\tvalid_1's rmse: 2.34084\n",
      "[1200]\ttraining's rmse: 0.654755\tvalid_1's rmse: 2.33819\n",
      "Early stopping, best iteration is:\n",
      "[1136]\ttraining's rmse: 0.670965\tvalid_1's rmse: 2.33621\n"
     ]
    },
    {
     "name": "stderr",
     "output_type": "stream",
     "text": [
      "[1.7GB(+0.0GB): 7.659sec] fit Y\n"
     ]
    },
    {
     "name": "stdout",
     "output_type": "stream",
     "text": [
      "Training until validation scores don't improve for 20 rounds\n",
      "Early stopping, best iteration is:\n",
      "[122]\ttraining's multi_logloss: 0.0388033\tvalid_1's multi_logloss: 0.0380128\n",
      "pos_loss = 2.8078425371532, floor_loss = 0.0\n",
      "fold 1: mean position error 2.8078425371532\n"
     ]
    },
    {
     "name": "stderr",
     "output_type": "stream",
     "text": [
      "[1.7GB(+0.0GB): 1.220sec] fit F\n",
      "[1.7GB(+0.0GB): 13.630sec] fit X\n"
     ]
    },
    {
     "name": "stdout",
     "output_type": "stream",
     "text": [
      "Training until validation scores don't improve for 200 rounds\n",
      "[200]\ttraining's rmse: 1.50925\tvalid_1's rmse: 2.61785\n",
      "[400]\ttraining's rmse: 1.08909\tvalid_1's rmse: 2.46311\n",
      "[600]\ttraining's rmse: 0.903945\tvalid_1's rmse: 2.42362\n",
      "[800]\ttraining's rmse: 0.79458\tvalid_1's rmse: 2.39008\n",
      "[1000]\ttraining's rmse: 0.717942\tvalid_1's rmse: 2.37305\n",
      "[1200]\ttraining's rmse: 0.661235\tvalid_1's rmse: 2.36388\n",
      "[1400]\ttraining's rmse: 0.615842\tvalid_1's rmse: 2.35478\n",
      "[1600]\ttraining's rmse: 0.581016\tvalid_1's rmse: 2.35019\n",
      "[1800]\ttraining's rmse: 0.551166\tvalid_1's rmse: 2.34376\n",
      "[2000]\ttraining's rmse: 0.524714\tvalid_1's rmse: 2.33944\n",
      "[2200]\ttraining's rmse: 0.502404\tvalid_1's rmse: 2.33839\n",
      "[2400]\ttraining's rmse: 0.483544\tvalid_1's rmse: 2.33794\n",
      "[2600]\ttraining's rmse: 0.466391\tvalid_1's rmse: 2.33845\n",
      "Early stopping, best iteration is:\n",
      "[2484]\ttraining's rmse: 0.476322\tvalid_1's rmse: 2.33643\n"
     ]
    },
    {
     "name": "stderr",
     "output_type": "stream",
     "text": [
      "[1.7GB(+0.0GB): 14.420sec] fit Y\n"
     ]
    },
    {
     "name": "stdout",
     "output_type": "stream",
     "text": [
      "Training until validation scores don't improve for 20 rounds\n",
      "[200]\ttraining's multi_logloss: 0.0379533\tvalid_1's multi_logloss: 0.0414471\n",
      "Early stopping, best iteration is:\n",
      "[377]\ttraining's multi_logloss: 0.037311\tvalid_1's multi_logloss: 0.0408146\n",
      "pos_loss = 2.726581449192886, floor_loss = 0.0\n",
      "fold 2: mean position error 2.726581449192886\n"
     ]
    },
    {
     "name": "stderr",
     "output_type": "stream",
     "text": [
      "[1.7GB(+0.0GB): 3.452sec] fit F\n",
      "[1.7GB(+0.0GB): 14.223sec] fit X\n"
     ]
    },
    {
     "name": "stdout",
     "output_type": "stream",
     "text": [
      "Training until validation scores don't improve for 200 rounds\n",
      "[200]\ttraining's rmse: 1.51708\tvalid_1's rmse: 2.72024\n",
      "[400]\ttraining's rmse: 1.10012\tvalid_1's rmse: 2.53834\n",
      "[600]\ttraining's rmse: 0.915427\tvalid_1's rmse: 2.48331\n",
      "[800]\ttraining's rmse: 0.805307\tvalid_1's rmse: 2.44901\n",
      "[1000]\ttraining's rmse: 0.728001\tvalid_1's rmse: 2.43363\n",
      "[1200]\ttraining's rmse: 0.672696\tvalid_1's rmse: 2.4299\n",
      "[1400]\ttraining's rmse: 0.6278\tvalid_1's rmse: 2.42179\n",
      "[1600]\ttraining's rmse: 0.59091\tvalid_1's rmse: 2.41682\n",
      "[1800]\ttraining's rmse: 0.561446\tvalid_1's rmse: 2.4104\n",
      "[2000]\ttraining's rmse: 0.537961\tvalid_1's rmse: 2.40851\n",
      "[2200]\ttraining's rmse: 0.515293\tvalid_1's rmse: 2.40555\n",
      "[2400]\ttraining's rmse: 0.495217\tvalid_1's rmse: 2.40659\n",
      "Early stopping, best iteration is:\n",
      "[2201]\ttraining's rmse: 0.515233\tvalid_1's rmse: 2.40553\n"
     ]
    },
    {
     "name": "stderr",
     "output_type": "stream",
     "text": [
      "[1.7GB(+0.0GB): 13.207sec] fit Y\n"
     ]
    },
    {
     "name": "stdout",
     "output_type": "stream",
     "text": [
      "Training until validation scores don't improve for 20 rounds\n",
      "[200]\ttraining's multi_logloss: 0.0377147\tvalid_1's multi_logloss: 0.0392202\n",
      "[400]\ttraining's multi_logloss: 0.0373454\tvalid_1's multi_logloss: 0.0388679\n",
      "[600]\ttraining's multi_logloss: 0.0371146\tvalid_1's multi_logloss: 0.0386206\n",
      "Early stopping, best iteration is:\n",
      "[698]\ttraining's multi_logloss: 0.0369814\tvalid_1's multi_logloss: 0.0384727\n",
      "pos_loss = 2.817610325602758, floor_loss = 0.0\n",
      "fold 3: mean position error 2.817610325602758\n"
     ]
    },
    {
     "name": "stderr",
     "output_type": "stream",
     "text": [
      "[1.7GB(+0.0GB): 6.442sec] fit F\n",
      "[1.7GB(+0.0GB): 14.719sec] fit X\n"
     ]
    },
    {
     "name": "stdout",
     "output_type": "stream",
     "text": [
      "Training until validation scores don't improve for 200 rounds\n",
      "[200]\ttraining's rmse: 1.52235\tvalid_1's rmse: 2.6691\n",
      "[400]\ttraining's rmse: 1.10309\tvalid_1's rmse: 2.48168\n",
      "[600]\ttraining's rmse: 0.923868\tvalid_1's rmse: 2.42381\n",
      "[800]\ttraining's rmse: 0.812689\tvalid_1's rmse: 2.38573\n",
      "[1000]\ttraining's rmse: 0.736888\tvalid_1's rmse: 2.36917\n",
      "[1200]\ttraining's rmse: 0.680295\tvalid_1's rmse: 2.35549\n",
      "[1400]\ttraining's rmse: 0.635617\tvalid_1's rmse: 2.34661\n",
      "[1600]\ttraining's rmse: 0.598404\tvalid_1's rmse: 2.3375\n",
      "[1800]\ttraining's rmse: 0.567006\tvalid_1's rmse: 2.33465\n",
      "[2000]\ttraining's rmse: 0.538897\tvalid_1's rmse: 2.33047\n",
      "[2200]\ttraining's rmse: 0.516275\tvalid_1's rmse: 2.323\n",
      "[2400]\ttraining's rmse: 0.496662\tvalid_1's rmse: 2.31997\n",
      "[2600]\ttraining's rmse: 0.478558\tvalid_1's rmse: 2.31802\n",
      "[2800]\ttraining's rmse: 0.462955\tvalid_1's rmse: 2.31598\n",
      "[3000]\ttraining's rmse: 0.448788\tvalid_1's rmse: 2.31529\n",
      "Early stopping, best iteration is:\n",
      "[2892]\ttraining's rmse: 0.45627\tvalid_1's rmse: 2.31457\n"
     ]
    },
    {
     "name": "stderr",
     "output_type": "stream",
     "text": [
      "[1.7GB(+0.0GB): 16.361sec] fit Y\n"
     ]
    },
    {
     "name": "stdout",
     "output_type": "stream",
     "text": [
      "Training until validation scores don't improve for 20 rounds\n",
      "[200]\ttraining's multi_logloss: 0.0370521\tvalid_1's multi_logloss: 0.0392712\n",
      "[400]\ttraining's multi_logloss: 0.0366975\tvalid_1's multi_logloss: 0.0388941\n",
      "Early stopping, best iteration is:\n",
      "[499]\ttraining's multi_logloss: 0.0366163\tvalid_1's multi_logloss: 0.0388154\n",
      "pos_loss = 2.6993720070146696, floor_loss = 0.0\n",
      "fold 4: mean position error 2.6993720070146696\n",
      "*+*+*+*+*+*+*+*+*+*+*+*+*+*+*+*+*+*+*+*+*+*+*+*+*+*+*+*+*+*+*+*+*+*+*+*+*+*+*+*+\n",
      "file #6, shape=(3940, 1256), name=5d2709a003f801723c3251bf_train.csv\n",
      "pos_loss = 2.7580341512956847, floor_loss = 0.0\n",
      "mean position error 2.7580341512956847\n",
      "*+*+*+*+*+*+*+*+*+*+*+*+*+*+*+*+*+*+*+*+*+*+*+*+*+*+*+*+*+*+*+*+*+*+*+*+*+*+*+*+\n"
     ]
    },
    {
     "name": "stderr",
     "output_type": "stream",
     "text": [
      "[1.7GB(+0.0GB): 4.463sec] fit F\n",
      "[1.7GB(+0.0GB): 37.891sec] fit X\n"
     ]
    },
    {
     "name": "stdout",
     "output_type": "stream",
     "text": [
      "Training until validation scores don't improve for 200 rounds\n",
      "[200]\ttraining's rmse: 1.93647\tvalid_1's rmse: 2.80906\n",
      "[400]\ttraining's rmse: 1.40064\tvalid_1's rmse: 2.56583\n",
      "[600]\ttraining's rmse: 1.1475\tvalid_1's rmse: 2.47961\n",
      "[800]\ttraining's rmse: 0.988524\tvalid_1's rmse: 2.43934\n",
      "[1000]\ttraining's rmse: 0.880555\tvalid_1's rmse: 2.41519\n",
      "[1200]\ttraining's rmse: 0.79889\tvalid_1's rmse: 2.40103\n",
      "[1400]\ttraining's rmse: 0.734329\tvalid_1's rmse: 2.39193\n",
      "[1600]\ttraining's rmse: 0.683653\tvalid_1's rmse: 2.38473\n",
      "[1800]\ttraining's rmse: 0.641663\tvalid_1's rmse: 2.37837\n",
      "[2000]\ttraining's rmse: 0.606749\tvalid_1's rmse: 2.37417\n",
      "[2200]\ttraining's rmse: 0.577523\tvalid_1's rmse: 2.37086\n",
      "[2400]\ttraining's rmse: 0.552285\tvalid_1's rmse: 2.36962\n",
      "[2600]\ttraining's rmse: 0.531798\tvalid_1's rmse: 2.36757\n",
      "[2800]\ttraining's rmse: 0.5135\tvalid_1's rmse: 2.36612\n",
      "[3000]\ttraining's rmse: 0.497723\tvalid_1's rmse: 2.3653\n",
      "[3200]\ttraining's rmse: 0.48398\tvalid_1's rmse: 2.36388\n",
      "[3400]\ttraining's rmse: 0.471229\tvalid_1's rmse: 2.36384\n",
      "Early stopping, best iteration is:\n",
      "[3212]\ttraining's rmse: 0.483067\tvalid_1's rmse: 2.36349\n"
     ]
    },
    {
     "name": "stderr",
     "output_type": "stream",
     "text": [
      "[1.7GB(+0.0GB): 26.363sec] fit Y\n"
     ]
    },
    {
     "name": "stdout",
     "output_type": "stream",
     "text": [
      "Training until validation scores don't improve for 20 rounds\n",
      "[200]\ttraining's multi_logloss: 0.0269334\tvalid_1's multi_logloss: 0.029384\n",
      "[400]\ttraining's multi_logloss: 0.0263365\tvalid_1's multi_logloss: 0.0287349\n",
      "[600]\ttraining's multi_logloss: 0.0259481\tvalid_1's multi_logloss: 0.0283297\n",
      "[800]\ttraining's multi_logloss: 0.0256981\tvalid_1's multi_logloss: 0.0280579\n",
      "[1000]\ttraining's multi_logloss: 0.0254858\tvalid_1's multi_logloss: 0.0278342\n",
      "[1200]\ttraining's multi_logloss: 0.0253534\tvalid_1's multi_logloss: 0.0276918\n",
      "[1400]\ttraining's multi_logloss: 0.0252878\tvalid_1's multi_logloss: 0.0276246\n",
      "[1600]\ttraining's multi_logloss: 0.0252292\tvalid_1's multi_logloss: 0.0275632\n",
      "Early stopping, best iteration is:\n",
      "[1655]\ttraining's multi_logloss: 0.0252029\tvalid_1's multi_logloss: 0.0275376\n"
     ]
    },
    {
     "name": "stderr",
     "output_type": "stream",
     "text": [
      "[1.7GB(+0.0GB): 16.966sec] fit F\n"
     ]
    },
    {
     "name": "stdout",
     "output_type": "stream",
     "text": [
      "pos_loss = 2.8207012313416433, floor_loss = 0.009765625\n",
      "fold 0: mean position error 2.8304668563416433\n"
     ]
    },
    {
     "name": "stderr",
     "output_type": "stream",
     "text": [
      "[1.9GB(-0.0GB): 40.742sec] fit X\n"
     ]
    },
    {
     "name": "stdout",
     "output_type": "stream",
     "text": [
      "Training until validation scores don't improve for 200 rounds\n",
      "[200]\ttraining's rmse: 1.92412\tvalid_1's rmse: 2.86847\n",
      "[400]\ttraining's rmse: 1.38537\tvalid_1's rmse: 2.60519\n",
      "[600]\ttraining's rmse: 1.13298\tvalid_1's rmse: 2.51916\n",
      "[800]\ttraining's rmse: 0.975487\tvalid_1's rmse: 2.47601\n",
      "[1000]\ttraining's rmse: 0.865812\tvalid_1's rmse: 2.45179\n",
      "[1200]\ttraining's rmse: 0.783573\tvalid_1's rmse: 2.43692\n",
      "[1400]\ttraining's rmse: 0.719831\tvalid_1's rmse: 2.4276\n",
      "[1600]\ttraining's rmse: 0.669111\tvalid_1's rmse: 2.42053\n",
      "[1800]\ttraining's rmse: 0.626623\tvalid_1's rmse: 2.41482\n",
      "[2000]\ttraining's rmse: 0.59094\tvalid_1's rmse: 2.41344\n",
      "[2200]\ttraining's rmse: 0.560601\tvalid_1's rmse: 2.40898\n",
      "[2400]\ttraining's rmse: 0.5346\tvalid_1's rmse: 2.40513\n",
      "[2600]\ttraining's rmse: 0.512967\tvalid_1's rmse: 2.40161\n",
      "[2800]\ttraining's rmse: 0.493411\tvalid_1's rmse: 2.40158\n",
      "[3000]\ttraining's rmse: 0.476869\tvalid_1's rmse: 2.39922\n",
      "Early stopping, best iteration is:\n",
      "[2923]\ttraining's rmse: 0.482856\tvalid_1's rmse: 2.39865\n"
     ]
    },
    {
     "name": "stderr",
     "output_type": "stream",
     "text": [
      "[1.9GB(+0.0GB): 24.296sec] fit Y\n"
     ]
    },
    {
     "name": "stdout",
     "output_type": "stream",
     "text": [
      "Training until validation scores don't improve for 20 rounds\n",
      "[200]\ttraining's multi_logloss: 0.0269059\tvalid_1's multi_logloss: 0.0291235\n",
      "[400]\ttraining's multi_logloss: 0.0262832\tvalid_1's multi_logloss: 0.0284816\n",
      "[600]\ttraining's multi_logloss: 0.0260369\tvalid_1's multi_logloss: 0.0282007\n",
      "[800]\ttraining's multi_logloss: 0.0256619\tvalid_1's multi_logloss: 0.02779\n",
      "[1000]\ttraining's multi_logloss: 0.0254935\tvalid_1's multi_logloss: 0.0276027\n",
      "[1200]\ttraining's multi_logloss: 0.0253974\tvalid_1's multi_logloss: 0.0274945\n",
      "[1400]\ttraining's multi_logloss: 0.0252558\tvalid_1's multi_logloss: 0.0273355\n",
      "[1600]\ttraining's multi_logloss: 0.0250871\tvalid_1's multi_logloss: 0.0271615\n",
      "Early stopping, best iteration is:\n",
      "[1633]\ttraining's multi_logloss: 0.0250709\tvalid_1's multi_logloss: 0.0271424\n"
     ]
    },
    {
     "name": "stderr",
     "output_type": "stream",
     "text": [
      "[1.9GB(+0.0GB): 16.665sec] fit F\n"
     ]
    },
    {
     "name": "stdout",
     "output_type": "stream",
     "text": [
      "pos_loss = 2.874887042713269, floor_loss = 0.009765625\n",
      "fold 1: mean position error 2.884652667713269\n"
     ]
    },
    {
     "name": "stderr",
     "output_type": "stream",
     "text": [
      "[1.7GB(+0.0GB): 39.579sec] fit X\n"
     ]
    },
    {
     "name": "stdout",
     "output_type": "stream",
     "text": [
      "Training until validation scores don't improve for 200 rounds\n",
      "[200]\ttraining's rmse: 1.9221\tvalid_1's rmse: 2.87089\n",
      "[400]\ttraining's rmse: 1.37976\tvalid_1's rmse: 2.59707\n",
      "[600]\ttraining's rmse: 1.12802\tvalid_1's rmse: 2.50618\n",
      "[800]\ttraining's rmse: 0.974184\tvalid_1's rmse: 2.46009\n",
      "[1000]\ttraining's rmse: 0.865558\tvalid_1's rmse: 2.43586\n",
      "[1200]\ttraining's rmse: 0.785354\tvalid_1's rmse: 2.41952\n",
      "[1400]\ttraining's rmse: 0.722927\tvalid_1's rmse: 2.4108\n",
      "[1600]\ttraining's rmse: 0.673717\tvalid_1's rmse: 2.40444\n",
      "[1800]\ttraining's rmse: 0.633103\tvalid_1's rmse: 2.40009\n",
      "[2000]\ttraining's rmse: 0.599643\tvalid_1's rmse: 2.39569\n",
      "[2200]\ttraining's rmse: 0.571041\tvalid_1's rmse: 2.3916\n",
      "[2400]\ttraining's rmse: 0.546464\tvalid_1's rmse: 2.38818\n",
      "[2600]\ttraining's rmse: 0.52555\tvalid_1's rmse: 2.3855\n",
      "[2800]\ttraining's rmse: 0.507747\tvalid_1's rmse: 2.38386\n",
      "[3000]\ttraining's rmse: 0.492189\tvalid_1's rmse: 2.38285\n",
      "Early stopping, best iteration is:\n",
      "[2870]\ttraining's rmse: 0.502426\tvalid_1's rmse: 2.38201\n"
     ]
    },
    {
     "name": "stderr",
     "output_type": "stream",
     "text": [
      "[1.7GB(+0.0GB): 24.325sec] fit Y\n"
     ]
    },
    {
     "name": "stdout",
     "output_type": "stream",
     "text": [
      "Training until validation scores don't improve for 20 rounds\n",
      "[200]\ttraining's multi_logloss: 0.0266\tvalid_1's multi_logloss: 0.0298366\n",
      "[400]\ttraining's multi_logloss: 0.0259534\tvalid_1's multi_logloss: 0.0291515\n",
      "[600]\ttraining's multi_logloss: 0.0256385\tvalid_1's multi_logloss: 0.0288085\n",
      "Early stopping, best iteration is:\n",
      "[633]\ttraining's multi_logloss: 0.0256104\tvalid_1's multi_logloss: 0.0287823\n"
     ]
    },
    {
     "name": "stderr",
     "output_type": "stream",
     "text": [
      "[1.7GB(+0.0GB): 7.230sec] fit F\n"
     ]
    },
    {
     "name": "stdout",
     "output_type": "stream",
     "text": [
      "pos_loss = 2.7860331933395663, floor_loss = 0.01953125\n",
      "fold 2: mean position error 2.8055644433395663\n"
     ]
    },
    {
     "name": "stderr",
     "output_type": "stream",
     "text": [
      "[1.7GB(+0.0GB): 35.263sec] fit X\n"
     ]
    },
    {
     "name": "stdout",
     "output_type": "stream",
     "text": [
      "Training until validation scores don't improve for 200 rounds\n",
      "[200]\ttraining's rmse: 1.91408\tvalid_1's rmse: 2.9222\n",
      "[400]\ttraining's rmse: 1.37946\tvalid_1's rmse: 2.67263\n",
      "[600]\ttraining's rmse: 1.12561\tvalid_1's rmse: 2.5872\n",
      "[800]\ttraining's rmse: 0.966228\tvalid_1's rmse: 2.54752\n",
      "[1000]\ttraining's rmse: 0.855503\tvalid_1's rmse: 2.52024\n",
      "[1200]\ttraining's rmse: 0.774619\tvalid_1's rmse: 2.504\n",
      "[1400]\ttraining's rmse: 0.710662\tvalid_1's rmse: 2.49111\n",
      "[1600]\ttraining's rmse: 0.658985\tvalid_1's rmse: 2.48261\n",
      "[1800]\ttraining's rmse: 0.618491\tvalid_1's rmse: 2.47602\n",
      "[2000]\ttraining's rmse: 0.584244\tvalid_1's rmse: 2.472\n",
      "[2200]\ttraining's rmse: 0.555039\tvalid_1's rmse: 2.46851\n",
      "[2400]\ttraining's rmse: 0.530543\tvalid_1's rmse: 2.46615\n",
      "[2600]\ttraining's rmse: 0.509395\tvalid_1's rmse: 2.46511\n",
      "[2800]\ttraining's rmse: 0.490701\tvalid_1's rmse: 2.46346\n",
      "[3000]\ttraining's rmse: 0.474475\tvalid_1's rmse: 2.46323\n",
      "[3200]\ttraining's rmse: 0.460753\tvalid_1's rmse: 2.46112\n",
      "[3400]\ttraining's rmse: 0.448121\tvalid_1's rmse: 2.45999\n",
      "[3600]\ttraining's rmse: 0.437174\tvalid_1's rmse: 2.46012\n",
      "Early stopping, best iteration is:\n",
      "[3450]\ttraining's rmse: 0.445454\tvalid_1's rmse: 2.45876\n"
     ]
    },
    {
     "name": "stderr",
     "output_type": "stream",
     "text": [
      "[1.7GB(+0.0GB): 27.598sec] fit Y\n"
     ]
    },
    {
     "name": "stdout",
     "output_type": "stream",
     "text": [
      "Training until validation scores don't improve for 20 rounds\n",
      "[200]\ttraining's multi_logloss: 0.02689\tvalid_1's multi_logloss: 0.0303781\n",
      "[400]\ttraining's multi_logloss: 0.0262638\tvalid_1's multi_logloss: 0.0296931\n",
      "[600]\ttraining's multi_logloss: 0.0259505\tvalid_1's multi_logloss: 0.0293513\n",
      "[800]\ttraining's multi_logloss: 0.0255408\tvalid_1's multi_logloss: 0.0289055\n",
      "Early stopping, best iteration is:\n",
      "[796]\ttraining's multi_logloss: 0.0255408\tvalid_1's multi_logloss: 0.0289055\n"
     ]
    },
    {
     "name": "stderr",
     "output_type": "stream",
     "text": [
      "[1.7GB(+0.0GB): 8.603sec] fit F\n"
     ]
    },
    {
     "name": "stdout",
     "output_type": "stream",
     "text": [
      "pos_loss = 2.869551074861972, floor_loss = 0.01953760989905568\n",
      "fold 3: mean position error 2.889088684761028\n"
     ]
    },
    {
     "name": "stderr",
     "output_type": "stream",
     "text": [
      "[1.9GB(+0.0GB): 22.819sec] fit X\n"
     ]
    },
    {
     "name": "stdout",
     "output_type": "stream",
     "text": [
      "Training until validation scores don't improve for 200 rounds\n",
      "[200]\ttraining's rmse: 1.93923\tvalid_1's rmse: 2.99426\n",
      "[400]\ttraining's rmse: 1.40742\tvalid_1's rmse: 2.72362\n",
      "[600]\ttraining's rmse: 1.14859\tvalid_1's rmse: 2.63081\n",
      "[800]\ttraining's rmse: 0.99098\tvalid_1's rmse: 2.581\n",
      "[1000]\ttraining's rmse: 0.880649\tvalid_1's rmse: 2.55189\n",
      "[1200]\ttraining's rmse: 0.799431\tvalid_1's rmse: 2.53245\n",
      "[1400]\ttraining's rmse: 0.734528\tvalid_1's rmse: 2.51806\n",
      "[1600]\ttraining's rmse: 0.682881\tvalid_1's rmse: 2.50977\n",
      "[1800]\ttraining's rmse: 0.641358\tvalid_1's rmse: 2.50295\n",
      "[2000]\ttraining's rmse: 0.606781\tvalid_1's rmse: 2.49927\n",
      "[2200]\ttraining's rmse: 0.577695\tvalid_1's rmse: 2.49515\n",
      "[2400]\ttraining's rmse: 0.553504\tvalid_1's rmse: 2.49167\n",
      "[2600]\ttraining's rmse: 0.532379\tvalid_1's rmse: 2.4889\n",
      "[2800]\ttraining's rmse: 0.51431\tvalid_1's rmse: 2.48703\n",
      "[3000]\ttraining's rmse: 0.497642\tvalid_1's rmse: 2.48377\n",
      "[3200]\ttraining's rmse: 0.484003\tvalid_1's rmse: 2.48275\n",
      "Early stopping, best iteration is:\n",
      "[3069]\ttraining's rmse: 0.492873\tvalid_1's rmse: 2.48226\n"
     ]
    },
    {
     "name": "stderr",
     "output_type": "stream",
     "text": [
      "[1.9GB(+0.0GB): 25.055sec] fit Y\n"
     ]
    },
    {
     "name": "stdout",
     "output_type": "stream",
     "text": [
      "Training until validation scores don't improve for 20 rounds\n",
      "[200]\ttraining's multi_logloss: 0.0271391\tvalid_1's multi_logloss: 0.0300956\n",
      "[400]\ttraining's multi_logloss: 0.026411\tvalid_1's multi_logloss: 0.029322\n",
      "[600]\ttraining's multi_logloss: 0.0259352\tvalid_1's multi_logloss: 0.0288067\n",
      "[800]\ttraining's multi_logloss: 0.0257508\tvalid_1's multi_logloss: 0.0285979\n",
      "Early stopping, best iteration is:\n",
      "[933]\ttraining's multi_logloss: 0.0256388\tvalid_1's multi_logloss: 0.0284786\n"
     ]
    },
    {
     "name": "stderr",
     "output_type": "stream",
     "text": [
      "[1.9GB(+0.0GB): 9.779sec] fit F\n"
     ]
    },
    {
     "name": "stdout",
     "output_type": "stream",
     "text": [
      "pos_loss = 2.8104639698156313, floor_loss = 0.00488440247476392\n",
      "fold 4: mean position error 2.815348372290395\n",
      "*+*+*+*+*+*+*+*+*+*+*+*+*+*+*+*+*+*+*+*+*+*+*+*+*+*+*+*+*+*+*+*+*+*+*+*+*+*+*+*+\n",
      "file #7, shape=(15358, 1917), name=5d2709b303f801723c327472_train.csv\n",
      "pos_loss = 2.8323263022555514, floor_loss = 0.012696965750748796\n",
      "mean position error 2.8450232680063\n",
      "*+*+*+*+*+*+*+*+*+*+*+*+*+*+*+*+*+*+*+*+*+*+*+*+*+*+*+*+*+*+*+*+*+*+*+*+*+*+*+*+\n"
     ]
    },
    {
     "name": "stderr",
     "output_type": "stream",
     "text": [
      "[2.0GB(-0.0GB): 99.480sec] fit X\n"
     ]
    },
    {
     "name": "stdout",
     "output_type": "stream",
     "text": [
      "Training until validation scores don't improve for 200 rounds\n",
      "[200]\ttraining's rmse: 2.58476\tvalid_1's rmse: 3.93788\n",
      "[400]\ttraining's rmse: 1.8205\tvalid_1's rmse: 3.58459\n",
      "[600]\ttraining's rmse: 1.4571\tvalid_1's rmse: 3.45874\n",
      "[800]\ttraining's rmse: 1.23526\tvalid_1's rmse: 3.39084\n",
      "[1000]\ttraining's rmse: 1.07862\tvalid_1's rmse: 3.3485\n",
      "[1200]\ttraining's rmse: 0.959699\tvalid_1's rmse: 3.32579\n",
      "[1400]\ttraining's rmse: 0.866054\tvalid_1's rmse: 3.31068\n",
      "[1600]\ttraining's rmse: 0.79019\tvalid_1's rmse: 3.29719\n",
      "[1800]\ttraining's rmse: 0.726465\tvalid_1's rmse: 3.28819\n",
      "[2000]\ttraining's rmse: 0.672876\tvalid_1's rmse: 3.28037\n",
      "[2200]\ttraining's rmse: 0.626555\tvalid_1's rmse: 3.27555\n",
      "[2400]\ttraining's rmse: 0.587266\tvalid_1's rmse: 3.2721\n",
      "[2600]\ttraining's rmse: 0.551982\tvalid_1's rmse: 3.26838\n",
      "[2800]\ttraining's rmse: 0.521009\tvalid_1's rmse: 3.26657\n",
      "[3000]\ttraining's rmse: 0.49421\tvalid_1's rmse: 3.26508\n",
      "[3200]\ttraining's rmse: 0.47019\tvalid_1's rmse: 3.26329\n",
      "[3400]\ttraining's rmse: 0.448441\tvalid_1's rmse: 3.26181\n",
      "[3600]\ttraining's rmse: 0.429062\tvalid_1's rmse: 3.2596\n",
      "[3800]\ttraining's rmse: 0.412453\tvalid_1's rmse: 3.2594\n",
      "[4000]\ttraining's rmse: 0.397203\tvalid_1's rmse: 3.2588\n",
      "[4200]\ttraining's rmse: 0.384083\tvalid_1's rmse: 3.25815\n",
      "[4400]\ttraining's rmse: 0.371374\tvalid_1's rmse: 3.25753\n",
      "[4600]\ttraining's rmse: 0.35964\tvalid_1's rmse: 3.257\n",
      "[4800]\ttraining's rmse: 0.349051\tvalid_1's rmse: 3.25578\n",
      "[5000]\ttraining's rmse: 0.339494\tvalid_1's rmse: 3.25577\n",
      "[5200]\ttraining's rmse: 0.330062\tvalid_1's rmse: 3.25471\n",
      "Early stopping, best iteration is:\n",
      "[5188]\ttraining's rmse: 0.330655\tvalid_1's rmse: 3.25443\n"
     ]
    },
    {
     "name": "stderr",
     "output_type": "stream",
     "text": [
      "[2.0GB(-0.0GB): 123.906sec] fit Y\n"
     ]
    },
    {
     "name": "stdout",
     "output_type": "stream",
     "text": [
      "Training until validation scores don't improve for 20 rounds\n",
      "[200]\ttraining's multi_logloss: 0.0221457\tvalid_1's multi_logloss: 0.024054\n",
      "Early stopping, best iteration is:\n",
      "[207]\ttraining's multi_logloss: 0.0221457\tvalid_1's multi_logloss: 0.024054\n"
     ]
    },
    {
     "name": "stderr",
     "output_type": "stream",
     "text": [
      "[2.0GB(+0.0GB): 6.935sec] fit F\n"
     ]
    },
    {
     "name": "stdout",
     "output_type": "stream",
     "text": [
      "pos_loss = 3.3749782010796534, floor_loss = 0.0\n",
      "fold 0: mean position error 3.3749782010796534\n"
     ]
    },
    {
     "name": "stderr",
     "output_type": "stream",
     "text": [
      "[2.0GB(-0.0GB): 127.523sec] fit X\n"
     ]
    },
    {
     "name": "stdout",
     "output_type": "stream",
     "text": [
      "Training until validation scores don't improve for 200 rounds\n",
      "[200]\ttraining's rmse: 2.60587\tvalid_1's rmse: 4.11591\n",
      "[400]\ttraining's rmse: 1.83031\tvalid_1's rmse: 3.73247\n",
      "[600]\ttraining's rmse: 1.46879\tvalid_1's rmse: 3.61782\n",
      "[800]\ttraining's rmse: 1.24361\tvalid_1's rmse: 3.56148\n",
      "[1000]\ttraining's rmse: 1.08477\tvalid_1's rmse: 3.52215\n",
      "[1200]\ttraining's rmse: 0.96554\tvalid_1's rmse: 3.49954\n",
      "[1400]\ttraining's rmse: 0.871269\tvalid_1's rmse: 3.48333\n",
      "[1600]\ttraining's rmse: 0.79412\tvalid_1's rmse: 3.47249\n",
      "[1800]\ttraining's rmse: 0.729835\tvalid_1's rmse: 3.46089\n",
      "[2000]\ttraining's rmse: 0.675687\tvalid_1's rmse: 3.45445\n",
      "[2200]\ttraining's rmse: 0.629122\tvalid_1's rmse: 3.44905\n",
      "[2400]\ttraining's rmse: 0.588905\tvalid_1's rmse: 3.4464\n",
      "[2600]\ttraining's rmse: 0.554037\tvalid_1's rmse: 3.44466\n",
      "[2800]\ttraining's rmse: 0.522786\tvalid_1's rmse: 3.44223\n",
      "[3000]\ttraining's rmse: 0.495637\tvalid_1's rmse: 3.43945\n",
      "[3200]\ttraining's rmse: 0.471586\tvalid_1's rmse: 3.43776\n",
      "[3400]\ttraining's rmse: 0.449314\tvalid_1's rmse: 3.4355\n",
      "[3600]\ttraining's rmse: 0.430029\tvalid_1's rmse: 3.4347\n",
      "[3800]\ttraining's rmse: 0.413322\tvalid_1's rmse: 3.43397\n",
      "[4000]\ttraining's rmse: 0.397325\tvalid_1's rmse: 3.43267\n",
      "[4200]\ttraining's rmse: 0.383215\tvalid_1's rmse: 3.43162\n",
      "[4400]\ttraining's rmse: 0.371279\tvalid_1's rmse: 3.43044\n",
      "[4600]\ttraining's rmse: 0.359352\tvalid_1's rmse: 3.42983\n",
      "[4800]\ttraining's rmse: 0.348934\tvalid_1's rmse: 3.42937\n",
      "Early stopping, best iteration is:\n",
      "[4699]\ttraining's rmse: 0.354061\tvalid_1's rmse: 3.42922\n"
     ]
    },
    {
     "name": "stderr",
     "output_type": "stream",
     "text": [
      "[2.0GB(+0.0GB): 114.001sec] fit Y\n"
     ]
    },
    {
     "name": "stdout",
     "output_type": "stream",
     "text": [
      "Training until validation scores don't improve for 20 rounds\n",
      "[200]\ttraining's multi_logloss: 0.0219356\tvalid_1's multi_logloss: 0.0244263\n",
      "Early stopping, best iteration is:\n",
      "[258]\ttraining's multi_logloss: 0.0217326\tvalid_1's multi_logloss: 0.0241991\n"
     ]
    },
    {
     "name": "stderr",
     "output_type": "stream",
     "text": [
      "[2.0GB(+0.0GB): 8.770sec] fit F\n"
     ]
    },
    {
     "name": "stdout",
     "output_type": "stream",
     "text": [
      "pos_loss = 3.3645918700180646, floor_loss = 0.0\n",
      "fold 1: mean position error 3.3645918700180646\n"
     ]
    },
    {
     "name": "stderr",
     "output_type": "stream",
     "text": [
      "[2.0GB(-0.0GB): 103.378sec] fit X\n"
     ]
    },
    {
     "name": "stdout",
     "output_type": "stream",
     "text": [
      "Training until validation scores don't improve for 200 rounds\n",
      "[200]\ttraining's rmse: 2.59554\tvalid_1's rmse: 3.75471\n",
      "[400]\ttraining's rmse: 1.83566\tvalid_1's rmse: 3.34084\n",
      "[600]\ttraining's rmse: 1.47452\tvalid_1's rmse: 3.21026\n",
      "[800]\ttraining's rmse: 1.25029\tvalid_1's rmse: 3.14351\n",
      "[1000]\ttraining's rmse: 1.09125\tvalid_1's rmse: 3.10712\n",
      "[1200]\ttraining's rmse: 0.971369\tvalid_1's rmse: 3.08353\n",
      "[1400]\ttraining's rmse: 0.877361\tvalid_1's rmse: 3.07062\n",
      "[1600]\ttraining's rmse: 0.801159\tvalid_1's rmse: 3.0607\n",
      "[1800]\ttraining's rmse: 0.736884\tvalid_1's rmse: 3.0568\n",
      "[2000]\ttraining's rmse: 0.682415\tvalid_1's rmse: 3.05246\n",
      "[2200]\ttraining's rmse: 0.635097\tvalid_1's rmse: 3.04678\n",
      "[2400]\ttraining's rmse: 0.594518\tvalid_1's rmse: 3.04273\n",
      "[2600]\ttraining's rmse: 0.558831\tvalid_1's rmse: 3.03878\n",
      "[2800]\ttraining's rmse: 0.527202\tvalid_1's rmse: 3.03772\n",
      "[3000]\ttraining's rmse: 0.500094\tvalid_1's rmse: 3.03516\n",
      "[3200]\ttraining's rmse: 0.475966\tvalid_1's rmse: 3.03362\n",
      "[3400]\ttraining's rmse: 0.454369\tvalid_1's rmse: 3.03263\n",
      "[3600]\ttraining's rmse: 0.435738\tvalid_1's rmse: 3.03188\n",
      "[3800]\ttraining's rmse: 0.418964\tvalid_1's rmse: 3.03043\n",
      "[4000]\ttraining's rmse: 0.402811\tvalid_1's rmse: 3.02992\n",
      "[4200]\ttraining's rmse: 0.389247\tvalid_1's rmse: 3.02894\n",
      "[4400]\ttraining's rmse: 0.376787\tvalid_1's rmse: 3.0281\n",
      "[4600]\ttraining's rmse: 0.365919\tvalid_1's rmse: 3.02871\n",
      "Early stopping, best iteration is:\n",
      "[4426]\ttraining's rmse: 0.375063\tvalid_1's rmse: 3.02793\n"
     ]
    },
    {
     "name": "stderr",
     "output_type": "stream",
     "text": [
      "[2.0GB(+0.0GB): 108.182sec] fit Y\n"
     ]
    },
    {
     "name": "stdout",
     "output_type": "stream",
     "text": [
      "Training until validation scores don't improve for 20 rounds\n",
      "[200]\ttraining's multi_logloss: 0.021764\tvalid_1's multi_logloss: 0.0238051\n",
      "[400]\ttraining's multi_logloss: 0.0212987\tvalid_1's multi_logloss: 0.0233188\n",
      "[600]\ttraining's multi_logloss: 0.0211381\tvalid_1's multi_logloss: 0.0231487\n",
      "Early stopping, best iteration is:\n",
      "[611]\ttraining's multi_logloss: 0.0210938\tvalid_1's multi_logloss: 0.0231066\n"
     ]
    },
    {
     "name": "stderr",
     "output_type": "stream",
     "text": [
      "[2.0GB(+0.0GB): 19.126sec] fit F\n"
     ]
    },
    {
     "name": "stdout",
     "output_type": "stream",
     "text": [
      "pos_loss = 3.323958537261941, floor_loss = 0.0\n",
      "fold 2: mean position error 3.323958537261941\n"
     ]
    },
    {
     "name": "stderr",
     "output_type": "stream",
     "text": [
      "[2.0GB(-0.0GB): 122.386sec] fit X\n"
     ]
    },
    {
     "name": "stdout",
     "output_type": "stream",
     "text": [
      "Training until validation scores don't improve for 200 rounds\n",
      "[200]\ttraining's rmse: 2.62968\tvalid_1's rmse: 3.93846\n",
      "[400]\ttraining's rmse: 1.86774\tvalid_1's rmse: 3.51122\n",
      "[600]\ttraining's rmse: 1.50757\tvalid_1's rmse: 3.36309\n",
      "[800]\ttraining's rmse: 1.27827\tvalid_1's rmse: 3.29297\n",
      "[1000]\ttraining's rmse: 1.11559\tvalid_1's rmse: 3.25029\n",
      "[1200]\ttraining's rmse: 0.991078\tvalid_1's rmse: 3.2224\n",
      "[1400]\ttraining's rmse: 0.893459\tvalid_1's rmse: 3.20675\n",
      "[1600]\ttraining's rmse: 0.814067\tvalid_1's rmse: 3.19245\n",
      "[1800]\ttraining's rmse: 0.747362\tvalid_1's rmse: 3.18286\n",
      "[2000]\ttraining's rmse: 0.690561\tvalid_1's rmse: 3.17445\n",
      "[2200]\ttraining's rmse: 0.642647\tvalid_1's rmse: 3.16839\n",
      "[2400]\ttraining's rmse: 0.600514\tvalid_1's rmse: 3.16338\n",
      "[2600]\ttraining's rmse: 0.564084\tvalid_1's rmse: 3.16107\n",
      "[2800]\ttraining's rmse: 0.532016\tvalid_1's rmse: 3.15981\n",
      "[3000]\ttraining's rmse: 0.504306\tvalid_1's rmse: 3.15804\n",
      "[3200]\ttraining's rmse: 0.478915\tvalid_1's rmse: 3.1554\n",
      "[3400]\ttraining's rmse: 0.457152\tvalid_1's rmse: 3.15333\n",
      "[3600]\ttraining's rmse: 0.437378\tvalid_1's rmse: 3.15254\n",
      "[3800]\ttraining's rmse: 0.419912\tvalid_1's rmse: 3.15156\n",
      "[4000]\ttraining's rmse: 0.403366\tvalid_1's rmse: 3.14994\n",
      "[4200]\ttraining's rmse: 0.38866\tvalid_1's rmse: 3.14918\n",
      "[4400]\ttraining's rmse: 0.37522\tvalid_1's rmse: 3.149\n",
      "[4600]\ttraining's rmse: 0.364041\tvalid_1's rmse: 3.14846\n",
      "[4800]\ttraining's rmse: 0.353051\tvalid_1's rmse: 3.14866\n",
      "Early stopping, best iteration is:\n",
      "[4664]\ttraining's rmse: 0.360259\tvalid_1's rmse: 3.14806\n"
     ]
    },
    {
     "name": "stderr",
     "output_type": "stream",
     "text": [
      "[2.0GB(-0.0GB): 113.340sec] fit Y\n"
     ]
    },
    {
     "name": "stdout",
     "output_type": "stream",
     "text": [
      "Training until validation scores don't improve for 20 rounds\n",
      "[200]\ttraining's multi_logloss: 0.0217805\tvalid_1's multi_logloss: 0.0245204\n",
      "Early stopping, best iteration is:\n",
      "[284]\ttraining's multi_logloss: 0.0216316\tvalid_1's multi_logloss: 0.0243683\n"
     ]
    },
    {
     "name": "stderr",
     "output_type": "stream",
     "text": [
      "[2.0GB(+0.0GB): 9.645sec] fit F\n"
     ]
    },
    {
     "name": "stdout",
     "output_type": "stream",
     "text": [
      "pos_loss = 3.2672087408069075, floor_loss = 0.00436046511627907\n",
      "fold 3: mean position error 3.2715692059231865\n"
     ]
    },
    {
     "name": "stderr",
     "output_type": "stream",
     "text": [
      "[2.0GB(-0.0GB): 75.120sec] fit X\n"
     ]
    },
    {
     "name": "stdout",
     "output_type": "stream",
     "text": [
      "Training until validation scores don't improve for 200 rounds\n",
      "[200]\ttraining's rmse: 2.64297\tvalid_1's rmse: 3.99008\n",
      "[400]\ttraining's rmse: 1.83822\tvalid_1's rmse: 3.50976\n",
      "[600]\ttraining's rmse: 1.46708\tvalid_1's rmse: 3.35649\n",
      "[800]\ttraining's rmse: 1.2376\tvalid_1's rmse: 3.28463\n",
      "[1000]\ttraining's rmse: 1.07745\tvalid_1's rmse: 3.25293\n",
      "[1200]\ttraining's rmse: 0.958102\tvalid_1's rmse: 3.23584\n",
      "[1400]\ttraining's rmse: 0.864746\tvalid_1's rmse: 3.22274\n",
      "[1600]\ttraining's rmse: 0.789501\tvalid_1's rmse: 3.21254\n",
      "[1800]\ttraining's rmse: 0.726055\tvalid_1's rmse: 3.2067\n",
      "[2000]\ttraining's rmse: 0.672097\tvalid_1's rmse: 3.20111\n",
      "[2200]\ttraining's rmse: 0.626065\tvalid_1's rmse: 3.19713\n",
      "[2400]\ttraining's rmse: 0.58614\tvalid_1's rmse: 3.19388\n",
      "[2600]\ttraining's rmse: 0.551735\tvalid_1's rmse: 3.19266\n",
      "[2800]\ttraining's rmse: 0.520634\tvalid_1's rmse: 3.19004\n",
      "[3000]\ttraining's rmse: 0.493443\tvalid_1's rmse: 3.18956\n",
      "[3200]\ttraining's rmse: 0.469574\tvalid_1's rmse: 3.1891\n",
      "[3400]\ttraining's rmse: 0.448529\tvalid_1's rmse: 3.18893\n",
      "[3600]\ttraining's rmse: 0.42929\tvalid_1's rmse: 3.1868\n",
      "Early stopping, best iteration is:\n",
      "[3595]\ttraining's rmse: 0.429686\tvalid_1's rmse: 3.18668\n"
     ]
    },
    {
     "name": "stderr",
     "output_type": "stream",
     "text": [
      "[2.0GB(-0.0GB): 89.435sec] fit Y\n"
     ]
    },
    {
     "name": "stdout",
     "output_type": "stream",
     "text": [
      "Training until validation scores don't improve for 20 rounds\n",
      "[200]\ttraining's multi_logloss: 0.0216751\tvalid_1's multi_logloss: 0.0235512\n",
      "Early stopping, best iteration is:\n",
      "[196]\ttraining's multi_logloss: 0.0216751\tvalid_1's multi_logloss: 0.0235512\n"
     ]
    },
    {
     "name": "stderr",
     "output_type": "stream",
     "text": [
      "[2.0GB(+0.0GB): 7.101sec] fit F\n"
     ]
    },
    {
     "name": "stdout",
     "output_type": "stream",
     "text": [
      "pos_loss = 3.315880234641072, floor_loss = 0.0\n",
      "fold 4: mean position error 3.315880234641072\n",
      "*+*+*+*+*+*+*+*+*+*+*+*+*+*+*+*+*+*+*+*+*+*+*+*+*+*+*+*+*+*+*+*+*+*+*+*+*+*+*+*+\n",
      "file #8, shape=(17203, 2456), name=5d2709bb03f801723c32852c_train.csv\n",
      "pos_loss = 3.329327908905809, floor_loss = 0.0008719409405336278\n",
      "mean position error 3.3301998498463425\n",
      "*+*+*+*+*+*+*+*+*+*+*+*+*+*+*+*+*+*+*+*+*+*+*+*+*+*+*+*+*+*+*+*+*+*+*+*+*+*+*+*+\n"
     ]
    },
    {
     "name": "stderr",
     "output_type": "stream",
     "text": [
      "[2.5GB(-0.1GB): 82.428sec] fit X\n"
     ]
    },
    {
     "name": "stdout",
     "output_type": "stream",
     "text": [
      "Training until validation scores don't improve for 200 rounds\n",
      "[200]\ttraining's rmse: 2.03214\tvalid_1's rmse: 3.34231\n",
      "[400]\ttraining's rmse: 1.3839\tvalid_1's rmse: 3.09481\n",
      "[600]\ttraining's rmse: 1.07668\tvalid_1's rmse: 3.01432\n",
      "[800]\ttraining's rmse: 0.886269\tvalid_1's rmse: 2.98462\n",
      "[1000]\ttraining's rmse: 0.75435\tvalid_1's rmse: 2.96433\n",
      "[1200]\ttraining's rmse: 0.658915\tvalid_1's rmse: 2.95512\n",
      "[1400]\ttraining's rmse: 0.587068\tvalid_1's rmse: 2.94951\n",
      "[1600]\ttraining's rmse: 0.529684\tvalid_1's rmse: 2.94361\n",
      "[1800]\ttraining's rmse: 0.485509\tvalid_1's rmse: 2.94171\n",
      "[2000]\ttraining's rmse: 0.447723\tvalid_1's rmse: 2.94114\n",
      "[2200]\ttraining's rmse: 0.41906\tvalid_1's rmse: 2.94046\n",
      "Early stopping, best iteration is:\n",
      "[2138]\ttraining's rmse: 0.427002\tvalid_1's rmse: 2.93993\n"
     ]
    },
    {
     "name": "stderr",
     "output_type": "stream",
     "text": [
      "[2.5GB(+0.0GB): 92.581sec] fit Y\n"
     ]
    },
    {
     "name": "stdout",
     "output_type": "stream",
     "text": [
      "Training until validation scores don't improve for 20 rounds\n",
      "[200]\ttraining's multi_logloss: 0.0449139\tvalid_1's multi_logloss: 0.0465721\n",
      "Early stopping, best iteration is:\n",
      "[296]\ttraining's multi_logloss: 0.044744\tvalid_1's multi_logloss: 0.0463804\n"
     ]
    },
    {
     "name": "stderr",
     "output_type": "stream",
     "text": [
      "[2.5GB(-0.0GB): 25.882sec] fit F\n"
     ]
    },
    {
     "name": "stdout",
     "output_type": "stream",
     "text": [
      "pos_loss = 3.1877855011013083, floor_loss = 0.0\n",
      "fold 0: mean position error 3.1877855011013083\n"
     ]
    },
    {
     "name": "stderr",
     "output_type": "stream",
     "text": [
      "[2.5GB(+0.0GB): 105.010sec] fit X\n"
     ]
    },
    {
     "name": "stdout",
     "output_type": "stream",
     "text": [
      "Training until validation scores don't improve for 200 rounds\n",
      "[200]\ttraining's rmse: 2.05381\tvalid_1's rmse: 3.33557\n",
      "[400]\ttraining's rmse: 1.40406\tvalid_1's rmse: 3.03345\n",
      "[600]\ttraining's rmse: 1.09279\tvalid_1's rmse: 2.95998\n",
      "[800]\ttraining's rmse: 0.899174\tvalid_1's rmse: 2.92633\n",
      "[1000]\ttraining's rmse: 0.764102\tvalid_1's rmse: 2.90597\n",
      "[1200]\ttraining's rmse: 0.667541\tvalid_1's rmse: 2.89652\n",
      "[1400]\ttraining's rmse: 0.593482\tvalid_1's rmse: 2.8938\n",
      "[1600]\ttraining's rmse: 0.535086\tvalid_1's rmse: 2.89098\n",
      "[1800]\ttraining's rmse: 0.489531\tvalid_1's rmse: 2.88778\n",
      "[2000]\ttraining's rmse: 0.452073\tvalid_1's rmse: 2.88703\n",
      "[2200]\ttraining's rmse: 0.42352\tvalid_1's rmse: 2.88592\n",
      "[2400]\ttraining's rmse: 0.395581\tvalid_1's rmse: 2.88504\n",
      "Early stopping, best iteration is:\n",
      "[2255]\ttraining's rmse: 0.414881\tvalid_1's rmse: 2.88395\n"
     ]
    },
    {
     "name": "stderr",
     "output_type": "stream",
     "text": [
      "[2.5GB(-0.0GB): 96.564sec] fit Y\n"
     ]
    },
    {
     "name": "stdout",
     "output_type": "stream",
     "text": [
      "Training until validation scores don't improve for 20 rounds\n",
      "[200]\ttraining's multi_logloss: 0.0443248\tvalid_1's multi_logloss: 0.0458721\n",
      "Early stopping, best iteration is:\n",
      "[336]\ttraining's multi_logloss: 0.044041\tvalid_1's multi_logloss: 0.0455924\n"
     ]
    },
    {
     "name": "stderr",
     "output_type": "stream",
     "text": [
      "[2.5GB(-0.0GB): 31.077sec] fit F\n"
     ]
    },
    {
     "name": "stdout",
     "output_type": "stream",
     "text": [
      "pos_loss = 3.244741939980573, floor_loss = 0.0\n",
      "fold 1: mean position error 3.244741939980573\n"
     ]
    },
    {
     "name": "stderr",
     "output_type": "stream",
     "text": [
      "[2.5GB(+0.0GB): 79.339sec] fit X\n"
     ]
    },
    {
     "name": "stdout",
     "output_type": "stream",
     "text": [
      "Training until validation scores don't improve for 200 rounds\n",
      "[200]\ttraining's rmse: 2.05927\tvalid_1's rmse: 3.45046\n",
      "[400]\ttraining's rmse: 1.40392\tvalid_1's rmse: 3.13623\n",
      "[600]\ttraining's rmse: 1.09495\tvalid_1's rmse: 3.04489\n",
      "[800]\ttraining's rmse: 0.900273\tvalid_1's rmse: 2.99929\n",
      "[1000]\ttraining's rmse: 0.765628\tvalid_1's rmse: 2.97789\n",
      "[1200]\ttraining's rmse: 0.665741\tvalid_1's rmse: 2.96477\n",
      "[1400]\ttraining's rmse: 0.591854\tvalid_1's rmse: 2.95654\n",
      "[1600]\ttraining's rmse: 0.534592\tvalid_1's rmse: 2.95005\n",
      "[1800]\ttraining's rmse: 0.488961\tvalid_1's rmse: 2.94636\n",
      "[2000]\ttraining's rmse: 0.452082\tvalid_1's rmse: 2.94622\n",
      "Early stopping, best iteration is:\n",
      "[1845]\ttraining's rmse: 0.479982\tvalid_1's rmse: 2.94524\n"
     ]
    },
    {
     "name": "stderr",
     "output_type": "stream",
     "text": [
      "[2.5GB(-0.0GB): 82.715sec] fit Y\n"
     ]
    },
    {
     "name": "stdout",
     "output_type": "stream",
     "text": [
      "Training until validation scores don't improve for 20 rounds\n",
      "[200]\ttraining's multi_logloss: 0.0449004\tvalid_1's multi_logloss: 0.048878\n",
      "Early stopping, best iteration is:\n",
      "[209]\ttraining's multi_logloss: 0.0448486\tvalid_1's multi_logloss: 0.0488196\n"
     ]
    },
    {
     "name": "stderr",
     "output_type": "stream",
     "text": [
      "[2.5GB(-0.0GB): 20.236sec] fit F\n"
     ]
    },
    {
     "name": "stdout",
     "output_type": "stream",
     "text": [
      "pos_loss = 3.245925209343705, floor_loss = 0.0\n",
      "fold 2: mean position error 3.245925209343705\n"
     ]
    },
    {
     "name": "stderr",
     "output_type": "stream",
     "text": [
      "[2.5GB(+0.0GB): 105.912sec] fit X\n"
     ]
    },
    {
     "name": "stdout",
     "output_type": "stream",
     "text": [
      "Training until validation scores don't improve for 200 rounds\n",
      "[200]\ttraining's rmse: 2.04734\tvalid_1's rmse: 3.54534\n",
      "[400]\ttraining's rmse: 1.39558\tvalid_1's rmse: 3.24627\n",
      "[600]\ttraining's rmse: 1.08517\tvalid_1's rmse: 3.16976\n",
      "[800]\ttraining's rmse: 0.891907\tvalid_1's rmse: 3.134\n",
      "[1000]\ttraining's rmse: 0.760602\tvalid_1's rmse: 3.11229\n",
      "[1200]\ttraining's rmse: 0.662161\tvalid_1's rmse: 3.10459\n",
      "[1400]\ttraining's rmse: 0.590985\tvalid_1's rmse: 3.09922\n",
      "[1600]\ttraining's rmse: 0.531563\tvalid_1's rmse: 3.09392\n",
      "[1800]\ttraining's rmse: 0.485872\tvalid_1's rmse: 3.09041\n",
      "[2000]\ttraining's rmse: 0.449143\tvalid_1's rmse: 3.08807\n",
      "[2200]\ttraining's rmse: 0.417278\tvalid_1's rmse: 3.08625\n",
      "[2400]\ttraining's rmse: 0.39089\tvalid_1's rmse: 3.08418\n",
      "[2600]\ttraining's rmse: 0.366883\tvalid_1's rmse: 3.0839\n",
      "Early stopping, best iteration is:\n",
      "[2520]\ttraining's rmse: 0.376153\tvalid_1's rmse: 3.0831\n"
     ]
    },
    {
     "name": "stderr",
     "output_type": "stream",
     "text": [
      "[2.5GB(+0.0GB): 104.892sec] fit Y\n"
     ]
    },
    {
     "name": "stdout",
     "output_type": "stream",
     "text": [
      "Training until validation scores don't improve for 20 rounds\n",
      "Early stopping, best iteration is:\n",
      "[161]\ttraining's multi_logloss: 0.0449864\tvalid_1's multi_logloss: 0.0495491\n"
     ]
    },
    {
     "name": "stderr",
     "output_type": "stream",
     "text": [
      "[2.5GB(-0.0GB): 15.247sec] fit F\n"
     ]
    },
    {
     "name": "stdout",
     "output_type": "stream",
     "text": [
      "pos_loss = 3.290382948969045, floor_loss = 0.0\n",
      "fold 3: mean position error 3.290382948969045\n"
     ]
    },
    {
     "name": "stderr",
     "output_type": "stream",
     "text": [
      "[2.5GB(-0.0GB): 120.991sec] fit X\n"
     ]
    },
    {
     "name": "stdout",
     "output_type": "stream",
     "text": [
      "Training until validation scores don't improve for 200 rounds\n",
      "[200]\ttraining's rmse: 2.04715\tvalid_1's rmse: 3.35338\n",
      "[400]\ttraining's rmse: 1.3985\tvalid_1's rmse: 3.0733\n",
      "[600]\ttraining's rmse: 1.08755\tvalid_1's rmse: 2.99702\n",
      "[800]\ttraining's rmse: 0.894653\tvalid_1's rmse: 2.96881\n",
      "[1000]\ttraining's rmse: 0.761011\tvalid_1's rmse: 2.94348\n",
      "[1200]\ttraining's rmse: 0.66273\tvalid_1's rmse: 2.93032\n",
      "[1400]\ttraining's rmse: 0.589518\tvalid_1's rmse: 2.92525\n",
      "[1600]\ttraining's rmse: 0.532611\tvalid_1's rmse: 2.92006\n",
      "[1800]\ttraining's rmse: 0.485463\tvalid_1's rmse: 2.91655\n",
      "[2000]\ttraining's rmse: 0.447872\tvalid_1's rmse: 2.91511\n",
      "[2200]\ttraining's rmse: 0.418616\tvalid_1's rmse: 2.91329\n",
      "[2400]\ttraining's rmse: 0.393878\tvalid_1's rmse: 2.91185\n",
      "Early stopping, best iteration is:\n",
      "[2362]\ttraining's rmse: 0.397685\tvalid_1's rmse: 2.91114\n"
     ]
    },
    {
     "name": "stderr",
     "output_type": "stream",
     "text": [
      "[2.5GB(+0.0GB): 100.136sec] fit Y\n"
     ]
    },
    {
     "name": "stdout",
     "output_type": "stream",
     "text": [
      "Training until validation scores don't improve for 20 rounds\n",
      "[200]\ttraining's multi_logloss: 0.0442705\tvalid_1's multi_logloss: 0.0473154\n",
      "[400]\ttraining's multi_logloss: 0.04386\tvalid_1's multi_logloss: 0.0468809\n",
      "Early stopping, best iteration is:\n",
      "[454]\ttraining's multi_logloss: 0.0436532\tvalid_1's multi_logloss: 0.0466731\n"
     ]
    },
    {
     "name": "stderr",
     "output_type": "stream",
     "text": [
      "[2.5GB(-0.0GB): 32.934sec] fit F\n"
     ]
    },
    {
     "name": "stdout",
     "output_type": "stream",
     "text": [
      "pos_loss = 3.1809142309462226, floor_loss = 0.0\n",
      "fold 4: mean position error 3.1809142309462226\n",
      "*+*+*+*+*+*+*+*+*+*+*+*+*+*+*+*+*+*+*+*+*+*+*+*+*+*+*+*+*+*+*+*+*+*+*+*+*+*+*+*+\n",
      "file #9, shape=(10083, 5835), name=5d2709c303f801723c3299ee_train.csv\n",
      "pos_loss = 3.2299488357252386, floor_loss = 0.0\n",
      "mean position error 3.2299488357252386\n",
      "*+*+*+*+*+*+*+*+*+*+*+*+*+*+*+*+*+*+*+*+*+*+*+*+*+*+*+*+*+*+*+*+*+*+*+*+*+*+*+*+\n"
     ]
    },
    {
     "name": "stderr",
     "output_type": "stream",
     "text": [
      "[1.7GB(+0.0GB): 45.172sec] fit X\n"
     ]
    },
    {
     "name": "stdout",
     "output_type": "stream",
     "text": [
      "Training until validation scores don't improve for 200 rounds\n",
      "[200]\ttraining's rmse: 1.65163\tvalid_1's rmse: 2.87556\n",
      "[400]\ttraining's rmse: 1.15267\tvalid_1's rmse: 2.56617\n",
      "[600]\ttraining's rmse: 0.930091\tvalid_1's rmse: 2.45495\n",
      "[800]\ttraining's rmse: 0.797097\tvalid_1's rmse: 2.402\n",
      "[1000]\ttraining's rmse: 0.70665\tvalid_1's rmse: 2.37241\n",
      "[1200]\ttraining's rmse: 0.63927\tvalid_1's rmse: 2.35577\n",
      "[1400]\ttraining's rmse: 0.59107\tvalid_1's rmse: 2.34511\n",
      "[1600]\ttraining's rmse: 0.551546\tvalid_1's rmse: 2.33447\n",
      "[1800]\ttraining's rmse: 0.520011\tvalid_1's rmse: 2.32879\n",
      "[2000]\ttraining's rmse: 0.492413\tvalid_1's rmse: 2.32589\n",
      "[2200]\ttraining's rmse: 0.468904\tvalid_1's rmse: 2.32047\n",
      "[2400]\ttraining's rmse: 0.448382\tvalid_1's rmse: 2.31715\n",
      "[2600]\ttraining's rmse: 0.429795\tvalid_1's rmse: 2.31427\n",
      "[2800]\ttraining's rmse: 0.414083\tvalid_1's rmse: 2.312\n",
      "[3000]\ttraining's rmse: 0.399429\tvalid_1's rmse: 2.31163\n",
      "[3200]\ttraining's rmse: 0.386291\tvalid_1's rmse: 2.31166\n",
      "[3400]\ttraining's rmse: 0.373588\tvalid_1's rmse: 2.31017\n",
      "[3600]\ttraining's rmse: 0.362491\tvalid_1's rmse: 2.30864\n",
      "[3800]\ttraining's rmse: 0.352721\tvalid_1's rmse: 2.30822\n",
      "[4000]\ttraining's rmse: 0.343574\tvalid_1's rmse: 2.30715\n",
      "[4200]\ttraining's rmse: 0.334715\tvalid_1's rmse: 2.30653\n",
      "[4400]\ttraining's rmse: 0.326049\tvalid_1's rmse: 2.3057\n",
      "[4600]\ttraining's rmse: 0.318759\tvalid_1's rmse: 2.30609\n",
      "[4800]\ttraining's rmse: 0.310972\tvalid_1's rmse: 2.30481\n",
      "[5000]\ttraining's rmse: 0.304147\tvalid_1's rmse: 2.30449\n",
      "[5200]\ttraining's rmse: 0.298599\tvalid_1's rmse: 2.30335\n",
      "[5400]\ttraining's rmse: 0.292911\tvalid_1's rmse: 2.30368\n",
      "Early stopping, best iteration is:\n",
      "[5227]\ttraining's rmse: 0.297759\tvalid_1's rmse: 2.30308\n"
     ]
    },
    {
     "name": "stderr",
     "output_type": "stream",
     "text": [
      "[1.7GB(+0.0GB): 63.711sec] fit Y\n"
     ]
    },
    {
     "name": "stdout",
     "output_type": "stream",
     "text": [
      "Training until validation scores don't improve for 20 rounds\n",
      "[200]\ttraining's multi_logloss: 0.0186997\tvalid_1's multi_logloss: 0.0199996\n",
      "[400]\ttraining's multi_logloss: 0.0184485\tvalid_1's multi_logloss: 0.0197364\n",
      "Early stopping, best iteration is:\n",
      "[489]\ttraining's multi_logloss: 0.0182947\tvalid_1's multi_logloss: 0.0196032\n"
     ]
    },
    {
     "name": "stderr",
     "output_type": "stream",
     "text": [
      "[1.7GB(+0.0GB): 8.284sec] fit F\n"
     ]
    },
    {
     "name": "stdout",
     "output_type": "stream",
     "text": [
      "pos_loss = 2.547791991952616, floor_loss = 0.0\n",
      "fold 0: mean position error 2.547791991952616\n"
     ]
    },
    {
     "name": "stderr",
     "output_type": "stream",
     "text": [
      "[1.7GB(+0.0GB): 55.370sec] fit X\n"
     ]
    },
    {
     "name": "stdout",
     "output_type": "stream",
     "text": [
      "Training until validation scores don't improve for 200 rounds\n",
      "[200]\ttraining's rmse: 1.63184\tvalid_1's rmse: 2.69198\n",
      "[400]\ttraining's rmse: 1.14408\tvalid_1's rmse: 2.41989\n",
      "[600]\ttraining's rmse: 0.929605\tvalid_1's rmse: 2.3429\n",
      "[800]\ttraining's rmse: 0.797802\tvalid_1's rmse: 2.30347\n",
      "[1000]\ttraining's rmse: 0.706513\tvalid_1's rmse: 2.28217\n",
      "[1200]\ttraining's rmse: 0.641657\tvalid_1's rmse: 2.26994\n",
      "[1400]\ttraining's rmse: 0.593443\tvalid_1's rmse: 2.2628\n",
      "[1600]\ttraining's rmse: 0.554057\tvalid_1's rmse: 2.25503\n",
      "[1800]\ttraining's rmse: 0.520625\tvalid_1's rmse: 2.25135\n",
      "[2000]\ttraining's rmse: 0.493254\tvalid_1's rmse: 2.24759\n",
      "[2200]\ttraining's rmse: 0.469756\tvalid_1's rmse: 2.24546\n",
      "[2400]\ttraining's rmse: 0.449205\tvalid_1's rmse: 2.24193\n",
      "[2600]\ttraining's rmse: 0.431523\tvalid_1's rmse: 2.24003\n",
      "[2800]\ttraining's rmse: 0.415418\tvalid_1's rmse: 2.23969\n",
      "[3000]\ttraining's rmse: 0.400397\tvalid_1's rmse: 2.23688\n",
      "[3200]\ttraining's rmse: 0.388191\tvalid_1's rmse: 2.23601\n",
      "[3400]\ttraining's rmse: 0.375818\tvalid_1's rmse: 2.23466\n",
      "[3600]\ttraining's rmse: 0.364543\tvalid_1's rmse: 2.23412\n",
      "[3800]\ttraining's rmse: 0.353949\tvalid_1's rmse: 2.23194\n",
      "[4000]\ttraining's rmse: 0.345069\tvalid_1's rmse: 2.23095\n",
      "[4200]\ttraining's rmse: 0.335725\tvalid_1's rmse: 2.23069\n",
      "[4400]\ttraining's rmse: 0.327359\tvalid_1's rmse: 2.23003\n",
      "Early stopping, best iteration is:\n",
      "[4386]\ttraining's rmse: 0.32798\tvalid_1's rmse: 2.22989\n"
     ]
    },
    {
     "name": "stderr",
     "output_type": "stream",
     "text": [
      "[1.7GB(+0.0GB): 53.663sec] fit Y\n"
     ]
    },
    {
     "name": "stdout",
     "output_type": "stream",
     "text": [
      "Training until validation scores don't improve for 20 rounds\n",
      "Early stopping, best iteration is:\n",
      "[100]\ttraining's multi_logloss: 0.0195111\tvalid_1's multi_logloss: 0.0214119\n"
     ]
    },
    {
     "name": "stderr",
     "output_type": "stream",
     "text": [
      "[1.7GB(+0.0GB): 2.142sec] fit F\n"
     ]
    },
    {
     "name": "stdout",
     "output_type": "stream",
     "text": [
      "pos_loss = 2.5288220742299083, floor_loss = 0.0\n",
      "fold 1: mean position error 2.5288220742299083\n"
     ]
    },
    {
     "name": "stderr",
     "output_type": "stream",
     "text": [
      "[1.7GB(+0.0GB): 38.586sec] fit X\n"
     ]
    },
    {
     "name": "stdout",
     "output_type": "stream",
     "text": [
      "Training until validation scores don't improve for 200 rounds\n",
      "[200]\ttraining's rmse: 1.61518\tvalid_1's rmse: 2.73949\n",
      "[400]\ttraining's rmse: 1.13668\tvalid_1's rmse: 2.49397\n",
      "[600]\ttraining's rmse: 0.923348\tvalid_1's rmse: 2.41596\n",
      "[800]\ttraining's rmse: 0.790416\tvalid_1's rmse: 2.37476\n",
      "[1000]\ttraining's rmse: 0.700391\tvalid_1's rmse: 2.35255\n",
      "[1200]\ttraining's rmse: 0.635701\tvalid_1's rmse: 2.33823\n",
      "[1400]\ttraining's rmse: 0.586092\tvalid_1's rmse: 2.32779\n",
      "[1600]\ttraining's rmse: 0.546715\tvalid_1's rmse: 2.32344\n",
      "[1800]\ttraining's rmse: 0.514431\tvalid_1's rmse: 2.31855\n",
      "[2000]\ttraining's rmse: 0.486329\tvalid_1's rmse: 2.31257\n",
      "[2200]\ttraining's rmse: 0.463433\tvalid_1's rmse: 2.30988\n",
      "[2400]\ttraining's rmse: 0.442821\tvalid_1's rmse: 2.30647\n",
      "[2600]\ttraining's rmse: 0.424638\tvalid_1's rmse: 2.30416\n",
      "[2800]\ttraining's rmse: 0.408526\tvalid_1's rmse: 2.30218\n",
      "[3000]\ttraining's rmse: 0.394857\tvalid_1's rmse: 2.30083\n",
      "[3200]\ttraining's rmse: 0.381681\tvalid_1's rmse: 2.29929\n",
      "[3400]\ttraining's rmse: 0.369105\tvalid_1's rmse: 2.29655\n",
      "[3600]\ttraining's rmse: 0.358192\tvalid_1's rmse: 2.29434\n",
      "[3800]\ttraining's rmse: 0.348004\tvalid_1's rmse: 2.2922\n",
      "[4000]\ttraining's rmse: 0.338966\tvalid_1's rmse: 2.29176\n",
      "[4200]\ttraining's rmse: 0.329872\tvalid_1's rmse: 2.29072\n",
      "[4400]\ttraining's rmse: 0.32226\tvalid_1's rmse: 2.29041\n",
      "[4600]\ttraining's rmse: 0.31471\tvalid_1's rmse: 2.28903\n",
      "[4800]\ttraining's rmse: 0.307458\tvalid_1's rmse: 2.28821\n",
      "[5000]\ttraining's rmse: 0.300953\tvalid_1's rmse: 2.28776\n",
      "[5200]\ttraining's rmse: 0.294761\tvalid_1's rmse: 2.28644\n",
      "[5400]\ttraining's rmse: 0.289167\tvalid_1's rmse: 2.28525\n",
      "Early stopping, best iteration is:\n",
      "[5387]\ttraining's rmse: 0.289641\tvalid_1's rmse: 2.28498\n"
     ]
    },
    {
     "name": "stderr",
     "output_type": "stream",
     "text": [
      "[1.7GB(+0.0GB): 64.365sec] fit Y\n"
     ]
    },
    {
     "name": "stdout",
     "output_type": "stream",
     "text": [
      "Training until validation scores don't improve for 20 rounds\n",
      "Early stopping, best iteration is:\n",
      "[97]\ttraining's multi_logloss: 0.019032\tvalid_1's multi_logloss: 0.0207701\n"
     ]
    },
    {
     "name": "stderr",
     "output_type": "stream",
     "text": [
      "[1.7GB(+0.0GB): 2.195sec] fit F\n"
     ]
    },
    {
     "name": "stdout",
     "output_type": "stream",
     "text": [
      "pos_loss = 2.5842706197018055, floor_loss = 0.007481296758104738\n",
      "fold 2: mean position error 2.59175191645991\n"
     ]
    },
    {
     "name": "stderr",
     "output_type": "stream",
     "text": [
      "[1.7GB(+0.0GB): 40.655sec] fit X\n"
     ]
    },
    {
     "name": "stdout",
     "output_type": "stream",
     "text": [
      "Training until validation scores don't improve for 200 rounds\n",
      "[200]\ttraining's rmse: 1.62113\tvalid_1's rmse: 2.66002\n",
      "[400]\ttraining's rmse: 1.13211\tvalid_1's rmse: 2.42776\n",
      "[600]\ttraining's rmse: 0.918417\tvalid_1's rmse: 2.35732\n",
      "[800]\ttraining's rmse: 0.786983\tvalid_1's rmse: 2.32533\n",
      "[1000]\ttraining's rmse: 0.698567\tvalid_1's rmse: 2.30561\n",
      "[1200]\ttraining's rmse: 0.634457\tvalid_1's rmse: 2.2941\n",
      "[1400]\ttraining's rmse: 0.585338\tvalid_1's rmse: 2.28334\n",
      "[1600]\ttraining's rmse: 0.545463\tvalid_1's rmse: 2.27877\n",
      "[1800]\ttraining's rmse: 0.513893\tvalid_1's rmse: 2.27639\n",
      "[2000]\ttraining's rmse: 0.486554\tvalid_1's rmse: 2.27553\n",
      "[2200]\ttraining's rmse: 0.46342\tvalid_1's rmse: 2.2733\n",
      "[2400]\ttraining's rmse: 0.443769\tvalid_1's rmse: 2.27198\n",
      "[2600]\ttraining's rmse: 0.425074\tvalid_1's rmse: 2.27084\n",
      "[2800]\ttraining's rmse: 0.409965\tvalid_1's rmse: 2.26956\n",
      "[3000]\ttraining's rmse: 0.395025\tvalid_1's rmse: 2.26948\n",
      "Early stopping, best iteration is:\n",
      "[2926]\ttraining's rmse: 0.400404\tvalid_1's rmse: 2.26883\n"
     ]
    },
    {
     "name": "stderr",
     "output_type": "stream",
     "text": [
      "[1.7GB(+0.0GB): 38.887sec] fit Y\n"
     ]
    },
    {
     "name": "stdout",
     "output_type": "stream",
     "text": [
      "Training until validation scores don't improve for 20 rounds\n",
      "[200]\ttraining's multi_logloss: 0.0189905\tvalid_1's multi_logloss: 0.019104\n",
      "Early stopping, best iteration is:\n",
      "[250]\ttraining's multi_logloss: 0.0188337\tvalid_1's multi_logloss: 0.0189373\n"
     ]
    },
    {
     "name": "stderr",
     "output_type": "stream",
     "text": [
      "[1.7GB(+0.0GB): 4.715sec] fit F\n"
     ]
    },
    {
     "name": "stdout",
     "output_type": "stream",
     "text": [
      "pos_loss = 2.5570945025326326, floor_loss = 0.0\n",
      "fold 3: mean position error 2.5570945025326326\n"
     ]
    },
    {
     "name": "stderr",
     "output_type": "stream",
     "text": [
      "[1.7GB(+0.0GB): 45.191sec] fit X\n"
     ]
    },
    {
     "name": "stdout",
     "output_type": "stream",
     "text": [
      "Training until validation scores don't improve for 200 rounds\n",
      "[200]\ttraining's rmse: 1.62834\tvalid_1's rmse: 2.54716\n",
      "[400]\ttraining's rmse: 1.1402\tvalid_1's rmse: 2.29327\n",
      "[600]\ttraining's rmse: 0.919973\tvalid_1's rmse: 2.21505\n",
      "[800]\ttraining's rmse: 0.789241\tvalid_1's rmse: 2.18268\n",
      "[1000]\ttraining's rmse: 0.700415\tvalid_1's rmse: 2.16325\n",
      "[1200]\ttraining's rmse: 0.635455\tvalid_1's rmse: 2.15336\n",
      "[1400]\ttraining's rmse: 0.584862\tvalid_1's rmse: 2.1454\n",
      "[1600]\ttraining's rmse: 0.545954\tvalid_1's rmse: 2.14029\n",
      "[1800]\ttraining's rmse: 0.514149\tvalid_1's rmse: 2.13743\n",
      "[2000]\ttraining's rmse: 0.487079\tvalid_1's rmse: 2.13324\n",
      "[2200]\ttraining's rmse: 0.463079\tvalid_1's rmse: 2.12995\n",
      "[2400]\ttraining's rmse: 0.442058\tvalid_1's rmse: 2.12866\n",
      "[2600]\ttraining's rmse: 0.424636\tvalid_1's rmse: 2.12697\n",
      "[2800]\ttraining's rmse: 0.408158\tvalid_1's rmse: 2.12582\n",
      "[3000]\ttraining's rmse: 0.393672\tvalid_1's rmse: 2.12378\n",
      "[3200]\ttraining's rmse: 0.38063\tvalid_1's rmse: 2.12327\n",
      "[3400]\ttraining's rmse: 0.368956\tvalid_1's rmse: 2.12266\n",
      "[3600]\ttraining's rmse: 0.357804\tvalid_1's rmse: 2.12138\n",
      "[3800]\ttraining's rmse: 0.348562\tvalid_1's rmse: 2.12068\n",
      "[4000]\ttraining's rmse: 0.33961\tvalid_1's rmse: 2.12008\n",
      "Early stopping, best iteration is:\n",
      "[3849]\ttraining's rmse: 0.346301\tvalid_1's rmse: 2.11992\n"
     ]
    },
    {
     "name": "stderr",
     "output_type": "stream",
     "text": [
      "[1.7GB(+0.0GB): 48.825sec] fit Y\n"
     ]
    },
    {
     "name": "stdout",
     "output_type": "stream",
     "text": [
      "Training until validation scores don't improve for 20 rounds\n",
      "Early stopping, best iteration is:\n",
      "[135]\ttraining's multi_logloss: 0.0191484\tvalid_1's multi_logloss: 0.0193955\n"
     ]
    },
    {
     "name": "stderr",
     "output_type": "stream",
     "text": [
      "[1.7GB(+0.0GB): 2.779sec] fit F\n"
     ]
    },
    {
     "name": "stdout",
     "output_type": "stream",
     "text": [
      "pos_loss = 2.5113733440739403, floor_loss = 0.0\n",
      "fold 4: mean position error 2.5113733440739403\n",
      "*+*+*+*+*+*+*+*+*+*+*+*+*+*+*+*+*+*+*+*+*+*+*+*+*+*+*+*+*+*+*+*+*+*+*+*+*+*+*+*+\n",
      "file #10, shape=(10027, 2143), name=5d2709d403f801723c32bd39_train.csv\n",
      "pos_loss = 2.5458689978767772, floor_loss = 0.0014959609055550016\n",
      "mean position error 2.547364958782332\n",
      "*+*+*+*+*+*+*+*+*+*+*+*+*+*+*+*+*+*+*+*+*+*+*+*+*+*+*+*+*+*+*+*+*+*+*+*+*+*+*+*+\n"
     ]
    },
    {
     "name": "stderr",
     "output_type": "stream",
     "text": [
      "[1.7GB(+0.0GB): 44.871sec] fit X\n"
     ]
    },
    {
     "name": "stdout",
     "output_type": "stream",
     "text": [
      "Training until validation scores don't improve for 200 rounds\n",
      "[200]\ttraining's rmse: 1.47562\tvalid_1's rmse: 2.24243\n",
      "[400]\ttraining's rmse: 1.06868\tvalid_1's rmse: 2.0709\n",
      "[600]\ttraining's rmse: 0.877273\tvalid_1's rmse: 2.01504\n",
      "[800]\ttraining's rmse: 0.757755\tvalid_1's rmse: 1.9852\n",
      "[1000]\ttraining's rmse: 0.675156\tvalid_1's rmse: 1.96832\n",
      "[1200]\ttraining's rmse: 0.613451\tvalid_1's rmse: 1.95751\n",
      "[1400]\ttraining's rmse: 0.565186\tvalid_1's rmse: 1.95014\n",
      "[1600]\ttraining's rmse: 0.527095\tvalid_1's rmse: 1.94638\n",
      "[1800]\ttraining's rmse: 0.495985\tvalid_1's rmse: 1.94167\n",
      "[2000]\ttraining's rmse: 0.469986\tvalid_1's rmse: 1.93902\n",
      "[2200]\ttraining's rmse: 0.447802\tvalid_1's rmse: 1.93831\n",
      "[2400]\ttraining's rmse: 0.427606\tvalid_1's rmse: 1.93518\n",
      "[2600]\ttraining's rmse: 0.409816\tvalid_1's rmse: 1.93269\n",
      "[2800]\ttraining's rmse: 0.394933\tvalid_1's rmse: 1.93081\n",
      "[3000]\ttraining's rmse: 0.381408\tvalid_1's rmse: 1.9292\n",
      "[3200]\ttraining's rmse: 0.36914\tvalid_1's rmse: 1.92813\n",
      "[3400]\ttraining's rmse: 0.35757\tvalid_1's rmse: 1.92745\n",
      "Early stopping, best iteration is:\n",
      "[3368]\ttraining's rmse: 0.358945\tvalid_1's rmse: 1.92695\n"
     ]
    },
    {
     "name": "stderr",
     "output_type": "stream",
     "text": [
      "[1.7GB(+0.0GB): 35.846sec] fit Y\n"
     ]
    },
    {
     "name": "stdout",
     "output_type": "stream",
     "text": [
      "Training until validation scores don't improve for 20 rounds\n",
      "[200]\ttraining's multi_logloss: 0.0317469\tvalid_1's multi_logloss: 0.0320975\n",
      "[400]\ttraining's multi_logloss: 0.0310438\tvalid_1's multi_logloss: 0.0313901\n",
      "Early stopping, best iteration is:\n",
      "[436]\ttraining's multi_logloss: 0.0308284\tvalid_1's multi_logloss: 0.0311721\n"
     ]
    },
    {
     "name": "stderr",
     "output_type": "stream",
     "text": [
      "[1.7GB(+0.0GB): 6.451sec] fit F\n"
     ]
    },
    {
     "name": "stdout",
     "output_type": "stream",
     "text": [
      "pos_loss = 2.9283279011024783, floor_loss = 0.0\n",
      "fold 0: mean position error 2.9283279011024783\n"
     ]
    },
    {
     "name": "stderr",
     "output_type": "stream",
     "text": [
      "[1.7GB(+0.0GB): 31.366sec] fit X\n"
     ]
    },
    {
     "name": "stdout",
     "output_type": "stream",
     "text": [
      "Training until validation scores don't improve for 200 rounds\n",
      "[200]\ttraining's rmse: 1.47528\tvalid_1's rmse: 2.24875\n",
      "[400]\ttraining's rmse: 1.0712\tvalid_1's rmse: 2.04945\n",
      "[600]\ttraining's rmse: 0.877618\tvalid_1's rmse: 1.9786\n",
      "[800]\ttraining's rmse: 0.759285\tvalid_1's rmse: 1.94779\n",
      "[1000]\ttraining's rmse: 0.674926\tvalid_1's rmse: 1.92875\n",
      "[1200]\ttraining's rmse: 0.612595\tvalid_1's rmse: 1.91548\n",
      "[1400]\ttraining's rmse: 0.566433\tvalid_1's rmse: 1.90473\n",
      "[1600]\ttraining's rmse: 0.527938\tvalid_1's rmse: 1.89812\n",
      "[1800]\ttraining's rmse: 0.496551\tvalid_1's rmse: 1.89191\n",
      "[2000]\ttraining's rmse: 0.470417\tvalid_1's rmse: 1.8886\n",
      "[2200]\ttraining's rmse: 0.447818\tvalid_1's rmse: 1.88573\n",
      "[2400]\ttraining's rmse: 0.429231\tvalid_1's rmse: 1.8828\n",
      "[2600]\ttraining's rmse: 0.411928\tvalid_1's rmse: 1.88007\n",
      "[2800]\ttraining's rmse: 0.396769\tvalid_1's rmse: 1.8778\n",
      "[3000]\ttraining's rmse: 0.382648\tvalid_1's rmse: 1.87657\n",
      "[3200]\ttraining's rmse: 0.370078\tvalid_1's rmse: 1.87509\n",
      "[3400]\ttraining's rmse: 0.358428\tvalid_1's rmse: 1.87321\n",
      "[3600]\ttraining's rmse: 0.34773\tvalid_1's rmse: 1.87241\n",
      "[3800]\ttraining's rmse: 0.338608\tvalid_1's rmse: 1.87102\n",
      "[4000]\ttraining's rmse: 0.330288\tvalid_1's rmse: 1.86993\n",
      "[4200]\ttraining's rmse: 0.321766\tvalid_1's rmse: 1.87007\n",
      "[4400]\ttraining's rmse: 0.314228\tvalid_1's rmse: 1.869\n",
      "[4600]\ttraining's rmse: 0.307108\tvalid_1's rmse: 1.8686\n",
      "[4800]\ttraining's rmse: 0.300455\tvalid_1's rmse: 1.86805\n",
      "[5000]\ttraining's rmse: 0.294265\tvalid_1's rmse: 1.86767\n",
      "[5200]\ttraining's rmse: 0.288547\tvalid_1's rmse: 1.86733\n",
      "Early stopping, best iteration is:\n",
      "[5160]\ttraining's rmse: 0.289618\tvalid_1's rmse: 1.86709\n"
     ]
    },
    {
     "name": "stderr",
     "output_type": "stream",
     "text": [
      "[1.7GB(+0.0GB): 50.968sec] fit Y\n"
     ]
    },
    {
     "name": "stdout",
     "output_type": "stream",
     "text": [
      "Training until validation scores don't improve for 20 rounds\n",
      "[200]\ttraining's multi_logloss: 0.0318087\tvalid_1's multi_logloss: 0.0330064\n",
      "[400]\ttraining's multi_logloss: 0.0310893\tvalid_1's multi_logloss: 0.0322458\n",
      "Early stopping, best iteration is:\n",
      "[478]\ttraining's multi_logloss: 0.0308657\tvalid_1's multi_logloss: 0.0320153\n"
     ]
    },
    {
     "name": "stderr",
     "output_type": "stream",
     "text": [
      "[1.7GB(+0.0GB): 6.767sec] fit F\n"
     ]
    },
    {
     "name": "stdout",
     "output_type": "stream",
     "text": [
      "pos_loss = 2.850700839481874, floor_loss = 0.0\n",
      "fold 1: mean position error 2.850700839481874\n"
     ]
    },
    {
     "name": "stderr",
     "output_type": "stream",
     "text": [
      "[1.7GB(+0.0GB): 37.292sec] fit X\n"
     ]
    },
    {
     "name": "stdout",
     "output_type": "stream",
     "text": [
      "Training until validation scores don't improve for 200 rounds\n",
      "[200]\ttraining's rmse: 1.48482\tvalid_1's rmse: 2.31521\n",
      "[400]\ttraining's rmse: 1.07393\tvalid_1's rmse: 2.09987\n",
      "[600]\ttraining's rmse: 0.884355\tvalid_1's rmse: 2.0377\n",
      "[800]\ttraining's rmse: 0.762743\tvalid_1's rmse: 2.00246\n",
      "[1000]\ttraining's rmse: 0.678971\tvalid_1's rmse: 1.98217\n",
      "[1200]\ttraining's rmse: 0.615866\tvalid_1's rmse: 1.97106\n",
      "[1400]\ttraining's rmse: 0.567949\tvalid_1's rmse: 1.9627\n",
      "[1600]\ttraining's rmse: 0.530112\tvalid_1's rmse: 1.95659\n",
      "[1800]\ttraining's rmse: 0.498931\tvalid_1's rmse: 1.95086\n",
      "[2000]\ttraining's rmse: 0.472486\tvalid_1's rmse: 1.94621\n",
      "[2200]\ttraining's rmse: 0.449571\tvalid_1's rmse: 1.94251\n",
      "[2400]\ttraining's rmse: 0.430299\tvalid_1's rmse: 1.94005\n",
      "[2600]\ttraining's rmse: 0.412859\tvalid_1's rmse: 1.9378\n",
      "[2800]\ttraining's rmse: 0.397433\tvalid_1's rmse: 1.936\n",
      "[3000]\ttraining's rmse: 0.384071\tvalid_1's rmse: 1.93505\n",
      "[3200]\ttraining's rmse: 0.372044\tvalid_1's rmse: 1.93302\n",
      "[3400]\ttraining's rmse: 0.360577\tvalid_1's rmse: 1.9327\n",
      "Early stopping, best iteration is:\n",
      "[3358]\ttraining's rmse: 0.363087\tvalid_1's rmse: 1.93202\n"
     ]
    },
    {
     "name": "stderr",
     "output_type": "stream",
     "text": [
      "[1.7GB(+0.0GB): 35.408sec] fit Y\n"
     ]
    },
    {
     "name": "stdout",
     "output_type": "stream",
     "text": [
      "Training until validation scores don't improve for 20 rounds\n",
      "[200]\ttraining's multi_logloss: 0.0309042\tvalid_1's multi_logloss: 0.0358156\n",
      "[400]\ttraining's multi_logloss: 0.0301971\tvalid_1's multi_logloss: 0.0350275\n",
      "Early stopping, best iteration is:\n",
      "[447]\ttraining's multi_logloss: 0.0301579\tvalid_1's multi_logloss: 0.0349826\n"
     ]
    },
    {
     "name": "stderr",
     "output_type": "stream",
     "text": [
      "[1.7GB(+0.0GB): 5.942sec] fit F\n"
     ]
    },
    {
     "name": "stdout",
     "output_type": "stream",
     "text": [
      "pos_loss = 2.98117009512515, floor_loss = 0.0\n",
      "fold 2: mean position error 2.98117009512515\n"
     ]
    },
    {
     "name": "stderr",
     "output_type": "stream",
     "text": [
      "[1.7GB(+0.0GB): 50.518sec] fit X\n"
     ]
    },
    {
     "name": "stdout",
     "output_type": "stream",
     "text": [
      "Training until validation scores don't improve for 200 rounds\n",
      "[200]\ttraining's rmse: 1.48136\tvalid_1's rmse: 2.29172\n",
      "[400]\ttraining's rmse: 1.06955\tvalid_1's rmse: 2.09788\n",
      "[600]\ttraining's rmse: 0.874867\tvalid_1's rmse: 2.03975\n",
      "[800]\ttraining's rmse: 0.754065\tvalid_1's rmse: 2.01134\n",
      "[1000]\ttraining's rmse: 0.670427\tvalid_1's rmse: 1.99544\n",
      "[1200]\ttraining's rmse: 0.609397\tvalid_1's rmse: 1.98262\n",
      "[1400]\ttraining's rmse: 0.562119\tvalid_1's rmse: 1.9765\n",
      "[1600]\ttraining's rmse: 0.525298\tvalid_1's rmse: 1.97287\n",
      "[1800]\ttraining's rmse: 0.494266\tvalid_1's rmse: 1.96865\n",
      "[2000]\ttraining's rmse: 0.468553\tvalid_1's rmse: 1.96571\n",
      "[2200]\ttraining's rmse: 0.446223\tvalid_1's rmse: 1.96352\n",
      "[2400]\ttraining's rmse: 0.42701\tvalid_1's rmse: 1.961\n",
      "[2600]\ttraining's rmse: 0.409641\tvalid_1's rmse: 1.96005\n",
      "[2800]\ttraining's rmse: 0.3948\tvalid_1's rmse: 1.9578\n",
      "[3000]\ttraining's rmse: 0.381757\tvalid_1's rmse: 1.95706\n",
      "Early stopping, best iteration is:\n",
      "[2931]\ttraining's rmse: 0.385951\tvalid_1's rmse: 1.9564\n"
     ]
    },
    {
     "name": "stderr",
     "output_type": "stream",
     "text": [
      "[1.7GB(+0.0GB): 32.453sec] fit Y\n"
     ]
    },
    {
     "name": "stdout",
     "output_type": "stream",
     "text": [
      "Training until validation scores don't improve for 20 rounds\n",
      "[200]\ttraining's multi_logloss: 0.031429\tvalid_1's multi_logloss: 0.0343488\n",
      "[400]\ttraining's multi_logloss: 0.0310179\tvalid_1's multi_logloss: 0.0339292\n",
      "Early stopping, best iteration is:\n",
      "[417]\ttraining's multi_logloss: 0.0310131\tvalid_1's multi_logloss: 0.0339236\n"
     ]
    },
    {
     "name": "stderr",
     "output_type": "stream",
     "text": [
      "[1.7GB(+0.0GB): 6.036sec] fit F\n"
     ]
    },
    {
     "name": "stdout",
     "output_type": "stream",
     "text": [
      "pos_loss = 3.002244395702104, floor_loss = 0.01358695652173913\n",
      "fold 3: mean position error 3.0158313522238434\n"
     ]
    },
    {
     "name": "stderr",
     "output_type": "stream",
     "text": [
      "[1.7GB(+0.0GB): 27.831sec] fit X\n"
     ]
    },
    {
     "name": "stdout",
     "output_type": "stream",
     "text": [
      "Training until validation scores don't improve for 200 rounds\n",
      "[200]\ttraining's rmse: 1.48877\tvalid_1's rmse: 2.34404\n",
      "[400]\ttraining's rmse: 1.07786\tvalid_1's rmse: 2.10378\n",
      "[600]\ttraining's rmse: 0.884819\tvalid_1's rmse: 2.02544\n",
      "[800]\ttraining's rmse: 0.764404\tvalid_1's rmse: 1.9896\n",
      "[1000]\ttraining's rmse: 0.679948\tvalid_1's rmse: 1.96709\n",
      "[1200]\ttraining's rmse: 0.617354\tvalid_1's rmse: 1.95218\n",
      "[1400]\ttraining's rmse: 0.569762\tvalid_1's rmse: 1.94386\n",
      "[1600]\ttraining's rmse: 0.531253\tvalid_1's rmse: 1.93862\n",
      "[1800]\ttraining's rmse: 0.500113\tvalid_1's rmse: 1.93157\n",
      "[2000]\ttraining's rmse: 0.47414\tvalid_1's rmse: 1.92738\n",
      "[2200]\ttraining's rmse: 0.451497\tvalid_1's rmse: 1.92162\n",
      "[2400]\ttraining's rmse: 0.43145\tvalid_1's rmse: 1.91953\n",
      "[2600]\ttraining's rmse: 0.413685\tvalid_1's rmse: 1.91756\n",
      "[2800]\ttraining's rmse: 0.39849\tvalid_1's rmse: 1.91564\n",
      "[3000]\ttraining's rmse: 0.384781\tvalid_1's rmse: 1.91396\n",
      "[3200]\ttraining's rmse: 0.371634\tvalid_1's rmse: 1.91257\n",
      "[3400]\ttraining's rmse: 0.36013\tvalid_1's rmse: 1.91121\n",
      "[3600]\ttraining's rmse: 0.349268\tvalid_1's rmse: 1.91079\n",
      "Early stopping, best iteration is:\n",
      "[3476]\ttraining's rmse: 0.3562\tvalid_1's rmse: 1.91047\n"
     ]
    },
    {
     "name": "stderr",
     "output_type": "stream",
     "text": [
      "[1.7GB(+0.0GB): 36.782sec] fit Y\n"
     ]
    },
    {
     "name": "stdout",
     "output_type": "stream",
     "text": [
      "Training until validation scores don't improve for 20 rounds\n",
      "[200]\ttraining's multi_logloss: 0.0308719\tvalid_1's multi_logloss: 0.0366165\n",
      "[400]\ttraining's multi_logloss: 0.0303749\tvalid_1's multi_logloss: 0.0361262\n",
      "[600]\ttraining's multi_logloss: 0.030061\tvalid_1's multi_logloss: 0.0358085\n",
      "[800]\ttraining's multi_logloss: 0.0298847\tvalid_1's multi_logloss: 0.0356296\n",
      "[1000]\ttraining's multi_logloss: 0.0297466\tvalid_1's multi_logloss: 0.0354788\n",
      "[1200]\ttraining's multi_logloss: 0.0295815\tvalid_1's multi_logloss: 0.0353022\n",
      "Early stopping, best iteration is:\n",
      "[1326]\ttraining's multi_logloss: 0.0295013\tvalid_1's multi_logloss: 0.035227\n"
     ]
    },
    {
     "name": "stderr",
     "output_type": "stream",
     "text": [
      "[1.7GB(+0.0GB): 18.800sec] fit F\n"
     ]
    },
    {
     "name": "stdout",
     "output_type": "stream",
     "text": [
      "pos_loss = 2.935824841680862, floor_loss = 0.006793478260869565\n",
      "fold 4: mean position error 2.9426183199417317\n",
      "*+*+*+*+*+*+*+*+*+*+*+*+*+*+*+*+*+*+*+*+*+*+*+*+*+*+*+*+*+*+*+*+*+*+*+*+*+*+*+*+\n",
      "file #11, shape=(11042, 1313), name=5d2709e003f801723c32d896_train.csv\n",
      "pos_loss = 2.9396445330672663, floor_loss = 0.004075348668719435\n",
      "mean position error 2.9437198817359858\n",
      "*+*+*+*+*+*+*+*+*+*+*+*+*+*+*+*+*+*+*+*+*+*+*+*+*+*+*+*+*+*+*+*+*+*+*+*+*+*+*+*+\n"
     ]
    },
    {
     "name": "stderr",
     "output_type": "stream",
     "text": [
      "[1.7GB(+0.0GB): 4.466sec] fit X\n"
     ]
    },
    {
     "name": "stdout",
     "output_type": "stream",
     "text": [
      "Training until validation scores don't improve for 200 rounds\n",
      "[200]\ttraining's rmse: 1.60622\tvalid_1's rmse: 2.6007\n",
      "[400]\ttraining's rmse: 1.23648\tvalid_1's rmse: 2.41872\n",
      "[600]\ttraining's rmse: 1.05696\tvalid_1's rmse: 2.34885\n",
      "[800]\ttraining's rmse: 0.942545\tvalid_1's rmse: 2.31938\n",
      "[1000]\ttraining's rmse: 0.863407\tvalid_1's rmse: 2.30712\n",
      "[1200]\ttraining's rmse: 0.801363\tvalid_1's rmse: 2.29991\n",
      "[1400]\ttraining's rmse: 0.752466\tvalid_1's rmse: 2.2952\n",
      "[1600]\ttraining's rmse: 0.71316\tvalid_1's rmse: 2.28828\n",
      "[1800]\ttraining's rmse: 0.680151\tvalid_1's rmse: 2.28582\n",
      "[2000]\ttraining's rmse: 0.651739\tvalid_1's rmse: 2.27985\n",
      "[2200]\ttraining's rmse: 0.625357\tvalid_1's rmse: 2.27686\n",
      "[2400]\ttraining's rmse: 0.602996\tvalid_1's rmse: 2.27556\n",
      "Early stopping, best iteration is:\n",
      "[2324]\ttraining's rmse: 0.611203\tvalid_1's rmse: 2.27335\n"
     ]
    },
    {
     "name": "stderr",
     "output_type": "stream",
     "text": [
      "[1.7GB(+0.0GB): 4.355sec] fit Y\n"
     ]
    },
    {
     "name": "stdout",
     "output_type": "stream",
     "text": [
      "Training until validation scores don't improve for 20 rounds\n",
      "Early stopping, best iteration is:\n",
      "[166]\ttraining's multi_logloss: 0.0567843\tvalid_1's multi_logloss: 0.0596813\n",
      "pos_loss = 3.1494181272849455, floor_loss = 0.028142589118198873\n",
      "fold 0: mean position error 3.1775607164031445\n"
     ]
    },
    {
     "name": "stderr",
     "output_type": "stream",
     "text": [
      "[1.7GB(+0.0GB): 0.417sec] fit F\n",
      "[1.7GB(+0.0GB): 2.274sec] fit X\n"
     ]
    },
    {
     "name": "stdout",
     "output_type": "stream",
     "text": [
      "Training until validation scores don't improve for 200 rounds\n",
      "[200]\ttraining's rmse: 1.56885\tvalid_1's rmse: 2.71734\n",
      "[400]\ttraining's rmse: 1.19359\tvalid_1's rmse: 2.57263\n",
      "[600]\ttraining's rmse: 1.01454\tvalid_1's rmse: 2.52602\n",
      "[800]\ttraining's rmse: 0.907335\tvalid_1's rmse: 2.50152\n",
      "[1000]\ttraining's rmse: 0.831427\tvalid_1's rmse: 2.49053\n",
      "[1200]\ttraining's rmse: 0.7729\tvalid_1's rmse: 2.484\n",
      "[1400]\ttraining's rmse: 0.725615\tvalid_1's rmse: 2.47585\n",
      "[1600]\ttraining's rmse: 0.687214\tvalid_1's rmse: 2.46679\n",
      "[1800]\ttraining's rmse: 0.654182\tvalid_1's rmse: 2.46269\n",
      "[2000]\ttraining's rmse: 0.627259\tvalid_1's rmse: 2.46161\n",
      "[2200]\ttraining's rmse: 0.603363\tvalid_1's rmse: 2.45772\n",
      "[2400]\ttraining's rmse: 0.582776\tvalid_1's rmse: 2.45517\n",
      "[2600]\ttraining's rmse: 0.563424\tvalid_1's rmse: 2.45471\n",
      "[2800]\ttraining's rmse: 0.545738\tvalid_1's rmse: 2.4509\n",
      "[3000]\ttraining's rmse: 0.529923\tvalid_1's rmse: 2.45151\n",
      "Early stopping, best iteration is:\n",
      "[2876]\ttraining's rmse: 0.539566\tvalid_1's rmse: 2.44927\n"
     ]
    },
    {
     "name": "stderr",
     "output_type": "stream",
     "text": [
      "[1.7GB(+0.0GB): 5.262sec] fit Y\n"
     ]
    },
    {
     "name": "stdout",
     "output_type": "stream",
     "text": [
      "Training until validation scores don't improve for 20 rounds\n",
      "[200]\ttraining's multi_logloss: 0.0555439\tvalid_1's multi_logloss: 0.0607395\n",
      "Early stopping, best iteration is:\n",
      "[319]\ttraining's multi_logloss: 0.0535654\tvalid_1's multi_logloss: 0.0586997\n",
      "pos_loss = 3.2011166266264626, floor_loss = 0.028142589118198873\n",
      "fold 1: mean position error 3.2292592157446616\n"
     ]
    },
    {
     "name": "stderr",
     "output_type": "stream",
     "text": [
      "[1.7GB(+0.0GB): 0.768sec] fit F\n",
      "[1.7GB(+0.0GB): 6.003sec] fit X\n"
     ]
    },
    {
     "name": "stdout",
     "output_type": "stream",
     "text": [
      "Training until validation scores don't improve for 200 rounds\n",
      "[200]\ttraining's rmse: 1.58701\tvalid_1's rmse: 2.60212\n",
      "[400]\ttraining's rmse: 1.21535\tvalid_1's rmse: 2.4646\n",
      "[600]\ttraining's rmse: 1.04308\tvalid_1's rmse: 2.40913\n",
      "[800]\ttraining's rmse: 0.935122\tvalid_1's rmse: 2.37868\n",
      "[1000]\ttraining's rmse: 0.858493\tvalid_1's rmse: 2.36159\n",
      "[1200]\ttraining's rmse: 0.799009\tvalid_1's rmse: 2.34576\n",
      "[1400]\ttraining's rmse: 0.750781\tvalid_1's rmse: 2.33672\n",
      "[1600]\ttraining's rmse: 0.711603\tvalid_1's rmse: 2.32843\n",
      "[1800]\ttraining's rmse: 0.678672\tvalid_1's rmse: 2.31782\n",
      "[2000]\ttraining's rmse: 0.648859\tvalid_1's rmse: 2.31407\n",
      "Early stopping, best iteration is:\n",
      "[1949]\ttraining's rmse: 0.655838\tvalid_1's rmse: 2.31131\n",
      "Training until validation scores don't improve for 20 rounds\n"
     ]
    },
    {
     "name": "stderr",
     "output_type": "stream",
     "text": [
      "[1.7GB(+0.0GB): 3.753sec] fit Y\n"
     ]
    },
    {
     "name": "stdout",
     "output_type": "stream",
     "text": [
      "[200]\ttraining's multi_logloss: 0.0557579\tvalid_1's multi_logloss: 0.0599785\n",
      "Early stopping, best iteration is:\n",
      "[374]\ttraining's multi_logloss: 0.0533608\tvalid_1's multi_logloss: 0.0574668\n",
      "pos_loss = 3.4010508356230225, floor_loss = 0.02819548872180451\n",
      "fold 2: mean position error 3.429246324344827\n"
     ]
    },
    {
     "name": "stderr",
     "output_type": "stream",
     "text": [
      "[1.7GB(+0.0GB): 0.840sec] fit F\n",
      "[1.7GB(+0.0GB): 3.656sec] fit X\n"
     ]
    },
    {
     "name": "stdout",
     "output_type": "stream",
     "text": [
      "Training until validation scores don't improve for 200 rounds\n",
      "[200]\ttraining's rmse: 1.61141\tvalid_1's rmse: 2.45023\n",
      "[400]\ttraining's rmse: 1.229\tvalid_1's rmse: 2.28193\n",
      "[600]\ttraining's rmse: 1.05015\tvalid_1's rmse: 2.22432\n",
      "[800]\ttraining's rmse: 0.939969\tvalid_1's rmse: 2.19756\n",
      "[1000]\ttraining's rmse: 0.862214\tvalid_1's rmse: 2.17773\n",
      "[1200]\ttraining's rmse: 0.800094\tvalid_1's rmse: 2.16878\n",
      "[1400]\ttraining's rmse: 0.750941\tvalid_1's rmse: 2.16129\n",
      "[1600]\ttraining's rmse: 0.711794\tvalid_1's rmse: 2.15467\n",
      "[1800]\ttraining's rmse: 0.676699\tvalid_1's rmse: 2.14789\n",
      "[2000]\ttraining's rmse: 0.647738\tvalid_1's rmse: 2.14645\n",
      "Early stopping, best iteration is:\n",
      "[1981]\ttraining's rmse: 0.650099\tvalid_1's rmse: 2.14473\n",
      "Training until validation scores don't improve for 20 rounds\n"
     ]
    },
    {
     "name": "stderr",
     "output_type": "stream",
     "text": [
      "[1.7GB(+0.0GB): 3.840sec] fit Y\n"
     ]
    },
    {
     "name": "stdout",
     "output_type": "stream",
     "text": [
      "[200]\ttraining's multi_logloss: 0.0542836\tvalid_1's multi_logloss: 0.0585793\n",
      "[400]\ttraining's multi_logloss: 0.0526602\tvalid_1's multi_logloss: 0.0570842\n",
      "Early stopping, best iteration is:\n",
      "[387]\ttraining's multi_logloss: 0.0526602\tvalid_1's multi_logloss: 0.0570842\n",
      "pos_loss = 3.1254552426020332, floor_loss = 0.05639097744360902\n",
      "fold 3: mean position error 3.1818462200456423\n"
     ]
    },
    {
     "name": "stderr",
     "output_type": "stream",
     "text": [
      "[1.7GB(+0.0GB): 0.910sec] fit F\n",
      "[1.7GB(+0.0GB): 4.452sec] fit X\n"
     ]
    },
    {
     "name": "stdout",
     "output_type": "stream",
     "text": [
      "Training until validation scores don't improve for 200 rounds\n",
      "[200]\ttraining's rmse: 1.62928\tvalid_1's rmse: 2.74216\n",
      "[400]\ttraining's rmse: 1.24147\tvalid_1's rmse: 2.50098\n",
      "[600]\ttraining's rmse: 1.05692\tvalid_1's rmse: 2.4152\n",
      "[800]\ttraining's rmse: 0.944735\tvalid_1's rmse: 2.37416\n",
      "[1000]\ttraining's rmse: 0.863379\tvalid_1's rmse: 2.34395\n",
      "[1200]\ttraining's rmse: 0.802336\tvalid_1's rmse: 2.32244\n",
      "[1400]\ttraining's rmse: 0.751654\tvalid_1's rmse: 2.31239\n",
      "[1600]\ttraining's rmse: 0.71121\tvalid_1's rmse: 2.29835\n",
      "[1800]\ttraining's rmse: 0.676768\tvalid_1's rmse: 2.29057\n",
      "[2000]\ttraining's rmse: 0.647181\tvalid_1's rmse: 2.28486\n",
      "[2200]\ttraining's rmse: 0.622128\tvalid_1's rmse: 2.28341\n",
      "[2400]\ttraining's rmse: 0.600866\tvalid_1's rmse: 2.27409\n",
      "[2600]\ttraining's rmse: 0.580922\tvalid_1's rmse: 2.27899\n",
      "Early stopping, best iteration is:\n",
      "[2434]\ttraining's rmse: 0.597401\tvalid_1's rmse: 2.27141\n",
      "Training until validation scores don't improve for 20 rounds\n"
     ]
    },
    {
     "name": "stderr",
     "output_type": "stream",
     "text": [
      "[1.7GB(+0.0GB): 4.464sec] fit Y\n"
     ]
    },
    {
     "name": "stdout",
     "output_type": "stream",
     "text": [
      "[200]\ttraining's multi_logloss: 0.0547124\tvalid_1's multi_logloss: 0.0568809\n",
      "[400]\ttraining's multi_logloss: 0.0528845\tvalid_1's multi_logloss: 0.0550821\n",
      "Early stopping, best iteration is:\n",
      "[483]\ttraining's multi_logloss: 0.0525827\tvalid_1's multi_logloss: 0.0547701\n",
      "pos_loss = 3.21375117270279, floor_loss = 0.05639097744360902\n",
      "fold 4: mean position error 3.270142150146399\n",
      "*+*+*+*+*+*+*+*+*+*+*+*+*+*+*+*+*+*+*+*+*+*+*+*+*+*+*+*+*+*+*+*+*+*+*+*+*+*+*+*+\n",
      "file #12, shape=(2662, 494), name=5da138274db8ce0c98bbd3d2_train.csv\n",
      "pos_loss = 3.2181261763066846, floor_loss = 0.03944402704733283\n",
      "mean position error 3.2575702033540175\n",
      "*+*+*+*+*+*+*+*+*+*+*+*+*+*+*+*+*+*+*+*+*+*+*+*+*+*+*+*+*+*+*+*+*+*+*+*+*+*+*+*+\n"
     ]
    },
    {
     "name": "stderr",
     "output_type": "stream",
     "text": [
      "[1.7GB(+0.0GB): 1.078sec] fit F\n",
      "[1.7GB(+0.0GB): 31.921sec] fit X\n"
     ]
    },
    {
     "name": "stdout",
     "output_type": "stream",
     "text": [
      "Training until validation scores don't improve for 200 rounds\n",
      "[200]\ttraining's rmse: 1.77232\tvalid_1's rmse: 3.47389\n",
      "[400]\ttraining's rmse: 1.14615\tvalid_1's rmse: 3.29044\n",
      "[600]\ttraining's rmse: 0.869824\tvalid_1's rmse: 3.23907\n",
      "[800]\ttraining's rmse: 0.711649\tvalid_1's rmse: 3.2158\n",
      "[1000]\ttraining's rmse: 0.611416\tvalid_1's rmse: 3.20534\n",
      "[1200]\ttraining's rmse: 0.540794\tvalid_1's rmse: 3.20183\n",
      "[1400]\ttraining's rmse: 0.490749\tvalid_1's rmse: 3.1973\n",
      "[1600]\ttraining's rmse: 0.453809\tvalid_1's rmse: 3.19487\n",
      "[1800]\ttraining's rmse: 0.423545\tvalid_1's rmse: 3.19277\n",
      "Early stopping, best iteration is:\n",
      "[1739]\ttraining's rmse: 0.431568\tvalid_1's rmse: 3.19188\n"
     ]
    },
    {
     "name": "stderr",
     "output_type": "stream",
     "text": [
      "[1.7GB(+0.0GB): 18.350sec] fit Y\n"
     ]
    },
    {
     "name": "stdout",
     "output_type": "stream",
     "text": [
      "Training until validation scores don't improve for 20 rounds\n",
      "[200]\ttraining's multi_logloss: 0.0452412\tvalid_1's multi_logloss: 0.0522514\n",
      "[400]\ttraining's multi_logloss: 0.0439345\tvalid_1's multi_logloss: 0.0507783\n",
      "[600]\ttraining's multi_logloss: 0.0433966\tvalid_1's multi_logloss: 0.0501815\n",
      "[800]\ttraining's multi_logloss: 0.0429782\tvalid_1's multi_logloss: 0.0497177\n",
      "Early stopping, best iteration is:\n",
      "[842]\ttraining's multi_logloss: 0.0428527\tvalid_1's multi_logloss: 0.0495774\n"
     ]
    },
    {
     "name": "stderr",
     "output_type": "stream",
     "text": [
      "[1.7GB(+0.0GB): 11.594sec] fit F\n"
     ]
    },
    {
     "name": "stdout",
     "output_type": "stream",
     "text": [
      "pos_loss = 3.6093342605413516, floor_loss = 0.008333333333333333\n",
      "fold 0: mean position error 3.617667593874685\n"
     ]
    },
    {
     "name": "stderr",
     "output_type": "stream",
     "text": [
      "[1.7GB(-0.0GB): 28.064sec] fit X\n"
     ]
    },
    {
     "name": "stdout",
     "output_type": "stream",
     "text": [
      "Training until validation scores don't improve for 200 rounds\n",
      "[200]\ttraining's rmse: 1.75019\tvalid_1's rmse: 3.22545\n",
      "[400]\ttraining's rmse: 1.15505\tvalid_1's rmse: 3.06595\n",
      "[600]\ttraining's rmse: 0.890299\tvalid_1's rmse: 3.01367\n",
      "[800]\ttraining's rmse: 0.734465\tvalid_1's rmse: 2.98853\n",
      "[1000]\ttraining's rmse: 0.632183\tvalid_1's rmse: 2.97304\n",
      "[1200]\ttraining's rmse: 0.563054\tvalid_1's rmse: 2.96034\n",
      "[1400]\ttraining's rmse: 0.513042\tvalid_1's rmse: 2.95425\n",
      "[1600]\ttraining's rmse: 0.474172\tvalid_1's rmse: 2.94956\n",
      "[1800]\ttraining's rmse: 0.443694\tvalid_1's rmse: 2.94345\n",
      "[2000]\ttraining's rmse: 0.418019\tvalid_1's rmse: 2.93926\n",
      "[2200]\ttraining's rmse: 0.396614\tvalid_1's rmse: 2.93711\n",
      "[2400]\ttraining's rmse: 0.378094\tvalid_1's rmse: 2.93398\n",
      "[2600]\ttraining's rmse: 0.361557\tvalid_1's rmse: 2.92964\n",
      "[2800]\ttraining's rmse: 0.347561\tvalid_1's rmse: 2.92768\n",
      "[3000]\ttraining's rmse: 0.334389\tvalid_1's rmse: 2.92597\n",
      "[3200]\ttraining's rmse: 0.323964\tvalid_1's rmse: 2.92492\n",
      "[3400]\ttraining's rmse: 0.313872\tvalid_1's rmse: 2.923\n",
      "[3600]\ttraining's rmse: 0.305233\tvalid_1's rmse: 2.92189\n",
      "[3800]\ttraining's rmse: 0.297215\tvalid_1's rmse: 2.92069\n",
      "[4000]\ttraining's rmse: 0.28878\tvalid_1's rmse: 2.91992\n",
      "[4200]\ttraining's rmse: 0.281838\tvalid_1's rmse: 2.91879\n",
      "[4400]\ttraining's rmse: 0.275276\tvalid_1's rmse: 2.91829\n",
      "[4600]\ttraining's rmse: 0.269645\tvalid_1's rmse: 2.91741\n",
      "[4800]\ttraining's rmse: 0.26387\tvalid_1's rmse: 2.9172\n",
      "Early stopping, best iteration is:\n",
      "[4640]\ttraining's rmse: 0.268527\tvalid_1's rmse: 2.91711\n"
     ]
    },
    {
     "name": "stderr",
     "output_type": "stream",
     "text": [
      "[1.7GB(-0.0GB): 32.824sec] fit Y\n"
     ]
    },
    {
     "name": "stdout",
     "output_type": "stream",
     "text": [
      "Training until validation scores don't improve for 20 rounds\n",
      "[200]\ttraining's multi_logloss: 0.045143\tvalid_1's multi_logloss: 0.0557805\n",
      "[400]\ttraining's multi_logloss: 0.0438241\tvalid_1's multi_logloss: 0.0542625\n",
      "[600]\ttraining's multi_logloss: 0.0431932\tvalid_1's multi_logloss: 0.0535268\n",
      "Early stopping, best iteration is:\n",
      "[594]\ttraining's multi_logloss: 0.0431932\tvalid_1's multi_logloss: 0.0535268\n"
     ]
    },
    {
     "name": "stderr",
     "output_type": "stream",
     "text": [
      "[1.7GB(+0.0GB): 8.550sec] fit F\n"
     ]
    },
    {
     "name": "stdout",
     "output_type": "stream",
     "text": [
      "pos_loss = 3.4953698090171486, floor_loss = 0.016666666666666666\n",
      "fold 1: mean position error 3.512036475683815\n"
     ]
    },
    {
     "name": "stderr",
     "output_type": "stream",
     "text": [
      "[1.7GB(-0.0GB): 32.632sec] fit X\n"
     ]
    },
    {
     "name": "stdout",
     "output_type": "stream",
     "text": [
      "Training until validation scores don't improve for 200 rounds\n",
      "[200]\ttraining's rmse: 1.7448\tvalid_1's rmse: 3.50392\n",
      "[400]\ttraining's rmse: 1.15802\tvalid_1's rmse: 3.29267\n",
      "[600]\ttraining's rmse: 0.884269\tvalid_1's rmse: 3.22404\n",
      "[800]\ttraining's rmse: 0.727557\tvalid_1's rmse: 3.19732\n",
      "[1000]\ttraining's rmse: 0.627448\tvalid_1's rmse: 3.17923\n",
      "[1200]\ttraining's rmse: 0.558098\tvalid_1's rmse: 3.16997\n",
      "[1400]\ttraining's rmse: 0.505008\tvalid_1's rmse: 3.16357\n",
      "[1600]\ttraining's rmse: 0.466413\tvalid_1's rmse: 3.15943\n",
      "[1800]\ttraining's rmse: 0.434251\tvalid_1's rmse: 3.15458\n",
      "[2000]\ttraining's rmse: 0.409692\tvalid_1's rmse: 3.15282\n",
      "[2200]\ttraining's rmse: 0.389588\tvalid_1's rmse: 3.15077\n",
      "[2400]\ttraining's rmse: 0.371711\tvalid_1's rmse: 3.14893\n",
      "[2600]\ttraining's rmse: 0.356653\tvalid_1's rmse: 3.14653\n",
      "[2800]\ttraining's rmse: 0.342209\tvalid_1's rmse: 3.14584\n",
      "[3000]\ttraining's rmse: 0.330769\tvalid_1's rmse: 3.14469\n",
      "[3200]\ttraining's rmse: 0.320524\tvalid_1's rmse: 3.1439\n",
      "[3400]\ttraining's rmse: 0.309843\tvalid_1's rmse: 3.14414\n",
      "[3600]\ttraining's rmse: 0.300309\tvalid_1's rmse: 3.14376\n",
      "[3800]\ttraining's rmse: 0.292617\tvalid_1's rmse: 3.14307\n",
      "Early stopping, best iteration is:\n",
      "[3653]\ttraining's rmse: 0.297911\tvalid_1's rmse: 3.14282\n"
     ]
    },
    {
     "name": "stderr",
     "output_type": "stream",
     "text": [
      "[1.7GB(+0.0GB): 29.895sec] fit Y\n"
     ]
    },
    {
     "name": "stdout",
     "output_type": "stream",
     "text": [
      "Training until validation scores don't improve for 20 rounds\n",
      "[200]\ttraining's multi_logloss: 0.0457306\tvalid_1's multi_logloss: 0.0553638\n",
      "[400]\ttraining's multi_logloss: 0.0442002\tvalid_1's multi_logloss: 0.0536811\n",
      "[600]\ttraining's multi_logloss: 0.0435299\tvalid_1's multi_logloss: 0.0528568\n",
      "Early stopping, best iteration is:\n",
      "[691]\ttraining's multi_logloss: 0.0432863\tvalid_1's multi_logloss: 0.0526135\n"
     ]
    },
    {
     "name": "stderr",
     "output_type": "stream",
     "text": [
      "[1.7GB(+0.0GB): 11.165sec] fit F\n"
     ]
    },
    {
     "name": "stdout",
     "output_type": "stream",
     "text": [
      "pos_loss = 3.567941557158281, floor_loss = 0.008333333333333333\n",
      "fold 2: mean position error 3.5762748904916144\n"
     ]
    },
    {
     "name": "stderr",
     "output_type": "stream",
     "text": [
      "[1.7GB(-0.0GB): 23.420sec] fit X\n"
     ]
    },
    {
     "name": "stdout",
     "output_type": "stream",
     "text": [
      "Training until validation scores don't improve for 200 rounds\n",
      "[200]\ttraining's rmse: 1.7718\tvalid_1's rmse: 3.41916\n",
      "[400]\ttraining's rmse: 1.16832\tvalid_1's rmse: 3.19893\n",
      "[600]\ttraining's rmse: 0.888399\tvalid_1's rmse: 3.13\n",
      "[800]\ttraining's rmse: 0.727066\tvalid_1's rmse: 3.10709\n",
      "[1000]\ttraining's rmse: 0.620255\tvalid_1's rmse: 3.09571\n",
      "[1200]\ttraining's rmse: 0.548067\tvalid_1's rmse: 3.08959\n",
      "[1400]\ttraining's rmse: 0.496805\tvalid_1's rmse: 3.0846\n",
      "[1600]\ttraining's rmse: 0.458381\tvalid_1's rmse: 3.0836\n",
      "[1800]\ttraining's rmse: 0.427123\tvalid_1's rmse: 3.08019\n",
      "[2000]\ttraining's rmse: 0.402379\tvalid_1's rmse: 3.07816\n",
      "[2200]\ttraining's rmse: 0.38146\tvalid_1's rmse: 3.07643\n",
      "[2400]\ttraining's rmse: 0.362511\tvalid_1's rmse: 3.07502\n",
      "[2600]\ttraining's rmse: 0.346893\tvalid_1's rmse: 3.07473\n",
      "Early stopping, best iteration is:\n",
      "[2493]\ttraining's rmse: 0.354632\tvalid_1's rmse: 3.0743\n"
     ]
    },
    {
     "name": "stderr",
     "output_type": "stream",
     "text": [
      "[1.7GB(+0.0GB): 22.039sec] fit Y\n"
     ]
    },
    {
     "name": "stdout",
     "output_type": "stream",
     "text": [
      "Training until validation scores don't improve for 20 rounds\n",
      "[200]\ttraining's multi_logloss: 0.0454938\tvalid_1's multi_logloss: 0.0495315\n",
      "[400]\ttraining's multi_logloss: 0.044124\tvalid_1's multi_logloss: 0.0481248\n",
      "[600]\ttraining's multi_logloss: 0.0433518\tvalid_1's multi_logloss: 0.047345\n",
      "[800]\ttraining's multi_logloss: 0.0427695\tvalid_1's multi_logloss: 0.0467171\n",
      "Early stopping, best iteration is:\n",
      "[973]\ttraining's multi_logloss: 0.0424867\tvalid_1's multi_logloss: 0.0464245\n"
     ]
    },
    {
     "name": "stderr",
     "output_type": "stream",
     "text": [
      "[1.7GB(-0.0GB): 13.229sec] fit F\n"
     ]
    },
    {
     "name": "stdout",
     "output_type": "stream",
     "text": [
      "pos_loss = 3.5554973391236393, floor_loss = 0.0\n",
      "fold 3: mean position error 3.5554973391236393\n"
     ]
    },
    {
     "name": "stderr",
     "output_type": "stream",
     "text": [
      "[1.9GB(+0.0GB): 21.570sec] fit X\n"
     ]
    },
    {
     "name": "stdout",
     "output_type": "stream",
     "text": [
      "Training until validation scores don't improve for 200 rounds\n",
      "[200]\ttraining's rmse: 1.73702\tvalid_1's rmse: 3.17725\n",
      "[400]\ttraining's rmse: 1.12503\tvalid_1's rmse: 3.00874\n",
      "[600]\ttraining's rmse: 0.846101\tvalid_1's rmse: 2.96201\n",
      "[800]\ttraining's rmse: 0.68687\tvalid_1's rmse: 2.94675\n",
      "[1000]\ttraining's rmse: 0.586875\tvalid_1's rmse: 2.94174\n",
      "[1200]\ttraining's rmse: 0.521758\tvalid_1's rmse: 2.93821\n",
      "[1400]\ttraining's rmse: 0.473951\tvalid_1's rmse: 2.93538\n",
      "[1600]\ttraining's rmse: 0.436088\tvalid_1's rmse: 2.93378\n",
      "[1800]\ttraining's rmse: 0.407253\tvalid_1's rmse: 2.93238\n",
      "[2000]\ttraining's rmse: 0.383393\tvalid_1's rmse: 2.93151\n",
      "[2200]\ttraining's rmse: 0.36501\tvalid_1's rmse: 2.92997\n",
      "[2400]\ttraining's rmse: 0.34742\tvalid_1's rmse: 2.92942\n",
      "Early stopping, best iteration is:\n",
      "[2390]\ttraining's rmse: 0.34821\tvalid_1's rmse: 2.92921\n"
     ]
    },
    {
     "name": "stderr",
     "output_type": "stream",
     "text": [
      "[1.9GB(-0.0GB): 22.767sec] fit Y\n"
     ]
    },
    {
     "name": "stdout",
     "output_type": "stream",
     "text": [
      "Training until validation scores don't improve for 20 rounds\n",
      "[200]\ttraining's multi_logloss: 0.0455202\tvalid_1's multi_logloss: 0.0532448\n",
      "[400]\ttraining's multi_logloss: 0.0441781\tvalid_1's multi_logloss: 0.0517207\n",
      "[600]\ttraining's multi_logloss: 0.043264\tvalid_1's multi_logloss: 0.0507255\n",
      "Early stopping, best iteration is:\n",
      "[606]\ttraining's multi_logloss: 0.0432578\tvalid_1's multi_logloss: 0.0507187\n"
     ]
    },
    {
     "name": "stderr",
     "output_type": "stream",
     "text": [
      "[1.9GB(+0.0GB): 10.967sec] fit F\n"
     ]
    },
    {
     "name": "stdout",
     "output_type": "stream",
     "text": [
      "pos_loss = 3.420229007250045, floor_loss = 0.008337965536409116\n",
      "fold 4: mean position error 3.428566972786454\n",
      "*+*+*+*+*+*+*+*+*+*+*+*+*+*+*+*+*+*+*+*+*+*+*+*+*+*+*+*+*+*+*+*+*+*+*+*+*+*+*+*+\n",
      "file #13, shape=(8999, 2866), name=5da1382d4db8ce0c98bbe92e_train.csv\n",
      "pos_loss = 3.5296865565680173, floor_loss = 0.00833425936215135\n",
      "mean position error 3.5380208159301687\n",
      "*+*+*+*+*+*+*+*+*+*+*+*+*+*+*+*+*+*+*+*+*+*+*+*+*+*+*+*+*+*+*+*+*+*+*+*+*+*+*+*+\n"
     ]
    },
    {
     "name": "stderr",
     "output_type": "stream",
     "text": [
      "[1.7GB(+0.0GB): 19.443sec] fit X\n"
     ]
    },
    {
     "name": "stdout",
     "output_type": "stream",
     "text": [
      "Training until validation scores don't improve for 200 rounds\n",
      "[200]\ttraining's rmse: 1.25379\tvalid_1's rmse: 2.29609\n",
      "[400]\ttraining's rmse: 0.896827\tvalid_1's rmse: 2.13143\n",
      "[600]\ttraining's rmse: 0.736539\tvalid_1's rmse: 2.0726\n",
      "[800]\ttraining's rmse: 0.642804\tvalid_1's rmse: 2.04359\n",
      "[1000]\ttraining's rmse: 0.578914\tvalid_1's rmse: 2.02433\n",
      "[1200]\ttraining's rmse: 0.532718\tvalid_1's rmse: 2.01028\n",
      "[1400]\ttraining's rmse: 0.496855\tvalid_1's rmse: 2.00277\n",
      "[1600]\ttraining's rmse: 0.467037\tvalid_1's rmse: 1.99402\n",
      "[1800]\ttraining's rmse: 0.44384\tvalid_1's rmse: 1.98942\n",
      "[2000]\ttraining's rmse: 0.422523\tvalid_1's rmse: 1.98314\n",
      "[2200]\ttraining's rmse: 0.405644\tvalid_1's rmse: 1.9798\n",
      "[2400]\ttraining's rmse: 0.390131\tvalid_1's rmse: 1.97522\n",
      "[2600]\ttraining's rmse: 0.376266\tvalid_1's rmse: 1.97053\n",
      "[2800]\ttraining's rmse: 0.363769\tvalid_1's rmse: 1.9694\n",
      "[3000]\ttraining's rmse: 0.352165\tvalid_1's rmse: 1.96668\n",
      "[3200]\ttraining's rmse: 0.341977\tvalid_1's rmse: 1.96482\n",
      "[3400]\ttraining's rmse: 0.332741\tvalid_1's rmse: 1.96254\n",
      "[3600]\ttraining's rmse: 0.324696\tvalid_1's rmse: 1.96082\n",
      "[3800]\ttraining's rmse: 0.31664\tvalid_1's rmse: 1.95884\n",
      "[4000]\ttraining's rmse: 0.309744\tvalid_1's rmse: 1.95765\n",
      "[4200]\ttraining's rmse: 0.303125\tvalid_1's rmse: 1.95642\n",
      "[4400]\ttraining's rmse: 0.296881\tvalid_1's rmse: 1.95502\n",
      "[4600]\ttraining's rmse: 0.290742\tvalid_1's rmse: 1.95346\n",
      "[4800]\ttraining's rmse: 0.285764\tvalid_1's rmse: 1.95317\n",
      "[5000]\ttraining's rmse: 0.280767\tvalid_1's rmse: 1.95174\n",
      "[5200]\ttraining's rmse: 0.276366\tvalid_1's rmse: 1.95067\n",
      "[5400]\ttraining's rmse: 0.272076\tvalid_1's rmse: 1.95035\n",
      "[5600]\ttraining's rmse: 0.267827\tvalid_1's rmse: 1.94977\n",
      "[5800]\ttraining's rmse: 0.26378\tvalid_1's rmse: 1.949\n",
      "[6000]\ttraining's rmse: 0.260322\tvalid_1's rmse: 1.94815\n",
      "[6200]\ttraining's rmse: 0.257131\tvalid_1's rmse: 1.94749\n",
      "[6400]\ttraining's rmse: 0.253719\tvalid_1's rmse: 1.9474\n",
      "[6600]\ttraining's rmse: 0.250576\tvalid_1's rmse: 1.94699\n",
      "[6800]\ttraining's rmse: 0.247339\tvalid_1's rmse: 1.94582\n",
      "[7000]\ttraining's rmse: 0.24423\tvalid_1's rmse: 1.94586\n",
      "[7200]\ttraining's rmse: 0.241404\tvalid_1's rmse: 1.94423\n",
      "[7400]\ttraining's rmse: 0.238523\tvalid_1's rmse: 1.94343\n",
      "[7600]\ttraining's rmse: 0.236125\tvalid_1's rmse: 1.94386\n",
      "Early stopping, best iteration is:\n",
      "[7457]\ttraining's rmse: 0.237884\tvalid_1's rmse: 1.94331\n"
     ]
    },
    {
     "name": "stderr",
     "output_type": "stream",
     "text": [
      "[1.7GB(+0.0GB): 28.640sec] fit Y\n"
     ]
    },
    {
     "name": "stdout",
     "output_type": "stream",
     "text": [
      "Training until validation scores don't improve for 20 rounds\n",
      "[200]\ttraining's multi_logloss: 0.017091\tvalid_1's multi_logloss: 0.0207208\n",
      "[400]\ttraining's multi_logloss: 0.0169901\tvalid_1's multi_logloss: 0.0206062\n",
      "Early stopping, best iteration is:\n",
      "[430]\ttraining's multi_logloss: 0.0169845\tvalid_1's multi_logloss: 0.0205994\n"
     ]
    },
    {
     "name": "stderr",
     "output_type": "stream",
     "text": [
      "[1.7GB(+0.0GB): 3.584sec] fit F\n"
     ]
    },
    {
     "name": "stdout",
     "output_type": "stream",
     "text": [
      "pos_loss = 2.035933863355724, floor_loss = 0.0\n",
      "fold 0: mean position error 2.035933863355724\n"
     ]
    },
    {
     "name": "stderr",
     "output_type": "stream",
     "text": [
      "[1.7GB(+0.0GB): 18.327sec] fit X\n"
     ]
    },
    {
     "name": "stdout",
     "output_type": "stream",
     "text": [
      "Training until validation scores don't improve for 200 rounds\n",
      "[200]\ttraining's rmse: 1.27877\tvalid_1's rmse: 2.09159\n",
      "[400]\ttraining's rmse: 0.908406\tvalid_1's rmse: 1.95961\n",
      "[600]\ttraining's rmse: 0.739171\tvalid_1's rmse: 1.9206\n",
      "[800]\ttraining's rmse: 0.636162\tvalid_1's rmse: 1.90709\n",
      "[1000]\ttraining's rmse: 0.567685\tvalid_1's rmse: 1.89957\n",
      "[1200]\ttraining's rmse: 0.520697\tvalid_1's rmse: 1.89184\n",
      "[1400]\ttraining's rmse: 0.48293\tvalid_1's rmse: 1.88738\n",
      "[1600]\ttraining's rmse: 0.453427\tvalid_1's rmse: 1.88414\n",
      "[1800]\ttraining's rmse: 0.427283\tvalid_1's rmse: 1.88199\n",
      "[2000]\ttraining's rmse: 0.406668\tvalid_1's rmse: 1.88094\n",
      "[2200]\ttraining's rmse: 0.389211\tvalid_1's rmse: 1.88035\n",
      "[2400]\ttraining's rmse: 0.374004\tvalid_1's rmse: 1.87851\n",
      "[2600]\ttraining's rmse: 0.360674\tvalid_1's rmse: 1.87733\n",
      "[2800]\ttraining's rmse: 0.348563\tvalid_1's rmse: 1.87583\n",
      "Early stopping, best iteration is:\n",
      "[2786]\ttraining's rmse: 0.349286\tvalid_1's rmse: 1.87507\n"
     ]
    },
    {
     "name": "stderr",
     "output_type": "stream",
     "text": [
      "[1.7GB(+0.0GB): 14.558sec] fit Y\n"
     ]
    },
    {
     "name": "stdout",
     "output_type": "stream",
     "text": [
      "Training until validation scores don't improve for 20 rounds\n",
      "[200]\ttraining's multi_logloss: 0.016982\tvalid_1's multi_logloss: 0.0174413\n",
      "[400]\ttraining's multi_logloss: 0.016851\tvalid_1's multi_logloss: 0.0173115\n",
      "Early stopping, best iteration is:\n",
      "[383]\ttraining's multi_logloss: 0.016851\tvalid_1's multi_logloss: 0.0173115\n",
      "pos_loss = 2.050445248247805, floor_loss = 0.0\n",
      "fold 1: mean position error 2.050445248247805\n"
     ]
    },
    {
     "name": "stderr",
     "output_type": "stream",
     "text": [
      "[1.7GB(+0.0GB): 3.159sec] fit F\n",
      "[1.7GB(+0.0GB): 15.383sec] fit X\n"
     ]
    },
    {
     "name": "stdout",
     "output_type": "stream",
     "text": [
      "Training until validation scores don't improve for 200 rounds\n",
      "[200]\ttraining's rmse: 1.29304\tvalid_1's rmse: 1.84137\n",
      "[400]\ttraining's rmse: 0.924543\tvalid_1's rmse: 1.72325\n",
      "[600]\ttraining's rmse: 0.758809\tvalid_1's rmse: 1.69008\n",
      "[800]\ttraining's rmse: 0.656291\tvalid_1's rmse: 1.68053\n",
      "[1000]\ttraining's rmse: 0.585468\tvalid_1's rmse: 1.67313\n",
      "[1200]\ttraining's rmse: 0.536893\tvalid_1's rmse: 1.66599\n",
      "[1400]\ttraining's rmse: 0.498405\tvalid_1's rmse: 1.66236\n",
      "[1600]\ttraining's rmse: 0.467711\tvalid_1's rmse: 1.66113\n",
      "[1800]\ttraining's rmse: 0.440801\tvalid_1's rmse: 1.66045\n",
      "Early stopping, best iteration is:\n",
      "[1678]\ttraining's rmse: 0.45658\tvalid_1's rmse: 1.65906\n"
     ]
    },
    {
     "name": "stderr",
     "output_type": "stream",
     "text": [
      "[1.7GB(+0.0GB): 10.659sec] fit Y\n"
     ]
    },
    {
     "name": "stdout",
     "output_type": "stream",
     "text": [
      "Training until validation scores don't improve for 20 rounds\n",
      "[200]\ttraining's multi_logloss: 0.0170492\tvalid_1's multi_logloss: 0.0174998\n",
      "Early stopping, best iteration is:\n",
      "[364]\ttraining's multi_logloss: 0.0168846\tvalid_1's multi_logloss: 0.0173326\n",
      "pos_loss = 1.93188487278602, floor_loss = 0.0\n",
      "fold 2: mean position error 1.93188487278602\n"
     ]
    },
    {
     "name": "stderr",
     "output_type": "stream",
     "text": [
      "[1.7GB(+0.0GB): 3.383sec] fit F\n",
      "[1.7GB(+0.0GB): 12.281sec] fit X\n"
     ]
    },
    {
     "name": "stdout",
     "output_type": "stream",
     "text": [
      "Training until validation scores don't improve for 200 rounds\n",
      "[200]\ttraining's rmse: 1.23687\tvalid_1's rmse: 2.31046\n",
      "[400]\ttraining's rmse: 0.89322\tvalid_1's rmse: 2.18056\n",
      "[600]\ttraining's rmse: 0.739874\tvalid_1's rmse: 2.12861\n",
      "[800]\ttraining's rmse: 0.648756\tvalid_1's rmse: 2.09979\n",
      "[1000]\ttraining's rmse: 0.588701\tvalid_1's rmse: 2.08719\n",
      "[1200]\ttraining's rmse: 0.542028\tvalid_1's rmse: 2.07631\n",
      "[1400]\ttraining's rmse: 0.506859\tvalid_1's rmse: 2.06688\n",
      "[1600]\ttraining's rmse: 0.47745\tvalid_1's rmse: 2.05997\n",
      "[1800]\ttraining's rmse: 0.452097\tvalid_1's rmse: 2.05318\n",
      "[2000]\ttraining's rmse: 0.431771\tvalid_1's rmse: 2.04878\n",
      "[2200]\ttraining's rmse: 0.413243\tvalid_1's rmse: 2.04583\n",
      "[2400]\ttraining's rmse: 0.397426\tvalid_1's rmse: 2.04363\n",
      "[2600]\ttraining's rmse: 0.382076\tvalid_1's rmse: 2.04109\n",
      "[2800]\ttraining's rmse: 0.368552\tvalid_1's rmse: 2.03806\n",
      "[3000]\ttraining's rmse: 0.357259\tvalid_1's rmse: 2.03739\n",
      "[3200]\ttraining's rmse: 0.34645\tvalid_1's rmse: 2.03514\n",
      "[3400]\ttraining's rmse: 0.336942\tvalid_1's rmse: 2.03326\n",
      "[3600]\ttraining's rmse: 0.328627\tvalid_1's rmse: 2.03172\n",
      "[3800]\ttraining's rmse: 0.321004\tvalid_1's rmse: 2.03004\n",
      "[4000]\ttraining's rmse: 0.313747\tvalid_1's rmse: 2.02919\n",
      "Early stopping, best iteration is:\n",
      "[3943]\ttraining's rmse: 0.315768\tvalid_1's rmse: 2.02879\n"
     ]
    },
    {
     "name": "stderr",
     "output_type": "stream",
     "text": [
      "[1.7GB(+0.0GB): 18.990sec] fit Y\n"
     ]
    },
    {
     "name": "stdout",
     "output_type": "stream",
     "text": [
      "Training until validation scores don't improve for 20 rounds\n",
      "[200]\ttraining's multi_logloss: 0.0172189\tvalid_1's multi_logloss: 0.0179614\n",
      "[400]\ttraining's multi_logloss: 0.0169337\tvalid_1's multi_logloss: 0.0176761\n",
      "Early stopping, best iteration is:\n",
      "[442]\ttraining's multi_logloss: 0.0169072\tvalid_1's multi_logloss: 0.0176485\n",
      "pos_loss = 2.092655658656056, floor_loss = 0.0\n",
      "fold 3: mean position error 2.092655658656056\n"
     ]
    },
    {
     "name": "stderr",
     "output_type": "stream",
     "text": [
      "[1.7GB(+0.0GB): 3.925sec] fit F\n",
      "[1.7GB(+0.0GB): 13.812sec] fit X\n"
     ]
    },
    {
     "name": "stdout",
     "output_type": "stream",
     "text": [
      "Training until validation scores don't improve for 200 rounds\n",
      "[200]\ttraining's rmse: 1.28683\tvalid_1's rmse: 2.08954\n",
      "[400]\ttraining's rmse: 0.919088\tvalid_1's rmse: 1.9434\n",
      "[600]\ttraining's rmse: 0.746569\tvalid_1's rmse: 1.90316\n",
      "[800]\ttraining's rmse: 0.641464\tvalid_1's rmse: 1.89119\n",
      "[1000]\ttraining's rmse: 0.569337\tvalid_1's rmse: 1.88518\n",
      "[1200]\ttraining's rmse: 0.520384\tvalid_1's rmse: 1.88436\n",
      "Early stopping, best iteration is:\n",
      "[1102]\ttraining's rmse: 0.542345\tvalid_1's rmse: 1.88241\n"
     ]
    },
    {
     "name": "stderr",
     "output_type": "stream",
     "text": [
      "[1.7GB(+0.0GB): 8.057sec] fit Y\n"
     ]
    },
    {
     "name": "stdout",
     "output_type": "stream",
     "text": [
      "Training until validation scores don't improve for 20 rounds\n",
      "[200]\ttraining's multi_logloss: 0.0169277\tvalid_1's multi_logloss: 0.018393\n",
      "Early stopping, best iteration is:\n",
      "[363]\ttraining's multi_logloss: 0.0168374\tvalid_1's multi_logloss: 0.0182972\n",
      "pos_loss = 2.058534884131859, floor_loss = 0.0\n",
      "fold 4: mean position error 2.058534884131859\n",
      "*+*+*+*+*+*+*+*+*+*+*+*+*+*+*+*+*+*+*+*+*+*+*+*+*+*+*+*+*+*+*+*+*+*+*+*+*+*+*+*+\n",
      "file #14, shape=(9012, 1216), name=5da138314db8ce0c98bbf3a0_train.csv\n",
      "pos_loss = 2.033892969050754, floor_loss = 0.0\n",
      "mean position error 2.033892969050754\n",
      "*+*+*+*+*+*+*+*+*+*+*+*+*+*+*+*+*+*+*+*+*+*+*+*+*+*+*+*+*+*+*+*+*+*+*+*+*+*+*+*+\n"
     ]
    },
    {
     "name": "stderr",
     "output_type": "stream",
     "text": [
      "[1.7GB(+0.0GB): 3.385sec] fit F\n",
      "[1.7GB(+0.0GB): 3.390sec] fit X\n"
     ]
    },
    {
     "name": "stdout",
     "output_type": "stream",
     "text": [
      "Training until validation scores don't improve for 200 rounds\n",
      "[200]\ttraining's rmse: 1.37518\tvalid_1's rmse: 2.13077\n",
      "[400]\ttraining's rmse: 1.04001\tvalid_1's rmse: 2.01351\n",
      "[600]\ttraining's rmse: 0.885546\tvalid_1's rmse: 1.97502\n",
      "[800]\ttraining's rmse: 0.787876\tvalid_1's rmse: 1.95411\n",
      "[1000]\ttraining's rmse: 0.720465\tvalid_1's rmse: 1.93892\n",
      "[1200]\ttraining's rmse: 0.668621\tvalid_1's rmse: 1.92957\n",
      "[1400]\ttraining's rmse: 0.625757\tvalid_1's rmse: 1.92119\n",
      "[1600]\ttraining's rmse: 0.591404\tvalid_1's rmse: 1.91688\n",
      "[1800]\ttraining's rmse: 0.563164\tvalid_1's rmse: 1.91839\n",
      "Early stopping, best iteration is:\n",
      "[1693]\ttraining's rmse: 0.577876\tvalid_1's rmse: 1.91522\n",
      "Training until validation scores don't improve for 20 rounds\n"
     ]
    },
    {
     "name": "stderr",
     "output_type": "stream",
     "text": [
      "[1.7GB(+0.0GB): 4.537sec] fit Y\n"
     ]
    },
    {
     "name": "stdout",
     "output_type": "stream",
     "text": [
      "[200]\ttraining's multi_logloss: 0.0302737\tvalid_1's multi_logloss: 0.0325603\n",
      "[400]\ttraining's multi_logloss: 0.0294614\tvalid_1's multi_logloss: 0.0317302\n",
      "Early stopping, best iteration is:\n",
      "[394]\ttraining's multi_logloss: 0.0294614\tvalid_1's multi_logloss: 0.0317302\n",
      "pos_loss = 2.39622401703563, floor_loss = 0.0\n",
      "fold 0: mean position error 2.39622401703563\n"
     ]
    },
    {
     "name": "stderr",
     "output_type": "stream",
     "text": [
      "[1.7GB(+0.0GB): 1.263sec] fit F\n",
      "[1.7GB(+0.0GB): 8.124sec] fit X\n"
     ]
    },
    {
     "name": "stdout",
     "output_type": "stream",
     "text": [
      "Training until validation scores don't improve for 200 rounds\n",
      "[200]\ttraining's rmse: 1.38024\tvalid_1's rmse: 2.38423\n",
      "[400]\ttraining's rmse: 1.05302\tvalid_1's rmse: 2.2368\n",
      "[600]\ttraining's rmse: 0.897879\tvalid_1's rmse: 2.17934\n",
      "[800]\ttraining's rmse: 0.800331\tvalid_1's rmse: 2.13992\n",
      "[1000]\ttraining's rmse: 0.729773\tvalid_1's rmse: 2.1148\n",
      "[1200]\ttraining's rmse: 0.677982\tvalid_1's rmse: 2.09744\n",
      "[1400]\ttraining's rmse: 0.636688\tvalid_1's rmse: 2.08072\n",
      "[1600]\ttraining's rmse: 0.600714\tvalid_1's rmse: 2.07214\n",
      "[1800]\ttraining's rmse: 0.572851\tvalid_1's rmse: 2.06467\n",
      "[2000]\ttraining's rmse: 0.548665\tvalid_1's rmse: 2.05801\n",
      "[2200]\ttraining's rmse: 0.526023\tvalid_1's rmse: 2.05452\n",
      "[2400]\ttraining's rmse: 0.506204\tvalid_1's rmse: 2.04735\n",
      "[2600]\ttraining's rmse: 0.489909\tvalid_1's rmse: 2.04431\n",
      "[2800]\ttraining's rmse: 0.473936\tvalid_1's rmse: 2.04043\n",
      "[3000]\ttraining's rmse: 0.460462\tvalid_1's rmse: 2.03687\n",
      "[3200]\ttraining's rmse: 0.446964\tvalid_1's rmse: 2.03574\n",
      "[3400]\ttraining's rmse: 0.435376\tvalid_1's rmse: 2.03349\n",
      "[3600]\ttraining's rmse: 0.425745\tvalid_1's rmse: 2.0316\n",
      "[3800]\ttraining's rmse: 0.415983\tvalid_1's rmse: 2.03037\n",
      "Early stopping, best iteration is:\n",
      "[3774]\ttraining's rmse: 0.416943\tvalid_1's rmse: 2.02983\n",
      "Training until validation scores don't improve for 20 rounds\n"
     ]
    },
    {
     "name": "stderr",
     "output_type": "stream",
     "text": [
      "[1.7GB(+0.0GB): 8.662sec] fit Y\n"
     ]
    },
    {
     "name": "stdout",
     "output_type": "stream",
     "text": [
      "[200]\ttraining's multi_logloss: 0.0298431\tvalid_1's multi_logloss: 0.032624\n",
      "Early stopping, best iteration is:\n",
      "[278]\ttraining's multi_logloss: 0.0296372\tvalid_1's multi_logloss: 0.032446\n",
      "pos_loss = 2.3379531129103097, floor_loss = 0.05415162454873646\n",
      "fold 1: mean position error 2.392104737459046\n"
     ]
    },
    {
     "name": "stderr",
     "output_type": "stream",
     "text": [
      "[1.7GB(+0.0GB): 0.936sec] fit F\n",
      "[1.7GB(+0.0GB): 3.287sec] fit X\n"
     ]
    },
    {
     "name": "stdout",
     "output_type": "stream",
     "text": [
      "Training until validation scores don't improve for 200 rounds\n",
      "[200]\ttraining's rmse: 1.36953\tvalid_1's rmse: 2.24383\n",
      "[400]\ttraining's rmse: 1.02846\tvalid_1's rmse: 2.11054\n",
      "[600]\ttraining's rmse: 0.873585\tvalid_1's rmse: 2.06489\n",
      "[800]\ttraining's rmse: 0.778995\tvalid_1's rmse: 2.04238\n",
      "[1000]\ttraining's rmse: 0.713112\tvalid_1's rmse: 2.03068\n",
      "[1200]\ttraining's rmse: 0.663166\tvalid_1's rmse: 2.02433\n",
      "[1400]\ttraining's rmse: 0.623952\tvalid_1's rmse: 2.01674\n",
      "[1600]\ttraining's rmse: 0.5926\tvalid_1's rmse: 2.01312\n",
      "[1800]\ttraining's rmse: 0.566777\tvalid_1's rmse: 2.01388\n",
      "Early stopping, best iteration is:\n",
      "[1686]\ttraining's rmse: 0.581224\tvalid_1's rmse: 2.0109\n"
     ]
    },
    {
     "name": "stderr",
     "output_type": "stream",
     "text": [
      "[1.7GB(+0.0GB): 4.449sec] fit Y\n"
     ]
    },
    {
     "name": "stdout",
     "output_type": "stream",
     "text": [
      "Training until validation scores don't improve for 20 rounds\n",
      "[200]\ttraining's multi_logloss: 0.0302647\tvalid_1's multi_logloss: 0.0323473\n",
      "Early stopping, best iteration is:\n",
      "[331]\ttraining's multi_logloss: 0.0295599\tvalid_1's multi_logloss: 0.031587\n",
      "pos_loss = 2.451154511779661, floor_loss = 0.0\n",
      "fold 2: mean position error 2.451154511779661\n"
     ]
    },
    {
     "name": "stderr",
     "output_type": "stream",
     "text": [
      "[1.7GB(+0.0GB): 1.334sec] fit F\n",
      "[1.7GB(+0.0GB): 7.214sec] fit X\n"
     ]
    },
    {
     "name": "stdout",
     "output_type": "stream",
     "text": [
      "Training until validation scores don't improve for 200 rounds\n",
      "[200]\ttraining's rmse: 1.32095\tvalid_1's rmse: 2.38457\n",
      "[400]\ttraining's rmse: 0.994555\tvalid_1's rmse: 2.28451\n",
      "[600]\ttraining's rmse: 0.845387\tvalid_1's rmse: 2.25288\n",
      "[800]\ttraining's rmse: 0.754252\tvalid_1's rmse: 2.22721\n",
      "[1000]\ttraining's rmse: 0.693327\tvalid_1's rmse: 2.21613\n",
      "[1200]\ttraining's rmse: 0.644748\tvalid_1's rmse: 2.21028\n",
      "[1400]\ttraining's rmse: 0.607229\tvalid_1's rmse: 2.20362\n",
      "[1600]\ttraining's rmse: 0.576945\tvalid_1's rmse: 2.20007\n",
      "[1800]\ttraining's rmse: 0.549141\tvalid_1's rmse: 2.197\n",
      "[2000]\ttraining's rmse: 0.527728\tvalid_1's rmse: 2.19472\n",
      "[2200]\ttraining's rmse: 0.508219\tvalid_1's rmse: 2.19313\n",
      "[2400]\ttraining's rmse: 0.491395\tvalid_1's rmse: 2.18901\n",
      "[2600]\ttraining's rmse: 0.475705\tvalid_1's rmse: 2.18741\n",
      "[2800]\ttraining's rmse: 0.462332\tvalid_1's rmse: 2.18642\n",
      "[3000]\ttraining's rmse: 0.4509\tvalid_1's rmse: 2.18505\n",
      "[3200]\ttraining's rmse: 0.438645\tvalid_1's rmse: 2.18307\n",
      "[3400]\ttraining's rmse: 0.428732\tvalid_1's rmse: 2.1833\n",
      "Early stopping, best iteration is:\n",
      "[3201]\ttraining's rmse: 0.438534\tvalid_1's rmse: 2.183\n",
      "Training until validation scores don't improve for 20 rounds\n"
     ]
    },
    {
     "name": "stderr",
     "output_type": "stream",
     "text": [
      "[1.7GB(+0.0GB): 7.833sec] fit Y\n"
     ]
    },
    {
     "name": "stdout",
     "output_type": "stream",
     "text": [
      "Early stopping, best iteration is:\n",
      "[84]\ttraining's multi_logloss: 0.0312489\tvalid_1's multi_logloss: 0.0299304\n",
      "pos_loss = 2.4467927691285087, floor_loss = 0.0\n",
      "fold 3: mean position error 2.4467927691285087\n"
     ]
    },
    {
     "name": "stderr",
     "output_type": "stream",
     "text": [
      "[1.7GB(+0.0GB): 0.364sec] fit F\n",
      "[1.7GB(+0.0GB): 9.188sec] fit X\n"
     ]
    },
    {
     "name": "stdout",
     "output_type": "stream",
     "text": [
      "Training until validation scores don't improve for 200 rounds\n",
      "[200]\ttraining's rmse: 1.39702\tvalid_1's rmse: 2.03519\n",
      "[400]\ttraining's rmse: 1.0509\tvalid_1's rmse: 1.88328\n",
      "[600]\ttraining's rmse: 0.887452\tvalid_1's rmse: 1.84172\n",
      "[800]\ttraining's rmse: 0.787312\tvalid_1's rmse: 1.81635\n",
      "[1000]\ttraining's rmse: 0.721302\tvalid_1's rmse: 1.81108\n",
      "[1200]\ttraining's rmse: 0.669964\tvalid_1's rmse: 1.80402\n",
      "[1400]\ttraining's rmse: 0.629789\tvalid_1's rmse: 1.80201\n",
      "[1600]\ttraining's rmse: 0.596332\tvalid_1's rmse: 1.79947\n",
      "[1800]\ttraining's rmse: 0.56782\tvalid_1's rmse: 1.79762\n",
      "[2000]\ttraining's rmse: 0.543601\tvalid_1's rmse: 1.79618\n",
      "Early stopping, best iteration is:\n",
      "[1882]\ttraining's rmse: 0.557408\tvalid_1's rmse: 1.79486\n"
     ]
    },
    {
     "name": "stderr",
     "output_type": "stream",
     "text": [
      "[1.7GB(+0.0GB): 5.068sec] fit Y\n"
     ]
    },
    {
     "name": "stdout",
     "output_type": "stream",
     "text": [
      "Training until validation scores don't improve for 20 rounds\n",
      "[200]\ttraining's multi_logloss: 0.0304457\tvalid_1's multi_logloss: 0.030824\n",
      "[400]\ttraining's multi_logloss: 0.0296599\tvalid_1's multi_logloss: 0.0300996\n",
      "Early stopping, best iteration is:\n",
      "[408]\ttraining's multi_logloss: 0.0296257\tvalid_1's multi_logloss: 0.0300708\n",
      "pos_loss = 2.2353395266848386, floor_loss = 0.0\n",
      "fold 4: mean position error 2.2353395266848386\n",
      "*+*+*+*+*+*+*+*+*+*+*+*+*+*+*+*+*+*+*+*+*+*+*+*+*+*+*+*+*+*+*+*+*+*+*+*+*+*+*+*+\n",
      "file #15, shape=(2767, 826), name=5da138364db8ce0c98bc00f1_train.csv\n",
      "pos_loss = 2.3734881585070418, floor_loss = 0.01084206722081677\n",
      "mean position error 2.3843302257278585\n",
      "*+*+*+*+*+*+*+*+*+*+*+*+*+*+*+*+*+*+*+*+*+*+*+*+*+*+*+*+*+*+*+*+*+*+*+*+*+*+*+*+\n"
     ]
    },
    {
     "name": "stderr",
     "output_type": "stream",
     "text": [
      "[1.7GB(+0.0GB): 1.370sec] fit F\n",
      "[1.7GB(+0.0GB): 58.297sec] fit X\n"
     ]
    },
    {
     "name": "stdout",
     "output_type": "stream",
     "text": [
      "Training until validation scores don't improve for 200 rounds\n",
      "[200]\ttraining's rmse: 1.96644\tvalid_1's rmse: 2.88319\n",
      "[400]\ttraining's rmse: 1.43166\tvalid_1's rmse: 2.62404\n",
      "[600]\ttraining's rmse: 1.17387\tvalid_1's rmse: 2.55279\n",
      "[800]\ttraining's rmse: 1.00927\tvalid_1's rmse: 2.52049\n",
      "[1000]\ttraining's rmse: 0.889383\tvalid_1's rmse: 2.50234\n",
      "[1200]\ttraining's rmse: 0.798985\tvalid_1's rmse: 2.48822\n",
      "[1400]\ttraining's rmse: 0.726299\tvalid_1's rmse: 2.48199\n",
      "[1600]\ttraining's rmse: 0.667882\tvalid_1's rmse: 2.4756\n",
      "[1800]\ttraining's rmse: 0.618728\tvalid_1's rmse: 2.46905\n",
      "[2000]\ttraining's rmse: 0.57677\tvalid_1's rmse: 2.46564\n",
      "[2200]\ttraining's rmse: 0.542311\tvalid_1's rmse: 2.46295\n",
      "[2400]\ttraining's rmse: 0.512522\tvalid_1's rmse: 2.46143\n",
      "[2600]\ttraining's rmse: 0.486655\tvalid_1's rmse: 2.46011\n",
      "[2800]\ttraining's rmse: 0.464331\tvalid_1's rmse: 2.45791\n",
      "Early stopping, best iteration is:\n",
      "[2788]\ttraining's rmse: 0.465471\tvalid_1's rmse: 2.4576\n"
     ]
    },
    {
     "name": "stderr",
     "output_type": "stream",
     "text": [
      "[1.7GB(+0.0GB): 46.689sec] fit Y\n"
     ]
    },
    {
     "name": "stdout",
     "output_type": "stream",
     "text": [
      "Training until validation scores don't improve for 20 rounds\n",
      "[200]\ttraining's multi_logloss: 0.0225836\tvalid_1's multi_logloss: 0.0238393\n",
      "Early stopping, best iteration is:\n",
      "[290]\ttraining's multi_logloss: 0.0221043\tvalid_1's multi_logloss: 0.0233484\n"
     ]
    },
    {
     "name": "stderr",
     "output_type": "stream",
     "text": [
      "[1.7GB(+0.0GB): 5.246sec] fit F\n"
     ]
    },
    {
     "name": "stdout",
     "output_type": "stream",
     "text": [
      "pos_loss = 3.0058016349273196, floor_loss = 0.0\n",
      "fold 0: mean position error 3.0058016349273196\n"
     ]
    },
    {
     "name": "stderr",
     "output_type": "stream",
     "text": [
      "[1.7GB(+0.0GB): 42.185sec] fit X\n"
     ]
    },
    {
     "name": "stdout",
     "output_type": "stream",
     "text": [
      "Training until validation scores don't improve for 200 rounds\n",
      "[200]\ttraining's rmse: 1.96966\tvalid_1's rmse: 3.09341\n",
      "[400]\ttraining's rmse: 1.43555\tvalid_1's rmse: 2.83857\n",
      "[600]\ttraining's rmse: 1.17609\tvalid_1's rmse: 2.75999\n",
      "[800]\ttraining's rmse: 1.0103\tvalid_1's rmse: 2.71783\n",
      "[1000]\ttraining's rmse: 0.889698\tvalid_1's rmse: 2.69767\n",
      "[1200]\ttraining's rmse: 0.799593\tvalid_1's rmse: 2.68467\n",
      "[1400]\ttraining's rmse: 0.727042\tvalid_1's rmse: 2.67836\n",
      "[1600]\ttraining's rmse: 0.667446\tvalid_1's rmse: 2.67378\n",
      "[1800]\ttraining's rmse: 0.618035\tvalid_1's rmse: 2.66647\n",
      "[2000]\ttraining's rmse: 0.576371\tvalid_1's rmse: 2.66224\n",
      "[2200]\ttraining's rmse: 0.542283\tvalid_1's rmse: 2.66036\n",
      "[2400]\ttraining's rmse: 0.512797\tvalid_1's rmse: 2.65855\n",
      "[2600]\ttraining's rmse: 0.487004\tvalid_1's rmse: 2.6571\n",
      "[2800]\ttraining's rmse: 0.465798\tvalid_1's rmse: 2.65557\n",
      "[3000]\ttraining's rmse: 0.445875\tvalid_1's rmse: 2.65637\n",
      "Early stopping, best iteration is:\n",
      "[2836]\ttraining's rmse: 0.461992\tvalid_1's rmse: 2.65477\n"
     ]
    },
    {
     "name": "stderr",
     "output_type": "stream",
     "text": [
      "[1.7GB(+0.0GB): 47.007sec] fit Y\n"
     ]
    },
    {
     "name": "stdout",
     "output_type": "stream",
     "text": [
      "Training until validation scores don't improve for 20 rounds\n",
      "Early stopping, best iteration is:\n",
      "[110]\ttraining's multi_logloss: 0.0235583\tvalid_1's multi_logloss: 0.0260372\n"
     ]
    },
    {
     "name": "stderr",
     "output_type": "stream",
     "text": [
      "[1.7GB(+0.0GB): 2.484sec] fit F\n"
     ]
    },
    {
     "name": "stdout",
     "output_type": "stream",
     "text": [
      "pos_loss = 3.062024673912945, floor_loss = 0.0\n",
      "fold 1: mean position error 3.062024673912945\n"
     ]
    },
    {
     "name": "stderr",
     "output_type": "stream",
     "text": [
      "[1.7GB(+0.0GB): 51.253sec] fit X\n"
     ]
    },
    {
     "name": "stdout",
     "output_type": "stream",
     "text": [
      "Training until validation scores don't improve for 200 rounds\n",
      "[200]\ttraining's rmse: 1.97352\tvalid_1's rmse: 3.0974\n",
      "[400]\ttraining's rmse: 1.44374\tvalid_1's rmse: 2.85977\n",
      "[600]\ttraining's rmse: 1.18451\tvalid_1's rmse: 2.76964\n",
      "[800]\ttraining's rmse: 1.01904\tvalid_1's rmse: 2.72382\n",
      "[1000]\ttraining's rmse: 0.8999\tvalid_1's rmse: 2.6951\n",
      "[1200]\ttraining's rmse: 0.810083\tvalid_1's rmse: 2.67597\n",
      "[1400]\ttraining's rmse: 0.738345\tvalid_1's rmse: 2.66363\n",
      "[1600]\ttraining's rmse: 0.679414\tvalid_1's rmse: 2.65237\n",
      "[1800]\ttraining's rmse: 0.629869\tvalid_1's rmse: 2.64262\n",
      "[2000]\ttraining's rmse: 0.588081\tvalid_1's rmse: 2.63472\n",
      "[2200]\ttraining's rmse: 0.552845\tvalid_1's rmse: 2.62688\n",
      "[2400]\ttraining's rmse: 0.522402\tvalid_1's rmse: 2.62163\n",
      "[2600]\ttraining's rmse: 0.496673\tvalid_1's rmse: 2.61785\n",
      "[2800]\ttraining's rmse: 0.474092\tvalid_1's rmse: 2.61438\n",
      "[3000]\ttraining's rmse: 0.45438\tvalid_1's rmse: 2.61226\n",
      "[3200]\ttraining's rmse: 0.43651\tvalid_1's rmse: 2.61077\n",
      "[3400]\ttraining's rmse: 0.420852\tvalid_1's rmse: 2.60821\n",
      "[3600]\ttraining's rmse: 0.406301\tvalid_1's rmse: 2.60668\n",
      "[3800]\ttraining's rmse: 0.392574\tvalid_1's rmse: 2.6042\n",
      "[4000]\ttraining's rmse: 0.380561\tvalid_1's rmse: 2.60287\n",
      "[4200]\ttraining's rmse: 0.369857\tvalid_1's rmse: 2.60133\n",
      "[4400]\ttraining's rmse: 0.360153\tvalid_1's rmse: 2.60001\n",
      "[4600]\ttraining's rmse: 0.350746\tvalid_1's rmse: 2.59945\n",
      "[4800]\ttraining's rmse: 0.342231\tvalid_1's rmse: 2.5982\n",
      "[5000]\ttraining's rmse: 0.334801\tvalid_1's rmse: 2.5977\n",
      "[5200]\ttraining's rmse: 0.327239\tvalid_1's rmse: 2.59626\n",
      "[5400]\ttraining's rmse: 0.320518\tvalid_1's rmse: 2.59611\n",
      "[5600]\ttraining's rmse: 0.31357\tvalid_1's rmse: 2.59574\n",
      "[5800]\ttraining's rmse: 0.307219\tvalid_1's rmse: 2.59514\n",
      "[6000]\ttraining's rmse: 0.301415\tvalid_1's rmse: 2.59446\n",
      "Early stopping, best iteration is:\n",
      "[5996]\ttraining's rmse: 0.301558\tvalid_1's rmse: 2.59429\n"
     ]
    },
    {
     "name": "stderr",
     "output_type": "stream",
     "text": [
      "[1.7GB(+0.0GB): 90.094sec] fit Y\n"
     ]
    },
    {
     "name": "stdout",
     "output_type": "stream",
     "text": [
      "Training until validation scores don't improve for 20 rounds\n",
      "Early stopping, best iteration is:\n",
      "[91]\ttraining's multi_logloss: 0.0240846\tvalid_1's multi_logloss: 0.0255817\n"
     ]
    },
    {
     "name": "stderr",
     "output_type": "stream",
     "text": [
      "[1.7GB(+0.0GB): 2.148sec] fit F\n"
     ]
    },
    {
     "name": "stdout",
     "output_type": "stream",
     "text": [
      "pos_loss = 3.053138386242817, floor_loss = 0.0\n",
      "fold 2: mean position error 3.053138386242817\n"
     ]
    },
    {
     "name": "stderr",
     "output_type": "stream",
     "text": [
      "[1.7GB(-0.0GB): 70.506sec] fit X\n"
     ]
    },
    {
     "name": "stdout",
     "output_type": "stream",
     "text": [
      "Training until validation scores don't improve for 200 rounds\n",
      "[200]\ttraining's rmse: 1.965\tvalid_1's rmse: 2.95601\n",
      "[400]\ttraining's rmse: 1.43046\tvalid_1's rmse: 2.72054\n",
      "[600]\ttraining's rmse: 1.17101\tvalid_1's rmse: 2.65108\n",
      "[800]\ttraining's rmse: 1.00694\tvalid_1's rmse: 2.61392\n",
      "[1000]\ttraining's rmse: 0.889868\tvalid_1's rmse: 2.59248\n",
      "[1200]\ttraining's rmse: 0.801003\tvalid_1's rmse: 2.58291\n",
      "[1400]\ttraining's rmse: 0.729164\tvalid_1's rmse: 2.5715\n",
      "[1600]\ttraining's rmse: 0.671213\tvalid_1's rmse: 2.56513\n",
      "[1800]\ttraining's rmse: 0.623445\tvalid_1's rmse: 2.55967\n",
      "[2000]\ttraining's rmse: 0.582155\tvalid_1's rmse: 2.5528\n",
      "[2200]\ttraining's rmse: 0.54731\tvalid_1's rmse: 2.55116\n",
      "[2400]\ttraining's rmse: 0.518452\tvalid_1's rmse: 2.54882\n",
      "[2600]\ttraining's rmse: 0.493454\tvalid_1's rmse: 2.54689\n",
      "[2800]\ttraining's rmse: 0.470946\tvalid_1's rmse: 2.54564\n",
      "[3000]\ttraining's rmse: 0.451136\tvalid_1's rmse: 2.54342\n",
      "[3200]\ttraining's rmse: 0.433811\tvalid_1's rmse: 2.54242\n",
      "[3400]\ttraining's rmse: 0.418315\tvalid_1's rmse: 2.54057\n",
      "[3600]\ttraining's rmse: 0.403961\tvalid_1's rmse: 2.54025\n",
      "[3800]\ttraining's rmse: 0.391502\tvalid_1's rmse: 2.53987\n",
      "[4000]\ttraining's rmse: 0.379781\tvalid_1's rmse: 2.53936\n",
      "[4200]\ttraining's rmse: 0.36904\tvalid_1's rmse: 2.53842\n",
      "[4400]\ttraining's rmse: 0.359116\tvalid_1's rmse: 2.53804\n",
      "[4600]\ttraining's rmse: 0.349356\tvalid_1's rmse: 2.53817\n",
      "[4800]\ttraining's rmse: 0.340924\tvalid_1's rmse: 2.53683\n",
      "[5000]\ttraining's rmse: 0.333013\tvalid_1's rmse: 2.53618\n",
      "[5200]\ttraining's rmse: 0.325504\tvalid_1's rmse: 2.53556\n",
      "[5400]\ttraining's rmse: 0.31841\tvalid_1's rmse: 2.5348\n",
      "[5600]\ttraining's rmse: 0.311776\tvalid_1's rmse: 2.53508\n",
      "Early stopping, best iteration is:\n",
      "[5478]\ttraining's rmse: 0.31572\tvalid_1's rmse: 2.53449\n"
     ]
    },
    {
     "name": "stderr",
     "output_type": "stream",
     "text": [
      "[1.7GB(+0.0GB): 83.865sec] fit Y\n"
     ]
    },
    {
     "name": "stdout",
     "output_type": "stream",
     "text": [
      "Training until validation scores don't improve for 20 rounds\n",
      "Early stopping, best iteration is:\n",
      "[109]\ttraining's multi_logloss: 0.0236269\tvalid_1's multi_logloss: 0.0255529\n"
     ]
    },
    {
     "name": "stderr",
     "output_type": "stream",
     "text": [
      "[1.7GB(+0.0GB): 2.465sec] fit F\n"
     ]
    },
    {
     "name": "stdout",
     "output_type": "stream",
     "text": [
      "pos_loss = 2.9653375433013025, floor_loss = 0.0\n",
      "fold 3: mean position error 2.9653375433013025\n"
     ]
    },
    {
     "name": "stderr",
     "output_type": "stream",
     "text": [
      "[1.7GB(+0.0GB): 37.285sec] fit X\n"
     ]
    },
    {
     "name": "stdout",
     "output_type": "stream",
     "text": [
      "Training until validation scores don't improve for 200 rounds\n",
      "[200]\ttraining's rmse: 1.96147\tvalid_1's rmse: 2.89876\n",
      "[400]\ttraining's rmse: 1.42343\tvalid_1's rmse: 2.6423\n",
      "[600]\ttraining's rmse: 1.17025\tvalid_1's rmse: 2.56693\n",
      "[800]\ttraining's rmse: 1.00452\tvalid_1's rmse: 2.53242\n",
      "[1000]\ttraining's rmse: 0.88517\tvalid_1's rmse: 2.5122\n",
      "[1200]\ttraining's rmse: 0.794953\tvalid_1's rmse: 2.49647\n",
      "[1400]\ttraining's rmse: 0.72351\tvalid_1's rmse: 2.48475\n",
      "[1600]\ttraining's rmse: 0.664742\tvalid_1's rmse: 2.47763\n",
      "[1800]\ttraining's rmse: 0.616667\tvalid_1's rmse: 2.47262\n",
      "[2000]\ttraining's rmse: 0.5758\tvalid_1's rmse: 2.46958\n",
      "[2200]\ttraining's rmse: 0.54137\tvalid_1's rmse: 2.46647\n",
      "[2400]\ttraining's rmse: 0.512343\tvalid_1's rmse: 2.46483\n",
      "[2600]\ttraining's rmse: 0.486488\tvalid_1's rmse: 2.46278\n",
      "[2800]\ttraining's rmse: 0.463873\tvalid_1's rmse: 2.46277\n",
      "[3000]\ttraining's rmse: 0.444198\tvalid_1's rmse: 2.46131\n",
      "[3200]\ttraining's rmse: 0.426538\tvalid_1's rmse: 2.45994\n",
      "[3400]\ttraining's rmse: 0.410766\tvalid_1's rmse: 2.45883\n",
      "[3600]\ttraining's rmse: 0.39715\tvalid_1's rmse: 2.45856\n",
      "[3800]\ttraining's rmse: 0.384112\tvalid_1's rmse: 2.45738\n",
      "[4000]\ttraining's rmse: 0.3727\tvalid_1's rmse: 2.45699\n",
      "Early stopping, best iteration is:\n",
      "[3863]\ttraining's rmse: 0.380579\tvalid_1's rmse: 2.45663\n"
     ]
    },
    {
     "name": "stderr",
     "output_type": "stream",
     "text": [
      "[1.7GB(+0.0GB): 62.232sec] fit Y\n"
     ]
    },
    {
     "name": "stdout",
     "output_type": "stream",
     "text": [
      "Training until validation scores don't improve for 20 rounds\n",
      "[200]\ttraining's multi_logloss: 0.022823\tvalid_1's multi_logloss: 0.0246643\n",
      "Early stopping, best iteration is:\n",
      "[353]\ttraining's multi_logloss: 0.021965\tvalid_1's multi_logloss: 0.0237402\n"
     ]
    },
    {
     "name": "stderr",
     "output_type": "stream",
     "text": [
      "[1.7GB(+0.0GB): 5.982sec] fit F\n"
     ]
    },
    {
     "name": "stdout",
     "output_type": "stream",
     "text": [
      "pos_loss = 2.9976660475876447, floor_loss = 0.0\n",
      "fold 4: mean position error 2.9976660475876447\n",
      "*+*+*+*+*+*+*+*+*+*+*+*+*+*+*+*+*+*+*+*+*+*+*+*+*+*+*+*+*+*+*+*+*+*+*+*+*+*+*+*+\n",
      "file #16, shape=(13196, 1529), name=5da1383b4db8ce0c98bc11ab_train.csv\n",
      "pos_loss = 3.0167928242130273, floor_loss = 0.0\n",
      "mean position error 3.0167928242130273\n",
      "*+*+*+*+*+*+*+*+*+*+*+*+*+*+*+*+*+*+*+*+*+*+*+*+*+*+*+*+*+*+*+*+*+*+*+*+*+*+*+*+\n"
     ]
    },
    {
     "name": "stderr",
     "output_type": "stream",
     "text": [
      "[1.7GB(+0.0GB): 11.583sec] fit X\n"
     ]
    },
    {
     "name": "stdout",
     "output_type": "stream",
     "text": [
      "Training until validation scores don't improve for 200 rounds\n",
      "[200]\ttraining's rmse: 1.46637\tvalid_1's rmse: 2.50317\n",
      "[400]\ttraining's rmse: 1.0418\tvalid_1's rmse: 2.33226\n",
      "[600]\ttraining's rmse: 0.853099\tvalid_1's rmse: 2.2804\n",
      "[800]\ttraining's rmse: 0.74032\tvalid_1's rmse: 2.25469\n",
      "[1000]\ttraining's rmse: 0.664504\tvalid_1's rmse: 2.23684\n",
      "[1200]\ttraining's rmse: 0.607251\tvalid_1's rmse: 2.22622\n",
      "[1400]\ttraining's rmse: 0.562566\tvalid_1's rmse: 2.22139\n",
      "[1600]\ttraining's rmse: 0.527585\tvalid_1's rmse: 2.21627\n",
      "[1800]\ttraining's rmse: 0.498157\tvalid_1's rmse: 2.2106\n",
      "[2000]\ttraining's rmse: 0.473898\tvalid_1's rmse: 2.20803\n",
      "[2200]\ttraining's rmse: 0.453208\tvalid_1's rmse: 2.20619\n",
      "[2400]\ttraining's rmse: 0.434679\tvalid_1's rmse: 2.20449\n",
      "[2600]\ttraining's rmse: 0.417853\tvalid_1's rmse: 2.2033\n",
      "[2800]\ttraining's rmse: 0.403705\tvalid_1's rmse: 2.20177\n",
      "[3000]\ttraining's rmse: 0.390644\tvalid_1's rmse: 2.20088\n",
      "[3200]\ttraining's rmse: 0.378238\tvalid_1's rmse: 2.19925\n",
      "[3400]\ttraining's rmse: 0.367504\tvalid_1's rmse: 2.19882\n",
      "[3600]\ttraining's rmse: 0.357854\tvalid_1's rmse: 2.19856\n",
      "Early stopping, best iteration is:\n",
      "[3562]\ttraining's rmse: 0.359977\tvalid_1's rmse: 2.19817\n"
     ]
    },
    {
     "name": "stderr",
     "output_type": "stream",
     "text": [
      "[1.7GB(+0.0GB): 29.247sec] fit Y\n"
     ]
    },
    {
     "name": "stdout",
     "output_type": "stream",
     "text": [
      "Training until validation scores don't improve for 20 rounds\n",
      "[200]\ttraining's multi_logloss: 0.031797\tvalid_1's multi_logloss: 0.0332634\n",
      "Early stopping, best iteration is:\n",
      "[220]\ttraining's multi_logloss: 0.0316204\tvalid_1's multi_logloss: 0.0330692\n",
      "pos_loss = 2.6840306336847624, floor_loss = 0.0\n",
      "fold 0: mean position error 2.6840306336847624\n"
     ]
    },
    {
     "name": "stderr",
     "output_type": "stream",
     "text": [
      "[1.7GB(+0.0GB): 2.509sec] fit F\n",
      "[1.7GB(+0.0GB): 13.824sec] fit X\n"
     ]
    },
    {
     "name": "stdout",
     "output_type": "stream",
     "text": [
      "Training until validation scores don't improve for 200 rounds\n",
      "[200]\ttraining's rmse: 1.46288\tvalid_1's rmse: 2.47576\n",
      "[400]\ttraining's rmse: 1.04038\tvalid_1's rmse: 2.31725\n",
      "[600]\ttraining's rmse: 0.848394\tvalid_1's rmse: 2.2726\n",
      "[800]\ttraining's rmse: 0.737414\tvalid_1's rmse: 2.25402\n",
      "[1000]\ttraining's rmse: 0.66355\tvalid_1's rmse: 2.24264\n",
      "[1200]\ttraining's rmse: 0.608282\tvalid_1's rmse: 2.23383\n",
      "[1400]\ttraining's rmse: 0.564811\tvalid_1's rmse: 2.22861\n",
      "[1600]\ttraining's rmse: 0.528956\tvalid_1's rmse: 2.22409\n",
      "[1800]\ttraining's rmse: 0.499192\tvalid_1's rmse: 2.22162\n",
      "[2000]\ttraining's rmse: 0.473716\tvalid_1's rmse: 2.21754\n",
      "[2200]\ttraining's rmse: 0.451844\tvalid_1's rmse: 2.2165\n",
      "Early stopping, best iteration is:\n",
      "[2062]\ttraining's rmse: 0.466314\tvalid_1's rmse: 2.21519\n"
     ]
    },
    {
     "name": "stderr",
     "output_type": "stream",
     "text": [
      "[1.7GB(+0.0GB): 18.186sec] fit Y\n"
     ]
    },
    {
     "name": "stdout",
     "output_type": "stream",
     "text": [
      "Training until validation scores don't improve for 20 rounds\n",
      "Early stopping, best iteration is:\n",
      "[92]\ttraining's multi_logloss: 0.032325\tvalid_1's multi_logloss: 0.0342533\n",
      "pos_loss = 2.804007872996399, floor_loss = 0.0\n",
      "fold 1: mean position error 2.804007872996399\n"
     ]
    },
    {
     "name": "stderr",
     "output_type": "stream",
     "text": [
      "[1.7GB(+0.0GB): 1.264sec] fit F\n",
      "[1.7GB(+0.0GB): 18.629sec] fit X\n"
     ]
    },
    {
     "name": "stdout",
     "output_type": "stream",
     "text": [
      "Training until validation scores don't improve for 200 rounds\n",
      "[200]\ttraining's rmse: 1.47516\tvalid_1's rmse: 2.69968\n",
      "[400]\ttraining's rmse: 1.05654\tvalid_1's rmse: 2.487\n",
      "[600]\ttraining's rmse: 0.865904\tvalid_1's rmse: 2.42293\n",
      "[800]\ttraining's rmse: 0.75406\tvalid_1's rmse: 2.39426\n",
      "[1000]\ttraining's rmse: 0.677517\tvalid_1's rmse: 2.37198\n",
      "[1200]\ttraining's rmse: 0.619973\tvalid_1's rmse: 2.36357\n",
      "[1400]\ttraining's rmse: 0.57555\tvalid_1's rmse: 2.35407\n",
      "[1600]\ttraining's rmse: 0.539681\tvalid_1's rmse: 2.35049\n",
      "[1800]\ttraining's rmse: 0.509591\tvalid_1's rmse: 2.34616\n",
      "[2000]\ttraining's rmse: 0.484337\tvalid_1's rmse: 2.3443\n",
      "[2200]\ttraining's rmse: 0.462565\tvalid_1's rmse: 2.34025\n",
      "[2400]\ttraining's rmse: 0.444139\tvalid_1's rmse: 2.33645\n",
      "[2600]\ttraining's rmse: 0.427776\tvalid_1's rmse: 2.33509\n",
      "[2800]\ttraining's rmse: 0.412177\tvalid_1's rmse: 2.33371\n",
      "[3000]\ttraining's rmse: 0.398718\tvalid_1's rmse: 2.33076\n",
      "Early stopping, best iteration is:\n",
      "[2988]\ttraining's rmse: 0.399448\tvalid_1's rmse: 2.33063\n"
     ]
    },
    {
     "name": "stderr",
     "output_type": "stream",
     "text": [
      "[1.7GB(+0.0GB): 24.790sec] fit Y\n"
     ]
    },
    {
     "name": "stdout",
     "output_type": "stream",
     "text": [
      "Training until validation scores don't improve for 20 rounds\n",
      "[200]\ttraining's multi_logloss: 0.0315341\tvalid_1's multi_logloss: 0.0340004\n",
      "Early stopping, best iteration is:\n",
      "[270]\ttraining's multi_logloss: 0.0312346\tvalid_1's multi_logloss: 0.0337011\n",
      "pos_loss = 2.7392200460112335, floor_loss = 0.0\n",
      "fold 2: mean position error 2.7392200460112335\n"
     ]
    },
    {
     "name": "stderr",
     "output_type": "stream",
     "text": [
      "[1.7GB(+0.0GB): 2.940sec] fit F\n",
      "[1.7GB(+0.0GB): 27.014sec] fit X\n"
     ]
    },
    {
     "name": "stdout",
     "output_type": "stream",
     "text": [
      "Training until validation scores don't improve for 200 rounds\n",
      "[200]\ttraining's rmse: 1.50283\tvalid_1's rmse: 2.49536\n",
      "[400]\ttraining's rmse: 1.0707\tvalid_1's rmse: 2.3052\n",
      "[600]\ttraining's rmse: 0.876653\tvalid_1's rmse: 2.24481\n",
      "[800]\ttraining's rmse: 0.760073\tvalid_1's rmse: 2.21606\n",
      "[1000]\ttraining's rmse: 0.681107\tvalid_1's rmse: 2.19571\n",
      "[1200]\ttraining's rmse: 0.622313\tvalid_1's rmse: 2.17984\n",
      "[1400]\ttraining's rmse: 0.575986\tvalid_1's rmse: 2.17546\n",
      "[1600]\ttraining's rmse: 0.538906\tvalid_1's rmse: 2.17104\n",
      "[1800]\ttraining's rmse: 0.50843\tvalid_1's rmse: 2.16421\n",
      "[2000]\ttraining's rmse: 0.482352\tvalid_1's rmse: 2.15758\n",
      "[2200]\ttraining's rmse: 0.459992\tvalid_1's rmse: 2.15317\n",
      "[2400]\ttraining's rmse: 0.440415\tvalid_1's rmse: 2.15161\n",
      "[2600]\ttraining's rmse: 0.422948\tvalid_1's rmse: 2.1477\n",
      "[2800]\ttraining's rmse: 0.408351\tvalid_1's rmse: 2.14548\n",
      "[3000]\ttraining's rmse: 0.395277\tvalid_1's rmse: 2.14577\n",
      "[3200]\ttraining's rmse: 0.381875\tvalid_1's rmse: 2.14289\n",
      "[3400]\ttraining's rmse: 0.369732\tvalid_1's rmse: 2.1424\n",
      "Early stopping, best iteration is:\n",
      "[3284]\ttraining's rmse: 0.376665\tvalid_1's rmse: 2.14119\n"
     ]
    },
    {
     "name": "stderr",
     "output_type": "stream",
     "text": [
      "[1.7GB(+0.0GB): 27.494sec] fit Y\n"
     ]
    },
    {
     "name": "stdout",
     "output_type": "stream",
     "text": [
      "Training until validation scores don't improve for 20 rounds\n",
      "[200]\ttraining's multi_logloss: 0.031928\tvalid_1's multi_logloss: 0.0338222\n",
      "Early stopping, best iteration is:\n",
      "[242]\ttraining's multi_logloss: 0.031699\tvalid_1's multi_logloss: 0.0335882\n",
      "pos_loss = 2.7113936725908667, floor_loss = 0.0\n",
      "fold 3: mean position error 2.7113936725908667\n"
     ]
    },
    {
     "name": "stderr",
     "output_type": "stream",
     "text": [
      "[1.7GB(+0.0GB): 2.662sec] fit F\n",
      "[1.7GB(+0.0GB): 13.355sec] fit X\n"
     ]
    },
    {
     "name": "stdout",
     "output_type": "stream",
     "text": [
      "Training until validation scores don't improve for 200 rounds\n",
      "[200]\ttraining's rmse: 1.45011\tvalid_1's rmse: 2.59549\n",
      "[400]\ttraining's rmse: 1.03006\tvalid_1's rmse: 2.41862\n",
      "[600]\ttraining's rmse: 0.842334\tvalid_1's rmse: 2.36249\n",
      "[800]\ttraining's rmse: 0.733279\tvalid_1's rmse: 2.33766\n",
      "[1000]\ttraining's rmse: 0.659045\tvalid_1's rmse: 2.32786\n",
      "[1200]\ttraining's rmse: 0.603776\tvalid_1's rmse: 2.31925\n",
      "[1400]\ttraining's rmse: 0.561746\tvalid_1's rmse: 2.3124\n",
      "[1600]\ttraining's rmse: 0.526288\tvalid_1's rmse: 2.30662\n",
      "[1800]\ttraining's rmse: 0.497468\tvalid_1's rmse: 2.30325\n",
      "[2000]\ttraining's rmse: 0.472378\tvalid_1's rmse: 2.299\n",
      "[2200]\ttraining's rmse: 0.451891\tvalid_1's rmse: 2.29718\n",
      "[2400]\ttraining's rmse: 0.434471\tvalid_1's rmse: 2.29568\n",
      "[2600]\ttraining's rmse: 0.4166\tvalid_1's rmse: 2.29468\n",
      "[2800]\ttraining's rmse: 0.403231\tvalid_1's rmse: 2.29399\n",
      "[3000]\ttraining's rmse: 0.389837\tvalid_1's rmse: 2.29217\n",
      "Early stopping, best iteration is:\n",
      "[2954]\ttraining's rmse: 0.393219\tvalid_1's rmse: 2.2917\n"
     ]
    },
    {
     "name": "stderr",
     "output_type": "stream",
     "text": [
      "[1.7GB(+0.0GB): 26.228sec] fit Y\n"
     ]
    },
    {
     "name": "stdout",
     "output_type": "stream",
     "text": [
      "Training until validation scores don't improve for 20 rounds\n",
      "Early stopping, best iteration is:\n",
      "[100]\ttraining's multi_logloss: 0.0328006\tvalid_1's multi_logloss: 0.0357466\n",
      "pos_loss = 2.865643469974108, floor_loss = 0.031315240083507306\n",
      "fold 4: mean position error 2.8969587100576155\n",
      "*+*+*+*+*+*+*+*+*+*+*+*+*+*+*+*+*+*+*+*+*+*+*+*+*+*+*+*+*+*+*+*+*+*+*+*+*+*+*+*+\n",
      "file #17, shape=(7188, 1631), name=5da138754db8ce0c98bca82f_train.csv\n",
      "pos_loss = 2.760851443049184, floor_loss = 0.006260434056761268\n",
      "mean position error 2.7671118771059455\n",
      "*+*+*+*+*+*+*+*+*+*+*+*+*+*+*+*+*+*+*+*+*+*+*+*+*+*+*+*+*+*+*+*+*+*+*+*+*+*+*+*+\n"
     ]
    },
    {
     "name": "stderr",
     "output_type": "stream",
     "text": [
      "[1.7GB(+0.0GB): 1.373sec] fit F\n",
      "[1.7GB(+0.0GB): 42.253sec] fit X\n"
     ]
    },
    {
     "name": "stdout",
     "output_type": "stream",
     "text": [
      "Training until validation scores don't improve for 200 rounds\n",
      "[200]\ttraining's rmse: 2.18394\tvalid_1's rmse: 3.51276\n",
      "[400]\ttraining's rmse: 1.58689\tvalid_1's rmse: 3.25416\n",
      "[600]\ttraining's rmse: 1.29552\tvalid_1's rmse: 3.15486\n",
      "[800]\ttraining's rmse: 1.1138\tvalid_1's rmse: 3.10847\n",
      "[1000]\ttraining's rmse: 0.9864\tvalid_1's rmse: 3.08002\n",
      "[1200]\ttraining's rmse: 0.892626\tvalid_1's rmse: 3.0579\n",
      "[1400]\ttraining's rmse: 0.819424\tvalid_1's rmse: 3.04539\n",
      "[1600]\ttraining's rmse: 0.760203\tvalid_1's rmse: 3.03667\n",
      "[1800]\ttraining's rmse: 0.712377\tvalid_1's rmse: 3.03111\n",
      "[2000]\ttraining's rmse: 0.671631\tvalid_1's rmse: 3.02202\n",
      "[2200]\ttraining's rmse: 0.639009\tvalid_1's rmse: 3.01968\n",
      "[2400]\ttraining's rmse: 0.609503\tvalid_1's rmse: 3.01457\n",
      "[2600]\ttraining's rmse: 0.583657\tvalid_1's rmse: 3.0107\n",
      "[2800]\ttraining's rmse: 0.561232\tvalid_1's rmse: 3.00911\n",
      "[3000]\ttraining's rmse: 0.540675\tvalid_1's rmse: 3.00742\n",
      "Early stopping, best iteration is:\n",
      "[2946]\ttraining's rmse: 0.545971\tvalid_1's rmse: 3.0071\n"
     ]
    },
    {
     "name": "stderr",
     "output_type": "stream",
     "text": [
      "[1.7GB(+0.0GB): 39.775sec] fit Y\n"
     ]
    },
    {
     "name": "stdout",
     "output_type": "stream",
     "text": [
      "Training until validation scores don't improve for 20 rounds\n",
      "[200]\ttraining's multi_logloss: 0.0302545\tvalid_1's multi_logloss: 0.031796\n",
      "[400]\ttraining's multi_logloss: 0.0301017\tvalid_1's multi_logloss: 0.0316377\n",
      "[600]\ttraining's multi_logloss: 0.0299877\tvalid_1's multi_logloss: 0.0315233\n",
      "Early stopping, best iteration is:\n",
      "[613]\ttraining's multi_logloss: 0.0299801\tvalid_1's multi_logloss: 0.0315159\n"
     ]
    },
    {
     "name": "stderr",
     "output_type": "stream",
     "text": [
      "[1.7GB(+0.0GB): 11.378sec] fit F\n"
     ]
    },
    {
     "name": "stdout",
     "output_type": "stream",
     "text": [
      "pos_loss = 3.212605715624644, floor_loss = 0.0\n",
      "fold 0: mean position error 3.212605715624644\n"
     ]
    },
    {
     "name": "stderr",
     "output_type": "stream",
     "text": [
      "[1.7GB(+0.0GB): 35.656sec] fit X\n"
     ]
    },
    {
     "name": "stdout",
     "output_type": "stream",
     "text": [
      "Training until validation scores don't improve for 200 rounds\n",
      "[200]\ttraining's rmse: 2.14882\tvalid_1's rmse: 3.43487\n",
      "[400]\ttraining's rmse: 1.56387\tvalid_1's rmse: 3.17789\n",
      "[600]\ttraining's rmse: 1.28553\tvalid_1's rmse: 3.10394\n",
      "[800]\ttraining's rmse: 1.11015\tvalid_1's rmse: 3.06991\n",
      "[1000]\ttraining's rmse: 0.989529\tvalid_1's rmse: 3.05464\n",
      "[1200]\ttraining's rmse: 0.898784\tvalid_1's rmse: 3.04554\n",
      "[1400]\ttraining's rmse: 0.828213\tvalid_1's rmse: 3.04134\n",
      "[1600]\ttraining's rmse: 0.77285\tvalid_1's rmse: 3.03257\n",
      "[1800]\ttraining's rmse: 0.725811\tvalid_1's rmse: 3.02873\n",
      "[2000]\ttraining's rmse: 0.686459\tvalid_1's rmse: 3.02627\n",
      "[2200]\ttraining's rmse: 0.653711\tvalid_1's rmse: 3.02133\n",
      "[2400]\ttraining's rmse: 0.624714\tvalid_1's rmse: 3.02102\n",
      "Early stopping, best iteration is:\n",
      "[2265]\ttraining's rmse: 0.643855\tvalid_1's rmse: 3.02001\n"
     ]
    },
    {
     "name": "stderr",
     "output_type": "stream",
     "text": [
      "[1.7GB(+0.0GB): 32.231sec] fit Y\n"
     ]
    },
    {
     "name": "stdout",
     "output_type": "stream",
     "text": [
      "Training until validation scores don't improve for 20 rounds\n",
      "Early stopping, best iteration is:\n",
      "[109]\ttraining's multi_logloss: 0.0305403\tvalid_1's multi_logloss: 0.0321998\n",
      "pos_loss = 3.3455725600044506, floor_loss = 0.0\n",
      "fold 1: mean position error 3.3455725600044506\n"
     ]
    },
    {
     "name": "stderr",
     "output_type": "stream",
     "text": [
      "[1.7GB(+0.0GB): 2.719sec] fit F\n",
      "[1.7GB(+0.0GB): 33.468sec] fit X\n"
     ]
    },
    {
     "name": "stdout",
     "output_type": "stream",
     "text": [
      "Training until validation scores don't improve for 200 rounds\n",
      "[200]\ttraining's rmse: 2.21643\tvalid_1's rmse: 3.47614\n",
      "[400]\ttraining's rmse: 1.63223\tvalid_1's rmse: 3.20777\n",
      "[600]\ttraining's rmse: 1.34187\tvalid_1's rmse: 3.10813\n",
      "[800]\ttraining's rmse: 1.15953\tvalid_1's rmse: 3.04786\n",
      "[1000]\ttraining's rmse: 1.03004\tvalid_1's rmse: 3.00865\n",
      "[1200]\ttraining's rmse: 0.93022\tvalid_1's rmse: 2.98015\n",
      "[1400]\ttraining's rmse: 0.854485\tvalid_1's rmse: 2.96099\n",
      "[1600]\ttraining's rmse: 0.791776\tvalid_1's rmse: 2.94484\n",
      "[1800]\ttraining's rmse: 0.742589\tvalid_1's rmse: 2.93329\n",
      "[2000]\ttraining's rmse: 0.700165\tvalid_1's rmse: 2.92235\n",
      "[2200]\ttraining's rmse: 0.663705\tvalid_1's rmse: 2.92053\n",
      "[2400]\ttraining's rmse: 0.6329\tvalid_1's rmse: 2.91782\n",
      "[2600]\ttraining's rmse: 0.60609\tvalid_1's rmse: 2.91191\n",
      "[2800]\ttraining's rmse: 0.583087\tvalid_1's rmse: 2.90925\n",
      "[3000]\ttraining's rmse: 0.561435\tvalid_1's rmse: 2.90729\n",
      "[3200]\ttraining's rmse: 0.541564\tvalid_1's rmse: 2.9068\n",
      "[3400]\ttraining's rmse: 0.523367\tvalid_1's rmse: 2.90499\n",
      "[3600]\ttraining's rmse: 0.507256\tvalid_1's rmse: 2.90284\n",
      "[3800]\ttraining's rmse: 0.493065\tvalid_1's rmse: 2.89954\n",
      "[4000]\ttraining's rmse: 0.479734\tvalid_1's rmse: 2.89954\n",
      "[4200]\ttraining's rmse: 0.467406\tvalid_1's rmse: 2.89816\n",
      "[4400]\ttraining's rmse: 0.455799\tvalid_1's rmse: 2.89682\n",
      "[4600]\ttraining's rmse: 0.445391\tvalid_1's rmse: 2.89457\n",
      "[4800]\ttraining's rmse: 0.4351\tvalid_1's rmse: 2.89322\n",
      "[5000]\ttraining's rmse: 0.425824\tvalid_1's rmse: 2.89146\n",
      "[5200]\ttraining's rmse: 0.417176\tvalid_1's rmse: 2.8906\n",
      "[5400]\ttraining's rmse: 0.408528\tvalid_1's rmse: 2.89104\n",
      "Early stopping, best iteration is:\n",
      "[5224]\ttraining's rmse: 0.416222\tvalid_1's rmse: 2.88992\n"
     ]
    },
    {
     "name": "stderr",
     "output_type": "stream",
     "text": [
      "[1.7GB(+0.0GB): 66.068sec] fit Y\n"
     ]
    },
    {
     "name": "stdout",
     "output_type": "stream",
     "text": [
      "Training until validation scores don't improve for 20 rounds\n",
      "[200]\ttraining's multi_logloss: 0.0300739\tvalid_1's multi_logloss: 0.0330055\n",
      "[400]\ttraining's multi_logloss: 0.0298979\tvalid_1's multi_logloss: 0.0328222\n",
      "Early stopping, best iteration is:\n",
      "[528]\ttraining's multi_logloss: 0.0297998\tvalid_1's multi_logloss: 0.0327232\n"
     ]
    },
    {
     "name": "stderr",
     "output_type": "stream",
     "text": [
      "[1.7GB(+0.0GB): 10.239sec] fit F\n"
     ]
    },
    {
     "name": "stdout",
     "output_type": "stream",
     "text": [
      "pos_loss = 3.2267986053916546, floor_loss = 0.0\n",
      "fold 2: mean position error 3.2267986053916546\n"
     ]
    },
    {
     "name": "stderr",
     "output_type": "stream",
     "text": [
      "[1.7GB(+0.0GB): 45.100sec] fit X\n"
     ]
    },
    {
     "name": "stdout",
     "output_type": "stream",
     "text": [
      "Training until validation scores don't improve for 200 rounds\n",
      "[200]\ttraining's rmse: 2.1476\tvalid_1's rmse: 3.56134\n",
      "[400]\ttraining's rmse: 1.5674\tvalid_1's rmse: 3.29624\n",
      "[600]\ttraining's rmse: 1.28868\tvalid_1's rmse: 3.21772\n",
      "[800]\ttraining's rmse: 1.11213\tvalid_1's rmse: 3.17441\n",
      "[1000]\ttraining's rmse: 0.986502\tvalid_1's rmse: 3.14274\n",
      "[1200]\ttraining's rmse: 0.895007\tvalid_1's rmse: 3.13153\n",
      "[1400]\ttraining's rmse: 0.823238\tvalid_1's rmse: 3.12161\n",
      "[1600]\ttraining's rmse: 0.766223\tvalid_1's rmse: 3.11617\n",
      "[1800]\ttraining's rmse: 0.720948\tvalid_1's rmse: 3.11281\n",
      "[2000]\ttraining's rmse: 0.681904\tvalid_1's rmse: 3.10777\n",
      "[2200]\ttraining's rmse: 0.647231\tvalid_1's rmse: 3.10559\n",
      "[2400]\ttraining's rmse: 0.618619\tvalid_1's rmse: 3.10303\n",
      "[2600]\ttraining's rmse: 0.592455\tvalid_1's rmse: 3.10194\n",
      "[2800]\ttraining's rmse: 0.569845\tvalid_1's rmse: 3.10193\n",
      "Early stopping, best iteration is:\n",
      "[2718]\ttraining's rmse: 0.578594\tvalid_1's rmse: 3.1006\n"
     ]
    },
    {
     "name": "stderr",
     "output_type": "stream",
     "text": [
      "[1.7GB(+0.0GB): 37.340sec] fit Y\n"
     ]
    },
    {
     "name": "stdout",
     "output_type": "stream",
     "text": [
      "Training until validation scores don't improve for 20 rounds\n",
      "[200]\ttraining's multi_logloss: 0.0303882\tvalid_1's multi_logloss: 0.0313325\n",
      "[400]\ttraining's multi_logloss: 0.0300937\tvalid_1's multi_logloss: 0.031055\n",
      "Early stopping, best iteration is:\n",
      "[464]\ttraining's multi_logloss: 0.0300384\tvalid_1's multi_logloss: 0.0309977\n"
     ]
    },
    {
     "name": "stderr",
     "output_type": "stream",
     "text": [
      "[1.7GB(+0.0GB): 9.296sec] fit F\n"
     ]
    },
    {
     "name": "stdout",
     "output_type": "stream",
     "text": [
      "pos_loss = 3.286624935700285, floor_loss = 0.0\n",
      "fold 3: mean position error 3.286624935700285\n"
     ]
    },
    {
     "name": "stderr",
     "output_type": "stream",
     "text": [
      "[1.7GB(+0.0GB): 26.641sec] fit X\n"
     ]
    },
    {
     "name": "stdout",
     "output_type": "stream",
     "text": [
      "Training until validation scores don't improve for 200 rounds\n",
      "[200]\ttraining's rmse: 2.21858\tvalid_1's rmse: 3.42023\n",
      "[400]\ttraining's rmse: 1.6038\tvalid_1's rmse: 3.15014\n",
      "[600]\ttraining's rmse: 1.31553\tvalid_1's rmse: 3.06192\n",
      "[800]\ttraining's rmse: 1.13275\tvalid_1's rmse: 3.02031\n",
      "[1000]\ttraining's rmse: 1.00171\tvalid_1's rmse: 2.99839\n",
      "[1200]\ttraining's rmse: 0.905974\tvalid_1's rmse: 2.98838\n",
      "[1400]\ttraining's rmse: 0.832738\tvalid_1's rmse: 2.98151\n",
      "[1600]\ttraining's rmse: 0.774148\tvalid_1's rmse: 2.97752\n",
      "[1800]\ttraining's rmse: 0.725524\tvalid_1's rmse: 2.97304\n",
      "[2000]\ttraining's rmse: 0.685182\tvalid_1's rmse: 2.96958\n",
      "[2200]\ttraining's rmse: 0.650797\tvalid_1's rmse: 2.96846\n",
      "[2400]\ttraining's rmse: 0.621252\tvalid_1's rmse: 2.9671\n",
      "Early stopping, best iteration is:\n",
      "[2333]\ttraining's rmse: 0.630711\tvalid_1's rmse: 2.96574\n"
     ]
    },
    {
     "name": "stderr",
     "output_type": "stream",
     "text": [
      "[1.7GB(+0.0GB): 32.971sec] fit Y\n"
     ]
    },
    {
     "name": "stdout",
     "output_type": "stream",
     "text": [
      "Training until validation scores don't improve for 20 rounds\n",
      "[200]\ttraining's multi_logloss: 0.0304248\tvalid_1's multi_logloss: 0.0317595\n",
      "[400]\ttraining's multi_logloss: 0.0300821\tvalid_1's multi_logloss: 0.0314168\n",
      "[600]\ttraining's multi_logloss: 0.0299484\tvalid_1's multi_logloss: 0.0312769\n",
      "Early stopping, best iteration is:\n",
      "[660]\ttraining's multi_logloss: 0.0298722\tvalid_1's multi_logloss: 0.0311996\n",
      "pos_loss = 3.2358680855114725, floor_loss = 0.0\n",
      "fold 4: mean position error 3.2358680855114725\n"
     ]
    },
    {
     "name": "stderr",
     "output_type": "stream",
     "text": [
      "[1.7GB(+0.0GB): 12.868sec] fit F\n"
     ]
    },
    {
     "name": "stdout",
     "output_type": "stream",
     "text": [
      "*+*+*+*+*+*+*+*+*+*+*+*+*+*+*+*+*+*+*+*+*+*+*+*+*+*+*+*+*+*+*+*+*+*+*+*+*+*+*+*+\n",
      "file #18, shape=(9420, 1892), name=5da138764db8ce0c98bcaa46_train.csv\n",
      "pos_loss = 3.2614939804465015, floor_loss = 0.0\n",
      "mean position error 3.2614939804465015\n",
      "*+*+*+*+*+*+*+*+*+*+*+*+*+*+*+*+*+*+*+*+*+*+*+*+*+*+*+*+*+*+*+*+*+*+*+*+*+*+*+*+\n"
     ]
    },
    {
     "name": "stderr",
     "output_type": "stream",
     "text": [
      "[1.7GB(+0.0GB): 10.240sec] fit X\n"
     ]
    },
    {
     "name": "stdout",
     "output_type": "stream",
     "text": [
      "Training until validation scores don't improve for 200 rounds\n",
      "[200]\ttraining's rmse: 1.98106\tvalid_1's rmse: 3.42492\n",
      "[400]\ttraining's rmse: 1.45968\tvalid_1's rmse: 3.1559\n",
      "[600]\ttraining's rmse: 1.22572\tvalid_1's rmse: 3.04602\n",
      "[800]\ttraining's rmse: 1.08423\tvalid_1's rmse: 2.98252\n",
      "[1000]\ttraining's rmse: 0.984253\tvalid_1's rmse: 2.93656\n",
      "[1200]\ttraining's rmse: 0.910272\tvalid_1's rmse: 2.89889\n",
      "[1400]\ttraining's rmse: 0.8497\tvalid_1's rmse: 2.86656\n",
      "[1600]\ttraining's rmse: 0.799413\tvalid_1's rmse: 2.84393\n",
      "[1800]\ttraining's rmse: 0.758943\tvalid_1's rmse: 2.82263\n",
      "[2000]\ttraining's rmse: 0.72534\tvalid_1's rmse: 2.81046\n",
      "[2200]\ttraining's rmse: 0.696381\tvalid_1's rmse: 2.79435\n",
      "[2400]\ttraining's rmse: 0.667831\tvalid_1's rmse: 2.78273\n",
      "[2600]\ttraining's rmse: 0.644524\tvalid_1's rmse: 2.77618\n",
      "[2800]\ttraining's rmse: 0.6241\tvalid_1's rmse: 2.76234\n",
      "[3000]\ttraining's rmse: 0.605151\tvalid_1's rmse: 2.75296\n",
      "[3200]\ttraining's rmse: 0.587004\tvalid_1's rmse: 2.7451\n",
      "[3400]\ttraining's rmse: 0.571954\tvalid_1's rmse: 2.73979\n",
      "[3600]\ttraining's rmse: 0.558355\tvalid_1's rmse: 2.73545\n",
      "[3800]\ttraining's rmse: 0.545168\tvalid_1's rmse: 2.72779\n",
      "[4000]\ttraining's rmse: 0.532854\tvalid_1's rmse: 2.72179\n",
      "[4200]\ttraining's rmse: 0.52134\tvalid_1's rmse: 2.71793\n",
      "[4400]\ttraining's rmse: 0.511705\tvalid_1's rmse: 2.71285\n",
      "[4600]\ttraining's rmse: 0.501837\tvalid_1's rmse: 2.70882\n",
      "[4800]\ttraining's rmse: 0.492611\tvalid_1's rmse: 2.704\n",
      "[5000]\ttraining's rmse: 0.483716\tvalid_1's rmse: 2.70284\n",
      "[5200]\ttraining's rmse: 0.475332\tvalid_1's rmse: 2.69784\n",
      "[5400]\ttraining's rmse: 0.467883\tvalid_1's rmse: 2.69473\n",
      "[5600]\ttraining's rmse: 0.460343\tvalid_1's rmse: 2.68892\n",
      "[5800]\ttraining's rmse: 0.452982\tvalid_1's rmse: 2.68744\n",
      "[6000]\ttraining's rmse: 0.446079\tvalid_1's rmse: 2.68568\n",
      "[6200]\ttraining's rmse: 0.439668\tvalid_1's rmse: 2.68335\n",
      "[6400]\ttraining's rmse: 0.433813\tvalid_1's rmse: 2.68178\n",
      "[6600]\ttraining's rmse: 0.427725\tvalid_1's rmse: 2.68068\n",
      "Early stopping, best iteration is:\n",
      "[6518]\ttraining's rmse: 0.430075\tvalid_1's rmse: 2.67991\n"
     ]
    },
    {
     "name": "stderr",
     "output_type": "stream",
     "text": [
      "[1.7GB(+0.0GB): 22.774sec] fit Y\n"
     ]
    },
    {
     "name": "stdout",
     "output_type": "stream",
     "text": [
      "Training until validation scores don't improve for 20 rounds\n",
      "[200]\ttraining's multi_logloss: 0.0578644\tvalid_1's multi_logloss: 0.0650667\n",
      "[400]\ttraining's multi_logloss: 0.0556018\tvalid_1's multi_logloss: 0.0626018\n",
      "[600]\ttraining's multi_logloss: 0.0541469\tvalid_1's multi_logloss: 0.0610352\n",
      "Early stopping, best iteration is:\n",
      "[750]\ttraining's multi_logloss: 0.0538003\tvalid_1's multi_logloss: 0.0606428\n",
      "pos_loss = 3.1646097847597274, floor_loss = 0.07125890736342043\n",
      "fold 0: mean position error 3.2358686921231476\n"
     ]
    },
    {
     "name": "stderr",
     "output_type": "stream",
     "text": [
      "[1.7GB(+0.0GB): 4.059sec] fit F\n",
      "[1.7GB(+0.0GB): 15.132sec] fit X\n"
     ]
    },
    {
     "name": "stdout",
     "output_type": "stream",
     "text": [
      "Training until validation scores don't improve for 200 rounds\n",
      "[200]\ttraining's rmse: 2.04451\tvalid_1's rmse: 3.0017\n",
      "[400]\ttraining's rmse: 1.46027\tvalid_1's rmse: 2.74646\n",
      "[600]\ttraining's rmse: 1.20752\tvalid_1's rmse: 2.67448\n",
      "[800]\ttraining's rmse: 1.05383\tvalid_1's rmse: 2.64047\n",
      "[1000]\ttraining's rmse: 0.951321\tvalid_1's rmse: 2.62159\n",
      "[1200]\ttraining's rmse: 0.870932\tvalid_1's rmse: 2.60971\n",
      "[1400]\ttraining's rmse: 0.810235\tvalid_1's rmse: 2.60308\n",
      "[1600]\ttraining's rmse: 0.763805\tvalid_1's rmse: 2.59859\n",
      "[1800]\ttraining's rmse: 0.722481\tvalid_1's rmse: 2.59751\n",
      "[2000]\ttraining's rmse: 0.686812\tvalid_1's rmse: 2.59334\n",
      "[2200]\ttraining's rmse: 0.656935\tvalid_1's rmse: 2.58869\n",
      "[2400]\ttraining's rmse: 0.631763\tvalid_1's rmse: 2.58604\n",
      "[2600]\ttraining's rmse: 0.609051\tvalid_1's rmse: 2.5826\n",
      "Early stopping, best iteration is:\n",
      "[2595]\ttraining's rmse: 0.609375\tvalid_1's rmse: 2.58213\n"
     ]
    },
    {
     "name": "stderr",
     "output_type": "stream",
     "text": [
      "[1.7GB(+0.0GB): 10.402sec] fit Y\n"
     ]
    },
    {
     "name": "stdout",
     "output_type": "stream",
     "text": [
      "Training until validation scores don't improve for 20 rounds\n",
      "[200]\ttraining's multi_logloss: 0.0573703\tvalid_1's multi_logloss: 0.0702731\n",
      "[400]\ttraining's multi_logloss: 0.0551808\tvalid_1's multi_logloss: 0.0679454\n",
      "[600]\ttraining's multi_logloss: 0.0539458\tvalid_1's multi_logloss: 0.0666172\n",
      "[800]\ttraining's multi_logloss: 0.0531783\tvalid_1's multi_logloss: 0.0657848\n",
      "Early stopping, best iteration is:\n",
      "[902]\ttraining's multi_logloss: 0.0528806\tvalid_1's multi_logloss: 0.0653864\n",
      "pos_loss = 3.306319591956137, floor_loss = 0.1306413301662708\n",
      "fold 1: mean position error 3.436960922122408\n"
     ]
    },
    {
     "name": "stderr",
     "output_type": "stream",
     "text": [
      "[1.7GB(+0.0GB): 4.992sec] fit F\n",
      "[1.7GB(+0.0GB): 16.644sec] fit X\n"
     ]
    },
    {
     "name": "stdout",
     "output_type": "stream",
     "text": [
      "Training until validation scores don't improve for 200 rounds\n",
      "[200]\ttraining's rmse: 2.03448\tvalid_1's rmse: 3.39364\n",
      "[400]\ttraining's rmse: 1.47441\tvalid_1's rmse: 3.1616\n",
      "[600]\ttraining's rmse: 1.21894\tvalid_1's rmse: 3.08863\n",
      "[800]\ttraining's rmse: 1.06721\tvalid_1's rmse: 3.0483\n",
      "[1000]\ttraining's rmse: 0.964593\tvalid_1's rmse: 3.02109\n",
      "[1200]\ttraining's rmse: 0.887009\tvalid_1's rmse: 3.00748\n",
      "[1400]\ttraining's rmse: 0.824151\tvalid_1's rmse: 2.99469\n",
      "[1600]\ttraining's rmse: 0.775263\tvalid_1's rmse: 2.98679\n",
      "[1800]\ttraining's rmse: 0.733839\tvalid_1's rmse: 2.98111\n",
      "[2000]\ttraining's rmse: 0.700463\tvalid_1's rmse: 2.97422\n",
      "[2200]\ttraining's rmse: 0.670923\tvalid_1's rmse: 2.96826\n",
      "[2400]\ttraining's rmse: 0.645634\tvalid_1's rmse: 2.9642\n",
      "[2600]\ttraining's rmse: 0.622379\tvalid_1's rmse: 2.96071\n",
      "[2800]\ttraining's rmse: 0.601539\tvalid_1's rmse: 2.95965\n",
      "[3000]\ttraining's rmse: 0.583963\tvalid_1's rmse: 2.95611\n",
      "[3200]\ttraining's rmse: 0.566868\tvalid_1's rmse: 2.9541\n",
      "[3400]\ttraining's rmse: 0.552419\tvalid_1's rmse: 2.95305\n",
      "[3600]\ttraining's rmse: 0.539545\tvalid_1's rmse: 2.95293\n",
      "[3800]\ttraining's rmse: 0.527234\tvalid_1's rmse: 2.95002\n",
      "[4000]\ttraining's rmse: 0.5153\tvalid_1's rmse: 2.94783\n",
      "[4200]\ttraining's rmse: 0.50436\tvalid_1's rmse: 2.94586\n",
      "[4400]\ttraining's rmse: 0.494588\tvalid_1's rmse: 2.94437\n",
      "[4600]\ttraining's rmse: 0.485315\tvalid_1's rmse: 2.9438\n",
      "[4800]\ttraining's rmse: 0.475952\tvalid_1's rmse: 2.94153\n",
      "[5000]\ttraining's rmse: 0.467968\tvalid_1's rmse: 2.93989\n",
      "[5200]\ttraining's rmse: 0.4608\tvalid_1's rmse: 2.93982\n",
      "[5400]\ttraining's rmse: 0.453348\tvalid_1's rmse: 2.93843\n",
      "[5600]\ttraining's rmse: 0.445928\tvalid_1's rmse: 2.93858\n",
      "Early stopping, best iteration is:\n",
      "[5478]\ttraining's rmse: 0.450405\tvalid_1's rmse: 2.9374\n"
     ]
    },
    {
     "name": "stderr",
     "output_type": "stream",
     "text": [
      "[1.7GB(+0.0GB): 19.400sec] fit Y\n"
     ]
    },
    {
     "name": "stdout",
     "output_type": "stream",
     "text": [
      "Training until validation scores don't improve for 20 rounds\n",
      "[200]\ttraining's multi_logloss: 0.0579374\tvalid_1's multi_logloss: 0.057712\n",
      "[400]\ttraining's multi_logloss: 0.0562864\tvalid_1's multi_logloss: 0.0560787\n",
      "[600]\ttraining's multi_logloss: 0.0547041\tvalid_1's multi_logloss: 0.0545526\n",
      "[800]\ttraining's multi_logloss: 0.0538367\tvalid_1's multi_logloss: 0.0537014\n",
      "Early stopping, best iteration is:\n",
      "[785]\ttraining's multi_logloss: 0.0538367\tvalid_1's multi_logloss: 0.0537014\n",
      "pos_loss = 3.2549030857835155, floor_loss = 0.02377179080824089\n",
      "fold 2: mean position error 3.2786748765917566\n"
     ]
    },
    {
     "name": "stderr",
     "output_type": "stream",
     "text": [
      "[1.7GB(+0.0GB): 4.382sec] fit F\n",
      "[1.7GB(+0.0GB): 10.910sec] fit X\n"
     ]
    },
    {
     "name": "stdout",
     "output_type": "stream",
     "text": [
      "Training until validation scores don't improve for 200 rounds\n",
      "[200]\ttraining's rmse: 2.05464\tvalid_1's rmse: 3.50957\n",
      "[400]\ttraining's rmse: 1.49625\tvalid_1's rmse: 3.17971\n",
      "[600]\ttraining's rmse: 1.24448\tvalid_1's rmse: 3.07106\n",
      "[800]\ttraining's rmse: 1.09273\tvalid_1's rmse: 3.00769\n",
      "[1000]\ttraining's rmse: 0.98896\tvalid_1's rmse: 2.96959\n",
      "[1200]\ttraining's rmse: 0.908591\tvalid_1's rmse: 2.94541\n",
      "[1400]\ttraining's rmse: 0.846199\tvalid_1's rmse: 2.92578\n",
      "[1600]\ttraining's rmse: 0.792064\tvalid_1's rmse: 2.91\n",
      "[1800]\ttraining's rmse: 0.747818\tvalid_1's rmse: 2.89512\n",
      "[2000]\ttraining's rmse: 0.709145\tvalid_1's rmse: 2.88499\n",
      "[2200]\ttraining's rmse: 0.677447\tvalid_1's rmse: 2.88254\n",
      "[2400]\ttraining's rmse: 0.651504\tvalid_1's rmse: 2.87747\n",
      "[2600]\ttraining's rmse: 0.628119\tvalid_1's rmse: 2.87545\n",
      "[2800]\ttraining's rmse: 0.605418\tvalid_1's rmse: 2.87417\n",
      "[3000]\ttraining's rmse: 0.587721\tvalid_1's rmse: 2.87214\n",
      "[3200]\ttraining's rmse: 0.57122\tvalid_1's rmse: 2.8691\n",
      "[3400]\ttraining's rmse: 0.556149\tvalid_1's rmse: 2.86665\n",
      "[3600]\ttraining's rmse: 0.542001\tvalid_1's rmse: 2.86375\n",
      "[3800]\ttraining's rmse: 0.528702\tvalid_1's rmse: 2.86289\n",
      "Early stopping, best iteration is:\n",
      "[3716]\ttraining's rmse: 0.534208\tvalid_1's rmse: 2.8617\n"
     ]
    },
    {
     "name": "stderr",
     "output_type": "stream",
     "text": [
      "[1.7GB(+0.0GB): 13.959sec] fit Y\n"
     ]
    },
    {
     "name": "stdout",
     "output_type": "stream",
     "text": [
      "Training until validation scores don't improve for 20 rounds\n",
      "[200]\ttraining's multi_logloss: 0.0568718\tvalid_1's multi_logloss: 0.0729503\n",
      "Early stopping, best iteration is:\n",
      "[246]\ttraining's multi_logloss: 0.0560531\tvalid_1's multi_logloss: 0.072111\n",
      "pos_loss = 3.3293801447503553, floor_loss = 0.0832012678288431\n",
      "fold 3: mean position error 3.4125814125791982\n"
     ]
    },
    {
     "name": "stderr",
     "output_type": "stream",
     "text": [
      "[1.7GB(+0.0GB): 1.453sec] fit F\n",
      "[1.7GB(+0.0GB): 25.235sec] fit X\n"
     ]
    },
    {
     "name": "stdout",
     "output_type": "stream",
     "text": [
      "Training until validation scores don't improve for 200 rounds\n",
      "[200]\ttraining's rmse: 1.93966\tvalid_1's rmse: 3.36115\n",
      "[400]\ttraining's rmse: 1.38141\tvalid_1's rmse: 3.12594\n",
      "[600]\ttraining's rmse: 1.14323\tvalid_1's rmse: 3.04472\n",
      "[800]\ttraining's rmse: 0.998866\tvalid_1's rmse: 3.00946\n",
      "[1000]\ttraining's rmse: 0.897288\tvalid_1's rmse: 2.9844\n",
      "[1200]\ttraining's rmse: 0.82757\tvalid_1's rmse: 2.96547\n",
      "[1400]\ttraining's rmse: 0.772625\tvalid_1's rmse: 2.94834\n",
      "[1600]\ttraining's rmse: 0.729109\tvalid_1's rmse: 2.93899\n",
      "[1800]\ttraining's rmse: 0.692082\tvalid_1's rmse: 2.93306\n",
      "[2000]\ttraining's rmse: 0.660169\tvalid_1's rmse: 2.92325\n",
      "[2200]\ttraining's rmse: 0.633619\tvalid_1's rmse: 2.91819\n",
      "[2400]\ttraining's rmse: 0.610473\tvalid_1's rmse: 2.91319\n",
      "[2600]\ttraining's rmse: 0.589563\tvalid_1's rmse: 2.90635\n",
      "[2800]\ttraining's rmse: 0.572115\tvalid_1's rmse: 2.90217\n",
      "[3000]\ttraining's rmse: 0.556249\tvalid_1's rmse: 2.89952\n",
      "[3200]\ttraining's rmse: 0.541346\tvalid_1's rmse: 2.89453\n",
      "[3400]\ttraining's rmse: 0.528189\tvalid_1's rmse: 2.89105\n",
      "[3600]\ttraining's rmse: 0.51512\tvalid_1's rmse: 2.89005\n",
      "[3800]\ttraining's rmse: 0.503561\tvalid_1's rmse: 2.88909\n",
      "[4000]\ttraining's rmse: 0.492355\tvalid_1's rmse: 2.88712\n",
      "[4200]\ttraining's rmse: 0.48223\tvalid_1's rmse: 2.8829\n",
      "[4400]\ttraining's rmse: 0.473198\tvalid_1's rmse: 2.88167\n",
      "[4600]\ttraining's rmse: 0.464409\tvalid_1's rmse: 2.87995\n",
      "[4800]\ttraining's rmse: 0.456319\tvalid_1's rmse: 2.87871\n",
      "[5000]\ttraining's rmse: 0.4482\tvalid_1's rmse: 2.87557\n",
      "[5200]\ttraining's rmse: 0.440824\tvalid_1's rmse: 2.87538\n",
      "[5400]\ttraining's rmse: 0.433971\tvalid_1's rmse: 2.87313\n",
      "[5600]\ttraining's rmse: 0.427303\tvalid_1's rmse: 2.87314\n",
      "Early stopping, best iteration is:\n",
      "[5441]\ttraining's rmse: 0.432669\tvalid_1's rmse: 2.87228\n"
     ]
    },
    {
     "name": "stderr",
     "output_type": "stream",
     "text": [
      "[1.7GB(+0.0GB): 19.509sec] fit Y\n"
     ]
    },
    {
     "name": "stdout",
     "output_type": "stream",
     "text": [
      "Training until validation scores don't improve for 20 rounds\n",
      "[200]\ttraining's multi_logloss: 0.0581179\tvalid_1's multi_logloss: 0.0621722\n",
      "[400]\ttraining's multi_logloss: 0.0560246\tvalid_1's multi_logloss: 0.0600979\n",
      "Early stopping, best iteration is:\n",
      "[496]\ttraining's multi_logloss: 0.0555088\tvalid_1's multi_logloss: 0.0594825\n"
     ]
    },
    {
     "name": "stderr",
     "output_type": "stream",
     "text": [
      "[1.7GB(+0.0GB): 2.755sec] fit F\n"
     ]
    },
    {
     "name": "stdout",
     "output_type": "stream",
     "text": [
      "pos_loss = 3.27401671720258, floor_loss = 0.02377179080824089\n",
      "fold 4: mean position error 3.297788508010821\n",
      "*+*+*+*+*+*+*+*+*+*+*+*+*+*+*+*+*+*+*+*+*+*+*+*+*+*+*+*+*+*+*+*+*+*+*+*+*+*+*+*+\n",
      "file #19, shape=(6312, 1025), name=5da1389e4db8ce0c98bd0547_train.csv\n",
      "pos_loss = 3.2658362384086717, floor_loss = 0.06653992395437262\n",
      "mean position error 3.3323761623630443\n",
      "*+*+*+*+*+*+*+*+*+*+*+*+*+*+*+*+*+*+*+*+*+*+*+*+*+*+*+*+*+*+*+*+*+*+*+*+*+*+*+*+\n"
     ]
    },
    {
     "name": "stderr",
     "output_type": "stream",
     "text": [
      "[2.5GB(-0.1GB): 65.272sec] fit X\n"
     ]
    },
    {
     "name": "stdout",
     "output_type": "stream",
     "text": [
      "Training until validation scores don't improve for 200 rounds\n",
      "[200]\ttraining's rmse: 3.34629\tvalid_1's rmse: 4.51321\n",
      "[400]\ttraining's rmse: 2.444\tvalid_1's rmse: 3.93854\n",
      "[600]\ttraining's rmse: 2.01641\tvalid_1's rmse: 3.73238\n",
      "[800]\ttraining's rmse: 1.74762\tvalid_1's rmse: 3.62696\n",
      "[1000]\ttraining's rmse: 1.55729\tvalid_1's rmse: 3.56441\n",
      "[1200]\ttraining's rmse: 1.40843\tvalid_1's rmse: 3.52468\n",
      "[1400]\ttraining's rmse: 1.29075\tvalid_1's rmse: 3.49844\n",
      "[1600]\ttraining's rmse: 1.19384\tvalid_1's rmse: 3.48108\n",
      "[1800]\ttraining's rmse: 1.11329\tvalid_1's rmse: 3.46588\n",
      "[2000]\ttraining's rmse: 1.0439\tvalid_1's rmse: 3.45425\n",
      "[2200]\ttraining's rmse: 0.983305\tvalid_1's rmse: 3.44835\n",
      "[2400]\ttraining's rmse: 0.930833\tvalid_1's rmse: 3.44044\n",
      "[2600]\ttraining's rmse: 0.883836\tvalid_1's rmse: 3.43538\n",
      "[2800]\ttraining's rmse: 0.842362\tvalid_1's rmse: 3.43062\n",
      "[3000]\ttraining's rmse: 0.805829\tvalid_1's rmse: 3.42913\n",
      "[3200]\ttraining's rmse: 0.772883\tvalid_1's rmse: 3.42374\n",
      "[3400]\ttraining's rmse: 0.743432\tvalid_1's rmse: 3.42055\n",
      "[3600]\ttraining's rmse: 0.717032\tvalid_1's rmse: 3.4194\n",
      "[3800]\ttraining's rmse: 0.692402\tvalid_1's rmse: 3.41841\n",
      "Early stopping, best iteration is:\n",
      "[3775]\ttraining's rmse: 0.695366\tvalid_1's rmse: 3.4175\n"
     ]
    },
    {
     "name": "stderr",
     "output_type": "stream",
     "text": [
      "[2.5GB(+0.0GB): 59.937sec] fit Y\n"
     ]
    },
    {
     "name": "stdout",
     "output_type": "stream",
     "text": [
      "Training until validation scores don't improve for 20 rounds\n",
      "[200]\ttraining's multi_logloss: 0.0325971\tvalid_1's multi_logloss: 0.0345488\n",
      "[400]\ttraining's multi_logloss: 0.0314966\tvalid_1's multi_logloss: 0.0334006\n",
      "[600]\ttraining's multi_logloss: 0.0311751\tvalid_1's multi_logloss: 0.0330612\n",
      "Early stopping, best iteration is:\n",
      "[708]\ttraining's multi_logloss: 0.0308998\tvalid_1's multi_logloss: 0.032757\n"
     ]
    },
    {
     "name": "stderr",
     "output_type": "stream",
     "text": [
      "[2.5GB(-0.0GB): 24.855sec] fit F\n"
     ]
    },
    {
     "name": "stdout",
     "output_type": "stream",
     "text": [
      "pos_loss = 3.6954551485458786, floor_loss = 0.030198446937014668\n",
      "fold 0: mean position error 3.725653595482893\n"
     ]
    },
    {
     "name": "stderr",
     "output_type": "stream",
     "text": [
      "[2.5GB(-0.0GB): 51.983sec] fit X\n"
     ]
    },
    {
     "name": "stdout",
     "output_type": "stream",
     "text": [
      "Training until validation scores don't improve for 200 rounds\n",
      "[200]\ttraining's rmse: 3.25969\tvalid_1's rmse: 4.46775\n",
      "[400]\ttraining's rmse: 2.37363\tvalid_1's rmse: 3.96041\n",
      "[600]\ttraining's rmse: 1.95133\tvalid_1's rmse: 3.78419\n",
      "[800]\ttraining's rmse: 1.6876\tvalid_1's rmse: 3.6951\n",
      "[1000]\ttraining's rmse: 1.49956\tvalid_1's rmse: 3.64349\n",
      "[1200]\ttraining's rmse: 1.35632\tvalid_1's rmse: 3.61377\n",
      "[1400]\ttraining's rmse: 1.24294\tvalid_1's rmse: 3.58967\n",
      "[1600]\ttraining's rmse: 1.15002\tvalid_1's rmse: 3.57686\n",
      "[1800]\ttraining's rmse: 1.07196\tvalid_1's rmse: 3.5648\n",
      "[2000]\ttraining's rmse: 1.00651\tvalid_1's rmse: 3.56002\n",
      "[2200]\ttraining's rmse: 0.950625\tvalid_1's rmse: 3.55284\n",
      "[2400]\ttraining's rmse: 0.901267\tvalid_1's rmse: 3.54756\n",
      "[2600]\ttraining's rmse: 0.858418\tvalid_1's rmse: 3.54101\n",
      "[2800]\ttraining's rmse: 0.819679\tvalid_1's rmse: 3.53668\n",
      "[3000]\ttraining's rmse: 0.785826\tvalid_1's rmse: 3.53355\n",
      "[3200]\ttraining's rmse: 0.755355\tvalid_1's rmse: 3.53127\n",
      "[3400]\ttraining's rmse: 0.727879\tvalid_1's rmse: 3.5282\n",
      "[3600]\ttraining's rmse: 0.703182\tvalid_1's rmse: 3.5258\n",
      "[3800]\ttraining's rmse: 0.680815\tvalid_1's rmse: 3.52451\n",
      "[4000]\ttraining's rmse: 0.659287\tvalid_1's rmse: 3.5226\n",
      "[4200]\ttraining's rmse: 0.640177\tvalid_1's rmse: 3.52154\n",
      "[4400]\ttraining's rmse: 0.621952\tvalid_1's rmse: 3.52237\n",
      "Early stopping, best iteration is:\n",
      "[4231]\ttraining's rmse: 0.637229\tvalid_1's rmse: 3.52056\n"
     ]
    },
    {
     "name": "stderr",
     "output_type": "stream",
     "text": [
      "[2.5GB(+0.0GB): 67.417sec] fit Y\n"
     ]
    },
    {
     "name": "stdout",
     "output_type": "stream",
     "text": [
      "Training until validation scores don't improve for 20 rounds\n",
      "[200]\ttraining's multi_logloss: 0.0324248\tvalid_1's multi_logloss: 0.0352392\n",
      "[400]\ttraining's multi_logloss: 0.0316151\tvalid_1's multi_logloss: 0.0343513\n",
      "[600]\ttraining's multi_logloss: 0.0313423\tvalid_1's multi_logloss: 0.0340231\n",
      "[800]\ttraining's multi_logloss: 0.0312088\tvalid_1's multi_logloss: 0.0338811\n",
      "[1000]\ttraining's multi_logloss: 0.0310174\tvalid_1's multi_logloss: 0.0336472\n",
      "Early stopping, best iteration is:\n",
      "[1145]\ttraining's multi_logloss: 0.0308501\tvalid_1's multi_logloss: 0.0334832\n"
     ]
    },
    {
     "name": "stderr",
     "output_type": "stream",
     "text": [
      "[2.5GB(+0.0GB): 38.158sec] fit F\n"
     ]
    },
    {
     "name": "stdout",
     "output_type": "stream",
     "text": [
      "pos_loss = 3.743798907579618, floor_loss = 0.008628127696289905\n",
      "fold 1: mean position error 3.752427035275908\n"
     ]
    },
    {
     "name": "stderr",
     "output_type": "stream",
     "text": [
      "[2.5GB(+0.0GB): 65.030sec] fit X\n"
     ]
    },
    {
     "name": "stdout",
     "output_type": "stream",
     "text": [
      "Training until validation scores don't improve for 200 rounds\n",
      "[200]\ttraining's rmse: 3.29433\tvalid_1's rmse: 4.70086\n",
      "[400]\ttraining's rmse: 2.41051\tvalid_1's rmse: 4.15584\n",
      "[600]\ttraining's rmse: 1.9833\tvalid_1's rmse: 3.95503\n",
      "[800]\ttraining's rmse: 1.71402\tvalid_1's rmse: 3.84332\n",
      "[1000]\ttraining's rmse: 1.52043\tvalid_1's rmse: 3.77646\n",
      "[1200]\ttraining's rmse: 1.37937\tvalid_1's rmse: 3.73579\n",
      "[1400]\ttraining's rmse: 1.2679\tvalid_1's rmse: 3.7049\n",
      "[1600]\ttraining's rmse: 1.17434\tvalid_1's rmse: 3.68762\n",
      "[1800]\ttraining's rmse: 1.09756\tvalid_1's rmse: 3.67245\n",
      "[2000]\ttraining's rmse: 1.03234\tvalid_1's rmse: 3.66132\n",
      "[2200]\ttraining's rmse: 0.975912\tvalid_1's rmse: 3.65261\n",
      "[2400]\ttraining's rmse: 0.925331\tvalid_1's rmse: 3.64383\n",
      "[2600]\ttraining's rmse: 0.880651\tvalid_1's rmse: 3.63671\n",
      "[2800]\ttraining's rmse: 0.842075\tvalid_1's rmse: 3.63426\n",
      "[3000]\ttraining's rmse: 0.80712\tvalid_1's rmse: 3.6279\n",
      "[3200]\ttraining's rmse: 0.776376\tvalid_1's rmse: 3.62482\n",
      "[3400]\ttraining's rmse: 0.748098\tvalid_1's rmse: 3.62295\n",
      "[3600]\ttraining's rmse: 0.722787\tvalid_1's rmse: 3.61996\n",
      "[3800]\ttraining's rmse: 0.699145\tvalid_1's rmse: 3.61759\n",
      "[4000]\ttraining's rmse: 0.677703\tvalid_1's rmse: 3.61598\n",
      "[4200]\ttraining's rmse: 0.658635\tvalid_1's rmse: 3.61375\n",
      "[4400]\ttraining's rmse: 0.640621\tvalid_1's rmse: 3.61374\n",
      "Early stopping, best iteration is:\n",
      "[4268]\ttraining's rmse: 0.652266\tvalid_1's rmse: 3.61343\n"
     ]
    },
    {
     "name": "stderr",
     "output_type": "stream",
     "text": [
      "[2.5GB(-0.0GB): 68.403sec] fit Y\n"
     ]
    },
    {
     "name": "stdout",
     "output_type": "stream",
     "text": [
      "Training until validation scores don't improve for 20 rounds\n",
      "[200]\ttraining's multi_logloss: 0.0324871\tvalid_1's multi_logloss: 0.0353601\n",
      "[400]\ttraining's multi_logloss: 0.0311737\tvalid_1's multi_logloss: 0.0339683\n",
      "Early stopping, best iteration is:\n",
      "[473]\ttraining's multi_logloss: 0.0310625\tvalid_1's multi_logloss: 0.0338554\n"
     ]
    },
    {
     "name": "stderr",
     "output_type": "stream",
     "text": [
      "[2.5GB(+0.0GB): 17.539sec] fit F\n"
     ]
    },
    {
     "name": "stdout",
     "output_type": "stream",
     "text": [
      "pos_loss = 3.74310262625991, floor_loss = 0.012945914844649022\n",
      "fold 2: mean position error 3.756048541104559\n"
     ]
    },
    {
     "name": "stderr",
     "output_type": "stream",
     "text": [
      "[2.5GB(+0.0GB): 68.824sec] fit X\n"
     ]
    },
    {
     "name": "stdout",
     "output_type": "stream",
     "text": [
      "Training until validation scores don't improve for 200 rounds\n",
      "[200]\ttraining's rmse: 3.28906\tvalid_1's rmse: 4.65126\n",
      "[400]\ttraining's rmse: 2.39235\tvalid_1's rmse: 4.11385\n",
      "[600]\ttraining's rmse: 1.9651\tvalid_1's rmse: 3.92482\n",
      "[800]\ttraining's rmse: 1.69632\tvalid_1's rmse: 3.82722\n",
      "[1000]\ttraining's rmse: 1.50322\tvalid_1's rmse: 3.76229\n",
      "[1200]\ttraining's rmse: 1.35595\tvalid_1's rmse: 3.71969\n",
      "[1400]\ttraining's rmse: 1.24131\tvalid_1's rmse: 3.6888\n",
      "[1600]\ttraining's rmse: 1.1482\tvalid_1's rmse: 3.66804\n",
      "[1800]\ttraining's rmse: 1.0705\tvalid_1's rmse: 3.64879\n",
      "[2000]\ttraining's rmse: 1.00501\tvalid_1's rmse: 3.6386\n",
      "[2200]\ttraining's rmse: 0.948169\tvalid_1's rmse: 3.62613\n",
      "[2400]\ttraining's rmse: 0.899902\tvalid_1's rmse: 3.61646\n",
      "[2600]\ttraining's rmse: 0.857194\tvalid_1's rmse: 3.60967\n",
      "[2800]\ttraining's rmse: 0.820287\tvalid_1's rmse: 3.60233\n",
      "[3000]\ttraining's rmse: 0.786145\tvalid_1's rmse: 3.59812\n",
      "[3200]\ttraining's rmse: 0.756095\tvalid_1's rmse: 3.5976\n",
      "[3400]\ttraining's rmse: 0.729572\tvalid_1's rmse: 3.59212\n",
      "[3600]\ttraining's rmse: 0.704683\tvalid_1's rmse: 3.58986\n",
      "[3800]\ttraining's rmse: 0.682223\tvalid_1's rmse: 3.58753\n",
      "[4000]\ttraining's rmse: 0.661517\tvalid_1's rmse: 3.58499\n",
      "[4200]\ttraining's rmse: 0.642816\tvalid_1's rmse: 3.58301\n",
      "[4400]\ttraining's rmse: 0.625822\tvalid_1's rmse: 3.58014\n",
      "[4600]\ttraining's rmse: 0.610233\tvalid_1's rmse: 3.57794\n",
      "[4800]\ttraining's rmse: 0.596058\tvalid_1's rmse: 3.57664\n",
      "[5000]\ttraining's rmse: 0.583198\tvalid_1's rmse: 3.57581\n",
      "[5200]\ttraining's rmse: 0.57101\tvalid_1's rmse: 3.57466\n",
      "[5400]\ttraining's rmse: 0.559571\tvalid_1's rmse: 3.57361\n",
      "Early stopping, best iteration is:\n",
      "[5339]\ttraining's rmse: 0.562765\tvalid_1's rmse: 3.57342\n"
     ]
    },
    {
     "name": "stderr",
     "output_type": "stream",
     "text": [
      "[2.5GB(-0.0GB): 81.297sec] fit Y\n"
     ]
    },
    {
     "name": "stdout",
     "output_type": "stream",
     "text": [
      "Training until validation scores don't improve for 20 rounds\n",
      "[200]\ttraining's multi_logloss: 0.0326462\tvalid_1's multi_logloss: 0.0388913\n",
      "[400]\ttraining's multi_logloss: 0.0313396\tvalid_1's multi_logloss: 0.0374723\n",
      "[600]\ttraining's multi_logloss: 0.0307023\tvalid_1's multi_logloss: 0.0367909\n",
      "Early stopping, best iteration is:\n",
      "[729]\ttraining's multi_logloss: 0.0305074\tvalid_1's multi_logloss: 0.0366471\n"
     ]
    },
    {
     "name": "stderr",
     "output_type": "stream",
     "text": [
      "[2.5GB(+0.0GB): 25.247sec] fit F\n"
     ]
    },
    {
     "name": "stdout",
     "output_type": "stream",
     "text": [
      "pos_loss = 3.797609792506507, floor_loss = 0.1294591484464902\n",
      "fold 3: mean position error 3.9270689409529975\n"
     ]
    },
    {
     "name": "stderr",
     "output_type": "stream",
     "text": [
      "[2.5GB(-0.0GB): 64.809sec] fit X\n"
     ]
    },
    {
     "name": "stdout",
     "output_type": "stream",
     "text": [
      "Training until validation scores don't improve for 200 rounds\n",
      "[200]\ttraining's rmse: 3.27817\tvalid_1's rmse: 4.51844\n",
      "[400]\ttraining's rmse: 2.37935\tvalid_1's rmse: 4.01367\n",
      "[600]\ttraining's rmse: 1.9557\tvalid_1's rmse: 3.83351\n",
      "[800]\ttraining's rmse: 1.68743\tvalid_1's rmse: 3.75773\n",
      "[1000]\ttraining's rmse: 1.50056\tvalid_1's rmse: 3.70606\n",
      "[1200]\ttraining's rmse: 1.35802\tvalid_1's rmse: 3.67232\n",
      "[1400]\ttraining's rmse: 1.24711\tvalid_1's rmse: 3.65007\n",
      "[1600]\ttraining's rmse: 1.15551\tvalid_1's rmse: 3.63423\n",
      "[1800]\ttraining's rmse: 1.07704\tvalid_1's rmse: 3.62069\n",
      "[2000]\ttraining's rmse: 1.01175\tvalid_1's rmse: 3.61481\n",
      "[2200]\ttraining's rmse: 0.955661\tvalid_1's rmse: 3.60881\n",
      "[2400]\ttraining's rmse: 0.907086\tvalid_1's rmse: 3.60547\n",
      "[2600]\ttraining's rmse: 0.863913\tvalid_1's rmse: 3.60096\n",
      "[2800]\ttraining's rmse: 0.824973\tvalid_1's rmse: 3.59362\n",
      "[3000]\ttraining's rmse: 0.790743\tvalid_1's rmse: 3.5892\n",
      "[3200]\ttraining's rmse: 0.759053\tvalid_1's rmse: 3.58583\n",
      "[3400]\ttraining's rmse: 0.730429\tvalid_1's rmse: 3.5845\n",
      "[3600]\ttraining's rmse: 0.704923\tvalid_1's rmse: 3.58231\n",
      "[3800]\ttraining's rmse: 0.682132\tvalid_1's rmse: 3.58049\n",
      "[4000]\ttraining's rmse: 0.660923\tvalid_1's rmse: 3.5776\n",
      "[4200]\ttraining's rmse: 0.642216\tvalid_1's rmse: 3.5797\n",
      "Early stopping, best iteration is:\n",
      "[4013]\ttraining's rmse: 0.659665\tvalid_1's rmse: 3.57732\n"
     ]
    },
    {
     "name": "stderr",
     "output_type": "stream",
     "text": [
      "[2.5GB(+0.0GB): 63.665sec] fit Y\n"
     ]
    },
    {
     "name": "stdout",
     "output_type": "stream",
     "text": [
      "Training until validation scores don't improve for 20 rounds\n",
      "[200]\ttraining's multi_logloss: 0.0325054\tvalid_1's multi_logloss: 0.036751\n",
      "Early stopping, best iteration is:\n",
      "[247]\ttraining's multi_logloss: 0.0321829\tvalid_1's multi_logloss: 0.0364188\n"
     ]
    },
    {
     "name": "stderr",
     "output_type": "stream",
     "text": [
      "[2.5GB(-0.0GB): 10.900sec] fit F\n"
     ]
    },
    {
     "name": "stdout",
     "output_type": "stream",
     "text": [
      "pos_loss = 3.7537825563770966, floor_loss = 0.043153049482163405\n",
      "fold 4: mean position error 3.79693560585926\n",
      "*+*+*+*+*+*+*+*+*+*+*+*+*+*+*+*+*+*+*+*+*+*+*+*+*+*+*+*+*+*+*+*+*+*+*+*+*+*+*+*+\n",
      "file #20, shape=(17382, 3539), name=5da138b74db8ce0c98bd4774_train.csv\n",
      "pos_loss = 3.7467466854646876, floor_loss = 0.04487400759406282\n",
      "mean position error 3.7916206930587504\n",
      "*+*+*+*+*+*+*+*+*+*+*+*+*+*+*+*+*+*+*+*+*+*+*+*+*+*+*+*+*+*+*+*+*+*+*+*+*+*+*+*+\n"
     ]
    },
    {
     "name": "stderr",
     "output_type": "stream",
     "text": [
      "[2.4GB(-0.0GB): 46.610sec] fit X\n"
     ]
    },
    {
     "name": "stdout",
     "output_type": "stream",
     "text": [
      "Training until validation scores don't improve for 200 rounds\n",
      "[200]\ttraining's rmse: 2.42812\tvalid_1's rmse: 3.66684\n",
      "[400]\ttraining's rmse: 1.67846\tvalid_1's rmse: 3.30149\n",
      "[600]\ttraining's rmse: 1.32811\tvalid_1's rmse: 3.18621\n",
      "[800]\ttraining's rmse: 1.11128\tvalid_1's rmse: 3.12778\n",
      "[1000]\ttraining's rmse: 0.963649\tvalid_1's rmse: 3.0887\n",
      "[1200]\ttraining's rmse: 0.852666\tvalid_1's rmse: 3.07087\n",
      "[1400]\ttraining's rmse: 0.766271\tvalid_1's rmse: 3.05465\n",
      "[1600]\ttraining's rmse: 0.697059\tvalid_1's rmse: 3.04529\n",
      "[1800]\ttraining's rmse: 0.641225\tvalid_1's rmse: 3.03787\n",
      "[2000]\ttraining's rmse: 0.594044\tvalid_1's rmse: 3.03293\n",
      "[2200]\ttraining's rmse: 0.553912\tvalid_1's rmse: 3.02816\n",
      "[2400]\ttraining's rmse: 0.51913\tvalid_1's rmse: 3.02428\n",
      "[2600]\ttraining's rmse: 0.490124\tvalid_1's rmse: 3.02233\n",
      "[2800]\ttraining's rmse: 0.464731\tvalid_1's rmse: 3.02034\n",
      "[3000]\ttraining's rmse: 0.441699\tvalid_1's rmse: 3.01825\n",
      "[3200]\ttraining's rmse: 0.423047\tvalid_1's rmse: 3.01695\n",
      "[3400]\ttraining's rmse: 0.4054\tvalid_1's rmse: 3.01614\n",
      "[3600]\ttraining's rmse: 0.390416\tvalid_1's rmse: 3.01532\n",
      "[3800]\ttraining's rmse: 0.375927\tvalid_1's rmse: 3.01434\n",
      "[4000]\ttraining's rmse: 0.363234\tvalid_1's rmse: 3.01351\n",
      "[4200]\ttraining's rmse: 0.352085\tvalid_1's rmse: 3.01334\n",
      "[4400]\ttraining's rmse: 0.341286\tvalid_1's rmse: 3.01264\n",
      "[4600]\ttraining's rmse: 0.332052\tvalid_1's rmse: 3.01309\n",
      "Early stopping, best iteration is:\n",
      "[4412]\ttraining's rmse: 0.340726\tvalid_1's rmse: 3.0125\n"
     ]
    },
    {
     "name": "stderr",
     "output_type": "stream",
     "text": [
      "[2.4GB(+0.0GB): 61.682sec] fit Y\n"
     ]
    },
    {
     "name": "stdout",
     "output_type": "stream",
     "text": [
      "Training until validation scores don't improve for 20 rounds\n",
      "[200]\ttraining's multi_logloss: 0.0266569\tvalid_1's multi_logloss: 0.0288112\n",
      "[400]\ttraining's multi_logloss: 0.0264192\tvalid_1's multi_logloss: 0.0285516\n",
      "[600]\ttraining's multi_logloss: 0.0262867\tvalid_1's multi_logloss: 0.0284163\n",
      "[800]\ttraining's multi_logloss: 0.0261552\tvalid_1's multi_logloss: 0.0282734\n",
      "Early stopping, best iteration is:\n",
      "[928]\ttraining's multi_logloss: 0.0260189\tvalid_1's multi_logloss: 0.0281382\n"
     ]
    },
    {
     "name": "stderr",
     "output_type": "stream",
     "text": [
      "[2.4GB(+0.0GB): 32.463sec] fit F\n"
     ]
    },
    {
     "name": "stdout",
     "output_type": "stream",
     "text": [
      "pos_loss = 3.0010226049922557, floor_loss = 0.0049504950495049506\n",
      "fold 0: mean position error 3.0059731000417607\n"
     ]
    },
    {
     "name": "stderr",
     "output_type": "stream",
     "text": [
      "[2.4GB(-0.0GB): 56.493sec] fit X\n"
     ]
    },
    {
     "name": "stdout",
     "output_type": "stream",
     "text": [
      "Training until validation scores don't improve for 200 rounds\n",
      "[200]\ttraining's rmse: 2.44978\tvalid_1's rmse: 3.78907\n",
      "[400]\ttraining's rmse: 1.71933\tvalid_1's rmse: 3.36813\n",
      "[600]\ttraining's rmse: 1.36599\tvalid_1's rmse: 3.22942\n",
      "[800]\ttraining's rmse: 1.14374\tvalid_1's rmse: 3.16218\n",
      "[1000]\ttraining's rmse: 0.9893\tvalid_1's rmse: 3.12345\n",
      "[1200]\ttraining's rmse: 0.872953\tvalid_1's rmse: 3.09893\n",
      "[1400]\ttraining's rmse: 0.781949\tvalid_1's rmse: 3.08229\n",
      "[1600]\ttraining's rmse: 0.708631\tvalid_1's rmse: 3.07372\n",
      "[1800]\ttraining's rmse: 0.649918\tvalid_1's rmse: 3.06533\n",
      "[2000]\ttraining's rmse: 0.600134\tvalid_1's rmse: 3.05897\n",
      "[2200]\ttraining's rmse: 0.557254\tvalid_1's rmse: 3.05511\n",
      "[2400]\ttraining's rmse: 0.521608\tvalid_1's rmse: 3.05083\n",
      "[2600]\ttraining's rmse: 0.491173\tvalid_1's rmse: 3.04885\n",
      "[2800]\ttraining's rmse: 0.464842\tvalid_1's rmse: 3.04648\n",
      "[3000]\ttraining's rmse: 0.442564\tvalid_1's rmse: 3.04364\n",
      "[3200]\ttraining's rmse: 0.422464\tvalid_1's rmse: 3.04383\n",
      "Early stopping, best iteration is:\n",
      "[3010]\ttraining's rmse: 0.441514\tvalid_1's rmse: 3.0431\n"
     ]
    },
    {
     "name": "stderr",
     "output_type": "stream",
     "text": [
      "[2.4GB(+0.0GB): 46.016sec] fit Y\n"
     ]
    },
    {
     "name": "stdout",
     "output_type": "stream",
     "text": [
      "Training until validation scores don't improve for 20 rounds\n",
      "[200]\ttraining's multi_logloss: 0.0268579\tvalid_1's multi_logloss: 0.0300026\n",
      "[400]\ttraining's multi_logloss: 0.0264922\tvalid_1's multi_logloss: 0.0296196\n",
      "[600]\ttraining's multi_logloss: 0.0263102\tvalid_1's multi_logloss: 0.0294198\n",
      "Early stopping, best iteration is:\n",
      "[693]\ttraining's multi_logloss: 0.0262374\tvalid_1's multi_logloss: 0.0293477\n"
     ]
    },
    {
     "name": "stderr",
     "output_type": "stream",
     "text": [
      "[2.4GB(+0.0GB): 24.493sec] fit F\n"
     ]
    },
    {
     "name": "stdout",
     "output_type": "stream",
     "text": [
      "pos_loss = 3.062351488796875, floor_loss = 0.0\n",
      "fold 1: mean position error 3.062351488796875\n"
     ]
    },
    {
     "name": "stderr",
     "output_type": "stream",
     "text": [
      "[2.4GB(+0.0GB): 46.670sec] fit X\n"
     ]
    },
    {
     "name": "stdout",
     "output_type": "stream",
     "text": [
      "Training until validation scores don't improve for 200 rounds\n",
      "[200]\ttraining's rmse: 2.41187\tvalid_1's rmse: 3.90428\n",
      "[400]\ttraining's rmse: 1.67741\tvalid_1's rmse: 3.49839\n",
      "[600]\ttraining's rmse: 1.33559\tvalid_1's rmse: 3.35946\n",
      "[800]\ttraining's rmse: 1.12474\tvalid_1's rmse: 3.29312\n",
      "[1000]\ttraining's rmse: 0.974821\tvalid_1's rmse: 3.25002\n",
      "[1200]\ttraining's rmse: 0.862157\tvalid_1's rmse: 3.22274\n",
      "[1400]\ttraining's rmse: 0.775931\tvalid_1's rmse: 3.20561\n",
      "[1600]\ttraining's rmse: 0.705793\tvalid_1's rmse: 3.18969\n",
      "[1800]\ttraining's rmse: 0.647141\tvalid_1's rmse: 3.17984\n",
      "[2000]\ttraining's rmse: 0.597314\tvalid_1's rmse: 3.17265\n",
      "[2200]\ttraining's rmse: 0.554842\tvalid_1's rmse: 3.16608\n",
      "[2400]\ttraining's rmse: 0.517528\tvalid_1's rmse: 3.15789\n",
      "[2600]\ttraining's rmse: 0.485791\tvalid_1's rmse: 3.15241\n",
      "[2800]\ttraining's rmse: 0.459005\tvalid_1's rmse: 3.14942\n",
      "[3000]\ttraining's rmse: 0.435732\tvalid_1's rmse: 3.14816\n",
      "[3200]\ttraining's rmse: 0.415393\tvalid_1's rmse: 3.14561\n",
      "[3400]\ttraining's rmse: 0.397548\tvalid_1's rmse: 3.14416\n",
      "[3600]\ttraining's rmse: 0.382252\tvalid_1's rmse: 3.14227\n",
      "[3800]\ttraining's rmse: 0.368434\tvalid_1's rmse: 3.14066\n",
      "[4000]\ttraining's rmse: 0.356121\tvalid_1's rmse: 3.13895\n",
      "[4200]\ttraining's rmse: 0.344362\tvalid_1's rmse: 3.13821\n",
      "Early stopping, best iteration is:\n",
      "[4180]\ttraining's rmse: 0.345434\tvalid_1's rmse: 3.13777\n"
     ]
    },
    {
     "name": "stderr",
     "output_type": "stream",
     "text": [
      "[2.4GB(-0.0GB): 58.981sec] fit Y\n"
     ]
    },
    {
     "name": "stdout",
     "output_type": "stream",
     "text": [
      "Training until validation scores don't improve for 20 rounds\n",
      "[200]\ttraining's multi_logloss: 0.0265489\tvalid_1's multi_logloss: 0.0313817\n",
      "[400]\ttraining's multi_logloss: 0.0261824\tvalid_1's multi_logloss: 0.0309803\n",
      "[600]\ttraining's multi_logloss: 0.0260514\tvalid_1's multi_logloss: 0.0308406\n",
      "Early stopping, best iteration is:\n",
      "[736]\ttraining's multi_logloss: 0.0259684\tvalid_1's multi_logloss: 0.03075\n"
     ]
    },
    {
     "name": "stderr",
     "output_type": "stream",
     "text": [
      "[2.4GB(+0.0GB): 26.369sec] fit F\n"
     ]
    },
    {
     "name": "stdout",
     "output_type": "stream",
     "text": [
      "pos_loss = 3.08614869169414, floor_loss = 0.0049504950495049506\n",
      "fold 2: mean position error 3.091099186743645\n"
     ]
    },
    {
     "name": "stderr",
     "output_type": "stream",
     "text": [
      "[2.4GB(-0.0GB): 56.946sec] fit X\n"
     ]
    },
    {
     "name": "stdout",
     "output_type": "stream",
     "text": [
      "Training until validation scores don't improve for 200 rounds\n",
      "[200]\ttraining's rmse: 2.45959\tvalid_1's rmse: 3.67991\n",
      "[400]\ttraining's rmse: 1.71094\tvalid_1's rmse: 3.29171\n",
      "[600]\ttraining's rmse: 1.3583\tvalid_1's rmse: 3.16344\n",
      "[800]\ttraining's rmse: 1.14573\tvalid_1's rmse: 3.10476\n",
      "[1000]\ttraining's rmse: 0.995159\tvalid_1's rmse: 3.06932\n",
      "[1200]\ttraining's rmse: 0.88167\tvalid_1's rmse: 3.05149\n",
      "[1400]\ttraining's rmse: 0.791943\tvalid_1's rmse: 3.03961\n",
      "[1600]\ttraining's rmse: 0.719606\tvalid_1's rmse: 3.02904\n",
      "[1800]\ttraining's rmse: 0.659774\tvalid_1's rmse: 3.02293\n",
      "[2000]\ttraining's rmse: 0.60962\tvalid_1's rmse: 3.01772\n",
      "[2200]\ttraining's rmse: 0.567729\tvalid_1's rmse: 3.01316\n",
      "[2400]\ttraining's rmse: 0.532274\tvalid_1's rmse: 3.01057\n",
      "[2600]\ttraining's rmse: 0.502659\tvalid_1's rmse: 3.00867\n",
      "[2800]\ttraining's rmse: 0.476633\tvalid_1's rmse: 3.00648\n",
      "[3000]\ttraining's rmse: 0.453817\tvalid_1's rmse: 3.00434\n",
      "[3200]\ttraining's rmse: 0.432781\tvalid_1's rmse: 3.0021\n",
      "[3400]\ttraining's rmse: 0.415883\tvalid_1's rmse: 3.00135\n",
      "[3600]\ttraining's rmse: 0.399481\tvalid_1's rmse: 2.99977\n",
      "[3800]\ttraining's rmse: 0.384964\tvalid_1's rmse: 2.99745\n",
      "[4000]\ttraining's rmse: 0.372173\tvalid_1's rmse: 2.99668\n",
      "[4200]\ttraining's rmse: 0.360295\tvalid_1's rmse: 2.99553\n",
      "[4400]\ttraining's rmse: 0.349949\tvalid_1's rmse: 2.99561\n",
      "[4600]\ttraining's rmse: 0.340526\tvalid_1's rmse: 2.99484\n",
      "Early stopping, best iteration is:\n",
      "[4458]\ttraining's rmse: 0.346703\tvalid_1's rmse: 2.99442\n"
     ]
    },
    {
     "name": "stderr",
     "output_type": "stream",
     "text": [
      "[2.4GB(-0.0GB): 63.018sec] fit Y\n"
     ]
    },
    {
     "name": "stdout",
     "output_type": "stream",
     "text": [
      "Training until validation scores don't improve for 20 rounds\n",
      "[200]\ttraining's multi_logloss: 0.0268268\tvalid_1's multi_logloss: 0.02982\n",
      "[400]\ttraining's multi_logloss: 0.0263928\tvalid_1's multi_logloss: 0.0293668\n",
      "Early stopping, best iteration is:\n",
      "[524]\ttraining's multi_logloss: 0.0262156\tvalid_1's multi_logloss: 0.0291758\n"
     ]
    },
    {
     "name": "stderr",
     "output_type": "stream",
     "text": [
      "[2.4GB(+0.0GB): 19.423sec] fit F\n"
     ]
    },
    {
     "name": "stdout",
     "output_type": "stream",
     "text": [
      "pos_loss = 2.984548021646737, floor_loss = 0.0\n",
      "fold 3: mean position error 2.984548021646737\n"
     ]
    },
    {
     "name": "stderr",
     "output_type": "stream",
     "text": [
      "[2.4GB(-0.0GB): 51.879sec] fit X\n"
     ]
    },
    {
     "name": "stdout",
     "output_type": "stream",
     "text": [
      "Training until validation scores don't improve for 200 rounds\n",
      "[200]\ttraining's rmse: 2.46296\tvalid_1's rmse: 3.43611\n",
      "[400]\ttraining's rmse: 1.70923\tvalid_1's rmse: 3.04642\n",
      "[600]\ttraining's rmse: 1.35647\tvalid_1's rmse: 2.92744\n",
      "[800]\ttraining's rmse: 1.13603\tvalid_1's rmse: 2.86236\n",
      "[1000]\ttraining's rmse: 0.982159\tvalid_1's rmse: 2.82323\n",
      "[1200]\ttraining's rmse: 0.866717\tvalid_1's rmse: 2.80539\n",
      "[1400]\ttraining's rmse: 0.777294\tvalid_1's rmse: 2.79398\n",
      "[1600]\ttraining's rmse: 0.705063\tvalid_1's rmse: 2.78224\n",
      "[1800]\ttraining's rmse: 0.645483\tvalid_1's rmse: 2.77803\n",
      "[2000]\ttraining's rmse: 0.596334\tvalid_1's rmse: 2.77629\n",
      "[2200]\ttraining's rmse: 0.553931\tvalid_1's rmse: 2.77162\n",
      "[2400]\ttraining's rmse: 0.517648\tvalid_1's rmse: 2.76777\n",
      "[2600]\ttraining's rmse: 0.486854\tvalid_1's rmse: 2.76534\n",
      "[2800]\ttraining's rmse: 0.460271\tvalid_1's rmse: 2.76169\n",
      "[3000]\ttraining's rmse: 0.437121\tvalid_1's rmse: 2.75943\n",
      "[3200]\ttraining's rmse: 0.417025\tvalid_1's rmse: 2.75777\n",
      "[3400]\ttraining's rmse: 0.39893\tvalid_1's rmse: 2.7566\n",
      "[3600]\ttraining's rmse: 0.383398\tvalid_1's rmse: 2.7547\n",
      "[3800]\ttraining's rmse: 0.369719\tvalid_1's rmse: 2.75434\n",
      "[4000]\ttraining's rmse: 0.356878\tvalid_1's rmse: 2.75312\n",
      "[4200]\ttraining's rmse: 0.345191\tvalid_1's rmse: 2.7524\n",
      "[4400]\ttraining's rmse: 0.334572\tvalid_1's rmse: 2.75095\n",
      "Early stopping, best iteration is:\n",
      "[4338]\ttraining's rmse: 0.337627\tvalid_1's rmse: 2.75062\n"
     ]
    },
    {
     "name": "stderr",
     "output_type": "stream",
     "text": [
      "[2.4GB(-0.0GB): 62.567sec] fit Y\n"
     ]
    },
    {
     "name": "stdout",
     "output_type": "stream",
     "text": [
      "Training until validation scores don't improve for 20 rounds\n",
      "[200]\ttraining's multi_logloss: 0.0268565\tvalid_1's multi_logloss: 0.0278179\n",
      "[400]\ttraining's multi_logloss: 0.0265097\tvalid_1's multi_logloss: 0.0274521\n",
      "[600]\ttraining's multi_logloss: 0.0263806\tvalid_1's multi_logloss: 0.0273117\n",
      "[800]\ttraining's multi_logloss: 0.026251\tvalid_1's multi_logloss: 0.0271847\n",
      "[1000]\ttraining's multi_logloss: 0.0261103\tvalid_1's multi_logloss: 0.0270333\n",
      "[1200]\ttraining's multi_logloss: 0.026034\tvalid_1's multi_logloss: 0.0269544\n",
      "Early stopping, best iteration is:\n",
      "[1235]\ttraining's multi_logloss: 0.026027\tvalid_1's multi_logloss: 0.0269463\n"
     ]
    },
    {
     "name": "stderr",
     "output_type": "stream",
     "text": [
      "[2.4GB(+0.0GB): 40.629sec] fit F\n"
     ]
    },
    {
     "name": "stdout",
     "output_type": "stream",
     "text": [
      "pos_loss = 2.9264522167685407, floor_loss = 0.0049521294156487285\n",
      "fold 4: mean position error 2.9314043461841894\n",
      "*+*+*+*+*+*+*+*+*+*+*+*+*+*+*+*+*+*+*+*+*+*+*+*+*+*+*+*+*+*+*+*+*+*+*+*+*+*+*+*+\n",
      "file #21, shape=(15148, 3503), name=5da958dd46f8266d0737457b_train.csv\n",
      "pos_loss = 3.0121120783056634, floor_loss = 0.0029706891998943757\n",
      "mean position error 3.015082767505558\n",
      "*+*+*+*+*+*+*+*+*+*+*+*+*+*+*+*+*+*+*+*+*+*+*+*+*+*+*+*+*+*+*+*+*+*+*+*+*+*+*+*+\n"
     ]
    },
    {
     "name": "stderr",
     "output_type": "stream",
     "text": [
      "[3.2GB(+0.0GB): 39.442sec] fit X\n"
     ]
    },
    {
     "name": "stdout",
     "output_type": "stream",
     "text": [
      "Training until validation scores don't improve for 200 rounds\n",
      "[200]\ttraining's rmse: 3.17676\tvalid_1's rmse: 4.14228\n",
      "[400]\ttraining's rmse: 2.24144\tvalid_1's rmse: 3.59972\n",
      "[600]\ttraining's rmse: 1.80165\tvalid_1's rmse: 3.43152\n",
      "[800]\ttraining's rmse: 1.53741\tvalid_1's rmse: 3.36489\n",
      "[1000]\ttraining's rmse: 1.35578\tvalid_1's rmse: 3.3308\n",
      "[1200]\ttraining's rmse: 1.2177\tvalid_1's rmse: 3.31335\n",
      "[1400]\ttraining's rmse: 1.11064\tvalid_1's rmse: 3.30179\n",
      "[1600]\ttraining's rmse: 1.02478\tvalid_1's rmse: 3.29897\n",
      "[1800]\ttraining's rmse: 0.952209\tvalid_1's rmse: 3.29486\n",
      "Early stopping, best iteration is:\n",
      "[1764]\ttraining's rmse: 0.964767\tvalid_1's rmse: 3.293\n"
     ]
    },
    {
     "name": "stderr",
     "output_type": "stream",
     "text": [
      "[3.2GB(-0.0GB): 38.144sec] fit Y\n"
     ]
    },
    {
     "name": "stdout",
     "output_type": "stream",
     "text": [
      "Training until validation scores don't improve for 20 rounds\n",
      "[200]\ttraining's multi_logloss: 0.0352801\tvalid_1's multi_logloss: 0.0394506\n",
      "[400]\ttraining's multi_logloss: 0.0345937\tvalid_1's multi_logloss: 0.0387169\n",
      "[600]\ttraining's multi_logloss: 0.0340159\tvalid_1's multi_logloss: 0.0380782\n",
      "[800]\ttraining's multi_logloss: 0.0337139\tvalid_1's multi_logloss: 0.037758\n",
      "[1000]\ttraining's multi_logloss: 0.0336389\tvalid_1's multi_logloss: 0.0376784\n",
      "[1200]\ttraining's multi_logloss: 0.0333479\tvalid_1's multi_logloss: 0.0373691\n",
      "Early stopping, best iteration is:\n",
      "[1264]\ttraining's multi_logloss: 0.0333175\tvalid_1's multi_logloss: 0.0373349\n"
     ]
    },
    {
     "name": "stderr",
     "output_type": "stream",
     "text": [
      "[3.2GB(-0.0GB): 57.521sec] fit F\n"
     ]
    },
    {
     "name": "stdout",
     "output_type": "stream",
     "text": [
      "pos_loss = 3.971520543631307, floor_loss = 0.0\n",
      "fold 0: mean position error 3.971520543631307\n"
     ]
    },
    {
     "name": "stderr",
     "output_type": "stream",
     "text": [
      "[3.2GB(+0.0GB): 92.816sec] fit X\n"
     ]
    },
    {
     "name": "stdout",
     "output_type": "stream",
     "text": [
      "Training until validation scores don't improve for 200 rounds\n",
      "[200]\ttraining's rmse: 3.12446\tvalid_1's rmse: 5.23648\n",
      "[400]\ttraining's rmse: 2.20796\tvalid_1's rmse: 4.64289\n",
      "[600]\ttraining's rmse: 1.78838\tvalid_1's rmse: 4.3838\n",
      "[800]\ttraining's rmse: 1.53372\tvalid_1's rmse: 4.25865\n",
      "[1000]\ttraining's rmse: 1.35922\tvalid_1's rmse: 4.19566\n",
      "[1200]\ttraining's rmse: 1.22562\tvalid_1's rmse: 4.1488\n",
      "[1400]\ttraining's rmse: 1.1241\tvalid_1's rmse: 4.12973\n",
      "[1600]\ttraining's rmse: 1.03864\tvalid_1's rmse: 4.11019\n",
      "[1800]\ttraining's rmse: 0.967033\tvalid_1's rmse: 4.09681\n",
      "[2000]\ttraining's rmse: 0.904305\tvalid_1's rmse: 4.09147\n",
      "[2200]\ttraining's rmse: 0.848757\tvalid_1's rmse: 4.08416\n",
      "[2400]\ttraining's rmse: 0.800878\tvalid_1's rmse: 4.07973\n",
      "[2600]\ttraining's rmse: 0.758471\tvalid_1's rmse: 4.07595\n",
      "[2800]\ttraining's rmse: 0.720033\tvalid_1's rmse: 4.07323\n",
      "[3000]\ttraining's rmse: 0.685646\tvalid_1's rmse: 4.07057\n",
      "[3200]\ttraining's rmse: 0.654265\tvalid_1's rmse: 4.07034\n",
      "Early stopping, best iteration is:\n",
      "[3073]\ttraining's rmse: 0.673931\tvalid_1's rmse: 4.06888\n"
     ]
    },
    {
     "name": "stderr",
     "output_type": "stream",
     "text": [
      "[3.2GB(+0.0GB): 60.559sec] fit Y\n"
     ]
    },
    {
     "name": "stdout",
     "output_type": "stream",
     "text": [
      "Training until validation scores don't improve for 20 rounds\n",
      "[200]\ttraining's multi_logloss: 0.0353144\tvalid_1's multi_logloss: 0.0409411\n",
      "[400]\ttraining's multi_logloss: 0.0343835\tvalid_1's multi_logloss: 0.0399321\n",
      "Early stopping, best iteration is:\n",
      "[497]\ttraining's multi_logloss: 0.0340061\tvalid_1's multi_logloss: 0.0395242\n"
     ]
    },
    {
     "name": "stderr",
     "output_type": "stream",
     "text": [
      "[3.2GB(-0.0GB): 25.877sec] fit F\n"
     ]
    },
    {
     "name": "stdout",
     "output_type": "stream",
     "text": [
      "pos_loss = 4.0012590909703505, floor_loss = 0.0\n",
      "fold 1: mean position error 4.0012590909703505\n"
     ]
    },
    {
     "name": "stderr",
     "output_type": "stream",
     "text": [
      "[3.2GB(+0.0GB): 76.779sec] fit X\n"
     ]
    },
    {
     "name": "stdout",
     "output_type": "stream",
     "text": [
      "Training until validation scores don't improve for 200 rounds\n",
      "[200]\ttraining's rmse: 3.21135\tvalid_1's rmse: 4.74097\n",
      "[400]\ttraining's rmse: 2.29592\tvalid_1's rmse: 4.21975\n",
      "[600]\ttraining's rmse: 1.85976\tvalid_1's rmse: 4.01609\n",
      "[800]\ttraining's rmse: 1.58983\tvalid_1's rmse: 3.89107\n",
      "[1000]\ttraining's rmse: 1.39622\tvalid_1's rmse: 3.81165\n",
      "[1200]\ttraining's rmse: 1.25473\tvalid_1's rmse: 3.76331\n",
      "[1400]\ttraining's rmse: 1.14319\tvalid_1's rmse: 3.72987\n",
      "[1600]\ttraining's rmse: 1.05112\tvalid_1's rmse: 3.70752\n",
      "[1800]\ttraining's rmse: 0.975498\tvalid_1's rmse: 3.68532\n",
      "[2000]\ttraining's rmse: 0.908909\tvalid_1's rmse: 3.67434\n",
      "[2200]\ttraining's rmse: 0.851438\tvalid_1's rmse: 3.66145\n",
      "[2400]\ttraining's rmse: 0.801121\tvalid_1's rmse: 3.65028\n",
      "[2600]\ttraining's rmse: 0.757216\tvalid_1's rmse: 3.64586\n",
      "[2800]\ttraining's rmse: 0.717959\tvalid_1's rmse: 3.6346\n",
      "[3000]\ttraining's rmse: 0.683346\tvalid_1's rmse: 3.62865\n",
      "[3200]\ttraining's rmse: 0.651699\tvalid_1's rmse: 3.62474\n",
      "[3400]\ttraining's rmse: 0.623109\tvalid_1's rmse: 3.62272\n",
      "[3600]\ttraining's rmse: 0.596581\tvalid_1's rmse: 3.62076\n",
      "[3800]\ttraining's rmse: 0.573004\tvalid_1's rmse: 3.61807\n",
      "[4000]\ttraining's rmse: 0.550717\tvalid_1's rmse: 3.6154\n",
      "[4200]\ttraining's rmse: 0.530032\tvalid_1's rmse: 3.61345\n",
      "[4400]\ttraining's rmse: 0.511658\tvalid_1's rmse: 3.61232\n",
      "[4600]\ttraining's rmse: 0.495144\tvalid_1's rmse: 3.61058\n",
      "[4800]\ttraining's rmse: 0.478911\tvalid_1's rmse: 3.60913\n",
      "[5000]\ttraining's rmse: 0.464402\tvalid_1's rmse: 3.61039\n",
      "Early stopping, best iteration is:\n",
      "[4810]\ttraining's rmse: 0.478162\tvalid_1's rmse: 3.6086\n"
     ]
    },
    {
     "name": "stderr",
     "output_type": "stream",
     "text": [
      "[3.3GB(+0.0GB): 90.106sec] fit Y\n"
     ]
    },
    {
     "name": "stdout",
     "output_type": "stream",
     "text": [
      "Training until validation scores don't improve for 20 rounds\n",
      "[200]\ttraining's multi_logloss: 0.034992\tvalid_1's multi_logloss: 0.0392732\n",
      "[400]\ttraining's multi_logloss: 0.034485\tvalid_1's multi_logloss: 0.0387124\n",
      "[600]\ttraining's multi_logloss: 0.0341752\tvalid_1's multi_logloss: 0.0383603\n",
      "[800]\ttraining's multi_logloss: 0.0337582\tvalid_1's multi_logloss: 0.0378967\n",
      "[1000]\ttraining's multi_logloss: 0.0335959\tvalid_1's multi_logloss: 0.0377197\n",
      "[1200]\ttraining's multi_logloss: 0.0334908\tvalid_1's multi_logloss: 0.0375945\n",
      "[1400]\ttraining's multi_logloss: 0.0334129\tvalid_1's multi_logloss: 0.037514\n",
      "[1600]\ttraining's multi_logloss: 0.0332835\tvalid_1's multi_logloss: 0.0373581\n",
      "[1800]\ttraining's multi_logloss: 0.0331777\tvalid_1's multi_logloss: 0.0372511\n",
      "Early stopping, best iteration is:\n",
      "[1897]\ttraining's multi_logloss: 0.0331401\tvalid_1's multi_logloss: 0.0372065\n"
     ]
    },
    {
     "name": "stderr",
     "output_type": "stream",
     "text": [
      "[3.3GB(-0.0GB): 85.889sec] fit F\n"
     ]
    },
    {
     "name": "stdout",
     "output_type": "stream",
     "text": [
      "pos_loss = 4.116272669600681, floor_loss = 0.0\n",
      "fold 2: mean position error 4.116272669600681\n"
     ]
    },
    {
     "name": "stderr",
     "output_type": "stream",
     "text": [
      "[3.3GB(+0.0GB): 102.549sec] fit X\n"
     ]
    },
    {
     "name": "stdout",
     "output_type": "stream",
     "text": [
      "Training until validation scores don't improve for 200 rounds\n",
      "[200]\ttraining's rmse: 3.14785\tvalid_1's rmse: 4.75842\n",
      "[400]\ttraining's rmse: 2.24475\tvalid_1's rmse: 4.1458\n",
      "[600]\ttraining's rmse: 1.8071\tvalid_1's rmse: 3.89489\n",
      "[800]\ttraining's rmse: 1.53796\tvalid_1's rmse: 3.78146\n",
      "[1000]\ttraining's rmse: 1.35419\tvalid_1's rmse: 3.71988\n",
      "[1200]\ttraining's rmse: 1.21622\tvalid_1's rmse: 3.68419\n",
      "[1400]\ttraining's rmse: 1.10876\tvalid_1's rmse: 3.65463\n",
      "[1600]\ttraining's rmse: 1.02036\tvalid_1's rmse: 3.64209\n",
      "[1800]\ttraining's rmse: 0.947022\tvalid_1's rmse: 3.62469\n",
      "[2000]\ttraining's rmse: 0.885117\tvalid_1's rmse: 3.61433\n",
      "[2200]\ttraining's rmse: 0.830207\tvalid_1's rmse: 3.60908\n",
      "[2400]\ttraining's rmse: 0.781491\tvalid_1's rmse: 3.59997\n",
      "[2600]\ttraining's rmse: 0.739319\tvalid_1's rmse: 3.5949\n",
      "[2800]\ttraining's rmse: 0.702024\tvalid_1's rmse: 3.59132\n",
      "[3000]\ttraining's rmse: 0.668392\tvalid_1's rmse: 3.58723\n",
      "[3200]\ttraining's rmse: 0.638106\tvalid_1's rmse: 3.5816\n",
      "[3400]\ttraining's rmse: 0.61099\tvalid_1's rmse: 3.581\n",
      "Early stopping, best iteration is:\n",
      "[3275]\ttraining's rmse: 0.627666\tvalid_1's rmse: 3.57907\n"
     ]
    },
    {
     "name": "stderr",
     "output_type": "stream",
     "text": [
      "[3.3GB(-0.0GB): 64.858sec] fit Y\n"
     ]
    },
    {
     "name": "stdout",
     "output_type": "stream",
     "text": [
      "Training until validation scores don't improve for 20 rounds\n",
      "[200]\ttraining's multi_logloss: 0.034827\tvalid_1's multi_logloss: 0.0382223\n",
      "[400]\ttraining's multi_logloss: 0.0343182\tvalid_1's multi_logloss: 0.037685\n",
      "[600]\ttraining's multi_logloss: 0.0339687\tvalid_1's multi_logloss: 0.0373155\n",
      "[800]\ttraining's multi_logloss: 0.033714\tvalid_1's multi_logloss: 0.0370602\n",
      "[1000]\ttraining's multi_logloss: 0.0335727\tvalid_1's multi_logloss: 0.0368982\n",
      "Early stopping, best iteration is:\n",
      "[1059]\ttraining's multi_logloss: 0.0335449\tvalid_1's multi_logloss: 0.0368685\n"
     ]
    },
    {
     "name": "stderr",
     "output_type": "stream",
     "text": [
      "[3.3GB(-0.0GB): 50.008sec] fit F\n"
     ]
    },
    {
     "name": "stdout",
     "output_type": "stream",
     "text": [
      "pos_loss = 4.0848039637485085, floor_loss = 0.0\n",
      "fold 3: mean position error 4.0848039637485085\n"
     ]
    },
    {
     "name": "stderr",
     "output_type": "stream",
     "text": [
      "[3.3GB(+0.0GB): 73.060sec] fit X\n"
     ]
    },
    {
     "name": "stdout",
     "output_type": "stream",
     "text": [
      "Training until validation scores don't improve for 200 rounds\n",
      "[200]\ttraining's rmse: 3.19843\tvalid_1's rmse: 4.33137\n",
      "[400]\ttraining's rmse: 2.23588\tvalid_1's rmse: 3.80133\n",
      "[600]\ttraining's rmse: 1.80723\tvalid_1's rmse: 3.61916\n",
      "[800]\ttraining's rmse: 1.55057\tvalid_1's rmse: 3.53708\n",
      "[1000]\ttraining's rmse: 1.37217\tvalid_1's rmse: 3.4847\n",
      "[1200]\ttraining's rmse: 1.23894\tvalid_1's rmse: 3.45253\n",
      "[1400]\ttraining's rmse: 1.13084\tvalid_1's rmse: 3.42821\n",
      "[1600]\ttraining's rmse: 1.04157\tvalid_1's rmse: 3.4181\n",
      "[1800]\ttraining's rmse: 0.965994\tvalid_1's rmse: 3.408\n",
      "[2000]\ttraining's rmse: 0.90014\tvalid_1's rmse: 3.39953\n",
      "[2200]\ttraining's rmse: 0.844354\tvalid_1's rmse: 3.39078\n",
      "[2400]\ttraining's rmse: 0.795794\tvalid_1's rmse: 3.38756\n",
      "[2600]\ttraining's rmse: 0.752345\tvalid_1's rmse: 3.3836\n",
      "[2800]\ttraining's rmse: 0.713946\tvalid_1's rmse: 3.38086\n",
      "[3000]\ttraining's rmse: 0.680383\tvalid_1's rmse: 3.37848\n",
      "[3200]\ttraining's rmse: 0.6487\tvalid_1's rmse: 3.3757\n",
      "[3400]\ttraining's rmse: 0.619881\tvalid_1's rmse: 3.37387\n",
      "[3600]\ttraining's rmse: 0.594441\tvalid_1's rmse: 3.37225\n",
      "[3800]\ttraining's rmse: 0.571165\tvalid_1's rmse: 3.37072\n",
      "[4000]\ttraining's rmse: 0.549658\tvalid_1's rmse: 3.36861\n",
      "[4200]\ttraining's rmse: 0.529438\tvalid_1's rmse: 3.36846\n",
      "[4400]\ttraining's rmse: 0.511377\tvalid_1's rmse: 3.3673\n",
      "[4600]\ttraining's rmse: 0.495149\tvalid_1's rmse: 3.3659\n",
      "[4800]\ttraining's rmse: 0.480006\tvalid_1's rmse: 3.36528\n",
      "[5000]\ttraining's rmse: 0.465457\tvalid_1's rmse: 3.36526\n",
      "Early stopping, best iteration is:\n",
      "[4923]\ttraining's rmse: 0.470752\tvalid_1's rmse: 3.36476\n"
     ]
    },
    {
     "name": "stderr",
     "output_type": "stream",
     "text": [
      "[3.3GB(-0.0GB): 91.650sec] fit Y\n"
     ]
    },
    {
     "name": "stdout",
     "output_type": "stream",
     "text": [
      "Training until validation scores don't improve for 20 rounds\n",
      "[200]\ttraining's multi_logloss: 0.0349627\tvalid_1's multi_logloss: 0.0381449\n",
      "[400]\ttraining's multi_logloss: 0.0343157\tvalid_1's multi_logloss: 0.0374727\n",
      "Early stopping, best iteration is:\n",
      "[446]\ttraining's multi_logloss: 0.0342366\tvalid_1's multi_logloss: 0.0373904\n"
     ]
    },
    {
     "name": "stderr",
     "output_type": "stream",
     "text": [
      "[3.2GB(-0.0GB): 22.790sec] fit F\n"
     ]
    },
    {
     "name": "stdout",
     "output_type": "stream",
     "text": [
      "pos_loss = 3.996846853467918, floor_loss = 0.0\n",
      "fold 4: mean position error 3.996846853467918\n",
      "*+*+*+*+*+*+*+*+*+*+*+*+*+*+*+*+*+*+*+*+*+*+*+*+*+*+*+*+*+*+*+*+*+*+*+*+*+*+*+*+\n",
      "file #22, shape=(16174, 4523), name=5dbc1d84c1eb61796cf7c010_train.csv\n",
      "pos_loss = 4.034142930069014, floor_loss = 0.0\n",
      "mean position error 4.034142930069014\n",
      "*+*+*+*+*+*+*+*+*+*+*+*+*+*+*+*+*+*+*+*+*+*+*+*+*+*+*+*+*+*+*+*+*+*+*+*+*+*+*+*+\n"
     ]
    },
    {
     "name": "stderr",
     "output_type": "stream",
     "text": [
      "[3.4GB(+0.0GB): 123.793sec] fit X\n"
     ]
    },
    {
     "name": "stdout",
     "output_type": "stream",
     "text": [
      "Training until validation scores don't improve for 200 rounds\n",
      "[200]\ttraining's rmse: 3.0099\tvalid_1's rmse: 4.08683\n",
      "[400]\ttraining's rmse: 2.2638\tvalid_1's rmse: 3.6522\n",
      "[600]\ttraining's rmse: 1.90254\tvalid_1's rmse: 3.49867\n",
      "[800]\ttraining's rmse: 1.67472\tvalid_1's rmse: 3.42905\n",
      "[1000]\ttraining's rmse: 1.50985\tvalid_1's rmse: 3.3837\n",
      "[1200]\ttraining's rmse: 1.38164\tvalid_1's rmse: 3.35353\n",
      "[1400]\ttraining's rmse: 1.2796\tvalid_1's rmse: 3.33215\n",
      "[1600]\ttraining's rmse: 1.19592\tvalid_1's rmse: 3.32446\n",
      "[1800]\ttraining's rmse: 1.12552\tvalid_1's rmse: 3.31886\n",
      "[2000]\ttraining's rmse: 1.06326\tvalid_1's rmse: 3.3099\n",
      "[2200]\ttraining's rmse: 1.00984\tvalid_1's rmse: 3.304\n",
      "[2400]\ttraining's rmse: 0.962329\tvalid_1's rmse: 3.30192\n",
      "[2600]\ttraining's rmse: 0.921134\tvalid_1's rmse: 3.29672\n",
      "[2800]\ttraining's rmse: 0.883136\tvalid_1's rmse: 3.29339\n",
      "[3000]\ttraining's rmse: 0.849052\tvalid_1's rmse: 3.29188\n",
      "[3200]\ttraining's rmse: 0.818866\tvalid_1's rmse: 3.29123\n",
      "[3400]\ttraining's rmse: 0.790425\tvalid_1's rmse: 3.28896\n",
      "[3600]\ttraining's rmse: 0.765076\tvalid_1's rmse: 3.28715\n",
      "[3800]\ttraining's rmse: 0.742198\tvalid_1's rmse: 3.28703\n",
      "Early stopping, best iteration is:\n",
      "[3649]\ttraining's rmse: 0.759449\tvalid_1's rmse: 3.28649\n"
     ]
    },
    {
     "name": "stderr",
     "output_type": "stream",
     "text": [
      "[3.3GB(-0.0GB): 113.348sec] fit Y\n"
     ]
    },
    {
     "name": "stdout",
     "output_type": "stream",
     "text": [
      "Training until validation scores don't improve for 20 rounds\n",
      "[200]\ttraining's multi_logloss: 0.0498731\tvalid_1's multi_logloss: 0.0561449\n",
      "[400]\ttraining's multi_logloss: 0.0484604\tvalid_1's multi_logloss: 0.0545211\n",
      "Early stopping, best iteration is:\n",
      "[446]\ttraining's multi_logloss: 0.048256\tvalid_1's multi_logloss: 0.0542958\n"
     ]
    },
    {
     "name": "stderr",
     "output_type": "stream",
     "text": [
      "[3.4GB(+0.0GB): 21.814sec] fit F\n"
     ]
    },
    {
     "name": "stdout",
     "output_type": "stream",
     "text": [
      "pos_loss = 3.995057972158217, floor_loss = 0.014372404982433726\n",
      "fold 0: mean position error 4.009430377140651\n"
     ]
    },
    {
     "name": "stderr",
     "output_type": "stream",
     "text": [
      "[3.3GB(-0.0GB): 128.502sec] fit X\n"
     ]
    },
    {
     "name": "stdout",
     "output_type": "stream",
     "text": [
      "Training until validation scores don't improve for 200 rounds\n",
      "[200]\ttraining's rmse: 2.9762\tvalid_1's rmse: 4.13429\n",
      "[400]\ttraining's rmse: 2.2277\tvalid_1's rmse: 3.69974\n",
      "[600]\ttraining's rmse: 1.87337\tvalid_1's rmse: 3.5519\n",
      "[800]\ttraining's rmse: 1.64783\tvalid_1's rmse: 3.47854\n",
      "[1000]\ttraining's rmse: 1.48929\tvalid_1's rmse: 3.43451\n",
      "[1200]\ttraining's rmse: 1.36825\tvalid_1's rmse: 3.40956\n",
      "[1400]\ttraining's rmse: 1.27059\tvalid_1's rmse: 3.39396\n",
      "[1600]\ttraining's rmse: 1.18768\tvalid_1's rmse: 3.37376\n",
      "[1800]\ttraining's rmse: 1.11795\tvalid_1's rmse: 3.36125\n",
      "[2000]\ttraining's rmse: 1.05743\tvalid_1's rmse: 3.35284\n",
      "[2200]\ttraining's rmse: 1.00576\tvalid_1's rmse: 3.34627\n",
      "[2400]\ttraining's rmse: 0.960232\tvalid_1's rmse: 3.34139\n",
      "[2600]\ttraining's rmse: 0.918648\tvalid_1's rmse: 3.33786\n",
      "[2800]\ttraining's rmse: 0.882429\tvalid_1's rmse: 3.33468\n",
      "[3000]\ttraining's rmse: 0.849733\tvalid_1's rmse: 3.33233\n",
      "[3200]\ttraining's rmse: 0.820292\tvalid_1's rmse: 3.32865\n",
      "[3400]\ttraining's rmse: 0.792215\tvalid_1's rmse: 3.32735\n",
      "[3600]\ttraining's rmse: 0.767597\tvalid_1's rmse: 3.32659\n",
      "Early stopping, best iteration is:\n",
      "[3492]\ttraining's rmse: 0.780514\tvalid_1's rmse: 3.32478\n"
     ]
    },
    {
     "name": "stderr",
     "output_type": "stream",
     "text": [
      "[3.3GB(-0.0GB): 107.587sec] fit Y\n"
     ]
    },
    {
     "name": "stdout",
     "output_type": "stream",
     "text": [
      "Training until validation scores don't improve for 20 rounds\n",
      "[200]\ttraining's multi_logloss: 0.0490908\tvalid_1's multi_logloss: 0.0552483\n",
      "[400]\ttraining's multi_logloss: 0.0479371\tvalid_1's multi_logloss: 0.054025\n",
      "[600]\ttraining's multi_logloss: 0.0471441\tvalid_1's multi_logloss: 0.053184\n",
      "Early stopping, best iteration is:\n",
      "[594]\ttraining's multi_logloss: 0.0471441\tvalid_1's multi_logloss: 0.053184\n"
     ]
    },
    {
     "name": "stderr",
     "output_type": "stream",
     "text": [
      "[3.3GB(+0.0GB): 28.788sec] fit F\n"
     ]
    },
    {
     "name": "stdout",
     "output_type": "stream",
     "text": [
      "pos_loss = 3.9425043645261786, floor_loss = 0.01916320664324497\n",
      "fold 1: mean position error 3.9616675711694236\n"
     ]
    },
    {
     "name": "stderr",
     "output_type": "stream",
     "text": [
      "[3.4GB(+0.0GB): 177.657sec] fit X\n"
     ]
    },
    {
     "name": "stdout",
     "output_type": "stream",
     "text": [
      "Training until validation scores don't improve for 200 rounds\n",
      "[200]\ttraining's rmse: 2.9882\tvalid_1's rmse: 4.20308\n",
      "[400]\ttraining's rmse: 2.24452\tvalid_1's rmse: 3.78638\n",
      "[600]\ttraining's rmse: 1.88243\tvalid_1's rmse: 3.61344\n",
      "[800]\ttraining's rmse: 1.65466\tvalid_1's rmse: 3.52126\n",
      "[1000]\ttraining's rmse: 1.49569\tvalid_1's rmse: 3.4699\n",
      "[1200]\ttraining's rmse: 1.37157\tvalid_1's rmse: 3.43334\n",
      "[1400]\ttraining's rmse: 1.26994\tvalid_1's rmse: 3.40603\n",
      "[1600]\ttraining's rmse: 1.18772\tvalid_1's rmse: 3.38458\n",
      "[1800]\ttraining's rmse: 1.11868\tvalid_1's rmse: 3.3733\n",
      "[2000]\ttraining's rmse: 1.05961\tvalid_1's rmse: 3.36152\n",
      "[2200]\ttraining's rmse: 1.00814\tvalid_1's rmse: 3.35172\n",
      "[2400]\ttraining's rmse: 0.962813\tvalid_1's rmse: 3.34383\n",
      "[2600]\ttraining's rmse: 0.921655\tvalid_1's rmse: 3.34034\n",
      "[2800]\ttraining's rmse: 0.884867\tvalid_1's rmse: 3.33779\n",
      "[3000]\ttraining's rmse: 0.851428\tvalid_1's rmse: 3.33133\n",
      "[3200]\ttraining's rmse: 0.821604\tvalid_1's rmse: 3.32822\n",
      "[3400]\ttraining's rmse: 0.793493\tvalid_1's rmse: 3.32568\n",
      "[3600]\ttraining's rmse: 0.76899\tvalid_1's rmse: 3.32466\n",
      "Early stopping, best iteration is:\n",
      "[3572]\ttraining's rmse: 0.772271\tvalid_1's rmse: 3.32305\n"
     ]
    },
    {
     "name": "stderr",
     "output_type": "stream",
     "text": [
      "[3.3GB(-0.0GB): 111.699sec] fit Y\n"
     ]
    },
    {
     "name": "stdout",
     "output_type": "stream",
     "text": [
      "Training until validation scores don't improve for 20 rounds\n",
      "[200]\ttraining's multi_logloss: 0.0485869\tvalid_1's multi_logloss: 0.0570844\n",
      "Early stopping, best iteration is:\n",
      "[303]\ttraining's multi_logloss: 0.047506\tvalid_1's multi_logloss: 0.0559365\n"
     ]
    },
    {
     "name": "stderr",
     "output_type": "stream",
     "text": [
      "[3.4GB(+0.0GB): 16.475sec] fit F\n"
     ]
    },
    {
     "name": "stdout",
     "output_type": "stream",
     "text": [
      "pos_loss = 3.9299230221892625, floor_loss = 0.009581603321622485\n",
      "fold 2: mean position error 3.9395046255108848\n"
     ]
    },
    {
     "name": "stderr",
     "output_type": "stream",
     "text": [
      "[3.3GB(-0.0GB): 208.910sec] fit X\n"
     ]
    },
    {
     "name": "stdout",
     "output_type": "stream",
     "text": [
      "Training until validation scores don't improve for 200 rounds\n",
      "[200]\ttraining's rmse: 2.98923\tvalid_1's rmse: 4.07691\n",
      "[400]\ttraining's rmse: 2.25492\tvalid_1's rmse: 3.6816\n",
      "[600]\ttraining's rmse: 1.89138\tvalid_1's rmse: 3.52985\n",
      "[800]\ttraining's rmse: 1.66253\tvalid_1's rmse: 3.44277\n",
      "[1000]\ttraining's rmse: 1.49982\tvalid_1's rmse: 3.39751\n",
      "[1200]\ttraining's rmse: 1.37549\tvalid_1's rmse: 3.36895\n",
      "[1400]\ttraining's rmse: 1.27618\tvalid_1's rmse: 3.34876\n",
      "[1600]\ttraining's rmse: 1.19403\tvalid_1's rmse: 3.32957\n",
      "[1800]\ttraining's rmse: 1.12531\tvalid_1's rmse: 3.31588\n",
      "[2000]\ttraining's rmse: 1.06644\tvalid_1's rmse: 3.30988\n",
      "[2200]\ttraining's rmse: 1.01591\tvalid_1's rmse: 3.30557\n",
      "[2400]\ttraining's rmse: 0.970359\tvalid_1's rmse: 3.30177\n",
      "[2600]\ttraining's rmse: 0.929358\tvalid_1's rmse: 3.29704\n",
      "[2800]\ttraining's rmse: 0.892645\tvalid_1's rmse: 3.29333\n",
      "[3000]\ttraining's rmse: 0.858976\tvalid_1's rmse: 3.28858\n",
      "[3200]\ttraining's rmse: 0.8295\tvalid_1's rmse: 3.28496\n",
      "[3400]\ttraining's rmse: 0.801885\tvalid_1's rmse: 3.28203\n",
      "[3600]\ttraining's rmse: 0.776167\tvalid_1's rmse: 3.27781\n",
      "[3800]\ttraining's rmse: 0.753082\tvalid_1's rmse: 3.27708\n",
      "[4000]\ttraining's rmse: 0.732435\tvalid_1's rmse: 3.27492\n",
      "[4200]\ttraining's rmse: 0.713626\tvalid_1's rmse: 3.27339\n",
      "[4400]\ttraining's rmse: 0.695242\tvalid_1's rmse: 3.2728\n",
      "[4600]\ttraining's rmse: 0.679017\tvalid_1's rmse: 3.27019\n",
      "[4800]\ttraining's rmse: 0.664489\tvalid_1's rmse: 3.2697\n",
      "Early stopping, best iteration is:\n",
      "[4734]\ttraining's rmse: 0.669327\tvalid_1's rmse: 3.26923\n"
     ]
    },
    {
     "name": "stderr",
     "output_type": "stream",
     "text": [
      "[3.3GB(-0.0GB): 143.293sec] fit Y\n"
     ]
    },
    {
     "name": "stdout",
     "output_type": "stream",
     "text": [
      "Training until validation scores don't improve for 20 rounds\n",
      "[200]\ttraining's multi_logloss: 0.0494193\tvalid_1's multi_logloss: 0.0542841\n",
      "[400]\ttraining's multi_logloss: 0.0480266\tvalid_1's multi_logloss: 0.0527723\n",
      "[600]\ttraining's multi_logloss: 0.0472345\tvalid_1's multi_logloss: 0.0519318\n",
      "Early stopping, best iteration is:\n",
      "[663]\ttraining's multi_logloss: 0.0470641\tvalid_1's multi_logloss: 0.0517397\n"
     ]
    },
    {
     "name": "stderr",
     "output_type": "stream",
     "text": [
      "[3.3GB(+0.0GB): 31.258sec] fit F\n"
     ]
    },
    {
     "name": "stdout",
     "output_type": "stream",
     "text": [
      "pos_loss = 3.9112041628016057, floor_loss = 0.0\n",
      "fold 3: mean position error 3.9112041628016057\n"
     ]
    },
    {
     "name": "stderr",
     "output_type": "stream",
     "text": [
      "[3.3GB(-0.0GB): 225.627sec] fit X\n"
     ]
    },
    {
     "name": "stdout",
     "output_type": "stream",
     "text": [
      "Training until validation scores don't improve for 200 rounds\n",
      "[200]\ttraining's rmse: 3.00733\tvalid_1's rmse: 4.16511\n",
      "[400]\ttraining's rmse: 2.2632\tvalid_1's rmse: 3.75282\n",
      "[600]\ttraining's rmse: 1.90237\tvalid_1's rmse: 3.59918\n",
      "[800]\ttraining's rmse: 1.67599\tvalid_1's rmse: 3.51852\n",
      "[1000]\ttraining's rmse: 1.51416\tvalid_1's rmse: 3.46793\n",
      "[1200]\ttraining's rmse: 1.38968\tvalid_1's rmse: 3.43081\n",
      "[1400]\ttraining's rmse: 1.2904\tvalid_1's rmse: 3.40388\n",
      "[1600]\ttraining's rmse: 1.20742\tvalid_1's rmse: 3.38616\n",
      "[1800]\ttraining's rmse: 1.13766\tvalid_1's rmse: 3.36964\n",
      "[2000]\ttraining's rmse: 1.07757\tvalid_1's rmse: 3.3583\n",
      "[2200]\ttraining's rmse: 1.02507\tvalid_1's rmse: 3.35034\n",
      "[2400]\ttraining's rmse: 0.978769\tvalid_1's rmse: 3.34549\n",
      "[2600]\ttraining's rmse: 0.938092\tvalid_1's rmse: 3.3386\n",
      "[2800]\ttraining's rmse: 0.900825\tvalid_1's rmse: 3.33096\n",
      "[3000]\ttraining's rmse: 0.867528\tvalid_1's rmse: 3.3262\n",
      "[3200]\ttraining's rmse: 0.837068\tvalid_1's rmse: 3.3224\n",
      "[3400]\ttraining's rmse: 0.809862\tvalid_1's rmse: 3.31886\n",
      "[3600]\ttraining's rmse: 0.784785\tvalid_1's rmse: 3.31705\n",
      "[3800]\ttraining's rmse: 0.76186\tvalid_1's rmse: 3.31295\n",
      "[4000]\ttraining's rmse: 0.741246\tvalid_1's rmse: 3.31096\n",
      "[4200]\ttraining's rmse: 0.721835\tvalid_1's rmse: 3.30973\n",
      "Early stopping, best iteration is:\n",
      "[4128]\ttraining's rmse: 0.728773\tvalid_1's rmse: 3.30858\n"
     ]
    },
    {
     "name": "stderr",
     "output_type": "stream",
     "text": [
      "[3.3GB(+0.0GB): 126.833sec] fit Y\n"
     ]
    },
    {
     "name": "stdout",
     "output_type": "stream",
     "text": [
      "Training until validation scores don't improve for 20 rounds\n",
      "[200]\ttraining's multi_logloss: 0.0494483\tvalid_1's multi_logloss: 0.0528712\n",
      "[400]\ttraining's multi_logloss: 0.0475755\tvalid_1's multi_logloss: 0.0509151\n",
      "Early stopping, best iteration is:\n",
      "[555]\ttraining's multi_logloss: 0.04682\tvalid_1's multi_logloss: 0.0501344\n"
     ]
    },
    {
     "name": "stderr",
     "output_type": "stream",
     "text": [
      "[3.3GB(+0.0GB): 26.742sec] fit F\n"
     ]
    },
    {
     "name": "stdout",
     "output_type": "stream",
     "text": [
      "pos_loss = 3.948292951725049, floor_loss = 0.0\n",
      "fold 4: mean position error 3.948292951725049\n",
      "*+*+*+*+*+*+*+*+*+*+*+*+*+*+*+*+*+*+*+*+*+*+*+*+*+*+*+*+*+*+*+*+*+*+*+*+*+*+*+*+\n",
      "file #23, shape=(15655, 4868), name=5dc8cea7659e181adb076a3f_train.csv\n",
      "pos_loss = 3.9453964946800624, floor_loss = 0.008623442989460236\n",
      "mean position error 3.9540199376695226\n",
      "*+*+*+*+*+*+*+*+*+*+*+*+*+*+*+*+*+*+*+*+*+*+*+*+*+*+*+*+*+*+*+*+*+*+*+*+*+*+*+*+\n"
     ]
    }
   ],
   "source": [
    "# ------------------------------------------------------------------------------\n",
    "# Training and inference\n",
    "# ------------------------------------------------------------------------------\n",
    "score_df = pd.DataFrame()\n",
    "oof = list()\n",
    "predictions = list()\n",
    "for n_files, file in enumerate(train_files):\n",
    "    data = pd.read_csv(file, index_col=0)\n",
    "    test_data = pd.read_csv(test_files[n_files], index_col=0)\n",
    "    \n",
    "#     floor_pred = data.merge(oof_floor, how='left', on='path')['floor_pred'].map(floor_dict)\n",
    "#     data.insert(0, 'floor_pred', floor_pred)\n",
    "\n",
    "#     test_floor_pred = test_data.merge(sub_floor, how='left', on='site_path_timestamp')['floor']\n",
    "#     test_data.insert(0, 'floor_pred', test_floor_pred)\n",
    "\n",
    "    oof_x, oof_y, oof_f = np.zeros(data.shape[0]), np.zeros(data.shape[0]), np.zeros(data.shape[0])\n",
    "    preds_x, preds_y = 0, 0\n",
    "    preds_f_arr = np.zeros((test_data.shape[0], N_SPLITS))\n",
    "\n",
    "    kf = KFold(n_splits=N_SPLITS, shuffle=True, random_state=SEED)\n",
    "    for fold, (trn_idx, val_idx) in enumerate(kf.split(data.iloc[:, :-4])):\n",
    "        X_train = data.iloc[trn_idx, :-4]\n",
    "        y_trainx = data.iloc[trn_idx, -4]\n",
    "        y_trainy = data.iloc[trn_idx, -3]\n",
    "        y_trainf = data.iloc[trn_idx, -2]\n",
    "\n",
    "        X_valid = data.iloc[val_idx, :-4]\n",
    "        y_validx = data.iloc[val_idx, -4]\n",
    "        y_validy = data.iloc[val_idx, -3]\n",
    "        y_validf = data.iloc[val_idx, -2]\n",
    "\n",
    "        modelx = lgb.LGBMRegressor(**lgb_params)\n",
    "        with timer(\"fit X\"):\n",
    "            modelx.fit(X_train, y_trainx,\n",
    "                       eval_set=[(X_train, y_trainx), (X_valid, y_validx)],\n",
    "                       eval_metric='rmse',\n",
    "                       verbose=False,\n",
    "                       early_stopping_rounds=200\n",
    "                       )\n",
    "\n",
    "        modely = lgb.LGBMRegressor(**lgb_params)\n",
    "        with timer(\"fit Y\"):\n",
    "            modely.fit(X_train, y_trainy,\n",
    "                       eval_set=[(X_train, y_trainy), (X_valid, y_validy)],\n",
    "                       eval_metric='rmse',\n",
    "                       verbose=200,\n",
    "                       early_stopping_rounds=200,\n",
    "                       )\n",
    "\n",
    "        modelf = lgb.LGBMClassifier(**lgb_f_params)\n",
    "        with timer(\"fit F\"):\n",
    "            modelf.fit(X_train, y_trainf,\n",
    "                       eval_set=[(X_train, y_trainf), (X_valid, y_validf)],\n",
    "                       eval_metric='multi_logloss',\n",
    "                       verbose=200,\n",
    "                       early_stopping_rounds=20,\n",
    "                       )\n",
    "\n",
    "        oof_x[val_idx] = modelx.predict(X_valid)\n",
    "        oof_y[val_idx] = modely.predict(X_valid)\n",
    "#         oof_f[val_idx] = floor_pred[val_idx]\n",
    "        oof_f[val_idx] = modelf.predict(X_valid).astype(int)\n",
    "\n",
    "        preds_x += modelx.predict(test_data.iloc[:, :-1]) / N_SPLITS\n",
    "        preds_y += modely.predict(test_data.iloc[:, :-1]) / N_SPLITS\n",
    "#         preds_f_arr[:, fold] = test_floor_pred\n",
    "        preds_f_arr[:, fold] = modelf.predict(test_data.iloc[:, :-1]).astype(int)\n",
    "\n",
    "        score = comp_metric(oof_x[val_idx], oof_y[val_idx], oof_f[val_idx],\n",
    "                            y_validx.to_numpy(), y_validy.to_numpy(), y_validf.to_numpy())\n",
    "        print(f\"fold {fold}: mean position error {score}\")\n",
    "        score_df = score_log(score_df, n_files, os.path.basename(file), data.shape, fold, SEED, score)\n",
    "\n",
    "    print(\"*+\"*40)\n",
    "    print(f\"file #{n_files}, shape={data.shape}, name={os.path.basename(file)}\")\n",
    "    score = comp_metric(oof_x, oof_y, oof_f,\n",
    "                        data.iloc[:, -4].to_numpy(), data.iloc[:, -3].to_numpy(), data.iloc[:, -2].to_numpy())\n",
    "    oof.append(score)\n",
    "    print(f\"mean position error {score}\")\n",
    "    print(\"*+\"*40)\n",
    "    score_df = score_log(score_df, n_files, os.path.basename(file), data.shape, 999, SEED, score)\n",
    "\n",
    "    preds_f_mode = stats.mode(preds_f_arr, axis=1)\n",
    "    preds_f = preds_f_mode[0].astype(int).reshape(-1)\n",
    "    test_preds = pd.DataFrame(np.stack((preds_f, preds_x, preds_y))).T\n",
    "    test_preds.columns = subm.columns\n",
    "    test_preds.index = test_data[\"site_path_timestamp\"]\n",
    "    test_preds[\"floor\"] = test_preds[\"floor\"].astype(int)\n",
    "    predictions.append(test_preds)\n",
    "\n",
    "    oof_df = pd.DataFrame(np.array([oof_x, oof_y, oof_f, data['path'].values]).T, columns=['x', 'y', 'floor', 'path'])\n",
    "    f_name = file.split('/')[-1].split('_')[0]\n",
    "    oof_df.to_csv(str(OUTPUT_DIR) + f'/oof_{f_name}.csv', index=False)\n",
    "    \n",
    "#     break"
   ]
  },
  {
   "cell_type": "code",
   "execution_count": 16,
   "id": "major-specific",
   "metadata": {},
   "outputs": [],
   "source": [
    "# ------------------------------------------------------------------------------\n",
    "# Submit the result\n",
    "# ------------------------------------------------------------------------------\n",
    "all_preds = pd.concat(predictions)\n",
    "all_preds = all_preds.reindex(subm.index)\n",
    "all_preds.to_csv(str(OUTPUT_DIR) + f'/sub_{EXP_NUM}.csv')"
   ]
  },
  {
   "cell_type": "code",
   "execution_count": 17,
   "id": "educational-passion",
   "metadata": {},
   "outputs": [
    {
     "data": {
      "text/html": [
       "<div>\n",
       "<style scoped>\n",
       "    .dataframe tbody tr th:only-of-type {\n",
       "        vertical-align: middle;\n",
       "    }\n",
       "\n",
       "    .dataframe tbody tr th {\n",
       "        vertical-align: top;\n",
       "    }\n",
       "\n",
       "    .dataframe thead th {\n",
       "        text-align: right;\n",
       "    }\n",
       "</style>\n",
       "<table border=\"1\" class=\"dataframe\">\n",
       "  <thead>\n",
       "    <tr style=\"text-align: right;\">\n",
       "      <th></th>\n",
       "      <th>floor</th>\n",
       "      <th>x</th>\n",
       "      <th>y</th>\n",
       "    </tr>\n",
       "    <tr>\n",
       "      <th>site_path_timestamp</th>\n",
       "      <th></th>\n",
       "      <th></th>\n",
       "      <th></th>\n",
       "    </tr>\n",
       "  </thead>\n",
       "  <tbody>\n",
       "    <tr>\n",
       "      <th>5a0546857ecc773753327266_046cfa46be49fc10834815c6_0000000000009</th>\n",
       "      <td>0</td>\n",
       "      <td>92.329863</td>\n",
       "      <td>99.410343</td>\n",
       "    </tr>\n",
       "    <tr>\n",
       "      <th>5a0546857ecc773753327266_046cfa46be49fc10834815c6_0000000009017</th>\n",
       "      <td>0</td>\n",
       "      <td>91.811689</td>\n",
       "      <td>100.795029</td>\n",
       "    </tr>\n",
       "    <tr>\n",
       "      <th>5a0546857ecc773753327266_046cfa46be49fc10834815c6_0000000015326</th>\n",
       "      <td>0</td>\n",
       "      <td>88.700939</td>\n",
       "      <td>105.008564</td>\n",
       "    </tr>\n",
       "    <tr>\n",
       "      <th>5a0546857ecc773753327266_046cfa46be49fc10834815c6_0000000018763</th>\n",
       "      <td>0</td>\n",
       "      <td>89.456004</td>\n",
       "      <td>105.981002</td>\n",
       "    </tr>\n",
       "    <tr>\n",
       "      <th>5a0546857ecc773753327266_046cfa46be49fc10834815c6_0000000022328</th>\n",
       "      <td>0</td>\n",
       "      <td>91.820275</td>\n",
       "      <td>110.770097</td>\n",
       "    </tr>\n",
       "    <tr>\n",
       "      <th>...</th>\n",
       "      <td>...</td>\n",
       "      <td>...</td>\n",
       "      <td>...</td>\n",
       "    </tr>\n",
       "    <tr>\n",
       "      <th>5dc8cea7659e181adb076a3f_fd64de8c4a2fc5ebb0e9f412_0000000082589</th>\n",
       "      <td>5</td>\n",
       "      <td>214.369331</td>\n",
       "      <td>94.452280</td>\n",
       "    </tr>\n",
       "    <tr>\n",
       "      <th>5dc8cea7659e181adb076a3f_fd64de8c4a2fc5ebb0e9f412_0000000085758</th>\n",
       "      <td>5</td>\n",
       "      <td>215.222859</td>\n",
       "      <td>97.884935</td>\n",
       "    </tr>\n",
       "    <tr>\n",
       "      <th>5dc8cea7659e181adb076a3f_fd64de8c4a2fc5ebb0e9f412_0000000090895</th>\n",
       "      <td>5</td>\n",
       "      <td>204.806278</td>\n",
       "      <td>107.434060</td>\n",
       "    </tr>\n",
       "    <tr>\n",
       "      <th>5dc8cea7659e181adb076a3f_fd64de8c4a2fc5ebb0e9f412_0000000096899</th>\n",
       "      <td>5</td>\n",
       "      <td>204.712428</td>\n",
       "      <td>111.491442</td>\n",
       "    </tr>\n",
       "    <tr>\n",
       "      <th>5dc8cea7659e181adb076a3f_fd64de8c4a2fc5ebb0e9f412_0000000100447</th>\n",
       "      <td>5</td>\n",
       "      <td>205.154645</td>\n",
       "      <td>110.855794</td>\n",
       "    </tr>\n",
       "  </tbody>\n",
       "</table>\n",
       "<p>10133 rows × 3 columns</p>\n",
       "</div>"
      ],
      "text/plain": [
       "                                                    floor           x  \\\n",
       "site_path_timestamp                                                     \n",
       "5a0546857ecc773753327266_046cfa46be49fc10834815...      0   92.329863   \n",
       "5a0546857ecc773753327266_046cfa46be49fc10834815...      0   91.811689   \n",
       "5a0546857ecc773753327266_046cfa46be49fc10834815...      0   88.700939   \n",
       "5a0546857ecc773753327266_046cfa46be49fc10834815...      0   89.456004   \n",
       "5a0546857ecc773753327266_046cfa46be49fc10834815...      0   91.820275   \n",
       "...                                                   ...         ...   \n",
       "5dc8cea7659e181adb076a3f_fd64de8c4a2fc5ebb0e9f4...      5  214.369331   \n",
       "5dc8cea7659e181adb076a3f_fd64de8c4a2fc5ebb0e9f4...      5  215.222859   \n",
       "5dc8cea7659e181adb076a3f_fd64de8c4a2fc5ebb0e9f4...      5  204.806278   \n",
       "5dc8cea7659e181adb076a3f_fd64de8c4a2fc5ebb0e9f4...      5  204.712428   \n",
       "5dc8cea7659e181adb076a3f_fd64de8c4a2fc5ebb0e9f4...      5  205.154645   \n",
       "\n",
       "                                                             y  \n",
       "site_path_timestamp                                             \n",
       "5a0546857ecc773753327266_046cfa46be49fc10834815...   99.410343  \n",
       "5a0546857ecc773753327266_046cfa46be49fc10834815...  100.795029  \n",
       "5a0546857ecc773753327266_046cfa46be49fc10834815...  105.008564  \n",
       "5a0546857ecc773753327266_046cfa46be49fc10834815...  105.981002  \n",
       "5a0546857ecc773753327266_046cfa46be49fc10834815...  110.770097  \n",
       "...                                                        ...  \n",
       "5dc8cea7659e181adb076a3f_fd64de8c4a2fc5ebb0e9f4...   94.452280  \n",
       "5dc8cea7659e181adb076a3f_fd64de8c4a2fc5ebb0e9f4...   97.884935  \n",
       "5dc8cea7659e181adb076a3f_fd64de8c4a2fc5ebb0e9f4...  107.434060  \n",
       "5dc8cea7659e181adb076a3f_fd64de8c4a2fc5ebb0e9f4...  111.491442  \n",
       "5dc8cea7659e181adb076a3f_fd64de8c4a2fc5ebb0e9f4...  110.855794  \n",
       "\n",
       "[10133 rows x 3 columns]"
      ]
     },
     "execution_count": 17,
     "metadata": {},
     "output_type": "execute_result"
    }
   ],
   "source": [
    "all_preds"
   ]
  },
  {
   "cell_type": "markdown",
   "id": "arbitrary-workshop",
   "metadata": {},
   "source": [
    "## Calc oof score"
   ]
  },
  {
   "cell_type": "code",
   "execution_count": 24,
   "id": "inclusive-making",
   "metadata": {},
   "outputs": [
    {
     "data": {
      "text/plain": [
       "24"
      ]
     },
     "execution_count": 24,
     "metadata": {},
     "output_type": "execute_result"
    }
   ],
   "source": [
    "oof_df_path = sorted(glob.glob(str(OUTPUT_DIR / 'oof*.csv')))\n",
    "len(oof_df_path)"
   ]
  },
  {
   "cell_type": "code",
   "execution_count": 25,
   "id": "conservative-melbourne",
   "metadata": {},
   "outputs": [
    {
     "data": {
      "text/html": [
       "<div>\n",
       "<style scoped>\n",
       "    .dataframe tbody tr th:only-of-type {\n",
       "        vertical-align: middle;\n",
       "    }\n",
       "\n",
       "    .dataframe tbody tr th {\n",
       "        vertical-align: top;\n",
       "    }\n",
       "\n",
       "    .dataframe thead th {\n",
       "        text-align: right;\n",
       "    }\n",
       "</style>\n",
       "<table border=\"1\" class=\"dataframe\">\n",
       "  <thead>\n",
       "    <tr style=\"text-align: right;\">\n",
       "      <th></th>\n",
       "      <th>x</th>\n",
       "      <th>y</th>\n",
       "      <th>floor</th>\n",
       "      <th>path</th>\n",
       "    </tr>\n",
       "  </thead>\n",
       "  <tbody>\n",
       "    <tr>\n",
       "      <th>0</th>\n",
       "      <td>109.023089</td>\n",
       "      <td>161.685692</td>\n",
       "      <td>-1.0</td>\n",
       "      <td>5e1580adf4c3420006d520d4</td>\n",
       "    </tr>\n",
       "    <tr>\n",
       "      <th>1</th>\n",
       "      <td>107.904264</td>\n",
       "      <td>161.164047</td>\n",
       "      <td>-1.0</td>\n",
       "      <td>5e1580adf4c3420006d520d4</td>\n",
       "    </tr>\n",
       "    <tr>\n",
       "      <th>2</th>\n",
       "      <td>101.325084</td>\n",
       "      <td>162.644569</td>\n",
       "      <td>-1.0</td>\n",
       "      <td>5e1580adf4c3420006d520d4</td>\n",
       "    </tr>\n",
       "    <tr>\n",
       "      <th>3</th>\n",
       "      <td>102.796958</td>\n",
       "      <td>164.674496</td>\n",
       "      <td>-1.0</td>\n",
       "      <td>5e1580adf4c3420006d520d4</td>\n",
       "    </tr>\n",
       "    <tr>\n",
       "      <th>4</th>\n",
       "      <td>101.477321</td>\n",
       "      <td>162.405832</td>\n",
       "      <td>-1.0</td>\n",
       "      <td>5e1580adf4c3420006d520d4</td>\n",
       "    </tr>\n",
       "    <tr>\n",
       "      <th>...</th>\n",
       "      <td>...</td>\n",
       "      <td>...</td>\n",
       "      <td>...</td>\n",
       "      <td>...</td>\n",
       "    </tr>\n",
       "    <tr>\n",
       "      <th>15650</th>\n",
       "      <td>127.017785</td>\n",
       "      <td>124.909642</td>\n",
       "      <td>6.0</td>\n",
       "      <td>5dcd5c88a4dbe7000630b084</td>\n",
       "    </tr>\n",
       "    <tr>\n",
       "      <th>15651</th>\n",
       "      <td>127.691624</td>\n",
       "      <td>123.956565</td>\n",
       "      <td>6.0</td>\n",
       "      <td>5dcd5c88a4dbe7000630b084</td>\n",
       "    </tr>\n",
       "    <tr>\n",
       "      <th>15652</th>\n",
       "      <td>126.019920</td>\n",
       "      <td>123.564583</td>\n",
       "      <td>6.0</td>\n",
       "      <td>5dcd5c88a4dbe7000630b084</td>\n",
       "    </tr>\n",
       "    <tr>\n",
       "      <th>15653</th>\n",
       "      <td>126.256238</td>\n",
       "      <td>123.119915</td>\n",
       "      <td>6.0</td>\n",
       "      <td>5dcd5c88a4dbe7000630b084</td>\n",
       "    </tr>\n",
       "    <tr>\n",
       "      <th>15654</th>\n",
       "      <td>124.525796</td>\n",
       "      <td>121.405540</td>\n",
       "      <td>6.0</td>\n",
       "      <td>5dcd5c88a4dbe7000630b084</td>\n",
       "    </tr>\n",
       "  </tbody>\n",
       "</table>\n",
       "<p>258125 rows × 4 columns</p>\n",
       "</div>"
      ],
      "text/plain": [
       "                x           y  floor                      path\n",
       "0      109.023089  161.685692   -1.0  5e1580adf4c3420006d520d4\n",
       "1      107.904264  161.164047   -1.0  5e1580adf4c3420006d520d4\n",
       "2      101.325084  162.644569   -1.0  5e1580adf4c3420006d520d4\n",
       "3      102.796958  164.674496   -1.0  5e1580adf4c3420006d520d4\n",
       "4      101.477321  162.405832   -1.0  5e1580adf4c3420006d520d4\n",
       "...           ...         ...    ...                       ...\n",
       "15650  127.017785  124.909642    6.0  5dcd5c88a4dbe7000630b084\n",
       "15651  127.691624  123.956565    6.0  5dcd5c88a4dbe7000630b084\n",
       "15652  126.019920  123.564583    6.0  5dcd5c88a4dbe7000630b084\n",
       "15653  126.256238  123.119915    6.0  5dcd5c88a4dbe7000630b084\n",
       "15654  124.525796  121.405540    6.0  5dcd5c88a4dbe7000630b084\n",
       "\n",
       "[258125 rows x 4 columns]"
      ]
     },
     "execution_count": 25,
     "metadata": {},
     "output_type": "execute_result"
    }
   ],
   "source": [
    "oof_df = []\n",
    "for path in oof_df_path:\n",
    "    oof_df.append(pd.read_csv(path))\n",
    "oof_df = pd.concat(oof_df)\n",
    "oof_df"
   ]
  },
  {
   "cell_type": "code",
   "execution_count": 26,
   "id": "robust-feelings",
   "metadata": {},
   "outputs": [
    {
     "data": {
      "text/plain": [
       "24"
      ]
     },
     "execution_count": 26,
     "metadata": {},
     "output_type": "execute_result"
    }
   ],
   "source": [
    "train_csv_path = sorted(glob.glob(str(WIFI_DIR / '*train.csv')))\n",
    "len(train_csv_path)"
   ]
  },
  {
   "cell_type": "code",
   "execution_count": 27,
   "id": "architectural-warner",
   "metadata": {},
   "outputs": [
    {
     "data": {
      "text/html": [
       "<div>\n",
       "<style scoped>\n",
       "    .dataframe tbody tr th:only-of-type {\n",
       "        vertical-align: middle;\n",
       "    }\n",
       "\n",
       "    .dataframe tbody tr th {\n",
       "        vertical-align: top;\n",
       "    }\n",
       "\n",
       "    .dataframe thead th {\n",
       "        text-align: right;\n",
       "    }\n",
       "</style>\n",
       "<table border=\"1\" class=\"dataframe\">\n",
       "  <thead>\n",
       "    <tr style=\"text-align: right;\">\n",
       "      <th></th>\n",
       "      <th>x</th>\n",
       "      <th>y</th>\n",
       "      <th>f</th>\n",
       "      <th>path</th>\n",
       "    </tr>\n",
       "  </thead>\n",
       "  <tbody>\n",
       "    <tr>\n",
       "      <th>0</th>\n",
       "      <td>107.85044</td>\n",
       "      <td>161.892620</td>\n",
       "      <td>-1</td>\n",
       "      <td>5e1580adf4c3420006d520d4</td>\n",
       "    </tr>\n",
       "    <tr>\n",
       "      <th>1</th>\n",
       "      <td>107.85044</td>\n",
       "      <td>161.892620</td>\n",
       "      <td>-1</td>\n",
       "      <td>5e1580adf4c3420006d520d4</td>\n",
       "    </tr>\n",
       "    <tr>\n",
       "      <th>2</th>\n",
       "      <td>98.33065</td>\n",
       "      <td>163.343340</td>\n",
       "      <td>-1</td>\n",
       "      <td>5e1580adf4c3420006d520d4</td>\n",
       "    </tr>\n",
       "    <tr>\n",
       "      <th>3</th>\n",
       "      <td>98.33065</td>\n",
       "      <td>163.343340</td>\n",
       "      <td>-1</td>\n",
       "      <td>5e1580adf4c3420006d520d4</td>\n",
       "    </tr>\n",
       "    <tr>\n",
       "      <th>4</th>\n",
       "      <td>98.33065</td>\n",
       "      <td>163.343340</td>\n",
       "      <td>-1</td>\n",
       "      <td>5e1580adf4c3420006d520d4</td>\n",
       "    </tr>\n",
       "    <tr>\n",
       "      <th>...</th>\n",
       "      <td>...</td>\n",
       "      <td>...</td>\n",
       "      <td>...</td>\n",
       "      <td>...</td>\n",
       "    </tr>\n",
       "    <tr>\n",
       "      <th>15650</th>\n",
       "      <td>122.68994</td>\n",
       "      <td>124.028015</td>\n",
       "      <td>6</td>\n",
       "      <td>5dcd5c88a4dbe7000630b084</td>\n",
       "    </tr>\n",
       "    <tr>\n",
       "      <th>15651</th>\n",
       "      <td>127.17589</td>\n",
       "      <td>123.677780</td>\n",
       "      <td>6</td>\n",
       "      <td>5dcd5c88a4dbe7000630b084</td>\n",
       "    </tr>\n",
       "    <tr>\n",
       "      <th>15652</th>\n",
       "      <td>127.17589</td>\n",
       "      <td>123.677780</td>\n",
       "      <td>6</td>\n",
       "      <td>5dcd5c88a4dbe7000630b084</td>\n",
       "    </tr>\n",
       "    <tr>\n",
       "      <th>15653</th>\n",
       "      <td>127.17589</td>\n",
       "      <td>123.677780</td>\n",
       "      <td>6</td>\n",
       "      <td>5dcd5c88a4dbe7000630b084</td>\n",
       "    </tr>\n",
       "    <tr>\n",
       "      <th>15654</th>\n",
       "      <td>130.08112</td>\n",
       "      <td>122.490820</td>\n",
       "      <td>6</td>\n",
       "      <td>5dcd5c88a4dbe7000630b084</td>\n",
       "    </tr>\n",
       "  </tbody>\n",
       "</table>\n",
       "<p>258125 rows × 4 columns</p>\n",
       "</div>"
      ],
      "text/plain": [
       "               x           y  f                      path\n",
       "0      107.85044  161.892620 -1  5e1580adf4c3420006d520d4\n",
       "1      107.85044  161.892620 -1  5e1580adf4c3420006d520d4\n",
       "2       98.33065  163.343340 -1  5e1580adf4c3420006d520d4\n",
       "3       98.33065  163.343340 -1  5e1580adf4c3420006d520d4\n",
       "4       98.33065  163.343340 -1  5e1580adf4c3420006d520d4\n",
       "...          ...         ... ..                       ...\n",
       "15650  122.68994  124.028015  6  5dcd5c88a4dbe7000630b084\n",
       "15651  127.17589  123.677780  6  5dcd5c88a4dbe7000630b084\n",
       "15652  127.17589  123.677780  6  5dcd5c88a4dbe7000630b084\n",
       "15653  127.17589  123.677780  6  5dcd5c88a4dbe7000630b084\n",
       "15654  130.08112  122.490820  6  5dcd5c88a4dbe7000630b084\n",
       "\n",
       "[258125 rows x 4 columns]"
      ]
     },
     "execution_count": 27,
     "metadata": {},
     "output_type": "execute_result"
    }
   ],
   "source": [
    "train_df = []\n",
    "for path in train_csv_path:\n",
    "    train_df.append(pd.read_csv(path)[['x', 'y', 'f', 'path']])\n",
    "train_df = pd.concat(train_df)\n",
    "train_df"
   ]
  },
  {
   "cell_type": "code",
   "execution_count": 28,
   "id": "confident-short",
   "metadata": {},
   "outputs": [
    {
     "name": "stdout",
     "output_type": "stream",
     "text": [
      "pos_loss = 3.2933118789323723, floor_loss = 0.010169491525423728\n"
     ]
    },
    {
     "data": {
      "text/plain": [
       "3.303481370457796"
      ]
     },
     "execution_count": 28,
     "metadata": {},
     "output_type": "execute_result"
    }
   ],
   "source": [
    "oof_score = comp_metric(oof_df['x'], oof_df['y'], oof_df['floor'],\n",
    "                            train_df['x'], train_df['y'], train_df['f'])\n",
    "oof_score"
   ]
  },
  {
   "cell_type": "code",
   "execution_count": null,
   "id": "declared-gates",
   "metadata": {},
   "outputs": [],
   "source": []
  },
  {
   "cell_type": "code",
   "execution_count": 23,
   "id": "phantom-vacuum",
   "metadata": {},
   "outputs": [],
   "source": [
    "if IS_SAVE == True:\n",
    "    mlflow.log_artifact(str(OUTPUT_DIR) + f'/sub_{EXP_NUM}.csv')\n",
    "    mlflow.log_metric(\"oof_score\", oof_score)\n",
    "    mlflow.end_run()"
   ]
  },
  {
   "cell_type": "code",
   "execution_count": null,
   "id": "promising-benchmark",
   "metadata": {},
   "outputs": [],
   "source": []
  }
 ],
 "metadata": {
  "kernelspec": {
   "display_name": "Python 3",
   "language": "python",
   "name": "python3"
  },
  "language_info": {
   "codemirror_mode": {
    "name": "ipython",
    "version": 3
   },
   "file_extension": ".py",
   "mimetype": "text/x-python",
   "name": "python",
   "nbconvert_exporter": "python",
   "pygments_lexer": "ipython3",
   "version": "3.6.13"
  }
 },
 "nbformat": 4,
 "nbformat_minor": 5
}
