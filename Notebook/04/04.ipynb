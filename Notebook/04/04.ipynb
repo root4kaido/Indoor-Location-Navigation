{
 "cells": [
  {
   "cell_type": "markdown",
   "id": "effective-camping",
   "metadata": {},
   "source": [
    "# mlflow"
   ]
  },
  {
   "cell_type": "code",
   "execution_count": 1,
   "id": "purple-diesel",
   "metadata": {},
   "outputs": [],
   "source": [
    "import mlflow\n",
    "import mlflow.lightgbm\n",
    "import contextlib\n",
    "import ipykernel\n",
    "from notebook import notebookapp\n",
    "import urllib\n",
    "import json"
   ]
  },
  {
   "cell_type": "code",
   "execution_count": 2,
   "id": "threatened-crest",
   "metadata": {},
   "outputs": [],
   "source": [
    "def get_notebook_path():\n",
    "    '''\n",
    "    mlflow に notebook をそのまま保存する際に notebook のパスを取得するのに使います。\n",
    "    単純にファイル名が取れないためかなりややこしいことになっています。\n",
    "    使用するには jupyterlab が token ありで起動していないといけません。\n",
    "    '''\n",
    "    connection_file = os.path.basename(ipykernel.get_connection_file())\n",
    "    kernel_id = connection_file.split('-', 1)[1].split('.')[0]\n",
    "\n",
    "    for server in notebookapp.list_running_servers():\n",
    "        try:\n",
    "            if server['token'] == '' and not server['password']:  # No token and no password, ahem...\n",
    "                req = urllib.request.urlopen(server['url'] + 'api/sessions')\n",
    "            elif server['token'] != '':\n",
    "                req = urllib.request.urlopen(server['url'] + 'api/sessions?token=' + server['token'])\n",
    "            else:\n",
    "                continue\n",
    "            sessions = json.load(req)\n",
    "            for sess in sessions:\n",
    "                if sess['kernel']['id'] == kernel_id:\n",
    "                    return os.path.join(server['notebook_dir'], sess['notebook']['path'])\n",
    "        except Exception:\n",
    "            raise\n",
    "    raise EnvironmentError('JupyterLab の token を指定するか、パスワードを無効化してください。')"
   ]
  },
  {
   "cell_type": "code",
   "execution_count": 3,
   "id": "composed-manhattan",
   "metadata": {},
   "outputs": [],
   "source": [
    "class MLLogger:\n",
    "    ...\n",
    "\n",
    "    @contextlib.contextmanager\n",
    "    def start(self, experiment_name: str, run_name: str) -> None:\n",
    "        mlflow.set_experiment(experiment_name)\n",
    "        with mlflow.start_run(run_name=run_name):\n",
    "#             self.log_running()\n",
    "#             self.log_user(self._user)\n",
    "#             self.log_notebook()  # <- ここで notebook をアップロード\n",
    "            try:\n",
    "                yield\n",
    "                self.log_notebook()  # <- ここで notebook をアップロード\n",
    "#                 mlflow.log_success()\n",
    "            except (Exception, KeyboardInterrupt):\n",
    "#                 mlflow.log_failure()\n",
    "                raise\n",
    "    ...\n"
   ]
  },
  {
   "cell_type": "code",
   "execution_count": 4,
   "id": "departmental-stationery",
   "metadata": {},
   "outputs": [],
   "source": [
    "def log_notebook():\n",
    "    '''\n",
    "    notebook を mlflow に保存します。\n",
    "    '''\n",
    "    notebook = get_notebook_path()  # notebook のパスを取得\n",
    "    mlflow.log_artifact(notebook)  # mlflow.log_artifact(file) を呼んでるだけ"
   ]
  },
  {
   "cell_type": "markdown",
   "id": "included-specification",
   "metadata": {},
   "source": [
    "# Import"
   ]
  },
  {
   "cell_type": "code",
   "execution_count": 5,
   "id": "greatest-separation",
   "metadata": {},
   "outputs": [],
   "source": [
    "# ------------------------------------------------------------------------------\n",
    "# Import libraries\n",
    "# ------------------------------------------------------------------------------\n",
    "import numpy as np\n",
    "import pandas as pd\n",
    "import scipy.stats as stats\n",
    "from pathlib import Path\n",
    "import glob\n",
    "\n",
    "from sklearn.model_selection import KFold, GroupKFold\n",
    "import lightgbm as lgb\n",
    "\n",
    "import psutil\n",
    "import random\n",
    "import os\n",
    "import time\n",
    "import sys\n",
    "import math\n",
    "from contextlib import contextmanager\n",
    "import glob\n"
   ]
  },
  {
   "cell_type": "markdown",
   "id": "partial-scale",
   "metadata": {},
   "source": [
    "# Setting"
   ]
  },
  {
   "cell_type": "code",
   "execution_count": 6,
   "id": "cubic-signal",
   "metadata": {},
   "outputs": [],
   "source": [
    "# ------------------------------------------------------------------------------\n",
    "# File path definition\n",
    "# ------------------------------------------------------------------------------\n",
    "DATA_DIR = Path(\"/home/knikaido/work/Indoor-Location-Navigation/data/\")\n",
    "WIFI_DIR = DATA_DIR / 'indoor-navigation-and-location-wifi-features'\n",
    "MLFLOW_DIR = DATA_DIR / 'mlflow/mlruns'\n",
    "OUTPUT_DIR = Path('./output/')\n",
    "\n",
    "LOG_PATH = OUTPUT_DIR / \"log\"\n",
    "LOG_PATH.mkdir(parents=True, exist_ok=True)"
   ]
  },
  {
   "cell_type": "code",
   "execution_count": 7,
   "id": "german-responsibility",
   "metadata": {},
   "outputs": [],
   "source": [
    "floor_dict = {'B1':-1, 'F1':0, 'F2':1 , 'F3':2, 'F4':3, 'F5':4, 'F6':5, 'F7':6, 'B2':-2, '1F':0, '2F':1,\n",
    "       '3F':2, '4F':3, '5F':4, '6F':5, '7F':6, '8F':7, '9F':8, 'F8':7}"
   ]
  },
  {
   "cell_type": "code",
   "execution_count": 8,
   "id": "editorial-relay",
   "metadata": {},
   "outputs": [],
   "source": [
    "# ------------------------------------------------------------------------------\n",
    "# Fixed values\n",
    "# ------------------------------------------------------------------------------\n",
    "N_SPLITS = 5\n",
    "SEED = 777\n",
    "EXP_NUM = 4\n",
    "IS_SAVE = True"
   ]
  },
  {
   "cell_type": "code",
   "execution_count": 9,
   "id": "collectible-notification",
   "metadata": {},
   "outputs": [],
   "source": [
    "# ------------------------------------------------------------------------------\n",
    "# Define parameters for models\n",
    "# ------------------------------------------------------------------------------\n",
    "lgb_params = {'objective': 'root_mean_squared_error',\n",
    "              'boosting_type': 'gbdt',\n",
    "              'n_estimators': 50000,\n",
    "              'learning_rate': 0.05,\n",
    "              'num_leaves': 90,\n",
    "              'colsample_bytree': 0.4,\n",
    "              'subsample': 0.6,\n",
    "              'subsample_freq': 2,\n",
    "              'bagging_seed': SEED,\n",
    "              'reg_alpha': 8,\n",
    "              'reg_lambda': 2,\n",
    "              'random_state': SEED,\n",
    "              'n_jobs': -1\n",
    "              }\n",
    "\n",
    "lgb_f_params = {'objective': 'multiclass',\n",
    "                'boosting_type': 'gbdt',\n",
    "                'n_estimators': 50000,\n",
    "                'learning_rate': 0.1,\n",
    "                'num_leaves': 90,\n",
    "                'colsample_bytree': 0.4,\n",
    "                'subsample': 0.6,\n",
    "                'subsample_freq': 2,\n",
    "                'bagging_seed': SEED,\n",
    "                'reg_alpha': 10,\n",
    "                'reg_lambda': 2,\n",
    "                'random_state': SEED,\n",
    "                'n_jobs': -1\n",
    "                }\n"
   ]
  },
  {
   "cell_type": "code",
   "execution_count": 10,
   "id": "unable-threshold",
   "metadata": {},
   "outputs": [],
   "source": [
    "# ------------------------------------------------------------------------------\n",
    "# Utilities\n",
    "# ------------------------------------------------------------------------------\n",
    "@contextmanager\n",
    "def timer(name: str):\n",
    "    t0 = time.time()\n",
    "    p = psutil.Process(os.getpid())\n",
    "    m0 = p.memory_info()[0] / 2. ** 30\n",
    "    try:\n",
    "        yield\n",
    "    finally:\n",
    "        m1 = p.memory_info()[0] / 2. ** 30\n",
    "        delta = m1 - m0\n",
    "        sign = '+' if delta >= 0 else '-'\n",
    "        delta = math.fabs(delta)\n",
    "        print(f\"[{m1:.1f}GB({sign}{delta:.1f}GB): {time.time() - t0:.3f}sec] {name}\", file=sys.stderr)\n",
    "\n",
    "\n",
    "def set_seed(seed=42):\n",
    "    random.seed(seed)\n",
    "    os.environ[\"PYTHONHASHSEED\"] = str(seed)\n",
    "    np.random.seed(seed)\n",
    "\n",
    "    \n",
    "def comp_metric(xhat, yhat, fhat, x, y, f):\n",
    "    pos_loss = np.sum(np.sqrt(np.power(xhat-x, 2) + np.power(yhat-y, 2)) / xhat.shape[0])\n",
    "    floor_loss = np.sum(15 * np.abs(fhat-f) / xhat.shape[0])\n",
    "    print(f'pos_loss = {pos_loss}, floor_loss = {floor_loss}')\n",
    "    intermediate = pos_loss + floor_loss\n",
    "    return intermediate\n",
    "\n",
    "\n",
    "def score_log(df: pd.DataFrame, num_files: int, nam_file: str, data_shape: tuple, n_fold: int, seed: int, mpe: float):\n",
    "    score_dict = {'n_files': num_files, 'file_name': nam_file, 'shape': data_shape, 'fold': n_fold, 'seed': seed, 'score': mpe}\n",
    "    # noinspection PyTypeChecker\n",
    "    df = pd.concat([df, pd.DataFrame.from_dict([score_dict])])\n",
    "    df.to_csv(LOG_PATH / f\"log_score.csv\", index=False)\n",
    "    return df\n"
   ]
  },
  {
   "cell_type": "code",
   "execution_count": 11,
   "id": "fifteen-retrieval",
   "metadata": {},
   "outputs": [],
   "source": [
    "# wandb.init(project='Indoor_Location_Navigation', entity='sqrt4kaido', name=str(f'exp{EXP_NUM}'))\n",
    "# wandb.config.pos_param = lgb_params\n",
    "# wandb.config.f_param = lgb_f_params\n",
    "set_seed(SEED)\n",
    "\n",
    "# ------------------------------------------------------------------------------\n",
    "# Read data\n",
    "# ------------------------------------------------------------------------------\n",
    "# feature_dir = \"../input/indoor-navigation-and-location-wifi-features\"\n",
    "train_files = sorted(glob.glob(str(WIFI_DIR / '*_train.csv')))\n",
    "test_files = sorted(glob.glob(str(WIFI_DIR / '*_test.csv')))\n",
    "subm = pd.read_csv(str(DATA_DIR / 'indoor-location-navigation/sample_submission.csv'), index_col=0)"
   ]
  },
  {
   "cell_type": "code",
   "execution_count": 12,
   "id": "searching-operations",
   "metadata": {},
   "outputs": [],
   "source": [
    "# oof_floor = pd.read_csv('../01/oof_preds.csv')\n",
    "# oof_floor[\"path\"] = oof_floor[\"path\"].str.replace(\".txt\", \"\")\n",
    "# oof_floor"
   ]
  },
  {
   "cell_type": "code",
   "execution_count": 13,
   "id": "primary-commodity",
   "metadata": {},
   "outputs": [],
   "source": [
    "# sub_floor = pd.read_csv('../01/sub1.csv')\n",
    "# sub_floor"
   ]
  },
  {
   "cell_type": "code",
   "execution_count": 14,
   "id": "important-patrol",
   "metadata": {},
   "outputs": [
    {
     "name": "stderr",
     "output_type": "stream",
     "text": [
      "2021/03/25 01:51:29 WARNING mlflow.tracking.context.git_context: Failed to import Git (the Git executable is probably not on your PATH), so Git SHA is not available. Error: Failed to initialize: Bad git executable.\n",
      "The git executable must be specified in one of the following ways:\n",
      "    - be included in your $PATH\n",
      "    - be set via $GIT_PYTHON_GIT_EXECUTABLE\n",
      "    - explicitly set via git.refresh()\n",
      "\n",
      "All git commands will error until this is rectified.\n",
      "\n",
      "This initial warning can be silenced or aggravated in the future by setting the\n",
      "$GIT_PYTHON_REFRESH environment variable. Use one of the following values:\n",
      "    - quiet|q|silence|s|none|n|0: for no warning or exception\n",
      "    - warn|w|warning|1: for a printed warning\n",
      "    - error|e|raise|r|2: for a raised exception\n",
      "\n",
      "Example:\n",
      "    export GIT_PYTHON_REFRESH=quiet\n",
      "\n"
     ]
    }
   ],
   "source": [
    "if IS_SAVE == True:\n",
    "\n",
    "    mlflow.set_tracking_uri(str(MLFLOW_DIR))\n",
    "    mlflow.start_run(run_name=str(f'exp{EXP_NUM}'))\n",
    "    log_notebook()\n",
    "\n",
    "    for k,v in lgb_params.items():\n",
    "        mlflow.log_param('pos_'+k,v)\n",
    "\n",
    "    for k,v in lgb_f_params.items():\n",
    "        mlflow.log_param('floor_'+k,v)\n",
    "    mlflow.lightgbm.autolog()"
   ]
  },
  {
   "cell_type": "markdown",
   "id": "considerable-boring",
   "metadata": {},
   "source": [
    "# Train"
   ]
  },
  {
   "cell_type": "code",
   "execution_count": null,
   "id": "dimensional-timer",
   "metadata": {},
   "outputs": [
    {
     "name": "stderr",
     "output_type": "stream",
     "text": [
      "[1.2GB(+0.2GB): 7.385sec] fit X\n"
     ]
    },
    {
     "name": "stdout",
     "output_type": "stream",
     "text": [
      "Training until validation scores don't improve for 200 rounds\n",
      "[200]\ttraining's rmse: 1.47313\tvalid_1's rmse: 6.60525\n",
      "[400]\ttraining's rmse: 0.983684\tvalid_1's rmse: 6.5688\n",
      "[600]\ttraining's rmse: 0.758322\tvalid_1's rmse: 6.56047\n",
      "[800]\ttraining's rmse: 0.626591\tvalid_1's rmse: 6.53629\n",
      "Early stopping, best iteration is:\n",
      "[766]\ttraining's rmse: 0.644713\tvalid_1's rmse: 6.5305\n"
     ]
    },
    {
     "name": "stderr",
     "output_type": "stream",
     "text": [
      "[1.2GB(+0.0GB): 13.800sec] fit Y\n"
     ]
    },
    {
     "name": "stdout",
     "output_type": "stream",
     "text": [
      "Training until validation scores don't improve for 20 rounds\n",
      "[200]\ttraining's multi_logloss: 0.0291422\tvalid_1's multi_logloss: 0.0600333\n",
      "[400]\ttraining's multi_logloss: 0.0286354\tvalid_1's multi_logloss: 0.0591984\n",
      "[600]\ttraining's multi_logloss: 0.0282437\tvalid_1's multi_logloss: 0.058518\n",
      "Early stopping, best iteration is:\n",
      "[586]\ttraining's multi_logloss: 0.0282456\tvalid_1's multi_logloss: 0.0585173\n"
     ]
    },
    {
     "name": "stderr",
     "output_type": "stream",
     "text": [
      "[1.2GB(+0.0GB): 11.577sec] fit F\n"
     ]
    },
    {
     "name": "stdout",
     "output_type": "stream",
     "text": [
      "pos_loss = 8.279232261558782, floor_loss = 0.1048951048951049\n",
      "fold 0: mean position error 8.384127366453887\n"
     ]
    },
    {
     "name": "stderr",
     "output_type": "stream",
     "text": [
      "[1.2GB(+0.0GB): 12.279sec] fit X\n"
     ]
    },
    {
     "name": "stdout",
     "output_type": "stream",
     "text": [
      "Training until validation scores don't improve for 200 rounds\n",
      "[200]\ttraining's rmse: 1.48209\tvalid_1's rmse: 7.04568\n",
      "[400]\ttraining's rmse: 0.982039\tvalid_1's rmse: 7.00836\n",
      "[600]\ttraining's rmse: 0.759482\tvalid_1's rmse: 7.02421\n",
      "Early stopping, best iteration is:\n",
      "[422]\ttraining's rmse: 0.950047\tvalid_1's rmse: 6.99964\n"
     ]
    },
    {
     "name": "stderr",
     "output_type": "stream",
     "text": [
      "[1.2GB(-0.0GB): 9.323sec] fit Y\n"
     ]
    },
    {
     "name": "stdout",
     "output_type": "stream",
     "text": [
      "Training until validation scores don't improve for 20 rounds\n",
      "[200]\ttraining's multi_logloss: 0.0281414\tvalid_1's multi_logloss: 0.0983882\n",
      "Early stopping, best iteration is:\n",
      "[180]\ttraining's multi_logloss: 0.0281862\tvalid_1's multi_logloss: 0.0983722\n",
      "pos_loss = 9.321127341616025, floor_loss = 0.3146853146853147\n",
      "fold 1: mean position error 9.63581265630134\n"
     ]
    },
    {
     "name": "stderr",
     "output_type": "stream",
     "text": [
      "[1.2GB(-0.0GB): 4.533sec] fit F\n",
      "[1.2GB(-0.0GB): 14.147sec] fit X\n"
     ]
    },
    {
     "name": "stdout",
     "output_type": "stream",
     "text": [
      "Training until validation scores don't improve for 200 rounds\n",
      "[200]\ttraining's rmse: 1.60989\tvalid_1's rmse: 5.18444\n",
      "[400]\ttraining's rmse: 1.11285\tvalid_1's rmse: 5.17804\n",
      "Early stopping, best iteration is:\n",
      "[303]\ttraining's rmse: 1.29943\tvalid_1's rmse: 5.17072\n"
     ]
    },
    {
     "name": "stderr",
     "output_type": "stream",
     "text": [
      "[1.2GB(+0.0GB): 7.575sec] fit Y\n"
     ]
    },
    {
     "name": "stdout",
     "output_type": "stream",
     "text": [
      "Training until validation scores don't improve for 20 rounds\n",
      "Early stopping, best iteration is:\n",
      "[159]\ttraining's multi_logloss: 0.0292016\tvalid_1's multi_logloss: 0.0802493\n",
      "pos_loss = 8.286539838535752, floor_loss = 0.29032258064516125\n",
      "fold 2: mean position error 8.576862419180914\n"
     ]
    },
    {
     "name": "stderr",
     "output_type": "stream",
     "text": [
      "[1.2GB(-0.0GB): 4.480sec] fit F\n",
      "[1.2GB(-0.0GB): 24.712sec] fit X\n"
     ]
    },
    {
     "name": "stdout",
     "output_type": "stream",
     "text": [
      "Training until validation scores don't improve for 200 rounds\n",
      "[200]\ttraining's rmse: 1.55492\tvalid_1's rmse: 5.71315\n",
      "[400]\ttraining's rmse: 1.05301\tvalid_1's rmse: 5.64059\n",
      "[600]\ttraining's rmse: 0.812634\tvalid_1's rmse: 5.61657\n",
      "Early stopping, best iteration is:\n",
      "[556]\ttraining's rmse: 0.854294\tvalid_1's rmse: 5.60841\n"
     ]
    },
    {
     "name": "stderr",
     "output_type": "stream",
     "text": [
      "[1.2GB(+0.0GB): 10.869sec] fit Y\n"
     ]
    },
    {
     "name": "stdout",
     "output_type": "stream",
     "text": [
      "Training until validation scores don't improve for 20 rounds\n",
      "[200]\ttraining's multi_logloss: 0.0290126\tvalid_1's multi_logloss: 0.0666772\n",
      "Early stopping, best iteration is:\n",
      "[213]\ttraining's multi_logloss: 0.0289358\tvalid_1's multi_logloss: 0.0664644\n"
     ]
    },
    {
     "name": "stderr",
     "output_type": "stream",
     "text": [
      "[1.2GB(+0.0GB): 5.041sec] fit F\n"
     ]
    },
    {
     "name": "stdout",
     "output_type": "stream",
     "text": [
      "pos_loss = 9.480374820373116, floor_loss = 0.17751479289940825\n",
      "fold 3: mean position error 9.657889613272525\n"
     ]
    },
    {
     "name": "stderr",
     "output_type": "stream",
     "text": [
      "[1.2GB(+0.0GB): 19.862sec] fit X\n"
     ]
    },
    {
     "name": "stdout",
     "output_type": "stream",
     "text": [
      "Training until validation scores don't improve for 200 rounds\n",
      "[200]\ttraining's rmse: 1.56509\tvalid_1's rmse: 7.164\n",
      "[400]\ttraining's rmse: 1.06017\tvalid_1's rmse: 7.12347\n",
      "[600]\ttraining's rmse: 0.826111\tvalid_1's rmse: 7.11504\n",
      "[800]\ttraining's rmse: 0.683878\tvalid_1's rmse: 7.09131\n",
      "[1000]\ttraining's rmse: 0.589579\tvalid_1's rmse: 7.09492\n",
      "[1200]\ttraining's rmse: 0.520972\tvalid_1's rmse: 7.0857\n",
      "[1400]\ttraining's rmse: 0.4703\tvalid_1's rmse: 7.07473\n",
      "[1600]\ttraining's rmse: 0.429378\tvalid_1's rmse: 7.06989\n",
      "[1800]\ttraining's rmse: 0.398345\tvalid_1's rmse: 7.06924\n",
      "Early stopping, best iteration is:\n",
      "[1642]\ttraining's rmse: 0.421791\tvalid_1's rmse: 7.06532\n"
     ]
    },
    {
     "name": "stderr",
     "output_type": "stream",
     "text": [
      "[1.2GB(+0.0GB): 22.379sec] fit Y\n"
     ]
    },
    {
     "name": "stdout",
     "output_type": "stream",
     "text": [
      "Training until validation scores don't improve for 20 rounds\n",
      "Early stopping, best iteration is:\n",
      "[133]\ttraining's multi_logloss: 0.0293903\tvalid_1's multi_logloss: 0.0732169\n"
     ]
    },
    {
     "name": "stderr",
     "output_type": "stream",
     "text": [
      "[1.2GB(+0.0GB): 4.074sec] fit F\n"
     ]
    },
    {
     "name": "stdout",
     "output_type": "stream",
     "text": [
      "pos_loss = 10.215351204370075, floor_loss = 0.07261968800430338\n",
      "fold 4: mean position error 10.287970892374378\n",
      "*+*+*+*+*+*+*+*+*+*+*+*+*+*+*+*+*+*+*+*+*+*+*+*+*+*+*+*+*+*+*+*+*+*+*+*+*+*+*+*+\n",
      "file #0, shape=(9296, 3401), name=5a0546857ecc773753327266_train.csv\n",
      "pos_loss = 9.116435809162656, floor_loss = 0.19201807228915663\n",
      "mean position error 9.308453881451813\n",
      "*+*+*+*+*+*+*+*+*+*+*+*+*+*+*+*+*+*+*+*+*+*+*+*+*+*+*+*+*+*+*+*+*+*+*+*+*+*+*+*+\n"
     ]
    },
    {
     "name": "stderr",
     "output_type": "stream",
     "text": [
      "[1.3GB(+0.0GB): 7.097sec] fit X\n"
     ]
    },
    {
     "name": "stdout",
     "output_type": "stream",
     "text": [
      "Training until validation scores don't improve for 200 rounds\n",
      "[200]\ttraining's rmse: 2.02547\tvalid_1's rmse: 6.57127\n",
      "[400]\ttraining's rmse: 1.34336\tvalid_1's rmse: 6.53182\n",
      "[600]\ttraining's rmse: 1.02457\tvalid_1's rmse: 6.54719\n",
      "Early stopping, best iteration is:\n",
      "[420]\ttraining's rmse: 1.30124\tvalid_1's rmse: 6.52886\n"
     ]
    },
    {
     "name": "stderr",
     "output_type": "stream",
     "text": [
      "[1.3GB(+0.0GB): 8.437sec] fit Y\n"
     ]
    },
    {
     "name": "stdout",
     "output_type": "stream",
     "text": [
      "Training until validation scores don't improve for 20 rounds\n",
      "[200]\ttraining's multi_logloss: 0.0372492\tvalid_1's multi_logloss: 0.104185\n",
      "Early stopping, best iteration is:\n",
      "[207]\ttraining's multi_logloss: 0.0372438\tvalid_1's multi_logloss: 0.104173\n",
      "pos_loss = 11.62770852243356, floor_loss = 0.1309034907597536\n",
      "fold 0: mean position error 11.758612013193313\n"
     ]
    },
    {
     "name": "stderr",
     "output_type": "stream",
     "text": [
      "[1.3GB(+0.0GB): 5.638sec] fit F\n",
      "[1.3GB(+0.0GB): 17.047sec] fit X\n"
     ]
    },
    {
     "name": "stdout",
     "output_type": "stream",
     "text": [
      "Training until validation scores don't improve for 200 rounds\n",
      "[200]\ttraining's rmse: 2.02996\tvalid_1's rmse: 8.64265\n",
      "[400]\ttraining's rmse: 1.33818\tvalid_1's rmse: 8.61844\n",
      "Early stopping, best iteration is:\n",
      "[318]\ttraining's rmse: 1.54629\tvalid_1's rmse: 8.60582\n"
     ]
    },
    {
     "name": "stderr",
     "output_type": "stream",
     "text": [
      "[1.2GB(-0.0GB): 7.050sec] fit Y\n"
     ]
    },
    {
     "name": "stdout",
     "output_type": "stream",
     "text": [
      "Training until validation scores don't improve for 20 rounds\n",
      "Early stopping, best iteration is:\n",
      "[144]\ttraining's multi_logloss: 0.0358524\tvalid_1's multi_logloss: 0.218423\n",
      "pos_loss = 17.23647639477065, floor_loss = 0.8470225872689939\n",
      "fold 1: mean position error 18.083498982039647\n"
     ]
    },
    {
     "name": "stderr",
     "output_type": "stream",
     "text": [
      "[1.2GB(-0.0GB): 4.358sec] fit F\n",
      "[1.2GB(+0.0GB): 12.443sec] fit X\n"
     ]
    },
    {
     "name": "stdout",
     "output_type": "stream",
     "text": [
      "Training until validation scores don't improve for 200 rounds\n",
      "[200]\ttraining's rmse: 1.99289\tvalid_1's rmse: 8.91744\n",
      "[400]\ttraining's rmse: 1.31183\tvalid_1's rmse: 8.8856\n",
      "Early stopping, best iteration is:\n",
      "[387]\ttraining's rmse: 1.3397\tvalid_1's rmse: 8.88227\n"
     ]
    },
    {
     "name": "stderr",
     "output_type": "stream",
     "text": [
      "[1.2GB(+0.0GB): 7.841sec] fit Y\n"
     ]
    },
    {
     "name": "stdout",
     "output_type": "stream",
     "text": [
      "Training until validation scores don't improve for 20 rounds\n",
      "Early stopping, best iteration is:\n",
      "[108]\ttraining's multi_logloss: 0.0360469\tvalid_1's multi_logloss: 0.15845\n",
      "pos_loss = 12.95248711659084, floor_loss = 0.5315870570107857\n",
      "fold 2: mean position error 13.484074173601625\n"
     ]
    },
    {
     "name": "stderr",
     "output_type": "stream",
     "text": [
      "[1.2GB(-0.0GB): 3.687sec] fit F\n",
      "[1.3GB(+0.0GB): 8.627sec] fit X\n"
     ]
    },
    {
     "name": "stdout",
     "output_type": "stream",
     "text": [
      "Training until validation scores don't improve for 200 rounds\n",
      "[200]\ttraining's rmse: 2.02154\tvalid_1's rmse: 7.52357\n",
      "[400]\ttraining's rmse: 1.33539\tvalid_1's rmse: 7.49746\n",
      "Early stopping, best iteration is:\n",
      "[277]\ttraining's rmse: 1.6776\tvalid_1's rmse: 7.4811\n"
     ]
    },
    {
     "name": "stderr",
     "output_type": "stream",
     "text": [
      "[1.3GB(-0.0GB): 6.798sec] fit Y\n"
     ]
    },
    {
     "name": "stdout",
     "output_type": "stream",
     "text": [
      "Training until validation scores don't improve for 20 rounds\n",
      "[200]\ttraining's multi_logloss: 0.0370941\tvalid_1's multi_logloss: 0.108047\n",
      "Early stopping, best iteration is:\n",
      "[207]\ttraining's multi_logloss: 0.0370693\tvalid_1's multi_logloss: 0.107988\n",
      "pos_loss = 10.75958307692487, floor_loss = 0.31587057010785824\n",
      "fold 3: mean position error 11.075453647032727\n"
     ]
    },
    {
     "name": "stderr",
     "output_type": "stream",
     "text": [
      "[1.2GB(-0.0GB): 5.091sec] fit F\n",
      "[1.2GB(-0.0GB): 8.263sec] fit X\n"
     ]
    },
    {
     "name": "stdout",
     "output_type": "stream",
     "text": [
      "Training until validation scores don't improve for 200 rounds\n",
      "[200]\ttraining's rmse: 2.01893\tvalid_1's rmse: 7.44478\n",
      "[400]\ttraining's rmse: 1.33308\tvalid_1's rmse: 7.414\n",
      "[600]\ttraining's rmse: 1.01281\tvalid_1's rmse: 7.38557\n",
      "[800]\ttraining's rmse: 0.823966\tvalid_1's rmse: 7.39295\n",
      "Early stopping, best iteration is:\n",
      "[601]\ttraining's rmse: 1.01178\tvalid_1's rmse: 7.38547\n"
     ]
    },
    {
     "name": "stderr",
     "output_type": "stream",
     "text": [
      "[1.2GB(-0.0GB): 10.044sec] fit Y\n"
     ]
    },
    {
     "name": "stdout",
     "output_type": "stream",
     "text": [
      "Training until validation scores don't improve for 20 rounds\n",
      "Early stopping, best iteration is:\n",
      "[138]\ttraining's multi_logloss: 0.0368111\tvalid_1's multi_logloss: 0.0917925\n",
      "pos_loss = 10.474230628739427, floor_loss = 0.1926040061633282\n",
      "fold 4: mean position error 10.666834634902756\n",
      "*+*+*+*+*+*+*+*+*+*+*+*+*+*+*+*+*+*+*+*+*+*+*+*+*+*+*+*+*+*+*+*+*+*+*+*+*+*+*+*+\n",
      "file #1, shape=(9737, 3067), name=5c3c44b80379370013e0fd2b_train.csv\n",
      "pos_loss = 12.610471389508529, floor_loss = 0.40361507651227274\n",
      "mean position error 13.014086466020801\n",
      "*+*+*+*+*+*+*+*+*+*+*+*+*+*+*+*+*+*+*+*+*+*+*+*+*+*+*+*+*+*+*+*+*+*+*+*+*+*+*+*+\n"
     ]
    },
    {
     "name": "stderr",
     "output_type": "stream",
     "text": [
      "[1.2GB(-0.0GB): 4.456sec] fit F\n",
      "[5.2GB(+0.0GB): 145.090sec] fit X\n"
     ]
    },
    {
     "name": "stdout",
     "output_type": "stream",
     "text": [
      "Training until validation scores don't improve for 200 rounds\n",
      "[200]\ttraining's rmse: 2.49473\tvalid_1's rmse: 7.39186\n",
      "[400]\ttraining's rmse: 1.84795\tvalid_1's rmse: 7.30483\n",
      "[600]\ttraining's rmse: 1.54069\tvalid_1's rmse: 7.28432\n",
      "[800]\ttraining's rmse: 1.34398\tvalid_1's rmse: 7.27296\n",
      "[1000]\ttraining's rmse: 1.20352\tvalid_1's rmse: 7.2529\n",
      "[1200]\ttraining's rmse: 1.09693\tvalid_1's rmse: 7.24228\n",
      "[1400]\ttraining's rmse: 1.01115\tvalid_1's rmse: 7.23331\n",
      "[1600]\ttraining's rmse: 0.938782\tvalid_1's rmse: 7.23233\n",
      "[1800]\ttraining's rmse: 0.87867\tvalid_1's rmse: 7.22759\n",
      "[2000]\ttraining's rmse: 0.826556\tvalid_1's rmse: 7.22394\n",
      "Early stopping, best iteration is:\n",
      "[1934]\ttraining's rmse: 0.843184\tvalid_1's rmse: 7.21803\n"
     ]
    },
    {
     "name": "stderr",
     "output_type": "stream",
     "text": [
      "[5.2GB(+0.0GB): 147.788sec] fit Y\n"
     ]
    },
    {
     "name": "stdout",
     "output_type": "stream",
     "text": [
      "Training until validation scores don't improve for 20 rounds\n",
      "Early stopping, best iteration is:\n",
      "[110]\ttraining's multi_logloss: 0.0288351\tvalid_1's multi_logloss: 0.107233\n"
     ]
    },
    {
     "name": "stderr",
     "output_type": "stream",
     "text": [
      "[5.2GB(-0.0GB): 20.133sec] fit F\n"
     ]
    },
    {
     "name": "stdout",
     "output_type": "stream",
     "text": [
      "pos_loss = 9.536631673636894, floor_loss = 0.573510773130545\n",
      "fold 0: mean position error 10.110142446767439\n"
     ]
    },
    {
     "name": "stderr",
     "output_type": "stream",
     "text": [
      "[5.5GB(+0.0GB): 174.798sec] fit X\n"
     ]
    },
    {
     "name": "stdout",
     "output_type": "stream",
     "text": [
      "Training until validation scores don't improve for 200 rounds\n",
      "[200]\ttraining's rmse: 2.51205\tvalid_1's rmse: 7.43612\n",
      "[400]\ttraining's rmse: 1.86297\tvalid_1's rmse: 7.26358\n",
      "[600]\ttraining's rmse: 1.55595\tvalid_1's rmse: 7.20852\n",
      "[800]\ttraining's rmse: 1.36111\tvalid_1's rmse: 7.17275\n",
      "[1000]\ttraining's rmse: 1.22089\tvalid_1's rmse: 7.15898\n",
      "[1200]\ttraining's rmse: 1.11329\tvalid_1's rmse: 7.15066\n",
      "[1400]\ttraining's rmse: 1.02603\tvalid_1's rmse: 7.1355\n",
      "[1600]\ttraining's rmse: 0.954148\tvalid_1's rmse: 7.13089\n",
      "[1800]\ttraining's rmse: 0.892829\tvalid_1's rmse: 7.13092\n",
      "[2000]\ttraining's rmse: 0.840207\tvalid_1's rmse: 7.12732\n",
      "[2200]\ttraining's rmse: 0.793798\tvalid_1's rmse: 7.12199\n",
      "[2400]\ttraining's rmse: 0.75247\tvalid_1's rmse: 7.12665\n",
      "Early stopping, best iteration is:\n",
      "[2216]\ttraining's rmse: 0.79015\tvalid_1's rmse: 7.12068\n"
     ]
    },
    {
     "name": "stderr",
     "output_type": "stream",
     "text": [
      "[5.4GB(-0.0GB): 166.227sec] fit Y\n"
     ]
    },
    {
     "name": "stdout",
     "output_type": "stream",
     "text": [
      "Training until validation scores don't improve for 20 rounds\n",
      "Early stopping, best iteration is:\n",
      "[153]\ttraining's multi_logloss: 0.0280039\tvalid_1's multi_logloss: 0.0827781\n"
     ]
    },
    {
     "name": "stderr",
     "output_type": "stream",
     "text": [
      "[5.4GB(+0.0GB): 23.133sec] fit F\n"
     ]
    },
    {
     "name": "stdout",
     "output_type": "stream",
     "text": [
      "pos_loss = 9.637385185334988, floor_loss = 0.16796957532220577\n",
      "fold 1: mean position error 9.805354760657194\n"
     ]
    },
    {
     "name": "stderr",
     "output_type": "stream",
     "text": [
      "[5.2GB(+0.0GB): 156.894sec] fit X\n"
     ]
    },
    {
     "name": "stdout",
     "output_type": "stream",
     "text": [
      "Training until validation scores don't improve for 200 rounds\n",
      "[200]\ttraining's rmse: 2.51968\tvalid_1's rmse: 7.82706\n",
      "[400]\ttraining's rmse: 1.86566\tvalid_1's rmse: 7.71037\n",
      "[600]\ttraining's rmse: 1.55027\tvalid_1's rmse: 7.68892\n",
      "[800]\ttraining's rmse: 1.35499\tvalid_1's rmse: 7.685\n",
      "[1000]\ttraining's rmse: 1.21596\tvalid_1's rmse: 7.67671\n",
      "Early stopping, best iteration is:\n",
      "[869]\ttraining's rmse: 1.30199\tvalid_1's rmse: 7.6727\n"
     ]
    },
    {
     "name": "stderr",
     "output_type": "stream",
     "text": [
      "[5.2GB(+0.0GB): 77.162sec] fit Y\n"
     ]
    },
    {
     "name": "stdout",
     "output_type": "stream",
     "text": [
      "Training until validation scores don't improve for 20 rounds\n",
      "Early stopping, best iteration is:\n",
      "[108]\ttraining's multi_logloss: 0.0283889\tvalid_1's multi_logloss: 0.129235\n"
     ]
    },
    {
     "name": "stderr",
     "output_type": "stream",
     "text": [
      "[5.2GB(-0.0GB): 19.723sec] fit F\n"
     ]
    },
    {
     "name": "stdout",
     "output_type": "stream",
     "text": [
      "pos_loss = 10.246833047428847, floor_loss = 0.3929854215085569\n",
      "fold 2: mean position error 10.639818468937404\n"
     ]
    },
    {
     "name": "stderr",
     "output_type": "stream",
     "text": [
      "[5.5GB(+0.0GB): 268.278sec] fit X\n"
     ]
    },
    {
     "name": "stdout",
     "output_type": "stream",
     "text": [
      "Training until validation scores don't improve for 200 rounds\n",
      "[200]\ttraining's rmse: 2.45356\tvalid_1's rmse: 7.92342\n",
      "[400]\ttraining's rmse: 1.81437\tvalid_1's rmse: 7.77519\n",
      "[600]\ttraining's rmse: 1.51177\tvalid_1's rmse: 7.73834\n",
      "[800]\ttraining's rmse: 1.32057\tvalid_1's rmse: 7.7179\n",
      "[1000]\ttraining's rmse: 1.18365\tvalid_1's rmse: 7.71305\n",
      "Early stopping, best iteration is:\n",
      "[928]\ttraining's rmse: 1.22773\tvalid_1's rmse: 7.70898\n"
     ]
    },
    {
     "name": "stderr",
     "output_type": "stream",
     "text": [
      "[5.5GB(+0.0GB): 81.521sec] fit Y\n"
     ]
    },
    {
     "name": "stdout",
     "output_type": "stream",
     "text": [
      "Training until validation scores don't improve for 20 rounds\n",
      "Early stopping, best iteration is:\n",
      "[149]\ttraining's multi_logloss: 0.0288312\tvalid_1's multi_logloss: 0.110624\n"
     ]
    },
    {
     "name": "stderr",
     "output_type": "stream",
     "text": [
      "[5.5GB(-0.0GB): 23.858sec] fit F\n"
     ]
    },
    {
     "name": "stdout",
     "output_type": "stream",
     "text": [
      "pos_loss = 12.74241610540771, floor_loss = 0.26938516796957535\n",
      "fold 3: mean position error 13.011801273377285\n"
     ]
    },
    {
     "name": "stderr",
     "output_type": "stream",
     "text": [
      "[5.2GB(+0.0GB): 58.747sec] fit X\n"
     ]
    },
    {
     "name": "stdout",
     "output_type": "stream",
     "text": [
      "Training until validation scores don't improve for 200 rounds\n",
      "[200]\ttraining's rmse: 2.51768\tvalid_1's rmse: 7.7641\n",
      "[400]\ttraining's rmse: 1.86981\tvalid_1's rmse: 7.69013\n",
      "[600]\ttraining's rmse: 1.5572\tvalid_1's rmse: 7.6777\n",
      "Early stopping, best iteration is:\n",
      "[589]\ttraining's rmse: 1.5706\tvalid_1's rmse: 7.6728\n"
     ]
    },
    {
     "name": "stderr",
     "output_type": "stream",
     "text": [
      "[5.2GB(+0.0GB): 59.127sec] fit Y\n"
     ]
    },
    {
     "name": "stdout",
     "output_type": "stream",
     "text": [
      "Training until validation scores don't improve for 20 rounds\n",
      "Early stopping, best iteration is:\n",
      "[160]\ttraining's multi_logloss: 0.0350357\tvalid_1's multi_logloss: 0.569817\n"
     ]
    },
    {
     "name": "stderr",
     "output_type": "stream",
     "text": [
      "[5.2GB(-0.0GB): 24.652sec] fit F\n"
     ]
    },
    {
     "name": "stdout",
     "output_type": "stream",
     "text": [
      "pos_loss = 9.934594602563912, floor_loss = 1.055356010986689\n",
      "fold 4: mean position error 10.9899506135506\n",
      "*+*+*+*+*+*+*+*+*+*+*+*+*+*+*+*+*+*+*+*+*+*+*+*+*+*+*+*+*+*+*+*+*+*+*+*+*+*+*+*+\n",
      "file #2, shape=(23666, 7033), name=5d27075f03f801723c2e360f_train.csv\n",
      "pos_loss = 10.419534814480606, floor_loss = 0.49184484069973805\n",
      "mean position error 10.911379655180344\n",
      "*+*+*+*+*+*+*+*+*+*+*+*+*+*+*+*+*+*+*+*+*+*+*+*+*+*+*+*+*+*+*+*+*+*+*+*+*+*+*+*+\n"
     ]
    },
    {
     "name": "stderr",
     "output_type": "stream",
     "text": [
      "[2.7GB(+0.0GB): 8.843sec] fit X\n"
     ]
    },
    {
     "name": "stdout",
     "output_type": "stream",
     "text": [
      "Training until validation scores don't improve for 200 rounds\n",
      "[200]\ttraining's rmse: 1.45553\tvalid_1's rmse: 5.97663\n",
      "[400]\ttraining's rmse: 1.08028\tvalid_1's rmse: 5.95665\n",
      "Early stopping, best iteration is:\n",
      "[360]\ttraining's rmse: 1.13138\tvalid_1's rmse: 5.94831\n"
     ]
    },
    {
     "name": "stderr",
     "output_type": "stream",
     "text": [
      "[2.7GB(+0.0GB): 6.274sec] fit Y\n"
     ]
    },
    {
     "name": "stdout",
     "output_type": "stream",
     "text": [
      "Training until validation scores don't improve for 20 rounds\n",
      "[200]\ttraining's multi_logloss: 0.0260182\tvalid_1's multi_logloss: 0.062083\n",
      "[400]\ttraining's multi_logloss: 0.0255844\tvalid_1's multi_logloss: 0.0615028\n",
      "[600]\ttraining's multi_logloss: 0.0255066\tvalid_1's multi_logloss: 0.0613363\n",
      "Early stopping, best iteration is:\n",
      "[715]\ttraining's multi_logloss: 0.0254243\tvalid_1's multi_logloss: 0.0612669\n"
     ]
    },
    {
     "name": "stderr",
     "output_type": "stream",
     "text": [
      "[2.7GB(+0.0GB): 10.445sec] fit F\n"
     ]
    },
    {
     "name": "stdout",
     "output_type": "stream",
     "text": [
      "pos_loss = 6.821089492671092, floor_loss = 0.0\n",
      "fold 0: mean position error 6.821089492671092\n"
     ]
    },
    {
     "name": "stderr",
     "output_type": "stream",
     "text": [
      "[2.4GB(+0.0GB): 5.932sec] fit X\n"
     ]
    },
    {
     "name": "stdout",
     "output_type": "stream",
     "text": [
      "Training until validation scores don't improve for 200 rounds\n",
      "[200]\ttraining's rmse: 1.42132\tvalid_1's rmse: 5.45197\n",
      "[400]\ttraining's rmse: 1.04682\tvalid_1's rmse: 5.41472\n",
      "[600]\ttraining's rmse: 0.868876\tvalid_1's rmse: 5.42567\n",
      "Early stopping, best iteration is:\n",
      "[410]\ttraining's rmse: 1.03513\tvalid_1's rmse: 5.41343\n"
     ]
    },
    {
     "name": "stderr",
     "output_type": "stream",
     "text": [
      "[2.4GB(+0.0GB): 4.190sec] fit Y\n"
     ]
    },
    {
     "name": "stdout",
     "output_type": "stream",
     "text": [
      "Training until validation scores don't improve for 20 rounds\n",
      "Early stopping, best iteration is:\n",
      "[125]\ttraining's multi_logloss: 0.0264515\tvalid_1's multi_logloss: 0.0703894\n"
     ]
    },
    {
     "name": "stderr",
     "output_type": "stream",
     "text": [
      "[2.4GB(+0.0GB): 2.146sec] fit F\n"
     ]
    },
    {
     "name": "stdout",
     "output_type": "stream",
     "text": [
      "pos_loss = 6.759568568106496, floor_loss = 0.06593406593406595\n",
      "fold 1: mean position error 6.825502634040562\n"
     ]
    },
    {
     "name": "stderr",
     "output_type": "stream",
     "text": [
      "[2.7GB(+0.0GB): 6.605sec] fit X\n"
     ]
    },
    {
     "name": "stdout",
     "output_type": "stream",
     "text": [
      "Training until validation scores don't improve for 200 rounds\n",
      "[200]\ttraining's rmse: 1.45097\tvalid_1's rmse: 5.73702\n",
      "[400]\ttraining's rmse: 1.07439\tvalid_1's rmse: 5.64185\n",
      "[600]\ttraining's rmse: 0.891067\tvalid_1's rmse: 5.61494\n",
      "[800]\ttraining's rmse: 0.776327\tvalid_1's rmse: 5.60192\n",
      "[1000]\ttraining's rmse: 0.698029\tvalid_1's rmse: 5.57351\n",
      "[1200]\ttraining's rmse: 0.638707\tvalid_1's rmse: 5.55948\n",
      "[1400]\ttraining's rmse: 0.593488\tvalid_1's rmse: 5.54736\n",
      "[1600]\ttraining's rmse: 0.556379\tvalid_1's rmse: 5.54534\n",
      "Early stopping, best iteration is:\n",
      "[1527]\ttraining's rmse: 0.568833\tvalid_1's rmse: 5.54172\n"
     ]
    },
    {
     "name": "stderr",
     "output_type": "stream",
     "text": [
      "[2.7GB(+0.0GB): 16.170sec] fit Y\n"
     ]
    },
    {
     "name": "stdout",
     "output_type": "stream",
     "text": [
      "Training until validation scores don't improve for 20 rounds\n",
      "[200]\ttraining's multi_logloss: 0.0260354\tvalid_1's multi_logloss: 0.0956872\n",
      "Early stopping, best iteration is:\n",
      "[205]\ttraining's multi_logloss: 0.0260065\tvalid_1's multi_logloss: 0.0956156\n"
     ]
    },
    {
     "name": "stderr",
     "output_type": "stream",
     "text": [
      "[2.7GB(+0.0GB): 3.613sec] fit F\n"
     ]
    },
    {
     "name": "stdout",
     "output_type": "stream",
     "text": [
      "pos_loss = 7.18264977047142, floor_loss = 0.3869374313940724\n",
      "fold 2: mean position error 7.569587201865492\n"
     ]
    },
    {
     "name": "stderr",
     "output_type": "stream",
     "text": [
      "[2.4GB(+0.0GB): 3.016sec] fit X\n"
     ]
    },
    {
     "name": "stdout",
     "output_type": "stream",
     "text": [
      "Training until validation scores don't improve for 200 rounds\n",
      "[200]\ttraining's rmse: 1.42764\tvalid_1's rmse: 6.67143\n",
      "[400]\ttraining's rmse: 1.05553\tvalid_1's rmse: 6.61458\n",
      "[600]\ttraining's rmse: 0.877524\tvalid_1's rmse: 6.61337\n",
      "Early stopping, best iteration is:\n",
      "[442]\ttraining's rmse: 1.01023\tvalid_1's rmse: 6.597\n"
     ]
    },
    {
     "name": "stderr",
     "output_type": "stream",
     "text": [
      "[2.4GB(+0.0GB): 4.319sec] fit Y\n"
     ]
    },
    {
     "name": "stdout",
     "output_type": "stream",
     "text": [
      "Training until validation scores don't improve for 20 rounds\n",
      "Early stopping, best iteration is:\n",
      "[86]\ttraining's multi_logloss: 0.0266034\tvalid_1's multi_logloss: 0.0578983\n"
     ]
    },
    {
     "name": "stderr",
     "output_type": "stream",
     "text": [
      "[2.4GB(+0.0GB): 1.843sec] fit F\n"
     ]
    },
    {
     "name": "stdout",
     "output_type": "stream",
     "text": [
      "pos_loss = 6.787507343245162, floor_loss = 0.032985156679494226\n",
      "fold 3: mean position error 6.820492499924656\n"
     ]
    },
    {
     "name": "stderr",
     "output_type": "stream",
     "text": [
      "[2.7GB(+0.0GB): 10.889sec] fit X\n"
     ]
    },
    {
     "name": "stdout",
     "output_type": "stream",
     "text": [
      "Training until validation scores don't improve for 200 rounds\n",
      "[200]\ttraining's rmse: 1.41731\tvalid_1's rmse: 5.07771\n",
      "[400]\ttraining's rmse: 1.05084\tvalid_1's rmse: 5.02603\n",
      "[600]\ttraining's rmse: 0.87252\tvalid_1's rmse: 5.01892\n",
      "[800]\ttraining's rmse: 0.760723\tvalid_1's rmse: 5.02048\n",
      "Early stopping, best iteration is:\n",
      "[722]\ttraining's rmse: 0.799275\tvalid_1's rmse: 5.01213\n"
     ]
    },
    {
     "name": "stderr",
     "output_type": "stream",
     "text": [
      "[2.7GB(+0.0GB): 9.449sec] fit Y\n"
     ]
    },
    {
     "name": "stdout",
     "output_type": "stream",
     "text": [
      "Training until validation scores don't improve for 20 rounds\n",
      "Early stopping, best iteration is:\n",
      "[114]\ttraining's multi_logloss: 0.0263784\tvalid_1's multi_logloss: 0.0882121\n"
     ]
    },
    {
     "name": "stderr",
     "output_type": "stream",
     "text": [
      "[2.7GB(+0.0GB): 2.541sec] fit F\n"
     ]
    },
    {
     "name": "stdout",
     "output_type": "stream",
     "text": [
      "pos_loss = 6.355276747375105, floor_loss = 0.16492578339747113\n",
      "fold 4: mean position error 6.520202530772576\n",
      "*+*+*+*+*+*+*+*+*+*+*+*+*+*+*+*+*+*+*+*+*+*+*+*+*+*+*+*+*+*+*+*+*+*+*+*+*+*+*+*+\n",
      "file #3, shape=(9100, 4968), name=5d27096c03f801723c31e5e0_train.csv\n",
      "pos_loss = 6.7813527267310345, floor_loss = 0.13021978021978023\n",
      "mean position error 6.911572506950815\n",
      "*+*+*+*+*+*+*+*+*+*+*+*+*+*+*+*+*+*+*+*+*+*+*+*+*+*+*+*+*+*+*+*+*+*+*+*+*+*+*+*+\n"
     ]
    },
    {
     "name": "stderr",
     "output_type": "stream",
     "text": [
      "[1.7GB(+0.0GB): 42.677sec] fit X\n"
     ]
    },
    {
     "name": "stdout",
     "output_type": "stream",
     "text": [
      "Training until validation scores don't improve for 200 rounds\n",
      "[200]\ttraining's rmse: 4.00868\tvalid_1's rmse: 13.3475\n",
      "Early stopping, best iteration is:\n",
      "[182]\ttraining's rmse: 4.19327\tvalid_1's rmse: 13.3239\n"
     ]
    },
    {
     "name": "stderr",
     "output_type": "stream",
     "text": [
      "[1.7GB(+0.0GB): 6.798sec] fit Y\n"
     ]
    },
    {
     "name": "stdout",
     "output_type": "stream",
     "text": [
      "Training until validation scores don't improve for 20 rounds\n",
      "[200]\ttraining's multi_logloss: 0.0411085\tvalid_1's multi_logloss: 0.0822414\n",
      "Early stopping, best iteration is:\n",
      "[203]\ttraining's multi_logloss: 0.0411085\tvalid_1's multi_logloss: 0.0822414\n",
      "pos_loss = 12.697073848916704, floor_loss = 0.0356803044719315\n",
      "fold 0: mean position error 12.732754153388635\n"
     ]
    },
    {
     "name": "stderr",
     "output_type": "stream",
     "text": [
      "[1.7GB(+0.0GB): 5.708sec] fit F\n",
      "[1.7GB(+0.0GB): 19.816sec] fit X\n"
     ]
    },
    {
     "name": "stdout",
     "output_type": "stream",
     "text": [
      "Training until validation scores don't improve for 200 rounds\n",
      "[200]\ttraining's rmse: 3.96917\tvalid_1's rmse: 18.7319\n",
      "[400]\ttraining's rmse: 2.92427\tvalid_1's rmse: 18.1318\n",
      "[600]\ttraining's rmse: 2.47288\tvalid_1's rmse: 17.9868\n",
      "[800]\ttraining's rmse: 2.20266\tvalid_1's rmse: 17.8957\n",
      "Early stopping, best iteration is:\n",
      "[776]\ttraining's rmse: 2.23017\tvalid_1's rmse: 17.8705\n"
     ]
    },
    {
     "name": "stderr",
     "output_type": "stream",
     "text": [
      "[1.7GB(+0.0GB): 15.504sec] fit Y\n"
     ]
    },
    {
     "name": "stdout",
     "output_type": "stream",
     "text": [
      "Training until validation scores don't improve for 20 rounds\n",
      "[200]\ttraining's multi_logloss: 0.0415782\tvalid_1's multi_logloss: 0.113442\n",
      "Early stopping, best iteration is:\n",
      "[191]\ttraining's multi_logloss: 0.0415852\tvalid_1's multi_logloss: 0.113437\n"
     ]
    },
    {
     "name": "stderr",
     "output_type": "stream",
     "text": [
      "[1.7GB(+0.0GB): 4.858sec] fit F\n"
     ]
    },
    {
     "name": "stdout",
     "output_type": "stream",
     "text": [
      "pos_loss = 15.368338431433399, floor_loss = 0.927687916270219\n",
      "fold 1: mean position error 16.296026347703616\n"
     ]
    },
    {
     "name": "stderr",
     "output_type": "stream",
     "text": [
      "[1.9GB(+0.0GB): 14.176sec] fit X\n"
     ]
    },
    {
     "name": "stdout",
     "output_type": "stream",
     "text": [
      "Training until validation scores don't improve for 200 rounds\n",
      "[200]\ttraining's rmse: 4.01702\tvalid_1's rmse: 14.2017\n",
      "[400]\ttraining's rmse: 2.97797\tvalid_1's rmse: 13.9043\n",
      "[600]\ttraining's rmse: 2.52355\tvalid_1's rmse: 13.7719\n",
      "[800]\ttraining's rmse: 2.24333\tvalid_1's rmse: 13.7037\n",
      "[1000]\ttraining's rmse: 2.05727\tvalid_1's rmse: 13.6793\n",
      "[1200]\ttraining's rmse: 1.91747\tvalid_1's rmse: 13.6521\n",
      "[1400]\ttraining's rmse: 1.80474\tvalid_1's rmse: 13.6303\n",
      "[1600]\ttraining's rmse: 1.71943\tvalid_1's rmse: 13.6416\n",
      "Early stopping, best iteration is:\n",
      "[1405]\ttraining's rmse: 1.80218\tvalid_1's rmse: 13.6278\n"
     ]
    },
    {
     "name": "stderr",
     "output_type": "stream",
     "text": [
      "[1.9GB(+0.0GB): 25.614sec] fit Y\n"
     ]
    },
    {
     "name": "stdout",
     "output_type": "stream",
     "text": [
      "Training until validation scores don't improve for 20 rounds\n",
      "[200]\ttraining's multi_logloss: 0.0414968\tvalid_1's multi_logloss: 0.101532\n",
      "Early stopping, best iteration is:\n",
      "[218]\ttraining's multi_logloss: 0.041359\tvalid_1's multi_logloss: 0.101292\n",
      "pos_loss = 12.694561719605685, floor_loss = 0.7710613993336506\n",
      "fold 2: mean position error 13.465623118939336\n"
     ]
    },
    {
     "name": "stderr",
     "output_type": "stream",
     "text": [
      "[1.9GB(+0.0GB): 6.222sec] fit F\n",
      "[1.7GB(+0.0GB): 29.708sec] fit X\n"
     ]
    },
    {
     "name": "stdout",
     "output_type": "stream",
     "text": [
      "Training until validation scores don't improve for 200 rounds\n",
      "[200]\ttraining's rmse: 4.03579\tvalid_1's rmse: 12.636\n",
      "[400]\ttraining's rmse: 2.99407\tvalid_1's rmse: 12.311\n",
      "[600]\ttraining's rmse: 2.51273\tvalid_1's rmse: 12.1887\n",
      "[800]\ttraining's rmse: 2.22408\tvalid_1's rmse: 12.0874\n",
      "[1000]\ttraining's rmse: 2.02179\tvalid_1's rmse: 12.0302\n",
      "[1200]\ttraining's rmse: 1.8752\tvalid_1's rmse: 11.9979\n",
      "[1400]\ttraining's rmse: 1.76141\tvalid_1's rmse: 11.9653\n",
      "[1600]\ttraining's rmse: 1.66841\tvalid_1's rmse: 11.9381\n",
      "[1800]\ttraining's rmse: 1.59372\tvalid_1's rmse: 11.9096\n",
      "[2000]\ttraining's rmse: 1.52829\tvalid_1's rmse: 11.8909\n",
      "[2200]\ttraining's rmse: 1.47304\tvalid_1's rmse: 11.8879\n",
      "[2400]\ttraining's rmse: 1.42591\tvalid_1's rmse: 11.8749\n",
      "[2600]\ttraining's rmse: 1.38462\tvalid_1's rmse: 11.8471\n",
      "Early stopping, best iteration is:\n",
      "[2591]\ttraining's rmse: 1.38609\tvalid_1's rmse: 11.8462\n"
     ]
    },
    {
     "name": "stderr",
     "output_type": "stream",
     "text": [
      "[1.7GB(+0.0GB): 44.475sec] fit Y\n"
     ]
    },
    {
     "name": "stdout",
     "output_type": "stream",
     "text": [
      "Training until validation scores don't improve for 20 rounds\n",
      "Early stopping, best iteration is:\n",
      "[113]\ttraining's multi_logloss: 0.0407322\tvalid_1's multi_logloss: 0.121081\n"
     ]
    },
    {
     "name": "stderr",
     "output_type": "stream",
     "text": [
      "[1.7GB(+0.0GB): 3.841sec] fit F\n"
     ]
    },
    {
     "name": "stdout",
     "output_type": "stream",
     "text": [
      "pos_loss = 13.033415140457912, floor_loss = 0.8067586863398382\n",
      "fold 3: mean position error 13.84017382679775\n"
     ]
    },
    {
     "name": "stderr",
     "output_type": "stream",
     "text": [
      "[1.7GB(+0.0GB): 6.647sec] fit X\n"
     ]
    },
    {
     "name": "stdout",
     "output_type": "stream",
     "text": [
      "Training until validation scores don't improve for 200 rounds\n",
      "[200]\ttraining's rmse: 3.98347\tvalid_1's rmse: 12.3218\n",
      "[400]\ttraining's rmse: 2.95056\tvalid_1's rmse: 12.3037\n",
      "[600]\ttraining's rmse: 2.49457\tvalid_1's rmse: 12.2224\n",
      "[800]\ttraining's rmse: 2.23028\tvalid_1's rmse: 12.1638\n",
      "[1000]\ttraining's rmse: 2.03849\tvalid_1's rmse: 12.1454\n",
      "[1200]\ttraining's rmse: 1.89971\tvalid_1's rmse: 12.1303\n",
      "[1400]\ttraining's rmse: 1.79058\tvalid_1's rmse: 12.1172\n",
      "[1600]\ttraining's rmse: 1.6998\tvalid_1's rmse: 12.0954\n",
      "[1800]\ttraining's rmse: 1.62637\tvalid_1's rmse: 12.079\n",
      "[2000]\ttraining's rmse: 1.56239\tvalid_1's rmse: 12.0636\n",
      "[2200]\ttraining's rmse: 1.50834\tvalid_1's rmse: 12.0608\n",
      "Early stopping, best iteration is:\n",
      "[2108]\ttraining's rmse: 1.53222\tvalid_1's rmse: 12.0555\n"
     ]
    },
    {
     "name": "stderr",
     "output_type": "stream",
     "text": [
      "[1.7GB(+0.0GB): 36.423sec] fit Y\n"
     ]
    },
    {
     "name": "stdout",
     "output_type": "stream",
     "text": [
      "Training until validation scores don't improve for 20 rounds\n",
      "[200]\ttraining's multi_logloss: 0.04277\tvalid_1's multi_logloss: 0.086541\n",
      "Early stopping, best iteration is:\n",
      "[184]\ttraining's multi_logloss: 0.0428207\tvalid_1's multi_logloss: 0.086485\n"
     ]
    },
    {
     "name": "stderr",
     "output_type": "stream",
     "text": [
      "[1.7GB(+0.0GB): 5.397sec] fit F\n"
     ]
    },
    {
     "name": "stdout",
     "output_type": "stream",
     "text": [
      "pos_loss = 12.811057562886017, floor_loss = 0.14992860542598763\n",
      "fold 4: mean position error 12.960986168312004\n",
      "*+*+*+*+*+*+*+*+*+*+*+*+*+*+*+*+*+*+*+*+*+*+*+*+*+*+*+*+*+*+*+*+*+*+*+*+*+*+*+*+\n",
      "file #4, shape=(10507, 2494), name=5d27097f03f801723c320d97_train.csv\n",
      "pos_loss = 13.321024834483016, floor_loss = 0.53821262015799\n",
      "mean position error 13.859237454641006\n",
      "*+*+*+*+*+*+*+*+*+*+*+*+*+*+*+*+*+*+*+*+*+*+*+*+*+*+*+*+*+*+*+*+*+*+*+*+*+*+*+*+\n"
     ]
    },
    {
     "name": "stderr",
     "output_type": "stream",
     "text": [
      "[1.7GB(+0.0GB): 1.471sec] fit X\n"
     ]
    },
    {
     "name": "stdout",
     "output_type": "stream",
     "text": [
      "Training until validation scores don't improve for 200 rounds\n",
      "[200]\ttraining's rmse: 1.68624\tvalid_1's rmse: 8.12564\n",
      "[400]\ttraining's rmse: 1.16454\tvalid_1's rmse: 8.07338\n",
      "Early stopping, best iteration is:\n",
      "[373]\ttraining's rmse: 1.20892\tvalid_1's rmse: 8.07007\n",
      "Training until validation scores don't improve for 20 rounds\n"
     ]
    },
    {
     "name": "stderr",
     "output_type": "stream",
     "text": [
      "[1.7GB(+0.0GB): 1.655sec] fit Y\n"
     ]
    },
    {
     "name": "stdout",
     "output_type": "stream",
     "text": [
      "Early stopping, best iteration is:\n",
      "[167]\ttraining's multi_logloss: 0.0269435\tvalid_1's multi_logloss: 0.105844\n",
      "pos_loss = 8.015468759679827, floor_loss = 0.40588235294117647\n",
      "fold 0: mean position error 8.421351112621004\n"
     ]
    },
    {
     "name": "stderr",
     "output_type": "stream",
     "text": [
      "[1.7GB(+0.0GB): 0.762sec] fit F\n",
      "[1.7GB(+0.0GB): 3.265sec] fit X\n"
     ]
    },
    {
     "name": "stdout",
     "output_type": "stream",
     "text": [
      "Training until validation scores don't improve for 200 rounds\n",
      "[200]\ttraining's rmse: 1.61952\tvalid_1's rmse: 8.99309\n",
      "[400]\ttraining's rmse: 1.10451\tvalid_1's rmse: 8.84196\n",
      "[600]\ttraining's rmse: 0.878279\tvalid_1's rmse: 8.74282\n",
      "[800]\ttraining's rmse: 0.747207\tvalid_1's rmse: 8.66752\n",
      "[1000]\ttraining's rmse: 0.661239\tvalid_1's rmse: 8.62335\n",
      "[1200]\ttraining's rmse: 0.599412\tvalid_1's rmse: 8.60077\n",
      "[1400]\ttraining's rmse: 0.551554\tvalid_1's rmse: 8.59079\n",
      "Early stopping, best iteration is:\n",
      "[1365]\ttraining's rmse: 0.558809\tvalid_1's rmse: 8.5723\n"
     ]
    },
    {
     "name": "stderr",
     "output_type": "stream",
     "text": [
      "[1.7GB(+0.0GB): 3.511sec] fit Y\n"
     ]
    },
    {
     "name": "stdout",
     "output_type": "stream",
     "text": [
      "Training until validation scores don't improve for 20 rounds\n",
      "[200]\ttraining's multi_logloss: 0.0278023\tvalid_1's multi_logloss: 0.0719571\n",
      "[400]\ttraining's multi_logloss: 0.0275228\tvalid_1's multi_logloss: 0.0716813\n",
      "Early stopping, best iteration is:\n",
      "[538]\ttraining's multi_logloss: 0.0271915\tvalid_1's multi_logloss: 0.071163\n",
      "pos_loss = 7.592173551609209, floor_loss = 0.0\n",
      "fold 1: mean position error 7.592173551609209\n"
     ]
    },
    {
     "name": "stderr",
     "output_type": "stream",
     "text": [
      "[1.7GB(+0.0GB): 1.890sec] fit F\n",
      "[1.7GB(+0.0GB): 1.236sec] fit X\n"
     ]
    },
    {
     "name": "stdout",
     "output_type": "stream",
     "text": [
      "Training until validation scores don't improve for 200 rounds\n",
      "[200]\ttraining's rmse: 1.60918\tvalid_1's rmse: 12.7745\n",
      "[400]\ttraining's rmse: 1.14006\tvalid_1's rmse: 12.589\n",
      "[600]\ttraining's rmse: 0.923365\tvalid_1's rmse: 12.5498\n",
      "[800]\ttraining's rmse: 0.792772\tvalid_1's rmse: 12.5385\n",
      "[1000]\ttraining's rmse: 0.7094\tvalid_1's rmse: 12.5591\n",
      "Early stopping, best iteration is:\n",
      "[866]\ttraining's rmse: 0.76412\tvalid_1's rmse: 12.5286\n"
     ]
    },
    {
     "name": "stderr",
     "output_type": "stream",
     "text": [
      "[1.7GB(+0.0GB): 2.603sec] fit Y\n"
     ]
    },
    {
     "name": "stdout",
     "output_type": "stream",
     "text": [
      "Training until validation scores don't improve for 20 rounds\n",
      "[200]\ttraining's multi_logloss: 0.0272663\tvalid_1's multi_logloss: 0.0514887\n",
      "Early stopping, best iteration is:\n",
      "[232]\ttraining's multi_logloss: 0.0271539\tvalid_1's multi_logloss: 0.0514662\n",
      "pos_loss = 9.728602529648667, floor_loss = 0.0\n",
      "fold 2: mean position error 9.728602529648667\n"
     ]
    },
    {
     "name": "stderr",
     "output_type": "stream",
     "text": [
      "[1.7GB(+0.0GB): 0.922sec] fit F\n",
      "[1.7GB(+0.0GB): 1.051sec] fit X\n"
     ]
    },
    {
     "name": "stdout",
     "output_type": "stream",
     "text": [
      "Training until validation scores don't improve for 200 rounds\n",
      "[200]\ttraining's rmse: 1.68766\tvalid_1's rmse: 5.86847\n",
      "[400]\ttraining's rmse: 1.14075\tvalid_1's rmse: 5.86362\n",
      "Early stopping, best iteration is:\n",
      "[255]\ttraining's rmse: 1.47401\tvalid_1's rmse: 5.85126\n"
     ]
    },
    {
     "name": "stderr",
     "output_type": "stream",
     "text": [
      "[1.7GB(+0.0GB): 1.326sec] fit Y\n"
     ]
    },
    {
     "name": "stdout",
     "output_type": "stream",
     "text": [
      "Training until validation scores don't improve for 20 rounds\n",
      "[200]\ttraining's multi_logloss: 0.0278321\tvalid_1's multi_logloss: 0.0341933\n",
      "[400]\ttraining's multi_logloss: 0.0275182\tvalid_1's multi_logloss: 0.0338809\n",
      "Early stopping, best iteration is:\n",
      "[407]\ttraining's multi_logloss: 0.0275144\tvalid_1's multi_logloss: 0.0338795\n",
      "pos_loss = 5.859763484895419, floor_loss = 0.052941176470588235\n",
      "fold 3: mean position error 5.912704661366007\n"
     ]
    },
    {
     "name": "stderr",
     "output_type": "stream",
     "text": [
      "[1.7GB(+0.0GB): 1.561sec] fit F\n",
      "[1.7GB(+0.0GB): 1.016sec] fit X\n"
     ]
    },
    {
     "name": "stdout",
     "output_type": "stream",
     "text": [
      "Training until validation scores don't improve for 200 rounds\n",
      "[200]\ttraining's rmse: 1.66731\tvalid_1's rmse: 6.03\n",
      "[400]\ttraining's rmse: 1.13264\tvalid_1's rmse: 5.99271\n",
      "[600]\ttraining's rmse: 0.904949\tvalid_1's rmse: 5.99299\n",
      "Early stopping, best iteration is:\n",
      "[581]\ttraining's rmse: 0.919867\tvalid_1's rmse: 5.9825\n",
      "Training until validation scores don't improve for 20 rounds\n"
     ]
    },
    {
     "name": "stderr",
     "output_type": "stream",
     "text": [
      "[1.7GB(+0.0GB): 2.019sec] fit Y\n"
     ]
    },
    {
     "name": "stdout",
     "output_type": "stream",
     "text": [
      "[200]\ttraining's multi_logloss: 0.0271767\tvalid_1's multi_logloss: 0.0356681\n",
      "Early stopping, best iteration is:\n",
      "[363]\ttraining's multi_logloss: 0.026964\tvalid_1's multi_logloss: 0.035503\n",
      "pos_loss = 5.945999104982167, floor_loss = 0.0\n",
      "fold 4: mean position error 5.945999104982167\n",
      "*+*+*+*+*+*+*+*+*+*+*+*+*+*+*+*+*+*+*+*+*+*+*+*+*+*+*+*+*+*+*+*+*+*+*+*+*+*+*+*+\n",
      "file #5, shape=(4251, 929), name=5d27099f03f801723c32511d_train.csv\n",
      "pos_loss = 7.42983239758817, floor_loss = 0.09174311926605505\n",
      "mean position error 7.521575516854225\n",
      "*+*+*+*+*+*+*+*+*+*+*+*+*+*+*+*+*+*+*+*+*+*+*+*+*+*+*+*+*+*+*+*+*+*+*+*+*+*+*+*+\n"
     ]
    },
    {
     "name": "stderr",
     "output_type": "stream",
     "text": [
      "[1.7GB(+0.0GB): 1.321sec] fit F\n",
      "[1.7GB(+0.0GB): 4.025sec] fit X\n"
     ]
    },
    {
     "name": "stdout",
     "output_type": "stream",
     "text": [
      "Training until validation scores don't improve for 200 rounds\n",
      "[200]\ttraining's rmse: 1.51882\tvalid_1's rmse: 5.14312\n",
      "[400]\ttraining's rmse: 1.1157\tvalid_1's rmse: 5.02426\n",
      "[600]\ttraining's rmse: 0.932947\tvalid_1's rmse: 4.98407\n",
      "[800]\ttraining's rmse: 0.817879\tvalid_1's rmse: 4.98137\n",
      "[1000]\ttraining's rmse: 0.741796\tvalid_1's rmse: 4.97398\n",
      "[1200]\ttraining's rmse: 0.685553\tvalid_1's rmse: 4.96653\n",
      "[1400]\ttraining's rmse: 0.640897\tvalid_1's rmse: 4.96262\n",
      "[1600]\ttraining's rmse: 0.603707\tvalid_1's rmse: 4.96601\n",
      "Early stopping, best iteration is:\n",
      "[1458]\ttraining's rmse: 0.630102\tvalid_1's rmse: 4.95561\n"
     ]
    },
    {
     "name": "stderr",
     "output_type": "stream",
     "text": [
      "[1.7GB(+0.0GB): 9.515sec] fit Y\n"
     ]
    },
    {
     "name": "stdout",
     "output_type": "stream",
     "text": [
      "Training until validation scores don't improve for 20 rounds\n",
      "[200]\ttraining's multi_logloss: 0.037483\tvalid_1's multi_logloss: 0.0571233\n",
      "Early stopping, best iteration is:\n",
      "[296]\ttraining's multi_logloss: 0.0370566\tvalid_1's multi_logloss: 0.0565663\n",
      "pos_loss = 7.160699902970457, floor_loss = 0.01903553299492386\n",
      "fold 0: mean position error 7.17973543596538\n"
     ]
    },
    {
     "name": "stderr",
     "output_type": "stream",
     "text": [
      "[1.7GB(+0.0GB): 2.763sec] fit F\n",
      "[1.7GB(+0.0GB): 5.356sec] fit X\n"
     ]
    },
    {
     "name": "stdout",
     "output_type": "stream",
     "text": [
      "Training until validation scores don't improve for 200 rounds\n",
      "[200]\ttraining's rmse: 1.50296\tvalid_1's rmse: 5.97268\n",
      "[400]\ttraining's rmse: 1.07682\tvalid_1's rmse: 5.8678\n",
      "[600]\ttraining's rmse: 0.88838\tvalid_1's rmse: 5.79382\n",
      "[800]\ttraining's rmse: 0.782283\tvalid_1's rmse: 5.78498\n",
      "Early stopping, best iteration is:\n",
      "[772]\ttraining's rmse: 0.793994\tvalid_1's rmse: 5.77026\n"
     ]
    },
    {
     "name": "stderr",
     "output_type": "stream",
     "text": [
      "[1.7GB(+0.0GB): 5.661sec] fit Y\n"
     ]
    },
    {
     "name": "stdout",
     "output_type": "stream",
     "text": [
      "Training until validation scores don't improve for 20 rounds\n",
      "[200]\ttraining's multi_logloss: 0.0377011\tvalid_1's multi_logloss: 0.0482192\n",
      "Early stopping, best iteration is:\n",
      "[218]\ttraining's multi_logloss: 0.037564\tvalid_1's multi_logloss: 0.0480716\n",
      "pos_loss = 7.548094446101193, floor_loss = 0.0\n",
      "fold 1: mean position error 7.548094446101193\n"
     ]
    },
    {
     "name": "stderr",
     "output_type": "stream",
     "text": [
      "[1.7GB(+0.0GB): 1.948sec] fit F\n",
      "[1.7GB(+0.0GB): 2.758sec] fit X\n"
     ]
    },
    {
     "name": "stdout",
     "output_type": "stream",
     "text": [
      "Training until validation scores don't improve for 200 rounds\n",
      "[200]\ttraining's rmse: 1.44569\tvalid_1's rmse: 4.59921\n",
      "[400]\ttraining's rmse: 1.06354\tvalid_1's rmse: 4.60197\n",
      "Early stopping, best iteration is:\n",
      "[243]\ttraining's rmse: 1.32581\tvalid_1's rmse: 4.5806\n"
     ]
    },
    {
     "name": "stderr",
     "output_type": "stream",
     "text": [
      "[1.7GB(+0.0GB): 2.691sec] fit Y\n"
     ]
    },
    {
     "name": "stdout",
     "output_type": "stream",
     "text": [
      "Training until validation scores don't improve for 20 rounds\n",
      "Early stopping, best iteration is:\n",
      "[109]\ttraining's multi_logloss: 0.0368869\tvalid_1's multi_logloss: 0.0760061\n",
      "pos_loss = 6.063990607423541, floor_loss = 0.32360406091370564\n",
      "fold 2: mean position error 6.387594668337247\n"
     ]
    },
    {
     "name": "stderr",
     "output_type": "stream",
     "text": [
      "[1.7GB(+0.0GB): 1.087sec] fit F\n",
      "[1.7GB(+0.0GB): 6.057sec] fit X\n"
     ]
    },
    {
     "name": "stdout",
     "output_type": "stream",
     "text": [
      "Training until validation scores don't improve for 200 rounds\n",
      "[200]\ttraining's rmse: 1.46144\tvalid_1's rmse: 5.43186\n",
      "[400]\ttraining's rmse: 1.07041\tvalid_1's rmse: 5.34472\n",
      "[600]\ttraining's rmse: 0.900181\tvalid_1's rmse: 5.31332\n",
      "[800]\ttraining's rmse: 0.798361\tvalid_1's rmse: 5.3168\n",
      "Early stopping, best iteration is:\n",
      "[672]\ttraining's rmse: 0.858404\tvalid_1's rmse: 5.30042\n"
     ]
    },
    {
     "name": "stderr",
     "output_type": "stream",
     "text": [
      "[1.7GB(+0.0GB): 5.063sec] fit Y\n"
     ]
    },
    {
     "name": "stdout",
     "output_type": "stream",
     "text": [
      "Training until validation scores don't improve for 20 rounds\n",
      "[200]\ttraining's multi_logloss: 0.0368954\tvalid_1's multi_logloss: 0.08371\n",
      "Early stopping, best iteration is:\n",
      "[268]\ttraining's multi_logloss: 0.0366681\tvalid_1's multi_logloss: 0.083272\n",
      "pos_loss = 6.634154103348134, floor_loss = 0.07614213197969544\n",
      "fold 3: mean position error 6.71029623532783\n"
     ]
    },
    {
     "name": "stderr",
     "output_type": "stream",
     "text": [
      "[1.7GB(+0.0GB): 2.473sec] fit F\n",
      "[1.7GB(+0.0GB): 7.525sec] fit X\n"
     ]
    },
    {
     "name": "stdout",
     "output_type": "stream",
     "text": [
      "Training until validation scores don't improve for 200 rounds\n",
      "[200]\ttraining's rmse: 1.45102\tvalid_1's rmse: 4.54736\n",
      "[400]\ttraining's rmse: 1.06865\tvalid_1's rmse: 4.54204\n",
      "Early stopping, best iteration is:\n",
      "[291]\ttraining's rmse: 1.22394\tvalid_1's rmse: 4.52464\n"
     ]
    },
    {
     "name": "stderr",
     "output_type": "stream",
     "text": [
      "[1.7GB(+0.0GB): 2.997sec] fit Y\n"
     ]
    },
    {
     "name": "stdout",
     "output_type": "stream",
     "text": [
      "Training until validation scores don't improve for 20 rounds\n",
      "Early stopping, best iteration is:\n",
      "[121]\ttraining's multi_logloss: 0.0373874\tvalid_1's multi_logloss: 0.104272\n",
      "pos_loss = 5.96365581210205, floor_loss = 0.47588832487309646\n",
      "fold 4: mean position error 6.4395441369751465\n",
      "*+*+*+*+*+*+*+*+*+*+*+*+*+*+*+*+*+*+*+*+*+*+*+*+*+*+*+*+*+*+*+*+*+*+*+*+*+*+*+*+\n",
      "file #6, shape=(3940, 1256), name=5d2709a003f801723c3251bf_train.csv\n",
      "pos_loss = 6.674118974389074, floor_loss = 0.17893401015228427\n",
      "mean position error 6.853052984541359\n",
      "*+*+*+*+*+*+*+*+*+*+*+*+*+*+*+*+*+*+*+*+*+*+*+*+*+*+*+*+*+*+*+*+*+*+*+*+*+*+*+*+\n"
     ]
    },
    {
     "name": "stderr",
     "output_type": "stream",
     "text": [
      "[1.7GB(+0.0GB): 1.261sec] fit F\n",
      "[1.7GB(+0.0GB): 5.550sec] fit X\n"
     ]
    },
    {
     "name": "stdout",
     "output_type": "stream",
     "text": [
      "Training until validation scores don't improve for 200 rounds\n",
      "[200]\ttraining's rmse: 1.80157\tvalid_1's rmse: 6.42531\n",
      "[400]\ttraining's rmse: 1.30889\tvalid_1's rmse: 6.34827\n",
      "[600]\ttraining's rmse: 1.07566\tvalid_1's rmse: 6.33183\n",
      "Early stopping, best iteration is:\n",
      "[499]\ttraining's rmse: 1.17883\tvalid_1's rmse: 6.32456\n"
     ]
    },
    {
     "name": "stderr",
     "output_type": "stream",
     "text": [
      "[1.7GB(+0.0GB): 6.555sec] fit Y\n"
     ]
    },
    {
     "name": "stdout",
     "output_type": "stream",
     "text": [
      "Training until validation scores don't improve for 20 rounds\n",
      "[200]\ttraining's multi_logloss: 0.0264699\tvalid_1's multi_logloss: 0.0582203\n",
      "Early stopping, best iteration is:\n",
      "[352]\ttraining's multi_logloss: 0.0260661\tvalid_1's multi_logloss: 0.0573503\n",
      "pos_loss = 7.2774595754135545, floor_loss = 0.0732421875\n",
      "fold 0: mean position error 7.3507017629135545\n"
     ]
    },
    {
     "name": "stderr",
     "output_type": "stream",
     "text": [
      "[1.7GB(+0.0GB): 4.665sec] fit F\n",
      "[1.9GB(-0.0GB): 7.059sec] fit X\n"
     ]
    },
    {
     "name": "stdout",
     "output_type": "stream",
     "text": [
      "Training until validation scores don't improve for 200 rounds\n",
      "[200]\ttraining's rmse: 1.8341\tvalid_1's rmse: 6.18267\n",
      "[400]\ttraining's rmse: 1.3371\tvalid_1's rmse: 6.12743\n",
      "[600]\ttraining's rmse: 1.10357\tvalid_1's rmse: 6.11228\n",
      "Early stopping, best iteration is:\n",
      "[484]\ttraining's rmse: 1.22332\tvalid_1's rmse: 6.10613\n"
     ]
    },
    {
     "name": "stderr",
     "output_type": "stream",
     "text": [
      "[1.9GB(+0.0GB): 6.503sec] fit Y\n"
     ]
    },
    {
     "name": "stdout",
     "output_type": "stream",
     "text": [
      "Training until validation scores don't improve for 20 rounds\n",
      "[200]\ttraining's multi_logloss: 0.0264667\tvalid_1's multi_logloss: 0.0568676\n",
      "Early stopping, best iteration is:\n",
      "[279]\ttraining's multi_logloss: 0.0261516\tvalid_1's multi_logloss: 0.0561772\n",
      "pos_loss = 7.436043115606397, floor_loss = 0.009765625\n",
      "fold 1: mean position error 7.445808740606397\n"
     ]
    },
    {
     "name": "stderr",
     "output_type": "stream",
     "text": [
      "[1.9GB(+0.0GB): 3.961sec] fit F\n",
      "[1.7GB(+0.0GB): 9.591sec] fit X\n"
     ]
    },
    {
     "name": "stdout",
     "output_type": "stream",
     "text": [
      "Training until validation scores don't improve for 200 rounds\n",
      "[200]\ttraining's rmse: 1.86406\tvalid_1's rmse: 5.67957\n",
      "[400]\ttraining's rmse: 1.36127\tvalid_1's rmse: 5.61436\n",
      "[600]\ttraining's rmse: 1.12573\tvalid_1's rmse: 5.62245\n",
      "Early stopping, best iteration is:\n",
      "[440]\ttraining's rmse: 1.30225\tvalid_1's rmse: 5.61137\n"
     ]
    },
    {
     "name": "stderr",
     "output_type": "stream",
     "text": [
      "[1.7GB(+0.0GB): 6.041sec] fit Y\n"
     ]
    },
    {
     "name": "stdout",
     "output_type": "stream",
     "text": [
      "Training until validation scores don't improve for 20 rounds\n",
      "[200]\ttraining's multi_logloss: 0.0264958\tvalid_1's multi_logloss: 0.0492397\n",
      "Early stopping, best iteration is:\n",
      "[229]\ttraining's multi_logloss: 0.0263716\tvalid_1's multi_logloss: 0.0490837\n",
      "pos_loss = 7.789803556735674, floor_loss = 0.01953125\n",
      "fold 2: mean position error 7.809334806735674\n"
     ]
    },
    {
     "name": "stderr",
     "output_type": "stream",
     "text": [
      "[1.7GB(+0.0GB): 3.544sec] fit F\n",
      "[1.7GB(+0.0GB): 36.985sec] fit X\n"
     ]
    },
    {
     "name": "stdout",
     "output_type": "stream",
     "text": [
      "Training until validation scores don't improve for 200 rounds\n",
      "[200]\ttraining's rmse: 1.8315\tvalid_1's rmse: 5.55093\n",
      "[400]\ttraining's rmse: 1.33\tvalid_1's rmse: 5.46147\n",
      "[600]\ttraining's rmse: 1.09171\tvalid_1's rmse: 5.42893\n",
      "[800]\ttraining's rmse: 0.943492\tvalid_1's rmse: 5.42243\n",
      "Early stopping, best iteration is:\n",
      "[734]\ttraining's rmse: 0.985462\tvalid_1's rmse: 5.41553\n"
     ]
    },
    {
     "name": "stderr",
     "output_type": "stream",
     "text": [
      "[1.7GB(+0.0GB): 8.249sec] fit Y\n"
     ]
    },
    {
     "name": "stdout",
     "output_type": "stream",
     "text": [
      "Training until validation scores don't improve for 20 rounds\n",
      "Early stopping, best iteration is:\n",
      "[173]\ttraining's multi_logloss: 0.0261217\tvalid_1's multi_logloss: 0.0926276\n"
     ]
    },
    {
     "name": "stderr",
     "output_type": "stream",
     "text": [
      "[1.7GB(+0.0GB): 3.022sec] fit F\n"
     ]
    },
    {
     "name": "stdout",
     "output_type": "stream",
     "text": [
      "pos_loss = 7.725068248527046, floor_loss = 0.2588733311624878\n",
      "fold 3: mean position error 7.983941579689534\n"
     ]
    },
    {
     "name": "stderr",
     "output_type": "stream",
     "text": [
      "[1.9GB(+0.0GB): 5.589sec] fit X\n"
     ]
    },
    {
     "name": "stdout",
     "output_type": "stream",
     "text": [
      "Training until validation scores don't improve for 200 rounds\n",
      "[200]\ttraining's rmse: 1.83208\tvalid_1's rmse: 5.26743\n",
      "[400]\ttraining's rmse: 1.34401\tvalid_1's rmse: 5.19383\n",
      "[600]\ttraining's rmse: 1.11451\tvalid_1's rmse: 5.18799\n",
      "[800]\ttraining's rmse: 0.97183\tvalid_1's rmse: 5.19312\n",
      "Early stopping, best iteration is:\n",
      "[643]\ttraining's rmse: 1.07819\tvalid_1's rmse: 5.18348\n"
     ]
    },
    {
     "name": "stderr",
     "output_type": "stream",
     "text": [
      "[1.9GB(+0.0GB): 7.634sec] fit Y\n"
     ]
    },
    {
     "name": "stdout",
     "output_type": "stream",
     "text": [
      "Training until validation scores don't improve for 20 rounds\n",
      "[200]\ttraining's multi_logloss: 0.0267114\tvalid_1's multi_logloss: 0.0623762\n",
      "Early stopping, best iteration is:\n",
      "[307]\ttraining's multi_logloss: 0.0262475\tvalid_1's multi_logloss: 0.0614789\n",
      "pos_loss = 6.957842890012634, floor_loss = 0.014653207424291761\n",
      "fold 4: mean position error 6.972496097436926\n",
      "*+*+*+*+*+*+*+*+*+*+*+*+*+*+*+*+*+*+*+*+*+*+*+*+*+*+*+*+*+*+*+*+*+*+*+*+*+*+*+*+\n",
      "file #7, shape=(15358, 1917), name=5d2709b303f801723c327472_train.csv\n",
      "pos_loss = 7.437255951267133, floor_loss = 0.07520510483135825\n",
      "mean position error 7.512461056098491\n",
      "*+*+*+*+*+*+*+*+*+*+*+*+*+*+*+*+*+*+*+*+*+*+*+*+*+*+*+*+*+*+*+*+*+*+*+*+*+*+*+*+\n"
     ]
    },
    {
     "name": "stderr",
     "output_type": "stream",
     "text": [
      "[1.9GB(+0.0GB): 4.084sec] fit F\n",
      "[2.0GB(+0.0GB): 20.207sec] fit X\n"
     ]
    },
    {
     "name": "stdout",
     "output_type": "stream",
     "text": [
      "Training until validation scores don't improve for 200 rounds\n",
      "[200]\ttraining's rmse: 2.39007\tvalid_1's rmse: 14.0605\n",
      "[400]\ttraining's rmse: 1.72891\tvalid_1's rmse: 13.8139\n",
      "[600]\ttraining's rmse: 1.40837\tvalid_1's rmse: 13.7301\n",
      "[800]\ttraining's rmse: 1.20523\tvalid_1's rmse: 13.6924\n",
      "[1000]\ttraining's rmse: 1.05871\tvalid_1's rmse: 13.6969\n",
      "Early stopping, best iteration is:\n",
      "[815]\ttraining's rmse: 1.19286\tvalid_1's rmse: 13.6796\n"
     ]
    },
    {
     "name": "stderr",
     "output_type": "stream",
     "text": [
      "[2.0GB(+0.0GB): 24.691sec] fit Y\n"
     ]
    },
    {
     "name": "stdout",
     "output_type": "stream",
     "text": [
      "Training until validation scores don't improve for 20 rounds\n",
      "Early stopping, best iteration is:\n",
      "[71]\ttraining's multi_logloss: 0.0218019\tvalid_1's multi_logloss: 0.0856497\n"
     ]
    },
    {
     "name": "stderr",
     "output_type": "stream",
     "text": [
      "[2.0GB(+0.0GB): 4.084sec] fit F\n"
     ]
    },
    {
     "name": "stdout",
     "output_type": "stream",
     "text": [
      "pos_loss = 12.22941247866878, floor_loss = 0.15257192676547512\n",
      "fold 0: mean position error 12.381984405434254\n"
     ]
    },
    {
     "name": "stderr",
     "output_type": "stream",
     "text": [
      "[2.0GB(+0.0GB): 22.470sec] fit X\n"
     ]
    },
    {
     "name": "stdout",
     "output_type": "stream",
     "text": [
      "Training until validation scores don't improve for 200 rounds\n",
      "[200]\ttraining's rmse: 2.47344\tvalid_1's rmse: 11.0687\n",
      "[400]\ttraining's rmse: 1.76435\tvalid_1's rmse: 10.8808\n",
      "[600]\ttraining's rmse: 1.43073\tvalid_1's rmse: 10.8216\n",
      "[800]\ttraining's rmse: 1.22267\tvalid_1's rmse: 10.795\n",
      "[1000]\ttraining's rmse: 1.07205\tvalid_1's rmse: 10.7855\n",
      "[1200]\ttraining's rmse: 0.9575\tvalid_1's rmse: 10.7677\n",
      "[1400]\ttraining's rmse: 0.86746\tvalid_1's rmse: 10.7458\n",
      "[1600]\ttraining's rmse: 0.793551\tvalid_1's rmse: 10.7394\n",
      "Early stopping, best iteration is:\n",
      "[1592]\ttraining's rmse: 0.796176\tvalid_1's rmse: 10.7381\n"
     ]
    },
    {
     "name": "stderr",
     "output_type": "stream",
     "text": [
      "[2.0GB(+0.0GB): 42.779sec] fit Y\n"
     ]
    },
    {
     "name": "stdout",
     "output_type": "stream",
     "text": [
      "Training until validation scores don't improve for 20 rounds\n",
      "Early stopping, best iteration is:\n",
      "[110]\ttraining's multi_logloss: 0.0215205\tvalid_1's multi_logloss: 0.0673306\n"
     ]
    },
    {
     "name": "stderr",
     "output_type": "stream",
     "text": [
      "[2.0GB(+0.0GB): 5.180sec] fit F\n"
     ]
    },
    {
     "name": "stdout",
     "output_type": "stream",
     "text": [
      "pos_loss = 10.585525655948823, floor_loss = 0.052340796743239305\n",
      "fold 1: mean position error 10.637866452692062\n"
     ]
    },
    {
     "name": "stderr",
     "output_type": "stream",
     "text": [
      "[2.0GB(+0.0GB): 23.485sec] fit X\n"
     ]
    },
    {
     "name": "stdout",
     "output_type": "stream",
     "text": [
      "Training until validation scores don't improve for 200 rounds\n",
      "[200]\ttraining's rmse: 2.39923\tvalid_1's rmse: 10.3223\n",
      "[400]\ttraining's rmse: 1.71057\tvalid_1's rmse: 10.1316\n",
      "[600]\ttraining's rmse: 1.38085\tvalid_1's rmse: 10.0544\n",
      "[800]\ttraining's rmse: 1.17503\tvalid_1's rmse: 10.0305\n",
      "[1000]\ttraining's rmse: 1.02482\tvalid_1's rmse: 9.9927\n",
      "[1200]\ttraining's rmse: 0.913511\tvalid_1's rmse: 9.97763\n",
      "[1400]\ttraining's rmse: 0.824503\tvalid_1's rmse: 9.97972\n",
      "Early stopping, best iteration is:\n",
      "[1236]\ttraining's rmse: 0.895876\tvalid_1's rmse: 9.97333\n"
     ]
    },
    {
     "name": "stderr",
     "output_type": "stream",
     "text": [
      "[2.0GB(+0.0GB): 35.217sec] fit Y\n"
     ]
    },
    {
     "name": "stdout",
     "output_type": "stream",
     "text": [
      "Training until validation scores don't improve for 20 rounds\n",
      "Early stopping, best iteration is:\n",
      "[80]\ttraining's multi_logloss: 0.0223988\tvalid_1's multi_logloss: 0.0549667\n"
     ]
    },
    {
     "name": "stderr",
     "output_type": "stream",
     "text": [
      "[2.0GB(-0.0GB): 4.282sec] fit F\n"
     ]
    },
    {
     "name": "stdout",
     "output_type": "stream",
     "text": [
      "pos_loss = 13.215985191151125, floor_loss = 0.004359197907585004\n",
      "fold 2: mean position error 13.22034438905871\n"
     ]
    },
    {
     "name": "stderr",
     "output_type": "stream",
     "text": [
      "[2.0GB(-0.0GB): 18.554sec] fit X\n"
     ]
    },
    {
     "name": "stdout",
     "output_type": "stream",
     "text": [
      "Training until validation scores don't improve for 200 rounds\n",
      "[200]\ttraining's rmse: 2.38632\tvalid_1's rmse: 19.297\n",
      "[400]\ttraining's rmse: 1.72275\tvalid_1's rmse: 19.1995\n",
      "[600]\ttraining's rmse: 1.40217\tvalid_1's rmse: 19.1657\n",
      "[800]\ttraining's rmse: 1.19902\tvalid_1's rmse: 19.1464\n",
      "[1000]\ttraining's rmse: 1.05544\tvalid_1's rmse: 19.1325\n",
      "[1200]\ttraining's rmse: 0.947176\tvalid_1's rmse: 19.1214\n",
      "[1400]\ttraining's rmse: 0.860895\tvalid_1's rmse: 19.1137\n",
      "[1600]\ttraining's rmse: 0.790066\tvalid_1's rmse: 19.113\n",
      "Early stopping, best iteration is:\n",
      "[1417]\ttraining's rmse: 0.854269\tvalid_1's rmse: 19.1094\n"
     ]
    },
    {
     "name": "stderr",
     "output_type": "stream",
     "text": [
      "[2.0GB(+0.0GB): 38.418sec] fit Y\n"
     ]
    },
    {
     "name": "stdout",
     "output_type": "stream",
     "text": [
      "Training until validation scores don't improve for 20 rounds\n",
      "[200]\ttraining's multi_logloss: 0.0207933\tvalid_1's multi_logloss: 0.0925517\n",
      "Early stopping, best iteration is:\n",
      "[209]\ttraining's multi_logloss: 0.0207769\tvalid_1's multi_logloss: 0.0925198\n"
     ]
    },
    {
     "name": "stderr",
     "output_type": "stream",
     "text": [
      "[2.0GB(-0.0GB): 8.311sec] fit F\n"
     ]
    },
    {
     "name": "stdout",
     "output_type": "stream",
     "text": [
      "pos_loss = 15.687919811312385, floor_loss = 0.15257192676547515\n",
      "fold 3: mean position error 15.84049173807786\n"
     ]
    },
    {
     "name": "stderr",
     "output_type": "stream",
     "text": [
      "[2.0GB(+0.0GB): 53.760sec] fit X\n"
     ]
    },
    {
     "name": "stdout",
     "output_type": "stream",
     "text": [
      "Training until validation scores don't improve for 200 rounds\n",
      "[200]\ttraining's rmse: 2.40676\tvalid_1's rmse: 10.739\n",
      "[400]\ttraining's rmse: 1.71812\tvalid_1's rmse: 10.6589\n",
      "[600]\ttraining's rmse: 1.39155\tvalid_1's rmse: 10.6356\n",
      "[800]\ttraining's rmse: 1.1871\tvalid_1's rmse: 10.6173\n",
      "[1000]\ttraining's rmse: 1.0415\tvalid_1's rmse: 10.6094\n",
      "[1200]\ttraining's rmse: 0.932186\tvalid_1's rmse: 10.6086\n",
      "Early stopping, best iteration is:\n",
      "[1098]\ttraining's rmse: 0.983934\tvalid_1's rmse: 10.604\n"
     ]
    },
    {
     "name": "stderr",
     "output_type": "stream",
     "text": [
      "[2.0GB(-0.0GB): 31.983sec] fit Y\n"
     ]
    },
    {
     "name": "stdout",
     "output_type": "stream",
     "text": [
      "Training until validation scores don't improve for 20 rounds\n",
      "Early stopping, best iteration is:\n",
      "[120]\ttraining's multi_logloss: 0.0213623\tvalid_1's multi_logloss: 0.0735309\n"
     ]
    },
    {
     "name": "stderr",
     "output_type": "stream",
     "text": [
      "[2.0GB(+0.0GB): 5.815sec] fit F\n"
     ]
    },
    {
     "name": "stdout",
     "output_type": "stream",
     "text": [
      "pos_loss = 11.89754642848723, floor_loss = 0.1961639058413252\n",
      "fold 4: mean position error 12.093710334328556\n",
      "*+*+*+*+*+*+*+*+*+*+*+*+*+*+*+*+*+*+*+*+*+*+*+*+*+*+*+*+*+*+*+*+*+*+*+*+*+*+*+*+\n",
      "file #8, shape=(17203, 2456), name=5d2709bb03f801723c32852c_train.csv\n",
      "pos_loss = 12.723526445608835, floor_loss = 0.11160844038830436\n",
      "mean position error 12.835134885997139\n",
      "*+*+*+*+*+*+*+*+*+*+*+*+*+*+*+*+*+*+*+*+*+*+*+*+*+*+*+*+*+*+*+*+*+*+*+*+*+*+*+*+\n"
     ]
    },
    {
     "name": "stderr",
     "output_type": "stream",
     "text": [
      "[2.5GB(-0.0GB): 81.771sec] fit X\n"
     ]
    },
    {
     "name": "stdout",
     "output_type": "stream",
     "text": [
      "Training until validation scores don't improve for 200 rounds\n",
      "[200]\ttraining's rmse: 2.46282\tvalid_1's rmse: 10.4071\n",
      "[400]\ttraining's rmse: 1.59497\tvalid_1's rmse: 9.74647\n",
      "[600]\ttraining's rmse: 1.22263\tvalid_1's rmse: 9.62162\n",
      "[800]\ttraining's rmse: 0.997003\tvalid_1's rmse: 9.55198\n",
      "Early stopping, best iteration is:\n",
      "[728]\ttraining's rmse: 1.062\tvalid_1's rmse: 9.53331\n"
     ]
    },
    {
     "name": "stderr",
     "output_type": "stream",
     "text": [
      "[2.5GB(-0.0GB): 38.576sec] fit Y\n"
     ]
    },
    {
     "name": "stdout",
     "output_type": "stream",
     "text": [
      "Training until validation scores don't improve for 20 rounds\n",
      "[200]\ttraining's multi_logloss: 0.0437964\tvalid_1's multi_logloss: 0.0991479\n",
      "Early stopping, best iteration is:\n",
      "[189]\ttraining's multi_logloss: 0.0438116\tvalid_1's multi_logloss: 0.0991038\n"
     ]
    },
    {
     "name": "stderr",
     "output_type": "stream",
     "text": [
      "[2.4GB(-0.0GB): 18.274sec] fit F\n"
     ]
    },
    {
     "name": "stdout",
     "output_type": "stream",
     "text": [
      "pos_loss = 8.546550481236011, floor_loss = 0.0074367873078829945\n",
      "fold 0: mean position error 8.553987268543894\n"
     ]
    },
    {
     "name": "stderr",
     "output_type": "stream",
     "text": [
      "[2.5GB(+0.0GB): 44.284sec] fit X\n"
     ]
    },
    {
     "name": "stdout",
     "output_type": "stream",
     "text": [
      "Training until validation scores don't improve for 200 rounds\n",
      "[200]\ttraining's rmse: 1.93228\tvalid_1's rmse: 8.84798\n",
      "[400]\ttraining's rmse: 1.34735\tvalid_1's rmse: 8.79898\n",
      "[600]\ttraining's rmse: 1.06127\tvalid_1's rmse: 8.7557\n",
      "[800]\ttraining's rmse: 0.880335\tvalid_1's rmse: 8.74266\n",
      "[1000]\ttraining's rmse: 0.754777\tvalid_1's rmse: 8.73741\n",
      "[1200]\ttraining's rmse: 0.662255\tvalid_1's rmse: 8.74015\n",
      "Early stopping, best iteration is:\n",
      "[1078]\ttraining's rmse: 0.715853\tvalid_1's rmse: 8.73498\n"
     ]
    },
    {
     "name": "stderr",
     "output_type": "stream",
     "text": [
      "[2.5GB(-0.0GB): 51.332sec] fit Y\n"
     ]
    },
    {
     "name": "stdout",
     "output_type": "stream",
     "text": [
      "Training until validation scores don't improve for 20 rounds\n",
      "[200]\ttraining's multi_logloss: 0.0441857\tvalid_1's multi_logloss: 0.0801199\n",
      "Early stopping, best iteration is:\n",
      "[295]\ttraining's multi_logloss: 0.0440634\tvalid_1's multi_logloss: 0.0799316\n"
     ]
    },
    {
     "name": "stderr",
     "output_type": "stream",
     "text": [
      "[2.5GB(-0.0GB): 26.242sec] fit F\n"
     ]
    },
    {
     "name": "stdout",
     "output_type": "stream",
     "text": [
      "pos_loss = 7.8046693472634665, floor_loss = 0.03718393653941497\n",
      "fold 1: mean position error 7.841853283802881\n"
     ]
    },
    {
     "name": "stderr",
     "output_type": "stream",
     "text": [
      "[2.5GB(+0.0GB): 42.073sec] fit X\n"
     ]
    },
    {
     "name": "stdout",
     "output_type": "stream",
     "text": [
      "Training until validation scores don't improve for 200 rounds\n",
      "[200]\ttraining's rmse: 1.99439\tvalid_1's rmse: 11.0486\n",
      "[400]\ttraining's rmse: 1.392\tvalid_1's rmse: 11.0344\n",
      "[600]\ttraining's rmse: 1.09226\tvalid_1's rmse: 11.0089\n",
      "[800]\ttraining's rmse: 0.903509\tvalid_1's rmse: 11.0018\n",
      "[1000]\ttraining's rmse: 0.774229\tvalid_1's rmse: 10.9771\n",
      "[1200]\ttraining's rmse: 0.676791\tvalid_1's rmse: 10.9602\n",
      "[1400]\ttraining's rmse: 0.602119\tvalid_1's rmse: 10.953\n",
      "Early stopping, best iteration is:\n",
      "[1389]\ttraining's rmse: 0.605422\tvalid_1's rmse: 10.9432\n"
     ]
    },
    {
     "name": "stderr",
     "output_type": "stream",
     "text": [
      "[2.4GB(-0.0GB): 62.148sec] fit Y\n"
     ]
    },
    {
     "name": "stdout",
     "output_type": "stream",
     "text": [
      "Training until validation scores don't improve for 20 rounds\n",
      "Early stopping, best iteration is:\n",
      "[96]\ttraining's multi_logloss: 0.0444305\tvalid_1's multi_logloss: 0.105011\n"
     ]
    },
    {
     "name": "stderr",
     "output_type": "stream",
     "text": [
      "[2.4GB(-0.0GB): 10.770sec] fit F\n"
     ]
    },
    {
     "name": "stdout",
     "output_type": "stream",
     "text": [
      "pos_loss = 8.863858855697849, floor_loss = 0.0\n",
      "fold 2: mean position error 8.863858855697849\n"
     ]
    },
    {
     "name": "stderr",
     "output_type": "stream",
     "text": [
      "[2.5GB(+0.0GB): 71.913sec] fit X\n"
     ]
    },
    {
     "name": "stdout",
     "output_type": "stream",
     "text": [
      "Training until validation scores don't improve for 200 rounds\n",
      "[200]\ttraining's rmse: 2.00083\tvalid_1's rmse: 7.76988\n",
      "[400]\ttraining's rmse: 1.39764\tvalid_1's rmse: 7.63571\n",
      "[600]\ttraining's rmse: 1.09829\tvalid_1's rmse: 7.6093\n",
      "[800]\ttraining's rmse: 0.90874\tvalid_1's rmse: 7.57573\n",
      "[1000]\ttraining's rmse: 0.775851\tvalid_1's rmse: 7.57227\n",
      "[1200]\ttraining's rmse: 0.677775\tvalid_1's rmse: 7.56804\n",
      "Early stopping, best iteration is:\n",
      "[1056]\ttraining's rmse: 0.745198\tvalid_1's rmse: 7.56566\n"
     ]
    },
    {
     "name": "stderr",
     "output_type": "stream",
     "text": [
      "[2.5GB(-0.0GB): 49.742sec] fit Y\n"
     ]
    },
    {
     "name": "stdout",
     "output_type": "stream",
     "text": [
      "Training until validation scores don't improve for 20 rounds\n",
      "[200]\ttraining's multi_logloss: 0.0442022\tvalid_1's multi_logloss: 0.0721908\n",
      "Early stopping, best iteration is:\n",
      "[307]\ttraining's multi_logloss: 0.0439394\tvalid_1's multi_logloss: 0.0718572\n"
     ]
    },
    {
     "name": "stderr",
     "output_type": "stream",
     "text": [
      "[2.5GB(+0.0GB): 25.043sec] fit F\n"
     ]
    },
    {
     "name": "stdout",
     "output_type": "stream",
     "text": [
      "pos_loss = 7.919791179031151, floor_loss = 0.0\n",
      "fold 3: mean position error 7.919791179031151\n"
     ]
    },
    {
     "name": "stderr",
     "output_type": "stream",
     "text": [
      "[2.5GB(+0.0GB): 22.685sec] fit X\n"
     ]
    },
    {
     "name": "stdout",
     "output_type": "stream",
     "text": [
      "Training until validation scores don't improve for 200 rounds\n",
      "[200]\ttraining's rmse: 1.99798\tvalid_1's rmse: 7.01318\n",
      "[400]\ttraining's rmse: 1.3927\tvalid_1's rmse: 6.92957\n",
      "[600]\ttraining's rmse: 1.09915\tvalid_1's rmse: 6.89917\n",
      "[800]\ttraining's rmse: 0.910527\tvalid_1's rmse: 6.87742\n",
      "[1000]\ttraining's rmse: 0.777867\tvalid_1's rmse: 6.85696\n",
      "[1200]\ttraining's rmse: 0.680444\tvalid_1's rmse: 6.85101\n",
      "[1400]\ttraining's rmse: 0.607128\tvalid_1's rmse: 6.84368\n",
      "[1600]\ttraining's rmse: 0.550162\tvalid_1's rmse: 6.83949\n",
      "[1800]\ttraining's rmse: 0.506019\tvalid_1's rmse: 6.83735\n",
      "[2000]\ttraining's rmse: 0.470928\tvalid_1's rmse: 6.83196\n",
      "[2200]\ttraining's rmse: 0.439806\tvalid_1's rmse: 6.83073\n",
      "[2400]\ttraining's rmse: 0.412852\tvalid_1's rmse: 6.82686\n",
      "Early stopping, best iteration is:\n",
      "[2282]\ttraining's rmse: 0.427873\tvalid_1's rmse: 6.8252\n"
     ]
    },
    {
     "name": "stderr",
     "output_type": "stream",
     "text": [
      "[2.5GB(+0.0GB): 96.461sec] fit Y\n"
     ]
    },
    {
     "name": "stdout",
     "output_type": "stream",
     "text": [
      "Training until validation scores don't improve for 20 rounds\n",
      "Early stopping, best iteration is:\n",
      "[124]\ttraining's multi_logloss: 0.0451364\tvalid_1's multi_logloss: 0.107887\n"
     ]
    },
    {
     "name": "stderr",
     "output_type": "stream",
     "text": [
      "[2.4GB(-0.0GB): 13.178sec] fit F\n"
     ]
    },
    {
     "name": "stdout",
     "output_type": "stream",
     "text": [
      "pos_loss = 7.359595328235119, floor_loss = 0.15624999999999997\n",
      "fold 4: mean position error 7.515845328235119\n",
      "*+*+*+*+*+*+*+*+*+*+*+*+*+*+*+*+*+*+*+*+*+*+*+*+*+*+*+*+*+*+*+*+*+*+*+*+*+*+*+*+\n",
      "file #9, shape=(10083, 5835), name=5d2709c303f801723c3299ee_train.csv\n",
      "pos_loss = 8.098984122252784, floor_loss = 0.040166617078250526\n",
      "mean position error 8.139150739331035\n",
      "*+*+*+*+*+*+*+*+*+*+*+*+*+*+*+*+*+*+*+*+*+*+*+*+*+*+*+*+*+*+*+*+*+*+*+*+*+*+*+*+\n"
     ]
    },
    {
     "name": "stderr",
     "output_type": "stream",
     "text": [
      "[1.7GB(+0.0GB): 15.104sec] fit X\n"
     ]
    },
    {
     "name": "stdout",
     "output_type": "stream",
     "text": [
      "Training until validation scores don't improve for 200 rounds\n",
      "[200]\ttraining's rmse: 1.53028\tvalid_1's rmse: 6.70177\n",
      "[400]\ttraining's rmse: 1.09331\tvalid_1's rmse: 6.64278\n",
      "[600]\ttraining's rmse: 0.899388\tvalid_1's rmse: 6.61756\n",
      "[800]\ttraining's rmse: 0.777658\tvalid_1's rmse: 6.60372\n",
      "[1000]\ttraining's rmse: 0.694979\tvalid_1's rmse: 6.59768\n",
      "Early stopping, best iteration is:\n",
      "[953]\ttraining's rmse: 0.711855\tvalid_1's rmse: 6.59619\n"
     ]
    },
    {
     "name": "stderr",
     "output_type": "stream",
     "text": [
      "[1.7GB(+0.0GB): 15.546sec] fit Y\n"
     ]
    },
    {
     "name": "stdout",
     "output_type": "stream",
     "text": [
      "Training until validation scores don't improve for 20 rounds\n",
      "Early stopping, best iteration is:\n",
      "[115]\ttraining's multi_logloss: 0.0186837\tvalid_1's multi_logloss: 0.0409898\n",
      "pos_loss = 9.225069504586873, floor_loss = 0.09720837487537387\n",
      "fold 0: mean position error 9.322277879462247\n"
     ]
    },
    {
     "name": "stderr",
     "output_type": "stream",
     "text": [
      "[1.7GB(+0.0GB): 2.468sec] fit F\n",
      "[1.7GB(+0.0GB): 5.365sec] fit X\n"
     ]
    },
    {
     "name": "stdout",
     "output_type": "stream",
     "text": [
      "Training until validation scores don't improve for 200 rounds\n",
      "[200]\ttraining's rmse: 1.47017\tvalid_1's rmse: 11.0637\n",
      "[400]\ttraining's rmse: 1.04834\tvalid_1's rmse: 10.8773\n",
      "[600]\ttraining's rmse: 0.860131\tvalid_1's rmse: 10.7892\n",
      "[800]\ttraining's rmse: 0.745988\tvalid_1's rmse: 10.7587\n",
      "Early stopping, best iteration is:\n",
      "[721]\ttraining's rmse: 0.785544\tvalid_1's rmse: 10.7474\n"
     ]
    },
    {
     "name": "stderr",
     "output_type": "stream",
     "text": [
      "[1.7GB(+0.0GB): 12.323sec] fit Y\n"
     ]
    },
    {
     "name": "stdout",
     "output_type": "stream",
     "text": [
      "Training until validation scores don't improve for 20 rounds\n",
      "Early stopping, best iteration is:\n",
      "[43]\ttraining's multi_logloss: 0.0212785\tvalid_1's multi_logloss: 0.119625\n",
      "pos_loss = 11.352571205762924, floor_loss = 0.9795613160518443\n",
      "fold 1: mean position error 12.332132521814769\n"
     ]
    },
    {
     "name": "stderr",
     "output_type": "stream",
     "text": [
      "[1.7GB(+0.0GB): 1.505sec] fit F\n",
      "[1.7GB(+0.0GB): 11.578sec] fit X\n"
     ]
    },
    {
     "name": "stdout",
     "output_type": "stream",
     "text": [
      "Training until validation scores don't improve for 200 rounds\n",
      "[200]\ttraining's rmse: 1.51166\tvalid_1's rmse: 7.62203\n",
      "[400]\ttraining's rmse: 1.08325\tvalid_1's rmse: 7.56244\n",
      "[600]\ttraining's rmse: 0.886715\tvalid_1's rmse: 7.54687\n",
      "[800]\ttraining's rmse: 0.766395\tvalid_1's rmse: 7.53875\n",
      "[1000]\ttraining's rmse: 0.681562\tvalid_1's rmse: 7.5308\n",
      "[1200]\ttraining's rmse: 0.621548\tvalid_1's rmse: 7.53547\n",
      "Early stopping, best iteration is:\n",
      "[1011]\ttraining's rmse: 0.677452\tvalid_1's rmse: 7.52863\n"
     ]
    },
    {
     "name": "stderr",
     "output_type": "stream",
     "text": [
      "[1.7GB(+0.0GB): 16.430sec] fit Y\n"
     ]
    },
    {
     "name": "stdout",
     "output_type": "stream",
     "text": [
      "Training until validation scores don't improve for 20 rounds\n",
      "Early stopping, best iteration is:\n",
      "[110]\ttraining's multi_logloss: 0.0187958\tvalid_1's multi_logloss: 0.0441671\n",
      "pos_loss = 8.261204968822243, floor_loss = 0.029925187032418952\n",
      "fold 2: mean position error 8.291130155854662\n"
     ]
    },
    {
     "name": "stderr",
     "output_type": "stream",
     "text": [
      "[1.7GB(+0.0GB): 2.501sec] fit F\n",
      "[1.7GB(+0.0GB): 11.116sec] fit X\n"
     ]
    },
    {
     "name": "stdout",
     "output_type": "stream",
     "text": [
      "Training until validation scores don't improve for 200 rounds\n",
      "[200]\ttraining's rmse: 1.50335\tvalid_1's rmse: 7.92717\n",
      "[400]\ttraining's rmse: 1.0741\tvalid_1's rmse: 7.88025\n",
      "[600]\ttraining's rmse: 0.879973\tvalid_1's rmse: 7.87379\n",
      "[800]\ttraining's rmse: 0.761811\tvalid_1's rmse: 7.85953\n",
      "[1000]\ttraining's rmse: 0.681788\tvalid_1's rmse: 7.85198\n",
      "[1200]\ttraining's rmse: 0.62344\tvalid_1's rmse: 7.84029\n",
      "[1400]\ttraining's rmse: 0.578063\tvalid_1's rmse: 7.83364\n",
      "[1600]\ttraining's rmse: 0.540791\tvalid_1's rmse: 7.835\n",
      "Early stopping, best iteration is:\n",
      "[1474]\ttraining's rmse: 0.56329\tvalid_1's rmse: 7.83026\n"
     ]
    },
    {
     "name": "stderr",
     "output_type": "stream",
     "text": [
      "[1.7GB(+0.0GB): 21.101sec] fit Y\n"
     ]
    },
    {
     "name": "stdout",
     "output_type": "stream",
     "text": [
      "Training until validation scores don't improve for 20 rounds\n",
      "[200]\ttraining's multi_logloss: 0.0188448\tvalid_1's multi_logloss: 0.0233929\n",
      "Early stopping, best iteration is:\n",
      "[184]\ttraining's multi_logloss: 0.0188448\tvalid_1's multi_logloss: 0.0233929\n"
     ]
    },
    {
     "name": "stderr",
     "output_type": "stream",
     "text": [
      "[1.7GB(+0.0GB): 3.553sec] fit F\n"
     ]
    },
    {
     "name": "stdout",
     "output_type": "stream",
     "text": [
      "pos_loss = 9.662145729921955, floor_loss = 0.0\n",
      "fold 3: mean position error 9.662145729921955\n"
     ]
    },
    {
     "name": "stderr",
     "output_type": "stream",
     "text": [
      "[1.7GB(+0.0GB): 15.377sec] fit X\n"
     ]
    },
    {
     "name": "stdout",
     "output_type": "stream",
     "text": [
      "Training until validation scores don't improve for 200 rounds\n",
      "[200]\ttraining's rmse: 1.5707\tvalid_1's rmse: 6.57902\n",
      "[400]\ttraining's rmse: 1.12864\tvalid_1's rmse: 6.5527\n",
      "[600]\ttraining's rmse: 0.9199\tvalid_1's rmse: 6.53443\n",
      "[800]\ttraining's rmse: 0.792406\tvalid_1's rmse: 6.5135\n",
      "[1000]\ttraining's rmse: 0.705827\tvalid_1's rmse: 6.50992\n",
      "[1200]\ttraining's rmse: 0.642069\tvalid_1's rmse: 6.49992\n",
      "[1400]\ttraining's rmse: 0.592722\tvalid_1's rmse: 6.49256\n",
      "[1600]\ttraining's rmse: 0.553711\tvalid_1's rmse: 6.4916\n",
      "Early stopping, best iteration is:\n",
      "[1486]\ttraining's rmse: 0.574945\tvalid_1's rmse: 6.48769\n"
     ]
    },
    {
     "name": "stderr",
     "output_type": "stream",
     "text": [
      "[1.7GB(+0.0GB): 21.730sec] fit Y\n"
     ]
    },
    {
     "name": "stdout",
     "output_type": "stream",
     "text": [
      "Training until validation scores don't improve for 20 rounds\n",
      "[200]\ttraining's multi_logloss: 0.0187658\tvalid_1's multi_logloss: 0.024275\n",
      "Early stopping, best iteration is:\n",
      "[292]\ttraining's multi_logloss: 0.0185865\tvalid_1's multi_logloss: 0.0239887\n"
     ]
    },
    {
     "name": "stderr",
     "output_type": "stream",
     "text": [
      "[1.7GB(+0.0GB): 5.082sec] fit F\n"
     ]
    },
    {
     "name": "stdout",
     "output_type": "stream",
     "text": [
      "pos_loss = 8.592887850161274, floor_loss = 0.0\n",
      "fold 4: mean position error 8.592887850161274\n",
      "*+*+*+*+*+*+*+*+*+*+*+*+*+*+*+*+*+*+*+*+*+*+*+*+*+*+*+*+*+*+*+*+*+*+*+*+*+*+*+*+\n",
      "file #10, shape=(10027, 2143), name=5d2709d403f801723c32bd39_train.csv\n",
      "pos_loss = 9.418949392192797, floor_loss = 0.22140221402214025\n",
      "mean position error 9.640351606214937\n",
      "*+*+*+*+*+*+*+*+*+*+*+*+*+*+*+*+*+*+*+*+*+*+*+*+*+*+*+*+*+*+*+*+*+*+*+*+*+*+*+*+\n"
     ]
    },
    {
     "name": "stderr",
     "output_type": "stream",
     "text": [
      "[1.7GB(+0.0GB): 37.212sec] fit X\n"
     ]
    },
    {
     "name": "stdout",
     "output_type": "stream",
     "text": [
      "Training until validation scores don't improve for 200 rounds\n",
      "[200]\ttraining's rmse: 1.39108\tvalid_1's rmse: 6.12407\n",
      "[400]\ttraining's rmse: 1.02431\tvalid_1's rmse: 6.06412\n",
      "[600]\ttraining's rmse: 0.853075\tvalid_1's rmse: 6.05165\n",
      "[800]\ttraining's rmse: 0.743465\tvalid_1's rmse: 6.0503\n",
      "[1000]\ttraining's rmse: 0.665951\tvalid_1's rmse: 6.04105\n",
      "[1200]\ttraining's rmse: 0.607258\tvalid_1's rmse: 6.02854\n",
      "Early stopping, best iteration is:\n",
      "[1171]\ttraining's rmse: 0.61434\tvalid_1's rmse: 6.02714\n"
     ]
    },
    {
     "name": "stderr",
     "output_type": "stream",
     "text": [
      "[1.7GB(+0.0GB): 15.063sec] fit Y\n"
     ]
    },
    {
     "name": "stdout",
     "output_type": "stream",
     "text": [
      "Training until validation scores don't improve for 20 rounds\n",
      "Early stopping, best iteration is:\n",
      "[84]\ttraining's multi_logloss: 0.0309007\tvalid_1's multi_logloss: 0.140399\n",
      "pos_loss = 11.039518568330305, floor_loss = 0.3940217391304348\n",
      "fold 0: mean position error 11.43354030746074\n"
     ]
    },
    {
     "name": "stderr",
     "output_type": "stream",
     "text": [
      "[1.7GB(+0.0GB): 1.820sec] fit F\n",
      "[1.7GB(+0.0GB): 19.078sec] fit X\n"
     ]
    },
    {
     "name": "stdout",
     "output_type": "stream",
     "text": [
      "Training until validation scores don't improve for 200 rounds\n",
      "[200]\ttraining's rmse: 1.40058\tvalid_1's rmse: 5.29647\n",
      "[400]\ttraining's rmse: 1.03364\tvalid_1's rmse: 5.26818\n",
      "Early stopping, best iteration is:\n",
      "[393]\ttraining's rmse: 1.04166\tvalid_1's rmse: 5.2662\n"
     ]
    },
    {
     "name": "stderr",
     "output_type": "stream",
     "text": [
      "[1.7GB(+0.0GB): 6.742sec] fit Y\n"
     ]
    },
    {
     "name": "stdout",
     "output_type": "stream",
     "text": [
      "Training until validation scores don't improve for 20 rounds\n",
      "[200]\ttraining's multi_logloss: 0.0310717\tvalid_1's multi_logloss: 0.0654105\n",
      "[400]\ttraining's multi_logloss: 0.0306441\tvalid_1's multi_logloss: 0.0647416\n",
      "Early stopping, best iteration is:\n",
      "[486]\ttraining's multi_logloss: 0.0305378\tvalid_1's multi_logloss: 0.0645046\n",
      "pos_loss = 10.382905070370983, floor_loss = 0.04076086956521739\n",
      "fold 1: mean position error 10.4236659399362\n"
     ]
    },
    {
     "name": "stderr",
     "output_type": "stream",
     "text": [
      "[1.7GB(+0.0GB): 7.121sec] fit F\n",
      "[1.7GB(+0.0GB): 10.856sec] fit X\n"
     ]
    },
    {
     "name": "stdout",
     "output_type": "stream",
     "text": [
      "Training until validation scores don't improve for 200 rounds\n",
      "[200]\ttraining's rmse: 1.37679\tvalid_1's rmse: 5.81771\n",
      "[400]\ttraining's rmse: 1.01825\tvalid_1's rmse: 5.82277\n",
      "Early stopping, best iteration is:\n",
      "[213]\ttraining's rmse: 1.34014\tvalid_1's rmse: 5.80416\n"
     ]
    },
    {
     "name": "stderr",
     "output_type": "stream",
     "text": [
      "[1.7GB(+0.0GB): 4.830sec] fit Y\n"
     ]
    },
    {
     "name": "stdout",
     "output_type": "stream",
     "text": [
      "Training until validation scores don't improve for 20 rounds\n",
      "[200]\ttraining's multi_logloss: 0.0311641\tvalid_1's multi_logloss: 0.0713274\n",
      "[400]\ttraining's multi_logloss: 0.0307028\tvalid_1's multi_logloss: 0.0705143\n",
      "Early stopping, best iteration is:\n",
      "[566]\ttraining's multi_logloss: 0.0305067\tvalid_1's multi_logloss: 0.0701218\n",
      "pos_loss = 10.17608822842375, floor_loss = 0.06108597285067874\n",
      "fold 2: mean position error 10.237174201274428\n"
     ]
    },
    {
     "name": "stderr",
     "output_type": "stream",
     "text": [
      "[1.7GB(+0.0GB): 8.442sec] fit F\n",
      "[1.7GB(+0.0GB): 14.354sec] fit X\n"
     ]
    },
    {
     "name": "stdout",
     "output_type": "stream",
     "text": [
      "Training until validation scores don't improve for 200 rounds\n",
      "[200]\ttraining's rmse: 1.39539\tvalid_1's rmse: 5.13043\n",
      "[400]\ttraining's rmse: 1.02714\tvalid_1's rmse: 5.10262\n",
      "[600]\ttraining's rmse: 0.853211\tvalid_1's rmse: 5.10929\n",
      "Early stopping, best iteration is:\n",
      "[481]\ttraining's rmse: 0.945207\tvalid_1's rmse: 5.09957\n"
     ]
    },
    {
     "name": "stderr",
     "output_type": "stream",
     "text": [
      "[1.7GB(+0.0GB): 7.807sec] fit Y\n"
     ]
    },
    {
     "name": "stdout",
     "output_type": "stream",
     "text": [
      "Training until validation scores don't improve for 20 rounds\n",
      "[200]\ttraining's multi_logloss: 0.0299778\tvalid_1's multi_logloss: 0.0786783\n",
      "[400]\ttraining's multi_logloss: 0.0296923\tvalid_1's multi_logloss: 0.0781357\n",
      "Early stopping, best iteration is:\n",
      "[425]\ttraining's multi_logloss: 0.0296747\tvalid_1's multi_logloss: 0.0781007\n",
      "pos_loss = 10.01882052210403, floor_loss = 0.040742417383431415\n",
      "fold 3: mean position error 10.05956293948746\n"
     ]
    },
    {
     "name": "stderr",
     "output_type": "stream",
     "text": [
      "[1.7GB(+0.0GB): 6.606sec] fit F\n",
      "[1.7GB(+0.0GB): 11.950sec] fit X\n"
     ]
    },
    {
     "name": "stdout",
     "output_type": "stream",
     "text": [
      "Training until validation scores don't improve for 200 rounds\n",
      "[200]\ttraining's rmse: 1.41794\tvalid_1's rmse: 4.70211\n",
      "[400]\ttraining's rmse: 1.03949\tvalid_1's rmse: 4.66866\n",
      "[600]\ttraining's rmse: 0.859572\tvalid_1's rmse: 4.678\n",
      "Early stopping, best iteration is:\n",
      "[400]\ttraining's rmse: 1.03949\tvalid_1's rmse: 4.66866\n"
     ]
    },
    {
     "name": "stderr",
     "output_type": "stream",
     "text": [
      "[1.7GB(+0.0GB): 6.617sec] fit Y\n"
     ]
    },
    {
     "name": "stdout",
     "output_type": "stream",
     "text": [
      "Training until validation scores don't improve for 20 rounds\n",
      "[200]\ttraining's multi_logloss: 0.0310567\tvalid_1's multi_logloss: 0.0728753\n",
      "Early stopping, best iteration is:\n",
      "[326]\ttraining's multi_logloss: 0.0304009\tvalid_1's multi_logloss: 0.0718146\n",
      "pos_loss = 9.354105486394602, floor_loss = 0.03398278205709108\n",
      "fold 4: mean position error 9.388088268451693\n",
      "*+*+*+*+*+*+*+*+*+*+*+*+*+*+*+*+*+*+*+*+*+*+*+*+*+*+*+*+*+*+*+*+*+*+*+*+*+*+*+*+\n",
      "file #11, shape=(11042, 1313), name=5d2709e003f801723c32d896_train.csv\n",
      "pos_loss = 10.194344477528492, floor_loss = 0.11410976272414418\n",
      "mean position error 10.308454240252637\n",
      "*+*+*+*+*+*+*+*+*+*+*+*+*+*+*+*+*+*+*+*+*+*+*+*+*+*+*+*+*+*+*+*+*+*+*+*+*+*+*+*+\n"
     ]
    },
    {
     "name": "stderr",
     "output_type": "stream",
     "text": [
      "[1.7GB(+0.0GB): 4.698sec] fit F\n",
      "[1.7GB(+0.0GB): 1.182sec] fit X\n"
     ]
    },
    {
     "name": "stdout",
     "output_type": "stream",
     "text": [
      "Training until validation scores don't improve for 200 rounds\n",
      "[200]\ttraining's rmse: 1.54538\tvalid_1's rmse: 6.88544\n",
      "[400]\ttraining's rmse: 1.19035\tvalid_1's rmse: 6.81445\n",
      "[600]\ttraining's rmse: 1.01878\tvalid_1's rmse: 6.78193\n",
      "Early stopping, best iteration is:\n",
      "[534]\ttraining's rmse: 1.06545\tvalid_1's rmse: 6.77607\n",
      "Training until validation scores don't improve for 20 rounds\n"
     ]
    },
    {
     "name": "stderr",
     "output_type": "stream",
     "text": [
      "[1.7GB(+0.0GB): 1.392sec] fit Y\n"
     ]
    },
    {
     "name": "stdout",
     "output_type": "stream",
     "text": [
      "Early stopping, best iteration is:\n",
      "[80]\ttraining's multi_logloss: 0.0567254\tvalid_1's multi_logloss: 0.129264\n",
      "pos_loss = 8.986406321018531, floor_loss = 0.08442776735459662\n",
      "fold 0: mean position error 9.070834088373129\n"
     ]
    },
    {
     "name": "stderr",
     "output_type": "stream",
     "text": [
      "[1.7GB(+0.0GB): 0.246sec] fit F\n",
      "[1.7GB(+0.0GB): 2.213sec] fit X\n"
     ]
    },
    {
     "name": "stdout",
     "output_type": "stream",
     "text": [
      "Training until validation scores don't improve for 200 rounds\n",
      "[200]\ttraining's rmse: 1.55113\tvalid_1's rmse: 5.25911\n",
      "Early stopping, best iteration is:\n",
      "[157]\ttraining's rmse: 1.71036\tvalid_1's rmse: 5.23361\n",
      "Training until validation scores don't improve for 20 rounds\n"
     ]
    },
    {
     "name": "stderr",
     "output_type": "stream",
     "text": [
      "[1.7GB(+0.0GB): 0.722sec] fit Y\n"
     ]
    },
    {
     "name": "stdout",
     "output_type": "stream",
     "text": [
      "Early stopping, best iteration is:\n",
      "[128]\ttraining's multi_logloss: 0.0559402\tvalid_1's multi_logloss: 0.101442\n",
      "pos_loss = 10.13792856483544, floor_loss = 0.0\n",
      "fold 1: mean position error 10.13792856483544\n"
     ]
    },
    {
     "name": "stderr",
     "output_type": "stream",
     "text": [
      "[1.7GB(+0.0GB): 0.364sec] fit F\n",
      "[1.7GB(+0.0GB): 1.263sec] fit X\n"
     ]
    },
    {
     "name": "stdout",
     "output_type": "stream",
     "text": [
      "Training until validation scores don't improve for 200 rounds\n",
      "[200]\ttraining's rmse: 1.56881\tvalid_1's rmse: 5.59055\n",
      "[400]\ttraining's rmse: 1.21323\tvalid_1's rmse: 5.50506\n",
      "[600]\ttraining's rmse: 1.05009\tvalid_1's rmse: 5.47225\n",
      "[800]\ttraining's rmse: 0.948175\tvalid_1's rmse: 5.45873\n",
      "[1000]\ttraining's rmse: 0.874651\tvalid_1's rmse: 5.44773\n",
      "[1200]\ttraining's rmse: 0.816331\tvalid_1's rmse: 5.4432\n",
      "[1400]\ttraining's rmse: 0.770584\tvalid_1's rmse: 5.43258\n",
      "[1600]\ttraining's rmse: 0.732769\tvalid_1's rmse: 5.43213\n",
      "[1800]\ttraining's rmse: 0.699685\tvalid_1's rmse: 5.43\n",
      "Early stopping, best iteration is:\n",
      "[1758]\ttraining's rmse: 0.706405\tvalid_1's rmse: 5.42524\n",
      "Training until validation scores don't improve for 20 rounds\n"
     ]
    },
    {
     "name": "stderr",
     "output_type": "stream",
     "text": [
      "[1.7GB(+0.0GB): 3.385sec] fit Y\n"
     ]
    },
    {
     "name": "stdout",
     "output_type": "stream",
     "text": [
      "Early stopping, best iteration is:\n",
      "[89]\ttraining's multi_logloss: 0.0543988\tvalid_1's multi_logloss: 0.10545\n",
      "pos_loss = 8.540905929106742, floor_loss = 0.225140712945591\n",
      "fold 2: mean position error 8.766046642052332\n"
     ]
    },
    {
     "name": "stderr",
     "output_type": "stream",
     "text": [
      "[1.7GB(+0.0GB): 0.268sec] fit F\n",
      "[1.7GB(+0.0GB): 1.104sec] fit X\n"
     ]
    },
    {
     "name": "stdout",
     "output_type": "stream",
     "text": [
      "Training until validation scores don't improve for 200 rounds\n",
      "[200]\ttraining's rmse: 1.54954\tvalid_1's rmse: 5.53981\n",
      "[400]\ttraining's rmse: 1.19755\tvalid_1's rmse: 5.53304\n",
      "Early stopping, best iteration is:\n",
      "[335]\ttraining's rmse: 1.28202\tvalid_1's rmse: 5.51364\n",
      "Training until validation scores don't improve for 20 rounds\n"
     ]
    },
    {
     "name": "stderr",
     "output_type": "stream",
     "text": [
      "[1.7GB(+0.0GB): 1.059sec] fit Y\n"
     ]
    },
    {
     "name": "stdout",
     "output_type": "stream",
     "text": [
      "[200]\ttraining's multi_logloss: 0.0543026\tvalid_1's multi_logloss: 0.0879472\n",
      "Early stopping, best iteration is:\n",
      "[192]\ttraining's multi_logloss: 0.0545172\tvalid_1's multi_logloss: 0.0879147\n",
      "pos_loss = 8.170433998855293, floor_loss = 0.0\n",
      "fold 3: mean position error 8.170433998855293\n"
     ]
    },
    {
     "name": "stderr",
     "output_type": "stream",
     "text": [
      "[1.7GB(+0.0GB): 0.467sec] fit F\n",
      "[1.7GB(+0.0GB): 0.794sec] fit X\n"
     ]
    },
    {
     "name": "stdout",
     "output_type": "stream",
     "text": [
      "Training until validation scores don't improve for 200 rounds\n",
      "[200]\ttraining's rmse: 1.53702\tvalid_1's rmse: 5.95998\n",
      "[400]\ttraining's rmse: 1.19102\tvalid_1's rmse: 5.85815\n",
      "[600]\ttraining's rmse: 1.02917\tvalid_1's rmse: 5.80336\n",
      "[800]\ttraining's rmse: 0.921868\tvalid_1's rmse: 5.77556\n",
      "[1000]\ttraining's rmse: 0.846443\tvalid_1's rmse: 5.75097\n",
      "[1200]\ttraining's rmse: 0.786609\tvalid_1's rmse: 5.74676\n",
      "[1400]\ttraining's rmse: 0.7406\tvalid_1's rmse: 5.74629\n",
      "Early stopping, best iteration is:\n",
      "[1311]\ttraining's rmse: 0.760126\tvalid_1's rmse: 5.73803\n"
     ]
    },
    {
     "name": "stderr",
     "output_type": "stream",
     "text": [
      "[1.7GB(+0.0GB): 2.711sec] fit Y\n"
     ]
    },
    {
     "name": "stdout",
     "output_type": "stream",
     "text": [
      "Training until validation scores don't improve for 20 rounds\n",
      "[200]\ttraining's multi_logloss: 0.0535131\tvalid_1's multi_logloss: 0.0942039\n",
      "Early stopping, best iteration is:\n",
      "[208]\ttraining's multi_logloss: 0.0533547\tvalid_1's multi_logloss: 0.0939509\n",
      "pos_loss = 9.03245265586141, floor_loss = 0.0\n",
      "fold 4: mean position error 9.03245265586141\n",
      "*+*+*+*+*+*+*+*+*+*+*+*+*+*+*+*+*+*+*+*+*+*+*+*+*+*+*+*+*+*+*+*+*+*+*+*+*+*+*+*+\n",
      "file #12, shape=(2662, 494), name=5da138274db8ce0c98bbd3d2_train.csv\n",
      "pos_loss = 8.97420684473497, floor_loss = 0.06198347107438017\n",
      "mean position error 9.036190315809352\n",
      "*+*+*+*+*+*+*+*+*+*+*+*+*+*+*+*+*+*+*+*+*+*+*+*+*+*+*+*+*+*+*+*+*+*+*+*+*+*+*+*+\n"
     ]
    },
    {
     "name": "stderr",
     "output_type": "stream",
     "text": [
      "[1.7GB(+0.0GB): 0.488sec] fit F\n",
      "[1.7GB(+0.0GB): 7.332sec] fit X\n"
     ]
    },
    {
     "name": "stdout",
     "output_type": "stream",
     "text": [
      "Training until validation scores don't improve for 200 rounds\n",
      "[200]\ttraining's rmse: 1.63488\tvalid_1's rmse: 7.37872\n",
      "[400]\ttraining's rmse: 1.09652\tvalid_1's rmse: 7.30634\n",
      "[600]\ttraining's rmse: 0.846148\tvalid_1's rmse: 7.30972\n",
      "Early stopping, best iteration is:\n",
      "[523]\ttraining's rmse: 0.925401\tvalid_1's rmse: 7.30411\n"
     ]
    },
    {
     "name": "stderr",
     "output_type": "stream",
     "text": [
      "[1.7GB(+0.0GB): 8.258sec] fit Y\n"
     ]
    },
    {
     "name": "stdout",
     "output_type": "stream",
     "text": [
      "Training until validation scores don't improve for 20 rounds\n",
      "[200]\ttraining's multi_logloss: 0.0439533\tvalid_1's multi_logloss: 0.294659\n",
      "Early stopping, best iteration is:\n",
      "[230]\ttraining's multi_logloss: 0.043787\tvalid_1's multi_logloss: 0.294076\n",
      "pos_loss = 9.035347017648649, floor_loss = 1.1666666666666665\n",
      "fold 0: mean position error 10.202013684315315\n"
     ]
    },
    {
     "name": "stderr",
     "output_type": "stream",
     "text": [
      "[1.7GB(+0.0GB): 4.895sec] fit F\n",
      "[1.9GB(+0.0GB): 10.394sec] fit X\n"
     ]
    },
    {
     "name": "stdout",
     "output_type": "stream",
     "text": [
      "Training until validation scores don't improve for 200 rounds\n",
      "[200]\ttraining's rmse: 1.70237\tvalid_1's rmse: 7.45368\n",
      "[400]\ttraining's rmse: 1.12158\tvalid_1's rmse: 7.35844\n",
      "[600]\ttraining's rmse: 0.853156\tvalid_1's rmse: 7.30169\n",
      "[800]\ttraining's rmse: 0.69839\tvalid_1's rmse: 7.28704\n",
      "[1000]\ttraining's rmse: 0.602259\tvalid_1's rmse: 7.28905\n",
      "Early stopping, best iteration is:\n",
      "[837]\ttraining's rmse: 0.677989\tvalid_1's rmse: 7.28017\n"
     ]
    },
    {
     "name": "stderr",
     "output_type": "stream",
     "text": [
      "[1.9GB(+0.0GB): 11.086sec] fit Y\n"
     ]
    },
    {
     "name": "stdout",
     "output_type": "stream",
     "text": [
      "Training until validation scores don't improve for 20 rounds\n",
      "Early stopping, best iteration is:\n",
      "[92]\ttraining's multi_logloss: 0.046473\tvalid_1's multi_logloss: 0.229321\n",
      "pos_loss = 10.198278851018788, floor_loss = 1.1416666666666666\n",
      "fold 1: mean position error 11.339945517685454\n"
     ]
    },
    {
     "name": "stderr",
     "output_type": "stream",
     "text": [
      "[1.9GB(+0.0GB): 2.832sec] fit F\n",
      "[1.7GB(+0.0GB): 9.114sec] fit X\n"
     ]
    },
    {
     "name": "stdout",
     "output_type": "stream",
     "text": [
      "Training until validation scores don't improve for 200 rounds\n",
      "[200]\ttraining's rmse: 1.70452\tvalid_1's rmse: 10.8643\n",
      "[400]\ttraining's rmse: 1.13433\tvalid_1's rmse: 10.7979\n",
      "[600]\ttraining's rmse: 0.866812\tvalid_1's rmse: 10.71\n",
      "[800]\ttraining's rmse: 0.712802\tvalid_1's rmse: 10.6736\n",
      "[1000]\ttraining's rmse: 0.616669\tvalid_1's rmse: 10.6528\n",
      "[1200]\ttraining's rmse: 0.553305\tvalid_1's rmse: 10.6261\n",
      "[1400]\ttraining's rmse: 0.504305\tvalid_1's rmse: 10.6087\n",
      "[1600]\ttraining's rmse: 0.467873\tvalid_1's rmse: 10.5913\n",
      "[1800]\ttraining's rmse: 0.438275\tvalid_1's rmse: 10.5746\n",
      "[2000]\ttraining's rmse: 0.413546\tvalid_1's rmse: 10.5716\n",
      "[2200]\ttraining's rmse: 0.392395\tvalid_1's rmse: 10.5634\n",
      "[2400]\ttraining's rmse: 0.375123\tvalid_1's rmse: 10.5545\n",
      "[2600]\ttraining's rmse: 0.359794\tvalid_1's rmse: 10.5414\n",
      "[2800]\ttraining's rmse: 0.346658\tvalid_1's rmse: 10.5403\n",
      "[3000]\ttraining's rmse: 0.334419\tvalid_1's rmse: 10.5311\n",
      "[3200]\ttraining's rmse: 0.323191\tvalid_1's rmse: 10.5216\n",
      "[3400]\ttraining's rmse: 0.313447\tvalid_1's rmse: 10.5146\n",
      "[3600]\ttraining's rmse: 0.304874\tvalid_1's rmse: 10.5099\n",
      "[3800]\ttraining's rmse: 0.29717\tvalid_1's rmse: 10.5082\n",
      "[4000]\ttraining's rmse: 0.289361\tvalid_1's rmse: 10.5014\n",
      "[4200]\ttraining's rmse: 0.282083\tvalid_1's rmse: 10.4976\n",
      "[4400]\ttraining's rmse: 0.275397\tvalid_1's rmse: 10.4948\n",
      "[4600]\ttraining's rmse: 0.269894\tvalid_1's rmse: 10.4923\n",
      "[4800]\ttraining's rmse: 0.264348\tvalid_1's rmse: 10.4876\n",
      "[5000]\ttraining's rmse: 0.258449\tvalid_1's rmse: 10.4804\n",
      "[5200]\ttraining's rmse: 0.253446\tvalid_1's rmse: 10.4774\n",
      "[5400]\ttraining's rmse: 0.248913\tvalid_1's rmse: 10.4729\n",
      "[5600]\ttraining's rmse: 0.244938\tvalid_1's rmse: 10.4702\n",
      "[5800]\ttraining's rmse: 0.241027\tvalid_1's rmse: 10.4697\n",
      "[6000]\ttraining's rmse: 0.237067\tvalid_1's rmse: 10.4665\n",
      "[6200]\ttraining's rmse: 0.233039\tvalid_1's rmse: 10.4656\n",
      "Early stopping, best iteration is:\n",
      "[6062]\ttraining's rmse: 0.235711\tvalid_1's rmse: 10.465\n"
     ]
    },
    {
     "name": "stderr",
     "output_type": "stream",
     "text": [
      "[1.7GB(-0.0GB): 40.929sec] fit Y\n"
     ]
    },
    {
     "name": "stdout",
     "output_type": "stream",
     "text": [
      "Training until validation scores don't improve for 20 rounds\n",
      "[200]\ttraining's multi_logloss: 0.0442994\tvalid_1's multi_logloss: 0.177565\n",
      "Early stopping, best iteration is:\n",
      "[207]\ttraining's multi_logloss: 0.0441692\tvalid_1's multi_logloss: 0.177219\n"
     ]
    },
    {
     "name": "stderr",
     "output_type": "stream",
     "text": [
      "[1.7GB(+0.0GB): 4.616sec] fit F\n"
     ]
    },
    {
     "name": "stdout",
     "output_type": "stream",
     "text": [
      "pos_loss = 10.56688679404598, floor_loss = 0.30833333333333335\n",
      "fold 2: mean position error 10.875220127379313\n"
     ]
    },
    {
     "name": "stderr",
     "output_type": "stream",
     "text": [
      "[1.9GB(+0.0GB): 6.156sec] fit X\n"
     ]
    },
    {
     "name": "stdout",
     "output_type": "stream",
     "text": [
      "Training until validation scores don't improve for 200 rounds\n",
      "[200]\ttraining's rmse: 1.72003\tvalid_1's rmse: 11.4361\n",
      "[400]\ttraining's rmse: 1.16456\tvalid_1's rmse: 11.2825\n",
      "[600]\ttraining's rmse: 0.899936\tvalid_1's rmse: 11.2648\n",
      "Early stopping, best iteration is:\n",
      "[538]\ttraining's rmse: 0.96589\tvalid_1's rmse: 11.2594\n"
     ]
    },
    {
     "name": "stderr",
     "output_type": "stream",
     "text": [
      "[1.9GB(+0.0GB): 8.643sec] fit Y\n"
     ]
    },
    {
     "name": "stdout",
     "output_type": "stream",
     "text": [
      "Training until validation scores don't improve for 20 rounds\n",
      "Early stopping, best iteration is:\n",
      "[98]\ttraining's multi_logloss: 0.0436927\tvalid_1's multi_logloss: 0.281319\n",
      "pos_loss = 10.826183041902627, floor_loss = 0.8749999999999999\n",
      "fold 3: mean position error 11.701183041902627\n"
     ]
    },
    {
     "name": "stderr",
     "output_type": "stream",
     "text": [
      "[1.9GB(+0.0GB): 2.963sec] fit F\n",
      "[1.7GB(+0.0GB): 9.386sec] fit X\n"
     ]
    },
    {
     "name": "stdout",
     "output_type": "stream",
     "text": [
      "Training until validation scores don't improve for 200 rounds\n",
      "[200]\ttraining's rmse: 1.70922\tvalid_1's rmse: 7.96186\n",
      "[400]\ttraining's rmse: 1.13996\tvalid_1's rmse: 7.85061\n",
      "[600]\ttraining's rmse: 0.880228\tvalid_1's rmse: 7.85723\n",
      "Early stopping, best iteration is:\n",
      "[408]\ttraining's rmse: 1.12586\tvalid_1's rmse: 7.84587\n"
     ]
    },
    {
     "name": "stderr",
     "output_type": "stream",
     "text": [
      "[1.7GB(+0.0GB): 7.423sec] fit Y\n"
     ]
    },
    {
     "name": "stdout",
     "output_type": "stream",
     "text": [
      "Training until validation scores don't improve for 20 rounds\n",
      "Early stopping, best iteration is:\n",
      "[110]\ttraining's multi_logloss: 0.0415282\tvalid_1's multi_logloss: 0.36894\n",
      "pos_loss = 10.011173488341363, floor_loss = 1.3173985547526406\n",
      "fold 4: mean position error 11.328572043094004\n",
      "*+*+*+*+*+*+*+*+*+*+*+*+*+*+*+*+*+*+*+*+*+*+*+*+*+*+*+*+*+*+*+*+*+*+*+*+*+*+*+*+\n",
      "file #13, shape=(8999, 2866), name=5da1382d4db8ce0c98bbe92e_train.csv\n",
      "pos_loss = 10.127586773400932, floor_loss = 0.9617735303922659\n",
      "mean position error 11.089360303793198\n",
      "*+*+*+*+*+*+*+*+*+*+*+*+*+*+*+*+*+*+*+*+*+*+*+*+*+*+*+*+*+*+*+*+*+*+*+*+*+*+*+*+\n"
     ]
    },
    {
     "name": "stderr",
     "output_type": "stream",
     "text": [
      "[1.7GB(+0.0GB): 3.208sec] fit F\n",
      "[1.7GB(+0.0GB): 5.149sec] fit X\n"
     ]
    },
    {
     "name": "stdout",
     "output_type": "stream",
     "text": [
      "Training until validation scores don't improve for 200 rounds\n",
      "[200]\ttraining's rmse: 1.24439\tvalid_1's rmse: 4.33922\n",
      "[400]\ttraining's rmse: 0.884973\tvalid_1's rmse: 4.33328\n",
      "[600]\ttraining's rmse: 0.721357\tvalid_1's rmse: 4.31273\n",
      "[800]\ttraining's rmse: 0.628773\tvalid_1's rmse: 4.31073\n",
      "Early stopping, best iteration is:\n",
      "[758]\ttraining's rmse: 0.644356\tvalid_1's rmse: 4.308\n"
     ]
    },
    {
     "name": "stderr",
     "output_type": "stream",
     "text": [
      "[1.7GB(+0.0GB): 6.100sec] fit Y\n"
     ]
    },
    {
     "name": "stdout",
     "output_type": "stream",
     "text": [
      "Training until validation scores don't improve for 20 rounds\n",
      "Early stopping, best iteration is:\n",
      "[160]\ttraining's multi_logloss: 0.016727\tvalid_1's multi_logloss: 0.0362855\n",
      "pos_loss = 5.043257852117649, floor_loss = 0.016638935108153077\n",
      "fold 0: mean position error 5.059896787225802\n"
     ]
    },
    {
     "name": "stderr",
     "output_type": "stream",
     "text": [
      "[1.7GB(+0.0GB): 1.631sec] fit F\n",
      "[1.7GB(+0.0GB): 4.088sec] fit X\n"
     ]
    },
    {
     "name": "stdout",
     "output_type": "stream",
     "text": [
      "Training until validation scores don't improve for 200 rounds\n",
      "[200]\ttraining's rmse: 1.23646\tvalid_1's rmse: 4.45143\n",
      "[400]\ttraining's rmse: 0.893239\tvalid_1's rmse: 4.41815\n",
      "[600]\ttraining's rmse: 0.735827\tvalid_1's rmse: 4.40291\n",
      "[800]\ttraining's rmse: 0.640347\tvalid_1's rmse: 4.38927\n",
      "Early stopping, best iteration is:\n",
      "[783]\ttraining's rmse: 0.646767\tvalid_1's rmse: 4.38676\n"
     ]
    },
    {
     "name": "stderr",
     "output_type": "stream",
     "text": [
      "[1.7GB(+0.0GB): 6.125sec] fit Y\n"
     ]
    },
    {
     "name": "stdout",
     "output_type": "stream",
     "text": [
      "Training until validation scores don't improve for 20 rounds\n",
      "[200]\ttraining's multi_logloss: 0.0171189\tvalid_1's multi_logloss: 0.0178407\n",
      "Early stopping, best iteration is:\n",
      "[278]\ttraining's multi_logloss: 0.016952\tvalid_1's multi_logloss: 0.0176569\n",
      "pos_loss = 5.002515691025737, floor_loss = 0.0\n",
      "fold 1: mean position error 5.002515691025737\n"
     ]
    },
    {
     "name": "stderr",
     "output_type": "stream",
     "text": [
      "[1.7GB(+0.0GB): 2.652sec] fit F\n",
      "[1.7GB(+0.0GB): 5.316sec] fit X\n"
     ]
    },
    {
     "name": "stdout",
     "output_type": "stream",
     "text": [
      "Training until validation scores don't improve for 200 rounds\n",
      "[200]\ttraining's rmse: 1.18644\tvalid_1's rmse: 4.6991\n",
      "[400]\ttraining's rmse: 0.853833\tvalid_1's rmse: 4.66018\n",
      "[600]\ttraining's rmse: 0.707077\tvalid_1's rmse: 4.65045\n",
      "[800]\ttraining's rmse: 0.620208\tvalid_1's rmse: 4.64118\n",
      "Early stopping, best iteration is:\n",
      "[723]\ttraining's rmse: 0.64814\tvalid_1's rmse: 4.63611\n"
     ]
    },
    {
     "name": "stderr",
     "output_type": "stream",
     "text": [
      "[1.7GB(+0.0GB): 6.003sec] fit Y\n"
     ]
    },
    {
     "name": "stdout",
     "output_type": "stream",
     "text": [
      "Training until validation scores don't improve for 20 rounds\n",
      "[200]\ttraining's multi_logloss: 0.0170228\tvalid_1's multi_logloss: 0.0323199\n",
      "Early stopping, best iteration is:\n",
      "[376]\ttraining's multi_logloss: 0.0168652\tvalid_1's multi_logloss: 0.032086\n",
      "pos_loss = 5.4134715089726555, floor_loss = 0.0\n",
      "fold 2: mean position error 5.4134715089726555\n"
     ]
    },
    {
     "name": "stderr",
     "output_type": "stream",
     "text": [
      "[1.7GB(+0.0GB): 3.427sec] fit F\n",
      "[1.7GB(+0.0GB): 3.013sec] fit X\n"
     ]
    },
    {
     "name": "stdout",
     "output_type": "stream",
     "text": [
      "Training until validation scores don't improve for 200 rounds\n",
      "[200]\ttraining's rmse: 1.1704\tvalid_1's rmse: 4.68939\n",
      "[400]\ttraining's rmse: 0.841563\tvalid_1's rmse: 4.66601\n",
      "[600]\ttraining's rmse: 0.689709\tvalid_1's rmse: 4.66215\n",
      "[800]\ttraining's rmse: 0.60259\tvalid_1's rmse: 4.65482\n",
      "[1000]\ttraining's rmse: 0.543619\tvalid_1's rmse: 4.66072\n",
      "Early stopping, best iteration is:\n",
      "[810]\ttraining's rmse: 0.598773\tvalid_1's rmse: 4.65269\n"
     ]
    },
    {
     "name": "stderr",
     "output_type": "stream",
     "text": [
      "[1.7GB(+0.0GB): 6.438sec] fit Y\n"
     ]
    },
    {
     "name": "stdout",
     "output_type": "stream",
     "text": [
      "Training until validation scores don't improve for 20 rounds\n",
      "[200]\ttraining's multi_logloss: 0.0165825\tvalid_1's multi_logloss: 0.0419005\n",
      "Early stopping, best iteration is:\n",
      "[181]\ttraining's multi_logloss: 0.0165825\tvalid_1's multi_logloss: 0.0419005\n",
      "pos_loss = 5.315218967079758, floor_loss = 0.02498611882287618\n",
      "fold 3: mean position error 5.340205085902634\n"
     ]
    },
    {
     "name": "stderr",
     "output_type": "stream",
     "text": [
      "[1.7GB(+0.0GB): 1.940sec] fit F\n",
      "[1.7GB(+0.0GB): 8.613sec] fit X\n"
     ]
    },
    {
     "name": "stdout",
     "output_type": "stream",
     "text": [
      "Training until validation scores don't improve for 200 rounds\n",
      "[200]\ttraining's rmse: 1.28681\tvalid_1's rmse: 3.96224\n",
      "[400]\ttraining's rmse: 0.933661\tvalid_1's rmse: 3.93989\n",
      "[600]\ttraining's rmse: 0.772923\tvalid_1's rmse: 3.9298\n"
     ]
    }
   ],
   "source": [
    "# ------------------------------------------------------------------------------\n",
    "# Training and inference\n",
    "# ------------------------------------------------------------------------------\n",
    "score_df = pd.DataFrame()\n",
    "oof = list()\n",
    "predictions = list()\n",
    "for n_files, file in enumerate(train_files):\n",
    "    data = pd.read_csv(file, index_col=0)\n",
    "    test_data = pd.read_csv(test_files[n_files], index_col=0)\n",
    "    \n",
    "#     floor_pred = data.merge(oof_floor, how='left', on='path')['floor_pred'].map(floor_dict)\n",
    "#     data.insert(0, 'floor_pred', floor_pred)\n",
    "\n",
    "#     test_floor_pred = test_data.merge(sub_floor, how='left', on='site_path_timestamp')['floor']\n",
    "#     test_data.insert(0, 'floor_pred', test_floor_pred)\n",
    "\n",
    "    oof_x, oof_y, oof_f = np.zeros(data.shape[0]), np.zeros(data.shape[0]), np.zeros(data.shape[0])\n",
    "    preds_x, preds_y = 0, 0\n",
    "    preds_f_arr = np.zeros((test_data.shape[0], N_SPLITS))\n",
    "\n",
    "    group_kfold = GroupKFold(n_splits=N_SPLITS)\n",
    "    for fold, (trn_idx, val_idx) in enumerate(group_kfold.split(data.iloc[:, :-4], data.iloc[:, -4], data.iloc[:, -1])):\n",
    "#     kf = KFold(n_splits=N_SPLITS, shuffle=True, random_state=SEED)\n",
    "#     for fold, (trn_idx, val_idx) in enumerate(kf.split(data.iloc[:, :-4])):\n",
    "        X_train = data.iloc[trn_idx, :-4]\n",
    "        y_trainx = data.iloc[trn_idx, -4]\n",
    "        y_trainy = data.iloc[trn_idx, -3]\n",
    "        y_trainf = data.iloc[trn_idx, -2]\n",
    "\n",
    "        X_valid = data.iloc[val_idx, :-4]\n",
    "        y_validx = data.iloc[val_idx, -4]\n",
    "        y_validy = data.iloc[val_idx, -3]\n",
    "        y_validf = data.iloc[val_idx, -2]\n",
    "\n",
    "        modelx = lgb.LGBMRegressor(**lgb_params)\n",
    "        with timer(\"fit X\"):\n",
    "            modelx.fit(X_train, y_trainx,\n",
    "                       eval_set=[(X_train, y_trainx), (X_valid, y_validx)],\n",
    "                       eval_metric='rmse',\n",
    "                       verbose=False,\n",
    "                       early_stopping_rounds=200\n",
    "                       )\n",
    "\n",
    "        modely = lgb.LGBMRegressor(**lgb_params)\n",
    "        with timer(\"fit Y\"):\n",
    "            modely.fit(X_train, y_trainy,\n",
    "                       eval_set=[(X_train, y_trainy), (X_valid, y_validy)],\n",
    "                       eval_metric='rmse',\n",
    "                       verbose=200,\n",
    "                       early_stopping_rounds=200,\n",
    "                       )\n",
    "\n",
    "        modelf = lgb.LGBMClassifier(**lgb_f_params)\n",
    "        with timer(\"fit F\"):\n",
    "            modelf.fit(X_train, y_trainf,\n",
    "                       eval_set=[(X_train, y_trainf), (X_valid, y_validf)],\n",
    "                       eval_metric='multi_logloss',\n",
    "                       verbose=200,\n",
    "                       early_stopping_rounds=20,\n",
    "                       )\n",
    "\n",
    "        oof_x[val_idx] = modelx.predict(X_valid)\n",
    "        oof_y[val_idx] = modely.predict(X_valid)\n",
    "#         oof_f[val_idx] = floor_pred[val_idx]\n",
    "        oof_f[val_idx] = modelf.predict(X_valid).astype(int)\n",
    "\n",
    "        preds_x += modelx.predict(test_data.iloc[:, :-1]) / N_SPLITS\n",
    "        preds_y += modely.predict(test_data.iloc[:, :-1]) / N_SPLITS\n",
    "#         preds_f_arr[:, fold] = test_floor_pred\n",
    "        preds_f_arr[:, fold] = modelf.predict(test_data.iloc[:, :-1]).astype(int)\n",
    "\n",
    "        score = comp_metric(oof_x[val_idx], oof_y[val_idx], oof_f[val_idx],\n",
    "                            y_validx.to_numpy(), y_validy.to_numpy(), y_validf.to_numpy())\n",
    "        print(f\"fold {fold}: mean position error {score}\")\n",
    "        score_df = score_log(score_df, n_files, os.path.basename(file), data.shape, fold, SEED, score)\n",
    "\n",
    "    print(\"*+\"*40)\n",
    "    print(f\"file #{n_files}, shape={data.shape}, name={os.path.basename(file)}\")\n",
    "    score = comp_metric(oof_x, oof_y, oof_f,\n",
    "                        data.iloc[:, -4].to_numpy(), data.iloc[:, -3].to_numpy(), data.iloc[:, -2].to_numpy())\n",
    "    oof.append(score)\n",
    "    print(f\"mean position error {score}\")\n",
    "    print(\"*+\"*40)\n",
    "    score_df = score_log(score_df, n_files, os.path.basename(file), data.shape, 999, SEED, score)\n",
    "\n",
    "    preds_f_mode = stats.mode(preds_f_arr, axis=1)\n",
    "    preds_f = preds_f_mode[0].astype(int).reshape(-1)\n",
    "    test_preds = pd.DataFrame(np.stack((preds_f, preds_x, preds_y))).T\n",
    "    test_preds.columns = subm.columns\n",
    "    test_preds.index = test_data[\"site_path_timestamp\"]\n",
    "    test_preds[\"floor\"] = test_preds[\"floor\"].astype(int)\n",
    "    predictions.append(test_preds)\n",
    "\n",
    "    oof_df = pd.DataFrame(np.array([oof_x, oof_y, oof_f, data['path'].values]).T, columns=['x', 'y', 'floor', 'path'])\n",
    "    f_name = file.split('/')[-1].split('_')[0]\n",
    "    oof_df.to_csv(str(OUTPUT_DIR) + f'/oof_{f_name}.csv', index=False)\n",
    "    \n",
    "#     break"
   ]
  },
  {
   "cell_type": "code",
   "execution_count": null,
   "id": "explicit-belize",
   "metadata": {},
   "outputs": [],
   "source": [
    "# ------------------------------------------------------------------------------\n",
    "# Submit the result\n",
    "# ------------------------------------------------------------------------------\n",
    "all_preds = pd.concat(predictions)\n",
    "all_preds = all_preds.reindex(subm.index)\n",
    "all_preds.to_csv(str(OUTPUT_DIR) + f'/sub_{EXP_NUM}.csv')"
   ]
  },
  {
   "cell_type": "code",
   "execution_count": null,
   "id": "comic-olympus",
   "metadata": {},
   "outputs": [],
   "source": [
    "all_preds"
   ]
  },
  {
   "cell_type": "markdown",
   "id": "forty-headline",
   "metadata": {},
   "source": [
    "## Calc oof score"
   ]
  },
  {
   "cell_type": "code",
   "execution_count": null,
   "id": "empirical-display",
   "metadata": {},
   "outputs": [],
   "source": [
    "oof_df_path = sorted(glob.glob(str(OUTPUT_DIR / 'oof*.csv')))\n",
    "len(oof_df_path)"
   ]
  },
  {
   "cell_type": "code",
   "execution_count": null,
   "id": "prospective-russell",
   "metadata": {},
   "outputs": [],
   "source": [
    "oof_df = []\n",
    "for path in oof_df_path:\n",
    "    oof_df.append(pd.read_csv(path))\n",
    "oof_df = pd.concat(oof_df)\n",
    "oof_df"
   ]
  },
  {
   "cell_type": "code",
   "execution_count": null,
   "id": "conventional-brother",
   "metadata": {},
   "outputs": [],
   "source": [
    "train_csv_path = sorted(glob.glob(str(WIFI_DIR / '*train.csv')))\n",
    "len(train_csv_path)"
   ]
  },
  {
   "cell_type": "code",
   "execution_count": null,
   "id": "common-portable",
   "metadata": {},
   "outputs": [],
   "source": [
    "train_df = []\n",
    "for path in train_csv_path:\n",
    "    train_df.append(pd.read_csv(path)[['x', 'y', 'f', 'path']])\n",
    "train_df = pd.concat(train_df)\n",
    "train_df"
   ]
  },
  {
   "cell_type": "code",
   "execution_count": null,
   "id": "embedded-reset",
   "metadata": {},
   "outputs": [],
   "source": [
    "oof_score = comp_metric(oof_df['x'], oof_df['y'], oof_df['floor'],\n",
    "                            train_df['x'], train_df['y'], train_df['f'])\n",
    "oof_score"
   ]
  },
  {
   "cell_type": "code",
   "execution_count": null,
   "id": "fifth-quarter",
   "metadata": {},
   "outputs": [],
   "source": []
  },
  {
   "cell_type": "code",
   "execution_count": null,
   "id": "marked-creativity",
   "metadata": {},
   "outputs": [],
   "source": [
    "if IS_SAVE == True:\n",
    "    mlflow.log_artifact(str(OUTPUT_DIR) + f'/sub_{EXP_NUM}.csv')\n",
    "    mlflow.log_metric(\"oof_score\", oof_score)\n",
    "    mlflow.end_run()"
   ]
  },
  {
   "cell_type": "code",
   "execution_count": null,
   "id": "legislative-regression",
   "metadata": {},
   "outputs": [],
   "source": []
  }
 ],
 "metadata": {
  "kernelspec": {
   "display_name": "Python 3",
   "language": "python",
   "name": "python3"
  },
  "language_info": {
   "codemirror_mode": {
    "name": "ipython",
    "version": 3
   },
   "file_extension": ".py",
   "mimetype": "text/x-python",
   "name": "python",
   "nbconvert_exporter": "python",
   "pygments_lexer": "ipython3",
   "version": "3.6.13"
  }
 },
 "nbformat": 4,
 "nbformat_minor": 5
}
