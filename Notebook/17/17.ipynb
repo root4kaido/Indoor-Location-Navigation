{
 "cells": [
  {
   "cell_type": "markdown",
   "metadata": {},
   "source": [
    "# LSTM baseline\n",
    "\n",
    "from kuto"
   ]
  },
  {
   "cell_type": "code",
   "execution_count": 1,
   "metadata": {},
   "outputs": [],
   "source": [
    "import os\n",
    "import sys\n",
    "import glob\n",
    "import pickle\n",
    "import random\n",
    "\n",
    "import numpy as np\n",
    "import pandas as pd\n",
    "import scipy.stats as stats\n",
    "from pathlib import Path\n",
    "\n",
    "from timm.models.densenet import densenet121\n",
    "from functools import partial\n",
    "\n",
    "\n",
    "sys.path.append('../../')\n",
    "import src.utils as utils\n",
    "from sklearn.model_selection import StratifiedKFold, GroupKFold\n",
    "from sklearn.preprocessing import StandardScaler, LabelEncoder\n",
    "\n",
    "import torch\n",
    "from torch import nn\n",
    "import torch.nn.functional as F\n",
    "from torch.utils.data import Dataset, DataLoader\n",
    "import torch.optim as optim\n",
    "\n",
    "import pytorch_lightning as pl\n",
    "# from pytorch_lightning.loggers import TensorBoardLogger\n",
    "from pytorch_lightning.callbacks import ModelCheckpoint\n",
    "from pytorch_lightning.callbacks import EarlyStopping\n",
    "\n",
    "import wandb\n",
    "from pytorch_lightning.loggers import WandbLogger\n"
   ]
  },
  {
   "cell_type": "code",
   "execution_count": 2,
   "metadata": {},
   "outputs": [],
   "source": [
    "DATA_DIR = Path(\"/home/knikaido/work/Indoor-Location-Navigation/data/\")\n",
    "WIFI_DIR = DATA_DIR / 'indoorunifiedwifids'\n",
    "MLFLOW_DIR = DATA_DIR / 'mlflow/mlruns'\n",
    "OUTPUT_DIR = Path('./output/')\n",
    "MLFLOW_DIR = DATA_DIR / 'mlflow/mlruns'\n",
    "IMG_DIR = DATA_DIR / f\"indoor-location-navigation-img/metadata/\""
   ]
  },
  {
   "cell_type": "markdown",
   "metadata": {},
   "source": [
    "## config"
   ]
  },
  {
   "cell_type": "code",
   "execution_count": 3,
   "metadata": {},
   "outputs": [],
   "source": [
    "configs = {\n",
    "    'loss':{\n",
    "        'name': 'MSELoss',\n",
    "        'params':{}\n",
    "    },\n",
    "    'optimizer':{\n",
    "        'name': 'Adam',\n",
    "        'params':{\n",
    "            'lr': 0.001,\n",
    "        }\n",
    "    },\n",
    "\n",
    "    'scheduler':{\n",
    "        'name': 'ReduceLROnPlateau',\n",
    "        'params':{\n",
    "            'factor': 0.1,\n",
    "            'patience': 3,\n",
    "        }\n",
    "    },\n",
    "\n",
    "    'loader':{\n",
    "        'train':{\n",
    "            'batch_size': 16,\n",
    "            'shuffle': True,\n",
    "            'num_workers': 1,\n",
    "        },\n",
    "        'valid':{\n",
    "            'batch_size': 4,\n",
    "            'shuffle': False,\n",
    "            'num_workers': 1,\n",
    "        },\n",
    "        'test':{\n",
    "            'batch_size': 8,\n",
    "            'shuffle': False,\n",
    "            'num_workers': 1,\n",
    "        }\n",
    "    }\n",
    "}"
   ]
  },
  {
   "cell_type": "code",
   "execution_count": 4,
   "metadata": {},
   "outputs": [],
   "source": [
    "# config\n",
    "config = configs\n",
    "\n",
    "# globals variable\n",
    "SEED = 777\n",
    "MAX_EPOCHS = 200\n",
    "N_SPLITS = 5\n",
    "DEBUG = False\n",
    "# EXP_MESSAGE = config['globals']['exp_message']\n",
    "\n",
    "EXP_NAME = 17\n",
    "IS_SAVE = True\n",
    "\n",
    "utils.set_seed(SEED)"
   ]
  },
  {
   "cell_type": "code",
   "execution_count": 5,
   "metadata": {},
   "outputs": [
    {
     "name": "stdout",
     "output_type": "stream",
     "text": [
      "/bin/sh: 1: wandb: not found\n"
     ]
    }
   ],
   "source": [
    "!wandb login e8aaf98060af90035c3c28a83b34452780aeec20"
   ]
  },
  {
   "cell_type": "markdown",
   "metadata": {},
   "source": [
    "## read data"
   ]
  },
  {
   "cell_type": "code",
   "execution_count": 6,
   "metadata": {},
   "outputs": [],
   "source": [
    "train_df = pd.read_csv(WIFI_DIR / 'train_all.csv')\n",
    "test_df = pd.read_csv(WIFI_DIR / 'test_all.csv')\n",
    "\n",
    "simple_accurate_99 = pd.read_csv('../01/submission.csv')\n",
    "test_df['floor'] = simple_accurate_99['floor'].values"
   ]
  },
  {
   "cell_type": "code",
   "execution_count": 7,
   "metadata": {},
   "outputs": [],
   "source": [
    "sub = pd.read_csv(DATA_DIR/'indoor-location-navigation/sample_submission.csv', index_col=0)"
   ]
  },
  {
   "cell_type": "markdown",
   "metadata": {},
   "source": [
    "BSSIDとRSSIは100ずつ存在しているけど全てが必要なわけではないみたい  \n",
    "ここでは20だけ取り出している。"
   ]
  },
  {
   "cell_type": "code",
   "execution_count": 8,
   "metadata": {},
   "outputs": [
    {
     "data": {
      "text/html": [
       "<div>\n",
       "<style scoped>\n",
       "    .dataframe tbody tr th:only-of-type {\n",
       "        vertical-align: middle;\n",
       "    }\n",
       "\n",
       "    .dataframe tbody tr th {\n",
       "        vertical-align: top;\n",
       "    }\n",
       "\n",
       "    .dataframe thead th {\n",
       "        text-align: right;\n",
       "    }\n",
       "</style>\n",
       "<table border=\"1\" class=\"dataframe\">\n",
       "  <thead>\n",
       "    <tr style=\"text-align: right;\">\n",
       "      <th></th>\n",
       "      <th>bssid_0</th>\n",
       "      <th>bssid_1</th>\n",
       "      <th>bssid_2</th>\n",
       "      <th>bssid_3</th>\n",
       "      <th>bssid_4</th>\n",
       "      <th>bssid_5</th>\n",
       "      <th>bssid_6</th>\n",
       "      <th>bssid_7</th>\n",
       "      <th>bssid_8</th>\n",
       "      <th>bssid_9</th>\n",
       "      <th>...</th>\n",
       "      <th>rssi_93</th>\n",
       "      <th>rssi_94</th>\n",
       "      <th>rssi_95</th>\n",
       "      <th>rssi_96</th>\n",
       "      <th>rssi_97</th>\n",
       "      <th>rssi_98</th>\n",
       "      <th>rssi_99</th>\n",
       "      <th>site_path_timestamp</th>\n",
       "      <th>site_id</th>\n",
       "      <th>floor</th>\n",
       "    </tr>\n",
       "  </thead>\n",
       "  <tbody>\n",
       "    <tr>\n",
       "      <th>0</th>\n",
       "      <td>eebf5db207eec2f3e041f92153d789270f346821</td>\n",
       "      <td>323607d8444900d64151ee06d164738ac727bbce</td>\n",
       "      <td>7805f319f3f591986effe78c5b41143180278f2d</td>\n",
       "      <td>02a1be3a5dab38320f879489d8a1e0f2a72768b3</td>\n",
       "      <td>b26914599f6d9ba16b43975394e1eeb9d82f4bab</td>\n",
       "      <td>6bc91b3951089c3a225396608b138ca178479924</td>\n",
       "      <td>d84cce12fbfba61bf930123050f61a11e2a29310</td>\n",
       "      <td>5b225e187d0dec3110683a74d0c9a5a4cb2022f5</td>\n",
       "      <td>b2546cae6e588d38618eacc557dd0385812197cf</td>\n",
       "      <td>8464ea586ee5479e1250f938d7c01e9bc68cefe8</td>\n",
       "      <td>...</td>\n",
       "      <td>-60</td>\n",
       "      <td>-61</td>\n",
       "      <td>-61</td>\n",
       "      <td>-61</td>\n",
       "      <td>-61</td>\n",
       "      <td>-61</td>\n",
       "      <td>-61</td>\n",
       "      <td>5a0546857ecc773753327266_046cfa46be49fc1083481...</td>\n",
       "      <td>5a0546857ecc773753327266</td>\n",
       "      <td>0</td>\n",
       "    </tr>\n",
       "    <tr>\n",
       "      <th>1</th>\n",
       "      <td>1d1d62dcf72481cc9580fed3b724f0d27015aaf1</td>\n",
       "      <td>bd9bc0a2092c040bfe6ba12f8aafac24e83b312a</td>\n",
       "      <td>d771612396c3e2e557e986fafd9fc2c56a99d3cd</td>\n",
       "      <td>13b7aeaf441f2161481481fe67eace721cff07ab</td>\n",
       "      <td>c48db7f3ed1858bb4fc191230e3d79d5eb178604</td>\n",
       "      <td>b4dbb0b30caa1d0f21b7b4185ba061556cada67a</td>\n",
       "      <td>b2546cae6e588d38618eacc557dd0385812197cf</td>\n",
       "      <td>d84cce12fbfba61bf930123050f61a11e2a29310</td>\n",
       "      <td>5b225e187d0dec3110683a74d0c9a5a4cb2022f5</td>\n",
       "      <td>6bc91b3951089c3a225396608b138ca178479924</td>\n",
       "      <td>...</td>\n",
       "      <td>-61</td>\n",
       "      <td>-61</td>\n",
       "      <td>-61</td>\n",
       "      <td>-61</td>\n",
       "      <td>-61</td>\n",
       "      <td>-61</td>\n",
       "      <td>-62</td>\n",
       "      <td>5a0546857ecc773753327266_046cfa46be49fc1083481...</td>\n",
       "      <td>5a0546857ecc773753327266</td>\n",
       "      <td>0</td>\n",
       "    </tr>\n",
       "    <tr>\n",
       "      <th>2</th>\n",
       "      <td>6bc91b3951089c3a225396608b138ca178479924</td>\n",
       "      <td>b26914599f6d9ba16b43975394e1eeb9d82f4bab</td>\n",
       "      <td>b2546cae6e588d38618eacc557dd0385812197cf</td>\n",
       "      <td>1d1d62dcf72481cc9580fed3b724f0d27015aaf1</td>\n",
       "      <td>d84cce12fbfba61bf930123050f61a11e2a29310</td>\n",
       "      <td>5b225e187d0dec3110683a74d0c9a5a4cb2022f5</td>\n",
       "      <td>7805f319f3f591986effe78c5b41143180278f2d</td>\n",
       "      <td>b4dbb0b30caa1d0f21b7b4185ba061556cada67a</td>\n",
       "      <td>bd9bc0a2092c040bfe6ba12f8aafac24e83b312a</td>\n",
       "      <td>d771612396c3e2e557e986fafd9fc2c56a99d3cd</td>\n",
       "      <td>...</td>\n",
       "      <td>-61</td>\n",
       "      <td>-61</td>\n",
       "      <td>-61</td>\n",
       "      <td>-61</td>\n",
       "      <td>-62</td>\n",
       "      <td>-62</td>\n",
       "      <td>-62</td>\n",
       "      <td>5a0546857ecc773753327266_046cfa46be49fc1083481...</td>\n",
       "      <td>5a0546857ecc773753327266</td>\n",
       "      <td>0</td>\n",
       "    </tr>\n",
       "    <tr>\n",
       "      <th>3</th>\n",
       "      <td>de53ffe7e3c71c9ed5c845fa50e0521efa5f3685</td>\n",
       "      <td>1d1d62dcf72481cc9580fed3b724f0d27015aaf1</td>\n",
       "      <td>bccd6a9054f8649ad43fe96b766687fb769b064f</td>\n",
       "      <td>f64c13fd10a07bca1bf2b7bd7a80630632ce62c9</td>\n",
       "      <td>7590cf109f6ff3277fd18d10f4727a8777d675ce</td>\n",
       "      <td>7129f110688db020946105b359cae2e59338135b</td>\n",
       "      <td>15d53b7189ffbd7c6010c388a9ccea417d4f28ee</td>\n",
       "      <td>6915ad24a2edf8047f749233e19e9853f5dc17fd</td>\n",
       "      <td>12911a64fecf13f2e9fb0aaed554621e3b0bacde</td>\n",
       "      <td>a929157f3cc32a433b02ad7d7876e9a1678d3944</td>\n",
       "      <td>...</td>\n",
       "      <td>-60</td>\n",
       "      <td>-60</td>\n",
       "      <td>-60</td>\n",
       "      <td>-61</td>\n",
       "      <td>-61</td>\n",
       "      <td>-61</td>\n",
       "      <td>-61</td>\n",
       "      <td>5a0546857ecc773753327266_046cfa46be49fc1083481...</td>\n",
       "      <td>5a0546857ecc773753327266</td>\n",
       "      <td>0</td>\n",
       "    </tr>\n",
       "    <tr>\n",
       "      <th>4</th>\n",
       "      <td>1d1d62dcf72481cc9580fed3b724f0d27015aaf1</td>\n",
       "      <td>a929157f3cc32a433b02ad7d7876e9a1678d3944</td>\n",
       "      <td>6bc91b3951089c3a225396608b138ca178479924</td>\n",
       "      <td>000840e5c600de293cea57f13326f273c86c3988</td>\n",
       "      <td>662791f44cd61d0426634cf093bf0ff1bfd88c2c</td>\n",
       "      <td>c729e2e4f5a2888583cfebcd98b3178023f58b8e</td>\n",
       "      <td>15d53b7189ffbd7c6010c388a9ccea417d4f28ee</td>\n",
       "      <td>f64c13fd10a07bca1bf2b7bd7a80630632ce62c9</td>\n",
       "      <td>d5dad1fcdae9e773ede884b3b4d781d5ee1ec90e</td>\n",
       "      <td>6915ad24a2edf8047f749233e19e9853f5dc17fd</td>\n",
       "      <td>...</td>\n",
       "      <td>-63</td>\n",
       "      <td>-63</td>\n",
       "      <td>-63</td>\n",
       "      <td>-63</td>\n",
       "      <td>-63</td>\n",
       "      <td>-63</td>\n",
       "      <td>-64</td>\n",
       "      <td>5a0546857ecc773753327266_046cfa46be49fc1083481...</td>\n",
       "      <td>5a0546857ecc773753327266</td>\n",
       "      <td>0</td>\n",
       "    </tr>\n",
       "    <tr>\n",
       "      <th>...</th>\n",
       "      <td>...</td>\n",
       "      <td>...</td>\n",
       "      <td>...</td>\n",
       "      <td>...</td>\n",
       "      <td>...</td>\n",
       "      <td>...</td>\n",
       "      <td>...</td>\n",
       "      <td>...</td>\n",
       "      <td>...</td>\n",
       "      <td>...</td>\n",
       "      <td>...</td>\n",
       "      <td>...</td>\n",
       "      <td>...</td>\n",
       "      <td>...</td>\n",
       "      <td>...</td>\n",
       "      <td>...</td>\n",
       "      <td>...</td>\n",
       "      <td>...</td>\n",
       "      <td>...</td>\n",
       "      <td>...</td>\n",
       "      <td>...</td>\n",
       "    </tr>\n",
       "    <tr>\n",
       "      <th>10128</th>\n",
       "      <td>621fbeab0ad7fa0465f0b82c3b32361a3a848a5d</td>\n",
       "      <td>1a766e046f186e7a1dfb26e43df7be10237a1bdb</td>\n",
       "      <td>25f148dc754c40e6ca5022831c2e2eda132e2e39</td>\n",
       "      <td>3df5a390b1357c32f1c24fdef1c00848ecfdb966</td>\n",
       "      <td>a3a775d6fac3ee115b82a5e7bd443676e1270a4b</td>\n",
       "      <td>979bfb4594c7f3943bfb5e8a41fe5912feb882f4</td>\n",
       "      <td>04ffe806c310e9d0ff298524f2d77e7731957f07</td>\n",
       "      <td>bf9a90571459e1d511b9bec5544852ce238e9bc6</td>\n",
       "      <td>f46c9fb38056b81582c026df6cc2237ae8080cb6</td>\n",
       "      <td>1496306fe32a577a77e92d56995dea87bcea724a</td>\n",
       "      <td>...</td>\n",
       "      <td>-83</td>\n",
       "      <td>-83</td>\n",
       "      <td>-83</td>\n",
       "      <td>-84</td>\n",
       "      <td>-84</td>\n",
       "      <td>-84</td>\n",
       "      <td>-84</td>\n",
       "      <td>5dc8cea7659e181adb076a3f_fd64de8c4a2fc5ebb0e9f...</td>\n",
       "      <td>5dc8cea7659e181adb076a3f</td>\n",
       "      <td>5</td>\n",
       "    </tr>\n",
       "    <tr>\n",
       "      <th>10129</th>\n",
       "      <td>3df5a390b1357c32f1c24fdef1c00848ecfdb966</td>\n",
       "      <td>621fbeab0ad7fa0465f0b82c3b32361a3a848a5d</td>\n",
       "      <td>1a766e046f186e7a1dfb26e43df7be10237a1bdb</td>\n",
       "      <td>25f148dc754c40e6ca5022831c2e2eda132e2e39</td>\n",
       "      <td>a3a775d6fac3ee115b82a5e7bd443676e1270a4b</td>\n",
       "      <td>979bfb4594c7f3943bfb5e8a41fe5912feb882f4</td>\n",
       "      <td>1496306fe32a577a77e92d56995dea87bcea724a</td>\n",
       "      <td>6c63e704ac41957efd2b0216959ad5f61604433a</td>\n",
       "      <td>1633d5d4624672046db8521a732dfc8c4496f24d</td>\n",
       "      <td>fc25bb6349545b6873b02564154f7a494d26ae64</td>\n",
       "      <td>...</td>\n",
       "      <td>-85</td>\n",
       "      <td>-85</td>\n",
       "      <td>-85</td>\n",
       "      <td>-85</td>\n",
       "      <td>-85</td>\n",
       "      <td>-85</td>\n",
       "      <td>-85</td>\n",
       "      <td>5dc8cea7659e181adb076a3f_fd64de8c4a2fc5ebb0e9f...</td>\n",
       "      <td>5dc8cea7659e181adb076a3f</td>\n",
       "      <td>5</td>\n",
       "    </tr>\n",
       "    <tr>\n",
       "      <th>10130</th>\n",
       "      <td>3df5a390b1357c32f1c24fdef1c00848ecfdb966</td>\n",
       "      <td>195eb3cc3f2b34a578f0df6082e204b8c333537b</td>\n",
       "      <td>fc25bb6349545b6873b02564154f7a494d26ae64</td>\n",
       "      <td>bf9a90571459e1d511b9bec5544852ce238e9bc6</td>\n",
       "      <td>a0036e6cdc360539e1ab615a186d33de31081e30</td>\n",
       "      <td>f46c9fb38056b81582c026df6cc2237ae8080cb6</td>\n",
       "      <td>94f82b58643e3dfcf699031634e78ba32fedb1da</td>\n",
       "      <td>5f8e96db3b02980da615fb031ff1e2170f71d8cf</td>\n",
       "      <td>1496306fe32a577a77e92d56995dea87bcea724a</td>\n",
       "      <td>979bfb4594c7f3943bfb5e8a41fe5912feb882f4</td>\n",
       "      <td>...</td>\n",
       "      <td>-83</td>\n",
       "      <td>-83</td>\n",
       "      <td>-84</td>\n",
       "      <td>-84</td>\n",
       "      <td>-84</td>\n",
       "      <td>-84</td>\n",
       "      <td>-84</td>\n",
       "      <td>5dc8cea7659e181adb076a3f_fd64de8c4a2fc5ebb0e9f...</td>\n",
       "      <td>5dc8cea7659e181adb076a3f</td>\n",
       "      <td>5</td>\n",
       "    </tr>\n",
       "    <tr>\n",
       "      <th>10131</th>\n",
       "      <td>195eb3cc3f2b34a578f0df6082e204b8c333537b</td>\n",
       "      <td>3df5a390b1357c32f1c24fdef1c00848ecfdb966</td>\n",
       "      <td>913b8d51f071b4958d4240299e516af3273a8c20</td>\n",
       "      <td>baf415ae85f3997ffb2ad0797952dbbb4832f378</td>\n",
       "      <td>5f8e96db3b02980da615fb031ff1e2170f71d8cf</td>\n",
       "      <td>fc25bb6349545b6873b02564154f7a494d26ae64</td>\n",
       "      <td>bf9a90571459e1d511b9bec5544852ce238e9bc6</td>\n",
       "      <td>f46c9fb38056b81582c026df6cc2237ae8080cb6</td>\n",
       "      <td>a3a775d6fac3ee115b82a5e7bd443676e1270a4b</td>\n",
       "      <td>688ac5d49a12eaa598b582d40302bc6758835b43</td>\n",
       "      <td>...</td>\n",
       "      <td>-80</td>\n",
       "      <td>-81</td>\n",
       "      <td>-81</td>\n",
       "      <td>-81</td>\n",
       "      <td>-81</td>\n",
       "      <td>-82</td>\n",
       "      <td>-82</td>\n",
       "      <td>5dc8cea7659e181adb076a3f_fd64de8c4a2fc5ebb0e9f...</td>\n",
       "      <td>5dc8cea7659e181adb076a3f</td>\n",
       "      <td>5</td>\n",
       "    </tr>\n",
       "    <tr>\n",
       "      <th>10132</th>\n",
       "      <td>baf415ae85f3997ffb2ad0797952dbbb4832f378</td>\n",
       "      <td>195eb3cc3f2b34a578f0df6082e204b8c333537b</td>\n",
       "      <td>5f8e96db3b02980da615fb031ff1e2170f71d8cf</td>\n",
       "      <td>bf9a90571459e1d511b9bec5544852ce238e9bc6</td>\n",
       "      <td>8149b46b71df4f9c87a54ba27b099abb20dc7c78</td>\n",
       "      <td>a3a775d6fac3ee115b82a5e7bd443676e1270a4b</td>\n",
       "      <td>688ac5d49a12eaa598b582d40302bc6758835b43</td>\n",
       "      <td>7f38acb3af554f583afcf3718810e9d08199ed6f</td>\n",
       "      <td>3df5a390b1357c32f1c24fdef1c00848ecfdb966</td>\n",
       "      <td>621fbeab0ad7fa0465f0b82c3b32361a3a848a5d</td>\n",
       "      <td>...</td>\n",
       "      <td>-82</td>\n",
       "      <td>-82</td>\n",
       "      <td>-82</td>\n",
       "      <td>-82</td>\n",
       "      <td>-82</td>\n",
       "      <td>-82</td>\n",
       "      <td>-82</td>\n",
       "      <td>5dc8cea7659e181adb076a3f_fd64de8c4a2fc5ebb0e9f...</td>\n",
       "      <td>5dc8cea7659e181adb076a3f</td>\n",
       "      <td>5</td>\n",
       "    </tr>\n",
       "  </tbody>\n",
       "</table>\n",
       "<p>10133 rows × 203 columns</p>\n",
       "</div>"
      ],
      "text/plain": [
       "                                        bssid_0  \\\n",
       "0      eebf5db207eec2f3e041f92153d789270f346821   \n",
       "1      1d1d62dcf72481cc9580fed3b724f0d27015aaf1   \n",
       "2      6bc91b3951089c3a225396608b138ca178479924   \n",
       "3      de53ffe7e3c71c9ed5c845fa50e0521efa5f3685   \n",
       "4      1d1d62dcf72481cc9580fed3b724f0d27015aaf1   \n",
       "...                                         ...   \n",
       "10128  621fbeab0ad7fa0465f0b82c3b32361a3a848a5d   \n",
       "10129  3df5a390b1357c32f1c24fdef1c00848ecfdb966   \n",
       "10130  3df5a390b1357c32f1c24fdef1c00848ecfdb966   \n",
       "10131  195eb3cc3f2b34a578f0df6082e204b8c333537b   \n",
       "10132  baf415ae85f3997ffb2ad0797952dbbb4832f378   \n",
       "\n",
       "                                        bssid_1  \\\n",
       "0      323607d8444900d64151ee06d164738ac727bbce   \n",
       "1      bd9bc0a2092c040bfe6ba12f8aafac24e83b312a   \n",
       "2      b26914599f6d9ba16b43975394e1eeb9d82f4bab   \n",
       "3      1d1d62dcf72481cc9580fed3b724f0d27015aaf1   \n",
       "4      a929157f3cc32a433b02ad7d7876e9a1678d3944   \n",
       "...                                         ...   \n",
       "10128  1a766e046f186e7a1dfb26e43df7be10237a1bdb   \n",
       "10129  621fbeab0ad7fa0465f0b82c3b32361a3a848a5d   \n",
       "10130  195eb3cc3f2b34a578f0df6082e204b8c333537b   \n",
       "10131  3df5a390b1357c32f1c24fdef1c00848ecfdb966   \n",
       "10132  195eb3cc3f2b34a578f0df6082e204b8c333537b   \n",
       "\n",
       "                                        bssid_2  \\\n",
       "0      7805f319f3f591986effe78c5b41143180278f2d   \n",
       "1      d771612396c3e2e557e986fafd9fc2c56a99d3cd   \n",
       "2      b2546cae6e588d38618eacc557dd0385812197cf   \n",
       "3      bccd6a9054f8649ad43fe96b766687fb769b064f   \n",
       "4      6bc91b3951089c3a225396608b138ca178479924   \n",
       "...                                         ...   \n",
       "10128  25f148dc754c40e6ca5022831c2e2eda132e2e39   \n",
       "10129  1a766e046f186e7a1dfb26e43df7be10237a1bdb   \n",
       "10130  fc25bb6349545b6873b02564154f7a494d26ae64   \n",
       "10131  913b8d51f071b4958d4240299e516af3273a8c20   \n",
       "10132  5f8e96db3b02980da615fb031ff1e2170f71d8cf   \n",
       "\n",
       "                                        bssid_3  \\\n",
       "0      02a1be3a5dab38320f879489d8a1e0f2a72768b3   \n",
       "1      13b7aeaf441f2161481481fe67eace721cff07ab   \n",
       "2      1d1d62dcf72481cc9580fed3b724f0d27015aaf1   \n",
       "3      f64c13fd10a07bca1bf2b7bd7a80630632ce62c9   \n",
       "4      000840e5c600de293cea57f13326f273c86c3988   \n",
       "...                                         ...   \n",
       "10128  3df5a390b1357c32f1c24fdef1c00848ecfdb966   \n",
       "10129  25f148dc754c40e6ca5022831c2e2eda132e2e39   \n",
       "10130  bf9a90571459e1d511b9bec5544852ce238e9bc6   \n",
       "10131  baf415ae85f3997ffb2ad0797952dbbb4832f378   \n",
       "10132  bf9a90571459e1d511b9bec5544852ce238e9bc6   \n",
       "\n",
       "                                        bssid_4  \\\n",
       "0      b26914599f6d9ba16b43975394e1eeb9d82f4bab   \n",
       "1      c48db7f3ed1858bb4fc191230e3d79d5eb178604   \n",
       "2      d84cce12fbfba61bf930123050f61a11e2a29310   \n",
       "3      7590cf109f6ff3277fd18d10f4727a8777d675ce   \n",
       "4      662791f44cd61d0426634cf093bf0ff1bfd88c2c   \n",
       "...                                         ...   \n",
       "10128  a3a775d6fac3ee115b82a5e7bd443676e1270a4b   \n",
       "10129  a3a775d6fac3ee115b82a5e7bd443676e1270a4b   \n",
       "10130  a0036e6cdc360539e1ab615a186d33de31081e30   \n",
       "10131  5f8e96db3b02980da615fb031ff1e2170f71d8cf   \n",
       "10132  8149b46b71df4f9c87a54ba27b099abb20dc7c78   \n",
       "\n",
       "                                        bssid_5  \\\n",
       "0      6bc91b3951089c3a225396608b138ca178479924   \n",
       "1      b4dbb0b30caa1d0f21b7b4185ba061556cada67a   \n",
       "2      5b225e187d0dec3110683a74d0c9a5a4cb2022f5   \n",
       "3      7129f110688db020946105b359cae2e59338135b   \n",
       "4      c729e2e4f5a2888583cfebcd98b3178023f58b8e   \n",
       "...                                         ...   \n",
       "10128  979bfb4594c7f3943bfb5e8a41fe5912feb882f4   \n",
       "10129  979bfb4594c7f3943bfb5e8a41fe5912feb882f4   \n",
       "10130  f46c9fb38056b81582c026df6cc2237ae8080cb6   \n",
       "10131  fc25bb6349545b6873b02564154f7a494d26ae64   \n",
       "10132  a3a775d6fac3ee115b82a5e7bd443676e1270a4b   \n",
       "\n",
       "                                        bssid_6  \\\n",
       "0      d84cce12fbfba61bf930123050f61a11e2a29310   \n",
       "1      b2546cae6e588d38618eacc557dd0385812197cf   \n",
       "2      7805f319f3f591986effe78c5b41143180278f2d   \n",
       "3      15d53b7189ffbd7c6010c388a9ccea417d4f28ee   \n",
       "4      15d53b7189ffbd7c6010c388a9ccea417d4f28ee   \n",
       "...                                         ...   \n",
       "10128  04ffe806c310e9d0ff298524f2d77e7731957f07   \n",
       "10129  1496306fe32a577a77e92d56995dea87bcea724a   \n",
       "10130  94f82b58643e3dfcf699031634e78ba32fedb1da   \n",
       "10131  bf9a90571459e1d511b9bec5544852ce238e9bc6   \n",
       "10132  688ac5d49a12eaa598b582d40302bc6758835b43   \n",
       "\n",
       "                                        bssid_7  \\\n",
       "0      5b225e187d0dec3110683a74d0c9a5a4cb2022f5   \n",
       "1      d84cce12fbfba61bf930123050f61a11e2a29310   \n",
       "2      b4dbb0b30caa1d0f21b7b4185ba061556cada67a   \n",
       "3      6915ad24a2edf8047f749233e19e9853f5dc17fd   \n",
       "4      f64c13fd10a07bca1bf2b7bd7a80630632ce62c9   \n",
       "...                                         ...   \n",
       "10128  bf9a90571459e1d511b9bec5544852ce238e9bc6   \n",
       "10129  6c63e704ac41957efd2b0216959ad5f61604433a   \n",
       "10130  5f8e96db3b02980da615fb031ff1e2170f71d8cf   \n",
       "10131  f46c9fb38056b81582c026df6cc2237ae8080cb6   \n",
       "10132  7f38acb3af554f583afcf3718810e9d08199ed6f   \n",
       "\n",
       "                                        bssid_8  \\\n",
       "0      b2546cae6e588d38618eacc557dd0385812197cf   \n",
       "1      5b225e187d0dec3110683a74d0c9a5a4cb2022f5   \n",
       "2      bd9bc0a2092c040bfe6ba12f8aafac24e83b312a   \n",
       "3      12911a64fecf13f2e9fb0aaed554621e3b0bacde   \n",
       "4      d5dad1fcdae9e773ede884b3b4d781d5ee1ec90e   \n",
       "...                                         ...   \n",
       "10128  f46c9fb38056b81582c026df6cc2237ae8080cb6   \n",
       "10129  1633d5d4624672046db8521a732dfc8c4496f24d   \n",
       "10130  1496306fe32a577a77e92d56995dea87bcea724a   \n",
       "10131  a3a775d6fac3ee115b82a5e7bd443676e1270a4b   \n",
       "10132  3df5a390b1357c32f1c24fdef1c00848ecfdb966   \n",
       "\n",
       "                                        bssid_9  ... rssi_93 rssi_94 rssi_95  \\\n",
       "0      8464ea586ee5479e1250f938d7c01e9bc68cefe8  ...     -60     -61     -61   \n",
       "1      6bc91b3951089c3a225396608b138ca178479924  ...     -61     -61     -61   \n",
       "2      d771612396c3e2e557e986fafd9fc2c56a99d3cd  ...     -61     -61     -61   \n",
       "3      a929157f3cc32a433b02ad7d7876e9a1678d3944  ...     -60     -60     -60   \n",
       "4      6915ad24a2edf8047f749233e19e9853f5dc17fd  ...     -63     -63     -63   \n",
       "...                                         ...  ...     ...     ...     ...   \n",
       "10128  1496306fe32a577a77e92d56995dea87bcea724a  ...     -83     -83     -83   \n",
       "10129  fc25bb6349545b6873b02564154f7a494d26ae64  ...     -85     -85     -85   \n",
       "10130  979bfb4594c7f3943bfb5e8a41fe5912feb882f4  ...     -83     -83     -84   \n",
       "10131  688ac5d49a12eaa598b582d40302bc6758835b43  ...     -80     -81     -81   \n",
       "10132  621fbeab0ad7fa0465f0b82c3b32361a3a848a5d  ...     -82     -82     -82   \n",
       "\n",
       "      rssi_96 rssi_97 rssi_98 rssi_99  \\\n",
       "0         -61     -61     -61     -61   \n",
       "1         -61     -61     -61     -62   \n",
       "2         -61     -62     -62     -62   \n",
       "3         -61     -61     -61     -61   \n",
       "4         -63     -63     -63     -64   \n",
       "...       ...     ...     ...     ...   \n",
       "10128     -84     -84     -84     -84   \n",
       "10129     -85     -85     -85     -85   \n",
       "10130     -84     -84     -84     -84   \n",
       "10131     -81     -81     -82     -82   \n",
       "10132     -82     -82     -82     -82   \n",
       "\n",
       "                                     site_path_timestamp  \\\n",
       "0      5a0546857ecc773753327266_046cfa46be49fc1083481...   \n",
       "1      5a0546857ecc773753327266_046cfa46be49fc1083481...   \n",
       "2      5a0546857ecc773753327266_046cfa46be49fc1083481...   \n",
       "3      5a0546857ecc773753327266_046cfa46be49fc1083481...   \n",
       "4      5a0546857ecc773753327266_046cfa46be49fc1083481...   \n",
       "...                                                  ...   \n",
       "10128  5dc8cea7659e181adb076a3f_fd64de8c4a2fc5ebb0e9f...   \n",
       "10129  5dc8cea7659e181adb076a3f_fd64de8c4a2fc5ebb0e9f...   \n",
       "10130  5dc8cea7659e181adb076a3f_fd64de8c4a2fc5ebb0e9f...   \n",
       "10131  5dc8cea7659e181adb076a3f_fd64de8c4a2fc5ebb0e9f...   \n",
       "10132  5dc8cea7659e181adb076a3f_fd64de8c4a2fc5ebb0e9f...   \n",
       "\n",
       "                        site_id floor  \n",
       "0      5a0546857ecc773753327266     0  \n",
       "1      5a0546857ecc773753327266     0  \n",
       "2      5a0546857ecc773753327266     0  \n",
       "3      5a0546857ecc773753327266     0  \n",
       "4      5a0546857ecc773753327266     0  \n",
       "...                         ...   ...  \n",
       "10128  5dc8cea7659e181adb076a3f     5  \n",
       "10129  5dc8cea7659e181adb076a3f     5  \n",
       "10130  5dc8cea7659e181adb076a3f     5  \n",
       "10131  5dc8cea7659e181adb076a3f     5  \n",
       "10132  5dc8cea7659e181adb076a3f     5  \n",
       "\n",
       "[10133 rows x 203 columns]"
      ]
     },
     "execution_count": 8,
     "metadata": {},
     "output_type": "execute_result"
    }
   ],
   "source": [
    "test_df"
   ]
  },
  {
   "cell_type": "code",
   "execution_count": 9,
   "metadata": {},
   "outputs": [],
   "source": [
    "# training target features\n",
    "NUM_FEATS = 80\n",
    "BSSID_FEATS = [f'bssid_{i}' for i in range(NUM_FEATS)]\n",
    "RSSI_FEATS  = [f'rssi_{i}' for i in range(NUM_FEATS)]"
   ]
  },
  {
   "cell_type": "code",
   "execution_count": 10,
   "metadata": {},
   "outputs": [
    {
     "data": {
      "text/html": [
       "<div>\n",
       "<style scoped>\n",
       "    .dataframe tbody tr th:only-of-type {\n",
       "        vertical-align: middle;\n",
       "    }\n",
       "\n",
       "    .dataframe tbody tr th {\n",
       "        vertical-align: top;\n",
       "    }\n",
       "\n",
       "    .dataframe thead th {\n",
       "        text-align: right;\n",
       "    }\n",
       "</style>\n",
       "<table border=\"1\" class=\"dataframe\">\n",
       "  <thead>\n",
       "    <tr style=\"text-align: right;\">\n",
       "      <th></th>\n",
       "      <th>rssi_0</th>\n",
       "      <th>rssi_1</th>\n",
       "      <th>rssi_2</th>\n",
       "      <th>rssi_3</th>\n",
       "      <th>rssi_4</th>\n",
       "      <th>rssi_5</th>\n",
       "      <th>rssi_6</th>\n",
       "      <th>rssi_7</th>\n",
       "      <th>rssi_8</th>\n",
       "      <th>rssi_9</th>\n",
       "    </tr>\n",
       "  </thead>\n",
       "  <tbody>\n",
       "    <tr>\n",
       "      <th>0</th>\n",
       "      <td>-32</td>\n",
       "      <td>-39</td>\n",
       "      <td>-47</td>\n",
       "      <td>-48</td>\n",
       "      <td>-48</td>\n",
       "      <td>-49</td>\n",
       "      <td>-51</td>\n",
       "      <td>-52</td>\n",
       "      <td>-54</td>\n",
       "      <td>-56</td>\n",
       "    </tr>\n",
       "    <tr>\n",
       "      <th>1</th>\n",
       "      <td>-29</td>\n",
       "      <td>-34</td>\n",
       "      <td>-47</td>\n",
       "      <td>-48</td>\n",
       "      <td>-48</td>\n",
       "      <td>-49</td>\n",
       "      <td>-52</td>\n",
       "      <td>-52</td>\n",
       "      <td>-52</td>\n",
       "      <td>-53</td>\n",
       "    </tr>\n",
       "    <tr>\n",
       "      <th>2</th>\n",
       "      <td>-33</td>\n",
       "      <td>-39</td>\n",
       "      <td>-48</td>\n",
       "      <td>-48</td>\n",
       "      <td>-49</td>\n",
       "      <td>-52</td>\n",
       "      <td>-54</td>\n",
       "      <td>-55</td>\n",
       "      <td>-55</td>\n",
       "      <td>-55</td>\n",
       "    </tr>\n",
       "    <tr>\n",
       "      <th>3</th>\n",
       "      <td>-46</td>\n",
       "      <td>-48</td>\n",
       "      <td>-49</td>\n",
       "      <td>-50</td>\n",
       "      <td>-51</td>\n",
       "      <td>-52</td>\n",
       "      <td>-54</td>\n",
       "      <td>-56</td>\n",
       "      <td>-57</td>\n",
       "      <td>-57</td>\n",
       "    </tr>\n",
       "    <tr>\n",
       "      <th>4</th>\n",
       "      <td>-42</td>\n",
       "      <td>-49</td>\n",
       "      <td>-51</td>\n",
       "      <td>-51</td>\n",
       "      <td>-52</td>\n",
       "      <td>-53</td>\n",
       "      <td>-54</td>\n",
       "      <td>-55</td>\n",
       "      <td>-55</td>\n",
       "      <td>-55</td>\n",
       "    </tr>\n",
       "    <tr>\n",
       "      <th>...</th>\n",
       "      <td>...</td>\n",
       "      <td>...</td>\n",
       "      <td>...</td>\n",
       "      <td>...</td>\n",
       "      <td>...</td>\n",
       "      <td>...</td>\n",
       "      <td>...</td>\n",
       "      <td>...</td>\n",
       "      <td>...</td>\n",
       "      <td>...</td>\n",
       "    </tr>\n",
       "    <tr>\n",
       "      <th>258120</th>\n",
       "      <td>-53</td>\n",
       "      <td>-63</td>\n",
       "      <td>-64</td>\n",
       "      <td>-66</td>\n",
       "      <td>-68</td>\n",
       "      <td>-68</td>\n",
       "      <td>-68</td>\n",
       "      <td>-68</td>\n",
       "      <td>-70</td>\n",
       "      <td>-71</td>\n",
       "    </tr>\n",
       "    <tr>\n",
       "      <th>258121</th>\n",
       "      <td>-58</td>\n",
       "      <td>-64</td>\n",
       "      <td>-66</td>\n",
       "      <td>-67</td>\n",
       "      <td>-68</td>\n",
       "      <td>-68</td>\n",
       "      <td>-69</td>\n",
       "      <td>-70</td>\n",
       "      <td>-71</td>\n",
       "      <td>-71</td>\n",
       "    </tr>\n",
       "    <tr>\n",
       "      <th>258122</th>\n",
       "      <td>-57</td>\n",
       "      <td>-58</td>\n",
       "      <td>-60</td>\n",
       "      <td>-64</td>\n",
       "      <td>-66</td>\n",
       "      <td>-67</td>\n",
       "      <td>-68</td>\n",
       "      <td>-69</td>\n",
       "      <td>-71</td>\n",
       "      <td>-73</td>\n",
       "    </tr>\n",
       "    <tr>\n",
       "      <th>258123</th>\n",
       "      <td>-58</td>\n",
       "      <td>-64</td>\n",
       "      <td>-66</td>\n",
       "      <td>-66</td>\n",
       "      <td>-68</td>\n",
       "      <td>-69</td>\n",
       "      <td>-69</td>\n",
       "      <td>-71</td>\n",
       "      <td>-71</td>\n",
       "      <td>-72</td>\n",
       "    </tr>\n",
       "    <tr>\n",
       "      <th>258124</th>\n",
       "      <td>-64</td>\n",
       "      <td>-69</td>\n",
       "      <td>-69</td>\n",
       "      <td>-71</td>\n",
       "      <td>-71</td>\n",
       "      <td>-72</td>\n",
       "      <td>-73</td>\n",
       "      <td>-73</td>\n",
       "      <td>-73</td>\n",
       "      <td>-73</td>\n",
       "    </tr>\n",
       "  </tbody>\n",
       "</table>\n",
       "<p>258125 rows × 10 columns</p>\n",
       "</div>"
      ],
      "text/plain": [
       "        rssi_0  rssi_1  rssi_2  rssi_3  rssi_4  rssi_5  rssi_6  rssi_7  \\\n",
       "0          -32     -39     -47     -48     -48     -49     -51     -52   \n",
       "1          -29     -34     -47     -48     -48     -49     -52     -52   \n",
       "2          -33     -39     -48     -48     -49     -52     -54     -55   \n",
       "3          -46     -48     -49     -50     -51     -52     -54     -56   \n",
       "4          -42     -49     -51     -51     -52     -53     -54     -55   \n",
       "...        ...     ...     ...     ...     ...     ...     ...     ...   \n",
       "258120     -53     -63     -64     -66     -68     -68     -68     -68   \n",
       "258121     -58     -64     -66     -67     -68     -68     -69     -70   \n",
       "258122     -57     -58     -60     -64     -66     -67     -68     -69   \n",
       "258123     -58     -64     -66     -66     -68     -69     -69     -71   \n",
       "258124     -64     -69     -69     -71     -71     -72     -73     -73   \n",
       "\n",
       "        rssi_8  rssi_9  \n",
       "0          -54     -56  \n",
       "1          -52     -53  \n",
       "2          -55     -55  \n",
       "3          -57     -57  \n",
       "4          -55     -55  \n",
       "...        ...     ...  \n",
       "258120     -70     -71  \n",
       "258121     -71     -71  \n",
       "258122     -71     -73  \n",
       "258123     -71     -72  \n",
       "258124     -73     -73  \n",
       "\n",
       "[258125 rows x 10 columns]"
      ]
     },
     "execution_count": 10,
     "metadata": {},
     "output_type": "execute_result"
    }
   ],
   "source": [
    "train_df.iloc[:, 100:110]"
   ]
  },
  {
   "cell_type": "markdown",
   "metadata": {},
   "source": [
    "bssid_NはN個目のBSSIDを示しておりRSSI値が大きい順に番号が振られている。\n",
    "100個しかない\n"
   ]
  },
  {
   "cell_type": "code",
   "execution_count": 11,
   "metadata": {},
   "outputs": [
    {
     "name": "stdout",
     "output_type": "stream",
     "text": [
      "BSSID TYPES(train): 61206\n",
      "BSSID TYPES(test): 33042\n",
      "BSSID TYPES(all): 94248\n"
     ]
    }
   ],
   "source": [
    "# get numbers of bssids to embed them in a layer\n",
    "\n",
    "# train\n",
    "wifi_bssids = []\n",
    "# bssidを列ごとにリストに入れていく\n",
    "for i in range(100):\n",
    "    wifi_bssids.extend(train_df.iloc[:,i].values.tolist())\n",
    "wifi_bssids = list(set(wifi_bssids))\n",
    "\n",
    "train_wifi_bssids_size = len(wifi_bssids)\n",
    "print(f'BSSID TYPES(train): {train_wifi_bssids_size}')\n",
    "\n",
    "# test\n",
    "wifi_bssids_test = []\n",
    "for i in range(100):\n",
    "    wifi_bssids_test.extend(test_df.iloc[:,i].values.tolist())\n",
    "wifi_bssids_test = list(set(wifi_bssids_test))\n",
    "\n",
    "test_wifi_bssids_size = len(wifi_bssids_test)\n",
    "print(f'BSSID TYPES(test): {test_wifi_bssids_size}')\n",
    "\n",
    "\n",
    "wifi_bssids.extend(wifi_bssids_test)\n",
    "wifi_bssids_size = len(wifi_bssids)\n",
    "print(f'BSSID TYPES(all): {wifi_bssids_size}')\n"
   ]
  },
  {
   "cell_type": "markdown",
   "metadata": {},
   "source": [
    "## preprocessing"
   ]
  },
  {
   "cell_type": "code",
   "execution_count": 12,
   "metadata": {},
   "outputs": [
    {
     "name": "stderr",
     "output_type": "stream",
     "text": [
      "/usr/local/lib/python3.6/dist-packages/sklearn/preprocessing/data.py:617: DataConversionWarning: Data with input dtype int64 were all converted to float64 by StandardScaler.\n",
      "  return self.partial_fit(X, y)\n",
      "/usr/local/lib/python3.6/dist-packages/ipykernel_launcher.py:15: DataConversionWarning: Data with input dtype int64 were all converted to float64 by StandardScaler.\n",
      "  from ipykernel import kernelapp as app\n",
      "/usr/local/lib/python3.6/dist-packages/ipykernel_launcher.py:15: DataConversionWarning: Data with input dtype int64 were all converted to float64 by StandardScaler.\n",
      "  from ipykernel import kernelapp as app\n"
     ]
    },
    {
     "data": {
      "text/html": [
       "<div>\n",
       "<style scoped>\n",
       "    .dataframe tbody tr th:only-of-type {\n",
       "        vertical-align: middle;\n",
       "    }\n",
       "\n",
       "    .dataframe tbody tr th {\n",
       "        vertical-align: top;\n",
       "    }\n",
       "\n",
       "    .dataframe thead th {\n",
       "        text-align: right;\n",
       "    }\n",
       "</style>\n",
       "<table border=\"1\" class=\"dataframe\">\n",
       "  <thead>\n",
       "    <tr style=\"text-align: right;\">\n",
       "      <th></th>\n",
       "      <th>bssid_0</th>\n",
       "      <th>bssid_1</th>\n",
       "      <th>bssid_2</th>\n",
       "      <th>bssid_3</th>\n",
       "      <th>bssid_4</th>\n",
       "      <th>bssid_5</th>\n",
       "      <th>bssid_6</th>\n",
       "      <th>bssid_7</th>\n",
       "      <th>bssid_8</th>\n",
       "      <th>bssid_9</th>\n",
       "      <th>...</th>\n",
       "      <th>rssi_96</th>\n",
       "      <th>rssi_97</th>\n",
       "      <th>rssi_98</th>\n",
       "      <th>rssi_99</th>\n",
       "      <th>x</th>\n",
       "      <th>y</th>\n",
       "      <th>floor</th>\n",
       "      <th>path</th>\n",
       "      <th>site_id</th>\n",
       "      <th>site_id_str</th>\n",
       "    </tr>\n",
       "  </thead>\n",
       "  <tbody>\n",
       "    <tr>\n",
       "      <th>0</th>\n",
       "      <td>52392</td>\n",
       "      <td>35870</td>\n",
       "      <td>2764</td>\n",
       "      <td>34897</td>\n",
       "      <td>52709</td>\n",
       "      <td>35259</td>\n",
       "      <td>42719</td>\n",
       "      <td>33509</td>\n",
       "      <td>23416</td>\n",
       "      <td>15248</td>\n",
       "      <td>...</td>\n",
       "      <td>-79</td>\n",
       "      <td>-79</td>\n",
       "      <td>-79</td>\n",
       "      <td>-79</td>\n",
       "      <td>107.85044</td>\n",
       "      <td>161.892620</td>\n",
       "      <td>-1</td>\n",
       "      <td>5e1580adf4c3420006d520d4</td>\n",
       "      <td>0</td>\n",
       "      <td>5a0546857ecc773753327266</td>\n",
       "    </tr>\n",
       "    <tr>\n",
       "      <th>1</th>\n",
       "      <td>35870</td>\n",
       "      <td>52392</td>\n",
       "      <td>7486</td>\n",
       "      <td>34897</td>\n",
       "      <td>52709</td>\n",
       "      <td>35259</td>\n",
       "      <td>21970</td>\n",
       "      <td>15248</td>\n",
       "      <td>17024</td>\n",
       "      <td>5350</td>\n",
       "      <td>...</td>\n",
       "      <td>-79</td>\n",
       "      <td>-79</td>\n",
       "      <td>-80</td>\n",
       "      <td>-80</td>\n",
       "      <td>107.85044</td>\n",
       "      <td>161.892620</td>\n",
       "      <td>-1</td>\n",
       "      <td>5e1580adf4c3420006d520d4</td>\n",
       "      <td>0</td>\n",
       "      <td>5a0546857ecc773753327266</td>\n",
       "    </tr>\n",
       "    <tr>\n",
       "      <th>2</th>\n",
       "      <td>35870</td>\n",
       "      <td>52392</td>\n",
       "      <td>52709</td>\n",
       "      <td>34897</td>\n",
       "      <td>35259</td>\n",
       "      <td>23416</td>\n",
       "      <td>49407</td>\n",
       "      <td>6672</td>\n",
       "      <td>7486</td>\n",
       "      <td>48500</td>\n",
       "      <td>...</td>\n",
       "      <td>-78</td>\n",
       "      <td>-78</td>\n",
       "      <td>-78</td>\n",
       "      <td>-78</td>\n",
       "      <td>98.33065</td>\n",
       "      <td>163.343340</td>\n",
       "      <td>-1</td>\n",
       "      <td>5e1580adf4c3420006d520d4</td>\n",
       "      <td>0</td>\n",
       "      <td>5a0546857ecc773753327266</td>\n",
       "    </tr>\n",
       "    <tr>\n",
       "      <th>3</th>\n",
       "      <td>23416</td>\n",
       "      <td>34897</td>\n",
       "      <td>35259</td>\n",
       "      <td>52392</td>\n",
       "      <td>35870</td>\n",
       "      <td>3706</td>\n",
       "      <td>49407</td>\n",
       "      <td>15612</td>\n",
       "      <td>10166</td>\n",
       "      <td>4977</td>\n",
       "      <td>...</td>\n",
       "      <td>-76</td>\n",
       "      <td>-76</td>\n",
       "      <td>-77</td>\n",
       "      <td>-77</td>\n",
       "      <td>98.33065</td>\n",
       "      <td>163.343340</td>\n",
       "      <td>-1</td>\n",
       "      <td>5e1580adf4c3420006d520d4</td>\n",
       "      <td>0</td>\n",
       "      <td>5a0546857ecc773753327266</td>\n",
       "    </tr>\n",
       "    <tr>\n",
       "      <th>4</th>\n",
       "      <td>35870</td>\n",
       "      <td>35259</td>\n",
       "      <td>23416</td>\n",
       "      <td>19472</td>\n",
       "      <td>52392</td>\n",
       "      <td>3706</td>\n",
       "      <td>49407</td>\n",
       "      <td>18305</td>\n",
       "      <td>21409</td>\n",
       "      <td>52794</td>\n",
       "      <td>...</td>\n",
       "      <td>-76</td>\n",
       "      <td>-76</td>\n",
       "      <td>-77</td>\n",
       "      <td>-77</td>\n",
       "      <td>98.33065</td>\n",
       "      <td>163.343340</td>\n",
       "      <td>-1</td>\n",
       "      <td>5e1580adf4c3420006d520d4</td>\n",
       "      <td>0</td>\n",
       "      <td>5a0546857ecc773753327266</td>\n",
       "    </tr>\n",
       "    <tr>\n",
       "      <th>...</th>\n",
       "      <td>...</td>\n",
       "      <td>...</td>\n",
       "      <td>...</td>\n",
       "      <td>...</td>\n",
       "      <td>...</td>\n",
       "      <td>...</td>\n",
       "      <td>...</td>\n",
       "      <td>...</td>\n",
       "      <td>...</td>\n",
       "      <td>...</td>\n",
       "      <td>...</td>\n",
       "      <td>...</td>\n",
       "      <td>...</td>\n",
       "      <td>...</td>\n",
       "      <td>...</td>\n",
       "      <td>...</td>\n",
       "      <td>...</td>\n",
       "      <td>...</td>\n",
       "      <td>...</td>\n",
       "      <td>...</td>\n",
       "      <td>...</td>\n",
       "    </tr>\n",
       "    <tr>\n",
       "      <th>258120</th>\n",
       "      <td>35065</td>\n",
       "      <td>14545</td>\n",
       "      <td>16494</td>\n",
       "      <td>21326</td>\n",
       "      <td>50465</td>\n",
       "      <td>22830</td>\n",
       "      <td>943</td>\n",
       "      <td>30429</td>\n",
       "      <td>43802</td>\n",
       "      <td>32684</td>\n",
       "      <td>...</td>\n",
       "      <td>-85</td>\n",
       "      <td>-85</td>\n",
       "      <td>-85</td>\n",
       "      <td>-85</td>\n",
       "      <td>122.68994</td>\n",
       "      <td>124.028015</td>\n",
       "      <td>6</td>\n",
       "      <td>5dcd5c88a4dbe7000630b084</td>\n",
       "      <td>23</td>\n",
       "      <td>5dc8cea7659e181adb076a3f</td>\n",
       "    </tr>\n",
       "    <tr>\n",
       "      <th>258121</th>\n",
       "      <td>35065</td>\n",
       "      <td>16494</td>\n",
       "      <td>21326</td>\n",
       "      <td>943</td>\n",
       "      <td>50465</td>\n",
       "      <td>22830</td>\n",
       "      <td>30059</td>\n",
       "      <td>33363</td>\n",
       "      <td>59581</td>\n",
       "      <td>14545</td>\n",
       "      <td>...</td>\n",
       "      <td>-85</td>\n",
       "      <td>-85</td>\n",
       "      <td>-85</td>\n",
       "      <td>-85</td>\n",
       "      <td>127.17589</td>\n",
       "      <td>123.677780</td>\n",
       "      <td>6</td>\n",
       "      <td>5dcd5c88a4dbe7000630b084</td>\n",
       "      <td>23</td>\n",
       "      <td>5dc8cea7659e181adb076a3f</td>\n",
       "    </tr>\n",
       "    <tr>\n",
       "      <th>258122</th>\n",
       "      <td>943</td>\n",
       "      <td>35065</td>\n",
       "      <td>14545</td>\n",
       "      <td>16494</td>\n",
       "      <td>21326</td>\n",
       "      <td>22830</td>\n",
       "      <td>50465</td>\n",
       "      <td>30059</td>\n",
       "      <td>48476</td>\n",
       "      <td>59581</td>\n",
       "      <td>...</td>\n",
       "      <td>-84</td>\n",
       "      <td>-85</td>\n",
       "      <td>-85</td>\n",
       "      <td>-85</td>\n",
       "      <td>127.17589</td>\n",
       "      <td>123.677780</td>\n",
       "      <td>6</td>\n",
       "      <td>5dcd5c88a4dbe7000630b084</td>\n",
       "      <td>23</td>\n",
       "      <td>5dc8cea7659e181adb076a3f</td>\n",
       "    </tr>\n",
       "    <tr>\n",
       "      <th>258123</th>\n",
       "      <td>14545</td>\n",
       "      <td>16494</td>\n",
       "      <td>35065</td>\n",
       "      <td>21326</td>\n",
       "      <td>50465</td>\n",
       "      <td>943</td>\n",
       "      <td>30059</td>\n",
       "      <td>48476</td>\n",
       "      <td>58803</td>\n",
       "      <td>22830</td>\n",
       "      <td>...</td>\n",
       "      <td>-85</td>\n",
       "      <td>-85</td>\n",
       "      <td>-85</td>\n",
       "      <td>-85</td>\n",
       "      <td>127.17589</td>\n",
       "      <td>123.677780</td>\n",
       "      <td>6</td>\n",
       "      <td>5dcd5c88a4dbe7000630b084</td>\n",
       "      <td>23</td>\n",
       "      <td>5dc8cea7659e181adb076a3f</td>\n",
       "    </tr>\n",
       "    <tr>\n",
       "      <th>258124</th>\n",
       "      <td>16494</td>\n",
       "      <td>30059</td>\n",
       "      <td>943</td>\n",
       "      <td>58803</td>\n",
       "      <td>48476</td>\n",
       "      <td>22830</td>\n",
       "      <td>35065</td>\n",
       "      <td>59581</td>\n",
       "      <td>50465</td>\n",
       "      <td>7967</td>\n",
       "      <td>...</td>\n",
       "      <td>-85</td>\n",
       "      <td>-85</td>\n",
       "      <td>-85</td>\n",
       "      <td>-85</td>\n",
       "      <td>130.08112</td>\n",
       "      <td>122.490820</td>\n",
       "      <td>6</td>\n",
       "      <td>5dcd5c88a4dbe7000630b084</td>\n",
       "      <td>23</td>\n",
       "      <td>5dc8cea7659e181adb076a3f</td>\n",
       "    </tr>\n",
       "  </tbody>\n",
       "</table>\n",
       "<p>258125 rows × 206 columns</p>\n",
       "</div>"
      ],
      "text/plain": [
       "        bssid_0  bssid_1  bssid_2  bssid_3  bssid_4  bssid_5  bssid_6  \\\n",
       "0         52392    35870     2764    34897    52709    35259    42719   \n",
       "1         35870    52392     7486    34897    52709    35259    21970   \n",
       "2         35870    52392    52709    34897    35259    23416    49407   \n",
       "3         23416    34897    35259    52392    35870     3706    49407   \n",
       "4         35870    35259    23416    19472    52392     3706    49407   \n",
       "...         ...      ...      ...      ...      ...      ...      ...   \n",
       "258120    35065    14545    16494    21326    50465    22830      943   \n",
       "258121    35065    16494    21326      943    50465    22830    30059   \n",
       "258122      943    35065    14545    16494    21326    22830    50465   \n",
       "258123    14545    16494    35065    21326    50465      943    30059   \n",
       "258124    16494    30059      943    58803    48476    22830    35065   \n",
       "\n",
       "        bssid_7  bssid_8  bssid_9  ...  rssi_96  rssi_97  rssi_98  rssi_99  \\\n",
       "0         33509    23416    15248  ...      -79      -79      -79      -79   \n",
       "1         15248    17024     5350  ...      -79      -79      -80      -80   \n",
       "2          6672     7486    48500  ...      -78      -78      -78      -78   \n",
       "3         15612    10166     4977  ...      -76      -76      -77      -77   \n",
       "4         18305    21409    52794  ...      -76      -76      -77      -77   \n",
       "...         ...      ...      ...  ...      ...      ...      ...      ...   \n",
       "258120    30429    43802    32684  ...      -85      -85      -85      -85   \n",
       "258121    33363    59581    14545  ...      -85      -85      -85      -85   \n",
       "258122    30059    48476    59581  ...      -84      -85      -85      -85   \n",
       "258123    48476    58803    22830  ...      -85      -85      -85      -85   \n",
       "258124    59581    50465     7967  ...      -85      -85      -85      -85   \n",
       "\n",
       "                x           y  floor                      path  site_id  \\\n",
       "0       107.85044  161.892620     -1  5e1580adf4c3420006d520d4        0   \n",
       "1       107.85044  161.892620     -1  5e1580adf4c3420006d520d4        0   \n",
       "2        98.33065  163.343340     -1  5e1580adf4c3420006d520d4        0   \n",
       "3        98.33065  163.343340     -1  5e1580adf4c3420006d520d4        0   \n",
       "4        98.33065  163.343340     -1  5e1580adf4c3420006d520d4        0   \n",
       "...           ...         ...    ...                       ...      ...   \n",
       "258120  122.68994  124.028015      6  5dcd5c88a4dbe7000630b084       23   \n",
       "258121  127.17589  123.677780      6  5dcd5c88a4dbe7000630b084       23   \n",
       "258122  127.17589  123.677780      6  5dcd5c88a4dbe7000630b084       23   \n",
       "258123  127.17589  123.677780      6  5dcd5c88a4dbe7000630b084       23   \n",
       "258124  130.08112  122.490820      6  5dcd5c88a4dbe7000630b084       23   \n",
       "\n",
       "                     site_id_str  \n",
       "0       5a0546857ecc773753327266  \n",
       "1       5a0546857ecc773753327266  \n",
       "2       5a0546857ecc773753327266  \n",
       "3       5a0546857ecc773753327266  \n",
       "4       5a0546857ecc773753327266  \n",
       "...                          ...  \n",
       "258120  5dc8cea7659e181adb076a3f  \n",
       "258121  5dc8cea7659e181adb076a3f  \n",
       "258122  5dc8cea7659e181adb076a3f  \n",
       "258123  5dc8cea7659e181adb076a3f  \n",
       "258124  5dc8cea7659e181adb076a3f  \n",
       "\n",
       "[258125 rows x 206 columns]"
      ]
     },
     "execution_count": 12,
     "metadata": {},
     "output_type": "execute_result"
    }
   ],
   "source": [
    "# preprocess\n",
    "\n",
    "le = LabelEncoder()\n",
    "le.fit(wifi_bssids)\n",
    "le_site = LabelEncoder()\n",
    "le_site.fit(train_df['site_id'])\n",
    "\n",
    "ss = StandardScaler()\n",
    "ss.fit(train_df.loc[:,RSSI_FEATS])\n",
    "\n",
    "\n",
    "def preprocess(input_df, le=le, le_site=le_site, ss=ss):\n",
    "    output_df = input_df.copy()\n",
    "    # RSSIの正規化\n",
    "    output_df.loc[:,RSSI_FEATS] = ss.transform(input_df.loc[:,RSSI_FEATS])\n",
    "\n",
    "    # BSSIDのLE(1からふる)\n",
    "    for i in BSSID_FEATS:\n",
    "        output_df.loc[:,i] = le.transform(input_df.loc[:,i])\n",
    "#         output_df.loc[:,i] = output_df.loc[:,i] + 1  # 0からではなく1から番号を振りたいため なぜ？\n",
    "\n",
    "    # site_idのLE\n",
    "    output_df.loc[:, 'site_id'] = le_site.transform(input_df.loc[:, 'site_id'])\n",
    "    output_df['site_id_str'] = input_df['site_id']\n",
    "\n",
    "    # なぜ２重でやる？\n",
    "#     output_df.loc[:,RSSI_FEATS] = ss.transform(output_df.loc[:,RSSI_FEATS])\n",
    "    return output_df\n",
    "\n",
    "train = preprocess(train_df)\n",
    "test = preprocess(test_df)\n",
    "\n",
    "train  "
   ]
  },
  {
   "cell_type": "code",
   "execution_count": 13,
   "metadata": {},
   "outputs": [
    {
     "data": {
      "text/plain": [
       "24"
      ]
     },
     "execution_count": 13,
     "metadata": {},
     "output_type": "execute_result"
    }
   ],
   "source": [
    "site_count = len(train['site_id'].unique())\n",
    "site_count"
   ]
  },
  {
   "cell_type": "markdown",
   "metadata": {},
   "source": [
    "## PyTorch model\n",
    "- embedding layerが重要  "
   ]
  },
  {
   "cell_type": "code",
   "execution_count": 14,
   "metadata": {},
   "outputs": [],
   "source": [
    "# dataset\n",
    "from torch.utils.data import Dataset, DataLoader\n",
    "class IndoorDataset(Dataset):\n",
    "    def __init__(self, df, phase='train'):\n",
    "        self.df = df\n",
    "        self.phase = phase\n",
    "        self.bssid_feats = df[BSSID_FEATS].values.astype(int)\n",
    "        self.rssi_feats = df[RSSI_FEATS].values.astype(np.float32)\n",
    "        self.site_id = df['site_id'].values.astype(int)\n",
    "        self.site_id_str = df['site_id_str'].values\n",
    "\n",
    "        if phase in ['train', 'valid']:\n",
    "            self.xy = df[['x', 'y']].values.astype(np.float32)\n",
    "        self.floor = df['floor'].values.astype(np.float32)\n",
    "        \n",
    "    def __len__(self):\n",
    "        return self.df.shape[0]\n",
    "\n",
    "    def __getitem__(self, idx):\n",
    "        \n",
    "        img = np.load(IMG_DIR / f'{self.site_id_str[idx]}/{self.floor[idx]}/floor_image.png.npy') / 255.0\n",
    "        img = img.transpose(2, 0, 1).astype(np.float32)\n",
    "        \n",
    "        feature = {\n",
    "            'BSSID_FEATS':self.bssid_feats[idx],\n",
    "            'RSSI_FEATS':self.rssi_feats[idx],\n",
    "            'site_id':self.site_id[idx],\n",
    "            'img': img\n",
    "        }\n",
    "        if self.phase in ['train', 'valid']:\n",
    "            target = {\n",
    "                'xy':self.xy[idx],\n",
    "                'floor':self.floor[idx]\n",
    "            }\n",
    "        else:\n",
    "            target = {}\n",
    "        return feature, target"
   ]
  },
  {
   "cell_type": "code",
   "execution_count": 15,
   "metadata": {},
   "outputs": [],
   "source": [
    "import torch\n",
    "from torch import nn\n",
    "\n",
    "class LSTMModel(nn.Module):\n",
    "    def __init__(self, bssid_size=94248, site_size=24, embedding_dim=64):\n",
    "        super(LSTMModel, self).__init__()\n",
    "        \n",
    "        # bssid\n",
    "        # ->64次元に圧縮後sequence化にする\n",
    "        # wifi_bssids_sizeが辞書の数を表す\n",
    "        self.bssid_embedding = nn.Embedding(bssid_size, 64, max_norm=True)\n",
    "        # site\n",
    "        # ->2次元に圧縮後sequence化する\n",
    "        # site_countが辞書の数を表す       \n",
    "        self.site_embedding = nn.Embedding(site_size, 64, max_norm=True)\n",
    "\n",
    "        # rssi\n",
    "        # 次元を64倍に線形変換\n",
    "        self.rssi = nn.Sequential(\n",
    "            nn.BatchNorm1d(NUM_FEATS),\n",
    "            nn.Linear(NUM_FEATS, NUM_FEATS * 64)\n",
    "        )\n",
    "        \n",
    "        self.res = torch.hub.load('huawei-noah/ghostnet', 'ghostnet_1x', pretrained=True)\n",
    "        \n",
    "        concat_size = 64 + (NUM_FEATS * 64) + (NUM_FEATS * 64) + 1000\n",
    "        self.linear_layer2 = nn.Sequential(\n",
    "            nn.BatchNorm1d(concat_size),\n",
    "            nn.Dropout(0.3),\n",
    "            nn.Linear(concat_size, 256),\n",
    "            nn.ReLU()\n",
    "        )\n",
    "        self.bn1 = nn.BatchNorm1d(concat_size)\n",
    "\n",
    "        self.flatten = nn.Flatten()\n",
    "\n",
    "        self.dropout1 = nn.Dropout(0.3)\n",
    "        self.linear1 = nn.Linear(in_features=concat_size, out_features=256)#, bias=False)\n",
    "        self.bn2 = nn.BatchNorm1d(256)\n",
    "\n",
    "        self.batch_norm1 = nn.BatchNorm1d(1)\n",
    "        self.lstm1 = nn.LSTM(input_size=256,hidden_size=128,dropout=0.3, batch_first=True)\n",
    "        self.lstm2 = nn.LSTM(input_size=128,hidden_size=16,dropout=0.1, batch_first=True)\n",
    "\n",
    "        self.fc_xy = nn.Linear(16, 2)\n",
    "        # self.fc_x = nn.Linear(16, 1)\n",
    "        # self.fc_y = nn.Linear(16, 1)\n",
    "        self.fc_floor = nn.Linear(16, 1)\n",
    "\n",
    "    \n",
    "    def forward(self, x):\n",
    "        # input embedding\n",
    "        batch_size = x[\"site_id\"].shape[0]\n",
    "        x_bssid = self.bssid_embedding(x['BSSID_FEATS'])\n",
    "        x_bssid = self.flatten(x_bssid)\n",
    "        \n",
    "        x_site_id = self.site_embedding(x['site_id'])\n",
    "        x_site_id = self.flatten(x_site_id)\n",
    "\n",
    "        x_rssi = self.rssi(x['RSSI_FEATS'])\n",
    "        \n",
    "        x_img = self.res(x['img'])\n",
    "\n",
    "        x = torch.cat([x_bssid, x_site_id, x_rssi, x_img], dim=1)\n",
    "        x = self.linear_layer2(x)\n",
    "\n",
    "        # lstm layer\n",
    "        x = x.view(batch_size, 1, -1)  # [batch, 1]->[batch, 1, 1]\n",
    "        x = self.batch_norm1(x)\n",
    "        x, _ = self.lstm1(x)\n",
    "        x = torch.relu(x)\n",
    "        x, _ = self.lstm2(x)\n",
    "        x = torch.relu(x)\n",
    "\n",
    "        # output [batch, 1, 1] -> [batch]\n",
    "        # x_ = self.fc_x(x).view(-1)\n",
    "        # y_ = self.fc_y(x).view(-1)\n",
    "        xy = self.fc_xy(x).squeeze(1)\n",
    "        floor = torch.relu(self.fc_floor(x)).view(-1)\n",
    "        # return {\"x\":x_, \"y\":y_, \"floor\":floor} \n",
    "        return {\"xy\": xy, \"floor\": floor}"
   ]
  },
  {
   "cell_type": "code",
   "execution_count": 16,
   "metadata": {},
   "outputs": [],
   "source": [
    "def mean_position_error(xhat, yhat, fhat, x, y, f):\n",
    "    intermediate = np.sqrt(np.power(xhat-x, 2) + np.power(yhat-y, 2)) + 15 * np.abs(fhat-f)\n",
    "    return intermediate.sum()/xhat.shape[0]\n",
    "\n",
    "def to_np(input):\n",
    "    return input.detach().cpu().numpy()"
   ]
  },
  {
   "cell_type": "code",
   "execution_count": 17,
   "metadata": {},
   "outputs": [],
   "source": [
    "def get_optimizer(model: nn.Module, config: dict):\n",
    "    optimizer_config = config[\"optimizer\"]\n",
    "    optimizer_name = optimizer_config.get(\"name\")\n",
    "    base_optimizer_name = optimizer_config.get(\"base_name\")\n",
    "    optimizer_params = optimizer_config['params']\n",
    "\n",
    "    if hasattr(optim, optimizer_name):\n",
    "        optimizer = optim.__getattribute__(optimizer_name)(model.parameters(), **optimizer_params)\n",
    "        return optimizer\n",
    "    else:\n",
    "        base_optimizer = optim.__getattribute__(base_optimizer_name)\n",
    "        optimizer = globals().get(optimizer_name)(\n",
    "            model.parameters(), \n",
    "            base_optimizer,\n",
    "            **optimizer_config[\"params\"])\n",
    "        return  optimizer\n",
    "\n",
    "def get_scheduler(optimizer, config: dict):\n",
    "    scheduler_config = config[\"scheduler\"]\n",
    "    scheduler_name = scheduler_config.get(\"name\")\n",
    "\n",
    "    if scheduler_name is None:\n",
    "        return\n",
    "    else:\n",
    "        return optim.lr_scheduler.__getattribute__(scheduler_name)(\n",
    "            optimizer, **scheduler_config[\"params\"])\n",
    "\n",
    "\n",
    "def get_criterion(config: dict):\n",
    "    loss_config = config[\"loss\"]\n",
    "    loss_name = loss_config[\"name\"]\n",
    "    loss_params = {} if loss_config.get(\"params\") is None else loss_config.get(\"params\")\n",
    "    if hasattr(nn, loss_name):\n",
    "        criterion = nn.__getattribute__(loss_name)(**loss_params)\n",
    "    else:\n",
    "        criterion = globals().get(loss_name)(**loss_params)\n",
    "\n",
    "    return criterion\n",
    "\n",
    "def worker_init_fn(worker_id):                                                          \n",
    "    np.random.seed(np.random.get_state()[1][0] + worker_id)"
   ]
  },
  {
   "cell_type": "code",
   "execution_count": 18,
   "metadata": {},
   "outputs": [],
   "source": [
    "# Learner class(pytorch-lighting)\n",
    "class Learner(pl.LightningModule):\n",
    "    def __init__(self, model, config):\n",
    "        super().__init__()\n",
    "        self.model = model\n",
    "        self.config = config\n",
    "        self.xy_criterion = get_criterion(config)\n",
    "        self.f_criterion = get_criterion(config)\n",
    "    \n",
    "    def training_step(self, batch, batch_idx):\n",
    "        x, y = batch\n",
    "        output = self.model(x)\n",
    "        loss = self.xy_criterion(output[\"xy\"], y[\"xy\"])\n",
    "        return loss\n",
    "    \n",
    "    def validation_step(self, batch, batch_idx):\n",
    "        x, y = batch\n",
    "        output = self.model(x)\n",
    "        xy_loss = self.xy_criterion(output[\"xy\"], y[\"xy\"])\n",
    "        f_loss = self.f_criterion(output[\"floor\"], y[\"floor\"])\n",
    "        loss = xy_loss  # + f_loss\n",
    "        mpe = mean_position_error(\n",
    "            to_np(output['xy'][:, 0]), to_np(output['xy'][:, 1]), 0, \n",
    "            to_np(y['xy'][:, 0]), to_np(y['xy'][:, 1]), 0)\n",
    "        \n",
    "        # floor lossは現状は無視して良い\n",
    "        self.log(f'Loss/val', loss, on_step=False, on_epoch=True, prog_bar=False, logger=True)\n",
    "        self.log(f'Loss/xy', xy_loss, on_step=False, on_epoch=True, prog_bar=False, logger=True)\n",
    "        self.log(f'Loss/floor', f_loss, on_step=False, on_epoch=True, prog_bar=False, logger=True)\n",
    "        self.log(f'MPE/val', mpe, on_step=False, on_epoch=True, prog_bar=False, logger=True)\n",
    "        return mpe\n",
    "    \n",
    "    def validation_epoch_end(self, outputs):\n",
    "        avg_loss = np.mean(outputs)\n",
    "        print(f'epoch = {self.current_epoch}, mpe_loss = {avg_loss}')\n",
    "\n",
    "    def configure_optimizers(self):\n",
    "        optimizer = get_optimizer(self.model, self.config)\n",
    "        scheduler = get_scheduler(optimizer, self.config)\n",
    "        return {\"optimizer\": optimizer, \"lr_scheduler\": scheduler, \"monitor\": \"Loss/val\"}"
   ]
  },
  {
   "cell_type": "code",
   "execution_count": 19,
   "metadata": {},
   "outputs": [],
   "source": [
    "# oof\n",
    "def evaluate(model, loaders, phase):\n",
    "    x_list = []\n",
    "    y_list = []\n",
    "    f_list = []\n",
    "    with torch.no_grad():\n",
    "        for batch in loaders[phase]:\n",
    "            x, y = batch\n",
    "            output = model(x)\n",
    "            x_list.append(to_np(output['xy'][:, 0]))\n",
    "            y_list.append(to_np(output['xy'][:, 1]))\n",
    "            f_list.append(to_np(output['floor']))\n",
    "\n",
    "    x_list = np.concatenate(x_list)\n",
    "    y_list = np.concatenate(y_list)\n",
    "    f_list = np.concatenate(f_list)\n",
    "    return x_list, y_list, f_list"
   ]
  },
  {
   "cell_type": "markdown",
   "metadata": {},
   "source": [
    "## train"
   ]
  },
  {
   "cell_type": "code",
   "execution_count": null,
   "metadata": {
    "tags": []
   },
   "outputs": [
    {
     "name": "stdout",
     "output_type": "stream",
     "text": [
      "====================\n",
      "Fold 0\n",
      "====================\n"
     ]
    },
    {
     "name": "stderr",
     "output_type": "stream",
     "text": [
      "Downloading: \"https://github.com/huawei-noah/ghostnet/archive/master.zip\" to /home/user/.cache/torch/hub/master.zip\n",
      "Downloading: \"https://github.com/huawei-noah/ghostnet/raw/master/ghostnet_pytorch/models/state_dict_73.98.pth\" to /home/user/.cache/torch/hub/checkpoints/state_dict_73.98.pth\n"
     ]
    },
    {
     "data": {
      "application/vnd.jupyter.widget-view+json": {
       "model_id": "554ed4b361cd4e5186bca5cac154338c",
       "version_major": 2,
       "version_minor": 0
      },
      "text/plain": [
       "  0%|          | 0.00/20.0M [00:00<?, ?B/s]"
      ]
     },
     "metadata": {},
     "output_type": "display_data"
    },
    {
     "name": "stderr",
     "output_type": "stream",
     "text": [
      "/home/user/.local/lib/python3.6/site-packages/torch/nn/modules/rnn.py:60: UserWarning: dropout option adds dropout after all but last recurrent layer, so non-zero dropout expects num_layers greater than 1, but got dropout=0.3 and num_layers=1\n",
      "  \"num_layers={}\".format(dropout, num_layers))\n",
      "/home/user/.local/lib/python3.6/site-packages/torch/nn/modules/rnn.py:60: UserWarning: dropout option adds dropout after all but last recurrent layer, so non-zero dropout expects num_layers greater than 1, but got dropout=0.1 and num_layers=1\n",
      "  \"num_layers={}\".format(dropout, num_layers))\n",
      "\u001b[34m\u001b[1mwandb\u001b[0m: Currently logged in as: \u001b[33msqrt4kaido\u001b[0m (use `wandb login --relogin` to force relogin)\n"
     ]
    },
    {
     "data": {
      "text/html": [
       "\n",
       "                Tracking run with wandb version 0.10.25<br/>\n",
       "                Syncing run <strong style=\"color:#cdcd00\">valiant-valley-116</strong> to <a href=\"https://wandb.ai\" target=\"_blank\">Weights & Biases</a> <a href=\"https://docs.wandb.com/integrations/jupyter.html\" target=\"_blank\">(Documentation)</a>.<br/>\n",
       "                Project page: <a href=\"https://wandb.ai/sqrt4kaido/Indoor_Location_Navigation\" target=\"_blank\">https://wandb.ai/sqrt4kaido/Indoor_Location_Navigation</a><br/>\n",
       "                Run page: <a href=\"https://wandb.ai/sqrt4kaido/Indoor_Location_Navigation/runs/5997gz47\" target=\"_blank\">https://wandb.ai/sqrt4kaido/Indoor_Location_Navigation/runs/5997gz47</a><br/>\n",
       "                Run data is saved locally in <code>/home/knikaido/work/Indoor-Location-Navigation/Git/Notebook/17/wandb/run-20210409_181946-5997gz47</code><br/><br/>\n",
       "            "
      ],
      "text/plain": [
       "<IPython.core.display.HTML object>"
      ]
     },
     "metadata": {},
     "output_type": "display_data"
    },
    {
     "name": "stderr",
     "output_type": "stream",
     "text": [
      "GPU available: True, used: True\n",
      "TPU available: False, using: 0 TPU cores\n",
      "LOCAL_RANK: 0 - CUDA_VISIBLE_DEVICES: [0]\n",
      "\n",
      "  | Name         | Type      | Params\n",
      "-------------------------------------------\n",
      "0 | model        | LSTMModel | 17.7 M\n",
      "1 | xy_criterion | MSELoss   | 0     \n",
      "2 | f_criterion  | MSELoss   | 0     \n",
      "-------------------------------------------\n",
      "17.7 M    Trainable params\n",
      "0         Non-trainable params\n",
      "17.7 M    Total params\n",
      "70.687    Total estimated model params size (MB)\n",
      "/home/user/.local/lib/python3.6/site-packages/pytorch_lightning/utilities/distributed.py:52: UserWarning: The dataloader, val dataloader 0, does not have many workers which may be a bottleneck. Consider increasing the value of the `num_workers` argument` (try 16 which is the number of cpus on this machine) in the `DataLoader` init to improve performance.\n",
      "  warnings.warn(*args, **kwargs)\n"
     ]
    },
    {
     "data": {
      "application/vnd.jupyter.widget-view+json": {
       "model_id": "",
       "version_major": 2,
       "version_minor": 0
      },
      "text/plain": [
       "Validation sanity check: 0it [00:00, ?it/s]"
      ]
     },
     "metadata": {},
     "output_type": "display_data"
    },
    {
     "name": "stdout",
     "output_type": "stream",
     "text": [
      "epoch = 0, mpe_loss = 255.50562286376953\n"
     ]
    },
    {
     "name": "stderr",
     "output_type": "stream",
     "text": [
      "/home/user/.local/lib/python3.6/site-packages/pytorch_lightning/utilities/distributed.py:52: UserWarning: The dataloader, train dataloader, does not have many workers which may be a bottleneck. Consider increasing the value of the `num_workers` argument` (try 16 which is the number of cpus on this machine) in the `DataLoader` init to improve performance.\n",
      "  warnings.warn(*args, **kwargs)\n"
     ]
    },
    {
     "data": {
      "application/vnd.jupyter.widget-view+json": {
       "model_id": "0bfc30c31db14ca7be5a4c1f03c9f95e",
       "version_major": 2,
       "version_minor": 0
      },
      "text/plain": [
       "Training: 0it [00:00, ?it/s]"
      ]
     },
     "metadata": {},
     "output_type": "display_data"
    },
    {
     "data": {
      "application/vnd.jupyter.widget-view+json": {
       "model_id": "",
       "version_major": 2,
       "version_minor": 0
      },
      "text/plain": [
       "Validating: 0it [00:00, ?it/s]"
      ]
     },
     "metadata": {},
     "output_type": "display_data"
    },
    {
     "name": "stdout",
     "output_type": "stream",
     "text": [
      "epoch = 0, mpe_loss = 68.37470374402359\n"
     ]
    },
    {
     "data": {
      "application/vnd.jupyter.widget-view+json": {
       "model_id": "",
       "version_major": 2,
       "version_minor": 0
      },
      "text/plain": [
       "Validating: 0it [00:00, ?it/s]"
      ]
     },
     "metadata": {},
     "output_type": "display_data"
    },
    {
     "name": "stdout",
     "output_type": "stream",
     "text": [
      "epoch = 1, mpe_loss = 43.53293735694948\n"
     ]
    },
    {
     "data": {
      "application/vnd.jupyter.widget-view+json": {
       "model_id": "",
       "version_major": 2,
       "version_minor": 0
      },
      "text/plain": [
       "Validating: 0it [00:00, ?it/s]"
      ]
     },
     "metadata": {},
     "output_type": "display_data"
    },
    {
     "name": "stdout",
     "output_type": "stream",
     "text": [
      "epoch = 2, mpe_loss = 24.33255698994071\n"
     ]
    },
    {
     "data": {
      "application/vnd.jupyter.widget-view+json": {
       "model_id": "",
       "version_major": 2,
       "version_minor": 0
      },
      "text/plain": [
       "Validating: 0it [00:00, ?it/s]"
      ]
     },
     "metadata": {},
     "output_type": "display_data"
    },
    {
     "name": "stdout",
     "output_type": "stream",
     "text": [
      "epoch = 3, mpe_loss = 15.124572207254028\n"
     ]
    },
    {
     "data": {
      "application/vnd.jupyter.widget-view+json": {
       "model_id": "",
       "version_major": 2,
       "version_minor": 0
      },
      "text/plain": [
       "Validating: 0it [00:00, ?it/s]"
      ]
     },
     "metadata": {},
     "output_type": "display_data"
    },
    {
     "name": "stdout",
     "output_type": "stream",
     "text": [
      "epoch = 4, mpe_loss = 11.321989697352326\n"
     ]
    },
    {
     "data": {
      "application/vnd.jupyter.widget-view+json": {
       "model_id": "",
       "version_major": 2,
       "version_minor": 0
      },
      "text/plain": [
       "Validating: 0it [00:00, ?it/s]"
      ]
     },
     "metadata": {},
     "output_type": "display_data"
    },
    {
     "name": "stdout",
     "output_type": "stream",
     "text": [
      "epoch = 5, mpe_loss = 10.245951904725574\n"
     ]
    },
    {
     "data": {
      "application/vnd.jupyter.widget-view+json": {
       "model_id": "",
       "version_major": 2,
       "version_minor": 0
      },
      "text/plain": [
       "Validating: 0it [00:00, ?it/s]"
      ]
     },
     "metadata": {},
     "output_type": "display_data"
    },
    {
     "name": "stdout",
     "output_type": "stream",
     "text": [
      "epoch = 6, mpe_loss = 9.918328496611274\n"
     ]
    },
    {
     "data": {
      "application/vnd.jupyter.widget-view+json": {
       "model_id": "",
       "version_major": 2,
       "version_minor": 0
      },
      "text/plain": [
       "Validating: 0it [00:00, ?it/s]"
      ]
     },
     "metadata": {},
     "output_type": "display_data"
    },
    {
     "name": "stdout",
     "output_type": "stream",
     "text": [
      "epoch = 7, mpe_loss = 9.52846039195854\n"
     ]
    },
    {
     "data": {
      "application/vnd.jupyter.widget-view+json": {
       "model_id": "",
       "version_major": 2,
       "version_minor": 0
      },
      "text/plain": [
       "Validating: 0it [00:00, ?it/s]"
      ]
     },
     "metadata": {},
     "output_type": "display_data"
    },
    {
     "name": "stdout",
     "output_type": "stream",
     "text": [
      "epoch = 8, mpe_loss = 9.696075142496662\n"
     ]
    },
    {
     "data": {
      "application/vnd.jupyter.widget-view+json": {
       "model_id": "",
       "version_major": 2,
       "version_minor": 0
      },
      "text/plain": [
       "Validating: 0it [00:00, ?it/s]"
      ]
     },
     "metadata": {},
     "output_type": "display_data"
    },
    {
     "name": "stdout",
     "output_type": "stream",
     "text": [
      "epoch = 9, mpe_loss = 9.009116074828698\n"
     ]
    },
    {
     "data": {
      "application/vnd.jupyter.widget-view+json": {
       "model_id": "",
       "version_major": 2,
       "version_minor": 0
      },
      "text/plain": [
       "Validating: 0it [00:00, ?it/s]"
      ]
     },
     "metadata": {},
     "output_type": "display_data"
    },
    {
     "name": "stdout",
     "output_type": "stream",
     "text": [
      "epoch = 10, mpe_loss = 9.054118016839924\n"
     ]
    },
    {
     "data": {
      "application/vnd.jupyter.widget-view+json": {
       "model_id": "",
       "version_major": 2,
       "version_minor": 0
      },
      "text/plain": [
       "Validating: 0it [00:00, ?it/s]"
      ]
     },
     "metadata": {},
     "output_type": "display_data"
    },
    {
     "name": "stdout",
     "output_type": "stream",
     "text": [
      "epoch = 11, mpe_loss = 9.175784165907988\n"
     ]
    },
    {
     "data": {
      "application/vnd.jupyter.widget-view+json": {
       "model_id": "",
       "version_major": 2,
       "version_minor": 0
      },
      "text/plain": [
       "Validating: 0it [00:00, ?it/s]"
      ]
     },
     "metadata": {},
     "output_type": "display_data"
    },
    {
     "name": "stdout",
     "output_type": "stream",
     "text": [
      "epoch = 12, mpe_loss = 9.265333167573045\n"
     ]
    },
    {
     "data": {
      "application/vnd.jupyter.widget-view+json": {
       "model_id": "",
       "version_major": 2,
       "version_minor": 0
      },
      "text/plain": [
       "Validating: 0it [00:00, ?it/s]"
      ]
     },
     "metadata": {},
     "output_type": "display_data"
    },
    {
     "name": "stdout",
     "output_type": "stream",
     "text": [
      "epoch = 13, mpe_loss = 8.949767671012301\n"
     ]
    },
    {
     "data": {
      "application/vnd.jupyter.widget-view+json": {
       "model_id": "",
       "version_major": 2,
       "version_minor": 0
      },
      "text/plain": [
       "Validating: 0it [00:00, ?it/s]"
      ]
     },
     "metadata": {},
     "output_type": "display_data"
    },
    {
     "name": "stdout",
     "output_type": "stream",
     "text": [
      "epoch = 14, mpe_loss = 8.44184388108208\n"
     ]
    },
    {
     "data": {
      "application/vnd.jupyter.widget-view+json": {
       "model_id": "",
       "version_major": 2,
       "version_minor": 0
      },
      "text/plain": [
       "Validating: 0it [00:00, ?it/s]"
      ]
     },
     "metadata": {},
     "output_type": "display_data"
    },
    {
     "name": "stdout",
     "output_type": "stream",
     "text": [
      "epoch = 15, mpe_loss = 8.562407498717299\n"
     ]
    },
    {
     "data": {
      "application/vnd.jupyter.widget-view+json": {
       "model_id": "",
       "version_major": 2,
       "version_minor": 0
      },
      "text/plain": [
       "Validating: 0it [00:00, ?it/s]"
      ]
     },
     "metadata": {},
     "output_type": "display_data"
    },
    {
     "name": "stdout",
     "output_type": "stream",
     "text": [
      "epoch = 16, mpe_loss = 8.29394718273831\n"
     ]
    },
    {
     "data": {
      "application/vnd.jupyter.widget-view+json": {
       "model_id": "",
       "version_major": 2,
       "version_minor": 0
      },
      "text/plain": [
       "Validating: 0it [00:00, ?it/s]"
      ]
     },
     "metadata": {},
     "output_type": "display_data"
    },
    {
     "name": "stdout",
     "output_type": "stream",
     "text": [
      "epoch = 17, mpe_loss = 8.322580222355883\n"
     ]
    },
    {
     "data": {
      "application/vnd.jupyter.widget-view+json": {
       "model_id": "",
       "version_major": 2,
       "version_minor": 0
      },
      "text/plain": [
       "Validating: 0it [00:00, ?it/s]"
      ]
     },
     "metadata": {},
     "output_type": "display_data"
    },
    {
     "name": "stdout",
     "output_type": "stream",
     "text": [
      "epoch = 18, mpe_loss = 8.249615017529322\n"
     ]
    },
    {
     "data": {
      "application/vnd.jupyter.widget-view+json": {
       "model_id": "",
       "version_major": 2,
       "version_minor": 0
      },
      "text/plain": [
       "Validating: 0it [00:00, ?it/s]"
      ]
     },
     "metadata": {},
     "output_type": "display_data"
    },
    {
     "name": "stdout",
     "output_type": "stream",
     "text": [
      "epoch = 19, mpe_loss = 8.289468254479264\n"
     ]
    },
    {
     "data": {
      "application/vnd.jupyter.widget-view+json": {
       "model_id": "",
       "version_major": 2,
       "version_minor": 0
      },
      "text/plain": [
       "Validating: 0it [00:00, ?it/s]"
      ]
     },
     "metadata": {},
     "output_type": "display_data"
    },
    {
     "name": "stdout",
     "output_type": "stream",
     "text": [
      "epoch = 20, mpe_loss = 8.160675477527155\n"
     ]
    },
    {
     "data": {
      "application/vnd.jupyter.widget-view+json": {
       "model_id": "",
       "version_major": 2,
       "version_minor": 0
      },
      "text/plain": [
       "Validating: 0it [00:00, ?it/s]"
      ]
     },
     "metadata": {},
     "output_type": "display_data"
    },
    {
     "name": "stdout",
     "output_type": "stream",
     "text": [
      "epoch = 21, mpe_loss = 8.171629241229194\n"
     ]
    },
    {
     "data": {
      "application/vnd.jupyter.widget-view+json": {
       "model_id": "",
       "version_major": 2,
       "version_minor": 0
      },
      "text/plain": [
       "Validating: 0it [00:00, ?it/s]"
      ]
     },
     "metadata": {},
     "output_type": "display_data"
    },
    {
     "name": "stdout",
     "output_type": "stream",
     "text": [
      "epoch = 22, mpe_loss = 8.356245694277204\n"
     ]
    },
    {
     "data": {
      "application/vnd.jupyter.widget-view+json": {
       "model_id": "",
       "version_major": 2,
       "version_minor": 0
      },
      "text/plain": [
       "Validating: 0it [00:00, ?it/s]"
      ]
     },
     "metadata": {},
     "output_type": "display_data"
    },
    {
     "name": "stdout",
     "output_type": "stream",
     "text": [
      "epoch = 23, mpe_loss = 8.201802162563643\n"
     ]
    },
    {
     "name": "stderr",
     "output_type": "stream",
     "text": [
      "/home/user/.local/lib/python3.6/site-packages/pytorch_lightning/utilities/distributed.py:52: UserWarning: Detected KeyboardInterrupt, attempting graceful shutdown...\n",
      "  warnings.warn(*args, **kwargs)\n"
     ]
    }
   ],
   "source": [
    "oofs = []  # 全てのoofをdfで格納する\n",
    "predictions = []  # 全ての予測値をdfで格納する\n",
    "val_scores = []\n",
    "# skf = StratifiedKFold(n_splits=N_SPLITS, shuffle=True, random_state=SEED)\n",
    "gkf = GroupKFold(n_splits=N_SPLITS)\n",
    "# for fold, (trn_idx, val_idx) in enumerate(skf.split(train.loc[:, 'path'], train.loc[:, 'path'])):\n",
    "for fold, (trn_idx, val_idx) in enumerate(gkf.split(train.loc[:, 'path'], groups=train.loc[:, 'path'])):\n",
    "\n",
    "    # 指定したfoldのみループを回す\n",
    "\n",
    "    print('=' * 20)\n",
    "    print(f'Fold {fold}')\n",
    "    print('=' * 20)\n",
    "\n",
    "    # train/valid data\n",
    "    trn_df = train.loc[trn_idx, BSSID_FEATS + RSSI_FEATS + ['site_id', 'site_id_str', 'x','y','floor']].reset_index(drop=True)\n",
    "    val_df = train.loc[val_idx, BSSID_FEATS + RSSI_FEATS + ['site_id', 'site_id_str', 'x','y','floor']].reset_index(drop=True)\n",
    "\n",
    "    # data loader\n",
    "    loaders = {}\n",
    "    loader_config = config[\"loader\"]\n",
    "    loaders[\"train\"] = DataLoader(IndoorDataset(trn_df, phase=\"train\"), **loader_config[\"train\"], worker_init_fn=worker_init_fn) \n",
    "    loaders[\"valid\"] = DataLoader(IndoorDataset(val_df, phase=\"valid\"), **loader_config[\"valid\"], worker_init_fn=worker_init_fn)\n",
    "    loaders[\"test\"] = DataLoader(IndoorDataset(test, phase=\"test\"), **loader_config[\"test\"], worker_init_fn=worker_init_fn)\n",
    "    \n",
    "    # model\n",
    "    model = LSTMModel(wifi_bssids_size, site_count)\n",
    "    model_name = model.__class__.__name__\n",
    "    \n",
    "    # loggers\n",
    "    RUN_NAME = f'exp{str(EXP_NAME)}'\n",
    "    wandb.init(project='Indoor_Location_Navigation', entity='sqrt4kaido', group=RUN_NAME, job_type=RUN_NAME + f'-fold-{fold}')\n",
    "    wandb.run.name = RUN_NAME + f'-fold-{fold}'\n",
    "    wandb_config = wandb.config\n",
    "    wandb_config.model_name = model_name\n",
    "    wandb.watch(model)\n",
    "    \n",
    "    \n",
    "    loggers = []\n",
    "    loggers.append(WandbLogger())\n",
    "\n",
    "    learner = Learner(model, config)\n",
    "    \n",
    "    # callbacks\n",
    "    callbacks = []\n",
    "    checkpoint_callback = ModelCheckpoint(\n",
    "        monitor=f'Loss/val',\n",
    "        mode='min',\n",
    "        dirpath=OUTPUT_DIR,\n",
    "        verbose=False,\n",
    "        filename=f'{model_name}-{learner.current_epoch}-{fold}')\n",
    "    callbacks.append(checkpoint_callback)\n",
    "\n",
    "    early_stop_callback = EarlyStopping(\n",
    "        monitor='Loss/val',\n",
    "        min_delta=0.00,\n",
    "        patience=3,\n",
    "        verbose=True,\n",
    "        mode='min')\n",
    "    callbacks.append(early_stop_callback)\n",
    "    \n",
    "    trainer = pl.Trainer(\n",
    "        logger=loggers,\n",
    "        checkpoint_callback=callbacks,\n",
    "        max_epochs=MAX_EPOCHS,\n",
    "        default_root_dir=OUTPUT_DIR,\n",
    "        gpus=1,\n",
    "        fast_dev_run=DEBUG,\n",
    "        deterministic=True,\n",
    "        benchmark=True,\n",
    "#         precision=16,\n",
    "#         progress_bar_refresh_rate=0  # vscodeの時progress barの動作が遅いので表示しない\n",
    "        )\n",
    "\n",
    "\n",
    "    trainer.fit(learner, train_dataloader=loaders['train'], val_dataloaders=loaders['valid'])\n",
    "\n",
    "    #############\n",
    "    # validation (to make oof)\n",
    "    #############\n",
    "    model.eval()\n",
    "    oof_x, oof_y, oof_f = evaluate(model, loaders, phase=\"valid\")\n",
    "    val_df[\"oof_x\"] = oof_x\n",
    "    val_df[\"oof_y\"] = oof_y\n",
    "    val_df[\"oof_floor\"] = oof_f\n",
    "    oofs.append(val_df)\n",
    "    \n",
    "    val_score = mean_position_error(\n",
    "        val_df[\"oof_x\"].values, val_df[\"oof_y\"].values, 0,\n",
    "        val_df['x'].values, val_df['y'].values, 0)\n",
    "    val_scores.append(val_score)\n",
    "    print(f\"fold {fold}: mean position error {val_score}\")\n",
    "\n",
    "    #############\n",
    "    # inference\n",
    "    #############\n",
    "    preds_x, preds_y, preds_f = evaluate(model, loaders, phase=\"test\")\n",
    "    test_preds = pd.DataFrame(np.stack((preds_f, preds_x, preds_y))).T\n",
    "    test_preds.columns = sub.columns\n",
    "    test_preds[\"site_path_timestamp\"] = test[\"site_path_timestamp\"]\n",
    "    test_preds[\"floor\"] = test_preds[\"floor\"].astype(int)\n",
    "    predictions.append(test_preds)\n",
    "    "
   ]
  },
  {
   "cell_type": "code",
   "execution_count": null,
   "metadata": {},
   "outputs": [],
   "source": [
    "if len(oofs) > 1:\n",
    "    oofs_df = pd.concat(oofs)\n",
    "else:\n",
    "    oofs_df = oofs[0]\n",
    "oofs_df.to_csv(str(OUTPUT_DIR) + f\"/oof{EXP_NAME}.csv\", index=False)\n",
    "oofs_df"
   ]
  },
  {
   "cell_type": "code",
   "execution_count": 21,
   "metadata": {},
   "outputs": [
    {
     "data": {
      "text/html": [
       "<div>\n",
       "<style scoped>\n",
       "    .dataframe tbody tr th:only-of-type {\n",
       "        vertical-align: middle;\n",
       "    }\n",
       "\n",
       "    .dataframe tbody tr th {\n",
       "        vertical-align: top;\n",
       "    }\n",
       "\n",
       "    .dataframe thead th {\n",
       "        text-align: right;\n",
       "    }\n",
       "</style>\n",
       "<table border=\"1\" class=\"dataframe\">\n",
       "  <thead>\n",
       "    <tr style=\"text-align: right;\">\n",
       "      <th></th>\n",
       "      <th>floor</th>\n",
       "      <th>x</th>\n",
       "      <th>y</th>\n",
       "    </tr>\n",
       "    <tr>\n",
       "      <th>site_path_timestamp</th>\n",
       "      <th></th>\n",
       "      <th></th>\n",
       "      <th></th>\n",
       "    </tr>\n",
       "  </thead>\n",
       "  <tbody>\n",
       "    <tr>\n",
       "      <th>5a0546857ecc773753327266_046cfa46be49fc10834815c6_0000000000009</th>\n",
       "      <td>0</td>\n",
       "      <td>87.820877</td>\n",
       "      <td>103.378113</td>\n",
       "    </tr>\n",
       "    <tr>\n",
       "      <th>5a0546857ecc773753327266_046cfa46be49fc10834815c6_0000000009017</th>\n",
       "      <td>0</td>\n",
       "      <td>84.934212</td>\n",
       "      <td>102.221764</td>\n",
       "    </tr>\n",
       "    <tr>\n",
       "      <th>5a0546857ecc773753327266_046cfa46be49fc10834815c6_0000000015326</th>\n",
       "      <td>0</td>\n",
       "      <td>84.637535</td>\n",
       "      <td>106.694267</td>\n",
       "    </tr>\n",
       "    <tr>\n",
       "      <th>5a0546857ecc773753327266_046cfa46be49fc10834815c6_0000000018763</th>\n",
       "      <td>0</td>\n",
       "      <td>88.344582</td>\n",
       "      <td>108.472931</td>\n",
       "    </tr>\n",
       "    <tr>\n",
       "      <th>5a0546857ecc773753327266_046cfa46be49fc10834815c6_0000000022328</th>\n",
       "      <td>0</td>\n",
       "      <td>88.364525</td>\n",
       "      <td>107.649292</td>\n",
       "    </tr>\n",
       "    <tr>\n",
       "      <th>...</th>\n",
       "      <td>...</td>\n",
       "      <td>...</td>\n",
       "      <td>...</td>\n",
       "    </tr>\n",
       "    <tr>\n",
       "      <th>5dc8cea7659e181adb076a3f_fd64de8c4a2fc5ebb0e9f412_0000000082589</th>\n",
       "      <td>0</td>\n",
       "      <td>216.584732</td>\n",
       "      <td>91.119125</td>\n",
       "    </tr>\n",
       "    <tr>\n",
       "      <th>5dc8cea7659e181adb076a3f_fd64de8c4a2fc5ebb0e9f412_0000000085758</th>\n",
       "      <td>0</td>\n",
       "      <td>210.694809</td>\n",
       "      <td>98.997589</td>\n",
       "    </tr>\n",
       "    <tr>\n",
       "      <th>5dc8cea7659e181adb076a3f_fd64de8c4a2fc5ebb0e9f412_0000000090895</th>\n",
       "      <td>0</td>\n",
       "      <td>207.790909</td>\n",
       "      <td>106.390236</td>\n",
       "    </tr>\n",
       "    <tr>\n",
       "      <th>5dc8cea7659e181adb076a3f_fd64de8c4a2fc5ebb0e9f412_0000000096899</th>\n",
       "      <td>0</td>\n",
       "      <td>202.718658</td>\n",
       "      <td>113.294189</td>\n",
       "    </tr>\n",
       "    <tr>\n",
       "      <th>5dc8cea7659e181adb076a3f_fd64de8c4a2fc5ebb0e9f412_0000000100447</th>\n",
       "      <td>0</td>\n",
       "      <td>197.348160</td>\n",
       "      <td>110.654160</td>\n",
       "    </tr>\n",
       "  </tbody>\n",
       "</table>\n",
       "<p>10133 rows × 3 columns</p>\n",
       "</div>"
      ],
      "text/plain": [
       "                                                    floor           x  \\\n",
       "site_path_timestamp                                                     \n",
       "5a0546857ecc773753327266_046cfa46be49fc10834815...      0   87.820877   \n",
       "5a0546857ecc773753327266_046cfa46be49fc10834815...      0   84.934212   \n",
       "5a0546857ecc773753327266_046cfa46be49fc10834815...      0   84.637535   \n",
       "5a0546857ecc773753327266_046cfa46be49fc10834815...      0   88.344582   \n",
       "5a0546857ecc773753327266_046cfa46be49fc10834815...      0   88.364525   \n",
       "...                                                   ...         ...   \n",
       "5dc8cea7659e181adb076a3f_fd64de8c4a2fc5ebb0e9f4...      0  216.584732   \n",
       "5dc8cea7659e181adb076a3f_fd64de8c4a2fc5ebb0e9f4...      0  210.694809   \n",
       "5dc8cea7659e181adb076a3f_fd64de8c4a2fc5ebb0e9f4...      0  207.790909   \n",
       "5dc8cea7659e181adb076a3f_fd64de8c4a2fc5ebb0e9f4...      0  202.718658   \n",
       "5dc8cea7659e181adb076a3f_fd64de8c4a2fc5ebb0e9f4...      0  197.348160   \n",
       "\n",
       "                                                             y  \n",
       "site_path_timestamp                                             \n",
       "5a0546857ecc773753327266_046cfa46be49fc10834815...  103.378113  \n",
       "5a0546857ecc773753327266_046cfa46be49fc10834815...  102.221764  \n",
       "5a0546857ecc773753327266_046cfa46be49fc10834815...  106.694267  \n",
       "5a0546857ecc773753327266_046cfa46be49fc10834815...  108.472931  \n",
       "5a0546857ecc773753327266_046cfa46be49fc10834815...  107.649292  \n",
       "...                                                        ...  \n",
       "5dc8cea7659e181adb076a3f_fd64de8c4a2fc5ebb0e9f4...   91.119125  \n",
       "5dc8cea7659e181adb076a3f_fd64de8c4a2fc5ebb0e9f4...   98.997589  \n",
       "5dc8cea7659e181adb076a3f_fd64de8c4a2fc5ebb0e9f4...  106.390236  \n",
       "5dc8cea7659e181adb076a3f_fd64de8c4a2fc5ebb0e9f4...  113.294189  \n",
       "5dc8cea7659e181adb076a3f_fd64de8c4a2fc5ebb0e9f4...  110.654160  \n",
       "\n",
       "[10133 rows x 3 columns]"
      ]
     },
     "execution_count": 21,
     "metadata": {},
     "output_type": "execute_result"
    }
   ],
   "source": [
    "    # foldの結果を平均した後、reindexでsubmission fileにindexを合わせる\n",
    "all_preds = pd.concat(predictions).groupby('site_path_timestamp').mean().reindex(sub.index)\n",
    "\n",
    "all_preds"
   ]
  },
  {
   "cell_type": "code",
   "execution_count": 22,
   "metadata": {},
   "outputs": [
    {
     "data": {
      "text/html": [
       "<div>\n",
       "<style scoped>\n",
       "    .dataframe tbody tr th:only-of-type {\n",
       "        vertical-align: middle;\n",
       "    }\n",
       "\n",
       "    .dataframe tbody tr th {\n",
       "        vertical-align: top;\n",
       "    }\n",
       "\n",
       "    .dataframe thead th {\n",
       "        text-align: right;\n",
       "    }\n",
       "</style>\n",
       "<table border=\"1\" class=\"dataframe\">\n",
       "  <thead>\n",
       "    <tr style=\"text-align: right;\">\n",
       "      <th></th>\n",
       "      <th>floor</th>\n",
       "      <th>x</th>\n",
       "      <th>y</th>\n",
       "    </tr>\n",
       "    <tr>\n",
       "      <th>site_path_timestamp</th>\n",
       "      <th></th>\n",
       "      <th></th>\n",
       "      <th></th>\n",
       "    </tr>\n",
       "  </thead>\n",
       "  <tbody>\n",
       "    <tr>\n",
       "      <th>5a0546857ecc773753327266_046cfa46be49fc10834815c6_0000000000009</th>\n",
       "      <td>0</td>\n",
       "      <td>87.820877</td>\n",
       "      <td>103.378113</td>\n",
       "    </tr>\n",
       "    <tr>\n",
       "      <th>5a0546857ecc773753327266_046cfa46be49fc10834815c6_0000000009017</th>\n",
       "      <td>0</td>\n",
       "      <td>84.934212</td>\n",
       "      <td>102.221764</td>\n",
       "    </tr>\n",
       "    <tr>\n",
       "      <th>5a0546857ecc773753327266_046cfa46be49fc10834815c6_0000000015326</th>\n",
       "      <td>0</td>\n",
       "      <td>84.637535</td>\n",
       "      <td>106.694267</td>\n",
       "    </tr>\n",
       "    <tr>\n",
       "      <th>5a0546857ecc773753327266_046cfa46be49fc10834815c6_0000000018763</th>\n",
       "      <td>0</td>\n",
       "      <td>88.344582</td>\n",
       "      <td>108.472931</td>\n",
       "    </tr>\n",
       "    <tr>\n",
       "      <th>5a0546857ecc773753327266_046cfa46be49fc10834815c6_0000000022328</th>\n",
       "      <td>0</td>\n",
       "      <td>88.364525</td>\n",
       "      <td>107.649292</td>\n",
       "    </tr>\n",
       "    <tr>\n",
       "      <th>...</th>\n",
       "      <td>...</td>\n",
       "      <td>...</td>\n",
       "      <td>...</td>\n",
       "    </tr>\n",
       "    <tr>\n",
       "      <th>5dc8cea7659e181adb076a3f_fd64de8c4a2fc5ebb0e9f412_0000000082589</th>\n",
       "      <td>5</td>\n",
       "      <td>216.584732</td>\n",
       "      <td>91.119125</td>\n",
       "    </tr>\n",
       "    <tr>\n",
       "      <th>5dc8cea7659e181adb076a3f_fd64de8c4a2fc5ebb0e9f412_0000000085758</th>\n",
       "      <td>5</td>\n",
       "      <td>210.694809</td>\n",
       "      <td>98.997589</td>\n",
       "    </tr>\n",
       "    <tr>\n",
       "      <th>5dc8cea7659e181adb076a3f_fd64de8c4a2fc5ebb0e9f412_0000000090895</th>\n",
       "      <td>5</td>\n",
       "      <td>207.790909</td>\n",
       "      <td>106.390236</td>\n",
       "    </tr>\n",
       "    <tr>\n",
       "      <th>5dc8cea7659e181adb076a3f_fd64de8c4a2fc5ebb0e9f412_0000000096899</th>\n",
       "      <td>5</td>\n",
       "      <td>202.718658</td>\n",
       "      <td>113.294189</td>\n",
       "    </tr>\n",
       "    <tr>\n",
       "      <th>5dc8cea7659e181adb076a3f_fd64de8c4a2fc5ebb0e9f412_0000000100447</th>\n",
       "      <td>5</td>\n",
       "      <td>197.348160</td>\n",
       "      <td>110.654160</td>\n",
       "    </tr>\n",
       "  </tbody>\n",
       "</table>\n",
       "<p>10133 rows × 3 columns</p>\n",
       "</div>"
      ],
      "text/plain": [
       "                                                    floor           x  \\\n",
       "site_path_timestamp                                                     \n",
       "5a0546857ecc773753327266_046cfa46be49fc10834815...      0   87.820877   \n",
       "5a0546857ecc773753327266_046cfa46be49fc10834815...      0   84.934212   \n",
       "5a0546857ecc773753327266_046cfa46be49fc10834815...      0   84.637535   \n",
       "5a0546857ecc773753327266_046cfa46be49fc10834815...      0   88.344582   \n",
       "5a0546857ecc773753327266_046cfa46be49fc10834815...      0   88.364525   \n",
       "...                                                   ...         ...   \n",
       "5dc8cea7659e181adb076a3f_fd64de8c4a2fc5ebb0e9f4...      5  216.584732   \n",
       "5dc8cea7659e181adb076a3f_fd64de8c4a2fc5ebb0e9f4...      5  210.694809   \n",
       "5dc8cea7659e181adb076a3f_fd64de8c4a2fc5ebb0e9f4...      5  207.790909   \n",
       "5dc8cea7659e181adb076a3f_fd64de8c4a2fc5ebb0e9f4...      5  202.718658   \n",
       "5dc8cea7659e181adb076a3f_fd64de8c4a2fc5ebb0e9f4...      5  197.348160   \n",
       "\n",
       "                                                             y  \n",
       "site_path_timestamp                                             \n",
       "5a0546857ecc773753327266_046cfa46be49fc10834815...  103.378113  \n",
       "5a0546857ecc773753327266_046cfa46be49fc10834815...  102.221764  \n",
       "5a0546857ecc773753327266_046cfa46be49fc10834815...  106.694267  \n",
       "5a0546857ecc773753327266_046cfa46be49fc10834815...  108.472931  \n",
       "5a0546857ecc773753327266_046cfa46be49fc10834815...  107.649292  \n",
       "...                                                        ...  \n",
       "5dc8cea7659e181adb076a3f_fd64de8c4a2fc5ebb0e9f4...   91.119125  \n",
       "5dc8cea7659e181adb076a3f_fd64de8c4a2fc5ebb0e9f4...   98.997589  \n",
       "5dc8cea7659e181adb076a3f_fd64de8c4a2fc5ebb0e9f4...  106.390236  \n",
       "5dc8cea7659e181adb076a3f_fd64de8c4a2fc5ebb0e9f4...  113.294189  \n",
       "5dc8cea7659e181adb076a3f_fd64de8c4a2fc5ebb0e9f4...  110.654160  \n",
       "\n",
       "[10133 rows x 3 columns]"
      ]
     },
     "execution_count": 22,
     "metadata": {},
     "output_type": "execute_result"
    }
   ],
   "source": [
    "# floorの数値を置換\n",
    "simple_accurate_99 = pd.read_csv('../01/submission.csv')\n",
    "all_preds['floor'] = simple_accurate_99['floor'].values\n",
    "all_preds"
   ]
  },
  {
   "cell_type": "code",
   "execution_count": 23,
   "metadata": {},
   "outputs": [],
   "source": [
    "all_preds.to_csv(str(OUTPUT_DIR) + f\"/sub{EXP_NAME}.csv\")"
   ]
  },
  {
   "cell_type": "code",
   "execution_count": 24,
   "metadata": {},
   "outputs": [
    {
     "name": "stdout",
     "output_type": "stream",
     "text": [
      "CV:8.134229954895378\n"
     ]
    }
   ],
   "source": [
    "print(f\"CV:{np.mean(val_scores)}\")"
   ]
  },
  {
   "cell_type": "code",
   "execution_count": 25,
   "metadata": {},
   "outputs": [
    {
     "data": {
      "text/html": [
       "Finishing last run (ID:1en0l7nr) before initializing another..."
      ],
      "text/plain": [
       "<IPython.core.display.HTML object>"
      ]
     },
     "metadata": {},
     "output_type": "display_data"
    },
    {
     "data": {
      "text/html": [
       "<br/>Waiting for W&B process to finish, PID 25347<br/>Program ended successfully."
      ],
      "text/plain": [
       "<IPython.core.display.HTML object>"
      ]
     },
     "metadata": {},
     "output_type": "display_data"
    },
    {
     "data": {
      "application/vnd.jupyter.widget-view+json": {
       "model_id": "",
       "version_major": 2,
       "version_minor": 0
      },
      "text/plain": [
       "VBox(children=(Label(value=' 0.00MB of 0.00MB uploaded (0.00MB deduped)\\r'), FloatProgress(value=1.0, max=1.0)…"
      ]
     },
     "metadata": {},
     "output_type": "display_data"
    },
    {
     "data": {
      "text/html": [
       "Find user logs for this run at: <code>/home/knikaido/work/Indoor-Location-Navigation/Git/Notebook/05/wandb/run-20210327_180701-1en0l7nr/logs/debug.log</code>"
      ],
      "text/plain": [
       "<IPython.core.display.HTML object>"
      ]
     },
     "metadata": {},
     "output_type": "display_data"
    },
    {
     "data": {
      "text/html": [
       "Find internal logs for this run at: <code>/home/knikaido/work/Indoor-Location-Navigation/Git/Notebook/05/wandb/run-20210327_180701-1en0l7nr/logs/debug-internal.log</code>"
      ],
      "text/plain": [
       "<IPython.core.display.HTML object>"
      ]
     },
     "metadata": {},
     "output_type": "display_data"
    },
    {
     "data": {
      "text/html": [
       "<h3>Run summary:</h3><br/><style>\n",
       "    table.wandb td:nth-child(1) { padding: 0 10px; text-align: right }\n",
       "    </style><table class=\"wandb\">\n",
       "<tr><td>Loss/val</td><td>55.20833</td></tr><tr><td>Loss/xy</td><td>55.20833</td></tr><tr><td>Loss/floor</td><td>4.40498</td></tr><tr><td>MPE/val</td><td>8.26543</td></tr><tr><td>epoch</td><td>199</td></tr><tr><td>trainer/global_step</td><td>80799</td></tr><tr><td>_runtime</td><td>957</td></tr><tr><td>_timestamp</td><td>1616836981</td></tr><tr><td>_step</td><td>199</td></tr></table>"
      ],
      "text/plain": [
       "<IPython.core.display.HTML object>"
      ]
     },
     "metadata": {},
     "output_type": "display_data"
    },
    {
     "data": {
      "text/html": [
       "<h3>Run history:</h3><br/><style>\n",
       "    table.wandb td:nth-child(1) { padding: 0 10px; text-align: right }\n",
       "    </style><table class=\"wandb\">\n",
       "<tr><td>Loss/val</td><td>█▇▅▅▄▃▃▂▂▂▂▁▁▁▁▁▁▁▁▁▁▁▁▁▁▁▁▁▁▁▁▁▁▁▁▁▁▁▁▁</td></tr><tr><td>Loss/xy</td><td>█▇▅▅▄▃▃▂▂▂▂▁▁▁▁▁▁▁▁▁▁▁▁▁▁▁▁▁▁▁▁▁▁▁▁▁▁▁▁▁</td></tr><tr><td>Loss/floor</td><td>▆▆▆▆▆▆▅█▇▆▅▄▃▂▂▂▁▁▁▁▁▁▁▁▁▂▂▂▂▂▂▂▂▂▂▂▂▂▂▂</td></tr><tr><td>MPE/val</td><td>█▇▆▆▅▄▄▃▃▃▂▂▂▂▂▁▁▁▁▁▁▁▁▁▁▁▁▁▁▁▁▁▁▁▁▁▁▁▁▁</td></tr><tr><td>epoch</td><td>▁▁▁▁▂▂▂▂▂▃▃▃▃▃▃▄▄▄▄▄▅▅▅▅▅▅▆▆▆▆▆▇▇▇▇▇▇███</td></tr><tr><td>trainer/global_step</td><td>▁▁▁▁▂▂▂▂▂▃▃▃▃▃▃▄▄▄▄▄▅▅▅▅▅▅▆▆▆▆▆▇▇▇▇▇▇███</td></tr><tr><td>_runtime</td><td>▁▁▁▁▂▂▂▂▂▃▃▃▃▃▃▄▄▄▄▄▅▅▅▅▅▅▆▆▆▆▆▇▇▇▇▇▇███</td></tr><tr><td>_timestamp</td><td>▁▁▁▁▂▂▂▂▂▃▃▃▃▃▃▄▄▄▄▄▅▅▅▅▅▅▆▆▆▆▆▇▇▇▇▇▇███</td></tr><tr><td>_step</td><td>▁▁▁▁▂▂▂▂▂▃▃▃▃▃▃▄▄▄▄▄▅▅▅▅▅▅▆▆▆▆▆▇▇▇▇▇▇███</td></tr></table><br/>"
      ],
      "text/plain": [
       "<IPython.core.display.HTML object>"
      ]
     },
     "metadata": {},
     "output_type": "display_data"
    },
    {
     "data": {
      "text/html": [
       "Synced 5 W&B file(s), 1 media file(s), 0 artifact file(s) and 0 other file(s)"
      ],
      "text/plain": [
       "<IPython.core.display.HTML object>"
      ]
     },
     "metadata": {},
     "output_type": "display_data"
    },
    {
     "data": {
      "text/html": [
       "\n",
       "                    <br/>Synced <strong style=\"color:#cdcd00\">distinctive-sea-18</strong>: <a href=\"https://wandb.ai/sqrt4kaido/Indoor_Location_Navigation/runs/1en0l7nr\" target=\"_blank\">https://wandb.ai/sqrt4kaido/Indoor_Location_Navigation/runs/1en0l7nr</a><br/>\n",
       "                "
      ],
      "text/plain": [
       "<IPython.core.display.HTML object>"
      ]
     },
     "metadata": {},
     "output_type": "display_data"
    },
    {
     "data": {
      "text/html": [
       "...Successfully finished last run (ID:1en0l7nr). Initializing new run:<br/><br/>"
      ],
      "text/plain": [
       "<IPython.core.display.HTML object>"
      ]
     },
     "metadata": {},
     "output_type": "display_data"
    },
    {
     "data": {
      "text/html": [
       "\n",
       "                Tracking run with wandb version 0.10.23<br/>\n",
       "                Syncing run <strong style=\"color:#cdcd00\">ancient-haze-19</strong> to <a href=\"https://wandb.ai\" target=\"_blank\">Weights & Biases</a> <a href=\"https://docs.wandb.com/integrations/jupyter.html\" target=\"_blank\">(Documentation)</a>.<br/>\n",
       "                Project page: <a href=\"https://wandb.ai/sqrt4kaido/Indoor_Location_Navigation\" target=\"_blank\">https://wandb.ai/sqrt4kaido/Indoor_Location_Navigation</a><br/>\n",
       "                Run page: <a href=\"https://wandb.ai/sqrt4kaido/Indoor_Location_Navigation/runs/38n2yvxn\" target=\"_blank\">https://wandb.ai/sqrt4kaido/Indoor_Location_Navigation/runs/38n2yvxn</a><br/>\n",
       "                Run data is saved locally in <code>/home/knikaido/work/Indoor-Location-Navigation/Git/Notebook/05/wandb/run-20210327_182327-38n2yvxn</code><br/><br/>\n",
       "            "
      ],
      "text/plain": [
       "<IPython.core.display.HTML object>"
      ]
     },
     "metadata": {},
     "output_type": "display_data"
    },
    {
     "name": "stderr",
     "output_type": "stream",
     "text": [
      "\u001b[34m\u001b[1mwandb\u001b[0m: \u001b[33mWARNING\u001b[0m Saving files without folders. If you want to preserve sub directories pass base_path to wandb.save, i.e. wandb.save(\"/mnt/folder/file.h5\", base_path=\"/mnt\")\n"
     ]
    },
    {
     "data": {
      "text/html": [
       "<br/>Waiting for W&B process to finish, PID 31880<br/>Program ended successfully."
      ],
      "text/plain": [
       "<IPython.core.display.HTML object>"
      ]
     },
     "metadata": {},
     "output_type": "display_data"
    },
    {
     "data": {
      "application/vnd.jupyter.widget-view+json": {
       "model_id": "",
       "version_major": 2,
       "version_minor": 0
      },
      "text/plain": [
       "VBox(children=(Label(value=' 0.00MB of 0.49MB uploaded (0.00MB deduped)\\r'), FloatProgress(value=0.00130087052…"
      ]
     },
     "metadata": {},
     "output_type": "display_data"
    },
    {
     "data": {
      "text/html": [
       "Find user logs for this run at: <code>/home/knikaido/work/Indoor-Location-Navigation/Git/Notebook/05/wandb/run-20210327_182327-38n2yvxn/logs/debug.log</code>"
      ],
      "text/plain": [
       "<IPython.core.display.HTML object>"
      ]
     },
     "metadata": {},
     "output_type": "display_data"
    },
    {
     "data": {
      "text/html": [
       "Find internal logs for this run at: <code>/home/knikaido/work/Indoor-Location-Navigation/Git/Notebook/05/wandb/run-20210327_182327-38n2yvxn/logs/debug-internal.log</code>"
      ],
      "text/plain": [
       "<IPython.core.display.HTML object>"
      ]
     },
     "metadata": {},
     "output_type": "display_data"
    },
    {
     "data": {
      "text/html": [
       "<h3>Run summary:</h3><br/><style>\n",
       "    table.wandb td:nth-child(1) { padding: 0 10px; text-align: right }\n",
       "    </style><table class=\"wandb\">\n",
       "<tr><td>CV_score</td><td>8.13423</td></tr><tr><td>_runtime</td><td>2</td></tr><tr><td>_timestamp</td><td>1616837013</td></tr><tr><td>_step</td><td>0</td></tr></table>"
      ],
      "text/plain": [
       "<IPython.core.display.HTML object>"
      ]
     },
     "metadata": {},
     "output_type": "display_data"
    },
    {
     "data": {
      "text/html": [
       "<h3>Run history:</h3><br/><style>\n",
       "    table.wandb td:nth-child(1) { padding: 0 10px; text-align: right }\n",
       "    </style><table class=\"wandb\">\n",
       "<tr><td>CV_score</td><td>▁</td></tr><tr><td>_runtime</td><td>▁</td></tr><tr><td>_timestamp</td><td>▁</td></tr><tr><td>_step</td><td>▁</td></tr></table><br/>"
      ],
      "text/plain": [
       "<IPython.core.display.HTML object>"
      ]
     },
     "metadata": {},
     "output_type": "display_data"
    },
    {
     "data": {
      "text/html": [
       "Synced 5 W&B file(s), 0 media file(s), 0 artifact file(s) and 1 other file(s)"
      ],
      "text/plain": [
       "<IPython.core.display.HTML object>"
      ]
     },
     "metadata": {},
     "output_type": "display_data"
    },
    {
     "data": {
      "text/html": [
       "\n",
       "                    <br/>Synced <strong style=\"color:#cdcd00\">ancient-haze-19</strong>: <a href=\"https://wandb.ai/sqrt4kaido/Indoor_Location_Navigation/runs/38n2yvxn\" target=\"_blank\">https://wandb.ai/sqrt4kaido/Indoor_Location_Navigation/runs/38n2yvxn</a><br/>\n",
       "                "
      ],
      "text/plain": [
       "<IPython.core.display.HTML object>"
      ]
     },
     "metadata": {},
     "output_type": "display_data"
    }
   ],
   "source": [
    "wandb.init(project='Indoor_Location_Navigation', entity='sqrt4kaido', group=RUN_NAME, job_type='summary')\n",
    "wandb.run.name = 'summary'\n",
    "wandb.log({'CV_score': np.mean(val_scores)})\n",
    "wandb.save(utils.get_notebook_path())\n",
    "wandb.finish()"
   ]
  },
  {
   "cell_type": "code",
   "execution_count": null,
   "metadata": {},
   "outputs": [],
   "source": []
  }
 ],
 "metadata": {
  "kernelspec": {
   "display_name": "Python 3",
   "language": "python",
   "name": "python3"
  },
  "language_info": {
   "codemirror_mode": {
    "name": "ipython",
    "version": 3
   },
   "file_extension": ".py",
   "mimetype": "text/x-python",
   "name": "python",
   "nbconvert_exporter": "python",
   "pygments_lexer": "ipython3",
   "version": "3.6.13"
  }
 },
 "nbformat": 4,
 "nbformat_minor": 4
}
