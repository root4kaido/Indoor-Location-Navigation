{
 "cells": [
  {
   "cell_type": "markdown",
   "metadata": {},
   "source": [
    "# LSTM baseline\n",
    "\n",
    "from kuto"
   ]
  },
  {
   "cell_type": "code",
   "execution_count": 3,
   "metadata": {},
   "outputs": [],
   "source": [
    "import os\n",
    "import sys\n",
    "import glob\n",
    "import pickle\n",
    "import random"
   ]
  },
  {
   "cell_type": "code",
   "execution_count": 4,
   "metadata": {},
   "outputs": [],
   "source": [
    "import numpy as np\n",
    "import pandas as pd\n",
    "import scipy.stats as stats\n",
    "from pathlib import Path\n",
    "\n",
    "from sklearn.model_selection import StratifiedKFold, GroupKFold\n",
    "from sklearn.preprocessing import StandardScaler, LabelEncoder"
   ]
  },
  {
   "cell_type": "code",
   "execution_count": 5,
   "metadata": {},
   "outputs": [],
   "source": [
    "import torch\n",
    "from torch import nn\n",
    "import torch.nn.functional as F\n",
    "from torch.utils.data import Dataset, DataLoader\n",
    "import torch.optim as optim"
   ]
  },
  {
   "cell_type": "code",
   "execution_count": 6,
   "metadata": {},
   "outputs": [],
   "source": [
    "import pytorch_lightning as pl\n",
    "# from pytorch_lightning.loggers import TensorBoardLogger\n",
    "from pytorch_lightning.callbacks import ModelCheckpoint\n",
    "from pytorch_lightning.callbacks import EarlyStopping\n",
    "\n",
    "import wandb\n",
    "from pytorch_lightning.loggers import WandbLogger"
   ]
  },
  {
   "cell_type": "code",
   "execution_count": 7,
   "metadata": {},
   "outputs": [],
   "source": [
    "DATA_DIR = Path(\"/home/knikaido/work/Indoor-Location-Navigation/data/\")\n",
    "WIFI_DIR = DATA_DIR / 'indoorunifiedwifids'\n",
    "MLFLOW_DIR = DATA_DIR / 'mlflow/mlruns'\n",
    "OUTPUT_DIR = Path('./output/')\n",
    "MLFLOW_DIR = DATA_DIR / 'mlflow/mlruns'\n",
    "IMG_DIR = DATA_DIR / f\"indoor-location-navigation-img/metadata/\""
   ]
  },
  {
   "cell_type": "markdown",
   "metadata": {},
   "source": [
    "## util"
   ]
  },
  {
   "cell_type": "code",
   "execution_count": 8,
   "metadata": {},
   "outputs": [],
   "source": [
    "def set_seed(seed: int = 42):\n",
    "    random.seed(seed)\n",
    "    np.random.seed(seed)\n",
    "    os.environ[\"PYTHONHASHSEED\"] = str(seed)\n",
    "    torch.manual_seed(seed)\n",
    "    torch.cuda.manual_seed(seed)  # type: ignore\n",
    "    torch.backends.cudnn.deterministic = True  # type: ignore\n",
    "    torch.backends.cudnn.benchmark = False  # type: ignore"
   ]
  },
  {
   "cell_type": "code",
   "execution_count": 9,
   "metadata": {},
   "outputs": [],
   "source": [
    "def get_notebook_path():\n",
    "    '''\n",
    "    mlflow に notebook をそのまま保存する際に notebook のパスを取得するのに使います。\n",
    "    単純にファイル名が取れないためかなりややこしいことになっています。\n",
    "    使用するには jupyterlab が token ありで起動していないといけません。\n",
    "    '''\n",
    "    connection_file = os.path.basename(ipykernel.get_connection_file())\n",
    "    kernel_id = connection_file.split('-', 1)[1].split('.')[0]\n",
    "\n",
    "    for server in notebookapp.list_running_servers():\n",
    "        try:\n",
    "            if server['token'] == '' and not server['password']:  # No token and no password, ahem...\n",
    "                req = urllib.request.urlopen(server['url'] + 'api/sessions')\n",
    "            elif server['token'] != '':\n",
    "                req = urllib.request.urlopen(server['url'] + 'api/sessions?token=' + server['token'])\n",
    "            else:\n",
    "                continue\n",
    "            sessions = json.load(req)\n",
    "            for sess in sessions:\n",
    "                if sess['kernel']['id'] == kernel_id:\n",
    "                    return os.path.join(server['notebook_dir'], sess['notebook']['path'])\n",
    "        except Exception:\n",
    "            raise\n",
    "    raise EnvironmentError('JupyterLab の token を指定するか、パスワードを無効化してください。')"
   ]
  },
  {
   "cell_type": "markdown",
   "metadata": {},
   "source": [
    "## config"
   ]
  },
  {
   "cell_type": "code",
   "execution_count": 10,
   "metadata": {},
   "outputs": [],
   "source": [
    "configs = {\n",
    "    'loss':{\n",
    "        'name': 'MSELoss',\n",
    "        'params':{}\n",
    "    },\n",
    "    'optimizer':{\n",
    "        'name': 'Adam',\n",
    "        'params':{\n",
    "            'lr': 0.001,\n",
    "        }\n",
    "    },\n",
    "\n",
    "    'scheduler':{\n",
    "        'name': 'ReduceLROnPlateau',\n",
    "        'params':{\n",
    "            'factor': 0.1,\n",
    "            'patience': 3,\n",
    "        }\n",
    "    },\n",
    "\n",
    "    'loader':{\n",
    "        'train':{\n",
    "            'batch_size': 16,\n",
    "            'shuffle': True,\n",
    "            'num_workers': 1,\n",
    "        },\n",
    "        'valid':{\n",
    "            'batch_size': 4,\n",
    "            'shuffle': False,\n",
    "            'num_workers': 1,\n",
    "        },\n",
    "        'test':{\n",
    "            'batch_size': 8,\n",
    "            'shuffle': False,\n",
    "            'num_workers': 1,\n",
    "        }\n",
    "    }\n",
    "}"
   ]
  },
  {
   "cell_type": "code",
   "execution_count": 11,
   "metadata": {},
   "outputs": [],
   "source": [
    "# config\n",
    "config = configs\n",
    "\n",
    "# globals variable\n",
    "SEED = 777\n",
    "MAX_EPOCHS = 50\n",
    "N_SPLITS = 5\n",
    "DEBUG = False\n",
    "# EXP_MESSAGE = config['globals']['exp_message']\n",
    "\n",
    "EXP_NAME = 20\n",
    "IS_SAVE = True\n",
    "\n",
    "set_seed(SEED)"
   ]
  },
  {
   "cell_type": "code",
   "execution_count": 12,
   "metadata": {},
   "outputs": [
    {
     "name": "stdout",
     "output_type": "stream",
     "text": [
      "/bin/sh: 1: wandb: not found\n"
     ]
    }
   ],
   "source": [
    "!wandb login e8aaf98060af90035c3c28a83b34452780aeec20"
   ]
  },
  {
   "cell_type": "markdown",
   "metadata": {},
   "source": [
    "## read data"
   ]
  },
  {
   "cell_type": "code",
   "execution_count": 13,
   "metadata": {},
   "outputs": [],
   "source": [
    "train_df = pd.read_csv(WIFI_DIR / 'train_all.csv')\n",
    "test_df = pd.read_csv(WIFI_DIR / 'test_all.csv')\n",
    "\n",
    "simple_accurate_99 = pd.read_csv('../01/submission.csv')\n",
    "test_df['floor'] = simple_accurate_99['floor'].values\n",
    "emb_df = pd.read_csv('../18/meta_emb_df.csv')"
   ]
  },
  {
   "cell_type": "code",
   "execution_count": 14,
   "metadata": {},
   "outputs": [],
   "source": [
    "sub = pd.read_csv(DATA_DIR/'indoor-location-navigation/sample_submission.csv', index_col=0)"
   ]
  },
  {
   "cell_type": "markdown",
   "metadata": {},
   "source": [
    "BSSIDとRSSIは100ずつ存在しているけど全てが必要なわけではないみたい  \n",
    "ここでは20だけ取り出している。"
   ]
  },
  {
   "cell_type": "code",
   "execution_count": 15,
   "metadata": {},
   "outputs": [
    {
     "data": {
      "text/html": [
       "<div>\n",
       "<style scoped>\n",
       "    .dataframe tbody tr th:only-of-type {\n",
       "        vertical-align: middle;\n",
       "    }\n",
       "\n",
       "    .dataframe tbody tr th {\n",
       "        vertical-align: top;\n",
       "    }\n",
       "\n",
       "    .dataframe thead th {\n",
       "        text-align: right;\n",
       "    }\n",
       "</style>\n",
       "<table border=\"1\" class=\"dataframe\">\n",
       "  <thead>\n",
       "    <tr style=\"text-align: right;\">\n",
       "      <th></th>\n",
       "      <th>bssid_0</th>\n",
       "      <th>bssid_1</th>\n",
       "      <th>bssid_2</th>\n",
       "      <th>bssid_3</th>\n",
       "      <th>bssid_4</th>\n",
       "      <th>bssid_5</th>\n",
       "      <th>bssid_6</th>\n",
       "      <th>bssid_7</th>\n",
       "      <th>bssid_8</th>\n",
       "      <th>bssid_9</th>\n",
       "      <th>...</th>\n",
       "      <th>rssi_95</th>\n",
       "      <th>rssi_96</th>\n",
       "      <th>rssi_97</th>\n",
       "      <th>rssi_98</th>\n",
       "      <th>rssi_99</th>\n",
       "      <th>x</th>\n",
       "      <th>y</th>\n",
       "      <th>floor</th>\n",
       "      <th>path</th>\n",
       "      <th>site_id</th>\n",
       "    </tr>\n",
       "  </thead>\n",
       "  <tbody>\n",
       "    <tr>\n",
       "      <th>0</th>\n",
       "      <td>db01605eac3f33540038bd9722aba25774871d43</td>\n",
       "      <td>965f254a2e8d05bbb40bd2413ff61de3ad6c4151</td>\n",
       "      <td>0b64e537cc3d1818ec46f94f8dc14043a98d0089</td>\n",
       "      <td>922e582c66016a2b9f64e38f89ebe82f66eefb24</td>\n",
       "      <td>dc4c46287575c45f3e32c022d868d047b485ed4c</td>\n",
       "      <td>93e20595eeef175d3aa3c3381f6a22ee792d48d9</td>\n",
       "      <td>b2b0ddbb5a2aadfc6ab2f388db584b6c280d3f82</td>\n",
       "      <td>8c936564ea4b4300576f53136505527eb5972c07</td>\n",
       "      <td>61c3aaf1a526f808c05952ea3f098e37354a674a</td>\n",
       "      <td>3f564032c7eebc173b38aee35225e323d4389faf</td>\n",
       "      <td>...</td>\n",
       "      <td>-79</td>\n",
       "      <td>-79</td>\n",
       "      <td>-79</td>\n",
       "      <td>-79</td>\n",
       "      <td>-79</td>\n",
       "      <td>107.85044</td>\n",
       "      <td>161.892620</td>\n",
       "      <td>-1.0</td>\n",
       "      <td>5e1580adf4c3420006d520d4</td>\n",
       "      <td>5a0546857ecc773753327266</td>\n",
       "    </tr>\n",
       "    <tr>\n",
       "      <th>1</th>\n",
       "      <td>965f254a2e8d05bbb40bd2413ff61de3ad6c4151</td>\n",
       "      <td>db01605eac3f33540038bd9722aba25774871d43</td>\n",
       "      <td>1f37bbb3f42125f665b83584d0376b21ec3eb43c</td>\n",
       "      <td>922e582c66016a2b9f64e38f89ebe82f66eefb24</td>\n",
       "      <td>dc4c46287575c45f3e32c022d868d047b485ed4c</td>\n",
       "      <td>93e20595eeef175d3aa3c3381f6a22ee792d48d9</td>\n",
       "      <td>5c10b343d767a30515e6015de25751a2883328f8</td>\n",
       "      <td>3f564032c7eebc173b38aee35225e323d4389faf</td>\n",
       "      <td>46c934893439700099d03a6892ea934ecb2729d6</td>\n",
       "      <td>16374260af7d03b10f167358a4f6a70620e131f4</td>\n",
       "      <td>...</td>\n",
       "      <td>-79</td>\n",
       "      <td>-79</td>\n",
       "      <td>-79</td>\n",
       "      <td>-80</td>\n",
       "      <td>-80</td>\n",
       "      <td>107.85044</td>\n",
       "      <td>161.892620</td>\n",
       "      <td>-1.0</td>\n",
       "      <td>5e1580adf4c3420006d520d4</td>\n",
       "      <td>5a0546857ecc773753327266</td>\n",
       "    </tr>\n",
       "    <tr>\n",
       "      <th>2</th>\n",
       "      <td>965f254a2e8d05bbb40bd2413ff61de3ad6c4151</td>\n",
       "      <td>db01605eac3f33540038bd9722aba25774871d43</td>\n",
       "      <td>dc4c46287575c45f3e32c022d868d047b485ed4c</td>\n",
       "      <td>922e582c66016a2b9f64e38f89ebe82f66eefb24</td>\n",
       "      <td>93e20595eeef175d3aa3c3381f6a22ee792d48d9</td>\n",
       "      <td>61c3aaf1a526f808c05952ea3f098e37354a674a</td>\n",
       "      <td>ce28608c3d091ac0d25d84459ebad253edf83e1f</td>\n",
       "      <td>1bb0e992cff45a54d29e97f47a7d1281435a5e3b</td>\n",
       "      <td>1f37bbb3f42125f665b83584d0376b21ec3eb43c</td>\n",
       "      <td>ca86c5b074c5768e481e069b751bf22c6d95bd48</td>\n",
       "      <td>...</td>\n",
       "      <td>-77</td>\n",
       "      <td>-78</td>\n",
       "      <td>-78</td>\n",
       "      <td>-78</td>\n",
       "      <td>-78</td>\n",
       "      <td>98.33065</td>\n",
       "      <td>163.343340</td>\n",
       "      <td>-1.0</td>\n",
       "      <td>5e1580adf4c3420006d520d4</td>\n",
       "      <td>5a0546857ecc773753327266</td>\n",
       "    </tr>\n",
       "    <tr>\n",
       "      <th>3</th>\n",
       "      <td>61c3aaf1a526f808c05952ea3f098e37354a674a</td>\n",
       "      <td>922e582c66016a2b9f64e38f89ebe82f66eefb24</td>\n",
       "      <td>93e20595eeef175d3aa3c3381f6a22ee792d48d9</td>\n",
       "      <td>db01605eac3f33540038bd9722aba25774871d43</td>\n",
       "      <td>965f254a2e8d05bbb40bd2413ff61de3ad6c4151</td>\n",
       "      <td>0f5daed11a61e0d6941a1a42ff428ca216d61003</td>\n",
       "      <td>ce28608c3d091ac0d25d84459ebad253edf83e1f</td>\n",
       "      <td>40d99a3e5214aa704f637b7d72631e69550ee256</td>\n",
       "      <td>2aa08d092d0199c06d22684642ef1c79d9722adb</td>\n",
       "      <td>149c09a117b9851201c75f97b4a7cc94b75fdcb4</td>\n",
       "      <td>...</td>\n",
       "      <td>-75</td>\n",
       "      <td>-76</td>\n",
       "      <td>-76</td>\n",
       "      <td>-77</td>\n",
       "      <td>-77</td>\n",
       "      <td>98.33065</td>\n",
       "      <td>163.343340</td>\n",
       "      <td>-1.0</td>\n",
       "      <td>5e1580adf4c3420006d520d4</td>\n",
       "      <td>5a0546857ecc773753327266</td>\n",
       "    </tr>\n",
       "    <tr>\n",
       "      <th>4</th>\n",
       "      <td>965f254a2e8d05bbb40bd2413ff61de3ad6c4151</td>\n",
       "      <td>93e20595eeef175d3aa3c3381f6a22ee792d48d9</td>\n",
       "      <td>61c3aaf1a526f808c05952ea3f098e37354a674a</td>\n",
       "      <td>51782c2fabefa97e99dca895fd36f1a47e214610</td>\n",
       "      <td>db01605eac3f33540038bd9722aba25774871d43</td>\n",
       "      <td>0f5daed11a61e0d6941a1a42ff428ca216d61003</td>\n",
       "      <td>ce28608c3d091ac0d25d84459ebad253edf83e1f</td>\n",
       "      <td>4c83a7a1e51bfa8a5fa20e854ab3feec057c52c9</td>\n",
       "      <td>599fa96d549ed870671d6bc1927aaa8bbaacca12</td>\n",
       "      <td>dc9fd0f591e9bfc22748106f31d72a23c1d294fd</td>\n",
       "      <td>...</td>\n",
       "      <td>-75</td>\n",
       "      <td>-76</td>\n",
       "      <td>-76</td>\n",
       "      <td>-77</td>\n",
       "      <td>-77</td>\n",
       "      <td>98.33065</td>\n",
       "      <td>163.343340</td>\n",
       "      <td>-1.0</td>\n",
       "      <td>5e1580adf4c3420006d520d4</td>\n",
       "      <td>5a0546857ecc773753327266</td>\n",
       "    </tr>\n",
       "    <tr>\n",
       "      <th>...</th>\n",
       "      <td>...</td>\n",
       "      <td>...</td>\n",
       "      <td>...</td>\n",
       "      <td>...</td>\n",
       "      <td>...</td>\n",
       "      <td>...</td>\n",
       "      <td>...</td>\n",
       "      <td>...</td>\n",
       "      <td>...</td>\n",
       "      <td>...</td>\n",
       "      <td>...</td>\n",
       "      <td>...</td>\n",
       "      <td>...</td>\n",
       "      <td>...</td>\n",
       "      <td>...</td>\n",
       "      <td>...</td>\n",
       "      <td>...</td>\n",
       "      <td>...</td>\n",
       "      <td>...</td>\n",
       "      <td>...</td>\n",
       "      <td>...</td>\n",
       "    </tr>\n",
       "    <tr>\n",
       "      <th>258120</th>\n",
       "      <td>930dfcc059cd5c29f94b37435b31b14adf6141c1</td>\n",
       "      <td>3c79d9efcdb4c5803ab1b97982c2f0b87519c477</td>\n",
       "      <td>4472ce0cc1af0641cdffd6cdc850e9dd2ec4ab91</td>\n",
       "      <td>5953d0b2247e16447d327eb2a8a9c1abe24ff425</td>\n",
       "      <td>d2aa98dcefa4d46c4a946d26c5311bddddad9d6c</td>\n",
       "      <td>5f583dcccc43b5b7ac25d270e29c92d878fb2be0</td>\n",
       "      <td>040bfca8631c5506cba1c22cf7750636ba26ea54</td>\n",
       "      <td>7fcc50af42706af2d8ecfe55b7ccbb731aae6e27</td>\n",
       "      <td>b719d7de6ffe1b1b7409d2eb5ac3268e36cf2675</td>\n",
       "      <td>89395d0ee75307b3beb30aef2f19fc680095d514</td>\n",
       "      <td>...</td>\n",
       "      <td>-84</td>\n",
       "      <td>-85</td>\n",
       "      <td>-85</td>\n",
       "      <td>-85</td>\n",
       "      <td>-85</td>\n",
       "      <td>122.68994</td>\n",
       "      <td>124.028015</td>\n",
       "      <td>6.0</td>\n",
       "      <td>5dcd5c88a4dbe7000630b084</td>\n",
       "      <td>5dc8cea7659e181adb076a3f</td>\n",
       "    </tr>\n",
       "    <tr>\n",
       "      <th>258121</th>\n",
       "      <td>930dfcc059cd5c29f94b37435b31b14adf6141c1</td>\n",
       "      <td>4472ce0cc1af0641cdffd6cdc850e9dd2ec4ab91</td>\n",
       "      <td>5953d0b2247e16447d327eb2a8a9c1abe24ff425</td>\n",
       "      <td>040bfca8631c5506cba1c22cf7750636ba26ea54</td>\n",
       "      <td>d2aa98dcefa4d46c4a946d26c5311bddddad9d6c</td>\n",
       "      <td>5f583dcccc43b5b7ac25d270e29c92d878fb2be0</td>\n",
       "      <td>7e5f2b71ff184401c1c31ffeab2861d86f1f9c25</td>\n",
       "      <td>8bed40c61bc42247c3b142f214f78dcc5850553f</td>\n",
       "      <td>f9100b425367a18de9f1cec34a34ea60cc7bf009</td>\n",
       "      <td>3c79d9efcdb4c5803ab1b97982c2f0b87519c477</td>\n",
       "      <td>...</td>\n",
       "      <td>-85</td>\n",
       "      <td>-85</td>\n",
       "      <td>-85</td>\n",
       "      <td>-85</td>\n",
       "      <td>-85</td>\n",
       "      <td>127.17589</td>\n",
       "      <td>123.677780</td>\n",
       "      <td>6.0</td>\n",
       "      <td>5dcd5c88a4dbe7000630b084</td>\n",
       "      <td>5dc8cea7659e181adb076a3f</td>\n",
       "    </tr>\n",
       "    <tr>\n",
       "      <th>258122</th>\n",
       "      <td>040bfca8631c5506cba1c22cf7750636ba26ea54</td>\n",
       "      <td>930dfcc059cd5c29f94b37435b31b14adf6141c1</td>\n",
       "      <td>3c79d9efcdb4c5803ab1b97982c2f0b87519c477</td>\n",
       "      <td>4472ce0cc1af0641cdffd6cdc850e9dd2ec4ab91</td>\n",
       "      <td>5953d0b2247e16447d327eb2a8a9c1abe24ff425</td>\n",
       "      <td>5f583dcccc43b5b7ac25d270e29c92d878fb2be0</td>\n",
       "      <td>d2aa98dcefa4d46c4a946d26c5311bddddad9d6c</td>\n",
       "      <td>7e5f2b71ff184401c1c31ffeab2861d86f1f9c25</td>\n",
       "      <td>ca69ae425b53d4c2fae3d97ec4ec61897a4a6b73</td>\n",
       "      <td>f9100b425367a18de9f1cec34a34ea60cc7bf009</td>\n",
       "      <td>...</td>\n",
       "      <td>-84</td>\n",
       "      <td>-84</td>\n",
       "      <td>-85</td>\n",
       "      <td>-85</td>\n",
       "      <td>-85</td>\n",
       "      <td>127.17589</td>\n",
       "      <td>123.677780</td>\n",
       "      <td>6.0</td>\n",
       "      <td>5dcd5c88a4dbe7000630b084</td>\n",
       "      <td>5dc8cea7659e181adb076a3f</td>\n",
       "    </tr>\n",
       "    <tr>\n",
       "      <th>258123</th>\n",
       "      <td>3c79d9efcdb4c5803ab1b97982c2f0b87519c477</td>\n",
       "      <td>4472ce0cc1af0641cdffd6cdc850e9dd2ec4ab91</td>\n",
       "      <td>930dfcc059cd5c29f94b37435b31b14adf6141c1</td>\n",
       "      <td>5953d0b2247e16447d327eb2a8a9c1abe24ff425</td>\n",
       "      <td>d2aa98dcefa4d46c4a946d26c5311bddddad9d6c</td>\n",
       "      <td>040bfca8631c5506cba1c22cf7750636ba26ea54</td>\n",
       "      <td>7e5f2b71ff184401c1c31ffeab2861d86f1f9c25</td>\n",
       "      <td>ca69ae425b53d4c2fae3d97ec4ec61897a4a6b73</td>\n",
       "      <td>f5c69326982eb7d74f899b933c4cb5a3d1592af2</td>\n",
       "      <td>5f583dcccc43b5b7ac25d270e29c92d878fb2be0</td>\n",
       "      <td>...</td>\n",
       "      <td>-85</td>\n",
       "      <td>-85</td>\n",
       "      <td>-85</td>\n",
       "      <td>-85</td>\n",
       "      <td>-85</td>\n",
       "      <td>127.17589</td>\n",
       "      <td>123.677780</td>\n",
       "      <td>6.0</td>\n",
       "      <td>5dcd5c88a4dbe7000630b084</td>\n",
       "      <td>5dc8cea7659e181adb076a3f</td>\n",
       "    </tr>\n",
       "    <tr>\n",
       "      <th>258124</th>\n",
       "      <td>4472ce0cc1af0641cdffd6cdc850e9dd2ec4ab91</td>\n",
       "      <td>7e5f2b71ff184401c1c31ffeab2861d86f1f9c25</td>\n",
       "      <td>040bfca8631c5506cba1c22cf7750636ba26ea54</td>\n",
       "      <td>f5c69326982eb7d74f899b933c4cb5a3d1592af2</td>\n",
       "      <td>ca69ae425b53d4c2fae3d97ec4ec61897a4a6b73</td>\n",
       "      <td>5f583dcccc43b5b7ac25d270e29c92d878fb2be0</td>\n",
       "      <td>930dfcc059cd5c29f94b37435b31b14adf6141c1</td>\n",
       "      <td>f9100b425367a18de9f1cec34a34ea60cc7bf009</td>\n",
       "      <td>d2aa98dcefa4d46c4a946d26c5311bddddad9d6c</td>\n",
       "      <td>21310f6a93112e4cb928817e3af33ebb1bb62875</td>\n",
       "      <td>...</td>\n",
       "      <td>-85</td>\n",
       "      <td>-85</td>\n",
       "      <td>-85</td>\n",
       "      <td>-85</td>\n",
       "      <td>-85</td>\n",
       "      <td>130.08112</td>\n",
       "      <td>122.490820</td>\n",
       "      <td>6.0</td>\n",
       "      <td>5dcd5c88a4dbe7000630b084</td>\n",
       "      <td>5dc8cea7659e181adb076a3f</td>\n",
       "    </tr>\n",
       "  </tbody>\n",
       "</table>\n",
       "<p>258125 rows × 205 columns</p>\n",
       "</div>"
      ],
      "text/plain": [
       "                                         bssid_0  \\\n",
       "0       db01605eac3f33540038bd9722aba25774871d43   \n",
       "1       965f254a2e8d05bbb40bd2413ff61de3ad6c4151   \n",
       "2       965f254a2e8d05bbb40bd2413ff61de3ad6c4151   \n",
       "3       61c3aaf1a526f808c05952ea3f098e37354a674a   \n",
       "4       965f254a2e8d05bbb40bd2413ff61de3ad6c4151   \n",
       "...                                          ...   \n",
       "258120  930dfcc059cd5c29f94b37435b31b14adf6141c1   \n",
       "258121  930dfcc059cd5c29f94b37435b31b14adf6141c1   \n",
       "258122  040bfca8631c5506cba1c22cf7750636ba26ea54   \n",
       "258123  3c79d9efcdb4c5803ab1b97982c2f0b87519c477   \n",
       "258124  4472ce0cc1af0641cdffd6cdc850e9dd2ec4ab91   \n",
       "\n",
       "                                         bssid_1  \\\n",
       "0       965f254a2e8d05bbb40bd2413ff61de3ad6c4151   \n",
       "1       db01605eac3f33540038bd9722aba25774871d43   \n",
       "2       db01605eac3f33540038bd9722aba25774871d43   \n",
       "3       922e582c66016a2b9f64e38f89ebe82f66eefb24   \n",
       "4       93e20595eeef175d3aa3c3381f6a22ee792d48d9   \n",
       "...                                          ...   \n",
       "258120  3c79d9efcdb4c5803ab1b97982c2f0b87519c477   \n",
       "258121  4472ce0cc1af0641cdffd6cdc850e9dd2ec4ab91   \n",
       "258122  930dfcc059cd5c29f94b37435b31b14adf6141c1   \n",
       "258123  4472ce0cc1af0641cdffd6cdc850e9dd2ec4ab91   \n",
       "258124  7e5f2b71ff184401c1c31ffeab2861d86f1f9c25   \n",
       "\n",
       "                                         bssid_2  \\\n",
       "0       0b64e537cc3d1818ec46f94f8dc14043a98d0089   \n",
       "1       1f37bbb3f42125f665b83584d0376b21ec3eb43c   \n",
       "2       dc4c46287575c45f3e32c022d868d047b485ed4c   \n",
       "3       93e20595eeef175d3aa3c3381f6a22ee792d48d9   \n",
       "4       61c3aaf1a526f808c05952ea3f098e37354a674a   \n",
       "...                                          ...   \n",
       "258120  4472ce0cc1af0641cdffd6cdc850e9dd2ec4ab91   \n",
       "258121  5953d0b2247e16447d327eb2a8a9c1abe24ff425   \n",
       "258122  3c79d9efcdb4c5803ab1b97982c2f0b87519c477   \n",
       "258123  930dfcc059cd5c29f94b37435b31b14adf6141c1   \n",
       "258124  040bfca8631c5506cba1c22cf7750636ba26ea54   \n",
       "\n",
       "                                         bssid_3  \\\n",
       "0       922e582c66016a2b9f64e38f89ebe82f66eefb24   \n",
       "1       922e582c66016a2b9f64e38f89ebe82f66eefb24   \n",
       "2       922e582c66016a2b9f64e38f89ebe82f66eefb24   \n",
       "3       db01605eac3f33540038bd9722aba25774871d43   \n",
       "4       51782c2fabefa97e99dca895fd36f1a47e214610   \n",
       "...                                          ...   \n",
       "258120  5953d0b2247e16447d327eb2a8a9c1abe24ff425   \n",
       "258121  040bfca8631c5506cba1c22cf7750636ba26ea54   \n",
       "258122  4472ce0cc1af0641cdffd6cdc850e9dd2ec4ab91   \n",
       "258123  5953d0b2247e16447d327eb2a8a9c1abe24ff425   \n",
       "258124  f5c69326982eb7d74f899b933c4cb5a3d1592af2   \n",
       "\n",
       "                                         bssid_4  \\\n",
       "0       dc4c46287575c45f3e32c022d868d047b485ed4c   \n",
       "1       dc4c46287575c45f3e32c022d868d047b485ed4c   \n",
       "2       93e20595eeef175d3aa3c3381f6a22ee792d48d9   \n",
       "3       965f254a2e8d05bbb40bd2413ff61de3ad6c4151   \n",
       "4       db01605eac3f33540038bd9722aba25774871d43   \n",
       "...                                          ...   \n",
       "258120  d2aa98dcefa4d46c4a946d26c5311bddddad9d6c   \n",
       "258121  d2aa98dcefa4d46c4a946d26c5311bddddad9d6c   \n",
       "258122  5953d0b2247e16447d327eb2a8a9c1abe24ff425   \n",
       "258123  d2aa98dcefa4d46c4a946d26c5311bddddad9d6c   \n",
       "258124  ca69ae425b53d4c2fae3d97ec4ec61897a4a6b73   \n",
       "\n",
       "                                         bssid_5  \\\n",
       "0       93e20595eeef175d3aa3c3381f6a22ee792d48d9   \n",
       "1       93e20595eeef175d3aa3c3381f6a22ee792d48d9   \n",
       "2       61c3aaf1a526f808c05952ea3f098e37354a674a   \n",
       "3       0f5daed11a61e0d6941a1a42ff428ca216d61003   \n",
       "4       0f5daed11a61e0d6941a1a42ff428ca216d61003   \n",
       "...                                          ...   \n",
       "258120  5f583dcccc43b5b7ac25d270e29c92d878fb2be0   \n",
       "258121  5f583dcccc43b5b7ac25d270e29c92d878fb2be0   \n",
       "258122  5f583dcccc43b5b7ac25d270e29c92d878fb2be0   \n",
       "258123  040bfca8631c5506cba1c22cf7750636ba26ea54   \n",
       "258124  5f583dcccc43b5b7ac25d270e29c92d878fb2be0   \n",
       "\n",
       "                                         bssid_6  \\\n",
       "0       b2b0ddbb5a2aadfc6ab2f388db584b6c280d3f82   \n",
       "1       5c10b343d767a30515e6015de25751a2883328f8   \n",
       "2       ce28608c3d091ac0d25d84459ebad253edf83e1f   \n",
       "3       ce28608c3d091ac0d25d84459ebad253edf83e1f   \n",
       "4       ce28608c3d091ac0d25d84459ebad253edf83e1f   \n",
       "...                                          ...   \n",
       "258120  040bfca8631c5506cba1c22cf7750636ba26ea54   \n",
       "258121  7e5f2b71ff184401c1c31ffeab2861d86f1f9c25   \n",
       "258122  d2aa98dcefa4d46c4a946d26c5311bddddad9d6c   \n",
       "258123  7e5f2b71ff184401c1c31ffeab2861d86f1f9c25   \n",
       "258124  930dfcc059cd5c29f94b37435b31b14adf6141c1   \n",
       "\n",
       "                                         bssid_7  \\\n",
       "0       8c936564ea4b4300576f53136505527eb5972c07   \n",
       "1       3f564032c7eebc173b38aee35225e323d4389faf   \n",
       "2       1bb0e992cff45a54d29e97f47a7d1281435a5e3b   \n",
       "3       40d99a3e5214aa704f637b7d72631e69550ee256   \n",
       "4       4c83a7a1e51bfa8a5fa20e854ab3feec057c52c9   \n",
       "...                                          ...   \n",
       "258120  7fcc50af42706af2d8ecfe55b7ccbb731aae6e27   \n",
       "258121  8bed40c61bc42247c3b142f214f78dcc5850553f   \n",
       "258122  7e5f2b71ff184401c1c31ffeab2861d86f1f9c25   \n",
       "258123  ca69ae425b53d4c2fae3d97ec4ec61897a4a6b73   \n",
       "258124  f9100b425367a18de9f1cec34a34ea60cc7bf009   \n",
       "\n",
       "                                         bssid_8  \\\n",
       "0       61c3aaf1a526f808c05952ea3f098e37354a674a   \n",
       "1       46c934893439700099d03a6892ea934ecb2729d6   \n",
       "2       1f37bbb3f42125f665b83584d0376b21ec3eb43c   \n",
       "3       2aa08d092d0199c06d22684642ef1c79d9722adb   \n",
       "4       599fa96d549ed870671d6bc1927aaa8bbaacca12   \n",
       "...                                          ...   \n",
       "258120  b719d7de6ffe1b1b7409d2eb5ac3268e36cf2675   \n",
       "258121  f9100b425367a18de9f1cec34a34ea60cc7bf009   \n",
       "258122  ca69ae425b53d4c2fae3d97ec4ec61897a4a6b73   \n",
       "258123  f5c69326982eb7d74f899b933c4cb5a3d1592af2   \n",
       "258124  d2aa98dcefa4d46c4a946d26c5311bddddad9d6c   \n",
       "\n",
       "                                         bssid_9  ... rssi_95 rssi_96 rssi_97  \\\n",
       "0       3f564032c7eebc173b38aee35225e323d4389faf  ...     -79     -79     -79   \n",
       "1       16374260af7d03b10f167358a4f6a70620e131f4  ...     -79     -79     -79   \n",
       "2       ca86c5b074c5768e481e069b751bf22c6d95bd48  ...     -77     -78     -78   \n",
       "3       149c09a117b9851201c75f97b4a7cc94b75fdcb4  ...     -75     -76     -76   \n",
       "4       dc9fd0f591e9bfc22748106f31d72a23c1d294fd  ...     -75     -76     -76   \n",
       "...                                          ...  ...     ...     ...     ...   \n",
       "258120  89395d0ee75307b3beb30aef2f19fc680095d514  ...     -84     -85     -85   \n",
       "258121  3c79d9efcdb4c5803ab1b97982c2f0b87519c477  ...     -85     -85     -85   \n",
       "258122  f9100b425367a18de9f1cec34a34ea60cc7bf009  ...     -84     -84     -85   \n",
       "258123  5f583dcccc43b5b7ac25d270e29c92d878fb2be0  ...     -85     -85     -85   \n",
       "258124  21310f6a93112e4cb928817e3af33ebb1bb62875  ...     -85     -85     -85   \n",
       "\n",
       "       rssi_98 rssi_99          x           y floor                      path  \\\n",
       "0          -79     -79  107.85044  161.892620  -1.0  5e1580adf4c3420006d520d4   \n",
       "1          -80     -80  107.85044  161.892620  -1.0  5e1580adf4c3420006d520d4   \n",
       "2          -78     -78   98.33065  163.343340  -1.0  5e1580adf4c3420006d520d4   \n",
       "3          -77     -77   98.33065  163.343340  -1.0  5e1580adf4c3420006d520d4   \n",
       "4          -77     -77   98.33065  163.343340  -1.0  5e1580adf4c3420006d520d4   \n",
       "...        ...     ...        ...         ...   ...                       ...   \n",
       "258120     -85     -85  122.68994  124.028015   6.0  5dcd5c88a4dbe7000630b084   \n",
       "258121     -85     -85  127.17589  123.677780   6.0  5dcd5c88a4dbe7000630b084   \n",
       "258122     -85     -85  127.17589  123.677780   6.0  5dcd5c88a4dbe7000630b084   \n",
       "258123     -85     -85  127.17589  123.677780   6.0  5dcd5c88a4dbe7000630b084   \n",
       "258124     -85     -85  130.08112  122.490820   6.0  5dcd5c88a4dbe7000630b084   \n",
       "\n",
       "                         site_id  \n",
       "0       5a0546857ecc773753327266  \n",
       "1       5a0546857ecc773753327266  \n",
       "2       5a0546857ecc773753327266  \n",
       "3       5a0546857ecc773753327266  \n",
       "4       5a0546857ecc773753327266  \n",
       "...                          ...  \n",
       "258120  5dc8cea7659e181adb076a3f  \n",
       "258121  5dc8cea7659e181adb076a3f  \n",
       "258122  5dc8cea7659e181adb076a3f  \n",
       "258123  5dc8cea7659e181adb076a3f  \n",
       "258124  5dc8cea7659e181adb076a3f  \n",
       "\n",
       "[258125 rows x 205 columns]"
      ]
     },
     "execution_count": 15,
     "metadata": {},
     "output_type": "execute_result"
    }
   ],
   "source": [
    "train_df['floor'] = train_df['floor'].astype(np.float32)\n",
    "train_df"
   ]
  },
  {
   "cell_type": "code",
   "execution_count": 16,
   "metadata": {},
   "outputs": [],
   "source": [
    "train_df = pd.merge(train_df, emb_df, how='left', on=['site_id', 'floor']).drop(['site_id.1', 'floor.1'], axis=1)\n",
    "test_df = pd.merge(test_df, emb_df, how='left', on=['site_id', 'floor']).drop(['site_id.1', 'floor.1'], axis=1)"
   ]
  },
  {
   "cell_type": "code",
   "execution_count": 17,
   "metadata": {},
   "outputs": [],
   "source": [
    "# training target features\n",
    "NUM_FEATS = 80\n",
    "BSSID_FEATS = [f'bssid_{i}' for i in range(NUM_FEATS)]\n",
    "RSSI_FEATS  = [f'rssi_{i}' for i in range(NUM_FEATS)]\n",
    "META_FEATS = [f\"meta_embedding_{i}\" for i in range(128)]"
   ]
  },
  {
   "cell_type": "code",
   "execution_count": 18,
   "metadata": {},
   "outputs": [
    {
     "data": {
      "text/html": [
       "<div>\n",
       "<style scoped>\n",
       "    .dataframe tbody tr th:only-of-type {\n",
       "        vertical-align: middle;\n",
       "    }\n",
       "\n",
       "    .dataframe tbody tr th {\n",
       "        vertical-align: top;\n",
       "    }\n",
       "\n",
       "    .dataframe thead th {\n",
       "        text-align: right;\n",
       "    }\n",
       "</style>\n",
       "<table border=\"1\" class=\"dataframe\">\n",
       "  <thead>\n",
       "    <tr style=\"text-align: right;\">\n",
       "      <th></th>\n",
       "      <th>rssi_0</th>\n",
       "      <th>rssi_1</th>\n",
       "      <th>rssi_2</th>\n",
       "      <th>rssi_3</th>\n",
       "      <th>rssi_4</th>\n",
       "      <th>rssi_5</th>\n",
       "      <th>rssi_6</th>\n",
       "      <th>rssi_7</th>\n",
       "      <th>rssi_8</th>\n",
       "      <th>rssi_9</th>\n",
       "    </tr>\n",
       "  </thead>\n",
       "  <tbody>\n",
       "    <tr>\n",
       "      <th>0</th>\n",
       "      <td>-32</td>\n",
       "      <td>-39</td>\n",
       "      <td>-47</td>\n",
       "      <td>-48</td>\n",
       "      <td>-48</td>\n",
       "      <td>-49</td>\n",
       "      <td>-51</td>\n",
       "      <td>-52</td>\n",
       "      <td>-54</td>\n",
       "      <td>-56</td>\n",
       "    </tr>\n",
       "    <tr>\n",
       "      <th>1</th>\n",
       "      <td>-29</td>\n",
       "      <td>-34</td>\n",
       "      <td>-47</td>\n",
       "      <td>-48</td>\n",
       "      <td>-48</td>\n",
       "      <td>-49</td>\n",
       "      <td>-52</td>\n",
       "      <td>-52</td>\n",
       "      <td>-52</td>\n",
       "      <td>-53</td>\n",
       "    </tr>\n",
       "    <tr>\n",
       "      <th>2</th>\n",
       "      <td>-33</td>\n",
       "      <td>-39</td>\n",
       "      <td>-48</td>\n",
       "      <td>-48</td>\n",
       "      <td>-49</td>\n",
       "      <td>-52</td>\n",
       "      <td>-54</td>\n",
       "      <td>-55</td>\n",
       "      <td>-55</td>\n",
       "      <td>-55</td>\n",
       "    </tr>\n",
       "    <tr>\n",
       "      <th>3</th>\n",
       "      <td>-46</td>\n",
       "      <td>-48</td>\n",
       "      <td>-49</td>\n",
       "      <td>-50</td>\n",
       "      <td>-51</td>\n",
       "      <td>-52</td>\n",
       "      <td>-54</td>\n",
       "      <td>-56</td>\n",
       "      <td>-57</td>\n",
       "      <td>-57</td>\n",
       "    </tr>\n",
       "    <tr>\n",
       "      <th>4</th>\n",
       "      <td>-42</td>\n",
       "      <td>-49</td>\n",
       "      <td>-51</td>\n",
       "      <td>-51</td>\n",
       "      <td>-52</td>\n",
       "      <td>-53</td>\n",
       "      <td>-54</td>\n",
       "      <td>-55</td>\n",
       "      <td>-55</td>\n",
       "      <td>-55</td>\n",
       "    </tr>\n",
       "    <tr>\n",
       "      <th>...</th>\n",
       "      <td>...</td>\n",
       "      <td>...</td>\n",
       "      <td>...</td>\n",
       "      <td>...</td>\n",
       "      <td>...</td>\n",
       "      <td>...</td>\n",
       "      <td>...</td>\n",
       "      <td>...</td>\n",
       "      <td>...</td>\n",
       "      <td>...</td>\n",
       "    </tr>\n",
       "    <tr>\n",
       "      <th>258120</th>\n",
       "      <td>-53</td>\n",
       "      <td>-63</td>\n",
       "      <td>-64</td>\n",
       "      <td>-66</td>\n",
       "      <td>-68</td>\n",
       "      <td>-68</td>\n",
       "      <td>-68</td>\n",
       "      <td>-68</td>\n",
       "      <td>-70</td>\n",
       "      <td>-71</td>\n",
       "    </tr>\n",
       "    <tr>\n",
       "      <th>258121</th>\n",
       "      <td>-58</td>\n",
       "      <td>-64</td>\n",
       "      <td>-66</td>\n",
       "      <td>-67</td>\n",
       "      <td>-68</td>\n",
       "      <td>-68</td>\n",
       "      <td>-69</td>\n",
       "      <td>-70</td>\n",
       "      <td>-71</td>\n",
       "      <td>-71</td>\n",
       "    </tr>\n",
       "    <tr>\n",
       "      <th>258122</th>\n",
       "      <td>-57</td>\n",
       "      <td>-58</td>\n",
       "      <td>-60</td>\n",
       "      <td>-64</td>\n",
       "      <td>-66</td>\n",
       "      <td>-67</td>\n",
       "      <td>-68</td>\n",
       "      <td>-69</td>\n",
       "      <td>-71</td>\n",
       "      <td>-73</td>\n",
       "    </tr>\n",
       "    <tr>\n",
       "      <th>258123</th>\n",
       "      <td>-58</td>\n",
       "      <td>-64</td>\n",
       "      <td>-66</td>\n",
       "      <td>-66</td>\n",
       "      <td>-68</td>\n",
       "      <td>-69</td>\n",
       "      <td>-69</td>\n",
       "      <td>-71</td>\n",
       "      <td>-71</td>\n",
       "      <td>-72</td>\n",
       "    </tr>\n",
       "    <tr>\n",
       "      <th>258124</th>\n",
       "      <td>-64</td>\n",
       "      <td>-69</td>\n",
       "      <td>-69</td>\n",
       "      <td>-71</td>\n",
       "      <td>-71</td>\n",
       "      <td>-72</td>\n",
       "      <td>-73</td>\n",
       "      <td>-73</td>\n",
       "      <td>-73</td>\n",
       "      <td>-73</td>\n",
       "    </tr>\n",
       "  </tbody>\n",
       "</table>\n",
       "<p>258125 rows × 10 columns</p>\n",
       "</div>"
      ],
      "text/plain": [
       "        rssi_0  rssi_1  rssi_2  rssi_3  rssi_4  rssi_5  rssi_6  rssi_7  \\\n",
       "0          -32     -39     -47     -48     -48     -49     -51     -52   \n",
       "1          -29     -34     -47     -48     -48     -49     -52     -52   \n",
       "2          -33     -39     -48     -48     -49     -52     -54     -55   \n",
       "3          -46     -48     -49     -50     -51     -52     -54     -56   \n",
       "4          -42     -49     -51     -51     -52     -53     -54     -55   \n",
       "...        ...     ...     ...     ...     ...     ...     ...     ...   \n",
       "258120     -53     -63     -64     -66     -68     -68     -68     -68   \n",
       "258121     -58     -64     -66     -67     -68     -68     -69     -70   \n",
       "258122     -57     -58     -60     -64     -66     -67     -68     -69   \n",
       "258123     -58     -64     -66     -66     -68     -69     -69     -71   \n",
       "258124     -64     -69     -69     -71     -71     -72     -73     -73   \n",
       "\n",
       "        rssi_8  rssi_9  \n",
       "0          -54     -56  \n",
       "1          -52     -53  \n",
       "2          -55     -55  \n",
       "3          -57     -57  \n",
       "4          -55     -55  \n",
       "...        ...     ...  \n",
       "258120     -70     -71  \n",
       "258121     -71     -71  \n",
       "258122     -71     -73  \n",
       "258123     -71     -72  \n",
       "258124     -73     -73  \n",
       "\n",
       "[258125 rows x 10 columns]"
      ]
     },
     "execution_count": 18,
     "metadata": {},
     "output_type": "execute_result"
    }
   ],
   "source": [
    "train_df.iloc[:, 100:110]"
   ]
  },
  {
   "cell_type": "markdown",
   "metadata": {},
   "source": [
    "bssid_NはN個目のBSSIDを示しておりRSSI値が大きい順に番号が振られている。\n",
    "100個しかない\n"
   ]
  },
  {
   "cell_type": "code",
   "execution_count": 19,
   "metadata": {},
   "outputs": [
    {
     "name": "stdout",
     "output_type": "stream",
     "text": [
      "BSSID TYPES(train): 61206\n",
      "BSSID TYPES(test): 33042\n",
      "BSSID TYPES(all): 94248\n"
     ]
    }
   ],
   "source": [
    "# get numbers of bssids to embed them in a layer\n",
    "\n",
    "# train\n",
    "wifi_bssids = []\n",
    "# bssidを列ごとにリストに入れていく\n",
    "for i in range(100):\n",
    "    wifi_bssids.extend(train_df.iloc[:,i].values.tolist())\n",
    "wifi_bssids = list(set(wifi_bssids))\n",
    "\n",
    "train_wifi_bssids_size = len(wifi_bssids)\n",
    "print(f'BSSID TYPES(train): {train_wifi_bssids_size}')\n",
    "\n",
    "# test\n",
    "wifi_bssids_test = []\n",
    "for i in range(100):\n",
    "    wifi_bssids_test.extend(test_df.iloc[:,i].values.tolist())\n",
    "wifi_bssids_test = list(set(wifi_bssids_test))\n",
    "\n",
    "test_wifi_bssids_size = len(wifi_bssids_test)\n",
    "print(f'BSSID TYPES(test): {test_wifi_bssids_size}')\n",
    "\n",
    "\n",
    "wifi_bssids.extend(wifi_bssids_test)\n",
    "wifi_bssids_size = len(wifi_bssids)\n",
    "print(f'BSSID TYPES(all): {wifi_bssids_size}')\n"
   ]
  },
  {
   "cell_type": "markdown",
   "metadata": {},
   "source": [
    "## preprocessing"
   ]
  },
  {
   "cell_type": "code",
   "execution_count": 20,
   "metadata": {},
   "outputs": [
    {
     "name": "stderr",
     "output_type": "stream",
     "text": [
      "/usr/local/lib/python3.6/dist-packages/sklearn/preprocessing/data.py:617: DataConversionWarning: Data with input dtype int64 were all converted to float64 by StandardScaler.\n",
      "  return self.partial_fit(X, y)\n",
      "/usr/local/lib/python3.6/dist-packages/ipykernel_launcher.py:15: DataConversionWarning: Data with input dtype int64 were all converted to float64 by StandardScaler.\n",
      "  from ipykernel import kernelapp as app\n",
      "/usr/local/lib/python3.6/dist-packages/ipykernel_launcher.py:15: DataConversionWarning: Data with input dtype int64 were all converted to float64 by StandardScaler.\n",
      "  from ipykernel import kernelapp as app\n"
     ]
    },
    {
     "data": {
      "text/html": [
       "<div>\n",
       "<style scoped>\n",
       "    .dataframe tbody tr th:only-of-type {\n",
       "        vertical-align: middle;\n",
       "    }\n",
       "\n",
       "    .dataframe tbody tr th {\n",
       "        vertical-align: top;\n",
       "    }\n",
       "\n",
       "    .dataframe thead th {\n",
       "        text-align: right;\n",
       "    }\n",
       "</style>\n",
       "<table border=\"1\" class=\"dataframe\">\n",
       "  <thead>\n",
       "    <tr style=\"text-align: right;\">\n",
       "      <th></th>\n",
       "      <th>bssid_0</th>\n",
       "      <th>bssid_1</th>\n",
       "      <th>bssid_2</th>\n",
       "      <th>bssid_3</th>\n",
       "      <th>bssid_4</th>\n",
       "      <th>bssid_5</th>\n",
       "      <th>bssid_6</th>\n",
       "      <th>bssid_7</th>\n",
       "      <th>bssid_8</th>\n",
       "      <th>bssid_9</th>\n",
       "      <th>...</th>\n",
       "      <th>meta_embedding_119</th>\n",
       "      <th>meta_embedding_120</th>\n",
       "      <th>meta_embedding_121</th>\n",
       "      <th>meta_embedding_122</th>\n",
       "      <th>meta_embedding_123</th>\n",
       "      <th>meta_embedding_124</th>\n",
       "      <th>meta_embedding_125</th>\n",
       "      <th>meta_embedding_126</th>\n",
       "      <th>meta_embedding_127</th>\n",
       "      <th>site_id_str</th>\n",
       "    </tr>\n",
       "  </thead>\n",
       "  <tbody>\n",
       "    <tr>\n",
       "      <th>0</th>\n",
       "      <td>52392</td>\n",
       "      <td>35870</td>\n",
       "      <td>2764</td>\n",
       "      <td>34897</td>\n",
       "      <td>52709</td>\n",
       "      <td>35259</td>\n",
       "      <td>42719</td>\n",
       "      <td>33509</td>\n",
       "      <td>23416</td>\n",
       "      <td>15248</td>\n",
       "      <td>...</td>\n",
       "      <td>0.015162</td>\n",
       "      <td>0.960734</td>\n",
       "      <td>0.248433</td>\n",
       "      <td>-0.006481</td>\n",
       "      <td>-0.001067</td>\n",
       "      <td>-0.120445</td>\n",
       "      <td>8.810782</td>\n",
       "      <td>0.051331</td>\n",
       "      <td>4.612503</td>\n",
       "      <td>5a0546857ecc773753327266</td>\n",
       "    </tr>\n",
       "    <tr>\n",
       "      <th>1</th>\n",
       "      <td>35870</td>\n",
       "      <td>52392</td>\n",
       "      <td>7486</td>\n",
       "      <td>34897</td>\n",
       "      <td>52709</td>\n",
       "      <td>35259</td>\n",
       "      <td>21970</td>\n",
       "      <td>15248</td>\n",
       "      <td>17024</td>\n",
       "      <td>5350</td>\n",
       "      <td>...</td>\n",
       "      <td>0.015162</td>\n",
       "      <td>0.960734</td>\n",
       "      <td>0.248433</td>\n",
       "      <td>-0.006481</td>\n",
       "      <td>-0.001067</td>\n",
       "      <td>-0.120445</td>\n",
       "      <td>8.810782</td>\n",
       "      <td>0.051331</td>\n",
       "      <td>4.612503</td>\n",
       "      <td>5a0546857ecc773753327266</td>\n",
       "    </tr>\n",
       "    <tr>\n",
       "      <th>2</th>\n",
       "      <td>35870</td>\n",
       "      <td>52392</td>\n",
       "      <td>52709</td>\n",
       "      <td>34897</td>\n",
       "      <td>35259</td>\n",
       "      <td>23416</td>\n",
       "      <td>49407</td>\n",
       "      <td>6672</td>\n",
       "      <td>7486</td>\n",
       "      <td>48500</td>\n",
       "      <td>...</td>\n",
       "      <td>0.015162</td>\n",
       "      <td>0.960734</td>\n",
       "      <td>0.248433</td>\n",
       "      <td>-0.006481</td>\n",
       "      <td>-0.001067</td>\n",
       "      <td>-0.120445</td>\n",
       "      <td>8.810782</td>\n",
       "      <td>0.051331</td>\n",
       "      <td>4.612503</td>\n",
       "      <td>5a0546857ecc773753327266</td>\n",
       "    </tr>\n",
       "    <tr>\n",
       "      <th>3</th>\n",
       "      <td>23416</td>\n",
       "      <td>34897</td>\n",
       "      <td>35259</td>\n",
       "      <td>52392</td>\n",
       "      <td>35870</td>\n",
       "      <td>3706</td>\n",
       "      <td>49407</td>\n",
       "      <td>15612</td>\n",
       "      <td>10166</td>\n",
       "      <td>4977</td>\n",
       "      <td>...</td>\n",
       "      <td>0.015162</td>\n",
       "      <td>0.960734</td>\n",
       "      <td>0.248433</td>\n",
       "      <td>-0.006481</td>\n",
       "      <td>-0.001067</td>\n",
       "      <td>-0.120445</td>\n",
       "      <td>8.810782</td>\n",
       "      <td>0.051331</td>\n",
       "      <td>4.612503</td>\n",
       "      <td>5a0546857ecc773753327266</td>\n",
       "    </tr>\n",
       "    <tr>\n",
       "      <th>4</th>\n",
       "      <td>35870</td>\n",
       "      <td>35259</td>\n",
       "      <td>23416</td>\n",
       "      <td>19472</td>\n",
       "      <td>52392</td>\n",
       "      <td>3706</td>\n",
       "      <td>49407</td>\n",
       "      <td>18305</td>\n",
       "      <td>21409</td>\n",
       "      <td>52794</td>\n",
       "      <td>...</td>\n",
       "      <td>0.015162</td>\n",
       "      <td>0.960734</td>\n",
       "      <td>0.248433</td>\n",
       "      <td>-0.006481</td>\n",
       "      <td>-0.001067</td>\n",
       "      <td>-0.120445</td>\n",
       "      <td>8.810782</td>\n",
       "      <td>0.051331</td>\n",
       "      <td>4.612503</td>\n",
       "      <td>5a0546857ecc773753327266</td>\n",
       "    </tr>\n",
       "    <tr>\n",
       "      <th>...</th>\n",
       "      <td>...</td>\n",
       "      <td>...</td>\n",
       "      <td>...</td>\n",
       "      <td>...</td>\n",
       "      <td>...</td>\n",
       "      <td>...</td>\n",
       "      <td>...</td>\n",
       "      <td>...</td>\n",
       "      <td>...</td>\n",
       "      <td>...</td>\n",
       "      <td>...</td>\n",
       "      <td>...</td>\n",
       "      <td>...</td>\n",
       "      <td>...</td>\n",
       "      <td>...</td>\n",
       "      <td>...</td>\n",
       "      <td>...</td>\n",
       "      <td>...</td>\n",
       "      <td>...</td>\n",
       "      <td>...</td>\n",
       "      <td>...</td>\n",
       "    </tr>\n",
       "    <tr>\n",
       "      <th>258120</th>\n",
       "      <td>35065</td>\n",
       "      <td>14545</td>\n",
       "      <td>16494</td>\n",
       "      <td>21326</td>\n",
       "      <td>50465</td>\n",
       "      <td>22830</td>\n",
       "      <td>943</td>\n",
       "      <td>30429</td>\n",
       "      <td>43802</td>\n",
       "      <td>32684</td>\n",
       "      <td>...</td>\n",
       "      <td>-0.058346</td>\n",
       "      <td>-0.257570</td>\n",
       "      <td>-0.132740</td>\n",
       "      <td>-0.005457</td>\n",
       "      <td>-0.060161</td>\n",
       "      <td>-0.034361</td>\n",
       "      <td>-2.728056</td>\n",
       "      <td>-0.029009</td>\n",
       "      <td>-1.428691</td>\n",
       "      <td>5dc8cea7659e181adb076a3f</td>\n",
       "    </tr>\n",
       "    <tr>\n",
       "      <th>258121</th>\n",
       "      <td>35065</td>\n",
       "      <td>16494</td>\n",
       "      <td>21326</td>\n",
       "      <td>943</td>\n",
       "      <td>50465</td>\n",
       "      <td>22830</td>\n",
       "      <td>30059</td>\n",
       "      <td>33363</td>\n",
       "      <td>59581</td>\n",
       "      <td>14545</td>\n",
       "      <td>...</td>\n",
       "      <td>-0.058346</td>\n",
       "      <td>-0.257570</td>\n",
       "      <td>-0.132740</td>\n",
       "      <td>-0.005457</td>\n",
       "      <td>-0.060161</td>\n",
       "      <td>-0.034361</td>\n",
       "      <td>-2.728056</td>\n",
       "      <td>-0.029009</td>\n",
       "      <td>-1.428691</td>\n",
       "      <td>5dc8cea7659e181adb076a3f</td>\n",
       "    </tr>\n",
       "    <tr>\n",
       "      <th>258122</th>\n",
       "      <td>943</td>\n",
       "      <td>35065</td>\n",
       "      <td>14545</td>\n",
       "      <td>16494</td>\n",
       "      <td>21326</td>\n",
       "      <td>22830</td>\n",
       "      <td>50465</td>\n",
       "      <td>30059</td>\n",
       "      <td>48476</td>\n",
       "      <td>59581</td>\n",
       "      <td>...</td>\n",
       "      <td>-0.058346</td>\n",
       "      <td>-0.257570</td>\n",
       "      <td>-0.132740</td>\n",
       "      <td>-0.005457</td>\n",
       "      <td>-0.060161</td>\n",
       "      <td>-0.034361</td>\n",
       "      <td>-2.728056</td>\n",
       "      <td>-0.029009</td>\n",
       "      <td>-1.428691</td>\n",
       "      <td>5dc8cea7659e181adb076a3f</td>\n",
       "    </tr>\n",
       "    <tr>\n",
       "      <th>258123</th>\n",
       "      <td>14545</td>\n",
       "      <td>16494</td>\n",
       "      <td>35065</td>\n",
       "      <td>21326</td>\n",
       "      <td>50465</td>\n",
       "      <td>943</td>\n",
       "      <td>30059</td>\n",
       "      <td>48476</td>\n",
       "      <td>58803</td>\n",
       "      <td>22830</td>\n",
       "      <td>...</td>\n",
       "      <td>-0.058346</td>\n",
       "      <td>-0.257570</td>\n",
       "      <td>-0.132740</td>\n",
       "      <td>-0.005457</td>\n",
       "      <td>-0.060161</td>\n",
       "      <td>-0.034361</td>\n",
       "      <td>-2.728056</td>\n",
       "      <td>-0.029009</td>\n",
       "      <td>-1.428691</td>\n",
       "      <td>5dc8cea7659e181adb076a3f</td>\n",
       "    </tr>\n",
       "    <tr>\n",
       "      <th>258124</th>\n",
       "      <td>16494</td>\n",
       "      <td>30059</td>\n",
       "      <td>943</td>\n",
       "      <td>58803</td>\n",
       "      <td>48476</td>\n",
       "      <td>22830</td>\n",
       "      <td>35065</td>\n",
       "      <td>59581</td>\n",
       "      <td>50465</td>\n",
       "      <td>7967</td>\n",
       "      <td>...</td>\n",
       "      <td>-0.058346</td>\n",
       "      <td>-0.257570</td>\n",
       "      <td>-0.132740</td>\n",
       "      <td>-0.005457</td>\n",
       "      <td>-0.060161</td>\n",
       "      <td>-0.034361</td>\n",
       "      <td>-2.728056</td>\n",
       "      <td>-0.029009</td>\n",
       "      <td>-1.428691</td>\n",
       "      <td>5dc8cea7659e181adb076a3f</td>\n",
       "    </tr>\n",
       "  </tbody>\n",
       "</table>\n",
       "<p>258125 rows × 334 columns</p>\n",
       "</div>"
      ],
      "text/plain": [
       "        bssid_0  bssid_1  bssid_2  bssid_3  bssid_4  bssid_5  bssid_6  \\\n",
       "0         52392    35870     2764    34897    52709    35259    42719   \n",
       "1         35870    52392     7486    34897    52709    35259    21970   \n",
       "2         35870    52392    52709    34897    35259    23416    49407   \n",
       "3         23416    34897    35259    52392    35870     3706    49407   \n",
       "4         35870    35259    23416    19472    52392     3706    49407   \n",
       "...         ...      ...      ...      ...      ...      ...      ...   \n",
       "258120    35065    14545    16494    21326    50465    22830      943   \n",
       "258121    35065    16494    21326      943    50465    22830    30059   \n",
       "258122      943    35065    14545    16494    21326    22830    50465   \n",
       "258123    14545    16494    35065    21326    50465      943    30059   \n",
       "258124    16494    30059      943    58803    48476    22830    35065   \n",
       "\n",
       "        bssid_7  bssid_8  bssid_9  ...  meta_embedding_119  \\\n",
       "0         33509    23416    15248  ...            0.015162   \n",
       "1         15248    17024     5350  ...            0.015162   \n",
       "2          6672     7486    48500  ...            0.015162   \n",
       "3         15612    10166     4977  ...            0.015162   \n",
       "4         18305    21409    52794  ...            0.015162   \n",
       "...         ...      ...      ...  ...                 ...   \n",
       "258120    30429    43802    32684  ...           -0.058346   \n",
       "258121    33363    59581    14545  ...           -0.058346   \n",
       "258122    30059    48476    59581  ...           -0.058346   \n",
       "258123    48476    58803    22830  ...           -0.058346   \n",
       "258124    59581    50465     7967  ...           -0.058346   \n",
       "\n",
       "        meta_embedding_120  meta_embedding_121  meta_embedding_122  \\\n",
       "0                 0.960734            0.248433           -0.006481   \n",
       "1                 0.960734            0.248433           -0.006481   \n",
       "2                 0.960734            0.248433           -0.006481   \n",
       "3                 0.960734            0.248433           -0.006481   \n",
       "4                 0.960734            0.248433           -0.006481   \n",
       "...                    ...                 ...                 ...   \n",
       "258120           -0.257570           -0.132740           -0.005457   \n",
       "258121           -0.257570           -0.132740           -0.005457   \n",
       "258122           -0.257570           -0.132740           -0.005457   \n",
       "258123           -0.257570           -0.132740           -0.005457   \n",
       "258124           -0.257570           -0.132740           -0.005457   \n",
       "\n",
       "        meta_embedding_123  meta_embedding_124  meta_embedding_125  \\\n",
       "0                -0.001067           -0.120445            8.810782   \n",
       "1                -0.001067           -0.120445            8.810782   \n",
       "2                -0.001067           -0.120445            8.810782   \n",
       "3                -0.001067           -0.120445            8.810782   \n",
       "4                -0.001067           -0.120445            8.810782   \n",
       "...                    ...                 ...                 ...   \n",
       "258120           -0.060161           -0.034361           -2.728056   \n",
       "258121           -0.060161           -0.034361           -2.728056   \n",
       "258122           -0.060161           -0.034361           -2.728056   \n",
       "258123           -0.060161           -0.034361           -2.728056   \n",
       "258124           -0.060161           -0.034361           -2.728056   \n",
       "\n",
       "        meta_embedding_126  meta_embedding_127               site_id_str  \n",
       "0                 0.051331            4.612503  5a0546857ecc773753327266  \n",
       "1                 0.051331            4.612503  5a0546857ecc773753327266  \n",
       "2                 0.051331            4.612503  5a0546857ecc773753327266  \n",
       "3                 0.051331            4.612503  5a0546857ecc773753327266  \n",
       "4                 0.051331            4.612503  5a0546857ecc773753327266  \n",
       "...                    ...                 ...                       ...  \n",
       "258120           -0.029009           -1.428691  5dc8cea7659e181adb076a3f  \n",
       "258121           -0.029009           -1.428691  5dc8cea7659e181adb076a3f  \n",
       "258122           -0.029009           -1.428691  5dc8cea7659e181adb076a3f  \n",
       "258123           -0.029009           -1.428691  5dc8cea7659e181adb076a3f  \n",
       "258124           -0.029009           -1.428691  5dc8cea7659e181adb076a3f  \n",
       "\n",
       "[258125 rows x 334 columns]"
      ]
     },
     "execution_count": 20,
     "metadata": {},
     "output_type": "execute_result"
    }
   ],
   "source": [
    "# preprocess\n",
    "\n",
    "le = LabelEncoder()\n",
    "le.fit(wifi_bssids)\n",
    "le_site = LabelEncoder()\n",
    "le_site.fit(train_df['site_id'])\n",
    "\n",
    "ss = StandardScaler()\n",
    "ss.fit(train_df.loc[:,RSSI_FEATS])\n",
    "\n",
    "\n",
    "def preprocess(input_df, le=le, le_site=le_site, ss=ss):\n",
    "    output_df = input_df.copy()\n",
    "    # RSSIの正規化\n",
    "    output_df.loc[:,RSSI_FEATS] = ss.transform(input_df.loc[:,RSSI_FEATS])\n",
    "\n",
    "    # BSSIDのLE(1からふる)\n",
    "    for i in BSSID_FEATS:\n",
    "        output_df.loc[:,i] = le.transform(input_df.loc[:,i])\n",
    "#         output_df.loc[:,i] = output_df.loc[:,i] + 1  # 0からではなく1から番号を振りたいため なぜ？\n",
    "\n",
    "    # site_idのLE\n",
    "    output_df.loc[:, 'site_id'] = le_site.transform(input_df.loc[:, 'site_id'])\n",
    "    output_df['site_id_str'] = input_df['site_id']\n",
    "\n",
    "    # なぜ２重でやる？\n",
    "#     output_df.loc[:,RSSI_FEATS] = ss.transform(output_df.loc[:,RSSI_FEATS])\n",
    "    return output_df\n",
    "\n",
    "train = preprocess(train_df)\n",
    "test = preprocess(test_df)\n",
    "\n",
    "train  "
   ]
  },
  {
   "cell_type": "code",
   "execution_count": 21,
   "metadata": {},
   "outputs": [
    {
     "data": {
      "text/plain": [
       "24"
      ]
     },
     "execution_count": 21,
     "metadata": {},
     "output_type": "execute_result"
    }
   ],
   "source": [
    "site_count = len(train['site_id'].unique())\n",
    "site_count"
   ]
  },
  {
   "cell_type": "markdown",
   "metadata": {},
   "source": [
    "## PyTorch model\n",
    "- embedding layerが重要  "
   ]
  },
  {
   "cell_type": "code",
   "execution_count": 22,
   "metadata": {},
   "outputs": [],
   "source": [
    "# dataset\n",
    "from torch.utils.data import Dataset, DataLoader\n",
    "class IndoorDataset(Dataset):\n",
    "    def __init__(self, df, phase='train'):\n",
    "        self.df = df\n",
    "        self.phase = phase\n",
    "        self.bssid_feats = df[BSSID_FEATS].values.astype(int)\n",
    "        self.rssi_feats = df[RSSI_FEATS].values.astype(np.float32)\n",
    "        self.meta_feats = df[META_FEATS].values.astype(np.float32)\n",
    "        self.site_id = df['site_id'].values.astype(int)\n",
    "        self.site_id_str = df['site_id_str'].values\n",
    "\n",
    "        if phase in ['train', 'valid']:\n",
    "            self.xy = df[['x', 'y']].values.astype(np.float32)\n",
    "        self.floor = df['floor'].values.astype(np.float32)\n",
    "        \n",
    "    def __len__(self):\n",
    "        return self.df.shape[0]\n",
    "\n",
    "    def __getitem__(self, idx):\n",
    "                \n",
    "        \n",
    "        feature = {\n",
    "            'BSSID_FEATS':self.bssid_feats[idx],\n",
    "            'RSSI_FEATS':self.rssi_feats[idx],\n",
    "            'site_id':self.site_id[idx],\n",
    "            'META_FEATS': self.meta_feats[idx]\n",
    "        }\n",
    "        if self.phase in ['train', 'valid']:\n",
    "            target = {\n",
    "                'xy':self.xy[idx],\n",
    "                'floor':self.floor[idx]\n",
    "            }\n",
    "        else:\n",
    "            target = {}\n",
    "        return feature, target"
   ]
  },
  {
   "cell_type": "code",
   "execution_count": 23,
   "metadata": {},
   "outputs": [],
   "source": [
    "import torch\n",
    "from torch import nn\n",
    "\n",
    "class LSTMModel(nn.Module):\n",
    "    def __init__(self, bssid_size=94248, site_size=24, embedding_dim=64):\n",
    "        super(LSTMModel, self).__init__()\n",
    "        \n",
    "        # bssid\n",
    "        # ->64次元に圧縮後sequence化にする\n",
    "        # wifi_bssids_sizeが辞書の数を表す\n",
    "        self.bssid_embedding = nn.Embedding(bssid_size, 64, max_norm=True)\n",
    "        # site\n",
    "        # ->2次元に圧縮後sequence化する\n",
    "        # site_countが辞書の数を表す       \n",
    "        self.site_embedding = nn.Embedding(site_size, 64, max_norm=True)\n",
    "\n",
    "        # rssi\n",
    "        # 次元を64倍に線形変換\n",
    "        self.rssi = nn.Sequential(\n",
    "            nn.BatchNorm1d(NUM_FEATS),\n",
    "            nn.Linear(NUM_FEATS, NUM_FEATS * 64)\n",
    "        )\n",
    "        \n",
    "#         self.res = torch.hub.load('huawei-noah/ghostnet', 'ghostnet_1x', pretrained=True)\n",
    "        \n",
    "        concat_size = 64 + (NUM_FEATS * 64) + (NUM_FEATS * 64) + 128\n",
    "        self.linear_layer2 = nn.Sequential(\n",
    "            nn.BatchNorm1d(concat_size),\n",
    "            nn.Dropout(0.3),\n",
    "            nn.Linear(concat_size, 256),\n",
    "            nn.ReLU()\n",
    "        )\n",
    "        self.bn1 = nn.BatchNorm1d(concat_size)\n",
    "\n",
    "        self.flatten = nn.Flatten()\n",
    "\n",
    "        self.dropout1 = nn.Dropout(0.3)\n",
    "        self.linear1 = nn.Linear(in_features=concat_size, out_features=256)#, bias=False)\n",
    "        self.bn2 = nn.BatchNorm1d(256)\n",
    "\n",
    "        self.batch_norm1 = nn.BatchNorm1d(1)\n",
    "        self.lstm1 = nn.LSTM(input_size=256,hidden_size=128,dropout=0.3, batch_first=True)\n",
    "        self.lstm2 = nn.LSTM(input_size=128,hidden_size=16,dropout=0.1, batch_first=True)\n",
    "\n",
    "        self.fc_xy = nn.Linear(16, 2)\n",
    "        # self.fc_x = nn.Linear(16, 1)\n",
    "        # self.fc_y = nn.Linear(16, 1)\n",
    "        self.fc_floor = nn.Linear(16, 1)\n",
    "\n",
    "    \n",
    "    def forward(self, x):\n",
    "        # input embedding\n",
    "        batch_size = x[\"site_id\"].shape[0]\n",
    "        x_bssid = self.bssid_embedding(x['BSSID_FEATS'])\n",
    "        x_bssid = self.flatten(x_bssid)\n",
    "        \n",
    "        x_site_id = self.site_embedding(x['site_id'])\n",
    "        x_site_id = self.flatten(x_site_id)\n",
    "\n",
    "        x_rssi = self.rssi(x['RSSI_FEATS'])\n",
    "        \n",
    "#         x_img = self.res(x['img'])\n",
    "        x = torch.cat([x_bssid, x_site_id, x_rssi, x['META_FEATS']], dim=1)\n",
    "        x = self.linear_layer2(x)\n",
    "\n",
    "        # lstm layer\n",
    "        x = x.view(batch_size, 1, -1)  # [batch, 1]->[batch, 1, 1]\n",
    "        x = self.batch_norm1(x)\n",
    "        x, _ = self.lstm1(x)\n",
    "        x = torch.relu(x)\n",
    "        x, _ = self.lstm2(x)\n",
    "        x = torch.relu(x)\n",
    "\n",
    "        # output [batch, 1, 1] -> [batch]\n",
    "        # x_ = self.fc_x(x).view(-1)\n",
    "        # y_ = self.fc_y(x).view(-1)\n",
    "        xy = self.fc_xy(x).squeeze(1)\n",
    "        floor = torch.relu(self.fc_floor(x)).view(-1)\n",
    "        # return {\"x\":x_, \"y\":y_, \"floor\":floor} \n",
    "        return {\"xy\": xy, \"floor\": floor}"
   ]
  },
  {
   "cell_type": "code",
   "execution_count": 24,
   "metadata": {},
   "outputs": [],
   "source": [
    "def mean_position_error(xhat, yhat, fhat, x, y, f):\n",
    "    intermediate = np.sqrt(np.power(xhat-x, 2) + np.power(yhat-y, 2)) + 15 * np.abs(fhat-f)\n",
    "    return intermediate.sum()/xhat.shape[0]\n",
    "\n",
    "def to_np(input):\n",
    "    return input.detach().cpu().numpy()"
   ]
  },
  {
   "cell_type": "code",
   "execution_count": 25,
   "metadata": {},
   "outputs": [],
   "source": [
    "def get_optimizer(model: nn.Module, config: dict):\n",
    "    optimizer_config = config[\"optimizer\"]\n",
    "    optimizer_name = optimizer_config.get(\"name\")\n",
    "    base_optimizer_name = optimizer_config.get(\"base_name\")\n",
    "    optimizer_params = optimizer_config['params']\n",
    "\n",
    "    if hasattr(optim, optimizer_name):\n",
    "        optimizer = optim.__getattribute__(optimizer_name)(model.parameters(), **optimizer_params)\n",
    "        return optimizer\n",
    "    else:\n",
    "        base_optimizer = optim.__getattribute__(base_optimizer_name)\n",
    "        optimizer = globals().get(optimizer_name)(\n",
    "            model.parameters(), \n",
    "            base_optimizer,\n",
    "            **optimizer_config[\"params\"])\n",
    "        return  optimizer\n",
    "\n",
    "def get_scheduler(optimizer, config: dict):\n",
    "    scheduler_config = config[\"scheduler\"]\n",
    "    scheduler_name = scheduler_config.get(\"name\")\n",
    "\n",
    "    if scheduler_name is None:\n",
    "        return\n",
    "    else:\n",
    "        return optim.lr_scheduler.__getattribute__(scheduler_name)(\n",
    "            optimizer, **scheduler_config[\"params\"])\n",
    "\n",
    "\n",
    "def get_criterion(config: dict):\n",
    "    loss_config = config[\"loss\"]\n",
    "    loss_name = loss_config[\"name\"]\n",
    "    loss_params = {} if loss_config.get(\"params\") is None else loss_config.get(\"params\")\n",
    "    if hasattr(nn, loss_name):\n",
    "        criterion = nn.__getattribute__(loss_name)(**loss_params)\n",
    "    else:\n",
    "        criterion = globals().get(loss_name)(**loss_params)\n",
    "\n",
    "    return criterion\n",
    "\n",
    "def worker_init_fn(worker_id):                                                          \n",
    "    np.random.seed(np.random.get_state()[1][0] + worker_id)"
   ]
  },
  {
   "cell_type": "code",
   "execution_count": 26,
   "metadata": {},
   "outputs": [],
   "source": [
    "# Learner class(pytorch-lighting)\n",
    "class Learner(pl.LightningModule):\n",
    "    def __init__(self, model, config):\n",
    "        super().__init__()\n",
    "        self.model = model\n",
    "        self.config = config\n",
    "        self.xy_criterion = get_criterion(config)\n",
    "        self.f_criterion = get_criterion(config)\n",
    "    \n",
    "    def training_step(self, batch, batch_idx):\n",
    "        x, y = batch\n",
    "        output = self.model(x)\n",
    "        loss = self.xy_criterion(output[\"xy\"], y[\"xy\"])\n",
    "        return loss\n",
    "    \n",
    "    def validation_step(self, batch, batch_idx):\n",
    "        x, y = batch\n",
    "        output = self.model(x)\n",
    "        xy_loss = self.xy_criterion(output[\"xy\"], y[\"xy\"])\n",
    "        f_loss = self.f_criterion(output[\"floor\"], y[\"floor\"])\n",
    "        loss = xy_loss  # + f_loss\n",
    "        mpe = mean_position_error(\n",
    "            to_np(output['xy'][:, 0]), to_np(output['xy'][:, 1]), 0, \n",
    "            to_np(y['xy'][:, 0]), to_np(y['xy'][:, 1]), 0)\n",
    "        \n",
    "        # floor lossは現状は無視して良い\n",
    "        self.log(f'Loss/val', loss, on_step=False, on_epoch=True, prog_bar=False, logger=True)\n",
    "        self.log(f'Loss/xy', xy_loss, on_step=False, on_epoch=True, prog_bar=False, logger=True)\n",
    "        self.log(f'Loss/floor', f_loss, on_step=False, on_epoch=True, prog_bar=False, logger=True)\n",
    "        self.log(f'MPE/val', mpe, on_step=False, on_epoch=True, prog_bar=False, logger=True)\n",
    "        return mpe\n",
    "    \n",
    "    def validation_epoch_end(self, outputs):\n",
    "        avg_loss = np.mean(outputs)\n",
    "        print(f'epoch = {self.current_epoch}, mpe_loss = {avg_loss}')\n",
    "\n",
    "    def configure_optimizers(self):\n",
    "        optimizer = get_optimizer(self.model, self.config)\n",
    "        scheduler = get_scheduler(optimizer, self.config)\n",
    "        return {\"optimizer\": optimizer, \"lr_scheduler\": scheduler, \"monitor\": \"Loss/val\"}"
   ]
  },
  {
   "cell_type": "code",
   "execution_count": 27,
   "metadata": {},
   "outputs": [],
   "source": [
    "# oof\n",
    "def evaluate(model, loaders, phase):\n",
    "    x_list = []\n",
    "    y_list = []\n",
    "    f_list = []\n",
    "    with torch.no_grad():\n",
    "        for batch in loaders[phase]:\n",
    "            x, y = batch\n",
    "            output = model(x)\n",
    "            x_list.append(to_np(output['xy'][:, 0]))\n",
    "            y_list.append(to_np(output['xy'][:, 1]))\n",
    "            f_list.append(to_np(output['floor']))\n",
    "\n",
    "    x_list = np.concatenate(x_list)\n",
    "    y_list = np.concatenate(y_list)\n",
    "    f_list = np.concatenate(f_list)\n",
    "    return x_list, y_list, f_list"
   ]
  },
  {
   "cell_type": "markdown",
   "metadata": {},
   "source": [
    "## train"
   ]
  },
  {
   "cell_type": "code",
   "execution_count": null,
   "metadata": {
    "tags": []
   },
   "outputs": [
    {
     "name": "stdout",
     "output_type": "stream",
     "text": [
      "====================\n",
      "Fold 0\n",
      "====================\n"
     ]
    },
    {
     "name": "stderr",
     "output_type": "stream",
     "text": [
      "/home/user/.local/lib/python3.6/site-packages/torch/nn/modules/rnn.py:60: UserWarning: dropout option adds dropout after all but last recurrent layer, so non-zero dropout expects num_layers greater than 1, but got dropout=0.3 and num_layers=1\n",
      "  \"num_layers={}\".format(dropout, num_layers))\n",
      "/home/user/.local/lib/python3.6/site-packages/torch/nn/modules/rnn.py:60: UserWarning: dropout option adds dropout after all but last recurrent layer, so non-zero dropout expects num_layers greater than 1, but got dropout=0.1 and num_layers=1\n",
      "  \"num_layers={}\".format(dropout, num_layers))\n",
      "\u001b[34m\u001b[1mwandb\u001b[0m: Currently logged in as: \u001b[33msqrt4kaido\u001b[0m (use `wandb login --relogin` to force relogin)\n"
     ]
    },
    {
     "data": {
      "text/html": [
       "\n",
       "                Tracking run with wandb version 0.10.25<br/>\n",
       "                Syncing run <strong style=\"color:#cdcd00\">volcanic-wave-148</strong> to <a href=\"https://wandb.ai\" target=\"_blank\">Weights & Biases</a> <a href=\"https://docs.wandb.com/integrations/jupyter.html\" target=\"_blank\">(Documentation)</a>.<br/>\n",
       "                Project page: <a href=\"https://wandb.ai/sqrt4kaido/Indoor_Location_Navigation\" target=\"_blank\">https://wandb.ai/sqrt4kaido/Indoor_Location_Navigation</a><br/>\n",
       "                Run page: <a href=\"https://wandb.ai/sqrt4kaido/Indoor_Location_Navigation/runs/2w7q6tsy\" target=\"_blank\">https://wandb.ai/sqrt4kaido/Indoor_Location_Navigation/runs/2w7q6tsy</a><br/>\n",
       "                Run data is saved locally in <code>/home/knikaido/work/Indoor-Location-Navigation/Git/Notebook/20/wandb/run-20210411_133645-2w7q6tsy</code><br/><br/>\n",
       "            "
      ],
      "text/plain": [
       "<IPython.core.display.HTML object>"
      ]
     },
     "metadata": {},
     "output_type": "display_data"
    },
    {
     "name": "stderr",
     "output_type": "stream",
     "text": [
      "GPU available: True, used: True\n",
      "TPU available: False, using: 0 TPU cores\n",
      "LOCAL_RANK: 0 - CUDA_VISIBLE_DEVICES: [0]\n",
      "\n",
      "  | Name         | Type      | Params\n",
      "-------------------------------------------\n",
      "0 | model        | LSTMModel | 12.0 M\n",
      "1 | xy_criterion | MSELoss   | 0     \n",
      "2 | f_criterion  | MSELoss   | 0     \n",
      "-------------------------------------------\n",
      "12.0 M    Trainable params\n",
      "0         Non-trainable params\n",
      "12.0 M    Total params\n",
      "48.157    Total estimated model params size (MB)\n",
      "/home/user/.local/lib/python3.6/site-packages/pytorch_lightning/utilities/distributed.py:52: UserWarning: The dataloader, val dataloader 0, does not have many workers which may be a bottleneck. Consider increasing the value of the `num_workers` argument` (try 16 which is the number of cpus on this machine) in the `DataLoader` init to improve performance.\n",
      "  warnings.warn(*args, **kwargs)\n"
     ]
    },
    {
     "data": {
      "application/vnd.jupyter.widget-view+json": {
       "model_id": "",
       "version_major": 2,
       "version_minor": 0
      },
      "text/plain": [
       "Validation sanity check: 0it [00:00, ?it/s]"
      ]
     },
     "metadata": {},
     "output_type": "display_data"
    },
    {
     "name": "stdout",
     "output_type": "stream",
     "text": [
      "epoch = 0, mpe_loss = 255.3211212158203\n"
     ]
    },
    {
     "name": "stderr",
     "output_type": "stream",
     "text": [
      "/home/user/.local/lib/python3.6/site-packages/pytorch_lightning/utilities/distributed.py:52: UserWarning: The dataloader, train dataloader, does not have many workers which may be a bottleneck. Consider increasing the value of the `num_workers` argument` (try 16 which is the number of cpus on this machine) in the `DataLoader` init to improve performance.\n",
      "  warnings.warn(*args, **kwargs)\n"
     ]
    },
    {
     "data": {
      "application/vnd.jupyter.widget-view+json": {
       "model_id": "fddd36b55a3b495ead61894fb7ab7e74",
       "version_major": 2,
       "version_minor": 0
      },
      "text/plain": [
       "Training: 0it [00:00, ?it/s]"
      ]
     },
     "metadata": {},
     "output_type": "display_data"
    },
    {
     "name": "stderr",
     "output_type": "stream",
     "text": [
      "/home/user/.local/lib/python3.6/site-packages/pytorch_lightning/utilities/distributed.py:52: UserWarning: Detected KeyboardInterrupt, attempting graceful shutdown...\n",
      "  warnings.warn(*args, **kwargs)\n"
     ]
    },
    {
     "name": "stdout",
     "output_type": "stream",
     "text": [
      "fold 0: mean position error 158.1518533052429\n",
      "====================\n",
      "Fold 1\n",
      "====================\n"
     ]
    },
    {
     "name": "stderr",
     "output_type": "stream",
     "text": [
      "/home/user/.local/lib/python3.6/site-packages/torch/nn/modules/rnn.py:60: UserWarning: dropout option adds dropout after all but last recurrent layer, so non-zero dropout expects num_layers greater than 1, but got dropout=0.3 and num_layers=1\n",
      "  \"num_layers={}\".format(dropout, num_layers))\n",
      "/home/user/.local/lib/python3.6/site-packages/torch/nn/modules/rnn.py:60: UserWarning: dropout option adds dropout after all but last recurrent layer, so non-zero dropout expects num_layers greater than 1, but got dropout=0.1 and num_layers=1\n",
      "  \"num_layers={}\".format(dropout, num_layers))\n"
     ]
    },
    {
     "data": {
      "text/html": [
       "Finishing last run (ID:2w7q6tsy) before initializing another..."
      ],
      "text/plain": [
       "<IPython.core.display.HTML object>"
      ]
     },
     "metadata": {},
     "output_type": "display_data"
    },
    {
     "data": {
      "text/html": [
       "<br/>Waiting for W&B process to finish, PID 1971<br/>Program ended successfully."
      ],
      "text/plain": [
       "<IPython.core.display.HTML object>"
      ]
     },
     "metadata": {},
     "output_type": "display_data"
    },
    {
     "data": {
      "application/vnd.jupyter.widget-view+json": {
       "model_id": "",
       "version_major": 2,
       "version_minor": 0
      },
      "text/plain": [
       "VBox(children=(Label(value=' 0.00MB of 0.00MB uploaded (0.00MB deduped)\\r'), FloatProgress(value=1.0, max=1.0)…"
      ]
     },
     "metadata": {},
     "output_type": "display_data"
    },
    {
     "data": {
      "text/html": [
       "Find user logs for this run at: <code>/home/knikaido/work/Indoor-Location-Navigation/Git/Notebook/20/wandb/run-20210411_133645-2w7q6tsy/logs/debug.log</code>"
      ],
      "text/plain": [
       "<IPython.core.display.HTML object>"
      ]
     },
     "metadata": {},
     "output_type": "display_data"
    },
    {
     "data": {
      "text/html": [
       "Find internal logs for this run at: <code>/home/knikaido/work/Indoor-Location-Navigation/Git/Notebook/20/wandb/run-20210411_133645-2w7q6tsy/logs/debug-internal.log</code>"
      ],
      "text/plain": [
       "<IPython.core.display.HTML object>"
      ]
     },
     "metadata": {},
     "output_type": "display_data"
    },
    {
     "data": {
      "text/html": [
       "<h3>Run summary:</h3><br/><style>\n",
       "    table.wandb td:nth-child(1) { padding: 0 10px; text-align: right }\n",
       "    </style><table class=\"wandb\">\n",
       "</table>"
      ],
      "text/plain": [
       "<IPython.core.display.HTML object>"
      ]
     },
     "metadata": {},
     "output_type": "display_data"
    },
    {
     "data": {
      "text/html": [
       "Synced 5 W&B file(s), 1 media file(s), 0 artifact file(s) and 0 other file(s)"
      ],
      "text/plain": [
       "<IPython.core.display.HTML object>"
      ]
     },
     "metadata": {},
     "output_type": "display_data"
    },
    {
     "data": {
      "text/html": [
       "\n",
       "                    <br/>Synced <strong style=\"color:#cdcd00\">volcanic-wave-148</strong>: <a href=\"https://wandb.ai/sqrt4kaido/Indoor_Location_Navigation/runs/2w7q6tsy\" target=\"_blank\">https://wandb.ai/sqrt4kaido/Indoor_Location_Navigation/runs/2w7q6tsy</a><br/>\n",
       "                "
      ],
      "text/plain": [
       "<IPython.core.display.HTML object>"
      ]
     },
     "metadata": {},
     "output_type": "display_data"
    },
    {
     "data": {
      "text/html": [
       "...Successfully finished last run (ID:2w7q6tsy). Initializing new run:<br/><br/>"
      ],
      "text/plain": [
       "<IPython.core.display.HTML object>"
      ]
     },
     "metadata": {},
     "output_type": "display_data"
    },
    {
     "data": {
      "text/html": [
       "\n",
       "                Tracking run with wandb version 0.10.25<br/>\n",
       "                Syncing run <strong style=\"color:#cdcd00\">twilight-universe-149</strong> to <a href=\"https://wandb.ai\" target=\"_blank\">Weights & Biases</a> <a href=\"https://docs.wandb.com/integrations/jupyter.html\" target=\"_blank\">(Documentation)</a>.<br/>\n",
       "                Project page: <a href=\"https://wandb.ai/sqrt4kaido/Indoor_Location_Navigation\" target=\"_blank\">https://wandb.ai/sqrt4kaido/Indoor_Location_Navigation</a><br/>\n",
       "                Run page: <a href=\"https://wandb.ai/sqrt4kaido/Indoor_Location_Navigation/runs/1vf3a1vv\" target=\"_blank\">https://wandb.ai/sqrt4kaido/Indoor_Location_Navigation/runs/1vf3a1vv</a><br/>\n",
       "                Run data is saved locally in <code>/home/knikaido/work/Indoor-Location-Navigation/Git/Notebook/20/wandb/run-20210411_133806-1vf3a1vv</code><br/><br/>\n",
       "            "
      ],
      "text/plain": [
       "<IPython.core.display.HTML object>"
      ]
     },
     "metadata": {},
     "output_type": "display_data"
    },
    {
     "name": "stderr",
     "output_type": "stream",
     "text": [
      "GPU available: True, used: True\n",
      "TPU available: False, using: 0 TPU cores\n",
      "LOCAL_RANK: 0 - CUDA_VISIBLE_DEVICES: [0]\n",
      "\n",
      "  | Name         | Type      | Params\n",
      "-------------------------------------------\n",
      "0 | model        | LSTMModel | 12.0 M\n",
      "1 | xy_criterion | MSELoss   | 0     \n",
      "2 | f_criterion  | MSELoss   | 0     \n",
      "-------------------------------------------\n",
      "12.0 M    Trainable params\n",
      "0         Non-trainable params\n",
      "12.0 M    Total params\n",
      "48.157    Total estimated model params size (MB)\n"
     ]
    },
    {
     "data": {
      "application/vnd.jupyter.widget-view+json": {
       "model_id": "",
       "version_major": 2,
       "version_minor": 0
      },
      "text/plain": [
       "Validation sanity check: 0it [00:00, ?it/s]"
      ]
     },
     "metadata": {},
     "output_type": "display_data"
    },
    {
     "name": "stdout",
     "output_type": "stream",
     "text": [
      "epoch = 0, mpe_loss = 234.48887634277344\n"
     ]
    },
    {
     "data": {
      "application/vnd.jupyter.widget-view+json": {
       "model_id": "242e5c6711f0495cb362cbd0576bedcf",
       "version_major": 2,
       "version_minor": 0
      },
      "text/plain": [
       "Training: 0it [00:00, ?it/s]"
      ]
     },
     "metadata": {},
     "output_type": "display_data"
    },
    {
     "data": {
      "application/vnd.jupyter.widget-view+json": {
       "model_id": "",
       "version_major": 2,
       "version_minor": 0
      },
      "text/plain": [
       "Validating: 0it [00:00, ?it/s]"
      ]
     },
     "metadata": {},
     "output_type": "display_data"
    },
    {
     "name": "stdout",
     "output_type": "stream",
     "text": [
      "epoch = 0, mpe_loss = 82.80670578147085\n"
     ]
    },
    {
     "data": {
      "application/vnd.jupyter.widget-view+json": {
       "model_id": "",
       "version_major": 2,
       "version_minor": 0
      },
      "text/plain": [
       "Validating: 0it [00:00, ?it/s]"
      ]
     },
     "metadata": {},
     "output_type": "display_data"
    },
    {
     "name": "stdout",
     "output_type": "stream",
     "text": [
      "epoch = 1, mpe_loss = 49.971894024287906\n"
     ]
    },
    {
     "data": {
      "application/vnd.jupyter.widget-view+json": {
       "model_id": "",
       "version_major": 2,
       "version_minor": 0
      },
      "text/plain": [
       "Validating: 0it [00:00, ?it/s]"
      ]
     },
     "metadata": {},
     "output_type": "display_data"
    },
    {
     "name": "stdout",
     "output_type": "stream",
     "text": [
      "epoch = 2, mpe_loss = 26.295020871397195\n"
     ]
    },
    {
     "data": {
      "application/vnd.jupyter.widget-view+json": {
       "model_id": "",
       "version_major": 2,
       "version_minor": 0
      },
      "text/plain": [
       "Validating: 0it [00:00, ?it/s]"
      ]
     },
     "metadata": {},
     "output_type": "display_data"
    },
    {
     "name": "stdout",
     "output_type": "stream",
     "text": [
      "epoch = 3, mpe_loss = 15.34069438184583\n"
     ]
    },
    {
     "data": {
      "application/vnd.jupyter.widget-view+json": {
       "model_id": "",
       "version_major": 2,
       "version_minor": 0
      },
      "text/plain": [
       "Validating: 0it [00:00, ?it/s]"
      ]
     },
     "metadata": {},
     "output_type": "display_data"
    },
    {
     "name": "stdout",
     "output_type": "stream",
     "text": [
      "epoch = 4, mpe_loss = 11.696380083350547\n"
     ]
    },
    {
     "data": {
      "application/vnd.jupyter.widget-view+json": {
       "model_id": "",
       "version_major": 2,
       "version_minor": 0
      },
      "text/plain": [
       "Validating: 0it [00:00, ?it/s]"
      ]
     },
     "metadata": {},
     "output_type": "display_data"
    },
    {
     "name": "stdout",
     "output_type": "stream",
     "text": [
      "epoch = 5, mpe_loss = 10.696973699848039\n"
     ]
    },
    {
     "data": {
      "application/vnd.jupyter.widget-view+json": {
       "model_id": "",
       "version_major": 2,
       "version_minor": 0
      },
      "text/plain": [
       "Validating: 0it [00:00, ?it/s]"
      ]
     },
     "metadata": {},
     "output_type": "display_data"
    },
    {
     "name": "stdout",
     "output_type": "stream",
     "text": [
      "epoch = 6, mpe_loss = 9.808395957779606\n"
     ]
    },
    {
     "data": {
      "application/vnd.jupyter.widget-view+json": {
       "model_id": "",
       "version_major": 2,
       "version_minor": 0
      },
      "text/plain": [
       "Validating: 0it [00:00, ?it/s]"
      ]
     },
     "metadata": {},
     "output_type": "display_data"
    },
    {
     "name": "stdout",
     "output_type": "stream",
     "text": [
      "epoch = 7, mpe_loss = 9.445510587518992\n"
     ]
    },
    {
     "data": {
      "application/vnd.jupyter.widget-view+json": {
       "model_id": "",
       "version_major": 2,
       "version_minor": 0
      },
      "text/plain": [
       "Validating: 0it [00:00, ?it/s]"
      ]
     },
     "metadata": {},
     "output_type": "display_data"
    },
    {
     "name": "stdout",
     "output_type": "stream",
     "text": [
      "epoch = 8, mpe_loss = 9.044666695938368\n"
     ]
    },
    {
     "data": {
      "application/vnd.jupyter.widget-view+json": {
       "model_id": "",
       "version_major": 2,
       "version_minor": 0
      },
      "text/plain": [
       "Validating: 0it [00:00, ?it/s]"
      ]
     },
     "metadata": {},
     "output_type": "display_data"
    },
    {
     "name": "stdout",
     "output_type": "stream",
     "text": [
      "epoch = 9, mpe_loss = 9.160345868676602\n"
     ]
    },
    {
     "data": {
      "application/vnd.jupyter.widget-view+json": {
       "model_id": "",
       "version_major": 2,
       "version_minor": 0
      },
      "text/plain": [
       "Validating: 0it [00:00, ?it/s]"
      ]
     },
     "metadata": {},
     "output_type": "display_data"
    },
    {
     "name": "stdout",
     "output_type": "stream",
     "text": [
      "epoch = 10, mpe_loss = 8.701736540357324\n"
     ]
    },
    {
     "data": {
      "application/vnd.jupyter.widget-view+json": {
       "model_id": "",
       "version_major": 2,
       "version_minor": 0
      },
      "text/plain": [
       "Validating: 0it [00:00, ?it/s]"
      ]
     },
     "metadata": {},
     "output_type": "display_data"
    },
    {
     "name": "stdout",
     "output_type": "stream",
     "text": [
      "epoch = 11, mpe_loss = 8.641351309902877\n"
     ]
    },
    {
     "data": {
      "application/vnd.jupyter.widget-view+json": {
       "model_id": "",
       "version_major": 2,
       "version_minor": 0
      },
      "text/plain": [
       "Validating: 0it [00:00, ?it/s]"
      ]
     },
     "metadata": {},
     "output_type": "display_data"
    },
    {
     "name": "stdout",
     "output_type": "stream",
     "text": [
      "epoch = 12, mpe_loss = 8.62150952763272\n"
     ]
    },
    {
     "data": {
      "application/vnd.jupyter.widget-view+json": {
       "model_id": "",
       "version_major": 2,
       "version_minor": 0
      },
      "text/plain": [
       "Validating: 0it [00:00, ?it/s]"
      ]
     },
     "metadata": {},
     "output_type": "display_data"
    },
    {
     "name": "stdout",
     "output_type": "stream",
     "text": [
      "epoch = 13, mpe_loss = 8.548012510871429\n"
     ]
    },
    {
     "data": {
      "application/vnd.jupyter.widget-view+json": {
       "model_id": "",
       "version_major": 2,
       "version_minor": 0
      },
      "text/plain": [
       "Validating: 0it [00:00, ?it/s]"
      ]
     },
     "metadata": {},
     "output_type": "display_data"
    },
    {
     "name": "stdout",
     "output_type": "stream",
     "text": [
      "epoch = 14, mpe_loss = 8.82371669600859\n"
     ]
    },
    {
     "data": {
      "application/vnd.jupyter.widget-view+json": {
       "model_id": "",
       "version_major": 2,
       "version_minor": 0
      },
      "text/plain": [
       "Validating: 0it [00:00, ?it/s]"
      ]
     },
     "metadata": {},
     "output_type": "display_data"
    },
    {
     "name": "stdout",
     "output_type": "stream",
     "text": [
      "epoch = 15, mpe_loss = 8.193401142482635\n"
     ]
    },
    {
     "data": {
      "application/vnd.jupyter.widget-view+json": {
       "model_id": "",
       "version_major": 2,
       "version_minor": 0
      },
      "text/plain": [
       "Validating: 0it [00:00, ?it/s]"
      ]
     },
     "metadata": {},
     "output_type": "display_data"
    },
    {
     "name": "stdout",
     "output_type": "stream",
     "text": [
      "epoch = 16, mpe_loss = 8.134969444133407\n"
     ]
    },
    {
     "data": {
      "application/vnd.jupyter.widget-view+json": {
       "model_id": "",
       "version_major": 2,
       "version_minor": 0
      },
      "text/plain": [
       "Validating: 0it [00:00, ?it/s]"
      ]
     },
     "metadata": {},
     "output_type": "display_data"
    },
    {
     "name": "stdout",
     "output_type": "stream",
     "text": [
      "epoch = 17, mpe_loss = 8.08496078029835\n"
     ]
    },
    {
     "data": {
      "application/vnd.jupyter.widget-view+json": {
       "model_id": "",
       "version_major": 2,
       "version_minor": 0
      },
      "text/plain": [
       "Validating: 0it [00:00, ?it/s]"
      ]
     },
     "metadata": {},
     "output_type": "display_data"
    },
    {
     "name": "stdout",
     "output_type": "stream",
     "text": [
      "epoch = 18, mpe_loss = 7.9878749063966845\n"
     ]
    },
    {
     "data": {
      "application/vnd.jupyter.widget-view+json": {
       "model_id": "",
       "version_major": 2,
       "version_minor": 0
      },
      "text/plain": [
       "Validating: 0it [00:00, ?it/s]"
      ]
     },
     "metadata": {},
     "output_type": "display_data"
    },
    {
     "name": "stdout",
     "output_type": "stream",
     "text": [
      "epoch = 19, mpe_loss = 8.09378863750683\n"
     ]
    },
    {
     "data": {
      "application/vnd.jupyter.widget-view+json": {
       "model_id": "",
       "version_major": 2,
       "version_minor": 0
      },
      "text/plain": [
       "Validating: 0it [00:00, ?it/s]"
      ]
     },
     "metadata": {},
     "output_type": "display_data"
    },
    {
     "name": "stdout",
     "output_type": "stream",
     "text": [
      "epoch = 20, mpe_loss = 8.040627334732454\n"
     ]
    },
    {
     "data": {
      "application/vnd.jupyter.widget-view+json": {
       "model_id": "",
       "version_major": 2,
       "version_minor": 0
      },
      "text/plain": [
       "Validating: 0it [00:00, ?it/s]"
      ]
     },
     "metadata": {},
     "output_type": "display_data"
    },
    {
     "name": "stdout",
     "output_type": "stream",
     "text": [
      "epoch = 21, mpe_loss = 8.030152396440155\n"
     ]
    },
    {
     "data": {
      "application/vnd.jupyter.widget-view+json": {
       "model_id": "",
       "version_major": 2,
       "version_minor": 0
      },
      "text/plain": [
       "Validating: 0it [00:00, ?it/s]"
      ]
     },
     "metadata": {},
     "output_type": "display_data"
    },
    {
     "name": "stdout",
     "output_type": "stream",
     "text": [
      "epoch = 22, mpe_loss = 8.022704366032599\n"
     ]
    },
    {
     "data": {
      "application/vnd.jupyter.widget-view+json": {
       "model_id": "",
       "version_major": 2,
       "version_minor": 0
      },
      "text/plain": [
       "Validating: 0it [00:00, ?it/s]"
      ]
     },
     "metadata": {},
     "output_type": "display_data"
    },
    {
     "name": "stdout",
     "output_type": "stream",
     "text": [
      "epoch = 23, mpe_loss = 8.035115879169597\n"
     ]
    },
    {
     "data": {
      "application/vnd.jupyter.widget-view+json": {
       "model_id": "",
       "version_major": 2,
       "version_minor": 0
      },
      "text/plain": [
       "Validating: 0it [00:00, ?it/s]"
      ]
     },
     "metadata": {},
     "output_type": "display_data"
    },
    {
     "name": "stdout",
     "output_type": "stream",
     "text": [
      "epoch = 24, mpe_loss = 7.981152757784081\n"
     ]
    },
    {
     "data": {
      "application/vnd.jupyter.widget-view+json": {
       "model_id": "",
       "version_major": 2,
       "version_minor": 0
      },
      "text/plain": [
       "Validating: 0it [00:00, ?it/s]"
      ]
     },
     "metadata": {},
     "output_type": "display_data"
    },
    {
     "name": "stdout",
     "output_type": "stream",
     "text": [
      "epoch = 25, mpe_loss = 7.958387827438213\n"
     ]
    },
    {
     "data": {
      "application/vnd.jupyter.widget-view+json": {
       "model_id": "",
       "version_major": 2,
       "version_minor": 0
      },
      "text/plain": [
       "Validating: 0it [00:00, ?it/s]"
      ]
     },
     "metadata": {},
     "output_type": "display_data"
    },
    {
     "name": "stdout",
     "output_type": "stream",
     "text": [
      "epoch = 26, mpe_loss = 7.987808147063325\n"
     ]
    },
    {
     "data": {
      "application/vnd.jupyter.widget-view+json": {
       "model_id": "",
       "version_major": 2,
       "version_minor": 0
      },
      "text/plain": [
       "Validating: 0it [00:00, ?it/s]"
      ]
     },
     "metadata": {},
     "output_type": "display_data"
    },
    {
     "name": "stdout",
     "output_type": "stream",
     "text": [
      "epoch = 27, mpe_loss = 7.916275742029603\n"
     ]
    },
    {
     "data": {
      "application/vnd.jupyter.widget-view+json": {
       "model_id": "",
       "version_major": 2,
       "version_minor": 0
      },
      "text/plain": [
       "Validating: 0it [00:00, ?it/s]"
      ]
     },
     "metadata": {},
     "output_type": "display_data"
    },
    {
     "name": "stdout",
     "output_type": "stream",
     "text": [
      "epoch = 28, mpe_loss = 8.105914422458449\n"
     ]
    },
    {
     "data": {
      "application/vnd.jupyter.widget-view+json": {
       "model_id": "",
       "version_major": 2,
       "version_minor": 0
      },
      "text/plain": [
       "Validating: 0it [00:00, ?it/s]"
      ]
     },
     "metadata": {},
     "output_type": "display_data"
    },
    {
     "name": "stdout",
     "output_type": "stream",
     "text": [
      "epoch = 29, mpe_loss = 7.934498551721825\n"
     ]
    },
    {
     "data": {
      "application/vnd.jupyter.widget-view+json": {
       "model_id": "",
       "version_major": 2,
       "version_minor": 0
      },
      "text/plain": [
       "Validating: 0it [00:00, ?it/s]"
      ]
     },
     "metadata": {},
     "output_type": "display_data"
    },
    {
     "name": "stdout",
     "output_type": "stream",
     "text": [
      "epoch = 30, mpe_loss = 7.947351639859302\n"
     ]
    },
    {
     "data": {
      "application/vnd.jupyter.widget-view+json": {
       "model_id": "",
       "version_major": 2,
       "version_minor": 0
      },
      "text/plain": [
       "Validating: 0it [00:00, ?it/s]"
      ]
     },
     "metadata": {},
     "output_type": "display_data"
    },
    {
     "name": "stdout",
     "output_type": "stream",
     "text": [
      "epoch = 31, mpe_loss = 7.912884093152015\n"
     ]
    },
    {
     "data": {
      "application/vnd.jupyter.widget-view+json": {
       "model_id": "",
       "version_major": 2,
       "version_minor": 0
      },
      "text/plain": [
       "Validating: 0it [00:00, ?it/s]"
      ]
     },
     "metadata": {},
     "output_type": "display_data"
    },
    {
     "name": "stdout",
     "output_type": "stream",
     "text": [
      "epoch = 32, mpe_loss = 7.89732830638925\n"
     ]
    },
    {
     "data": {
      "application/vnd.jupyter.widget-view+json": {
       "model_id": "",
       "version_major": 2,
       "version_minor": 0
      },
      "text/plain": [
       "Validating: 0it [00:00, ?it/s]"
      ]
     },
     "metadata": {},
     "output_type": "display_data"
    },
    {
     "name": "stdout",
     "output_type": "stream",
     "text": [
      "epoch = 33, mpe_loss = 7.936104954055621\n"
     ]
    },
    {
     "data": {
      "application/vnd.jupyter.widget-view+json": {
       "model_id": "",
       "version_major": 2,
       "version_minor": 0
      },
      "text/plain": [
       "Validating: 0it [00:00, ?it/s]"
      ]
     },
     "metadata": {},
     "output_type": "display_data"
    },
    {
     "name": "stdout",
     "output_type": "stream",
     "text": [
      "epoch = 34, mpe_loss = 7.948789224588521\n"
     ]
    },
    {
     "data": {
      "application/vnd.jupyter.widget-view+json": {
       "model_id": "",
       "version_major": 2,
       "version_minor": 0
      },
      "text/plain": [
       "Validating: 0it [00:00, ?it/s]"
      ]
     },
     "metadata": {},
     "output_type": "display_data"
    },
    {
     "name": "stdout",
     "output_type": "stream",
     "text": [
      "epoch = 35, mpe_loss = 7.913775138182321\n"
     ]
    },
    {
     "data": {
      "application/vnd.jupyter.widget-view+json": {
       "model_id": "",
       "version_major": 2,
       "version_minor": 0
      },
      "text/plain": [
       "Validating: 0it [00:00, ?it/s]"
      ]
     },
     "metadata": {},
     "output_type": "display_data"
    },
    {
     "name": "stdout",
     "output_type": "stream",
     "text": [
      "epoch = 36, mpe_loss = 7.918263489288263\n"
     ]
    },
    {
     "data": {
      "application/vnd.jupyter.widget-view+json": {
       "model_id": "",
       "version_major": 2,
       "version_minor": 0
      },
      "text/plain": [
       "Validating: 0it [00:00, ?it/s]"
      ]
     },
     "metadata": {},
     "output_type": "display_data"
    },
    {
     "name": "stdout",
     "output_type": "stream",
     "text": [
      "epoch = 37, mpe_loss = 7.919514508655423\n"
     ]
    },
    {
     "data": {
      "application/vnd.jupyter.widget-view+json": {
       "model_id": "",
       "version_major": 2,
       "version_minor": 0
      },
      "text/plain": [
       "Validating: 0it [00:00, ?it/s]"
      ]
     },
     "metadata": {},
     "output_type": "display_data"
    },
    {
     "name": "stdout",
     "output_type": "stream",
     "text": [
      "epoch = 38, mpe_loss = 7.968843646948441\n"
     ]
    },
    {
     "data": {
      "application/vnd.jupyter.widget-view+json": {
       "model_id": "",
       "version_major": 2,
       "version_minor": 0
      },
      "text/plain": [
       "Validating: 0it [00:00, ?it/s]"
      ]
     },
     "metadata": {},
     "output_type": "display_data"
    },
    {
     "name": "stdout",
     "output_type": "stream",
     "text": [
      "epoch = 39, mpe_loss = 7.975969291614454\n"
     ]
    },
    {
     "data": {
      "application/vnd.jupyter.widget-view+json": {
       "model_id": "",
       "version_major": 2,
       "version_minor": 0
      },
      "text/plain": [
       "Validating: 0it [00:00, ?it/s]"
      ]
     },
     "metadata": {},
     "output_type": "display_data"
    },
    {
     "name": "stdout",
     "output_type": "stream",
     "text": [
      "epoch = 40, mpe_loss = 7.949539328966225\n"
     ]
    },
    {
     "data": {
      "application/vnd.jupyter.widget-view+json": {
       "model_id": "",
       "version_major": 2,
       "version_minor": 0
      },
      "text/plain": [
       "Validating: 0it [00:00, ?it/s]"
      ]
     },
     "metadata": {},
     "output_type": "display_data"
    },
    {
     "name": "stdout",
     "output_type": "stream",
     "text": [
      "epoch = 41, mpe_loss = 7.929220728005282\n"
     ]
    },
    {
     "data": {
      "application/vnd.jupyter.widget-view+json": {
       "model_id": "",
       "version_major": 2,
       "version_minor": 0
      },
      "text/plain": [
       "Validating: 0it [00:00, ?it/s]"
      ]
     },
     "metadata": {},
     "output_type": "display_data"
    },
    {
     "name": "stdout",
     "output_type": "stream",
     "text": [
      "epoch = 42, mpe_loss = 7.944409878130913\n"
     ]
    },
    {
     "data": {
      "application/vnd.jupyter.widget-view+json": {
       "model_id": "",
       "version_major": 2,
       "version_minor": 0
      },
      "text/plain": [
       "Validating: 0it [00:00, ?it/s]"
      ]
     },
     "metadata": {},
     "output_type": "display_data"
    },
    {
     "name": "stdout",
     "output_type": "stream",
     "text": [
      "epoch = 43, mpe_loss = 7.956143371356192\n"
     ]
    },
    {
     "data": {
      "application/vnd.jupyter.widget-view+json": {
       "model_id": "",
       "version_major": 2,
       "version_minor": 0
      },
      "text/plain": [
       "Validating: 0it [00:00, ?it/s]"
      ]
     },
     "metadata": {},
     "output_type": "display_data"
    },
    {
     "name": "stdout",
     "output_type": "stream",
     "text": [
      "epoch = 44, mpe_loss = 7.892647074357263\n"
     ]
    },
    {
     "data": {
      "application/vnd.jupyter.widget-view+json": {
       "model_id": "",
       "version_major": 2,
       "version_minor": 0
      },
      "text/plain": [
       "Validating: 0it [00:00, ?it/s]"
      ]
     },
     "metadata": {},
     "output_type": "display_data"
    },
    {
     "name": "stdout",
     "output_type": "stream",
     "text": [
      "epoch = 45, mpe_loss = 7.9603419082853035\n"
     ]
    },
    {
     "data": {
      "application/vnd.jupyter.widget-view+json": {
       "model_id": "",
       "version_major": 2,
       "version_minor": 0
      },
      "text/plain": [
       "Validating: 0it [00:00, ?it/s]"
      ]
     },
     "metadata": {},
     "output_type": "display_data"
    },
    {
     "name": "stdout",
     "output_type": "stream",
     "text": [
      "epoch = 46, mpe_loss = 7.973130309476466\n"
     ]
    },
    {
     "data": {
      "application/vnd.jupyter.widget-view+json": {
       "model_id": "",
       "version_major": 2,
       "version_minor": 0
      },
      "text/plain": [
       "Validating: 0it [00:00, ?it/s]"
      ]
     },
     "metadata": {},
     "output_type": "display_data"
    },
    {
     "name": "stdout",
     "output_type": "stream",
     "text": [
      "epoch = 47, mpe_loss = 7.978216841942743\n"
     ]
    },
    {
     "data": {
      "application/vnd.jupyter.widget-view+json": {
       "model_id": "",
       "version_major": 2,
       "version_minor": 0
      },
      "text/plain": [
       "Validating: 0it [00:00, ?it/s]"
      ]
     },
     "metadata": {},
     "output_type": "display_data"
    },
    {
     "name": "stdout",
     "output_type": "stream",
     "text": [
      "epoch = 48, mpe_loss = 7.92177302925622\n"
     ]
    },
    {
     "data": {
      "application/vnd.jupyter.widget-view+json": {
       "model_id": "",
       "version_major": 2,
       "version_minor": 0
      },
      "text/plain": [
       "Validating: 0it [00:00, ?it/s]"
      ]
     },
     "metadata": {},
     "output_type": "display_data"
    },
    {
     "name": "stdout",
     "output_type": "stream",
     "text": [
      "epoch = 49, mpe_loss = 7.930236879183467\n",
      "fold 1: mean position error 7.93044638363228\n",
      "====================\n",
      "Fold 2\n",
      "====================\n"
     ]
    },
    {
     "data": {
      "text/html": [
       "Finishing last run (ID:1vf3a1vv) before initializing another..."
      ],
      "text/plain": [
       "<IPython.core.display.HTML object>"
      ]
     },
     "metadata": {},
     "output_type": "display_data"
    },
    {
     "data": {
      "text/html": [
       "<br/>Waiting for W&B process to finish, PID 2056<br/>Program ended successfully."
      ],
      "text/plain": [
       "<IPython.core.display.HTML object>"
      ]
     },
     "metadata": {},
     "output_type": "display_data"
    }
   ],
   "source": [
    "oofs = []  # 全てのoofをdfで格納する\n",
    "predictions = []  # 全ての予測値をdfで格納する\n",
    "val_scores = []\n",
    "# skf = StratifiedKFold(n_splits=N_SPLITS, shuffle=True, random_state=SEED)\n",
    "gkf = GroupKFold(n_splits=N_SPLITS)\n",
    "# for fold, (trn_idx, val_idx) in enumerate(skf.split(train.loc[:, 'path'], train.loc[:, 'path'])):\n",
    "for fold, (trn_idx, val_idx) in enumerate(gkf.split(train.loc[:, 'path'], groups=train.loc[:, 'path'])):\n",
    "\n",
    "    # 指定したfoldのみループを回す\n",
    "\n",
    "    print('=' * 20)\n",
    "    print(f'Fold {fold}')\n",
    "    print('=' * 20)\n",
    "\n",
    "    # train/valid data\n",
    "    trn_df = train.loc[trn_idx, BSSID_FEATS + RSSI_FEATS + META_FEATS +['site_id', 'site_id_str', 'x','y','floor']].reset_index(drop=True)\n",
    "    val_df = train.loc[val_idx, BSSID_FEATS + RSSI_FEATS + META_FEATS + ['site_id', 'site_id_str', 'x','y','floor']].reset_index(drop=True)\n",
    "\n",
    "    # data loader\n",
    "    loaders = {}\n",
    "    loader_config = config[\"loader\"]\n",
    "    loaders[\"train\"] = DataLoader(IndoorDataset(trn_df, phase=\"train\"), **loader_config[\"train\"], worker_init_fn=worker_init_fn) \n",
    "    loaders[\"valid\"] = DataLoader(IndoorDataset(val_df, phase=\"valid\"), **loader_config[\"valid\"], worker_init_fn=worker_init_fn)\n",
    "    loaders[\"test\"] = DataLoader(IndoorDataset(test, phase=\"test\"), **loader_config[\"test\"], worker_init_fn=worker_init_fn)\n",
    "    \n",
    "    # model\n",
    "    model = LSTMModel(wifi_bssids_size, site_count)\n",
    "    model_name = model.__class__.__name__\n",
    "    \n",
    "    # loggers\n",
    "    RUN_NAME = f'exp{str(EXP_NAME)}'\n",
    "    wandb.init(project='Indoor_Location_Navigation', entity='sqrt4kaido', group=RUN_NAME, job_type=RUN_NAME + f'-fold-{fold}')\n",
    "    wandb.run.name = RUN_NAME + f'-fold-{fold}'\n",
    "    wandb_config = wandb.config\n",
    "    wandb_config.model_name = model_name\n",
    "    wandb.watch(model)\n",
    "    \n",
    "    \n",
    "    loggers = []\n",
    "    loggers.append(WandbLogger())\n",
    "\n",
    "    learner = Learner(model, config)\n",
    "    \n",
    "    # callbacks\n",
    "    callbacks = []\n",
    "    checkpoint_callback = ModelCheckpoint(\n",
    "        monitor=f'Loss/val',\n",
    "        mode='min',\n",
    "        dirpath=OUTPUT_DIR,\n",
    "        verbose=False,\n",
    "        filename=f'{model_name}-{learner.current_epoch}-{fold}')\n",
    "    callbacks.append(checkpoint_callback)\n",
    "\n",
    "    early_stop_callback = EarlyStopping(\n",
    "        monitor='Loss/val',\n",
    "        min_delta=0.00,\n",
    "        patience=3,\n",
    "        verbose=True,\n",
    "        mode='min')\n",
    "    callbacks.append(early_stop_callback)\n",
    "    \n",
    "    trainer = pl.Trainer(\n",
    "        logger=loggers,\n",
    "        checkpoint_callback=callbacks,\n",
    "        max_epochs=MAX_EPOCHS,\n",
    "        default_root_dir=OUTPUT_DIR,\n",
    "        gpus=1,\n",
    "        fast_dev_run=DEBUG,\n",
    "        deterministic=True,\n",
    "        benchmark=True,\n",
    "#         precision=16,\n",
    "#         progress_bar_refresh_rate=0  # vscodeの時progress barの動作が遅いので表示しない\n",
    "        )\n",
    "\n",
    "\n",
    "    trainer.fit(learner, train_dataloader=loaders['train'], val_dataloaders=loaders['valid'])\n",
    "\n",
    "    #############\n",
    "    # validation (to make oof)\n",
    "    #############\n",
    "    model.eval()\n",
    "    oof_x, oof_y, oof_f = evaluate(model, loaders, phase=\"valid\")\n",
    "    val_df[\"oof_x\"] = oof_x\n",
    "    val_df[\"oof_y\"] = oof_y\n",
    "    val_df[\"oof_floor\"] = oof_f\n",
    "    oofs.append(val_df)\n",
    "    \n",
    "    val_score = mean_position_error(\n",
    "        val_df[\"oof_x\"].values, val_df[\"oof_y\"].values, 0,\n",
    "        val_df['x'].values, val_df['y'].values, 0)\n",
    "    val_scores.append(val_score)\n",
    "    print(f\"fold {fold}: mean position error {val_score}\")\n",
    "\n",
    "    #############\n",
    "    # inference\n",
    "    #############\n",
    "    preds_x, preds_y, preds_f = evaluate(model, loaders, phase=\"test\")\n",
    "    test_preds = pd.DataFrame(np.stack((preds_f, preds_x, preds_y))).T\n",
    "    test_preds.columns = sub.columns\n",
    "    test_preds[\"site_path_timestamp\"] = test[\"site_path_timestamp\"]\n",
    "    test_preds[\"floor\"] = test_preds[\"floor\"].astype(int)\n",
    "    predictions.append(test_preds)\n",
    "    "
   ]
  },
  {
   "cell_type": "code",
   "execution_count": 23,
   "metadata": {},
   "outputs": [
    {
     "data": {
      "text/html": [
       "<div>\n",
       "<style scoped>\n",
       "    .dataframe tbody tr th:only-of-type {\n",
       "        vertical-align: middle;\n",
       "    }\n",
       "\n",
       "    .dataframe tbody tr th {\n",
       "        vertical-align: top;\n",
       "    }\n",
       "\n",
       "    .dataframe thead th {\n",
       "        text-align: right;\n",
       "    }\n",
       "</style>\n",
       "<table border=\"1\" class=\"dataframe\">\n",
       "  <thead>\n",
       "    <tr style=\"text-align: right;\">\n",
       "      <th></th>\n",
       "      <th>bssid_0</th>\n",
       "      <th>bssid_1</th>\n",
       "      <th>bssid_2</th>\n",
       "      <th>bssid_3</th>\n",
       "      <th>bssid_4</th>\n",
       "      <th>bssid_5</th>\n",
       "      <th>bssid_6</th>\n",
       "      <th>bssid_7</th>\n",
       "      <th>bssid_8</th>\n",
       "      <th>bssid_9</th>\n",
       "      <th>...</th>\n",
       "      <th>meta_embedding_126</th>\n",
       "      <th>meta_embedding_127</th>\n",
       "      <th>site_id</th>\n",
       "      <th>site_id_str</th>\n",
       "      <th>x</th>\n",
       "      <th>y</th>\n",
       "      <th>floor</th>\n",
       "      <th>oof_x</th>\n",
       "      <th>oof_y</th>\n",
       "      <th>oof_floor</th>\n",
       "    </tr>\n",
       "  </thead>\n",
       "  <tbody>\n",
       "    <tr>\n",
       "      <th>0</th>\n",
       "      <td>54638</td>\n",
       "      <td>6982</td>\n",
       "      <td>8546</td>\n",
       "      <td>26610</td>\n",
       "      <td>28338</td>\n",
       "      <td>37494</td>\n",
       "      <td>2205</td>\n",
       "      <td>25810</td>\n",
       "      <td>39211</td>\n",
       "      <td>20529</td>\n",
       "      <td>...</td>\n",
       "      <td>0.051331</td>\n",
       "      <td>4.612503</td>\n",
       "      <td>0</td>\n",
       "      <td>5a0546857ecc773753327266</td>\n",
       "      <td>192.90768</td>\n",
       "      <td>159.26582</td>\n",
       "      <td>-1.0</td>\n",
       "      <td>193.926163</td>\n",
       "      <td>163.664291</td>\n",
       "      <td>0.0</td>\n",
       "    </tr>\n",
       "    <tr>\n",
       "      <th>1</th>\n",
       "      <td>26610</td>\n",
       "      <td>6982</td>\n",
       "      <td>8546</td>\n",
       "      <td>2205</td>\n",
       "      <td>37494</td>\n",
       "      <td>51325</td>\n",
       "      <td>28338</td>\n",
       "      <td>39211</td>\n",
       "      <td>14273</td>\n",
       "      <td>25810</td>\n",
       "      <td>...</td>\n",
       "      <td>0.051331</td>\n",
       "      <td>4.612503</td>\n",
       "      <td>0</td>\n",
       "      <td>5a0546857ecc773753327266</td>\n",
       "      <td>192.90768</td>\n",
       "      <td>159.26582</td>\n",
       "      <td>-1.0</td>\n",
       "      <td>196.189499</td>\n",
       "      <td>163.070221</td>\n",
       "      <td>0.0</td>\n",
       "    </tr>\n",
       "    <tr>\n",
       "      <th>2</th>\n",
       "      <td>8546</td>\n",
       "      <td>6982</td>\n",
       "      <td>51325</td>\n",
       "      <td>26610</td>\n",
       "      <td>20054</td>\n",
       "      <td>8702</td>\n",
       "      <td>30893</td>\n",
       "      <td>15036</td>\n",
       "      <td>39211</td>\n",
       "      <td>37494</td>\n",
       "      <td>...</td>\n",
       "      <td>0.051331</td>\n",
       "      <td>4.612503</td>\n",
       "      <td>0</td>\n",
       "      <td>5a0546857ecc773753327266</td>\n",
       "      <td>198.36833</td>\n",
       "      <td>163.52063</td>\n",
       "      <td>-1.0</td>\n",
       "      <td>201.423050</td>\n",
       "      <td>162.179520</td>\n",
       "      <td>0.0</td>\n",
       "    </tr>\n",
       "    <tr>\n",
       "      <th>3</th>\n",
       "      <td>6982</td>\n",
       "      <td>51325</td>\n",
       "      <td>26610</td>\n",
       "      <td>8702</td>\n",
       "      <td>30893</td>\n",
       "      <td>20054</td>\n",
       "      <td>39211</td>\n",
       "      <td>11853</td>\n",
       "      <td>15036</td>\n",
       "      <td>54638</td>\n",
       "      <td>...</td>\n",
       "      <td>0.051331</td>\n",
       "      <td>4.612503</td>\n",
       "      <td>0</td>\n",
       "      <td>5a0546857ecc773753327266</td>\n",
       "      <td>198.36833</td>\n",
       "      <td>163.52063</td>\n",
       "      <td>-1.0</td>\n",
       "      <td>197.202621</td>\n",
       "      <td>161.586426</td>\n",
       "      <td>0.0</td>\n",
       "    </tr>\n",
       "    <tr>\n",
       "      <th>4</th>\n",
       "      <td>51325</td>\n",
       "      <td>6982</td>\n",
       "      <td>26610</td>\n",
       "      <td>8702</td>\n",
       "      <td>44925</td>\n",
       "      <td>39211</td>\n",
       "      <td>37494</td>\n",
       "      <td>27631</td>\n",
       "      <td>14273</td>\n",
       "      <td>45777</td>\n",
       "      <td>...</td>\n",
       "      <td>0.051331</td>\n",
       "      <td>4.612503</td>\n",
       "      <td>0</td>\n",
       "      <td>5a0546857ecc773753327266</td>\n",
       "      <td>198.36833</td>\n",
       "      <td>163.52063</td>\n",
       "      <td>-1.0</td>\n",
       "      <td>196.741516</td>\n",
       "      <td>161.040054</td>\n",
       "      <td>0.0</td>\n",
       "    </tr>\n",
       "    <tr>\n",
       "      <th>...</th>\n",
       "      <td>...</td>\n",
       "      <td>...</td>\n",
       "      <td>...</td>\n",
       "      <td>...</td>\n",
       "      <td>...</td>\n",
       "      <td>...</td>\n",
       "      <td>...</td>\n",
       "      <td>...</td>\n",
       "      <td>...</td>\n",
       "      <td>...</td>\n",
       "      <td>...</td>\n",
       "      <td>...</td>\n",
       "      <td>...</td>\n",
       "      <td>...</td>\n",
       "      <td>...</td>\n",
       "      <td>...</td>\n",
       "      <td>...</td>\n",
       "      <td>...</td>\n",
       "      <td>...</td>\n",
       "      <td>...</td>\n",
       "      <td>...</td>\n",
       "    </tr>\n",
       "    <tr>\n",
       "      <th>51620</th>\n",
       "      <td>50465</td>\n",
       "      <td>53733</td>\n",
       "      <td>943</td>\n",
       "      <td>9222</td>\n",
       "      <td>20964</td>\n",
       "      <td>18804</td>\n",
       "      <td>962</td>\n",
       "      <td>35065</td>\n",
       "      <td>52136</td>\n",
       "      <td>14545</td>\n",
       "      <td>...</td>\n",
       "      <td>-0.029009</td>\n",
       "      <td>-1.428691</td>\n",
       "      <td>23</td>\n",
       "      <td>5dc8cea7659e181adb076a3f</td>\n",
       "      <td>132.28098</td>\n",
       "      <td>130.23691</td>\n",
       "      <td>6.0</td>\n",
       "      <td>124.722107</td>\n",
       "      <td>140.181351</td>\n",
       "      <td>0.0</td>\n",
       "    </tr>\n",
       "    <tr>\n",
       "      <th>51621</th>\n",
       "      <td>9222</td>\n",
       "      <td>18804</td>\n",
       "      <td>20964</td>\n",
       "      <td>50465</td>\n",
       "      <td>53733</td>\n",
       "      <td>943</td>\n",
       "      <td>14545</td>\n",
       "      <td>35065</td>\n",
       "      <td>52136</td>\n",
       "      <td>962</td>\n",
       "      <td>...</td>\n",
       "      <td>-0.029009</td>\n",
       "      <td>-1.428691</td>\n",
       "      <td>23</td>\n",
       "      <td>5dc8cea7659e181adb076a3f</td>\n",
       "      <td>122.73780</td>\n",
       "      <td>138.97691</td>\n",
       "      <td>6.0</td>\n",
       "      <td>119.518661</td>\n",
       "      <td>140.719528</td>\n",
       "      <td>0.0</td>\n",
       "    </tr>\n",
       "    <tr>\n",
       "      <th>51622</th>\n",
       "      <td>53733</td>\n",
       "      <td>9222</td>\n",
       "      <td>20964</td>\n",
       "      <td>50465</td>\n",
       "      <td>18804</td>\n",
       "      <td>14545</td>\n",
       "      <td>13391</td>\n",
       "      <td>962</td>\n",
       "      <td>943</td>\n",
       "      <td>35065</td>\n",
       "      <td>...</td>\n",
       "      <td>-0.029009</td>\n",
       "      <td>-1.428691</td>\n",
       "      <td>23</td>\n",
       "      <td>5dc8cea7659e181adb076a3f</td>\n",
       "      <td>122.73780</td>\n",
       "      <td>138.97691</td>\n",
       "      <td>6.0</td>\n",
       "      <td>123.189621</td>\n",
       "      <td>139.716965</td>\n",
       "      <td>0.0</td>\n",
       "    </tr>\n",
       "    <tr>\n",
       "      <th>51623</th>\n",
       "      <td>50465</td>\n",
       "      <td>9222</td>\n",
       "      <td>53733</td>\n",
       "      <td>20964</td>\n",
       "      <td>943</td>\n",
       "      <td>14545</td>\n",
       "      <td>18804</td>\n",
       "      <td>962</td>\n",
       "      <td>29009</td>\n",
       "      <td>35065</td>\n",
       "      <td>...</td>\n",
       "      <td>-0.029009</td>\n",
       "      <td>-1.428691</td>\n",
       "      <td>23</td>\n",
       "      <td>5dc8cea7659e181adb076a3f</td>\n",
       "      <td>122.73780</td>\n",
       "      <td>138.97691</td>\n",
       "      <td>6.0</td>\n",
       "      <td>122.995087</td>\n",
       "      <td>136.257874</td>\n",
       "      <td>0.0</td>\n",
       "    </tr>\n",
       "    <tr>\n",
       "      <th>51624</th>\n",
       "      <td>53733</td>\n",
       "      <td>50465</td>\n",
       "      <td>9222</td>\n",
       "      <td>943</td>\n",
       "      <td>20964</td>\n",
       "      <td>35065</td>\n",
       "      <td>14545</td>\n",
       "      <td>962</td>\n",
       "      <td>18804</td>\n",
       "      <td>13391</td>\n",
       "      <td>...</td>\n",
       "      <td>-0.029009</td>\n",
       "      <td>-1.428691</td>\n",
       "      <td>23</td>\n",
       "      <td>5dc8cea7659e181adb076a3f</td>\n",
       "      <td>122.73780</td>\n",
       "      <td>138.97691</td>\n",
       "      <td>6.0</td>\n",
       "      <td>123.796417</td>\n",
       "      <td>139.215698</td>\n",
       "      <td>0.0</td>\n",
       "    </tr>\n",
       "  </tbody>\n",
       "</table>\n",
       "<p>258125 rows × 296 columns</p>\n",
       "</div>"
      ],
      "text/plain": [
       "       bssid_0  bssid_1  bssid_2  bssid_3  bssid_4  bssid_5  bssid_6  bssid_7  \\\n",
       "0        54638     6982     8546    26610    28338    37494     2205    25810   \n",
       "1        26610     6982     8546     2205    37494    51325    28338    39211   \n",
       "2         8546     6982    51325    26610    20054     8702    30893    15036   \n",
       "3         6982    51325    26610     8702    30893    20054    39211    11853   \n",
       "4        51325     6982    26610     8702    44925    39211    37494    27631   \n",
       "...        ...      ...      ...      ...      ...      ...      ...      ...   \n",
       "51620    50465    53733      943     9222    20964    18804      962    35065   \n",
       "51621     9222    18804    20964    50465    53733      943    14545    35065   \n",
       "51622    53733     9222    20964    50465    18804    14545    13391      962   \n",
       "51623    50465     9222    53733    20964      943    14545    18804      962   \n",
       "51624    53733    50465     9222      943    20964    35065    14545      962   \n",
       "\n",
       "       bssid_8  bssid_9  ...  meta_embedding_126  meta_embedding_127  site_id  \\\n",
       "0        39211    20529  ...            0.051331            4.612503        0   \n",
       "1        14273    25810  ...            0.051331            4.612503        0   \n",
       "2        39211    37494  ...            0.051331            4.612503        0   \n",
       "3        15036    54638  ...            0.051331            4.612503        0   \n",
       "4        14273    45777  ...            0.051331            4.612503        0   \n",
       "...        ...      ...  ...                 ...                 ...      ...   \n",
       "51620    52136    14545  ...           -0.029009           -1.428691       23   \n",
       "51621    52136      962  ...           -0.029009           -1.428691       23   \n",
       "51622      943    35065  ...           -0.029009           -1.428691       23   \n",
       "51623    29009    35065  ...           -0.029009           -1.428691       23   \n",
       "51624    18804    13391  ...           -0.029009           -1.428691       23   \n",
       "\n",
       "                    site_id_str          x          y  floor       oof_x  \\\n",
       "0      5a0546857ecc773753327266  192.90768  159.26582   -1.0  193.926163   \n",
       "1      5a0546857ecc773753327266  192.90768  159.26582   -1.0  196.189499   \n",
       "2      5a0546857ecc773753327266  198.36833  163.52063   -1.0  201.423050   \n",
       "3      5a0546857ecc773753327266  198.36833  163.52063   -1.0  197.202621   \n",
       "4      5a0546857ecc773753327266  198.36833  163.52063   -1.0  196.741516   \n",
       "...                         ...        ...        ...    ...         ...   \n",
       "51620  5dc8cea7659e181adb076a3f  132.28098  130.23691    6.0  124.722107   \n",
       "51621  5dc8cea7659e181adb076a3f  122.73780  138.97691    6.0  119.518661   \n",
       "51622  5dc8cea7659e181adb076a3f  122.73780  138.97691    6.0  123.189621   \n",
       "51623  5dc8cea7659e181adb076a3f  122.73780  138.97691    6.0  122.995087   \n",
       "51624  5dc8cea7659e181adb076a3f  122.73780  138.97691    6.0  123.796417   \n",
       "\n",
       "            oof_y  oof_floor  \n",
       "0      163.664291        0.0  \n",
       "1      163.070221        0.0  \n",
       "2      162.179520        0.0  \n",
       "3      161.586426        0.0  \n",
       "4      161.040054        0.0  \n",
       "...           ...        ...  \n",
       "51620  140.181351        0.0  \n",
       "51621  140.719528        0.0  \n",
       "51622  139.716965        0.0  \n",
       "51623  136.257874        0.0  \n",
       "51624  139.215698        0.0  \n",
       "\n",
       "[258125 rows x 296 columns]"
      ]
     },
     "execution_count": 23,
     "metadata": {},
     "output_type": "execute_result"
    }
   ],
   "source": [
    "if len(oofs) > 1:\n",
    "    oofs_df = pd.concat(oofs)\n",
    "else:\n",
    "    oofs_df = oofs[0]\n",
    "oofs_df.to_csv(str(OUTPUT_DIR) + f\"/oof{EXP_NAME}.csv\", index=False)\n",
    "oofs_df"
   ]
  },
  {
   "cell_type": "code",
   "execution_count": 24,
   "metadata": {},
   "outputs": [
    {
     "data": {
      "text/html": [
       "<div>\n",
       "<style scoped>\n",
       "    .dataframe tbody tr th:only-of-type {\n",
       "        vertical-align: middle;\n",
       "    }\n",
       "\n",
       "    .dataframe tbody tr th {\n",
       "        vertical-align: top;\n",
       "    }\n",
       "\n",
       "    .dataframe thead th {\n",
       "        text-align: right;\n",
       "    }\n",
       "</style>\n",
       "<table border=\"1\" class=\"dataframe\">\n",
       "  <thead>\n",
       "    <tr style=\"text-align: right;\">\n",
       "      <th></th>\n",
       "      <th>floor</th>\n",
       "      <th>x</th>\n",
       "      <th>y</th>\n",
       "    </tr>\n",
       "    <tr>\n",
       "      <th>site_path_timestamp</th>\n",
       "      <th></th>\n",
       "      <th></th>\n",
       "      <th></th>\n",
       "    </tr>\n",
       "  </thead>\n",
       "  <tbody>\n",
       "    <tr>\n",
       "      <th>5a0546857ecc773753327266_046cfa46be49fc10834815c6_0000000000009</th>\n",
       "      <td>0</td>\n",
       "      <td>88.854408</td>\n",
       "      <td>103.942574</td>\n",
       "    </tr>\n",
       "    <tr>\n",
       "      <th>5a0546857ecc773753327266_046cfa46be49fc10834815c6_0000000009017</th>\n",
       "      <td>0</td>\n",
       "      <td>83.410522</td>\n",
       "      <td>103.302513</td>\n",
       "    </tr>\n",
       "    <tr>\n",
       "      <th>5a0546857ecc773753327266_046cfa46be49fc10834815c6_0000000015326</th>\n",
       "      <td>0</td>\n",
       "      <td>85.366631</td>\n",
       "      <td>105.812988</td>\n",
       "    </tr>\n",
       "    <tr>\n",
       "      <th>5a0546857ecc773753327266_046cfa46be49fc10834815c6_0000000018763</th>\n",
       "      <td>0</td>\n",
       "      <td>87.749321</td>\n",
       "      <td>109.142174</td>\n",
       "    </tr>\n",
       "    <tr>\n",
       "      <th>5a0546857ecc773753327266_046cfa46be49fc10834815c6_0000000022328</th>\n",
       "      <td>0</td>\n",
       "      <td>88.467789</td>\n",
       "      <td>108.537033</td>\n",
       "    </tr>\n",
       "    <tr>\n",
       "      <th>...</th>\n",
       "      <td>...</td>\n",
       "      <td>...</td>\n",
       "      <td>...</td>\n",
       "    </tr>\n",
       "    <tr>\n",
       "      <th>5dc8cea7659e181adb076a3f_fd64de8c4a2fc5ebb0e9f412_0000000082589</th>\n",
       "      <td>0</td>\n",
       "      <td>214.188126</td>\n",
       "      <td>92.622536</td>\n",
       "    </tr>\n",
       "    <tr>\n",
       "      <th>5dc8cea7659e181adb076a3f_fd64de8c4a2fc5ebb0e9f412_0000000085758</th>\n",
       "      <td>0</td>\n",
       "      <td>211.900391</td>\n",
       "      <td>102.572655</td>\n",
       "    </tr>\n",
       "    <tr>\n",
       "      <th>5dc8cea7659e181adb076a3f_fd64de8c4a2fc5ebb0e9f412_0000000090895</th>\n",
       "      <td>0</td>\n",
       "      <td>207.876053</td>\n",
       "      <td>105.467430</td>\n",
       "    </tr>\n",
       "    <tr>\n",
       "      <th>5dc8cea7659e181adb076a3f_fd64de8c4a2fc5ebb0e9f412_0000000096899</th>\n",
       "      <td>0</td>\n",
       "      <td>201.374023</td>\n",
       "      <td>111.372955</td>\n",
       "    </tr>\n",
       "    <tr>\n",
       "      <th>5dc8cea7659e181adb076a3f_fd64de8c4a2fc5ebb0e9f412_0000000100447</th>\n",
       "      <td>0</td>\n",
       "      <td>199.661392</td>\n",
       "      <td>110.739685</td>\n",
       "    </tr>\n",
       "  </tbody>\n",
       "</table>\n",
       "<p>10133 rows × 3 columns</p>\n",
       "</div>"
      ],
      "text/plain": [
       "                                                    floor           x  \\\n",
       "site_path_timestamp                                                     \n",
       "5a0546857ecc773753327266_046cfa46be49fc10834815...      0   88.854408   \n",
       "5a0546857ecc773753327266_046cfa46be49fc10834815...      0   83.410522   \n",
       "5a0546857ecc773753327266_046cfa46be49fc10834815...      0   85.366631   \n",
       "5a0546857ecc773753327266_046cfa46be49fc10834815...      0   87.749321   \n",
       "5a0546857ecc773753327266_046cfa46be49fc10834815...      0   88.467789   \n",
       "...                                                   ...         ...   \n",
       "5dc8cea7659e181adb076a3f_fd64de8c4a2fc5ebb0e9f4...      0  214.188126   \n",
       "5dc8cea7659e181adb076a3f_fd64de8c4a2fc5ebb0e9f4...      0  211.900391   \n",
       "5dc8cea7659e181adb076a3f_fd64de8c4a2fc5ebb0e9f4...      0  207.876053   \n",
       "5dc8cea7659e181adb076a3f_fd64de8c4a2fc5ebb0e9f4...      0  201.374023   \n",
       "5dc8cea7659e181adb076a3f_fd64de8c4a2fc5ebb0e9f4...      0  199.661392   \n",
       "\n",
       "                                                             y  \n",
       "site_path_timestamp                                             \n",
       "5a0546857ecc773753327266_046cfa46be49fc10834815...  103.942574  \n",
       "5a0546857ecc773753327266_046cfa46be49fc10834815...  103.302513  \n",
       "5a0546857ecc773753327266_046cfa46be49fc10834815...  105.812988  \n",
       "5a0546857ecc773753327266_046cfa46be49fc10834815...  109.142174  \n",
       "5a0546857ecc773753327266_046cfa46be49fc10834815...  108.537033  \n",
       "...                                                        ...  \n",
       "5dc8cea7659e181adb076a3f_fd64de8c4a2fc5ebb0e9f4...   92.622536  \n",
       "5dc8cea7659e181adb076a3f_fd64de8c4a2fc5ebb0e9f4...  102.572655  \n",
       "5dc8cea7659e181adb076a3f_fd64de8c4a2fc5ebb0e9f4...  105.467430  \n",
       "5dc8cea7659e181adb076a3f_fd64de8c4a2fc5ebb0e9f4...  111.372955  \n",
       "5dc8cea7659e181adb076a3f_fd64de8c4a2fc5ebb0e9f4...  110.739685  \n",
       "\n",
       "[10133 rows x 3 columns]"
      ]
     },
     "execution_count": 24,
     "metadata": {},
     "output_type": "execute_result"
    }
   ],
   "source": [
    "    # foldの結果を平均した後、reindexでsubmission fileにindexを合わせる\n",
    "all_preds = pd.concat(predictions).groupby('site_path_timestamp').mean().reindex(sub.index)\n",
    "\n",
    "all_preds"
   ]
  },
  {
   "cell_type": "code",
   "execution_count": 25,
   "metadata": {},
   "outputs": [
    {
     "data": {
      "text/html": [
       "<div>\n",
       "<style scoped>\n",
       "    .dataframe tbody tr th:only-of-type {\n",
       "        vertical-align: middle;\n",
       "    }\n",
       "\n",
       "    .dataframe tbody tr th {\n",
       "        vertical-align: top;\n",
       "    }\n",
       "\n",
       "    .dataframe thead th {\n",
       "        text-align: right;\n",
       "    }\n",
       "</style>\n",
       "<table border=\"1\" class=\"dataframe\">\n",
       "  <thead>\n",
       "    <tr style=\"text-align: right;\">\n",
       "      <th></th>\n",
       "      <th>floor</th>\n",
       "      <th>x</th>\n",
       "      <th>y</th>\n",
       "    </tr>\n",
       "    <tr>\n",
       "      <th>site_path_timestamp</th>\n",
       "      <th></th>\n",
       "      <th></th>\n",
       "      <th></th>\n",
       "    </tr>\n",
       "  </thead>\n",
       "  <tbody>\n",
       "    <tr>\n",
       "      <th>5a0546857ecc773753327266_046cfa46be49fc10834815c6_0000000000009</th>\n",
       "      <td>0</td>\n",
       "      <td>88.854408</td>\n",
       "      <td>103.942574</td>\n",
       "    </tr>\n",
       "    <tr>\n",
       "      <th>5a0546857ecc773753327266_046cfa46be49fc10834815c6_0000000009017</th>\n",
       "      <td>0</td>\n",
       "      <td>83.410522</td>\n",
       "      <td>103.302513</td>\n",
       "    </tr>\n",
       "    <tr>\n",
       "      <th>5a0546857ecc773753327266_046cfa46be49fc10834815c6_0000000015326</th>\n",
       "      <td>0</td>\n",
       "      <td>85.366631</td>\n",
       "      <td>105.812988</td>\n",
       "    </tr>\n",
       "    <tr>\n",
       "      <th>5a0546857ecc773753327266_046cfa46be49fc10834815c6_0000000018763</th>\n",
       "      <td>0</td>\n",
       "      <td>87.749321</td>\n",
       "      <td>109.142174</td>\n",
       "    </tr>\n",
       "    <tr>\n",
       "      <th>5a0546857ecc773753327266_046cfa46be49fc10834815c6_0000000022328</th>\n",
       "      <td>0</td>\n",
       "      <td>88.467789</td>\n",
       "      <td>108.537033</td>\n",
       "    </tr>\n",
       "    <tr>\n",
       "      <th>...</th>\n",
       "      <td>...</td>\n",
       "      <td>...</td>\n",
       "      <td>...</td>\n",
       "    </tr>\n",
       "    <tr>\n",
       "      <th>5dc8cea7659e181adb076a3f_fd64de8c4a2fc5ebb0e9f412_0000000082589</th>\n",
       "      <td>5</td>\n",
       "      <td>214.188126</td>\n",
       "      <td>92.622536</td>\n",
       "    </tr>\n",
       "    <tr>\n",
       "      <th>5dc8cea7659e181adb076a3f_fd64de8c4a2fc5ebb0e9f412_0000000085758</th>\n",
       "      <td>5</td>\n",
       "      <td>211.900391</td>\n",
       "      <td>102.572655</td>\n",
       "    </tr>\n",
       "    <tr>\n",
       "      <th>5dc8cea7659e181adb076a3f_fd64de8c4a2fc5ebb0e9f412_0000000090895</th>\n",
       "      <td>5</td>\n",
       "      <td>207.876053</td>\n",
       "      <td>105.467430</td>\n",
       "    </tr>\n",
       "    <tr>\n",
       "      <th>5dc8cea7659e181adb076a3f_fd64de8c4a2fc5ebb0e9f412_0000000096899</th>\n",
       "      <td>5</td>\n",
       "      <td>201.374023</td>\n",
       "      <td>111.372955</td>\n",
       "    </tr>\n",
       "    <tr>\n",
       "      <th>5dc8cea7659e181adb076a3f_fd64de8c4a2fc5ebb0e9f412_0000000100447</th>\n",
       "      <td>5</td>\n",
       "      <td>199.661392</td>\n",
       "      <td>110.739685</td>\n",
       "    </tr>\n",
       "  </tbody>\n",
       "</table>\n",
       "<p>10133 rows × 3 columns</p>\n",
       "</div>"
      ],
      "text/plain": [
       "                                                    floor           x  \\\n",
       "site_path_timestamp                                                     \n",
       "5a0546857ecc773753327266_046cfa46be49fc10834815...      0   88.854408   \n",
       "5a0546857ecc773753327266_046cfa46be49fc10834815...      0   83.410522   \n",
       "5a0546857ecc773753327266_046cfa46be49fc10834815...      0   85.366631   \n",
       "5a0546857ecc773753327266_046cfa46be49fc10834815...      0   87.749321   \n",
       "5a0546857ecc773753327266_046cfa46be49fc10834815...      0   88.467789   \n",
       "...                                                   ...         ...   \n",
       "5dc8cea7659e181adb076a3f_fd64de8c4a2fc5ebb0e9f4...      5  214.188126   \n",
       "5dc8cea7659e181adb076a3f_fd64de8c4a2fc5ebb0e9f4...      5  211.900391   \n",
       "5dc8cea7659e181adb076a3f_fd64de8c4a2fc5ebb0e9f4...      5  207.876053   \n",
       "5dc8cea7659e181adb076a3f_fd64de8c4a2fc5ebb0e9f4...      5  201.374023   \n",
       "5dc8cea7659e181adb076a3f_fd64de8c4a2fc5ebb0e9f4...      5  199.661392   \n",
       "\n",
       "                                                             y  \n",
       "site_path_timestamp                                             \n",
       "5a0546857ecc773753327266_046cfa46be49fc10834815...  103.942574  \n",
       "5a0546857ecc773753327266_046cfa46be49fc10834815...  103.302513  \n",
       "5a0546857ecc773753327266_046cfa46be49fc10834815...  105.812988  \n",
       "5a0546857ecc773753327266_046cfa46be49fc10834815...  109.142174  \n",
       "5a0546857ecc773753327266_046cfa46be49fc10834815...  108.537033  \n",
       "...                                                        ...  \n",
       "5dc8cea7659e181adb076a3f_fd64de8c4a2fc5ebb0e9f4...   92.622536  \n",
       "5dc8cea7659e181adb076a3f_fd64de8c4a2fc5ebb0e9f4...  102.572655  \n",
       "5dc8cea7659e181adb076a3f_fd64de8c4a2fc5ebb0e9f4...  105.467430  \n",
       "5dc8cea7659e181adb076a3f_fd64de8c4a2fc5ebb0e9f4...  111.372955  \n",
       "5dc8cea7659e181adb076a3f_fd64de8c4a2fc5ebb0e9f4...  110.739685  \n",
       "\n",
       "[10133 rows x 3 columns]"
      ]
     },
     "execution_count": 25,
     "metadata": {},
     "output_type": "execute_result"
    }
   ],
   "source": [
    "# floorの数値を置換\n",
    "simple_accurate_99 = pd.read_csv('../01/submission.csv')\n",
    "all_preds['floor'] = simple_accurate_99['floor'].values\n",
    "all_preds"
   ]
  },
  {
   "cell_type": "code",
   "execution_count": 26,
   "metadata": {},
   "outputs": [],
   "source": [
    "all_preds.to_csv(str(OUTPUT_DIR) + f\"/sub{EXP_NAME}.csv\")"
   ]
  },
  {
   "cell_type": "code",
   "execution_count": 27,
   "metadata": {},
   "outputs": [
    {
     "name": "stdout",
     "output_type": "stream",
     "text": [
      "CV:8.097317258399848\n"
     ]
    }
   ],
   "source": [
    "print(f\"CV:{np.mean(val_scores)}\")"
   ]
  },
  {
   "cell_type": "code",
   "execution_count": 28,
   "metadata": {},
   "outputs": [
    {
     "data": {
      "text/html": [
       "Finishing last run (ID:1xumcdx3) before initializing another..."
      ],
      "text/plain": [
       "<IPython.core.display.HTML object>"
      ]
     },
     "metadata": {},
     "output_type": "display_data"
    },
    {
     "data": {
      "text/html": [
       "<br/>Waiting for W&B process to finish, PID 13460<br/>Program ended successfully."
      ],
      "text/plain": [
       "<IPython.core.display.HTML object>"
      ]
     },
     "metadata": {},
     "output_type": "display_data"
    },
    {
     "data": {
      "application/vnd.jupyter.widget-view+json": {
       "model_id": "",
       "version_major": 2,
       "version_minor": 0
      },
      "text/plain": [
       "VBox(children=(Label(value=' 0.00MB of 0.00MB uploaded (0.00MB deduped)\\r'), FloatProgress(value=1.0, max=1.0)…"
      ]
     },
     "metadata": {},
     "output_type": "display_data"
    },
    {
     "data": {
      "text/html": [
       "Find user logs for this run at: <code>/home/knikaido/work/Indoor-Location-Navigation/Git/Notebook/20/wandb/run-20210411_010400-1xumcdx3/logs/debug.log</code>"
      ],
      "text/plain": [
       "<IPython.core.display.HTML object>"
      ]
     },
     "metadata": {},
     "output_type": "display_data"
    },
    {
     "data": {
      "text/html": [
       "Find internal logs for this run at: <code>/home/knikaido/work/Indoor-Location-Navigation/Git/Notebook/20/wandb/run-20210411_010400-1xumcdx3/logs/debug-internal.log</code>"
      ],
      "text/plain": [
       "<IPython.core.display.HTML object>"
      ]
     },
     "metadata": {},
     "output_type": "display_data"
    },
    {
     "data": {
      "text/html": [
       "<h3>Run summary:</h3><br/><style>\n",
       "    table.wandb td:nth-child(1) { padding: 0 10px; text-align: right }\n",
       "    </style><table class=\"wandb\">\n",
       "<tr><td>Loss/val</td><td>56.13982</td></tr><tr><td>Loss/xy</td><td>56.13982</td></tr><tr><td>Loss/floor</td><td>4.94001</td></tr><tr><td>MPE/val</td><td>8.11573</td></tr><tr><td>epoch</td><td>49</td></tr><tr><td>trainer/global_step</td><td>645349</td></tr><tr><td>_runtime</td><td>6671</td></tr><tr><td>_timestamp</td><td>1618077314</td></tr><tr><td>_step</td><td>49</td></tr></table>"
      ],
      "text/plain": [
       "<IPython.core.display.HTML object>"
      ]
     },
     "metadata": {},
     "output_type": "display_data"
    },
    {
     "data": {
      "text/html": [
       "<h3>Run history:</h3><br/><style>\n",
       "    table.wandb td:nth-child(1) { padding: 0 10px; text-align: right }\n",
       "    </style><table class=\"wandb\">\n",
       "<tr><td>Loss/val</td><td>█▃▂▁▁▁▁▁▁▁▁▁▁▁▁▁▁▁▁▁▁▁▁▁▁▁▁▁▁▁▁▁▁▁▁▁▁▁▁▁</td></tr><tr><td>Loss/xy</td><td>█▃▂▁▁▁▁▁▁▁▁▁▁▁▁▁▁▁▁▁▁▁▁▁▁▁▁▁▁▁▁▁▁▁▁▁▁▁▁▁</td></tr><tr><td>Loss/floor</td><td>▁▁▁▁▁▁▁▁▁▁▁▁▁▁▁▁▁▁▁▁▁▁▁▁▁▁▁▁▁▁▁▁▁▁▁▁▁▁▁▁</td></tr><tr><td>MPE/val</td><td>█▄▂▂▁▁▁▁▁▁▁▁▁▁▁▁▁▁▁▁▁▁▁▁▁▁▁▁▁▁▁▁▁▁▁▁▁▁▁▁</td></tr><tr><td>epoch</td><td>▁▁▁▁▂▂▂▂▂▃▃▃▃▃▃▄▄▄▄▄▅▅▅▅▅▅▆▆▆▆▆▆▇▇▇▇▇███</td></tr><tr><td>trainer/global_step</td><td>▁▁▁▁▂▂▂▂▂▃▃▃▃▃▃▄▄▄▄▄▅▅▅▅▅▅▆▆▆▆▆▆▇▇▇▇▇███</td></tr><tr><td>_runtime</td><td>▁▁▁▁▂▂▂▂▂▃▃▃▃▃▃▄▄▄▄▄▅▅▅▅▅▅▆▆▆▆▆▆▇▇▇▇▇███</td></tr><tr><td>_timestamp</td><td>▁▁▁▁▂▂▂▂▂▃▃▃▃▃▃▄▄▄▄▄▅▅▅▅▅▅▆▆▆▆▆▆▇▇▇▇▇███</td></tr><tr><td>_step</td><td>▁▁▁▁▂▂▂▂▂▃▃▃▃▃▃▄▄▄▄▄▅▅▅▅▅▅▆▆▆▆▆▆▇▇▇▇▇███</td></tr></table><br/>"
      ],
      "text/plain": [
       "<IPython.core.display.HTML object>"
      ]
     },
     "metadata": {},
     "output_type": "display_data"
    },
    {
     "data": {
      "text/html": [
       "Synced 5 W&B file(s), 1 media file(s), 0 artifact file(s) and 0 other file(s)"
      ],
      "text/plain": [
       "<IPython.core.display.HTML object>"
      ]
     },
     "metadata": {},
     "output_type": "display_data"
    },
    {
     "data": {
      "text/html": [
       "\n",
       "                    <br/>Synced <strong style=\"color:#cdcd00\">likely-universe-143</strong>: <a href=\"https://wandb.ai/sqrt4kaido/Indoor_Location_Navigation/runs/1xumcdx3\" target=\"_blank\">https://wandb.ai/sqrt4kaido/Indoor_Location_Navigation/runs/1xumcdx3</a><br/>\n",
       "                "
      ],
      "text/plain": [
       "<IPython.core.display.HTML object>"
      ]
     },
     "metadata": {},
     "output_type": "display_data"
    },
    {
     "data": {
      "text/html": [
       "...Successfully finished last run (ID:1xumcdx3). Initializing new run:<br/><br/>"
      ],
      "text/plain": [
       "<IPython.core.display.HTML object>"
      ]
     },
     "metadata": {},
     "output_type": "display_data"
    },
    {
     "data": {
      "text/html": [
       "\n",
       "                Tracking run with wandb version 0.10.25<br/>\n",
       "                Syncing run <strong style=\"color:#cdcd00\">sweet-bush-144</strong> to <a href=\"https://wandb.ai\" target=\"_blank\">Weights & Biases</a> <a href=\"https://docs.wandb.com/integrations/jupyter.html\" target=\"_blank\">(Documentation)</a>.<br/>\n",
       "                Project page: <a href=\"https://wandb.ai/sqrt4kaido/Indoor_Location_Navigation\" target=\"_blank\">https://wandb.ai/sqrt4kaido/Indoor_Location_Navigation</a><br/>\n",
       "                Run page: <a href=\"https://wandb.ai/sqrt4kaido/Indoor_Location_Navigation/runs/mot1kfwx\" target=\"_blank\">https://wandb.ai/sqrt4kaido/Indoor_Location_Navigation/runs/mot1kfwx</a><br/>\n",
       "                Run data is saved locally in <code>/home/knikaido/work/Indoor-Location-Navigation/Git/Notebook/20/wandb/run-20210411_025648-mot1kfwx</code><br/><br/>\n",
       "            "
      ],
      "text/plain": [
       "<IPython.core.display.HTML object>"
      ]
     },
     "metadata": {},
     "output_type": "display_data"
    },
    {
     "name": "stderr",
     "output_type": "stream",
     "text": [
      "\u001b[34m\u001b[1mwandb\u001b[0m: \u001b[33mWARNING\u001b[0m Saving files without folders. If you want to preserve sub directories pass base_path to wandb.save, i.e. wandb.save(\"/mnt/folder/file.h5\", base_path=\"/mnt\")\n"
     ]
    },
    {
     "data": {
      "text/html": [
       "<br/>Waiting for W&B process to finish, PID 14136<br/>Program ended successfully."
      ],
      "text/plain": [
       "<IPython.core.display.HTML object>"
      ]
     },
     "metadata": {},
     "output_type": "display_data"
    },
    {
     "data": {
      "application/vnd.jupyter.widget-view+json": {
       "model_id": "",
       "version_major": 2,
       "version_minor": 0
      },
      "text/plain": [
       "VBox(children=(Label(value=' 0.00MB of 0.21MB uploaded (0.00MB deduped)\\r'), FloatProgress(value=0.00297560186…"
      ]
     },
     "metadata": {},
     "output_type": "display_data"
    },
    {
     "data": {
      "text/html": [
       "Find user logs for this run at: <code>/home/knikaido/work/Indoor-Location-Navigation/Git/Notebook/20/wandb/run-20210411_025648-mot1kfwx/logs/debug.log</code>"
      ],
      "text/plain": [
       "<IPython.core.display.HTML object>"
      ]
     },
     "metadata": {},
     "output_type": "display_data"
    },
    {
     "data": {
      "text/html": [
       "Find internal logs for this run at: <code>/home/knikaido/work/Indoor-Location-Navigation/Git/Notebook/20/wandb/run-20210411_025648-mot1kfwx/logs/debug-internal.log</code>"
      ],
      "text/plain": [
       "<IPython.core.display.HTML object>"
      ]
     },
     "metadata": {},
     "output_type": "display_data"
    },
    {
     "data": {
      "text/html": [
       "<h3>Run summary:</h3><br/><style>\n",
       "    table.wandb td:nth-child(1) { padding: 0 10px; text-align: right }\n",
       "    </style><table class=\"wandb\">\n",
       "<tr><td>CV_score</td><td>8.09732</td></tr><tr><td>_runtime</td><td>2</td></tr><tr><td>_timestamp</td><td>1618077413</td></tr><tr><td>_step</td><td>0</td></tr></table>"
      ],
      "text/plain": [
       "<IPython.core.display.HTML object>"
      ]
     },
     "metadata": {},
     "output_type": "display_data"
    },
    {
     "data": {
      "text/html": [
       "<h3>Run history:</h3><br/><style>\n",
       "    table.wandb td:nth-child(1) { padding: 0 10px; text-align: right }\n",
       "    </style><table class=\"wandb\">\n",
       "<tr><td>CV_score</td><td>▁</td></tr><tr><td>_runtime</td><td>▁</td></tr><tr><td>_timestamp</td><td>▁</td></tr><tr><td>_step</td><td>▁</td></tr></table><br/>"
      ],
      "text/plain": [
       "<IPython.core.display.HTML object>"
      ]
     },
     "metadata": {},
     "output_type": "display_data"
    },
    {
     "data": {
      "text/html": [
       "Synced 5 W&B file(s), 0 media file(s), 0 artifact file(s) and 1 other file(s)"
      ],
      "text/plain": [
       "<IPython.core.display.HTML object>"
      ]
     },
     "metadata": {},
     "output_type": "display_data"
    },
    {
     "data": {
      "text/html": [
       "\n",
       "                    <br/>Synced <strong style=\"color:#cdcd00\">sweet-bush-144</strong>: <a href=\"https://wandb.ai/sqrt4kaido/Indoor_Location_Navigation/runs/mot1kfwx\" target=\"_blank\">https://wandb.ai/sqrt4kaido/Indoor_Location_Navigation/runs/mot1kfwx</a><br/>\n",
       "                "
      ],
      "text/plain": [
       "<IPython.core.display.HTML object>"
      ]
     },
     "metadata": {},
     "output_type": "display_data"
    }
   ],
   "source": [
    "wandb.init(project='Indoor_Location_Navigation', entity='sqrt4kaido', group=RUN_NAME, job_type='summary')\n",
    "wandb.run.name = 'summary'\n",
    "wandb.log({'CV_score': np.mean(val_scores)})\n",
    "wandb.save(utils.get_notebook_path())\n",
    "wandb.finish()"
   ]
  },
  {
   "cell_type": "code",
   "execution_count": null,
   "metadata": {},
   "outputs": [],
   "source": []
  }
 ],
 "metadata": {
  "kernelspec": {
   "display_name": "Python 3",
   "language": "python",
   "name": "python3"
  },
  "language_info": {
   "codemirror_mode": {
    "name": "ipython",
    "version": 3
   },
   "file_extension": ".py",
   "mimetype": "text/x-python",
   "name": "python",
   "nbconvert_exporter": "python",
   "pygments_lexer": "ipython3",
   "version": "3.6.13"
  }
 },
 "nbformat": 4,
 "nbformat_minor": 4
}
